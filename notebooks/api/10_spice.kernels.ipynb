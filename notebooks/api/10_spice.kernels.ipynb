{
 "cells": [
  {
   "cell_type": "code",
   "execution_count": null,
   "id": "510d3ff7-3e9c-4e13-8b51-9f17906bd6c2",
   "metadata": {},
   "outputs": [],
   "source": [
    "# | default_exp spice.kernels"
   ]
  },
  {
   "cell_type": "markdown",
   "id": "dcb6ff6a-9ee9-4c86-a2e4-7bbdfa81b7a0",
   "metadata": {},
   "source": [
    "# SPICE Kernels\n",
    "> Tools to manage SPICE kernels"
   ]
  },
  {
   "cell_type": "markdown",
   "id": "58529cf6-6afa-45fc-ad3b-b1d27dd7f68d",
   "metadata": {},
   "source": [
    "## Intro\n",
    "\n",
    "Feature list for this module:\n",
    "\n",
    "* Receive the list of supported datasets for automatic retrieval of archived SPICE kernels\n",
    "  * The supported datasets are tabled here at NAIF: https://naif.jpl.nasa.gov/naif/data_archived.html\n",
    "* Receive the list of required SPICE kernels for a given mission and time range\n",
    "* Automatic download of kernels for a given mission and time range either into a given location or the `planetarypy` local archive.\n",
    "\n",
    "As always in `planetarypy` the general design philosophy is to first develop a management class to give the user full control over all the details, and then add easy-to-use function for the end-user that do the most frequently used things in one go. (See section \"User Functions\")"
   ]
  },
  {
   "cell_type": "code",
   "execution_count": null,
   "id": "3528ec83-7716-45f2-8c19-1b02b9980812",
   "metadata": {},
   "outputs": [
    {
     "data": {
      "text/html": [
       "<script type=\"esms-options\">{\"shimMode\": true}</script><style>*[data-root-id],\n",
       "*[data-root-id] > * {\n",
       "  box-sizing: border-box;\n",
       "  font-family: var(--jp-ui-font-family);\n",
       "  font-size: var(--jp-ui-font-size1);\n",
       "  color: var(--vscode-editor-foreground, var(--jp-ui-font-color1));\n",
       "}\n",
       "\n",
       "/* Override VSCode background color */\n",
       ".cell-output-ipywidget-background:has(\n",
       "    > .cell-output-ipywidget-background > .lm-Widget > *[data-root-id]\n",
       "  ),\n",
       ".cell-output-ipywidget-background:has(> .lm-Widget > *[data-root-id]) {\n",
       "  background-color: transparent !important;\n",
       "}\n",
       "</style>"
      ]
     },
     "metadata": {},
     "output_type": "display_data"
    },
    {
     "data": {
      "application/javascript": "(function(root) {\n  function now() {\n    return new Date();\n  }\n\n  const force = true;\n  const py_version = '3.5.2'.replace('rc', '-rc.').replace('.dev', '-dev.');\n  const reloading = false;\n  const Bokeh = root.Bokeh;\n\n  // Set a timeout for this load but only if we are not already initializing\n  if (typeof (root._bokeh_timeout) === \"undefined\" || (force || !root._bokeh_is_initializing)) {\n    root._bokeh_timeout = Date.now() + 5000;\n    root._bokeh_failed_load = false;\n  }\n\n  function run_callbacks() {\n    try {\n      root._bokeh_onload_callbacks.forEach(function(callback) {\n        if (callback != null)\n          callback();\n      });\n    } finally {\n      delete root._bokeh_onload_callbacks;\n    }\n    console.debug(\"Bokeh: all callbacks have finished\");\n  }\n\n  function load_libs(css_urls, js_urls, js_modules, js_exports, callback) {\n    if (css_urls == null) css_urls = [];\n    if (js_urls == null) js_urls = [];\n    if (js_modules == null) js_modules = [];\n    if (js_exports == null) js_exports = {};\n\n    root._bokeh_onload_callbacks.push(callback);\n\n    if (root._bokeh_is_loading > 0) {\n      // Don't load bokeh if it is still initializing\n      console.debug(\"Bokeh: BokehJS is being loaded, scheduling callback at\", now());\n      return null;\n    } else if (js_urls.length === 0 && js_modules.length === 0 && Object.keys(js_exports).length === 0) {\n      // There is nothing to load\n      run_callbacks();\n      return null;\n    }\n\n    function on_load() {\n      root._bokeh_is_loading--;\n      if (root._bokeh_is_loading === 0) {\n        console.debug(\"Bokeh: all BokehJS libraries/stylesheets loaded\");\n        run_callbacks()\n      }\n    }\n    window._bokeh_on_load = on_load\n\n    function on_error(e) {\n      const src_el = e.srcElement\n      console.error(\"failed to load \" + (src_el.href || src_el.src));\n    }\n\n    const skip = [];\n    if (window.requirejs) {\n      window.requirejs.config({'packages': {}, 'paths': {}, 'shim': {}});\n      root._bokeh_is_loading = css_urls.length + 0;\n    } else {\n      root._bokeh_is_loading = css_urls.length + js_urls.length + js_modules.length + Object.keys(js_exports).length;\n    }\n\n    const existing_stylesheets = []\n    const links = document.getElementsByTagName('link')\n    for (let i = 0; i < links.length; i++) {\n      const link = links[i]\n      if (link.href != null) {\n        existing_stylesheets.push(link.href)\n      }\n    }\n    for (let i = 0; i < css_urls.length; i++) {\n      const url = css_urls[i];\n      const escaped = encodeURI(url)\n      if (existing_stylesheets.indexOf(escaped) !== -1) {\n        on_load()\n        continue;\n      }\n      const element = document.createElement(\"link\");\n      element.onload = on_load;\n      element.onerror = on_error;\n      element.rel = \"stylesheet\";\n      element.type = \"text/css\";\n      element.href = url;\n      console.debug(\"Bokeh: injecting link tag for BokehJS stylesheet: \", url);\n      document.body.appendChild(element);\n    }    var existing_scripts = []\n    const scripts = document.getElementsByTagName('script')\n    for (let i = 0; i < scripts.length; i++) {\n      var script = scripts[i]\n      if (script.src != null) {\n        existing_scripts.push(script.src)\n      }\n    }\n    for (let i = 0; i < js_urls.length; i++) {\n      const url = js_urls[i];\n      const escaped = encodeURI(url)\n      if (skip.indexOf(escaped) !== -1 || existing_scripts.indexOf(escaped) !== -1) {\n        if (!window.requirejs) {\n          on_load();\n        }\n        continue;\n      }\n      const element = document.createElement('script');\n      element.onload = on_load;\n      element.onerror = on_error;\n      element.async = false;\n      element.src = url;\n      console.debug(\"Bokeh: injecting script tag for BokehJS library: \", url);\n      document.head.appendChild(element);\n    }\n    for (let i = 0; i < js_modules.length; i++) {\n      const url = js_modules[i];\n      const escaped = encodeURI(url)\n      if (skip.indexOf(escaped) !== -1 || existing_scripts.indexOf(escaped) !== -1) {\n        if (!window.requirejs) {\n          on_load();\n        }\n        continue;\n      }\n      var element = document.createElement('script');\n      element.onload = on_load;\n      element.onerror = on_error;\n      element.async = false;\n      element.src = url;\n      element.type = \"module\";\n      console.debug(\"Bokeh: injecting script tag for BokehJS library: \", url);\n      document.head.appendChild(element);\n    }\n    for (const name in js_exports) {\n      const url = js_exports[name];\n      const escaped = encodeURI(url)\n      if (skip.indexOf(escaped) >= 0 || root[name] != null) {\n        if (!window.requirejs) {\n          on_load();\n        }\n        continue;\n      }\n      var element = document.createElement('script');\n      element.onerror = on_error;\n      element.async = false;\n      element.type = \"module\";\n      console.debug(\"Bokeh: injecting script tag for BokehJS library: \", url);\n      element.textContent = `\n      import ${name} from \"${url}\"\n      window.${name} = ${name}\n      window._bokeh_on_load()\n      `\n      document.head.appendChild(element);\n    }\n    if (!js_urls.length && !js_modules.length) {\n      on_load()\n    }\n  };\n\n  function inject_raw_css(css) {\n    const element = document.createElement(\"style\");\n    element.appendChild(document.createTextNode(css));\n    document.body.appendChild(element);\n  }\n\n  const js_urls = [\"https://cdn.holoviz.org/panel/1.5.0/dist/bundled/reactiveesm/es-module-shims@^1.10.0/dist/es-module-shims.min.js\", \"https://cdn.bokeh.org/bokeh/release/bokeh-3.5.2.min.js\", \"https://cdn.bokeh.org/bokeh/release/bokeh-gl-3.5.2.min.js\", \"https://cdn.bokeh.org/bokeh/release/bokeh-widgets-3.5.2.min.js\", \"https://cdn.bokeh.org/bokeh/release/bokeh-tables-3.5.2.min.js\", \"https://cdn.holoviz.org/panel/1.5.0/dist/panel.min.js\"];\n  const js_modules = [];\n  const js_exports = {};\n  const css_urls = [];\n  const inline_js = [    function(Bokeh) {\n      Bokeh.set_log_level(\"info\");\n    },\nfunction(Bokeh) {} // ensure no trailing comma for IE\n  ];\n\n  function run_inline_js() {\n    if ((root.Bokeh !== undefined) || (force === true)) {\n      for (let i = 0; i < inline_js.length; i++) {\n        try {\n          inline_js[i].call(root, root.Bokeh);\n        } catch(e) {\n          if (!reloading) {\n            throw e;\n          }\n        }\n      }\n      // Cache old bokeh versions\n      if (Bokeh != undefined && !reloading) {\n        var NewBokeh = root.Bokeh;\n        if (Bokeh.versions === undefined) {\n          Bokeh.versions = new Map();\n        }\n        if (NewBokeh.version !== Bokeh.version) {\n          Bokeh.versions.set(NewBokeh.version, NewBokeh)\n        }\n        root.Bokeh = Bokeh;\n      }\n    } else if (Date.now() < root._bokeh_timeout) {\n      setTimeout(run_inline_js, 100);\n    } else if (!root._bokeh_failed_load) {\n      console.log(\"Bokeh: BokehJS failed to load within specified timeout.\");\n      root._bokeh_failed_load = true;\n    }\n    root._bokeh_is_initializing = false\n  }\n\n  function load_or_wait() {\n    // Implement a backoff loop that tries to ensure we do not load multiple\n    // versions of Bokeh and its dependencies at the same time.\n    // In recent versions we use the root._bokeh_is_initializing flag\n    // to determine whether there is an ongoing attempt to initialize\n    // bokeh, however for backward compatibility we also try to ensure\n    // that we do not start loading a newer (Panel>=1.0 and Bokeh>3) version\n    // before older versions are fully initialized.\n    if (root._bokeh_is_initializing && Date.now() > root._bokeh_timeout) {\n      // If the timeout and bokeh was not successfully loaded we reset\n      // everything and try loading again\n      root._bokeh_timeout = Date.now() + 5000;\n      root._bokeh_is_initializing = false;\n      root._bokeh_onload_callbacks = undefined;\n      root._bokeh_is_loading = 0\n      console.log(\"Bokeh: BokehJS was loaded multiple times but one version failed to initialize.\");\n      load_or_wait();\n    } else if (root._bokeh_is_initializing || (typeof root._bokeh_is_initializing === \"undefined\" && root._bokeh_onload_callbacks !== undefined)) {\n      setTimeout(load_or_wait, 100);\n    } else {\n      root._bokeh_is_initializing = true\n      root._bokeh_onload_callbacks = []\n      const bokeh_loaded = root.Bokeh != null && (root.Bokeh.version === py_version || (root.Bokeh.versions !== undefined && root.Bokeh.versions.has(py_version)));\n      if (!reloading && !bokeh_loaded) {\n        if (root.Bokeh) {\n          root.Bokeh = undefined;\n        }\n        console.debug(\"Bokeh: BokehJS not loaded, scheduling load and callback at\", now());\n      }\n      load_libs(css_urls, js_urls, js_modules, js_exports, function() {\n        console.debug(\"Bokeh: BokehJS plotting callback run at\", now());\n        run_inline_js();\n      });\n    }\n  }\n  // Give older versions of the autoload script a head-start to ensure\n  // they initialize before we start loading newer version.\n  setTimeout(load_or_wait, 100)\n}(window));",
      "application/vnd.holoviews_load.v0+json": ""
     },
     "metadata": {},
     "output_type": "display_data"
    },
    {
     "data": {
      "application/javascript": "\nif ((window.PyViz === undefined) || (window.PyViz instanceof HTMLElement)) {\n  window.PyViz = {comms: {}, comm_status:{}, kernels:{}, receivers: {}, plot_index: []}\n}\n\n\n    function JupyterCommManager() {\n    }\n\n    JupyterCommManager.prototype.register_target = function(plot_id, comm_id, msg_handler) {\n      if (window.comm_manager || ((window.Jupyter !== undefined) && (Jupyter.notebook.kernel != null))) {\n        var comm_manager = window.comm_manager || Jupyter.notebook.kernel.comm_manager;\n        comm_manager.register_target(comm_id, function(comm) {\n          comm.on_msg(msg_handler);\n        });\n      } else if ((plot_id in window.PyViz.kernels) && (window.PyViz.kernels[plot_id])) {\n        window.PyViz.kernels[plot_id].registerCommTarget(comm_id, function(comm) {\n          comm.onMsg = msg_handler;\n        });\n      } else if (typeof google != 'undefined' && google.colab.kernel != null) {\n        google.colab.kernel.comms.registerTarget(comm_id, (comm) => {\n          var messages = comm.messages[Symbol.asyncIterator]();\n          function processIteratorResult(result) {\n            var message = result.value;\n            console.log(message)\n            var content = {data: message.data, comm_id};\n            var buffers = []\n            for (var buffer of message.buffers || []) {\n              buffers.push(new DataView(buffer))\n            }\n            var metadata = message.metadata || {};\n            var msg = {content, buffers, metadata}\n            msg_handler(msg);\n            return messages.next().then(processIteratorResult);\n          }\n          return messages.next().then(processIteratorResult);\n        })\n      }\n    }\n\n    JupyterCommManager.prototype.get_client_comm = function(plot_id, comm_id, msg_handler) {\n      if (comm_id in window.PyViz.comms) {\n        return window.PyViz.comms[comm_id];\n      } else if (window.comm_manager || ((window.Jupyter !== undefined) && (Jupyter.notebook.kernel != null))) {\n        var comm_manager = window.comm_manager || Jupyter.notebook.kernel.comm_manager;\n        var comm = comm_manager.new_comm(comm_id, {}, {}, {}, comm_id);\n        if (msg_handler) {\n          comm.on_msg(msg_handler);\n        }\n      } else if ((plot_id in window.PyViz.kernels) && (window.PyViz.kernels[plot_id])) {\n        var comm = window.PyViz.kernels[plot_id].connectToComm(comm_id);\n        comm.open();\n        if (msg_handler) {\n          comm.onMsg = msg_handler;\n        }\n      } else if (typeof google != 'undefined' && google.colab.kernel != null) {\n        var comm_promise = google.colab.kernel.comms.open(comm_id)\n        comm_promise.then((comm) => {\n          window.PyViz.comms[comm_id] = comm;\n          if (msg_handler) {\n            var messages = comm.messages[Symbol.asyncIterator]();\n            function processIteratorResult(result) {\n              var message = result.value;\n              var content = {data: message.data};\n              var metadata = message.metadata || {comm_id};\n              var msg = {content, metadata}\n              msg_handler(msg);\n              return messages.next().then(processIteratorResult);\n            }\n            return messages.next().then(processIteratorResult);\n          }\n        }) \n        var sendClosure = (data, metadata, buffers, disposeOnDone) => {\n          return comm_promise.then((comm) => {\n            comm.send(data, metadata, buffers, disposeOnDone);\n          });\n        };\n        var comm = {\n          send: sendClosure\n        };\n      }\n      window.PyViz.comms[comm_id] = comm;\n      return comm;\n    }\n    window.PyViz.comm_manager = new JupyterCommManager();\n    \n\n\nvar JS_MIME_TYPE = 'application/javascript';\nvar HTML_MIME_TYPE = 'text/html';\nvar EXEC_MIME_TYPE = 'application/vnd.holoviews_exec.v0+json';\nvar CLASS_NAME = 'output';\n\n/**\n * Render data to the DOM node\n */\nfunction render(props, node) {\n  var div = document.createElement(\"div\");\n  var script = document.createElement(\"script\");\n  node.appendChild(div);\n  node.appendChild(script);\n}\n\n/**\n * Handle when a new output is added\n */\nfunction handle_add_output(event, handle) {\n  var output_area = handle.output_area;\n  var output = handle.output;\n  if ((output.data == undefined) || (!output.data.hasOwnProperty(EXEC_MIME_TYPE))) {\n    return\n  }\n  var id = output.metadata[EXEC_MIME_TYPE][\"id\"];\n  var toinsert = output_area.element.find(\".\" + CLASS_NAME.split(' ')[0]);\n  if (id !== undefined) {\n    var nchildren = toinsert.length;\n    var html_node = toinsert[nchildren-1].children[0];\n    html_node.innerHTML = output.data[HTML_MIME_TYPE];\n    var scripts = [];\n    var nodelist = html_node.querySelectorAll(\"script\");\n    for (var i in nodelist) {\n      if (nodelist.hasOwnProperty(i)) {\n        scripts.push(nodelist[i])\n      }\n    }\n\n    scripts.forEach( function (oldScript) {\n      var newScript = document.createElement(\"script\");\n      var attrs = [];\n      var nodemap = oldScript.attributes;\n      for (var j in nodemap) {\n        if (nodemap.hasOwnProperty(j)) {\n          attrs.push(nodemap[j])\n        }\n      }\n      attrs.forEach(function(attr) { newScript.setAttribute(attr.name, attr.value) });\n      newScript.appendChild(document.createTextNode(oldScript.innerHTML));\n      oldScript.parentNode.replaceChild(newScript, oldScript);\n    });\n    if (JS_MIME_TYPE in output.data) {\n      toinsert[nchildren-1].children[1].textContent = output.data[JS_MIME_TYPE];\n    }\n    output_area._hv_plot_id = id;\n    if ((window.Bokeh !== undefined) && (id in Bokeh.index)) {\n      window.PyViz.plot_index[id] = Bokeh.index[id];\n    } else {\n      window.PyViz.plot_index[id] = null;\n    }\n  } else if (output.metadata[EXEC_MIME_TYPE][\"server_id\"] !== undefined) {\n    var bk_div = document.createElement(\"div\");\n    bk_div.innerHTML = output.data[HTML_MIME_TYPE];\n    var script_attrs = bk_div.children[0].attributes;\n    for (var i = 0; i < script_attrs.length; i++) {\n      toinsert[toinsert.length - 1].childNodes[1].setAttribute(script_attrs[i].name, script_attrs[i].value);\n    }\n    // store reference to server id on output_area\n    output_area._bokeh_server_id = output.metadata[EXEC_MIME_TYPE][\"server_id\"];\n  }\n}\n\n/**\n * Handle when an output is cleared or removed\n */\nfunction handle_clear_output(event, handle) {\n  var id = handle.cell.output_area._hv_plot_id;\n  var server_id = handle.cell.output_area._bokeh_server_id;\n  if (((id === undefined) || !(id in PyViz.plot_index)) && (server_id !== undefined)) { return; }\n  var comm = window.PyViz.comm_manager.get_client_comm(\"hv-extension-comm\", \"hv-extension-comm\", function () {});\n  if (server_id !== null) {\n    comm.send({event_type: 'server_delete', 'id': server_id});\n    return;\n  } else if (comm !== null) {\n    comm.send({event_type: 'delete', 'id': id});\n  }\n  delete PyViz.plot_index[id];\n  if ((window.Bokeh !== undefined) & (id in window.Bokeh.index)) {\n    var doc = window.Bokeh.index[id].model.document\n    doc.clear();\n    const i = window.Bokeh.documents.indexOf(doc);\n    if (i > -1) {\n      window.Bokeh.documents.splice(i, 1);\n    }\n  }\n}\n\n/**\n * Handle kernel restart event\n */\nfunction handle_kernel_cleanup(event, handle) {\n  delete PyViz.comms[\"hv-extension-comm\"];\n  window.PyViz.plot_index = {}\n}\n\n/**\n * Handle update_display_data messages\n */\nfunction handle_update_output(event, handle) {\n  handle_clear_output(event, {cell: {output_area: handle.output_area}})\n  handle_add_output(event, handle)\n}\n\nfunction register_renderer(events, OutputArea) {\n  function append_mime(data, metadata, element) {\n    // create a DOM node to render to\n    var toinsert = this.create_output_subarea(\n    metadata,\n    CLASS_NAME,\n    EXEC_MIME_TYPE\n    );\n    this.keyboard_manager.register_events(toinsert);\n    // Render to node\n    var props = {data: data, metadata: metadata[EXEC_MIME_TYPE]};\n    render(props, toinsert[0]);\n    element.append(toinsert);\n    return toinsert\n  }\n\n  events.on('output_added.OutputArea', handle_add_output);\n  events.on('output_updated.OutputArea', handle_update_output);\n  events.on('clear_output.CodeCell', handle_clear_output);\n  events.on('delete.Cell', handle_clear_output);\n  events.on('kernel_ready.Kernel', handle_kernel_cleanup);\n\n  OutputArea.prototype.register_mime_type(EXEC_MIME_TYPE, append_mime, {\n    safe: true,\n    index: 0\n  });\n}\n\nif (window.Jupyter !== undefined) {\n  try {\n    var events = require('base/js/events');\n    var OutputArea = require('notebook/js/outputarea').OutputArea;\n    if (OutputArea.prototype.mime_types().indexOf(EXEC_MIME_TYPE) == -1) {\n      register_renderer(events, OutputArea);\n    }\n  } catch(err) {\n  }\n}\n",
      "application/vnd.holoviews_load.v0+json": ""
     },
     "metadata": {},
     "output_type": "display_data"
    },
    {
     "data": {
      "application/vnd.holoviews_exec.v0+json": "",
      "text/html": [
       "<div id='p1002'>\n",
       "  <div id=\"d1693e65-97ca-4971-b8b2-0fd157bb53f5\" data-root-id=\"p1002\" style=\"display: contents;\"></div>\n",
       "</div>\n",
       "<script type=\"application/javascript\">(function(root) {\n",
       "  var docs_json = {\"5040485b-15e3-477a-981b-c03676e87a08\":{\"version\":\"3.5.2\",\"title\":\"Bokeh Application\",\"roots\":[{\"type\":\"object\",\"name\":\"panel.models.browser.BrowserInfo\",\"id\":\"p1002\"},{\"type\":\"object\",\"name\":\"panel.models.comm_manager.CommManager\",\"id\":\"p1003\",\"attributes\":{\"plot_id\":\"p1002\",\"comm_id\":\"aa3b578d3fce4091b16ef934847c456b\",\"client_comm_id\":\"cde3c74dc4584a179729657494978580\"}}],\"defs\":[{\"type\":\"model\",\"name\":\"ReactiveHTML1\"},{\"type\":\"model\",\"name\":\"FlexBox1\",\"properties\":[{\"name\":\"align_content\",\"kind\":\"Any\",\"default\":\"flex-start\"},{\"name\":\"align_items\",\"kind\":\"Any\",\"default\":\"flex-start\"},{\"name\":\"flex_direction\",\"kind\":\"Any\",\"default\":\"row\"},{\"name\":\"flex_wrap\",\"kind\":\"Any\",\"default\":\"wrap\"},{\"name\":\"gap\",\"kind\":\"Any\",\"default\":\"\"},{\"name\":\"justify_content\",\"kind\":\"Any\",\"default\":\"flex-start\"}]},{\"type\":\"model\",\"name\":\"FloatPanel1\",\"properties\":[{\"name\":\"config\",\"kind\":\"Any\",\"default\":{\"type\":\"map\"}},{\"name\":\"contained\",\"kind\":\"Any\",\"default\":true},{\"name\":\"position\",\"kind\":\"Any\",\"default\":\"right-top\"},{\"name\":\"offsetx\",\"kind\":\"Any\",\"default\":null},{\"name\":\"offsety\",\"kind\":\"Any\",\"default\":null},{\"name\":\"theme\",\"kind\":\"Any\",\"default\":\"primary\"},{\"name\":\"status\",\"kind\":\"Any\",\"default\":\"normalized\"}]},{\"type\":\"model\",\"name\":\"GridStack1\",\"properties\":[{\"name\":\"mode\",\"kind\":\"Any\",\"default\":\"warn\"},{\"name\":\"ncols\",\"kind\":\"Any\",\"default\":null},{\"name\":\"nrows\",\"kind\":\"Any\",\"default\":null},{\"name\":\"allow_resize\",\"kind\":\"Any\",\"default\":true},{\"name\":\"allow_drag\",\"kind\":\"Any\",\"default\":true},{\"name\":\"state\",\"kind\":\"Any\",\"default\":[]}]},{\"type\":\"model\",\"name\":\"drag1\",\"properties\":[{\"name\":\"slider_width\",\"kind\":\"Any\",\"default\":5},{\"name\":\"slider_color\",\"kind\":\"Any\",\"default\":\"black\"},{\"name\":\"value\",\"kind\":\"Any\",\"default\":50}]},{\"type\":\"model\",\"name\":\"click1\",\"properties\":[{\"name\":\"terminal_output\",\"kind\":\"Any\",\"default\":\"\"},{\"name\":\"debug_name\",\"kind\":\"Any\",\"default\":\"\"},{\"name\":\"clears\",\"kind\":\"Any\",\"default\":0}]},{\"type\":\"model\",\"name\":\"FastWrapper1\",\"properties\":[{\"name\":\"object\",\"kind\":\"Any\",\"default\":null},{\"name\":\"style\",\"kind\":\"Any\",\"default\":null}]},{\"type\":\"model\",\"name\":\"NotificationAreaBase1\",\"properties\":[{\"name\":\"js_events\",\"kind\":\"Any\",\"default\":{\"type\":\"map\"}},{\"name\":\"position\",\"kind\":\"Any\",\"default\":\"bottom-right\"},{\"name\":\"_clear\",\"kind\":\"Any\",\"default\":0}]},{\"type\":\"model\",\"name\":\"NotificationArea1\",\"properties\":[{\"name\":\"js_events\",\"kind\":\"Any\",\"default\":{\"type\":\"map\"}},{\"name\":\"notifications\",\"kind\":\"Any\",\"default\":[]},{\"name\":\"position\",\"kind\":\"Any\",\"default\":\"bottom-right\"},{\"name\":\"_clear\",\"kind\":\"Any\",\"default\":0},{\"name\":\"types\",\"kind\":\"Any\",\"default\":[{\"type\":\"map\",\"entries\":[[\"type\",\"warning\"],[\"background\",\"#ffc107\"],[\"icon\",{\"type\":\"map\",\"entries\":[[\"className\",\"fas fa-exclamation-triangle\"],[\"tagName\",\"i\"],[\"color\",\"white\"]]}]]},{\"type\":\"map\",\"entries\":[[\"type\",\"info\"],[\"background\",\"#007bff\"],[\"icon\",{\"type\":\"map\",\"entries\":[[\"className\",\"fas fa-info-circle\"],[\"tagName\",\"i\"],[\"color\",\"white\"]]}]]}]}]},{\"type\":\"model\",\"name\":\"Notification\",\"properties\":[{\"name\":\"background\",\"kind\":\"Any\",\"default\":null},{\"name\":\"duration\",\"kind\":\"Any\",\"default\":3000},{\"name\":\"icon\",\"kind\":\"Any\",\"default\":null},{\"name\":\"message\",\"kind\":\"Any\",\"default\":\"\"},{\"name\":\"notification_type\",\"kind\":\"Any\",\"default\":null},{\"name\":\"_destroyed\",\"kind\":\"Any\",\"default\":false}]},{\"type\":\"model\",\"name\":\"TemplateActions1\",\"properties\":[{\"name\":\"open_modal\",\"kind\":\"Any\",\"default\":0},{\"name\":\"close_modal\",\"kind\":\"Any\",\"default\":0}]},{\"type\":\"model\",\"name\":\"BootstrapTemplateActions1\",\"properties\":[{\"name\":\"open_modal\",\"kind\":\"Any\",\"default\":0},{\"name\":\"close_modal\",\"kind\":\"Any\",\"default\":0}]},{\"type\":\"model\",\"name\":\"TemplateEditor1\",\"properties\":[{\"name\":\"layout\",\"kind\":\"Any\",\"default\":[]}]},{\"type\":\"model\",\"name\":\"MaterialTemplateActions1\",\"properties\":[{\"name\":\"open_modal\",\"kind\":\"Any\",\"default\":0},{\"name\":\"close_modal\",\"kind\":\"Any\",\"default\":0}]},{\"type\":\"model\",\"name\":\"ReactiveESM1\"},{\"type\":\"model\",\"name\":\"JSComponent1\"},{\"type\":\"model\",\"name\":\"ReactComponent1\"},{\"type\":\"model\",\"name\":\"AnyWidgetComponent1\"},{\"type\":\"model\",\"name\":\"request_value1\",\"properties\":[{\"name\":\"fill\",\"kind\":\"Any\",\"default\":\"none\"},{\"name\":\"_synced\",\"kind\":\"Any\",\"default\":null},{\"name\":\"_request_sync\",\"kind\":\"Any\",\"default\":0}]}]}};\n",
       "  var render_items = [{\"docid\":\"5040485b-15e3-477a-981b-c03676e87a08\",\"roots\":{\"p1002\":\"d1693e65-97ca-4971-b8b2-0fd157bb53f5\"},\"root_ids\":[\"p1002\"]}];\n",
       "  var docs = Object.values(docs_json)\n",
       "  if (!docs) {\n",
       "    return\n",
       "  }\n",
       "  const py_version = docs[0].version.replace('rc', '-rc.').replace('.dev', '-dev.')\n",
       "  async function embed_document(root) {\n",
       "    var Bokeh = get_bokeh(root)\n",
       "    await Bokeh.embed.embed_items_notebook(docs_json, render_items);\n",
       "    for (const render_item of render_items) {\n",
       "      for (const root_id of render_item.root_ids) {\n",
       "\tconst id_el = document.getElementById(root_id)\n",
       "\tif (id_el.children.length && id_el.children[0].hasAttribute('data-root-id')) {\n",
       "\t  const root_el = id_el.children[0]\n",
       "\t  root_el.id = root_el.id + '-rendered'\n",
       "\t  for (const child of root_el.children) {\n",
       "            // Ensure JupyterLab does not capture keyboard shortcuts\n",
       "            // see: https://jupyterlab.readthedocs.io/en/4.1.x/extension/notebook.html#keyboard-interaction-model\n",
       "\t    child.setAttribute('data-lm-suppress-shortcuts', 'true')\n",
       "\t  }\n",
       "\t}\n",
       "      }\n",
       "    }\n",
       "  }\n",
       "  function get_bokeh(root) {\n",
       "    if (root.Bokeh === undefined) {\n",
       "      return null\n",
       "    } else if (root.Bokeh.version !== py_version) {\n",
       "      if (root.Bokeh.versions === undefined || !root.Bokeh.versions.has(py_version)) {\n",
       "\treturn null\n",
       "      }\n",
       "      return root.Bokeh.versions.get(py_version);\n",
       "    } else if (root.Bokeh.version === py_version) {\n",
       "      return root.Bokeh\n",
       "    }\n",
       "    return null\n",
       "  }\n",
       "  function is_loaded(root) {\n",
       "    var Bokeh = get_bokeh(root)\n",
       "    return (Bokeh != null && Bokeh.Panel !== undefined)\n",
       "  }\n",
       "  if (is_loaded(root)) {\n",
       "    embed_document(root);\n",
       "  } else {\n",
       "    var attempts = 0;\n",
       "    var timer = setInterval(function(root) {\n",
       "      if (is_loaded(root)) {\n",
       "        clearInterval(timer);\n",
       "        embed_document(root);\n",
       "      } else if (document.readyState == \"complete\") {\n",
       "        attempts++;\n",
       "        if (attempts > 200) {\n",
       "          clearInterval(timer);\n",
       "\t  var Bokeh = get_bokeh(root)\n",
       "\t  if (Bokeh == null || Bokeh.Panel == null) {\n",
       "            console.warn(\"Panel: ERROR: Unable to run Panel code because Bokeh or Panel library is missing\");\n",
       "\t  } else {\n",
       "\t    console.warn(\"Panel: WARNING: Attempting to render but not all required libraries could be resolved.\")\n",
       "\t    embed_document(root)\n",
       "\t  }\n",
       "        }\n",
       "      }\n",
       "    }, 25, root)\n",
       "  }\n",
       "})(window);</script>"
      ]
     },
     "metadata": {
      "application/vnd.holoviews_exec.v0+json": {
       "id": "p1002"
      }
     },
     "output_type": "display_data"
    }
   ],
   "source": [
    "# | export\n",
    "import zipfile\n",
    "from datetime import timedelta\n",
    "from io import BytesIO\n",
    "from itertools import repeat\n",
    "from multiprocessing import cpu_count\n",
    "from pathlib import Path\n",
    "\n",
    "import hvplot.pandas  # noqa\n",
    "import pandas as pd\n",
    "import requests\n",
    "import spiceypy as spice\n",
    "from astropy.time import Time\n",
    "from dask.distributed import Client\n",
    "from fastcore.test import test_fail\n",
    "from fastcore.utils import store_attr\n",
    "from tqdm.auto import tqdm\n",
    "from tqdm.contrib.concurrent import process_map\n",
    "from yarl import URL\n",
    "\n",
    "from planetarypy.config import config\n",
    "from planetarypy.utils import nasa_time_to_iso, url_retrieve"
   ]
  },
  {
   "cell_type": "code",
   "execution_count": null,
   "id": "241ffdca",
   "metadata": {},
   "outputs": [],
   "source": [
    "# | hide\n",
    "from nbdev.showdoc import show_doc"
   ]
  },
  {
   "cell_type": "code",
   "execution_count": null,
   "id": "f96077c8-c27e-47ce-8246-6120fd3bbf2e",
   "metadata": {},
   "outputs": [],
   "source": [
    "# | export\n",
    "KERNEL_STORAGE = config.storage_root / \"spice_kernels\"\n",
    "KERNEL_STORAGE.mkdir(exist_ok=True, parents=True)"
   ]
  },
  {
   "cell_type": "code",
   "execution_count": null,
   "id": "1558e311-d97c-42e0-a59b-4bc7172dad00",
   "metadata": {},
   "outputs": [],
   "source": [
    "# | export\n",
    "NAIF_URL = URL(\"https://naif.jpl.nasa.gov\")\n",
    "BASE_URL = NAIF_URL / \"cgi-bin/subsetds.pl\""
   ]
  },
  {
   "cell_type": "markdown",
   "id": "936ab2e1-8af9-49e3-b28d-0648ca55e150",
   "metadata": {},
   "source": [
    "## Identifying and downloading kernel sets\n",
    "\n",
    "One repeating task for SPICE calculations is the identification and retrieval of all SPICE kernels for a mission for a given time interval.\n",
    "\n",
    "The folks at NAIF offer a \"Subset\" feature at their servers.\n",
    "Here we set up a table of the currently supported datasets."
   ]
  },
  {
   "cell_type": "code",
   "execution_count": null,
   "id": "8207fc31",
   "metadata": {},
   "outputs": [],
   "source": [
    "# | export\n",
    "datasets_url = \"https://raw.githubusercontent.com/planetarypy/planetarypy_configs/main/archived_spice_kernel_sets.csv\""
   ]
  },
  {
   "cell_type": "code",
   "execution_count": null,
   "id": "4f97d14e",
   "metadata": {},
   "outputs": [],
   "source": [
    "# | export\n",
    "datasets = pd.read_csv(datasets_url).set_index(\"shorthand\")"
   ]
  },
  {
   "cell_type": "code",
   "execution_count": null,
   "id": "9e9eb278-d5b7-4aa8-9452-a74461045178",
   "metadata": {},
   "outputs": [
    {
     "data": {
      "text/html": [
       "<div>\n",
       "<style scoped>\n",
       "    .dataframe tbody tr th:only-of-type {\n",
       "        vertical-align: middle;\n",
       "    }\n",
       "\n",
       "    .dataframe tbody tr th {\n",
       "        vertical-align: top;\n",
       "    }\n",
       "\n",
       "    .dataframe thead th {\n",
       "        text-align: right;\n",
       "    }\n",
       "</style>\n",
       "<table border=\"1\" class=\"dataframe\">\n",
       "  <thead>\n",
       "    <tr style=\"text-align: right;\">\n",
       "      <th></th>\n",
       "      <th>path</th>\n",
       "      <th>Mission Name</th>\n",
       "      <th>PDS3 or PDS4</th>\n",
       "      <th>Data Size (GB)</th>\n",
       "      <th>Start Time</th>\n",
       "      <th>Stop Time</th>\n",
       "    </tr>\n",
       "    <tr>\n",
       "      <th>shorthand</th>\n",
       "      <th></th>\n",
       "      <th></th>\n",
       "      <th></th>\n",
       "      <th></th>\n",
       "      <th></th>\n",
       "      <th></th>\n",
       "    </tr>\n",
       "  </thead>\n",
       "  <tbody>\n",
       "    <tr>\n",
       "      <th>bc</th>\n",
       "      <td>bc/bc_spice</td>\n",
       "      <td>BepiColombo</td>\n",
       "      <td>4</td>\n",
       "      <td>2.6</td>\n",
       "      <td>2018-10-20</td>\n",
       "      <td>2024-01-01</td>\n",
       "    </tr>\n",
       "    <tr>\n",
       "      <th>cassini</th>\n",
       "      <td>co-s_j_e_v-spice-6-v1.0/cosp_1000</td>\n",
       "      <td>Cassini Orbiter</td>\n",
       "      <td>3</td>\n",
       "      <td>73.5</td>\n",
       "      <td>1997-10-15</td>\n",
       "      <td>2017-09-15</td>\n",
       "    </tr>\n",
       "    <tr>\n",
       "      <th>clementine</th>\n",
       "      <td>clem1-l-spice-6-v1.0/clsp_1000</td>\n",
       "      <td>Clementine</td>\n",
       "      <td>3</td>\n",
       "      <td>0.8</td>\n",
       "      <td>1994-01-26</td>\n",
       "      <td>1994-05-07</td>\n",
       "    </tr>\n",
       "    <tr>\n",
       "      <th>dart</th>\n",
       "      <td>dart/dart_spice</td>\n",
       "      <td>DART</td>\n",
       "      <td>4</td>\n",
       "      <td>10.1</td>\n",
       "      <td>2021-11-09</td>\n",
       "      <td>2050-01-01</td>\n",
       "    </tr>\n",
       "    <tr>\n",
       "      <th>dawn</th>\n",
       "      <td>dawn-m_a-spice-6-v1.0/dawnsp_1000</td>\n",
       "      <td>DAWN</td>\n",
       "      <td>3</td>\n",
       "      <td>86.4</td>\n",
       "      <td>2007-09-27</td>\n",
       "      <td>2018-10-31</td>\n",
       "    </tr>\n",
       "    <tr>\n",
       "      <th>di</th>\n",
       "      <td>di-c-spice-6-v1.0/disp_1000</td>\n",
       "      <td>Deep Impact</td>\n",
       "      <td>3</td>\n",
       "      <td>0.7</td>\n",
       "      <td>2005-01-12</td>\n",
       "      <td>2005-08-09</td>\n",
       "    </tr>\n",
       "    <tr>\n",
       "      <th>ds1</th>\n",
       "      <td>ds1-a_c-spice-6-v1.0/ds1sp_1000</td>\n",
       "      <td>Deep Space 1</td>\n",
       "      <td>3</td>\n",
       "      <td>0.9</td>\n",
       "      <td>1998-10-24</td>\n",
       "      <td>2001-12-18</td>\n",
       "    </tr>\n",
       "    <tr>\n",
       "      <th>epoxi</th>\n",
       "      <td>dif-c_e_x-spice-6-v1.0/epxsp_1000</td>\n",
       "      <td>EPOXI</td>\n",
       "      <td>3</td>\n",
       "      <td>1.0</td>\n",
       "      <td>2005-08-23</td>\n",
       "      <td>2011-03-01</td>\n",
       "    </tr>\n",
       "    <tr>\n",
       "      <th>em16</th>\n",
       "      <td>em16/em16_spice</td>\n",
       "      <td>ExoMars TGO 2016</td>\n",
       "      <td>4</td>\n",
       "      <td>11.0</td>\n",
       "      <td>2016-03-14</td>\n",
       "      <td>2024-01-01</td>\n",
       "    </tr>\n",
       "    <tr>\n",
       "      <th>grail</th>\n",
       "      <td>grail-l-spice-6-v1.0/grlsp_1000</td>\n",
       "      <td>GRAIL</td>\n",
       "      <td>3</td>\n",
       "      <td>4.3</td>\n",
       "      <td>2011-09-10</td>\n",
       "      <td>2012-12-17</td>\n",
       "    </tr>\n",
       "    <tr>\n",
       "      <th>hayabusa</th>\n",
       "      <td>hay-a-spice-6-v1.0/haysp_1000</td>\n",
       "      <td>Hayabusa</td>\n",
       "      <td>3</td>\n",
       "      <td>0.3</td>\n",
       "      <td>2005-09-11</td>\n",
       "      <td>2005-11-19</td>\n",
       "    </tr>\n",
       "    <tr>\n",
       "      <th>insight</th>\n",
       "      <td>insight/insight_spice</td>\n",
       "      <td>InSight</td>\n",
       "      <td>4</td>\n",
       "      <td>0.9</td>\n",
       "      <td>2018-05-05</td>\n",
       "      <td>2022-12-15</td>\n",
       "    </tr>\n",
       "    <tr>\n",
       "      <th>juno</th>\n",
       "      <td>jno-j_e_ss-spice-6-v1.0/jnosp_1000</td>\n",
       "      <td>JUNO</td>\n",
       "      <td>3</td>\n",
       "      <td>48.9</td>\n",
       "      <td>2011-08-05</td>\n",
       "      <td>2023-07-31</td>\n",
       "    </tr>\n",
       "    <tr>\n",
       "      <th>ladee</th>\n",
       "      <td>ladee/ladee_spice</td>\n",
       "      <td>LADEE</td>\n",
       "      <td>4</td>\n",
       "      <td>0.6</td>\n",
       "      <td>2013-09-07</td>\n",
       "      <td>2050-01-01</td>\n",
       "    </tr>\n",
       "    <tr>\n",
       "      <th>lro</th>\n",
       "      <td>lro-l-spice-6-v1.0/lrosp_1000</td>\n",
       "      <td>Lunar Reconnaissance Orbiter</td>\n",
       "      <td>3</td>\n",
       "      <td>627.5</td>\n",
       "      <td>2009-06-18</td>\n",
       "      <td>2023-12-15</td>\n",
       "    </tr>\n",
       "    <tr>\n",
       "      <th>maven</th>\n",
       "      <td>maven/maven_spice</td>\n",
       "      <td>MAVEN</td>\n",
       "      <td>4</td>\n",
       "      <td>57.6</td>\n",
       "      <td>2013-11-18</td>\n",
       "      <td>2024-01-01</td>\n",
       "    </tr>\n",
       "    <tr>\n",
       "      <th>opportunity</th>\n",
       "      <td>mer1-m-spice-6-v1.0/mer1sp_1000</td>\n",
       "      <td>MER 1 (Opportunity)</td>\n",
       "      <td>3</td>\n",
       "      <td>4.1</td>\n",
       "      <td>2003-07-07</td>\n",
       "      <td>2018-06-10</td>\n",
       "    </tr>\n",
       "    <tr>\n",
       "      <th>spirit</th>\n",
       "      <td>mer2-m-spice-6-v1.0/mer2sp_1000</td>\n",
       "      <td>MER 2 (Spirit)</td>\n",
       "      <td>3</td>\n",
       "      <td>2.6</td>\n",
       "      <td>2003-06-10</td>\n",
       "      <td>2010-05-03</td>\n",
       "    </tr>\n",
       "    <tr>\n",
       "      <th>messenger</th>\n",
       "      <td>mess-e_v_h-spice-6-v1.0/messsp_1000</td>\n",
       "      <td>MESSENGER</td>\n",
       "      <td>3</td>\n",
       "      <td>44.8</td>\n",
       "      <td>2004-08-03</td>\n",
       "      <td>2015-04-30</td>\n",
       "    </tr>\n",
       "    <tr>\n",
       "      <th>mars2020</th>\n",
       "      <td>mars2020/mars2020_spice</td>\n",
       "      <td>Mars 2020</td>\n",
       "      <td>4</td>\n",
       "      <td>0.7</td>\n",
       "      <td>2020-07-30</td>\n",
       "      <td>2024-01-02</td>\n",
       "    </tr>\n",
       "    <tr>\n",
       "      <th>mex</th>\n",
       "      <td>mex-e_m-spice-6-v2.0/mexsp_2000</td>\n",
       "      <td>Mars Express</td>\n",
       "      <td>3</td>\n",
       "      <td>11.0</td>\n",
       "      <td>2003-06-02</td>\n",
       "      <td>2023-12-31</td>\n",
       "    </tr>\n",
       "    <tr>\n",
       "      <th>mgs</th>\n",
       "      <td>mgs-m-spice-6-v1.0/mgsp_1000</td>\n",
       "      <td>Mars Global Surveyor</td>\n",
       "      <td>3</td>\n",
       "      <td>15.4</td>\n",
       "      <td>1996-11-06</td>\n",
       "      <td>2006-11-02</td>\n",
       "    </tr>\n",
       "    <tr>\n",
       "      <th>ody</th>\n",
       "      <td>ody-m-spice-6-v1.0/odsp_1000</td>\n",
       "      <td>Mars Odyssey</td>\n",
       "      <td>3</td>\n",
       "      <td>35.8</td>\n",
       "      <td>2001-04-07</td>\n",
       "      <td>2023-10-01</td>\n",
       "    </tr>\n",
       "    <tr>\n",
       "      <th>mro</th>\n",
       "      <td>mro-m-spice-6-v1.0/mrosp_1000</td>\n",
       "      <td>Mars Reconnaissance Orbiter</td>\n",
       "      <td>3</td>\n",
       "      <td>329.2</td>\n",
       "      <td>2005-08-12</td>\n",
       "      <td>2024-01-01</td>\n",
       "    </tr>\n",
       "    <tr>\n",
       "      <th>msl</th>\n",
       "      <td>msl-m-spice-6-v1.0/mslsp_1000</td>\n",
       "      <td>Mars Science Laboratory</td>\n",
       "      <td>3</td>\n",
       "      <td>0.7</td>\n",
       "      <td>2011-11-26</td>\n",
       "      <td>2023-11-06</td>\n",
       "    </tr>\n",
       "    <tr>\n",
       "      <th>near</th>\n",
       "      <td>near-a-spice-6-v1.0/nearsp_1000</td>\n",
       "      <td>NEAR</td>\n",
       "      <td>3</td>\n",
       "      <td>2.4</td>\n",
       "      <td>1996-05-30</td>\n",
       "      <td>2001-02-28</td>\n",
       "    </tr>\n",
       "    <tr>\n",
       "      <th>nh</th>\n",
       "      <td>nh-j_p_ss-spice-6-v1.0/nhsp_1000</td>\n",
       "      <td>New Horizons</td>\n",
       "      <td>3</td>\n",
       "      <td>1.7</td>\n",
       "      <td>2006-01-19</td>\n",
       "      <td>2022-06-01</td>\n",
       "    </tr>\n",
       "    <tr>\n",
       "      <th>orex</th>\n",
       "      <td>orex/orex_spice</td>\n",
       "      <td>OSIRIS-REx</td>\n",
       "      <td>4</td>\n",
       "      <td>424.7</td>\n",
       "      <td>2016-09-08</td>\n",
       "      <td>2023-10-02</td>\n",
       "    </tr>\n",
       "    <tr>\n",
       "      <th>rosetta</th>\n",
       "      <td>ro_rl-e_m_a_c-spice-6-v1.0/rossp_1000</td>\n",
       "      <td>Rosetta</td>\n",
       "      <td>3</td>\n",
       "      <td>5.9</td>\n",
       "      <td>2004-03-02</td>\n",
       "      <td>2017-01-01</td>\n",
       "    </tr>\n",
       "    <tr>\n",
       "      <th>stardust</th>\n",
       "      <td>sdu-c-spice-6-v1.0/sdsp_1000</td>\n",
       "      <td>Stardust</td>\n",
       "      <td>3</td>\n",
       "      <td>1.9</td>\n",
       "      <td>1999-02-07</td>\n",
       "      <td>2011-05-01</td>\n",
       "    </tr>\n",
       "    <tr>\n",
       "      <th>venus_climate_orbiter</th>\n",
       "      <td>vco/vco_spice</td>\n",
       "      <td>Venus Climate Orbiter</td>\n",
       "      <td>4</td>\n",
       "      <td>2.0</td>\n",
       "      <td>2010-05-21</td>\n",
       "      <td>2024-01-01</td>\n",
       "    </tr>\n",
       "    <tr>\n",
       "      <th>vex</th>\n",
       "      <td>vex-e_v-spice-6-v2.0/vexsp_2000</td>\n",
       "      <td>Venus Express</td>\n",
       "      <td>3</td>\n",
       "      <td>5.0</td>\n",
       "      <td>2005-11-09</td>\n",
       "      <td>2015-02-06</td>\n",
       "    </tr>\n",
       "    <tr>\n",
       "      <th>vo</th>\n",
       "      <td>vo1_vo2-m-spice-6-v1.0/vosp_1000</td>\n",
       "      <td>Viking Orbiter</td>\n",
       "      <td>3</td>\n",
       "      <td>0.1</td>\n",
       "      <td>1976-06-16</td>\n",
       "      <td>1980-07-30</td>\n",
       "    </tr>\n",
       "  </tbody>\n",
       "</table>\n",
       "</div>"
      ],
      "text/plain": [
       "                                                        path  \\\n",
       "shorthand                                                      \n",
       "bc                                               bc/bc_spice   \n",
       "cassini                    co-s_j_e_v-spice-6-v1.0/cosp_1000   \n",
       "clementine                    clem1-l-spice-6-v1.0/clsp_1000   \n",
       "dart                                         dart/dart_spice   \n",
       "dawn                       dawn-m_a-spice-6-v1.0/dawnsp_1000   \n",
       "di                               di-c-spice-6-v1.0/disp_1000   \n",
       "ds1                          ds1-a_c-spice-6-v1.0/ds1sp_1000   \n",
       "epoxi                      dif-c_e_x-spice-6-v1.0/epxsp_1000   \n",
       "em16                                         em16/em16_spice   \n",
       "grail                        grail-l-spice-6-v1.0/grlsp_1000   \n",
       "hayabusa                       hay-a-spice-6-v1.0/haysp_1000   \n",
       "insight                                insight/insight_spice   \n",
       "juno                      jno-j_e_ss-spice-6-v1.0/jnosp_1000   \n",
       "ladee                                      ladee/ladee_spice   \n",
       "lro                            lro-l-spice-6-v1.0/lrosp_1000   \n",
       "maven                                      maven/maven_spice   \n",
       "opportunity                  mer1-m-spice-6-v1.0/mer1sp_1000   \n",
       "spirit                       mer2-m-spice-6-v1.0/mer2sp_1000   \n",
       "messenger                mess-e_v_h-spice-6-v1.0/messsp_1000   \n",
       "mars2020                             mars2020/mars2020_spice   \n",
       "mex                          mex-e_m-spice-6-v2.0/mexsp_2000   \n",
       "mgs                             mgs-m-spice-6-v1.0/mgsp_1000   \n",
       "ody                             ody-m-spice-6-v1.0/odsp_1000   \n",
       "mro                            mro-m-spice-6-v1.0/mrosp_1000   \n",
       "msl                            msl-m-spice-6-v1.0/mslsp_1000   \n",
       "near                         near-a-spice-6-v1.0/nearsp_1000   \n",
       "nh                          nh-j_p_ss-spice-6-v1.0/nhsp_1000   \n",
       "orex                                         orex/orex_spice   \n",
       "rosetta                ro_rl-e_m_a_c-spice-6-v1.0/rossp_1000   \n",
       "stardust                        sdu-c-spice-6-v1.0/sdsp_1000   \n",
       "venus_climate_orbiter                          vco/vco_spice   \n",
       "vex                          vex-e_v-spice-6-v2.0/vexsp_2000   \n",
       "vo                          vo1_vo2-m-spice-6-v1.0/vosp_1000   \n",
       "\n",
       "                                       Mission Name  PDS3 or PDS4  \\\n",
       "shorthand                                                           \n",
       "bc                                      BepiColombo             4   \n",
       "cassini                             Cassini Orbiter             3   \n",
       "clementine                               Clementine             3   \n",
       "dart                                           DART             4   \n",
       "dawn                                           DAWN             3   \n",
       "di                                      Deep Impact             3   \n",
       "ds1                                    Deep Space 1             3   \n",
       "epoxi                                         EPOXI             3   \n",
       "em16                               ExoMars TGO 2016             4   \n",
       "grail                                         GRAIL             3   \n",
       "hayabusa                                   Hayabusa             3   \n",
       "insight                                     InSight             4   \n",
       "juno                                           JUNO             3   \n",
       "ladee                                         LADEE             4   \n",
       "lro                    Lunar Reconnaissance Orbiter             3   \n",
       "maven                                         MAVEN             4   \n",
       "opportunity                     MER 1 (Opportunity)             3   \n",
       "spirit                               MER 2 (Spirit)             3   \n",
       "messenger                                 MESSENGER             3   \n",
       "mars2020                                  Mars 2020             4   \n",
       "mex                                    Mars Express             3   \n",
       "mgs                            Mars Global Surveyor             3   \n",
       "ody                                    Mars Odyssey             3   \n",
       "mro                     Mars Reconnaissance Orbiter             3   \n",
       "msl                         Mars Science Laboratory             3   \n",
       "near                                           NEAR             3   \n",
       "nh                                     New Horizons             3   \n",
       "orex                                     OSIRIS-REx             4   \n",
       "rosetta                                     Rosetta             3   \n",
       "stardust                                   Stardust             3   \n",
       "venus_climate_orbiter         Venus Climate Orbiter             4   \n",
       "vex                                   Venus Express             3   \n",
       "vo                                   Viking Orbiter             3   \n",
       "\n",
       "                       Data Size (GB)  Start Time   Stop Time  \n",
       "shorthand                                                      \n",
       "bc                                2.6  2018-10-20  2024-01-01  \n",
       "cassini                          73.5  1997-10-15  2017-09-15  \n",
       "clementine                        0.8  1994-01-26  1994-05-07  \n",
       "dart                             10.1  2021-11-09  2050-01-01  \n",
       "dawn                             86.4  2007-09-27  2018-10-31  \n",
       "di                                0.7  2005-01-12  2005-08-09  \n",
       "ds1                               0.9  1998-10-24  2001-12-18  \n",
       "epoxi                             1.0  2005-08-23  2011-03-01  \n",
       "em16                             11.0  2016-03-14  2024-01-01  \n",
       "grail                             4.3  2011-09-10  2012-12-17  \n",
       "hayabusa                          0.3  2005-09-11  2005-11-19  \n",
       "insight                           0.9  2018-05-05  2022-12-15  \n",
       "juno                             48.9  2011-08-05  2023-07-31  \n",
       "ladee                             0.6  2013-09-07  2050-01-01  \n",
       "lro                             627.5  2009-06-18  2023-12-15  \n",
       "maven                            57.6  2013-11-18  2024-01-01  \n",
       "opportunity                       4.1  2003-07-07  2018-06-10  \n",
       "spirit                            2.6  2003-06-10  2010-05-03  \n",
       "messenger                        44.8  2004-08-03  2015-04-30  \n",
       "mars2020                          0.7  2020-07-30  2024-01-02  \n",
       "mex                              11.0  2003-06-02  2023-12-31  \n",
       "mgs                              15.4  1996-11-06  2006-11-02  \n",
       "ody                              35.8  2001-04-07  2023-10-01  \n",
       "mro                             329.2  2005-08-12  2024-01-01  \n",
       "msl                               0.7  2011-11-26  2023-11-06  \n",
       "near                              2.4  1996-05-30  2001-02-28  \n",
       "nh                                1.7  2006-01-19  2022-06-01  \n",
       "orex                            424.7  2016-09-08  2023-10-02  \n",
       "rosetta                           5.9  2004-03-02  2017-01-01  \n",
       "stardust                          1.9  1999-02-07  2011-05-01  \n",
       "venus_climate_orbiter             2.0  2010-05-21  2024-01-01  \n",
       "vex                               5.0  2005-11-09  2015-02-06  \n",
       "vo                                0.1  1976-06-16  1980-07-30  "
      ]
     },
     "execution_count": null,
     "metadata": {},
     "output_type": "execute_result"
    }
   ],
   "source": [
    "datasets"
   ]
  },
  {
   "cell_type": "markdown",
   "id": "48ce4e7e-9e95-4ce4-831f-8595e4b7c5f7",
   "metadata": {},
   "source": [
    "To receive this dataframe:\n",
    "\n",
    "```python\n",
    "from planetarypy.spice.kernels import datasets\n",
    "```\n",
    "Some validation helpers:"
   ]
  },
  {
   "cell_type": "code",
   "execution_count": null,
   "id": "c8e8c2c8-15bd-44c7-9ffc-b75600efeb14",
   "metadata": {},
   "outputs": [],
   "source": [
    "# | export\n",
    "def is_start_valid(\n",
    "    mission: str,  # mission shorthand label of datasets dataframe\n",
    "    start: Time,  # start time in astropy.Time format\n",
    "):\n",
    "    return Time(datasets.at[mission, \"Start Time\"]) <= start\n",
    "\n",
    "\n",
    "def is_stop_valid(\n",
    "    mission: str,  # mission shorthand label of datasets dataframe\n",
    "    stop: Time,  # stop time in astropy.Time format\n",
    "):\n",
    "    return Time(datasets.at[mission, \"Stop Time\"]) >= stop"
   ]
  },
  {
   "cell_type": "code",
   "execution_count": null,
   "id": "2d03347e-6094-4ff4-9d6b-19ca639ea5e8",
   "metadata": {},
   "outputs": [],
   "source": [
    "assert is_start_valid(\"cassini\", Time(\"1998-01-01\")) is True\n",
    "assert is_start_valid(\"cassini\", Time(\"1997-01-01\")) is False\n",
    "assert is_stop_valid(\"cassini\", \"2017-01-01\") is True\n",
    "assert is_stop_valid(\"cassini\", \"2018-01-01\") is False"
   ]
  },
  {
   "cell_type": "markdown",
   "id": "71ab6332-befc-458e-a8fc-252021a7d4f8",
   "metadata": {},
   "source": [
    "Now we build a management class for wrapping the Perl script available at below's URL for accessing subsets of these datasets.\n",
    "\n",
    "First, the basic URLs we will use:"
   ]
  },
  {
   "cell_type": "markdown",
   "id": "d1a6f9b4-2473-4221-b222-672db76ad019",
   "metadata": {},
   "source": [
    "The Perl script `subsetds.pl` (the name at the end of the `BASE_URL`) requires as input:\n",
    "\n",
    "* the dataset name\n",
    "* start and stop of the time interval\n",
    "* a constant named \"Subset\" to identify the action for this Perl script\n",
    "\n",
    "We can assemble these parameters into a payload dictionary for the `requests.get` call and we manage different potential actions on the zipfile with a `Subsetter` class, that only requires the mission identifier, start and stop as parameters."
   ]
  },
  {
   "cell_type": "code",
   "execution_count": null,
   "id": "4f412af2-7ed7-48bd-bfcd-f4f17427e0d3",
   "metadata": {},
   "outputs": [],
   "source": [
    "# | export\n",
    "\n",
    "\n",
    "def download_one_url(url, local_path, overwrite: bool = False):\n",
    "    if local_path.exists() and not overwrite:\n",
    "        return\n",
    "    local_path.parent.mkdir(exist_ok=True, parents=True)\n",
    "    url_retrieve(url, local_path)\n",
    "\n",
    "\n",
    "class Subsetter:\n",
    "    \"\"\"Class to manage retrieving subset SPICE kernel lists\n",
    "\n",
    "    Attributes\n",
    "    ----------\n",
    "    kernel_names: List of\n",
    "    \"\"\"\n",
    "\n",
    "    def __init__(\n",
    "        self,\n",
    "        mission: str,  # mission shorthand in datasets dataframe\n",
    "        start: str,  # start time in either ISO or yyyy-jjj format\n",
    "        stop=None,  # stop time in either ISO or yyyy-jjj format\n",
    "        save_location=None,  # overwrite default storing in planetarpy archive\n",
    "    ):\n",
    "        store_attr()\n",
    "        self.initialize()\n",
    "\n",
    "    def initialize(self):\n",
    "        r = self.r\n",
    "        if r.ok:\n",
    "            z = zipfile.ZipFile(BytesIO(r.content))\n",
    "        else:\n",
    "            raise IOError(\"SPICE Server request returned status code: {r.status_code}\")\n",
    "        self.z = z\n",
    "        # these files only exist \"virtually\" in the zip object, but are needed to\n",
    "        # extract them:\n",
    "        self.urls_file = [n for n in z.namelist() if n.startswith(\"urls_\")][0]\n",
    "        self.metakernel_file = [n for n in z.namelist() if n.lower().endswith(\".tm\")][0]\n",
    "        with self.z.open(self.urls_file) as f:\n",
    "            self.kernel_urls = f.read().decode().split()\n",
    "\n",
    "    @property\n",
    "    def r(self):\n",
    "        return requests.get(BASE_URL, params=self.payload, stream=True)\n",
    "\n",
    "    @property\n",
    "    def start(self):\n",
    "        return self._start\n",
    "\n",
    "    @start.setter\n",
    "    def start(self, value):\n",
    "        try:\n",
    "            self._start = Time(value)\n",
    "        except ValueError:\n",
    "            self._start = Time(nasa_time_to_iso(value))\n",
    "\n",
    "    @property\n",
    "    def stop(self):\n",
    "        return self._stop\n",
    "\n",
    "    @stop.setter\n",
    "    def stop(self, value):\n",
    "        if not value:\n",
    "            self._stop = self.start + timedelta(days=1)\n",
    "        else:\n",
    "            try:\n",
    "                self._stop = Time(value)\n",
    "            except ValueError:\n",
    "                self._stop = Time(nasa_time_to_iso(value))\n",
    "\n",
    "    @property\n",
    "    def payload(self):\n",
    "        \"\"\"Put payload together while checking for working time format.\n",
    "\n",
    "        If Time(self.start) doesn't work, then we assume that the date must be in the\n",
    "        Time-unsupported yyyy-jjj format, which can be converted by `nasa_time_to_iso`\n",
    "        from `planetarypy.utils`.\n",
    "        \"\"\"\n",
    "        if not (\n",
    "            is_start_valid(self.mission, self.start)\n",
    "            and is_stop_valid(self.mission, self.stop)\n",
    "        ):\n",
    "            raise ValueError(\n",
    "                \"One of start/stop is outside the supported date-range. See `datasets`.\"\n",
    "            )\n",
    "        p = {\n",
    "            \"dataset\": datasets.loc[self.mission, \"path\"],\n",
    "            \"start\": self.start.iso,\n",
    "            \"stop\": self.stop.iso,\n",
    "            \"action\": \"Subset\",\n",
    "        }\n",
    "        return p\n",
    "\n",
    "    @property\n",
    "    def kernel_names(self):\n",
    "        \"Return list of names of kernels for the given time range.\"\n",
    "        return [\n",
    "            str(Path(URL(url).parent.name) / URL(url).name) for url in self.kernel_urls\n",
    "        ]\n",
    "\n",
    "    def get_local_path(\n",
    "        self,\n",
    "        url,  # kernel url to determine local storage path\n",
    "    ) -> Path:  # full local path where kernel in URL will be stored\n",
    "        \"\"\"Calculate local storage path from Kernel URL, using `save_location` if given.\n",
    "\n",
    "        If self.save_location is None, the `planetarypy` archive is being used.\n",
    "        \"\"\"\n",
    "        u = URL(url)\n",
    "        basepath = (\n",
    "            KERNEL_STORAGE / self.mission\n",
    "            if not self.save_location\n",
    "            else self.save_location\n",
    "        )\n",
    "        return basepath / u.parent.name / u.name\n",
    "\n",
    "    def _non_blocking_download(self, overwrite: bool = False):\n",
    "        with Client() as client:\n",
    "            futures = []\n",
    "            for url in tqdm(self.kernel_urls, desc=\"Kernels downloaded\"):\n",
    "                local_path = self.get_local_path(url)\n",
    "                if local_path.exists() and not overwrite:\n",
    "                    print(local_path.parent.name, local_path.name, \"locally available.\")\n",
    "                    continue\n",
    "                local_path.parent.mkdir(exist_ok=True, parents=True)\n",
    "                futures.append(client.submit(url_retrieve, url, local_path))\n",
    "            return [f.result() for f in futures]\n",
    "\n",
    "    def _concurrent_download(self, overwrite: bool = False):\n",
    "        paths = [self.get_local_path(url) for url in self.kernel_urls]\n",
    "        args = zip(self.kernel_urls, paths, repeat(overwrite))\n",
    "        results = process_map(download_one_url, args, max_workers=cpu_count() - 2)\n",
    "\n",
    "    def download_kernels(\n",
    "        self,\n",
    "        overwrite: bool = False,  # switch to control if kernels should be downloaded over existing ones\n",
    "        non_blocking: bool = False,\n",
    "        quiet: bool = False,\n",
    "    ):\n",
    "        if non_blocking:\n",
    "            return self._non_blocking_download(overwrite)\n",
    "        # sequential download\n",
    "        for url in tqdm(self.kernel_urls, desc=\"Kernels downloaded\"):\n",
    "            local_path = self.get_local_path(url)\n",
    "            if local_path.exists() and not overwrite:\n",
    "                if not quiet:\n",
    "                    print(local_path.parent.name, local_path.name, \"locally available.\")\n",
    "                continue\n",
    "            local_path.parent.mkdir(exist_ok=True, parents=True)\n",
    "            url_retrieve(url, local_path)\n",
    "\n",
    "    def get_metakernel(self) -> Path:  # return path to metakernel file\n",
    "        \"\"\"Get metakernel file from NAIF and adapt path to match local storage.\n",
    "\n",
    "        Use `save_location` if given, otherwise `planetarypy` archive.\n",
    "        \"\"\"\n",
    "        basepath = (\n",
    "            KERNEL_STORAGE / self.mission\n",
    "            if not self.save_location\n",
    "            else self.save_location\n",
    "        )\n",
    "        savepath = basepath / self.metakernel_file\n",
    "        with open(savepath, \"w\") as outfile, self.z.open(\n",
    "            self.metakernel_file\n",
    "        ) as infile:\n",
    "            for line in infile:\n",
    "                linestr = line.decode()\n",
    "                if \"'./data'\" in linestr:\n",
    "                    linestr = linestr.replace(\"'./data'\", f\"'{savepath.parent}'\")\n",
    "                outfile.write(linestr)\n",
    "        return savepath"
   ]
  },
  {
   "cell_type": "code",
   "execution_count": null,
   "id": "6289cefc-e6b7-45ae-aa82-1f880c332dbb",
   "metadata": {},
   "outputs": [],
   "source": [
    "subset = Subsetter(\"cassini\", \"2014-270\")"
   ]
  },
  {
   "cell_type": "code",
   "execution_count": null,
   "id": "aa04a242-8144-4880-9bbd-9197a5f814e6",
   "metadata": {},
   "outputs": [
    {
     "data": {
      "text/plain": [
       "['ck/14001_15001pa_gapfill_v14.bc',\n",
       " 'ck/14212_14279py_as_flown.bc',\n",
       " 'ck/14268_14273ra.bc',\n",
       " 'ck/cas_cda_20150318.bc',\n",
       " 'ck/cas_lemms_05109_20001_v2.bc',\n",
       " 'dsk/cas_enceladus_ssd_spc_0128icq_v1.bds',\n",
       " 'fk/cas_dyn_v03.tf',\n",
       " 'fk/cas_mimi_v202.tf',\n",
       " 'fk/cas_rocks_v18.tf',\n",
       " 'fk/cas_v43.tf',\n",
       " 'ik/cas_caps_v03.ti',\n",
       " 'ik/cas_cda_v01.ti',\n",
       " 'ik/cas_cirs_v10.ti',\n",
       " 'ik/cas_inms_v02.ti',\n",
       " 'ik/cas_iss_v10.ti',\n",
       " 'ik/cas_mag_v01.ti',\n",
       " 'ik/cas_mimi_v11.ti',\n",
       " 'ik/cas_radar_v11.ti',\n",
       " 'ik/cas_rpws_v01.ti',\n",
       " 'ik/cas_rss_v03.ti',\n",
       " 'ik/cas_sru_v02.ti',\n",
       " 'ik/cas_uvis_v07.ti',\n",
       " 'ik/cas_vims_v06.ti',\n",
       " 'lsk/naif0012.tls',\n",
       " 'pck/enceladus_ssd_230702_v1.tpc',\n",
       " 'pck/pck00010.tpc',\n",
       " 'sclk/cas00172.tsc',\n",
       " 'spk/140809BP_IRRE_00256_25017.bsp',\n",
       " 'spk/180927AP_RE_90165_18018.bsp',\n",
       " 'spk/200128RU_SCPSE_14251_14283.bsp',\n",
       " 'spk/sat427.bsp']"
      ]
     },
     "execution_count": null,
     "metadata": {},
     "output_type": "execute_result"
    }
   ],
   "source": [
    "subset.kernel_names"
   ]
  },
  {
   "cell_type": "code",
   "execution_count": null,
   "id": "321d29e0",
   "metadata": {},
   "outputs": [
    {
     "data": {
      "text/plain": [
       "31"
      ]
     },
     "execution_count": null,
     "metadata": {},
     "output_type": "execute_result"
    }
   ],
   "source": [
    "len(subset.kernel_names)"
   ]
  },
  {
   "cell_type": "code",
   "execution_count": null,
   "id": "7e7b6827-9ec4-42b6-abb4-88ea13bfdcdb",
   "metadata": {},
   "outputs": [],
   "source": [
    "# this should fail:\n",
    "def _failing():\n",
    "    Subsetter(\"cassini\", \"2019-01-01\")\n",
    "\n",
    "\n",
    "test_fail(_failing, contains=\"start/stop\")"
   ]
  },
  {
   "cell_type": "code",
   "execution_count": null,
   "id": "2c54fec7-ed64-4855-a23c-7fd522920f7b",
   "metadata": {},
   "outputs": [],
   "source": [
    "subset = Subsetter(\"cassini\", \"2011-02-13\", \"2011-02-14\")"
   ]
  },
  {
   "cell_type": "code",
   "execution_count": null,
   "id": "e291ffb3-2c03-44a3-8513-b03c1858bbc4",
   "metadata": {},
   "outputs": [
    {
     "data": {
      "text/plain": [
       "'urls_cosp_1000_110213_110214.txt'"
      ]
     },
     "execution_count": null,
     "metadata": {},
     "output_type": "execute_result"
    }
   ],
   "source": [
    "subset.urls_file"
   ]
  },
  {
   "cell_type": "code",
   "execution_count": null,
   "id": "a4cbe5f5-1757-41c2-8476-8218e8d6c426",
   "metadata": {},
   "outputs": [
    {
     "data": {
      "text/plain": [
       "'cas_2011_v18_110213_110214.tm'"
      ]
     },
     "execution_count": null,
     "metadata": {},
     "output_type": "execute_result"
    }
   ],
   "source": [
    "subset.metakernel_file"
   ]
  },
  {
   "cell_type": "code",
   "execution_count": null,
   "id": "83eab68b-2f7f-4121-93e6-b01e8d36e3f7",
   "metadata": {},
   "outputs": [
    {
     "data": {
      "text/markdown": [
       "---\n",
       "\n",
       "[source](https://github.com/michaelaye/nbplanetary/blob/master/planetarypy/spice/kernels.py#L154){target=\"_blank\" style=\"float:right; font-size:smaller\"}\n",
       "\n",
       "### Subsetter.kernel_names\n",
       "\n",
       ">      Subsetter.kernel_names ()\n",
       "\n",
       "*Return list of names of kernels for the given time range.*"
      ],
      "text/plain": [
       "---\n",
       "\n",
       "[source](https://github.com/michaelaye/nbplanetary/blob/master/planetarypy/spice/kernels.py#L154){target=\"_blank\" style=\"float:right; font-size:smaller\"}\n",
       "\n",
       "### Subsetter.kernel_names\n",
       "\n",
       ">      Subsetter.kernel_names ()\n",
       "\n",
       "*Return list of names of kernels for the given time range.*"
      ]
     },
     "execution_count": null,
     "metadata": {},
     "output_type": "execute_result"
    }
   ],
   "source": [
    "show_doc(Subsetter.kernel_names)"
   ]
  },
  {
   "cell_type": "code",
   "execution_count": null,
   "id": "57a2e0a4-0884-4438-a928-370b5a4fd13b",
   "metadata": {},
   "outputs": [
    {
     "data": {
      "text/plain": [
       "['ck/11001_12001pa_gapfill_v14.bc',\n",
       " 'ck/11017_11066py_as_flown.bc',\n",
       " 'ck/11044_11049ra.bc',\n",
       " 'ck/cas_caps_11032_11060_v2.bc',\n",
       " 'ck/cas_cda_20120517.bc',\n",
       " 'ck/cas_lemms_05109_20001_v2.bc',\n",
       " 'dsk/cas_enceladus_ssd_spc_0128icq_v1.bds',\n",
       " 'fk/cas_dyn_v03.tf',\n",
       " 'fk/cas_mimi_v202.tf',\n",
       " 'fk/cas_rocks_v18.tf',\n",
       " 'fk/cas_v43.tf',\n",
       " 'ik/cas_caps_v03.ti',\n",
       " 'ik/cas_cda_v01.ti',\n",
       " 'ik/cas_cirs_v10.ti',\n",
       " 'ik/cas_inms_v02.ti',\n",
       " 'ik/cas_iss_v10.ti',\n",
       " 'ik/cas_mag_v01.ti',\n",
       " 'ik/cas_mimi_v11.ti',\n",
       " 'ik/cas_radar_v11.ti',\n",
       " 'ik/cas_rpws_v01.ti',\n",
       " 'ik/cas_rss_v03.ti',\n",
       " 'ik/cas_sru_v02.ti',\n",
       " 'ik/cas_uvis_v07.ti',\n",
       " 'ik/cas_vims_v06.ti',\n",
       " 'lsk/naif0012.tls',\n",
       " 'pck/enceladus_ssd_230702_v1.tpc',\n",
       " 'pck/pck00010.tpc',\n",
       " 'sclk/cas00172.tsc',\n",
       " 'spk/140809BP_IRRE_00256_25017.bsp',\n",
       " 'spk/180927AP_RE_90165_18018.bsp',\n",
       " 'spk/200128RU_SCPSE_11041_11093.bsp',\n",
       " 'spk/sat427.bsp']"
      ]
     },
     "execution_count": null,
     "metadata": {},
     "output_type": "execute_result"
    }
   ],
   "source": [
    "subset.kernel_names"
   ]
  },
  {
   "cell_type": "code",
   "execution_count": null,
   "id": "bfc24353-a837-45b9-b63e-0eed3e12fced",
   "metadata": {},
   "outputs": [
    {
     "data": {
      "text/plain": [
       "['https://naif.jpl.nasa.gov/pub/naif/pds/data/co-s_j_e_v-spice-6-v1.0/cosp_1000/data/ck/11001_12001pa_gapfill_v14.bc',\n",
       " 'https://naif.jpl.nasa.gov/pub/naif/pds/data/co-s_j_e_v-spice-6-v1.0/cosp_1000/data/ck/11017_11066py_as_flown.bc',\n",
       " 'https://naif.jpl.nasa.gov/pub/naif/pds/data/co-s_j_e_v-spice-6-v1.0/cosp_1000/data/ck/11044_11049ra.bc',\n",
       " 'https://naif.jpl.nasa.gov/pub/naif/pds/data/co-s_j_e_v-spice-6-v1.0/cosp_1000/data/ck/cas_caps_11032_11060_v2.bc',\n",
       " 'https://naif.jpl.nasa.gov/pub/naif/pds/data/co-s_j_e_v-spice-6-v1.0/cosp_1000/data/ck/cas_cda_20120517.bc',\n",
       " 'https://naif.jpl.nasa.gov/pub/naif/pds/data/co-s_j_e_v-spice-6-v1.0/cosp_1000/data/ck/cas_lemms_05109_20001_v2.bc',\n",
       " 'https://naif.jpl.nasa.gov/pub/naif/pds/data/co-s_j_e_v-spice-6-v1.0/cosp_1000/data/dsk/cas_enceladus_ssd_spc_0128icq_v1.bds',\n",
       " 'https://naif.jpl.nasa.gov/pub/naif/pds/data/co-s_j_e_v-spice-6-v1.0/cosp_1000/data/fk/cas_dyn_v03.tf',\n",
       " 'https://naif.jpl.nasa.gov/pub/naif/pds/data/co-s_j_e_v-spice-6-v1.0/cosp_1000/data/fk/cas_mimi_v202.tf',\n",
       " 'https://naif.jpl.nasa.gov/pub/naif/pds/data/co-s_j_e_v-spice-6-v1.0/cosp_1000/data/fk/cas_rocks_v18.tf',\n",
       " 'https://naif.jpl.nasa.gov/pub/naif/pds/data/co-s_j_e_v-spice-6-v1.0/cosp_1000/data/fk/cas_v43.tf',\n",
       " 'https://naif.jpl.nasa.gov/pub/naif/pds/data/co-s_j_e_v-spice-6-v1.0/cosp_1000/data/ik/cas_caps_v03.ti',\n",
       " 'https://naif.jpl.nasa.gov/pub/naif/pds/data/co-s_j_e_v-spice-6-v1.0/cosp_1000/data/ik/cas_cda_v01.ti',\n",
       " 'https://naif.jpl.nasa.gov/pub/naif/pds/data/co-s_j_e_v-spice-6-v1.0/cosp_1000/data/ik/cas_cirs_v10.ti',\n",
       " 'https://naif.jpl.nasa.gov/pub/naif/pds/data/co-s_j_e_v-spice-6-v1.0/cosp_1000/data/ik/cas_inms_v02.ti',\n",
       " 'https://naif.jpl.nasa.gov/pub/naif/pds/data/co-s_j_e_v-spice-6-v1.0/cosp_1000/data/ik/cas_iss_v10.ti',\n",
       " 'https://naif.jpl.nasa.gov/pub/naif/pds/data/co-s_j_e_v-spice-6-v1.0/cosp_1000/data/ik/cas_mag_v01.ti',\n",
       " 'https://naif.jpl.nasa.gov/pub/naif/pds/data/co-s_j_e_v-spice-6-v1.0/cosp_1000/data/ik/cas_mimi_v11.ti',\n",
       " 'https://naif.jpl.nasa.gov/pub/naif/pds/data/co-s_j_e_v-spice-6-v1.0/cosp_1000/data/ik/cas_radar_v11.ti',\n",
       " 'https://naif.jpl.nasa.gov/pub/naif/pds/data/co-s_j_e_v-spice-6-v1.0/cosp_1000/data/ik/cas_rpws_v01.ti',\n",
       " 'https://naif.jpl.nasa.gov/pub/naif/pds/data/co-s_j_e_v-spice-6-v1.0/cosp_1000/data/ik/cas_rss_v03.ti',\n",
       " 'https://naif.jpl.nasa.gov/pub/naif/pds/data/co-s_j_e_v-spice-6-v1.0/cosp_1000/data/ik/cas_sru_v02.ti',\n",
       " 'https://naif.jpl.nasa.gov/pub/naif/pds/data/co-s_j_e_v-spice-6-v1.0/cosp_1000/data/ik/cas_uvis_v07.ti',\n",
       " 'https://naif.jpl.nasa.gov/pub/naif/pds/data/co-s_j_e_v-spice-6-v1.0/cosp_1000/data/ik/cas_vims_v06.ti',\n",
       " 'https://naif.jpl.nasa.gov/pub/naif/pds/data/co-s_j_e_v-spice-6-v1.0/cosp_1000/data/lsk/naif0012.tls',\n",
       " 'https://naif.jpl.nasa.gov/pub/naif/pds/data/co-s_j_e_v-spice-6-v1.0/cosp_1000/data/pck/enceladus_ssd_230702_v1.tpc',\n",
       " 'https://naif.jpl.nasa.gov/pub/naif/pds/data/co-s_j_e_v-spice-6-v1.0/cosp_1000/data/pck/pck00010.tpc',\n",
       " 'https://naif.jpl.nasa.gov/pub/naif/pds/data/co-s_j_e_v-spice-6-v1.0/cosp_1000/data/sclk/cas00172.tsc',\n",
       " 'https://naif.jpl.nasa.gov/pub/naif/pds/data/co-s_j_e_v-spice-6-v1.0/cosp_1000/data/spk/140809BP_IRRE_00256_25017.bsp',\n",
       " 'https://naif.jpl.nasa.gov/pub/naif/pds/data/co-s_j_e_v-spice-6-v1.0/cosp_1000/data/spk/180927AP_RE_90165_18018.bsp',\n",
       " 'https://naif.jpl.nasa.gov/pub/naif/pds/data/co-s_j_e_v-spice-6-v1.0/cosp_1000/data/spk/200128RU_SCPSE_11041_11093.bsp',\n",
       " 'https://naif.jpl.nasa.gov/pub/naif/pds/data/co-s_j_e_v-spice-6-v1.0/cosp_1000/data/spk/sat427.bsp']"
      ]
     },
     "execution_count": null,
     "metadata": {},
     "output_type": "execute_result"
    }
   ],
   "source": [
    "subset.kernel_urls"
   ]
  },
  {
   "cell_type": "code",
   "execution_count": null,
   "id": "3182fde2-5feb-4bb4-8760-5b01d3b4d566",
   "metadata": {},
   "outputs": [
    {
     "data": {
      "text/markdown": [
       "---\n",
       "\n",
       "[source](https://github.com/michaelaye/nbplanetary/blob/master/planetarypy/spice/kernels.py#L160){target=\"_blank\" style=\"float:right; font-size:smaller\"}\n",
       "\n",
       "### Subsetter.get_local_path\n",
       "\n",
       ">      Subsetter.get_local_path (url)\n",
       "\n",
       "*Calculate local storage path from Kernel URL, using `save_location` if given.\n",
       "\n",
       "If self.save_location is None, the `planetarypy` archive is being used.*\n",
       "\n",
       "|    | **Type** | **Details** |\n",
       "| -- | -------- | ----------- |\n",
       "| url |  | kernel url to determine local storage path |\n",
       "| **Returns** | **Path** | **full local path where kernel in URL will be stored** |"
      ],
      "text/plain": [
       "---\n",
       "\n",
       "[source](https://github.com/michaelaye/nbplanetary/blob/master/planetarypy/spice/kernels.py#L160){target=\"_blank\" style=\"float:right; font-size:smaller\"}\n",
       "\n",
       "### Subsetter.get_local_path\n",
       "\n",
       ">      Subsetter.get_local_path (url)\n",
       "\n",
       "*Calculate local storage path from Kernel URL, using `save_location` if given.\n",
       "\n",
       "If self.save_location is None, the `planetarypy` archive is being used.*\n",
       "\n",
       "|    | **Type** | **Details** |\n",
       "| -- | -------- | ----------- |\n",
       "| url |  | kernel url to determine local storage path |\n",
       "| **Returns** | **Path** | **full local path where kernel in URL will be stored** |"
      ]
     },
     "execution_count": null,
     "metadata": {},
     "output_type": "execute_result"
    }
   ],
   "source": [
    "show_doc(Subsetter.get_local_path)"
   ]
  },
  {
   "cell_type": "code",
   "execution_count": null,
   "id": "f9a42d38-f8cd-4b01-ad07-79725c0357f6",
   "metadata": {},
   "outputs": [
    {
     "data": {
      "text/plain": [
       "Path('/Users/maye/planetarypy_data/spice_kernels/cassini/ck/11001_12001pa_gapfill_v14.bc')"
      ]
     },
     "execution_count": null,
     "metadata": {},
     "output_type": "execute_result"
    }
   ],
   "source": [
    "subset.get_local_path(subset.kernel_urls[0])"
   ]
  },
  {
   "cell_type": "code",
   "execution_count": null,
   "id": "0b1b0f92-5308-4282-bc0f-814d390c219d",
   "metadata": {},
   "outputs": [],
   "source": [
    "subset.save_location = Path(\".\")"
   ]
  },
  {
   "cell_type": "code",
   "execution_count": null,
   "id": "3b7e5703-c660-4ec7-b957-f549f7340245",
   "metadata": {},
   "outputs": [
    {
     "data": {
      "text/plain": [
       "Path('ck/11001_12001pa_gapfill_v14.bc')"
      ]
     },
     "execution_count": null,
     "metadata": {},
     "output_type": "execute_result"
    }
   ],
   "source": [
    "subset.get_local_path(subset.kernel_urls[0])"
   ]
  },
  {
   "cell_type": "code",
   "execution_count": null,
   "id": "1b9ade41-6cae-4743-b893-69b416eacf68",
   "metadata": {},
   "outputs": [
    {
     "data": {
      "text/markdown": [
       "---\n",
       "\n",
       "[source](https://github.com/michaelaye/nbplanetary/blob/master/planetarypy/spice/kernels.py#L193){target=\"_blank\" style=\"float:right; font-size:smaller\"}\n",
       "\n",
       "### Subsetter.download_kernels\n",
       "\n",
       ">      Subsetter.download_kernels (overwrite:bool=False,\n",
       ">                                  non_blocking:bool=False, quiet:bool=False)\n",
       "\n",
       "|    | **Type** | **Default** | **Details** |\n",
       "| -- | -------- | ----------- | ----------- |\n",
       "| overwrite | bool | False | switch to control if kernels should be downloaded over existing ones |\n",
       "| non_blocking | bool | False |  |\n",
       "| quiet | bool | False |  |"
      ],
      "text/plain": [
       "---\n",
       "\n",
       "[source](https://github.com/michaelaye/nbplanetary/blob/master/planetarypy/spice/kernels.py#L193){target=\"_blank\" style=\"float:right; font-size:smaller\"}\n",
       "\n",
       "### Subsetter.download_kernels\n",
       "\n",
       ">      Subsetter.download_kernels (overwrite:bool=False,\n",
       ">                                  non_blocking:bool=False, quiet:bool=False)\n",
       "\n",
       "|    | **Type** | **Default** | **Details** |\n",
       "| -- | -------- | ----------- | ----------- |\n",
       "| overwrite | bool | False | switch to control if kernels should be downloaded over existing ones |\n",
       "| non_blocking | bool | False |  |\n",
       "| quiet | bool | False |  |"
      ]
     },
     "execution_count": null,
     "metadata": {},
     "output_type": "execute_result"
    }
   ],
   "source": [
    "show_doc(Subsetter.download_kernels)"
   ]
  },
  {
   "cell_type": "code",
   "execution_count": null,
   "id": "09ac7b78-2561-47c5-8818-60ff5244ab9a",
   "metadata": {},
   "outputs": [],
   "source": [
    "# reset save_location to prevent additional download\n",
    "subset.save_location = None"
   ]
  },
  {
   "cell_type": "code",
   "execution_count": null,
   "id": "5d52c22a-234a-48e6-b811-a239dd9c33d3",
   "metadata": {},
   "outputs": [
    {
     "data": {
      "application/vnd.jupyter.widget-view+json": {
       "model_id": "c5115a429c004be8847a4556dd6ec618",
       "version_major": 2,
       "version_minor": 0
      },
      "text/plain": [
       "Kernels downloaded:   0%|          | 0/32 [00:00<?, ?it/s]"
      ]
     },
     "metadata": {},
     "output_type": "display_data"
    },
    {
     "name": "stdout",
     "output_type": "stream",
     "text": [
      "ck 11001_12001pa_gapfill_v14.bc locally available.\n",
      "ck 11017_11066py_as_flown.bc locally available.\n",
      "ck 11044_11049ra.bc locally available.\n",
      "ck cas_caps_11032_11060_v2.bc locally available.\n",
      "ck cas_cda_20120517.bc locally available.\n",
      "ck cas_lemms_05109_20001_v2.bc locally available.\n",
      "dsk cas_enceladus_ssd_spc_0128icq_v1.bds locally available.\n",
      "fk cas_dyn_v03.tf locally available.\n",
      "fk cas_mimi_v202.tf locally available.\n",
      "fk cas_rocks_v18.tf locally available.\n",
      "fk cas_v43.tf locally available.\n",
      "ik cas_caps_v03.ti locally available.\n",
      "ik cas_cda_v01.ti locally available.\n",
      "ik cas_cirs_v10.ti locally available.\n",
      "ik cas_inms_v02.ti locally available.\n",
      "ik cas_iss_v10.ti locally available.\n",
      "ik cas_mag_v01.ti locally available.\n",
      "ik cas_mimi_v11.ti locally available.\n",
      "ik cas_radar_v11.ti locally available.\n",
      "ik cas_rpws_v01.ti locally available.\n",
      "ik cas_rss_v03.ti locally available.\n",
      "ik cas_sru_v02.ti locally available.\n",
      "ik cas_uvis_v07.ti locally available.\n",
      "ik cas_vims_v06.ti locally available.\n",
      "lsk naif0012.tls locally available.\n",
      "pck enceladus_ssd_230702_v1.tpc locally available.\n",
      "pck pck00010.tpc locally available.\n",
      "sclk cas00172.tsc locally available.\n",
      "spk 140809BP_IRRE_00256_25017.bsp locally available.\n",
      "spk 180927AP_RE_90165_18018.bsp locally available.\n",
      "spk 200128RU_SCPSE_11041_11093.bsp locally available.\n",
      "spk sat427.bsp locally available.\n"
     ]
    }
   ],
   "source": [
    "subset.download_kernels()"
   ]
  },
  {
   "cell_type": "code",
   "execution_count": null,
   "id": "044238d3-5931-4c0c-9ee9-3174ec7a4d31",
   "metadata": {},
   "outputs": [
    {
     "data": {
      "application/vnd.jupyter.widget-view+json": {
       "model_id": "6f29dbf18bab48e1af18b6766af14d75",
       "version_major": 2,
       "version_minor": 0
      },
      "text/plain": [
       "Kernels downloaded:   0%|          | 0/32 [00:00<?, ?it/s]"
      ]
     },
     "metadata": {},
     "output_type": "display_data"
    },
    {
     "name": "stdout",
     "output_type": "stream",
     "text": [
      "ck 11001_12001pa_gapfill_v14.bc locally available.\n",
      "ck 11017_11066py_as_flown.bc locally available.\n",
      "ck 11044_11049ra.bc locally available.\n",
      "ck cas_caps_11032_11060_v2.bc locally available.\n",
      "ck cas_cda_20120517.bc locally available.\n",
      "ck cas_lemms_05109_20001_v2.bc locally available.\n",
      "dsk cas_enceladus_ssd_spc_0128icq_v1.bds locally available.\n",
      "fk cas_dyn_v03.tf locally available.\n",
      "fk cas_mimi_v202.tf locally available.\n",
      "fk cas_rocks_v18.tf locally available.\n",
      "fk cas_v43.tf locally available.\n",
      "ik cas_caps_v03.ti locally available.\n",
      "ik cas_cda_v01.ti locally available.\n",
      "ik cas_cirs_v10.ti locally available.\n",
      "ik cas_inms_v02.ti locally available.\n",
      "ik cas_iss_v10.ti locally available.\n",
      "ik cas_mag_v01.ti locally available.\n",
      "ik cas_mimi_v11.ti locally available.\n",
      "ik cas_radar_v11.ti locally available.\n",
      "ik cas_rpws_v01.ti locally available.\n",
      "ik cas_rss_v03.ti locally available.\n",
      "ik cas_sru_v02.ti locally available.\n",
      "ik cas_uvis_v07.ti locally available.\n",
      "ik cas_vims_v06.ti locally available.\n",
      "lsk naif0012.tls locally available.\n",
      "pck enceladus_ssd_230702_v1.tpc locally available.\n",
      "pck pck00010.tpc locally available.\n",
      "sclk cas00172.tsc locally available.\n",
      "spk 140809BP_IRRE_00256_25017.bsp locally available.\n",
      "spk 180927AP_RE_90165_18018.bsp locally available.\n",
      "spk 200128RU_SCPSE_11041_11093.bsp locally available.\n",
      "spk sat427.bsp locally available.\n"
     ]
    },
    {
     "data": {
      "text/plain": [
       "[]"
      ]
     },
     "execution_count": null,
     "metadata": {},
     "output_type": "execute_result"
    }
   ],
   "source": [
    "subset.download_kernels(non_blocking=True)"
   ]
  },
  {
   "cell_type": "code",
   "execution_count": null,
   "id": "e3f26bae-42f5-43df-9a81-0fb70ac663a1",
   "metadata": {},
   "outputs": [
    {
     "data": {
      "text/markdown": [
       "---\n",
       "\n",
       "[source](https://github.com/michaelaye/nbplanetary/blob/master/planetarypy/spice/kernels.py#L211){target=\"_blank\" style=\"float:right; font-size:smaller\"}\n",
       "\n",
       "### Subsetter.get_metakernel\n",
       "\n",
       ">      Subsetter.get_metakernel ()\n",
       "\n",
       "*Get metakernel file from NAIF and adapt path to match local storage.\n",
       "\n",
       "Use `save_location` if given, otherwise `planetarypy` archive.*"
      ],
      "text/plain": [
       "---\n",
       "\n",
       "[source](https://github.com/michaelaye/nbplanetary/blob/master/planetarypy/spice/kernels.py#L211){target=\"_blank\" style=\"float:right; font-size:smaller\"}\n",
       "\n",
       "### Subsetter.get_metakernel\n",
       "\n",
       ">      Subsetter.get_metakernel ()\n",
       "\n",
       "*Get metakernel file from NAIF and adapt path to match local storage.\n",
       "\n",
       "Use `save_location` if given, otherwise `planetarypy` archive.*"
      ]
     },
     "execution_count": null,
     "metadata": {},
     "output_type": "execute_result"
    }
   ],
   "source": [
    "show_doc(Subsetter.get_metakernel)"
   ]
  },
  {
   "cell_type": "code",
   "execution_count": null,
   "id": "a66d6ddd-50c8-4c9a-9592-9c1f1fee25fe",
   "metadata": {},
   "outputs": [
    {
     "data": {
      "text/plain": [
       "Path('/Users/maye/planetarypy_data/spice_kernels/cassini/cas_2011_v18_110213_110214.tm')"
      ]
     },
     "execution_count": null,
     "metadata": {},
     "output_type": "execute_result"
    }
   ],
   "source": [
    "mkpath = subset.get_metakernel()\n",
    "mkpath"
   ]
  },
  {
   "cell_type": "code",
   "execution_count": null,
   "id": "283507d5-581d-4741-acb5-2926e278e2d4",
   "metadata": {},
   "outputs": [
    {
     "name": "stdout",
     "output_type": "stream",
     "text": [
      "KPL/MK\n",
      "\n",
      "   This meta-kernel lists a subset of kernels from the meta-kernel\n",
      "   cas_2011_v18.tm provided in the CO-S/J/E/V-SPICE-6-V1.0 SPICE PDS3 archive,\n",
      "   covering the whole or a part of the customer requested time period\n",
      "   from 2011-02-13T00:00:00.000 to 2011-02-14T00:00:00.000.\n",
      "\n",
      "   The documentation describing these kernels can be found in the\n",
      "   complete CO-S/J/E/V-SPICE-6-V1.0 SPICE PDS3 archive available at this URL\n",
      "\n",
      "   https://naif.jpl.nasa.gov/pub/naif/pds/data/co-s_j_e_v-spice-6-v1.0/cosp_1000\n",
      "\n",
      "   To use this meta-kernel users may need to modify the value of the\n",
      "   PATH_VALUES keyword to point to the actual location of the archive's\n",
      "   ``data'' directory on their system. Replacing ``/'' with ``\\''\n",
      "   and converting line terminators to the format native to the user's\n",
      "   system may also be required if this meta-kernel is to be used on a\n",
      "   non-UNIX workstation.\n",
      "\n",
      "   This meta-kernel was created by the NAIF node's SPICE PDS archive\n",
      "   subsetting service version 2.1 on Wed Sep 25 12:56:53 PDT 2024.\n",
      "\n",
      " \n",
      "   \\begindata\n",
      " \n",
      "      PATH_VALUES     = (\n",
      "                         '/Users/maye/planetarypy_data/spice_kernels/cassini'\n",
      "                        )\n",
      " \n",
      "      PATH_SYMBOLS    = (\n",
      "                         'KERNELS'\n",
      "                        )\n",
      " \n",
      "      KERNELS_TO_LOAD = (\n",
      "                         '$KERNELS/lsk/naif0012.tls'\n",
      "                         '$KERNELS/pck/pck00010.tpc'\n",
      "                         '$KERNELS/pck/enceladus_ssd_230702_v1.tpc'\n",
      "                         '$KERNELS/fk/cas_rocks_v18.tf'\n",
      "                         '$KERNELS/fk/cas_mimi_v202.tf'\n",
      "                         '$KERNELS/fk/cas_dyn_v03.tf'\n",
      "                         '$KERNELS/fk/cas_v43.tf'\n",
      "                         '$KERNELS/ik/cas_caps_v03.ti'\n",
      "                         '$KERNELS/ik/cas_cda_v01.ti'\n",
      "                         '$KERNELS/ik/cas_cirs_v10.ti'\n",
      "                         '$KERNELS/ik/cas_inms_v02.ti'\n",
      "                         '$KERNELS/ik/cas_iss_v10.ti'\n",
      "                         '$KERNELS/ik/cas_mag_v01.ti'\n",
      "                         '$KERNELS/ik/cas_mimi_v11.ti'\n",
      "                         '$KERNELS/ik/cas_radar_v11.ti'\n",
      "                         '$KERNELS/ik/cas_rpws_v01.ti'\n",
      "                         '$KERNELS/ik/cas_rss_v03.ti'\n",
      "                         '$KERNELS/ik/cas_sru_v02.ti'\n",
      "                         '$KERNELS/ik/cas_uvis_v07.ti'\n",
      "                         '$KERNELS/ik/cas_vims_v06.ti'\n",
      "                         '$KERNELS/sclk/cas00172.tsc'\n",
      "                         '$KERNELS/spk/180927AP_RE_90165_18018.bsp'\n",
      "                         '$KERNELS/spk/140809BP_IRRE_00256_25017.bsp'\n",
      "                         '$KERNELS/spk/sat427.bsp'\n",
      "                         '$KERNELS/spk/200128RU_SCPSE_11041_11093.bsp'\n",
      "                         '$KERNELS/ck/11001_12001pa_gapfill_v14.bc'\n",
      "                         '$KERNELS/ck/11017_11066py_as_flown.bc'\n",
      "                         '$KERNELS/ck/11044_11049ra.bc'\n",
      "                         '$KERNELS/ck/cas_cda_20120517.bc'\n",
      "                         '$KERNELS/ck/cas_lemms_05109_20001_v2.bc'\n",
      "                         '$KERNELS/ck/cas_caps_11032_11060_v2.bc'\n",
      "                         '$KERNELS/dsk/cas_enceladus_ssd_spc_0128icq_v1.bds'\n",
      "                        )\n",
      " \n",
      "   \\begintext\n",
      " \n",
      "\n"
     ]
    }
   ],
   "source": [
    "!cat {mkpath}"
   ]
  },
  {
   "cell_type": "markdown",
   "id": "aed329fb-9f18-471b-a0f6-4f8408048ad6",
   "metadata": {},
   "source": [
    "Loading the metakernel works! :"
   ]
  },
  {
   "cell_type": "code",
   "execution_count": null,
   "id": "fc1f908c-2d91-4dc5-b14d-57d724b6beea",
   "metadata": {},
   "outputs": [],
   "source": [
    "spice.furnsh(str(mkpath))"
   ]
  },
  {
   "cell_type": "markdown",
   "id": "60c69128-dfa9-4637-9352-b4f0d6c8f6b8",
   "metadata": {},
   "source": [
    "Or, with given `save_location`:"
   ]
  },
  {
   "cell_type": "code",
   "execution_count": null,
   "id": "f3ad0619-5c38-4422-bc0d-5d6ddf53f111",
   "metadata": {},
   "outputs": [
    {
     "data": {
      "text/plain": [
       "Path('cas_2011_v18_110213_110214.tm')"
      ]
     },
     "execution_count": null,
     "metadata": {},
     "output_type": "execute_result"
    }
   ],
   "source": [
    "subset.save_location = Path(\".\")\n",
    "mkpath = subset.get_metakernel()\n",
    "mkpath"
   ]
  },
  {
   "cell_type": "markdown",
   "id": "c35f5a30-e29d-4051-ba0f-8b3236207fd7",
   "metadata": {},
   "source": [
    "The metakernel is correctly adapted, however for these tests, I didn't download the kernels again"
   ]
  },
  {
   "cell_type": "code",
   "execution_count": null,
   "id": "f834f517-eb7b-430f-92f1-c483ac3dc9b2",
   "metadata": {},
   "outputs": [
    {
     "name": "stdout",
     "output_type": "stream",
     "text": [
      "KPL/MK\n",
      "\n",
      "   This meta-kernel lists a subset of kernels from the meta-kernel\n",
      "   cas_2011_v18.tm provided in the CO-S/J/E/V-SPICE-6-V1.0 SPICE PDS3 archive,\n",
      "   covering the whole or a part of the customer requested time period\n",
      "   from 2011-02-13T00:00:00.000 to 2011-02-14T00:00:00.000.\n",
      "\n",
      "   The documentation describing these kernels can be found in the\n",
      "   complete CO-S/J/E/V-SPICE-6-V1.0 SPICE PDS3 archive available at this URL\n",
      "\n",
      "   https://naif.jpl.nasa.gov/pub/naif/pds/data/co-s_j_e_v-spice-6-v1.0/cosp_1000\n",
      "\n",
      "   To use this meta-kernel users may need to modify the value of the\n",
      "   PATH_VALUES keyword to point to the actual location of the archive's\n",
      "   ``data'' directory on their system. Replacing ``/'' with ``\\''\n",
      "   and converting line terminators to the format native to the user's\n",
      "   system may also be required if this meta-kernel is to be used on a\n",
      "   non-UNIX workstation.\n",
      "\n",
      "   This meta-kernel was created by the NAIF node's SPICE PDS archive\n",
      "   subsetting service version 2.1 on Wed Sep 25 12:56:53 PDT 2024.\n",
      "\n",
      " \n",
      "   \\begindata\n",
      " \n",
      "      PATH_VALUES     = (\n",
      "                         '.'\n",
      "                        )\n",
      " \n",
      "      PATH_SYMBOLS    = (\n",
      "                         'KERNELS'\n",
      "                        )\n",
      " \n",
      "      KERNELS_TO_LOAD = (\n",
      "                         '$KERNELS/lsk/naif0012.tls'\n",
      "                         '$KERNELS/pck/pck00010.tpc'\n",
      "                         '$KERNELS/pck/enceladus_ssd_230702_v1.tpc'\n",
      "                         '$KERNELS/fk/cas_rocks_v18.tf'\n",
      "                         '$KERNELS/fk/cas_mimi_v202.tf'\n",
      "                         '$KERNELS/fk/cas_dyn_v03.tf'\n",
      "                         '$KERNELS/fk/cas_v43.tf'\n",
      "                         '$KERNELS/ik/cas_caps_v03.ti'\n",
      "                         '$KERNELS/ik/cas_cda_v01.ti'\n",
      "                         '$KERNELS/ik/cas_cirs_v10.ti'\n",
      "                         '$KERNELS/ik/cas_inms_v02.ti'\n",
      "                         '$KERNELS/ik/cas_iss_v10.ti'\n",
      "                         '$KERNELS/ik/cas_mag_v01.ti'\n",
      "                         '$KERNELS/ik/cas_mimi_v11.ti'\n",
      "                         '$KERNELS/ik/cas_radar_v11.ti'\n",
      "                         '$KERNELS/ik/cas_rpws_v01.ti'\n",
      "                         '$KERNELS/ik/cas_rss_v03.ti'\n",
      "                         '$KERNELS/ik/cas_sru_v02.ti'\n",
      "                         '$KERNELS/ik/cas_uvis_v07.ti'\n",
      "                         '$KERNELS/ik/cas_vims_v06.ti'\n",
      "                         '$KERNELS/sclk/cas00172.tsc'\n",
      "                         '$KERNELS/spk/180927AP_RE_90165_18018.bsp'\n",
      "                         '$KERNELS/spk/140809BP_IRRE_00256_25017.bsp'\n",
      "                         '$KERNELS/spk/sat427.bsp'\n",
      "                         '$KERNELS/spk/200128RU_SCPSE_11041_11093.bsp'\n",
      "                         '$KERNELS/ck/11001_12001pa_gapfill_v14.bc'\n",
      "                         '$KERNELS/ck/11017_11066py_as_flown.bc'\n",
      "                         '$KERNELS/ck/11044_11049ra.bc'\n",
      "                         '$KERNELS/ck/cas_cda_20120517.bc'\n",
      "                         '$KERNELS/ck/cas_lemms_05109_20001_v2.bc'\n",
      "                         '$KERNELS/ck/cas_caps_11032_11060_v2.bc'\n",
      "                         '$KERNELS/dsk/cas_enceladus_ssd_spc_0128icq_v1.bds'\n",
      "                        )\n",
      " \n",
      "   \\begintext\n",
      " \n",
      "\n"
     ]
    }
   ],
   "source": [
    "!cat {mkpath}"
   ]
  },
  {
   "cell_type": "markdown",
   "id": "fd7487fc-1c1a-434d-bcf4-5f9ad3984a9c",
   "metadata": {},
   "source": [
    "## User functions"
   ]
  },
  {
   "cell_type": "code",
   "execution_count": null,
   "id": "ce08ace9-e577-4e81-bb6d-6bfa232f3c08",
   "metadata": {},
   "outputs": [],
   "source": [
    "# | export\n",
    "def get_metakernel_and_files(\n",
    "    mission: str,  # mission shorthand from datasets dataframe\n",
    "    start: str,  # start time as iso-string, or yyyy-jjj\n",
    "    stop: str,  # stop time as iso-string or yyyy-jjj\n",
    "    save_location: str = None,  # override storage into planetarypy archive\n",
    "    quiet: bool = False,  # suppress kernel-wise feedback\n",
    ") -> Path:  # pathlib.Path to metakernel file with corrected data path.\n",
    "    \"For a given mission and start/stop times, download the kernels and get metakernel path\"\n",
    "    subset = Subsetter(mission, start, stop, save_location)\n",
    "    subset.download_kernels(non_blocking=True, quiet=quiet)\n",
    "    return subset.get_metakernel()"
   ]
  },
  {
   "cell_type": "code",
   "execution_count": null,
   "id": "68deb5da-5bd5-44d8-be01-edba72037ce9",
   "metadata": {},
   "outputs": [
    {
     "data": {
      "application/vnd.jupyter.widget-view+json": {
       "model_id": "9fc2390c07574550a4907363a2dc925f",
       "version_major": 2,
       "version_minor": 0
      },
      "text/plain": [
       "Kernels downloaded:   0%|          | 0/32 [00:00<?, ?it/s]"
      ]
     },
     "metadata": {},
     "output_type": "display_data"
    },
    {
     "name": "stdout",
     "output_type": "stream",
     "text": [
      "ck 11001_12001pa_gapfill_v14.bc locally available.\n",
      "ck 11017_11066py_as_flown.bc locally available.\n",
      "ck 11044_11049ra.bc locally available.\n",
      "ck cas_caps_11032_11060_v2.bc locally available.\n",
      "ck cas_cda_20120517.bc locally available.\n",
      "ck cas_lemms_05109_20001_v2.bc locally available.\n",
      "dsk cas_enceladus_ssd_spc_0128icq_v1.bds locally available.\n",
      "fk cas_dyn_v03.tf locally available.\n",
      "fk cas_mimi_v202.tf locally available.\n",
      "fk cas_rocks_v18.tf locally available.\n",
      "fk cas_v43.tf locally available.\n",
      "ik cas_caps_v03.ti locally available.\n",
      "ik cas_cda_v01.ti locally available.\n",
      "ik cas_cirs_v10.ti locally available.\n",
      "ik cas_inms_v02.ti locally available.\n",
      "ik cas_iss_v10.ti locally available.\n",
      "ik cas_mag_v01.ti locally available.\n",
      "ik cas_mimi_v11.ti locally available.\n",
      "ik cas_radar_v11.ti locally available.\n",
      "ik cas_rpws_v01.ti locally available.\n",
      "ik cas_rss_v03.ti locally available.\n",
      "ik cas_sru_v02.ti locally available.\n",
      "ik cas_uvis_v07.ti locally available.\n",
      "ik cas_vims_v06.ti locally available.\n",
      "lsk naif0012.tls locally available.\n",
      "pck enceladus_ssd_230702_v1.tpc locally available.\n",
      "pck pck00010.tpc locally available.\n",
      "sclk cas00172.tsc locally available.\n",
      "spk 140809BP_IRRE_00256_25017.bsp locally available.\n",
      "spk 180927AP_RE_90165_18018.bsp locally available.\n",
      "spk 200128RU_SCPSE_11041_11093.bsp locally available.\n",
      "spk sat427.bsp locally available.\n"
     ]
    },
    {
     "data": {
      "text/plain": [
       "Path('/Users/maye/planetarypy_data/spice_kernels/cassini/cas_2011_v18_110213_110214.tm')"
      ]
     },
     "execution_count": null,
     "metadata": {},
     "output_type": "execute_result"
    }
   ],
   "source": [
    "mkpath = get_metakernel_and_files(\"cassini\", \"2011-02-13\", \"2011-02-14\")\n",
    "mkpath"
   ]
  },
  {
   "cell_type": "code",
   "execution_count": null,
   "id": "9a7bd8b8-2a55-4386-9a98-e3c7c7f425ee",
   "metadata": {},
   "outputs": [],
   "source": [
    "# | export\n",
    "def list_kernels_for_day(\n",
    "    mission: str,  # mission shorthand from datasets dataframe\n",
    "    start: str,  # start time as iso-string, or yyyy-jjj\n",
    "    stop: str = \"\",  # stop time as iso-string or yyyy-jjj\n",
    ") -> list:  # list of kernel names\n",
    "    subset = Subsetter(mission, start, stop)\n",
    "    return subset.kernel_names"
   ]
  },
  {
   "cell_type": "code",
   "execution_count": null,
   "id": "bd5b05dd-3b42-4fa1-a738-bbddc1b01e5a",
   "metadata": {},
   "outputs": [
    {
     "data": {
      "text/plain": [
       "['ck/mro_crm_psp_150201_150228.bc',\n",
       " 'ck/mro_hga_psp_150210_150216_v2.bc',\n",
       " 'ck/mro_mcs_psp_150201_150228.bc',\n",
       " 'ck/mro_sa_psp_150210_150216_v2.bc',\n",
       " 'ck/mro_sc_psp_150210_150216_v2.bc',\n",
       " 'fk/mro_v16.tf',\n",
       " 'ik/mro_crism_v10.ti',\n",
       " 'ik/mro_ctx_v11.ti',\n",
       " 'ik/mro_hirise_v12.ti',\n",
       " 'ik/mro_marci_v10.ti',\n",
       " 'ik/mro_mcs_v10.ti',\n",
       " 'ik/mro_onc_v10.ti',\n",
       " 'lsk/naif0012.tls',\n",
       " 'pck/pck00008.tpc',\n",
       " 'sclk/mro_sclkscet_00095_65536.tsc',\n",
       " 'spk/de421.bsp',\n",
       " 'spk/mar097.bsp',\n",
       " 'spk/mro_psp34.bsp',\n",
       " 'spk/mro_psp34_ssd_mro95a.bsp',\n",
       " 'spk/mro_struct_v10.bsp']"
      ]
     },
     "execution_count": null,
     "metadata": {},
     "output_type": "execute_result"
    }
   ],
   "source": [
    "list_kernels_for_day(\"mro\", \"2015-02-13\")"
   ]
  },
  {
   "cell_type": "code",
   "execution_count": null,
   "id": "1e1026c5-2223-4244-904d-61510813a5c6",
   "metadata": {},
   "outputs": [
    {
     "data": {
      "text/plain": [
       "['ck/mvn_app_rel_161226_170101_v01.bc',\n",
       " 'ck/mvn_app_rel_170102_170108_v01.bc',\n",
       " 'ck/mvn_iuvs_rem_170101_170331_v03.bc',\n",
       " 'ck/mvn_sc_rel_161226_170101_v01.bc',\n",
       " 'ck/mvn_sc_rel_170102_170108_v02.bc',\n",
       " 'ck/mvn_swea_nom_131118_300101_v02.bc',\n",
       " 'fk/maven_v11.tf',\n",
       " 'ik/maven_ant_v10.ti',\n",
       " 'ik/maven_euv_v10.ti',\n",
       " 'ik/maven_iuvs_v11.ti',\n",
       " 'ik/maven_ngims_v10.ti',\n",
       " 'ik/maven_sep_v12.ti',\n",
       " 'ik/maven_static_v11.ti',\n",
       " 'ik/maven_swea_v11.ti',\n",
       " 'ik/maven_swia_v10.ti',\n",
       " 'lsk/naif0012.tls',\n",
       " 'pck/pck00010.tpc',\n",
       " 'sclk/mvn_sclkscet_00112.tsc',\n",
       " 'spk/de430s.bsp',\n",
       " 'spk/mar097s.bsp',\n",
       " 'spk/maven_orb_rec_170101_170401_v1.bsp',\n",
       " 'spk/maven_struct_v01.bsp']"
      ]
     },
     "execution_count": null,
     "metadata": {},
     "output_type": "execute_result"
    }
   ],
   "source": [
    "# this always takes much longer than other requests!\n",
    "list_kernels_for_day(\"maven\", \"2017-01-01\")"
   ]
  },
  {
   "cell_type": "code",
   "execution_count": null,
   "id": "a36fcfff-6b13-4898-a375-dcf390099596",
   "metadata": {},
   "outputs": [
    {
     "data": {
      "text/plain": [
       "['ck/orx_sa_rel_181126_181202_v01.bc',\n",
       " 'ck/orx_sc_rel_181126_181202_v01.bc',\n",
       " 'ck/orx_struct_mapcam_v01.bc',\n",
       " 'ck/orx_struct_polycam_v01.bc',\n",
       " 'dsk/bennu_g_00880mm_alt_obj_0000n00000_v021a.bds',\n",
       " 'fk/orx_shape_v03.tf',\n",
       " 'fk/orx_v14.tf',\n",
       " 'ik/orx_lidar_v00.ti',\n",
       " 'ik/orx_navcam_v02.ti',\n",
       " 'ik/orx_ocams_v07.ti',\n",
       " 'ik/orx_ola_v01.ti',\n",
       " 'ik/orx_otes_v00.ti',\n",
       " 'ik/orx_ovirs_v00.ti',\n",
       " 'ik/orx_rexis_v01.ti',\n",
       " 'ik/orx_stowcam_v00.ti',\n",
       " 'ik/orx_struct_v00.ti',\n",
       " 'lsk/naif0012.tls',\n",
       " 'pck/bennu_v17.tpc',\n",
       " 'pck/pck00010.tpc',\n",
       " 'sclk/orx_sclkscet_00093.tsc',\n",
       " 'spk/bennu_refdrmc_v1.bsp',\n",
       " 'spk/de424.bsp',\n",
       " 'spk/orx_180301_181201_180921_od044_v1.bsp',\n",
       " 'spk/orx_180801_190302_181218_od077_v1.bsp',\n",
       " 'spk/orx_181203_190302_190104_od085_v1.bsp',\n",
       " 'spk/orx_struct_v04.bsp']"
      ]
     },
     "execution_count": null,
     "metadata": {},
     "output_type": "execute_result"
    }
   ],
   "source": [
    "# this always takes much longer than other requests!\n",
    "list_kernels_for_day(\"orex\", \"2018-11-30\")"
   ]
  },
  {
   "cell_type": "code",
   "execution_count": null,
   "id": "fdece451-f66b-432f-95a5-6b5f5c39f38e",
   "metadata": {},
   "outputs": [],
   "source": [
    "# |filter_stream ErfaWarning\n",
    "# |eval: false\n",
    "\n",
    "import time\n",
    "\n",
    "\n",
    "def _test_mission_kernels_available(mission):\n",
    "    print(\"Doing\", mission)\n",
    "    start = datasets.at[mission, \"Start Time\"]\n",
    "    end = datasets.at[mission, \"Stop Time\"]\n",
    "    half = Time(start) + (Time(end) - Time(start)) / 2\n",
    "    print(\"Half time:\", half)\n",
    "    t0 = time.time()\n",
    "    try:\n",
    "        found = list_kernels_for_day(mission, half)\n",
    "    except IndexError:\n",
    "        print(\"Problem with\", mission)\n",
    "    else:\n",
    "        print(f\"Found {len(found)} kernels for {mission}\")\n",
    "        print(\"Time taken:\", t := time.time() - t0)\n",
    "    return dict(mission=mission, processing_time=t, n_kernels=len(found))"
   ]
  },
  {
   "cell_type": "code",
   "execution_count": null,
   "id": "934bf847",
   "metadata": {},
   "outputs": [
    {
     "name": "stdout",
     "output_type": "stream",
     "text": [
      "Doing bc\n",
      "Half time: 2021-05-26 12:00:00.000\n",
      "Found 53 kernels for bc\n",
      "Time taken: 2.1192197799682617\n",
      "Doing cassini\n",
      "Half time: 2007-09-30 12:00:01.000\n",
      "Found 36 kernels for cassini\n",
      "Time taken: 1.2332758903503418\n",
      "Doing clementine\n",
      "Half time: 1994-03-17 12:00:00.000\n",
      "Found 19 kernels for clementine\n",
      "Time taken: 0.8816888332366943\n",
      "Doing dart\n",
      "Half time: 2035-12-06 00:00:00.000\n"
     ]
    },
    {
     "name": "stderr",
     "output_type": "stream",
     "text": [
      "/Users/maye/miniforge3/envs/py312/lib/python3.12/site-packages/erfa/core.py:133: ErfaWarning: ERFA function \"dtf2d\" yielded 1 of \"dubious year (Note 6)\"\n",
      "  warn(f'ERFA function \"{func_name}\" yielded {wmsg}', ErfaWarning)\n",
      "/Users/maye/miniforge3/envs/py312/lib/python3.12/site-packages/erfa/core.py:133: ErfaWarning: ERFA function \"utctai\" yielded 1 of \"dubious year (Note 3)\"\n",
      "  warn(f'ERFA function \"{func_name}\" yielded {wmsg}', ErfaWarning)\n",
      "/Users/maye/miniforge3/envs/py312/lib/python3.12/site-packages/erfa/core.py:133: ErfaWarning: ERFA function \"taiutc\" yielded 1 of \"dubious year (Note 4)\"\n",
      "  warn(f'ERFA function \"{func_name}\" yielded {wmsg}', ErfaWarning)\n",
      "/Users/maye/miniforge3/envs/py312/lib/python3.12/site-packages/erfa/core.py:133: ErfaWarning: ERFA function \"d2dtf\" yielded 1 of \"dubious year (Note 5)\"\n",
      "  warn(f'ERFA function \"{func_name}\" yielded {wmsg}', ErfaWarning)\n"
     ]
    },
    {
     "name": "stdout",
     "output_type": "stream",
     "text": [
      "Found 16 kernels for dart\n",
      "Time taken: 1.444464921951294\n",
      "Doing dawn\n",
      "Half time: 2013-04-14 00:00:00.000\n",
      "Found 21 kernels for dawn\n",
      "Time taken: 1.12506103515625\n",
      "Doing di\n",
      "Half time: 2005-04-26 12:00:00.000\n",
      "Found 16 kernels for di\n",
      "Time taken: 0.8815557956695557\n",
      "Doing ds1\n",
      "Half time: 2000-05-21 11:59:59.500\n",
      "Found 11 kernels for ds1\n",
      "Time taken: 0.8857688903808594\n",
      "Doing epoxi\n",
      "Half time: 2008-05-27 00:00:00.000\n",
      "Found 12 kernels for epoxi\n",
      "Time taken: 0.9109499454498291\n",
      "Doing em16\n",
      "Half time: 2020-02-06 11:59:59.500\n",
      "Found 39 kernels for em16\n",
      "Time taken: 2.2251791954040527\n",
      "Doing grail\n",
      "Half time: 2012-04-29 00:00:00.500\n",
      "Found 20 kernels for grail\n",
      "Time taken: 0.9258971214294434\n",
      "Doing hayabusa\n",
      "Half time: 2005-10-15 12:00:00.000\n",
      "Found 15 kernels for hayabusa\n",
      "Time taken: 1.0151360034942627\n",
      "Doing insight\n",
      "Half time: 2020-08-24 12:00:00.000\n",
      "Found 21 kernels for insight\n",
      "Time taken: 1.842237949371338\n",
      "Doing juno\n",
      "Half time: 2017-08-01 23:59:58.500\n",
      "Found 23 kernels for juno\n",
      "Time taken: 1.2264678478240967\n",
      "Doing ladee\n",
      "Half time: 2031-11-04 11:59:59.000\n",
      "Found 12 kernels for ladee\n",
      "Time taken: 1.2246770858764648\n",
      "Doing lro\n",
      "Half time: 2016-09-15 11:59:59.500\n",
      "Found 20 kernels for lro\n",
      "Time taken: 1.1521670818328857\n",
      "Doing maven\n",
      "Half time: 2018-12-09 23:59:59.000\n",
      "Found 22 kernels for maven\n",
      "Time taken: 9.388850927352905\n",
      "Doing opportunity\n",
      "Half time: 2010-12-23 00:00:00.500\n",
      "Found 23 kernels for opportunity\n",
      "Time taken: 0.9879448413848877\n",
      "Doing spirit\n",
      "Half time: 2006-11-20 12:00:00.000\n",
      "Found 24 kernels for spirit\n",
      "Time taken: 0.932260274887085\n",
      "Doing messenger\n",
      "Half time: 2009-12-15 23:59:59.500\n",
      "Found 18 kernels for messenger\n",
      "Time taken: 0.8956592082977295\n",
      "Doing mars2020\n",
      "Half time: 2022-04-16 12:00:00.000\n",
      "Found 17 kernels for mars2020\n",
      "Time taken: 1.1692688465118408\n",
      "Doing mex\n",
      "Half time: 2013-09-15 11:59:59.500\n",
      "Found 39 kernels for mex\n",
      "Time taken: 0.8947961330413818\n",
      "Doing mgs\n",
      "Half time: 2001-11-03 23:59:59.500\n",
      "Found 20 kernels for mgs\n",
      "Time taken: 0.8846132755279541\n",
      "Doing ody\n",
      "Half time: 2012-07-03 23:59:59.500\n",
      "Found 14 kernels for ody\n",
      "Time taken: 0.8826239109039307\n",
      "Doing mro\n",
      "Half time: 2014-10-21 23:59:59.500\n",
      "Found 20 kernels for mro\n",
      "Time taken: 1.2178068161010742\n",
      "Doing msl\n",
      "Half time: 2017-11-15 11:59:58.500\n",
      "Found 54 kernels for msl\n",
      "Time taken: 0.8609468936920166\n",
      "Doing near\n",
      "Half time: 1998-10-14 12:00:00.000\n",
      "Found 15 kernels for near\n",
      "Time taken: 0.7968876361846924\n",
      "Doing nh\n",
      "Half time: 2014-03-26 12:00:00.000\n",
      "Found 29 kernels for nh\n",
      "Time taken: 0.8112709522247314\n",
      "Doing orex\n",
      "Half time: 2020-03-20 23:59:59.500\n",
      "Found 34 kernels for orex\n",
      "Time taken: 6.104950904846191\n",
      "Doing rosetta\n",
      "Half time: 2010-08-02 00:00:00.500\n",
      "Found 56 kernels for rosetta\n",
      "Time taken: 0.9096639156341553\n",
      "Doing stardust\n",
      "Half time: 2005-03-20 00:00:01.000\n",
      "Found 13 kernels for stardust\n",
      "Time taken: 0.8956108093261719\n",
      "Doing venus_climate_orbiter\n",
      "Half time: 2017-03-11 11:59:58.500\n",
      "Found 18 kernels for venus_climate_orbiter\n",
      "Time taken: 1.5473461151123047\n",
      "Doing vex\n",
      "Half time: 2010-06-23 23:59:59.500\n",
      "Found 27 kernels for vex\n",
      "Time taken: 0.8239796161651611\n",
      "Doing vo\n",
      "Half time: 1978-07-08 12:00:00.000\n",
      "Found 17 kernels for vo\n",
      "Time taken: 0.8116521835327148\n"
     ]
    }
   ],
   "source": [
    "timings = []\n",
    "for mission in datasets.index:\n",
    "    timings.append(_test_mission_kernels_available(mission))"
   ]
  },
  {
   "cell_type": "code",
   "execution_count": null,
   "id": "07f5a493",
   "metadata": {},
   "outputs": [],
   "source": [
    "df = pd.DataFrame(timings).sort_values(\"processing_time\", ascending=False)"
   ]
  },
  {
   "cell_type": "code",
   "execution_count": null,
   "id": "644366b7",
   "metadata": {},
   "outputs": [
    {
     "data": {},
     "metadata": {},
     "output_type": "display_data"
    },
    {
     "data": {
      "application/vnd.holoviews_exec.v0+json": "",
      "text/html": [
       "<div id='p1004'>\n",
       "  <div id=\"a5137edb-2d45-4d60-b89d-731572fc78ab\" data-root-id=\"p1004\" style=\"display: contents;\"></div>\n",
       "</div>\n",
       "<script type=\"application/javascript\">(function(root) {\n",
       "  var docs_json = {\"2b230bba-8c8e-472f-82d4-abedba022526\":{\"version\":\"3.5.2\",\"title\":\"Bokeh Application\",\"roots\":[{\"type\":\"object\",\"name\":\"Row\",\"id\":\"p1004\",\"attributes\":{\"name\":\"Row01577\",\"tags\":[\"embedded\"],\"stylesheets\":[\"\\n:host(.pn-loading):before, .pn-loading:before {\\n  background-color: #c3c3c3;\\n  mask-size: auto calc(min(50%, 400px));\\n  -webkit-mask-size: auto calc(min(50%, 400px));\\n}\",{\"type\":\"object\",\"name\":\"ImportedStyleSheet\",\"id\":\"p1007\",\"attributes\":{\"url\":\"https://cdn.holoviz.org/panel/1.5.0/dist/css/loading.css\"}},{\"type\":\"object\",\"name\":\"ImportedStyleSheet\",\"id\":\"p1611\",\"attributes\":{\"url\":\"https://cdn.holoviz.org/panel/1.5.0/dist/css/listpanel.css\"}},{\"type\":\"object\",\"name\":\"ImportedStyleSheet\",\"id\":\"p1005\",\"attributes\":{\"url\":\"https://cdn.holoviz.org/panel/1.5.0/dist/bundled/theme/default.css\"}},{\"type\":\"object\",\"name\":\"ImportedStyleSheet\",\"id\":\"p1006\",\"attributes\":{\"url\":\"https://cdn.holoviz.org/panel/1.5.0/dist/bundled/theme/native.css\"}}],\"min_width\":600,\"margin\":0,\"sizing_mode\":\"stretch_width\",\"align\":\"start\",\"children\":[{\"type\":\"object\",\"name\":\"Spacer\",\"id\":\"p1008\",\"attributes\":{\"name\":\"HSpacer01584\",\"stylesheets\":[\"\\n:host(.pn-loading):before, .pn-loading:before {\\n  background-color: #c3c3c3;\\n  mask-size: auto calc(min(50%, 400px));\\n  -webkit-mask-size: auto calc(min(50%, 400px));\\n}\",{\"id\":\"p1007\"},{\"id\":\"p1005\"},{\"id\":\"p1006\"}],\"margin\":0,\"sizing_mode\":\"stretch_width\",\"align\":\"start\"}},{\"type\":\"object\",\"name\":\"Figure\",\"id\":\"p1112\",\"attributes\":{\"height\":400,\"margin\":[5,10],\"sizing_mode\":\"fixed\",\"align\":\"start\",\"x_range\":{\"type\":\"object\",\"name\":\"Range1d\",\"id\":\"p1009\",\"attributes\":{\"tags\":[[[\"n_kernels\",null]],[]],\"start\":8.0,\"end\":59.0,\"reset_start\":8.0,\"reset_end\":59.0}},\"y_range\":{\"type\":\"object\",\"name\":\"Range1d\",\"id\":\"p1010\",\"attributes\":{\"tags\":[[[\"processing_time\",null]],{\"type\":\"map\",\"entries\":[[\"invert_yaxis\",false],[\"autorange\",false]]}],\"start\":-0.06230869293212893,\"end\":10.248047256469727,\"reset_start\":-0.06230869293212893,\"reset_end\":10.248047256469727}},\"x_scale\":{\"type\":\"object\",\"name\":\"LinearScale\",\"id\":\"p1122\"},\"y_scale\":{\"type\":\"object\",\"name\":\"LinearScale\",\"id\":\"p1123\"},\"title\":{\"type\":\"object\",\"name\":\"Title\",\"id\":\"p1115\",\"attributes\":{\"text_color\":\"black\",\"text_font_size\":\"12pt\"}},\"renderers\":[{\"type\":\"object\",\"name\":\"GlyphRenderer\",\"id\":\"p1154\",\"attributes\":{\"name\":\"bc\",\"data_source\":{\"type\":\"object\",\"name\":\"ColumnDataSource\",\"id\":\"p1145\",\"attributes\":{\"selected\":{\"type\":\"object\",\"name\":\"Selection\",\"id\":\"p1146\",\"attributes\":{\"indices\":[],\"line_indices\":[]}},\"selection_policy\":{\"type\":\"object\",\"name\":\"UnionRenderers\",\"id\":\"p1147\"},\"data\":{\"type\":\"map\",\"entries\":[[\"n_kernels\",{\"type\":\"ndarray\",\"array\":{\"type\":\"bytes\",\"data\":\"NQAAAA==\"},\"shape\":[1],\"dtype\":\"int32\",\"order\":\"little\"}],[\"processing_time\",{\"type\":\"ndarray\",\"array\":{\"type\":\"bytes\",\"data\":\"AAAAgCn0AEA=\"},\"shape\":[1],\"dtype\":\"float64\",\"order\":\"little\"}],[\"mission\",[\"bc\"]]]}}},\"view\":{\"type\":\"object\",\"name\":\"CDSView\",\"id\":\"p1155\",\"attributes\":{\"filter\":{\"type\":\"object\",\"name\":\"AllIndices\",\"id\":\"p1156\"}}},\"glyph\":{\"type\":\"object\",\"name\":\"Scatter\",\"id\":\"p1151\",\"attributes\":{\"tags\":[\"apply_ranges\"],\"x\":{\"type\":\"field\",\"field\":\"n_kernels\"},\"y\":{\"type\":\"field\",\"field\":\"processing_time\"},\"size\":{\"type\":\"value\",\"value\":5.477225575051661},\"line_color\":{\"type\":\"value\",\"value\":\"#30a2da\"},\"fill_color\":{\"type\":\"value\",\"value\":\"#30a2da\"},\"hatch_color\":{\"type\":\"value\",\"value\":\"#30a2da\"}}},\"selection_glyph\":{\"type\":\"object\",\"name\":\"Scatter\",\"id\":\"p1159\",\"attributes\":{\"tags\":[\"apply_ranges\"],\"x\":{\"type\":\"field\",\"field\":\"n_kernels\"},\"y\":{\"type\":\"field\",\"field\":\"processing_time\"},\"size\":{\"type\":\"value\",\"value\":5.477225575051661},\"angle\":{\"type\":\"value\",\"value\":0.0},\"line_color\":{\"type\":\"value\",\"value\":\"#30a2da\"},\"line_alpha\":{\"type\":\"value\",\"value\":1.0},\"line_width\":{\"type\":\"value\",\"value\":1},\"line_join\":{\"type\":\"value\",\"value\":\"bevel\"},\"line_cap\":{\"type\":\"value\",\"value\":\"butt\"},\"line_dash\":{\"type\":\"value\",\"value\":[]},\"line_dash_offset\":{\"type\":\"value\",\"value\":0},\"fill_color\":{\"type\":\"value\",\"value\":\"#30a2da\"},\"fill_alpha\":{\"type\":\"value\",\"value\":1.0},\"hatch_color\":{\"type\":\"value\",\"value\":\"#30a2da\"},\"hatch_alpha\":{\"type\":\"value\",\"value\":1.0},\"hatch_scale\":{\"type\":\"value\",\"value\":12.0},\"hatch_pattern\":{\"type\":\"value\",\"value\":null},\"hatch_weight\":{\"type\":\"value\",\"value\":1.0},\"marker\":{\"type\":\"value\",\"value\":\"circle\"}}},\"nonselection_glyph\":{\"type\":\"object\",\"name\":\"Scatter\",\"id\":\"p1152\",\"attributes\":{\"tags\":[\"apply_ranges\"],\"x\":{\"type\":\"field\",\"field\":\"n_kernels\"},\"y\":{\"type\":\"field\",\"field\":\"processing_time\"},\"size\":{\"type\":\"value\",\"value\":5.477225575051661},\"line_color\":{\"type\":\"value\",\"value\":\"#30a2da\"},\"line_alpha\":{\"type\":\"value\",\"value\":0.1},\"fill_color\":{\"type\":\"value\",\"value\":\"#30a2da\"},\"fill_alpha\":{\"type\":\"value\",\"value\":0.1},\"hatch_color\":{\"type\":\"value\",\"value\":\"#30a2da\"},\"hatch_alpha\":{\"type\":\"value\",\"value\":0.1}}},\"muted_glyph\":{\"type\":\"object\",\"name\":\"Scatter\",\"id\":\"p1153\",\"attributes\":{\"tags\":[\"apply_ranges\"],\"x\":{\"type\":\"field\",\"field\":\"n_kernels\"},\"y\":{\"type\":\"field\",\"field\":\"processing_time\"},\"size\":{\"type\":\"value\",\"value\":5.477225575051661},\"line_color\":{\"type\":\"value\",\"value\":\"#30a2da\"},\"line_alpha\":{\"type\":\"value\",\"value\":0.2},\"fill_color\":{\"type\":\"value\",\"value\":\"#30a2da\"},\"fill_alpha\":{\"type\":\"value\",\"value\":0.2},\"hatch_color\":{\"type\":\"value\",\"value\":\"#30a2da\"},\"hatch_alpha\":{\"type\":\"value\",\"value\":0.2}}}}},{\"type\":\"object\",\"name\":\"GlyphRenderer\",\"id\":\"p1169\",\"attributes\":{\"name\":\"cassini\",\"data_source\":{\"type\":\"object\",\"name\":\"ColumnDataSource\",\"id\":\"p1160\",\"attributes\":{\"selected\":{\"type\":\"object\",\"name\":\"Selection\",\"id\":\"p1161\",\"attributes\":{\"indices\":[],\"line_indices\":[]}},\"selection_policy\":{\"type\":\"object\",\"name\":\"UnionRenderers\",\"id\":\"p1162\"},\"data\":{\"type\":\"map\",\"entries\":[[\"n_kernels\",{\"type\":\"ndarray\",\"array\":{\"type\":\"bytes\",\"data\":\"JAAAAA==\"},\"shape\":[1],\"dtype\":\"int32\",\"order\":\"little\"}],[\"processing_time\",{\"type\":\"ndarray\",\"array\":{\"type\":\"bytes\",\"data\":\"AAAAgH+78z8=\"},\"shape\":[1],\"dtype\":\"float64\",\"order\":\"little\"}],[\"mission\",[\"cassini\"]]]}}},\"view\":{\"type\":\"object\",\"name\":\"CDSView\",\"id\":\"p1170\",\"attributes\":{\"filter\":{\"type\":\"object\",\"name\":\"AllIndices\",\"id\":\"p1171\"}}},\"glyph\":{\"type\":\"object\",\"name\":\"Scatter\",\"id\":\"p1166\",\"attributes\":{\"tags\":[\"apply_ranges\"],\"x\":{\"type\":\"field\",\"field\":\"n_kernels\"},\"y\":{\"type\":\"field\",\"field\":\"processing_time\"},\"size\":{\"type\":\"value\",\"value\":5.477225575051661},\"line_color\":{\"type\":\"value\",\"value\":\"#fc4f30\"},\"fill_color\":{\"type\":\"value\",\"value\":\"#fc4f30\"},\"hatch_color\":{\"type\":\"value\",\"value\":\"#fc4f30\"}}},\"selection_glyph\":{\"type\":\"object\",\"name\":\"Scatter\",\"id\":\"p1173\",\"attributes\":{\"tags\":[\"apply_ranges\"],\"x\":{\"type\":\"field\",\"field\":\"n_kernels\"},\"y\":{\"type\":\"field\",\"field\":\"processing_time\"},\"size\":{\"type\":\"value\",\"value\":5.477225575051661},\"angle\":{\"type\":\"value\",\"value\":0.0},\"line_color\":{\"type\":\"value\",\"value\":\"#fc4f30\"},\"line_alpha\":{\"type\":\"value\",\"value\":1.0},\"line_width\":{\"type\":\"value\",\"value\":1},\"line_join\":{\"type\":\"value\",\"value\":\"bevel\"},\"line_cap\":{\"type\":\"value\",\"value\":\"butt\"},\"line_dash\":{\"type\":\"value\",\"value\":[]},\"line_dash_offset\":{\"type\":\"value\",\"value\":0},\"fill_color\":{\"type\":\"value\",\"value\":\"#fc4f30\"},\"fill_alpha\":{\"type\":\"value\",\"value\":1.0},\"hatch_color\":{\"type\":\"value\",\"value\":\"#fc4f30\"},\"hatch_alpha\":{\"type\":\"value\",\"value\":1.0},\"hatch_scale\":{\"type\":\"value\",\"value\":12.0},\"hatch_pattern\":{\"type\":\"value\",\"value\":null},\"hatch_weight\":{\"type\":\"value\",\"value\":1.0},\"marker\":{\"type\":\"value\",\"value\":\"circle\"}}},\"nonselection_glyph\":{\"type\":\"object\",\"name\":\"Scatter\",\"id\":\"p1167\",\"attributes\":{\"tags\":[\"apply_ranges\"],\"x\":{\"type\":\"field\",\"field\":\"n_kernels\"},\"y\":{\"type\":\"field\",\"field\":\"processing_time\"},\"size\":{\"type\":\"value\",\"value\":5.477225575051661},\"line_color\":{\"type\":\"value\",\"value\":\"#fc4f30\"},\"line_alpha\":{\"type\":\"value\",\"value\":0.1},\"fill_color\":{\"type\":\"value\",\"value\":\"#fc4f30\"},\"fill_alpha\":{\"type\":\"value\",\"value\":0.1},\"hatch_color\":{\"type\":\"value\",\"value\":\"#fc4f30\"},\"hatch_alpha\":{\"type\":\"value\",\"value\":0.1}}},\"muted_glyph\":{\"type\":\"object\",\"name\":\"Scatter\",\"id\":\"p1168\",\"attributes\":{\"tags\":[\"apply_ranges\"],\"x\":{\"type\":\"field\",\"field\":\"n_kernels\"},\"y\":{\"type\":\"field\",\"field\":\"processing_time\"},\"size\":{\"type\":\"value\",\"value\":5.477225575051661},\"line_color\":{\"type\":\"value\",\"value\":\"#fc4f30\"},\"line_alpha\":{\"type\":\"value\",\"value\":0.2},\"fill_color\":{\"type\":\"value\",\"value\":\"#fc4f30\"},\"fill_alpha\":{\"type\":\"value\",\"value\":0.2},\"hatch_color\":{\"type\":\"value\",\"value\":\"#fc4f30\"},\"hatch_alpha\":{\"type\":\"value\",\"value\":0.2}}}}},{\"type\":\"object\",\"name\":\"GlyphRenderer\",\"id\":\"p1183\",\"attributes\":{\"name\":\"clementine\",\"data_source\":{\"type\":\"object\",\"name\":\"ColumnDataSource\",\"id\":\"p1174\",\"attributes\":{\"selected\":{\"type\":\"object\",\"name\":\"Selection\",\"id\":\"p1175\",\"attributes\":{\"indices\":[],\"line_indices\":[]}},\"selection_policy\":{\"type\":\"object\",\"name\":\"UnionRenderers\",\"id\":\"p1176\"},\"data\":{\"type\":\"map\",\"entries\":[[\"n_kernels\",{\"type\":\"ndarray\",\"array\":{\"type\":\"bytes\",\"data\":\"EwAAAA==\"},\"shape\":[1],\"dtype\":\"int32\",\"order\":\"little\"}],[\"processing_time\",{\"type\":\"ndarray\",\"array\":{\"type\":\"bytes\",\"data\":\"AAAAgMs27D8=\"},\"shape\":[1],\"dtype\":\"float64\",\"order\":\"little\"}],[\"mission\",[\"clementine\"]]]}}},\"view\":{\"type\":\"object\",\"name\":\"CDSView\",\"id\":\"p1184\",\"attributes\":{\"filter\":{\"type\":\"object\",\"name\":\"AllIndices\",\"id\":\"p1185\"}}},\"glyph\":{\"type\":\"object\",\"name\":\"Scatter\",\"id\":\"p1180\",\"attributes\":{\"tags\":[\"apply_ranges\"],\"x\":{\"type\":\"field\",\"field\":\"n_kernels\"},\"y\":{\"type\":\"field\",\"field\":\"processing_time\"},\"size\":{\"type\":\"value\",\"value\":5.477225575051661},\"line_color\":{\"type\":\"value\",\"value\":\"#e5ae38\"},\"fill_color\":{\"type\":\"value\",\"value\":\"#e5ae38\"},\"hatch_color\":{\"type\":\"value\",\"value\":\"#e5ae38\"}}},\"selection_glyph\":{\"type\":\"object\",\"name\":\"Scatter\",\"id\":\"p1187\",\"attributes\":{\"tags\":[\"apply_ranges\"],\"x\":{\"type\":\"field\",\"field\":\"n_kernels\"},\"y\":{\"type\":\"field\",\"field\":\"processing_time\"},\"size\":{\"type\":\"value\",\"value\":5.477225575051661},\"angle\":{\"type\":\"value\",\"value\":0.0},\"line_color\":{\"type\":\"value\",\"value\":\"#e5ae38\"},\"line_alpha\":{\"type\":\"value\",\"value\":1.0},\"line_width\":{\"type\":\"value\",\"value\":1},\"line_join\":{\"type\":\"value\",\"value\":\"bevel\"},\"line_cap\":{\"type\":\"value\",\"value\":\"butt\"},\"line_dash\":{\"type\":\"value\",\"value\":[]},\"line_dash_offset\":{\"type\":\"value\",\"value\":0},\"fill_color\":{\"type\":\"value\",\"value\":\"#e5ae38\"},\"fill_alpha\":{\"type\":\"value\",\"value\":1.0},\"hatch_color\":{\"type\":\"value\",\"value\":\"#e5ae38\"},\"hatch_alpha\":{\"type\":\"value\",\"value\":1.0},\"hatch_scale\":{\"type\":\"value\",\"value\":12.0},\"hatch_pattern\":{\"type\":\"value\",\"value\":null},\"hatch_weight\":{\"type\":\"value\",\"value\":1.0},\"marker\":{\"type\":\"value\",\"value\":\"circle\"}}},\"nonselection_glyph\":{\"type\":\"object\",\"name\":\"Scatter\",\"id\":\"p1181\",\"attributes\":{\"tags\":[\"apply_ranges\"],\"x\":{\"type\":\"field\",\"field\":\"n_kernels\"},\"y\":{\"type\":\"field\",\"field\":\"processing_time\"},\"size\":{\"type\":\"value\",\"value\":5.477225575051661},\"line_color\":{\"type\":\"value\",\"value\":\"#e5ae38\"},\"line_alpha\":{\"type\":\"value\",\"value\":0.1},\"fill_color\":{\"type\":\"value\",\"value\":\"#e5ae38\"},\"fill_alpha\":{\"type\":\"value\",\"value\":0.1},\"hatch_color\":{\"type\":\"value\",\"value\":\"#e5ae38\"},\"hatch_alpha\":{\"type\":\"value\",\"value\":0.1}}},\"muted_glyph\":{\"type\":\"object\",\"name\":\"Scatter\",\"id\":\"p1182\",\"attributes\":{\"tags\":[\"apply_ranges\"],\"x\":{\"type\":\"field\",\"field\":\"n_kernels\"},\"y\":{\"type\":\"field\",\"field\":\"processing_time\"},\"size\":{\"type\":\"value\",\"value\":5.477225575051661},\"line_color\":{\"type\":\"value\",\"value\":\"#e5ae38\"},\"line_alpha\":{\"type\":\"value\",\"value\":0.2},\"fill_color\":{\"type\":\"value\",\"value\":\"#e5ae38\"},\"fill_alpha\":{\"type\":\"value\",\"value\":0.2},\"hatch_color\":{\"type\":\"value\",\"value\":\"#e5ae38\"},\"hatch_alpha\":{\"type\":\"value\",\"value\":0.2}}}}},{\"type\":\"object\",\"name\":\"GlyphRenderer\",\"id\":\"p1197\",\"attributes\":{\"name\":\"dart\",\"data_source\":{\"type\":\"object\",\"name\":\"ColumnDataSource\",\"id\":\"p1188\",\"attributes\":{\"selected\":{\"type\":\"object\",\"name\":\"Selection\",\"id\":\"p1189\",\"attributes\":{\"indices\":[],\"line_indices\":[]}},\"selection_policy\":{\"type\":\"object\",\"name\":\"UnionRenderers\",\"id\":\"p1190\"},\"data\":{\"type\":\"map\",\"entries\":[[\"n_kernels\",{\"type\":\"ndarray\",\"array\":{\"type\":\"bytes\",\"data\":\"EAAAAA==\"},\"shape\":[1],\"dtype\":\"int32\",\"order\":\"little\"}],[\"processing_time\",{\"type\":\"ndarray\",\"array\":{\"type\":\"bytes\",\"data\":\"AAAAQIcc9z8=\"},\"shape\":[1],\"dtype\":\"float64\",\"order\":\"little\"}],[\"mission\",[\"dart\"]]]}}},\"view\":{\"type\":\"object\",\"name\":\"CDSView\",\"id\":\"p1198\",\"attributes\":{\"filter\":{\"type\":\"object\",\"name\":\"AllIndices\",\"id\":\"p1199\"}}},\"glyph\":{\"type\":\"object\",\"name\":\"Scatter\",\"id\":\"p1194\",\"attributes\":{\"tags\":[\"apply_ranges\"],\"x\":{\"type\":\"field\",\"field\":\"n_kernels\"},\"y\":{\"type\":\"field\",\"field\":\"processing_time\"},\"size\":{\"type\":\"value\",\"value\":5.477225575051661},\"line_color\":{\"type\":\"value\",\"value\":\"#6d904f\"},\"fill_color\":{\"type\":\"value\",\"value\":\"#6d904f\"},\"hatch_color\":{\"type\":\"value\",\"value\":\"#6d904f\"}}},\"selection_glyph\":{\"type\":\"object\",\"name\":\"Scatter\",\"id\":\"p1201\",\"attributes\":{\"tags\":[\"apply_ranges\"],\"x\":{\"type\":\"field\",\"field\":\"n_kernels\"},\"y\":{\"type\":\"field\",\"field\":\"processing_time\"},\"size\":{\"type\":\"value\",\"value\":5.477225575051661},\"angle\":{\"type\":\"value\",\"value\":0.0},\"line_color\":{\"type\":\"value\",\"value\":\"#6d904f\"},\"line_alpha\":{\"type\":\"value\",\"value\":1.0},\"line_width\":{\"type\":\"value\",\"value\":1},\"line_join\":{\"type\":\"value\",\"value\":\"bevel\"},\"line_cap\":{\"type\":\"value\",\"value\":\"butt\"},\"line_dash\":{\"type\":\"value\",\"value\":[]},\"line_dash_offset\":{\"type\":\"value\",\"value\":0},\"fill_color\":{\"type\":\"value\",\"value\":\"#6d904f\"},\"fill_alpha\":{\"type\":\"value\",\"value\":1.0},\"hatch_color\":{\"type\":\"value\",\"value\":\"#6d904f\"},\"hatch_alpha\":{\"type\":\"value\",\"value\":1.0},\"hatch_scale\":{\"type\":\"value\",\"value\":12.0},\"hatch_pattern\":{\"type\":\"value\",\"value\":null},\"hatch_weight\":{\"type\":\"value\",\"value\":1.0},\"marker\":{\"type\":\"value\",\"value\":\"circle\"}}},\"nonselection_glyph\":{\"type\":\"object\",\"name\":\"Scatter\",\"id\":\"p1195\",\"attributes\":{\"tags\":[\"apply_ranges\"],\"x\":{\"type\":\"field\",\"field\":\"n_kernels\"},\"y\":{\"type\":\"field\",\"field\":\"processing_time\"},\"size\":{\"type\":\"value\",\"value\":5.477225575051661},\"line_color\":{\"type\":\"value\",\"value\":\"#6d904f\"},\"line_alpha\":{\"type\":\"value\",\"value\":0.1},\"fill_color\":{\"type\":\"value\",\"value\":\"#6d904f\"},\"fill_alpha\":{\"type\":\"value\",\"value\":0.1},\"hatch_color\":{\"type\":\"value\",\"value\":\"#6d904f\"},\"hatch_alpha\":{\"type\":\"value\",\"value\":0.1}}},\"muted_glyph\":{\"type\":\"object\",\"name\":\"Scatter\",\"id\":\"p1196\",\"attributes\":{\"tags\":[\"apply_ranges\"],\"x\":{\"type\":\"field\",\"field\":\"n_kernels\"},\"y\":{\"type\":\"field\",\"field\":\"processing_time\"},\"size\":{\"type\":\"value\",\"value\":5.477225575051661},\"line_color\":{\"type\":\"value\",\"value\":\"#6d904f\"},\"line_alpha\":{\"type\":\"value\",\"value\":0.2},\"fill_color\":{\"type\":\"value\",\"value\":\"#6d904f\"},\"fill_alpha\":{\"type\":\"value\",\"value\":0.2},\"hatch_color\":{\"type\":\"value\",\"value\":\"#6d904f\"},\"hatch_alpha\":{\"type\":\"value\",\"value\":0.2}}}}},{\"type\":\"object\",\"name\":\"GlyphRenderer\",\"id\":\"p1211\",\"attributes\":{\"name\":\"dawn\",\"data_source\":{\"type\":\"object\",\"name\":\"ColumnDataSource\",\"id\":\"p1202\",\"attributes\":{\"selected\":{\"type\":\"object\",\"name\":\"Selection\",\"id\":\"p1203\",\"attributes\":{\"indices\":[],\"line_indices\":[]}},\"selection_policy\":{\"type\":\"object\",\"name\":\"UnionRenderers\",\"id\":\"p1204\"},\"data\":{\"type\":\"map\",\"entries\":[[\"n_kernels\",{\"type\":\"ndarray\",\"array\":{\"type\":\"bytes\",\"data\":\"FQAAAA==\"},\"shape\":[1],\"dtype\":\"int32\",\"order\":\"little\"}],[\"processing_time\",{\"type\":\"ndarray\",\"array\":{\"type\":\"bytes\",\"data\":\"AAAAAEAA8j8=\"},\"shape\":[1],\"dtype\":\"float64\",\"order\":\"little\"}],[\"mission\",[\"dawn\"]]]}}},\"view\":{\"type\":\"object\",\"name\":\"CDSView\",\"id\":\"p1212\",\"attributes\":{\"filter\":{\"type\":\"object\",\"name\":\"AllIndices\",\"id\":\"p1213\"}}},\"glyph\":{\"type\":\"object\",\"name\":\"Scatter\",\"id\":\"p1208\",\"attributes\":{\"tags\":[\"apply_ranges\"],\"x\":{\"type\":\"field\",\"field\":\"n_kernels\"},\"y\":{\"type\":\"field\",\"field\":\"processing_time\"},\"size\":{\"type\":\"value\",\"value\":5.477225575051661},\"line_color\":{\"type\":\"value\",\"value\":\"#8b8b8b\"},\"fill_color\":{\"type\":\"value\",\"value\":\"#8b8b8b\"},\"hatch_color\":{\"type\":\"value\",\"value\":\"#8b8b8b\"}}},\"selection_glyph\":{\"type\":\"object\",\"name\":\"Scatter\",\"id\":\"p1215\",\"attributes\":{\"tags\":[\"apply_ranges\"],\"x\":{\"type\":\"field\",\"field\":\"n_kernels\"},\"y\":{\"type\":\"field\",\"field\":\"processing_time\"},\"size\":{\"type\":\"value\",\"value\":5.477225575051661},\"angle\":{\"type\":\"value\",\"value\":0.0},\"line_color\":{\"type\":\"value\",\"value\":\"#8b8b8b\"},\"line_alpha\":{\"type\":\"value\",\"value\":1.0},\"line_width\":{\"type\":\"value\",\"value\":1},\"line_join\":{\"type\":\"value\",\"value\":\"bevel\"},\"line_cap\":{\"type\":\"value\",\"value\":\"butt\"},\"line_dash\":{\"type\":\"value\",\"value\":[]},\"line_dash_offset\":{\"type\":\"value\",\"value\":0},\"fill_color\":{\"type\":\"value\",\"value\":\"#8b8b8b\"},\"fill_alpha\":{\"type\":\"value\",\"value\":1.0},\"hatch_color\":{\"type\":\"value\",\"value\":\"#8b8b8b\"},\"hatch_alpha\":{\"type\":\"value\",\"value\":1.0},\"hatch_scale\":{\"type\":\"value\",\"value\":12.0},\"hatch_pattern\":{\"type\":\"value\",\"value\":null},\"hatch_weight\":{\"type\":\"value\",\"value\":1.0},\"marker\":{\"type\":\"value\",\"value\":\"circle\"}}},\"nonselection_glyph\":{\"type\":\"object\",\"name\":\"Scatter\",\"id\":\"p1209\",\"attributes\":{\"tags\":[\"apply_ranges\"],\"x\":{\"type\":\"field\",\"field\":\"n_kernels\"},\"y\":{\"type\":\"field\",\"field\":\"processing_time\"},\"size\":{\"type\":\"value\",\"value\":5.477225575051661},\"line_color\":{\"type\":\"value\",\"value\":\"#8b8b8b\"},\"line_alpha\":{\"type\":\"value\",\"value\":0.1},\"fill_color\":{\"type\":\"value\",\"value\":\"#8b8b8b\"},\"fill_alpha\":{\"type\":\"value\",\"value\":0.1},\"hatch_color\":{\"type\":\"value\",\"value\":\"#8b8b8b\"},\"hatch_alpha\":{\"type\":\"value\",\"value\":0.1}}},\"muted_glyph\":{\"type\":\"object\",\"name\":\"Scatter\",\"id\":\"p1210\",\"attributes\":{\"tags\":[\"apply_ranges\"],\"x\":{\"type\":\"field\",\"field\":\"n_kernels\"},\"y\":{\"type\":\"field\",\"field\":\"processing_time\"},\"size\":{\"type\":\"value\",\"value\":5.477225575051661},\"line_color\":{\"type\":\"value\",\"value\":\"#8b8b8b\"},\"line_alpha\":{\"type\":\"value\",\"value\":0.2},\"fill_color\":{\"type\":\"value\",\"value\":\"#8b8b8b\"},\"fill_alpha\":{\"type\":\"value\",\"value\":0.2},\"hatch_color\":{\"type\":\"value\",\"value\":\"#8b8b8b\"},\"hatch_alpha\":{\"type\":\"value\",\"value\":0.2}}}}},{\"type\":\"object\",\"name\":\"GlyphRenderer\",\"id\":\"p1225\",\"attributes\":{\"name\":\"di\",\"data_source\":{\"type\":\"object\",\"name\":\"ColumnDataSource\",\"id\":\"p1216\",\"attributes\":{\"selected\":{\"type\":\"object\",\"name\":\"Selection\",\"id\":\"p1217\",\"attributes\":{\"indices\":[],\"line_indices\":[]}},\"selection_policy\":{\"type\":\"object\",\"name\":\"UnionRenderers\",\"id\":\"p1218\"},\"data\":{\"type\":\"map\",\"entries\":[[\"n_kernels\",{\"type\":\"ndarray\",\"array\":{\"type\":\"bytes\",\"data\":\"EAAAAA==\"},\"shape\":[1],\"dtype\":\"int32\",\"order\":\"little\"}],[\"processing_time\",{\"type\":\"ndarray\",\"array\":{\"type\":\"bytes\",\"data\":\"AAAAgLQ17D8=\"},\"shape\":[1],\"dtype\":\"float64\",\"order\":\"little\"}],[\"mission\",[\"di\"]]]}}},\"view\":{\"type\":\"object\",\"name\":\"CDSView\",\"id\":\"p1226\",\"attributes\":{\"filter\":{\"type\":\"object\",\"name\":\"AllIndices\",\"id\":\"p1227\"}}},\"glyph\":{\"type\":\"object\",\"name\":\"Scatter\",\"id\":\"p1222\",\"attributes\":{\"tags\":[\"apply_ranges\"],\"x\":{\"type\":\"field\",\"field\":\"n_kernels\"},\"y\":{\"type\":\"field\",\"field\":\"processing_time\"},\"size\":{\"type\":\"value\",\"value\":5.477225575051661},\"line_color\":{\"type\":\"value\",\"value\":\"#17becf\"},\"fill_color\":{\"type\":\"value\",\"value\":\"#17becf\"},\"hatch_color\":{\"type\":\"value\",\"value\":\"#17becf\"}}},\"selection_glyph\":{\"type\":\"object\",\"name\":\"Scatter\",\"id\":\"p1229\",\"attributes\":{\"tags\":[\"apply_ranges\"],\"x\":{\"type\":\"field\",\"field\":\"n_kernels\"},\"y\":{\"type\":\"field\",\"field\":\"processing_time\"},\"size\":{\"type\":\"value\",\"value\":5.477225575051661},\"angle\":{\"type\":\"value\",\"value\":0.0},\"line_color\":{\"type\":\"value\",\"value\":\"#17becf\"},\"line_alpha\":{\"type\":\"value\",\"value\":1.0},\"line_width\":{\"type\":\"value\",\"value\":1},\"line_join\":{\"type\":\"value\",\"value\":\"bevel\"},\"line_cap\":{\"type\":\"value\",\"value\":\"butt\"},\"line_dash\":{\"type\":\"value\",\"value\":[]},\"line_dash_offset\":{\"type\":\"value\",\"value\":0},\"fill_color\":{\"type\":\"value\",\"value\":\"#17becf\"},\"fill_alpha\":{\"type\":\"value\",\"value\":1.0},\"hatch_color\":{\"type\":\"value\",\"value\":\"#17becf\"},\"hatch_alpha\":{\"type\":\"value\",\"value\":1.0},\"hatch_scale\":{\"type\":\"value\",\"value\":12.0},\"hatch_pattern\":{\"type\":\"value\",\"value\":null},\"hatch_weight\":{\"type\":\"value\",\"value\":1.0},\"marker\":{\"type\":\"value\",\"value\":\"circle\"}}},\"nonselection_glyph\":{\"type\":\"object\",\"name\":\"Scatter\",\"id\":\"p1223\",\"attributes\":{\"tags\":[\"apply_ranges\"],\"x\":{\"type\":\"field\",\"field\":\"n_kernels\"},\"y\":{\"type\":\"field\",\"field\":\"processing_time\"},\"size\":{\"type\":\"value\",\"value\":5.477225575051661},\"line_color\":{\"type\":\"value\",\"value\":\"#17becf\"},\"line_alpha\":{\"type\":\"value\",\"value\":0.1},\"fill_color\":{\"type\":\"value\",\"value\":\"#17becf\"},\"fill_alpha\":{\"type\":\"value\",\"value\":0.1},\"hatch_color\":{\"type\":\"value\",\"value\":\"#17becf\"},\"hatch_alpha\":{\"type\":\"value\",\"value\":0.1}}},\"muted_glyph\":{\"type\":\"object\",\"name\":\"Scatter\",\"id\":\"p1224\",\"attributes\":{\"tags\":[\"apply_ranges\"],\"x\":{\"type\":\"field\",\"field\":\"n_kernels\"},\"y\":{\"type\":\"field\",\"field\":\"processing_time\"},\"size\":{\"type\":\"value\",\"value\":5.477225575051661},\"line_color\":{\"type\":\"value\",\"value\":\"#17becf\"},\"line_alpha\":{\"type\":\"value\",\"value\":0.2},\"fill_color\":{\"type\":\"value\",\"value\":\"#17becf\"},\"fill_alpha\":{\"type\":\"value\",\"value\":0.2},\"hatch_color\":{\"type\":\"value\",\"value\":\"#17becf\"},\"hatch_alpha\":{\"type\":\"value\",\"value\":0.2}}}}},{\"type\":\"object\",\"name\":\"GlyphRenderer\",\"id\":\"p1239\",\"attributes\":{\"name\":\"ds1\",\"data_source\":{\"type\":\"object\",\"name\":\"ColumnDataSource\",\"id\":\"p1230\",\"attributes\":{\"selected\":{\"type\":\"object\",\"name\":\"Selection\",\"id\":\"p1231\",\"attributes\":{\"indices\":[],\"line_indices\":[]}},\"selection_policy\":{\"type\":\"object\",\"name\":\"UnionRenderers\",\"id\":\"p1232\"},\"data\":{\"type\":\"map\",\"entries\":[[\"n_kernels\",{\"type\":\"ndarray\",\"array\":{\"type\":\"bytes\",\"data\":\"CwAAAA==\"},\"shape\":[1],\"dtype\":\"int32\",\"order\":\"little\"}],[\"processing_time\",{\"type\":\"ndarray\",\"array\":{\"type\":\"bytes\",\"data\":\"AAAAADhY7D8=\"},\"shape\":[1],\"dtype\":\"float64\",\"order\":\"little\"}],[\"mission\",[\"ds1\"]]]}}},\"view\":{\"type\":\"object\",\"name\":\"CDSView\",\"id\":\"p1240\",\"attributes\":{\"filter\":{\"type\":\"object\",\"name\":\"AllIndices\",\"id\":\"p1241\"}}},\"glyph\":{\"type\":\"object\",\"name\":\"Scatter\",\"id\":\"p1236\",\"attributes\":{\"tags\":[\"apply_ranges\"],\"x\":{\"type\":\"field\",\"field\":\"n_kernels\"},\"y\":{\"type\":\"field\",\"field\":\"processing_time\"},\"size\":{\"type\":\"value\",\"value\":5.477225575051661},\"line_color\":{\"type\":\"value\",\"value\":\"#9467bd\"},\"fill_color\":{\"type\":\"value\",\"value\":\"#9467bd\"},\"hatch_color\":{\"type\":\"value\",\"value\":\"#9467bd\"}}},\"selection_glyph\":{\"type\":\"object\",\"name\":\"Scatter\",\"id\":\"p1243\",\"attributes\":{\"tags\":[\"apply_ranges\"],\"x\":{\"type\":\"field\",\"field\":\"n_kernels\"},\"y\":{\"type\":\"field\",\"field\":\"processing_time\"},\"size\":{\"type\":\"value\",\"value\":5.477225575051661},\"angle\":{\"type\":\"value\",\"value\":0.0},\"line_color\":{\"type\":\"value\",\"value\":\"#9467bd\"},\"line_alpha\":{\"type\":\"value\",\"value\":1.0},\"line_width\":{\"type\":\"value\",\"value\":1},\"line_join\":{\"type\":\"value\",\"value\":\"bevel\"},\"line_cap\":{\"type\":\"value\",\"value\":\"butt\"},\"line_dash\":{\"type\":\"value\",\"value\":[]},\"line_dash_offset\":{\"type\":\"value\",\"value\":0},\"fill_color\":{\"type\":\"value\",\"value\":\"#9467bd\"},\"fill_alpha\":{\"type\":\"value\",\"value\":1.0},\"hatch_color\":{\"type\":\"value\",\"value\":\"#9467bd\"},\"hatch_alpha\":{\"type\":\"value\",\"value\":1.0},\"hatch_scale\":{\"type\":\"value\",\"value\":12.0},\"hatch_pattern\":{\"type\":\"value\",\"value\":null},\"hatch_weight\":{\"type\":\"value\",\"value\":1.0},\"marker\":{\"type\":\"value\",\"value\":\"circle\"}}},\"nonselection_glyph\":{\"type\":\"object\",\"name\":\"Scatter\",\"id\":\"p1237\",\"attributes\":{\"tags\":[\"apply_ranges\"],\"x\":{\"type\":\"field\",\"field\":\"n_kernels\"},\"y\":{\"type\":\"field\",\"field\":\"processing_time\"},\"size\":{\"type\":\"value\",\"value\":5.477225575051661},\"line_color\":{\"type\":\"value\",\"value\":\"#9467bd\"},\"line_alpha\":{\"type\":\"value\",\"value\":0.1},\"fill_color\":{\"type\":\"value\",\"value\":\"#9467bd\"},\"fill_alpha\":{\"type\":\"value\",\"value\":0.1},\"hatch_color\":{\"type\":\"value\",\"value\":\"#9467bd\"},\"hatch_alpha\":{\"type\":\"value\",\"value\":0.1}}},\"muted_glyph\":{\"type\":\"object\",\"name\":\"Scatter\",\"id\":\"p1238\",\"attributes\":{\"tags\":[\"apply_ranges\"],\"x\":{\"type\":\"field\",\"field\":\"n_kernels\"},\"y\":{\"type\":\"field\",\"field\":\"processing_time\"},\"size\":{\"type\":\"value\",\"value\":5.477225575051661},\"line_color\":{\"type\":\"value\",\"value\":\"#9467bd\"},\"line_alpha\":{\"type\":\"value\",\"value\":0.2},\"fill_color\":{\"type\":\"value\",\"value\":\"#9467bd\"},\"fill_alpha\":{\"type\":\"value\",\"value\":0.2},\"hatch_color\":{\"type\":\"value\",\"value\":\"#9467bd\"},\"hatch_alpha\":{\"type\":\"value\",\"value\":0.2}}}}},{\"type\":\"object\",\"name\":\"GlyphRenderer\",\"id\":\"p1253\",\"attributes\":{\"name\":\"em16\",\"data_source\":{\"type\":\"object\",\"name\":\"ColumnDataSource\",\"id\":\"p1244\",\"attributes\":{\"selected\":{\"type\":\"object\",\"name\":\"Selection\",\"id\":\"p1245\",\"attributes\":{\"indices\":[],\"line_indices\":[]}},\"selection_policy\":{\"type\":\"object\",\"name\":\"UnionRenderers\",\"id\":\"p1246\"},\"data\":{\"type\":\"map\",\"entries\":[[\"n_kernels\",{\"type\":\"ndarray\",\"array\":{\"type\":\"bytes\",\"data\":\"JwAAAA==\"},\"shape\":[1],\"dtype\":\"int32\",\"order\":\"little\"}],[\"processing_time\",{\"type\":\"ndarray\",\"array\":{\"type\":\"bytes\",\"data\":\"AAAAwCrNAUA=\"},\"shape\":[1],\"dtype\":\"float64\",\"order\":\"little\"}],[\"mission\",[\"em16\"]]]}}},\"view\":{\"type\":\"object\",\"name\":\"CDSView\",\"id\":\"p1254\",\"attributes\":{\"filter\":{\"type\":\"object\",\"name\":\"AllIndices\",\"id\":\"p1255\"}}},\"glyph\":{\"type\":\"object\",\"name\":\"Scatter\",\"id\":\"p1250\",\"attributes\":{\"tags\":[\"apply_ranges\"],\"x\":{\"type\":\"field\",\"field\":\"n_kernels\"},\"y\":{\"type\":\"field\",\"field\":\"processing_time\"},\"size\":{\"type\":\"value\",\"value\":5.477225575051661},\"line_color\":{\"type\":\"value\",\"value\":\"#d62728\"},\"fill_color\":{\"type\":\"value\",\"value\":\"#d62728\"},\"hatch_color\":{\"type\":\"value\",\"value\":\"#d62728\"}}},\"selection_glyph\":{\"type\":\"object\",\"name\":\"Scatter\",\"id\":\"p1257\",\"attributes\":{\"tags\":[\"apply_ranges\"],\"x\":{\"type\":\"field\",\"field\":\"n_kernels\"},\"y\":{\"type\":\"field\",\"field\":\"processing_time\"},\"size\":{\"type\":\"value\",\"value\":5.477225575051661},\"angle\":{\"type\":\"value\",\"value\":0.0},\"line_color\":{\"type\":\"value\",\"value\":\"#d62728\"},\"line_alpha\":{\"type\":\"value\",\"value\":1.0},\"line_width\":{\"type\":\"value\",\"value\":1},\"line_join\":{\"type\":\"value\",\"value\":\"bevel\"},\"line_cap\":{\"type\":\"value\",\"value\":\"butt\"},\"line_dash\":{\"type\":\"value\",\"value\":[]},\"line_dash_offset\":{\"type\":\"value\",\"value\":0},\"fill_color\":{\"type\":\"value\",\"value\":\"#d62728\"},\"fill_alpha\":{\"type\":\"value\",\"value\":1.0},\"hatch_color\":{\"type\":\"value\",\"value\":\"#d62728\"},\"hatch_alpha\":{\"type\":\"value\",\"value\":1.0},\"hatch_scale\":{\"type\":\"value\",\"value\":12.0},\"hatch_pattern\":{\"type\":\"value\",\"value\":null},\"hatch_weight\":{\"type\":\"value\",\"value\":1.0},\"marker\":{\"type\":\"value\",\"value\":\"circle\"}}},\"nonselection_glyph\":{\"type\":\"object\",\"name\":\"Scatter\",\"id\":\"p1251\",\"attributes\":{\"tags\":[\"apply_ranges\"],\"x\":{\"type\":\"field\",\"field\":\"n_kernels\"},\"y\":{\"type\":\"field\",\"field\":\"processing_time\"},\"size\":{\"type\":\"value\",\"value\":5.477225575051661},\"line_color\":{\"type\":\"value\",\"value\":\"#d62728\"},\"line_alpha\":{\"type\":\"value\",\"value\":0.1},\"fill_color\":{\"type\":\"value\",\"value\":\"#d62728\"},\"fill_alpha\":{\"type\":\"value\",\"value\":0.1},\"hatch_color\":{\"type\":\"value\",\"value\":\"#d62728\"},\"hatch_alpha\":{\"type\":\"value\",\"value\":0.1}}},\"muted_glyph\":{\"type\":\"object\",\"name\":\"Scatter\",\"id\":\"p1252\",\"attributes\":{\"tags\":[\"apply_ranges\"],\"x\":{\"type\":\"field\",\"field\":\"n_kernels\"},\"y\":{\"type\":\"field\",\"field\":\"processing_time\"},\"size\":{\"type\":\"value\",\"value\":5.477225575051661},\"line_color\":{\"type\":\"value\",\"value\":\"#d62728\"},\"line_alpha\":{\"type\":\"value\",\"value\":0.2},\"fill_color\":{\"type\":\"value\",\"value\":\"#d62728\"},\"fill_alpha\":{\"type\":\"value\",\"value\":0.2},\"hatch_color\":{\"type\":\"value\",\"value\":\"#d62728\"},\"hatch_alpha\":{\"type\":\"value\",\"value\":0.2}}}}},{\"type\":\"object\",\"name\":\"GlyphRenderer\",\"id\":\"p1267\",\"attributes\":{\"name\":\"epoxi\",\"data_source\":{\"type\":\"object\",\"name\":\"ColumnDataSource\",\"id\":\"p1258\",\"attributes\":{\"selected\":{\"type\":\"object\",\"name\":\"Selection\",\"id\":\"p1259\",\"attributes\":{\"indices\":[],\"line_indices\":[]}},\"selection_policy\":{\"type\":\"object\",\"name\":\"UnionRenderers\",\"id\":\"p1260\"},\"data\":{\"type\":\"map\",\"entries\":[[\"n_kernels\",{\"type\":\"ndarray\",\"array\":{\"type\":\"bytes\",\"data\":\"DAAAAA==\"},\"shape\":[1],\"dtype\":\"int32\",\"order\":\"little\"}],[\"processing_time\",{\"type\":\"ndarray\",\"array\":{\"type\":\"bytes\",\"data\":\"AAAAgIAm7T8=\"},\"shape\":[1],\"dtype\":\"float64\",\"order\":\"little\"}],[\"mission\",[\"epoxi\"]]]}}},\"view\":{\"type\":\"object\",\"name\":\"CDSView\",\"id\":\"p1268\",\"attributes\":{\"filter\":{\"type\":\"object\",\"name\":\"AllIndices\",\"id\":\"p1269\"}}},\"glyph\":{\"type\":\"object\",\"name\":\"Scatter\",\"id\":\"p1264\",\"attributes\":{\"tags\":[\"apply_ranges\"],\"x\":{\"type\":\"field\",\"field\":\"n_kernels\"},\"y\":{\"type\":\"field\",\"field\":\"processing_time\"},\"size\":{\"type\":\"value\",\"value\":5.477225575051661},\"line_color\":{\"type\":\"value\",\"value\":\"#1f77b4\"},\"fill_color\":{\"type\":\"value\",\"value\":\"#1f77b4\"},\"hatch_color\":{\"type\":\"value\",\"value\":\"#1f77b4\"}}},\"selection_glyph\":{\"type\":\"object\",\"name\":\"Scatter\",\"id\":\"p1271\",\"attributes\":{\"tags\":[\"apply_ranges\"],\"x\":{\"type\":\"field\",\"field\":\"n_kernels\"},\"y\":{\"type\":\"field\",\"field\":\"processing_time\"},\"size\":{\"type\":\"value\",\"value\":5.477225575051661},\"angle\":{\"type\":\"value\",\"value\":0.0},\"line_color\":{\"type\":\"value\",\"value\":\"#1f77b4\"},\"line_alpha\":{\"type\":\"value\",\"value\":1.0},\"line_width\":{\"type\":\"value\",\"value\":1},\"line_join\":{\"type\":\"value\",\"value\":\"bevel\"},\"line_cap\":{\"type\":\"value\",\"value\":\"butt\"},\"line_dash\":{\"type\":\"value\",\"value\":[]},\"line_dash_offset\":{\"type\":\"value\",\"value\":0},\"fill_color\":{\"type\":\"value\",\"value\":\"#1f77b4\"},\"fill_alpha\":{\"type\":\"value\",\"value\":1.0},\"hatch_color\":{\"type\":\"value\",\"value\":\"#1f77b4\"},\"hatch_alpha\":{\"type\":\"value\",\"value\":1.0},\"hatch_scale\":{\"type\":\"value\",\"value\":12.0},\"hatch_pattern\":{\"type\":\"value\",\"value\":null},\"hatch_weight\":{\"type\":\"value\",\"value\":1.0},\"marker\":{\"type\":\"value\",\"value\":\"circle\"}}},\"nonselection_glyph\":{\"type\":\"object\",\"name\":\"Scatter\",\"id\":\"p1265\",\"attributes\":{\"tags\":[\"apply_ranges\"],\"x\":{\"type\":\"field\",\"field\":\"n_kernels\"},\"y\":{\"type\":\"field\",\"field\":\"processing_time\"},\"size\":{\"type\":\"value\",\"value\":5.477225575051661},\"line_color\":{\"type\":\"value\",\"value\":\"#1f77b4\"},\"line_alpha\":{\"type\":\"value\",\"value\":0.1},\"fill_color\":{\"type\":\"value\",\"value\":\"#1f77b4\"},\"fill_alpha\":{\"type\":\"value\",\"value\":0.1},\"hatch_color\":{\"type\":\"value\",\"value\":\"#1f77b4\"},\"hatch_alpha\":{\"type\":\"value\",\"value\":0.1}}},\"muted_glyph\":{\"type\":\"object\",\"name\":\"Scatter\",\"id\":\"p1266\",\"attributes\":{\"tags\":[\"apply_ranges\"],\"x\":{\"type\":\"field\",\"field\":\"n_kernels\"},\"y\":{\"type\":\"field\",\"field\":\"processing_time\"},\"size\":{\"type\":\"value\",\"value\":5.477225575051661},\"line_color\":{\"type\":\"value\",\"value\":\"#1f77b4\"},\"line_alpha\":{\"type\":\"value\",\"value\":0.2},\"fill_color\":{\"type\":\"value\",\"value\":\"#1f77b4\"},\"fill_alpha\":{\"type\":\"value\",\"value\":0.2},\"hatch_color\":{\"type\":\"value\",\"value\":\"#1f77b4\"},\"hatch_alpha\":{\"type\":\"value\",\"value\":0.2}}}}},{\"type\":\"object\",\"name\":\"GlyphRenderer\",\"id\":\"p1281\",\"attributes\":{\"name\":\"grail\",\"data_source\":{\"type\":\"object\",\"name\":\"ColumnDataSource\",\"id\":\"p1272\",\"attributes\":{\"selected\":{\"type\":\"object\",\"name\":\"Selection\",\"id\":\"p1273\",\"attributes\":{\"indices\":[],\"line_indices\":[]}},\"selection_policy\":{\"type\":\"object\",\"name\":\"UnionRenderers\",\"id\":\"p1274\"},\"data\":{\"type\":\"map\",\"entries\":[[\"n_kernels\",{\"type\":\"ndarray\",\"array\":{\"type\":\"bytes\",\"data\":\"FAAAAA==\"},\"shape\":[1],\"dtype\":\"int32\",\"order\":\"little\"}],[\"processing_time\",{\"type\":\"ndarray\",\"array\":{\"type\":\"bytes\",\"data\":\"AAAAAPOg7T8=\"},\"shape\":[1],\"dtype\":\"float64\",\"order\":\"little\"}],[\"mission\",[\"grail\"]]]}}},\"view\":{\"type\":\"object\",\"name\":\"CDSView\",\"id\":\"p1282\",\"attributes\":{\"filter\":{\"type\":\"object\",\"name\":\"AllIndices\",\"id\":\"p1283\"}}},\"glyph\":{\"type\":\"object\",\"name\":\"Scatter\",\"id\":\"p1278\",\"attributes\":{\"tags\":[\"apply_ranges\"],\"x\":{\"type\":\"field\",\"field\":\"n_kernels\"},\"y\":{\"type\":\"field\",\"field\":\"processing_time\"},\"size\":{\"type\":\"value\",\"value\":5.477225575051661},\"line_color\":{\"type\":\"value\",\"value\":\"#e377c2\"},\"fill_color\":{\"type\":\"value\",\"value\":\"#e377c2\"},\"hatch_color\":{\"type\":\"value\",\"value\":\"#e377c2\"}}},\"selection_glyph\":{\"type\":\"object\",\"name\":\"Scatter\",\"id\":\"p1285\",\"attributes\":{\"tags\":[\"apply_ranges\"],\"x\":{\"type\":\"field\",\"field\":\"n_kernels\"},\"y\":{\"type\":\"field\",\"field\":\"processing_time\"},\"size\":{\"type\":\"value\",\"value\":5.477225575051661},\"angle\":{\"type\":\"value\",\"value\":0.0},\"line_color\":{\"type\":\"value\",\"value\":\"#e377c2\"},\"line_alpha\":{\"type\":\"value\",\"value\":1.0},\"line_width\":{\"type\":\"value\",\"value\":1},\"line_join\":{\"type\":\"value\",\"value\":\"bevel\"},\"line_cap\":{\"type\":\"value\",\"value\":\"butt\"},\"line_dash\":{\"type\":\"value\",\"value\":[]},\"line_dash_offset\":{\"type\":\"value\",\"value\":0},\"fill_color\":{\"type\":\"value\",\"value\":\"#e377c2\"},\"fill_alpha\":{\"type\":\"value\",\"value\":1.0},\"hatch_color\":{\"type\":\"value\",\"value\":\"#e377c2\"},\"hatch_alpha\":{\"type\":\"value\",\"value\":1.0},\"hatch_scale\":{\"type\":\"value\",\"value\":12.0},\"hatch_pattern\":{\"type\":\"value\",\"value\":null},\"hatch_weight\":{\"type\":\"value\",\"value\":1.0},\"marker\":{\"type\":\"value\",\"value\":\"circle\"}}},\"nonselection_glyph\":{\"type\":\"object\",\"name\":\"Scatter\",\"id\":\"p1279\",\"attributes\":{\"tags\":[\"apply_ranges\"],\"x\":{\"type\":\"field\",\"field\":\"n_kernels\"},\"y\":{\"type\":\"field\",\"field\":\"processing_time\"},\"size\":{\"type\":\"value\",\"value\":5.477225575051661},\"line_color\":{\"type\":\"value\",\"value\":\"#e377c2\"},\"line_alpha\":{\"type\":\"value\",\"value\":0.1},\"fill_color\":{\"type\":\"value\",\"value\":\"#e377c2\"},\"fill_alpha\":{\"type\":\"value\",\"value\":0.1},\"hatch_color\":{\"type\":\"value\",\"value\":\"#e377c2\"},\"hatch_alpha\":{\"type\":\"value\",\"value\":0.1}}},\"muted_glyph\":{\"type\":\"object\",\"name\":\"Scatter\",\"id\":\"p1280\",\"attributes\":{\"tags\":[\"apply_ranges\"],\"x\":{\"type\":\"field\",\"field\":\"n_kernels\"},\"y\":{\"type\":\"field\",\"field\":\"processing_time\"},\"size\":{\"type\":\"value\",\"value\":5.477225575051661},\"line_color\":{\"type\":\"value\",\"value\":\"#e377c2\"},\"line_alpha\":{\"type\":\"value\",\"value\":0.2},\"fill_color\":{\"type\":\"value\",\"value\":\"#e377c2\"},\"fill_alpha\":{\"type\":\"value\",\"value\":0.2},\"hatch_color\":{\"type\":\"value\",\"value\":\"#e377c2\"},\"hatch_alpha\":{\"type\":\"value\",\"value\":0.2}}}}},{\"type\":\"object\",\"name\":\"GlyphRenderer\",\"id\":\"p1295\",\"attributes\":{\"name\":\"hayabusa\",\"data_source\":{\"type\":\"object\",\"name\":\"ColumnDataSource\",\"id\":\"p1286\",\"attributes\":{\"selected\":{\"type\":\"object\",\"name\":\"Selection\",\"id\":\"p1287\",\"attributes\":{\"indices\":[],\"line_indices\":[]}},\"selection_policy\":{\"type\":\"object\",\"name\":\"UnionRenderers\",\"id\":\"p1288\"},\"data\":{\"type\":\"map\",\"entries\":[[\"n_kernels\",{\"type\":\"ndarray\",\"array\":{\"type\":\"bytes\",\"data\":\"DwAAAA==\"},\"shape\":[1],\"dtype\":\"int32\",\"order\":\"little\"}],[\"processing_time\",{\"type\":\"ndarray\",\"array\":{\"type\":\"bytes\",\"data\":\"AAAAQP898D8=\"},\"shape\":[1],\"dtype\":\"float64\",\"order\":\"little\"}],[\"mission\",[\"hayabusa\"]]]}}},\"view\":{\"type\":\"object\",\"name\":\"CDSView\",\"id\":\"p1296\",\"attributes\":{\"filter\":{\"type\":\"object\",\"name\":\"AllIndices\",\"id\":\"p1297\"}}},\"glyph\":{\"type\":\"object\",\"name\":\"Scatter\",\"id\":\"p1292\",\"attributes\":{\"tags\":[\"apply_ranges\"],\"x\":{\"type\":\"field\",\"field\":\"n_kernels\"},\"y\":{\"type\":\"field\",\"field\":\"processing_time\"},\"size\":{\"type\":\"value\",\"value\":5.477225575051661},\"line_color\":{\"type\":\"value\",\"value\":\"#8c564b\"},\"fill_color\":{\"type\":\"value\",\"value\":\"#8c564b\"},\"hatch_color\":{\"type\":\"value\",\"value\":\"#8c564b\"}}},\"selection_glyph\":{\"type\":\"object\",\"name\":\"Scatter\",\"id\":\"p1299\",\"attributes\":{\"tags\":[\"apply_ranges\"],\"x\":{\"type\":\"field\",\"field\":\"n_kernels\"},\"y\":{\"type\":\"field\",\"field\":\"processing_time\"},\"size\":{\"type\":\"value\",\"value\":5.477225575051661},\"angle\":{\"type\":\"value\",\"value\":0.0},\"line_color\":{\"type\":\"value\",\"value\":\"#8c564b\"},\"line_alpha\":{\"type\":\"value\",\"value\":1.0},\"line_width\":{\"type\":\"value\",\"value\":1},\"line_join\":{\"type\":\"value\",\"value\":\"bevel\"},\"line_cap\":{\"type\":\"value\",\"value\":\"butt\"},\"line_dash\":{\"type\":\"value\",\"value\":[]},\"line_dash_offset\":{\"type\":\"value\",\"value\":0},\"fill_color\":{\"type\":\"value\",\"value\":\"#8c564b\"},\"fill_alpha\":{\"type\":\"value\",\"value\":1.0},\"hatch_color\":{\"type\":\"value\",\"value\":\"#8c564b\"},\"hatch_alpha\":{\"type\":\"value\",\"value\":1.0},\"hatch_scale\":{\"type\":\"value\",\"value\":12.0},\"hatch_pattern\":{\"type\":\"value\",\"value\":null},\"hatch_weight\":{\"type\":\"value\",\"value\":1.0},\"marker\":{\"type\":\"value\",\"value\":\"circle\"}}},\"nonselection_glyph\":{\"type\":\"object\",\"name\":\"Scatter\",\"id\":\"p1293\",\"attributes\":{\"tags\":[\"apply_ranges\"],\"x\":{\"type\":\"field\",\"field\":\"n_kernels\"},\"y\":{\"type\":\"field\",\"field\":\"processing_time\"},\"size\":{\"type\":\"value\",\"value\":5.477225575051661},\"line_color\":{\"type\":\"value\",\"value\":\"#8c564b\"},\"line_alpha\":{\"type\":\"value\",\"value\":0.1},\"fill_color\":{\"type\":\"value\",\"value\":\"#8c564b\"},\"fill_alpha\":{\"type\":\"value\",\"value\":0.1},\"hatch_color\":{\"type\":\"value\",\"value\":\"#8c564b\"},\"hatch_alpha\":{\"type\":\"value\",\"value\":0.1}}},\"muted_glyph\":{\"type\":\"object\",\"name\":\"Scatter\",\"id\":\"p1294\",\"attributes\":{\"tags\":[\"apply_ranges\"],\"x\":{\"type\":\"field\",\"field\":\"n_kernels\"},\"y\":{\"type\":\"field\",\"field\":\"processing_time\"},\"size\":{\"type\":\"value\",\"value\":5.477225575051661},\"line_color\":{\"type\":\"value\",\"value\":\"#8c564b\"},\"line_alpha\":{\"type\":\"value\",\"value\":0.2},\"fill_color\":{\"type\":\"value\",\"value\":\"#8c564b\"},\"fill_alpha\":{\"type\":\"value\",\"value\":0.2},\"hatch_color\":{\"type\":\"value\",\"value\":\"#8c564b\"},\"hatch_alpha\":{\"type\":\"value\",\"value\":0.2}}}}},{\"type\":\"object\",\"name\":\"GlyphRenderer\",\"id\":\"p1309\",\"attributes\":{\"name\":\"insight\",\"data_source\":{\"type\":\"object\",\"name\":\"ColumnDataSource\",\"id\":\"p1300\",\"attributes\":{\"selected\":{\"type\":\"object\",\"name\":\"Selection\",\"id\":\"p1301\",\"attributes\":{\"indices\":[],\"line_indices\":[]}},\"selection_policy\":{\"type\":\"object\",\"name\":\"UnionRenderers\",\"id\":\"p1302\"},\"data\":{\"type\":\"map\",\"entries\":[[\"n_kernels\",{\"type\":\"ndarray\",\"array\":{\"type\":\"bytes\",\"data\":\"FQAAAA==\"},\"shape\":[1],\"dtype\":\"int32\",\"order\":\"little\"}],[\"processing_time\",{\"type\":\"ndarray\",\"array\":{\"type\":\"bytes\",\"data\":\"AAAAgM55/T8=\"},\"shape\":[1],\"dtype\":\"float64\",\"order\":\"little\"}],[\"mission\",[\"insight\"]]]}}},\"view\":{\"type\":\"object\",\"name\":\"CDSView\",\"id\":\"p1310\",\"attributes\":{\"filter\":{\"type\":\"object\",\"name\":\"AllIndices\",\"id\":\"p1311\"}}},\"glyph\":{\"type\":\"object\",\"name\":\"Scatter\",\"id\":\"p1306\",\"attributes\":{\"tags\":[\"apply_ranges\"],\"x\":{\"type\":\"field\",\"field\":\"n_kernels\"},\"y\":{\"type\":\"field\",\"field\":\"processing_time\"},\"size\":{\"type\":\"value\",\"value\":5.477225575051661},\"line_color\":{\"type\":\"value\",\"value\":\"#bcbd22\"},\"fill_color\":{\"type\":\"value\",\"value\":\"#bcbd22\"},\"hatch_color\":{\"type\":\"value\",\"value\":\"#bcbd22\"}}},\"selection_glyph\":{\"type\":\"object\",\"name\":\"Scatter\",\"id\":\"p1313\",\"attributes\":{\"tags\":[\"apply_ranges\"],\"x\":{\"type\":\"field\",\"field\":\"n_kernels\"},\"y\":{\"type\":\"field\",\"field\":\"processing_time\"},\"size\":{\"type\":\"value\",\"value\":5.477225575051661},\"angle\":{\"type\":\"value\",\"value\":0.0},\"line_color\":{\"type\":\"value\",\"value\":\"#bcbd22\"},\"line_alpha\":{\"type\":\"value\",\"value\":1.0},\"line_width\":{\"type\":\"value\",\"value\":1},\"line_join\":{\"type\":\"value\",\"value\":\"bevel\"},\"line_cap\":{\"type\":\"value\",\"value\":\"butt\"},\"line_dash\":{\"type\":\"value\",\"value\":[]},\"line_dash_offset\":{\"type\":\"value\",\"value\":0},\"fill_color\":{\"type\":\"value\",\"value\":\"#bcbd22\"},\"fill_alpha\":{\"type\":\"value\",\"value\":1.0},\"hatch_color\":{\"type\":\"value\",\"value\":\"#bcbd22\"},\"hatch_alpha\":{\"type\":\"value\",\"value\":1.0},\"hatch_scale\":{\"type\":\"value\",\"value\":12.0},\"hatch_pattern\":{\"type\":\"value\",\"value\":null},\"hatch_weight\":{\"type\":\"value\",\"value\":1.0},\"marker\":{\"type\":\"value\",\"value\":\"circle\"}}},\"nonselection_glyph\":{\"type\":\"object\",\"name\":\"Scatter\",\"id\":\"p1307\",\"attributes\":{\"tags\":[\"apply_ranges\"],\"x\":{\"type\":\"field\",\"field\":\"n_kernels\"},\"y\":{\"type\":\"field\",\"field\":\"processing_time\"},\"size\":{\"type\":\"value\",\"value\":5.477225575051661},\"line_color\":{\"type\":\"value\",\"value\":\"#bcbd22\"},\"line_alpha\":{\"type\":\"value\",\"value\":0.1},\"fill_color\":{\"type\":\"value\",\"value\":\"#bcbd22\"},\"fill_alpha\":{\"type\":\"value\",\"value\":0.1},\"hatch_color\":{\"type\":\"value\",\"value\":\"#bcbd22\"},\"hatch_alpha\":{\"type\":\"value\",\"value\":0.1}}},\"muted_glyph\":{\"type\":\"object\",\"name\":\"Scatter\",\"id\":\"p1308\",\"attributes\":{\"tags\":[\"apply_ranges\"],\"x\":{\"type\":\"field\",\"field\":\"n_kernels\"},\"y\":{\"type\":\"field\",\"field\":\"processing_time\"},\"size\":{\"type\":\"value\",\"value\":5.477225575051661},\"line_color\":{\"type\":\"value\",\"value\":\"#bcbd22\"},\"line_alpha\":{\"type\":\"value\",\"value\":0.2},\"fill_color\":{\"type\":\"value\",\"value\":\"#bcbd22\"},\"fill_alpha\":{\"type\":\"value\",\"value\":0.2},\"hatch_color\":{\"type\":\"value\",\"value\":\"#bcbd22\"},\"hatch_alpha\":{\"type\":\"value\",\"value\":0.2}}}}},{\"type\":\"object\",\"name\":\"GlyphRenderer\",\"id\":\"p1323\",\"attributes\":{\"name\":\"juno\",\"data_source\":{\"type\":\"object\",\"name\":\"ColumnDataSource\",\"id\":\"p1314\",\"attributes\":{\"selected\":{\"type\":\"object\",\"name\":\"Selection\",\"id\":\"p1315\",\"attributes\":{\"indices\":[],\"line_indices\":[]}},\"selection_policy\":{\"type\":\"object\",\"name\":\"UnionRenderers\",\"id\":\"p1316\"},\"data\":{\"type\":\"map\",\"entries\":[[\"n_kernels\",{\"type\":\"ndarray\",\"array\":{\"type\":\"bytes\",\"data\":\"FwAAAA==\"},\"shape\":[1],\"dtype\":\"int32\",\"order\":\"little\"}],[\"processing_time\",{\"type\":\"ndarray\",\"array\":{\"type\":\"bytes\",\"data\":\"AAAAwJyf8z8=\"},\"shape\":[1],\"dtype\":\"float64\",\"order\":\"little\"}],[\"mission\",[\"juno\"]]]}}},\"view\":{\"type\":\"object\",\"name\":\"CDSView\",\"id\":\"p1324\",\"attributes\":{\"filter\":{\"type\":\"object\",\"name\":\"AllIndices\",\"id\":\"p1325\"}}},\"glyph\":{\"type\":\"object\",\"name\":\"Scatter\",\"id\":\"p1320\",\"attributes\":{\"tags\":[\"apply_ranges\"],\"x\":{\"type\":\"field\",\"field\":\"n_kernels\"},\"y\":{\"type\":\"field\",\"field\":\"processing_time\"},\"size\":{\"type\":\"value\",\"value\":5.477225575051661},\"line_color\":{\"type\":\"value\",\"value\":\"#30a2da\"},\"fill_color\":{\"type\":\"value\",\"value\":\"#30a2da\"},\"hatch_color\":{\"type\":\"value\",\"value\":\"#30a2da\"}}},\"selection_glyph\":{\"type\":\"object\",\"name\":\"Scatter\",\"id\":\"p1327\",\"attributes\":{\"tags\":[\"apply_ranges\"],\"x\":{\"type\":\"field\",\"field\":\"n_kernels\"},\"y\":{\"type\":\"field\",\"field\":\"processing_time\"},\"size\":{\"type\":\"value\",\"value\":5.477225575051661},\"angle\":{\"type\":\"value\",\"value\":0.0},\"line_color\":{\"type\":\"value\",\"value\":\"#30a2da\"},\"line_alpha\":{\"type\":\"value\",\"value\":1.0},\"line_width\":{\"type\":\"value\",\"value\":1},\"line_join\":{\"type\":\"value\",\"value\":\"bevel\"},\"line_cap\":{\"type\":\"value\",\"value\":\"butt\"},\"line_dash\":{\"type\":\"value\",\"value\":[]},\"line_dash_offset\":{\"type\":\"value\",\"value\":0},\"fill_color\":{\"type\":\"value\",\"value\":\"#30a2da\"},\"fill_alpha\":{\"type\":\"value\",\"value\":1.0},\"hatch_color\":{\"type\":\"value\",\"value\":\"#30a2da\"},\"hatch_alpha\":{\"type\":\"value\",\"value\":1.0},\"hatch_scale\":{\"type\":\"value\",\"value\":12.0},\"hatch_pattern\":{\"type\":\"value\",\"value\":null},\"hatch_weight\":{\"type\":\"value\",\"value\":1.0},\"marker\":{\"type\":\"value\",\"value\":\"circle\"}}},\"nonselection_glyph\":{\"type\":\"object\",\"name\":\"Scatter\",\"id\":\"p1321\",\"attributes\":{\"tags\":[\"apply_ranges\"],\"x\":{\"type\":\"field\",\"field\":\"n_kernels\"},\"y\":{\"type\":\"field\",\"field\":\"processing_time\"},\"size\":{\"type\":\"value\",\"value\":5.477225575051661},\"line_color\":{\"type\":\"value\",\"value\":\"#30a2da\"},\"line_alpha\":{\"type\":\"value\",\"value\":0.1},\"fill_color\":{\"type\":\"value\",\"value\":\"#30a2da\"},\"fill_alpha\":{\"type\":\"value\",\"value\":0.1},\"hatch_color\":{\"type\":\"value\",\"value\":\"#30a2da\"},\"hatch_alpha\":{\"type\":\"value\",\"value\":0.1}}},\"muted_glyph\":{\"type\":\"object\",\"name\":\"Scatter\",\"id\":\"p1322\",\"attributes\":{\"tags\":[\"apply_ranges\"],\"x\":{\"type\":\"field\",\"field\":\"n_kernels\"},\"y\":{\"type\":\"field\",\"field\":\"processing_time\"},\"size\":{\"type\":\"value\",\"value\":5.477225575051661},\"line_color\":{\"type\":\"value\",\"value\":\"#30a2da\"},\"line_alpha\":{\"type\":\"value\",\"value\":0.2},\"fill_color\":{\"type\":\"value\",\"value\":\"#30a2da\"},\"fill_alpha\":{\"type\":\"value\",\"value\":0.2},\"hatch_color\":{\"type\":\"value\",\"value\":\"#30a2da\"},\"hatch_alpha\":{\"type\":\"value\",\"value\":0.2}}}}},{\"type\":\"object\",\"name\":\"GlyphRenderer\",\"id\":\"p1337\",\"attributes\":{\"name\":\"ladee\",\"data_source\":{\"type\":\"object\",\"name\":\"ColumnDataSource\",\"id\":\"p1328\",\"attributes\":{\"selected\":{\"type\":\"object\",\"name\":\"Selection\",\"id\":\"p1329\",\"attributes\":{\"indices\":[],\"line_indices\":[]}},\"selection_policy\":{\"type\":\"object\",\"name\":\"UnionRenderers\",\"id\":\"p1330\"},\"data\":{\"type\":\"map\",\"entries\":[[\"n_kernels\",{\"type\":\"ndarray\",\"array\":{\"type\":\"bytes\",\"data\":\"DAAAAA==\"},\"shape\":[1],\"dtype\":\"int32\",\"order\":\"little\"}],[\"processing_time\",{\"type\":\"ndarray\",\"array\":{\"type\":\"bytes\",\"data\":\"AAAAAEeY8z8=\"},\"shape\":[1],\"dtype\":\"float64\",\"order\":\"little\"}],[\"mission\",[\"ladee\"]]]}}},\"view\":{\"type\":\"object\",\"name\":\"CDSView\",\"id\":\"p1338\",\"attributes\":{\"filter\":{\"type\":\"object\",\"name\":\"AllIndices\",\"id\":\"p1339\"}}},\"glyph\":{\"type\":\"object\",\"name\":\"Scatter\",\"id\":\"p1334\",\"attributes\":{\"tags\":[\"apply_ranges\"],\"x\":{\"type\":\"field\",\"field\":\"n_kernels\"},\"y\":{\"type\":\"field\",\"field\":\"processing_time\"},\"size\":{\"type\":\"value\",\"value\":5.477225575051661},\"line_color\":{\"type\":\"value\",\"value\":\"#fc4f30\"},\"fill_color\":{\"type\":\"value\",\"value\":\"#fc4f30\"},\"hatch_color\":{\"type\":\"value\",\"value\":\"#fc4f30\"}}},\"selection_glyph\":{\"type\":\"object\",\"name\":\"Scatter\",\"id\":\"p1341\",\"attributes\":{\"tags\":[\"apply_ranges\"],\"x\":{\"type\":\"field\",\"field\":\"n_kernels\"},\"y\":{\"type\":\"field\",\"field\":\"processing_time\"},\"size\":{\"type\":\"value\",\"value\":5.477225575051661},\"angle\":{\"type\":\"value\",\"value\":0.0},\"line_color\":{\"type\":\"value\",\"value\":\"#fc4f30\"},\"line_alpha\":{\"type\":\"value\",\"value\":1.0},\"line_width\":{\"type\":\"value\",\"value\":1},\"line_join\":{\"type\":\"value\",\"value\":\"bevel\"},\"line_cap\":{\"type\":\"value\",\"value\":\"butt\"},\"line_dash\":{\"type\":\"value\",\"value\":[]},\"line_dash_offset\":{\"type\":\"value\",\"value\":0},\"fill_color\":{\"type\":\"value\",\"value\":\"#fc4f30\"},\"fill_alpha\":{\"type\":\"value\",\"value\":1.0},\"hatch_color\":{\"type\":\"value\",\"value\":\"#fc4f30\"},\"hatch_alpha\":{\"type\":\"value\",\"value\":1.0},\"hatch_scale\":{\"type\":\"value\",\"value\":12.0},\"hatch_pattern\":{\"type\":\"value\",\"value\":null},\"hatch_weight\":{\"type\":\"value\",\"value\":1.0},\"marker\":{\"type\":\"value\",\"value\":\"circle\"}}},\"nonselection_glyph\":{\"type\":\"object\",\"name\":\"Scatter\",\"id\":\"p1335\",\"attributes\":{\"tags\":[\"apply_ranges\"],\"x\":{\"type\":\"field\",\"field\":\"n_kernels\"},\"y\":{\"type\":\"field\",\"field\":\"processing_time\"},\"size\":{\"type\":\"value\",\"value\":5.477225575051661},\"line_color\":{\"type\":\"value\",\"value\":\"#fc4f30\"},\"line_alpha\":{\"type\":\"value\",\"value\":0.1},\"fill_color\":{\"type\":\"value\",\"value\":\"#fc4f30\"},\"fill_alpha\":{\"type\":\"value\",\"value\":0.1},\"hatch_color\":{\"type\":\"value\",\"value\":\"#fc4f30\"},\"hatch_alpha\":{\"type\":\"value\",\"value\":0.1}}},\"muted_glyph\":{\"type\":\"object\",\"name\":\"Scatter\",\"id\":\"p1336\",\"attributes\":{\"tags\":[\"apply_ranges\"],\"x\":{\"type\":\"field\",\"field\":\"n_kernels\"},\"y\":{\"type\":\"field\",\"field\":\"processing_time\"},\"size\":{\"type\":\"value\",\"value\":5.477225575051661},\"line_color\":{\"type\":\"value\",\"value\":\"#fc4f30\"},\"line_alpha\":{\"type\":\"value\",\"value\":0.2},\"fill_color\":{\"type\":\"value\",\"value\":\"#fc4f30\"},\"fill_alpha\":{\"type\":\"value\",\"value\":0.2},\"hatch_color\":{\"type\":\"value\",\"value\":\"#fc4f30\"},\"hatch_alpha\":{\"type\":\"value\",\"value\":0.2}}}}},{\"type\":\"object\",\"name\":\"GlyphRenderer\",\"id\":\"p1351\",\"attributes\":{\"name\":\"lro\",\"data_source\":{\"type\":\"object\",\"name\":\"ColumnDataSource\",\"id\":\"p1342\",\"attributes\":{\"selected\":{\"type\":\"object\",\"name\":\"Selection\",\"id\":\"p1343\",\"attributes\":{\"indices\":[],\"line_indices\":[]}},\"selection_policy\":{\"type\":\"object\",\"name\":\"UnionRenderers\",\"id\":\"p1344\"},\"data\":{\"type\":\"map\",\"entries\":[[\"n_kernels\",{\"type\":\"ndarray\",\"array\":{\"type\":\"bytes\",\"data\":\"FAAAAA==\"},\"shape\":[1],\"dtype\":\"int32\",\"order\":\"little\"}],[\"processing_time\",{\"type\":\"ndarray\",\"array\":{\"type\":\"bytes\",\"data\":\"AAAAwEZv8j8=\"},\"shape\":[1],\"dtype\":\"float64\",\"order\":\"little\"}],[\"mission\",[\"lro\"]]]}}},\"view\":{\"type\":\"object\",\"name\":\"CDSView\",\"id\":\"p1352\",\"attributes\":{\"filter\":{\"type\":\"object\",\"name\":\"AllIndices\",\"id\":\"p1353\"}}},\"glyph\":{\"type\":\"object\",\"name\":\"Scatter\",\"id\":\"p1348\",\"attributes\":{\"tags\":[\"apply_ranges\"],\"x\":{\"type\":\"field\",\"field\":\"n_kernels\"},\"y\":{\"type\":\"field\",\"field\":\"processing_time\"},\"size\":{\"type\":\"value\",\"value\":5.477225575051661},\"line_color\":{\"type\":\"value\",\"value\":\"#e5ae38\"},\"fill_color\":{\"type\":\"value\",\"value\":\"#e5ae38\"},\"hatch_color\":{\"type\":\"value\",\"value\":\"#e5ae38\"}}},\"selection_glyph\":{\"type\":\"object\",\"name\":\"Scatter\",\"id\":\"p1355\",\"attributes\":{\"tags\":[\"apply_ranges\"],\"x\":{\"type\":\"field\",\"field\":\"n_kernels\"},\"y\":{\"type\":\"field\",\"field\":\"processing_time\"},\"size\":{\"type\":\"value\",\"value\":5.477225575051661},\"angle\":{\"type\":\"value\",\"value\":0.0},\"line_color\":{\"type\":\"value\",\"value\":\"#e5ae38\"},\"line_alpha\":{\"type\":\"value\",\"value\":1.0},\"line_width\":{\"type\":\"value\",\"value\":1},\"line_join\":{\"type\":\"value\",\"value\":\"bevel\"},\"line_cap\":{\"type\":\"value\",\"value\":\"butt\"},\"line_dash\":{\"type\":\"value\",\"value\":[]},\"line_dash_offset\":{\"type\":\"value\",\"value\":0},\"fill_color\":{\"type\":\"value\",\"value\":\"#e5ae38\"},\"fill_alpha\":{\"type\":\"value\",\"value\":1.0},\"hatch_color\":{\"type\":\"value\",\"value\":\"#e5ae38\"},\"hatch_alpha\":{\"type\":\"value\",\"value\":1.0},\"hatch_scale\":{\"type\":\"value\",\"value\":12.0},\"hatch_pattern\":{\"type\":\"value\",\"value\":null},\"hatch_weight\":{\"type\":\"value\",\"value\":1.0},\"marker\":{\"type\":\"value\",\"value\":\"circle\"}}},\"nonselection_glyph\":{\"type\":\"object\",\"name\":\"Scatter\",\"id\":\"p1349\",\"attributes\":{\"tags\":[\"apply_ranges\"],\"x\":{\"type\":\"field\",\"field\":\"n_kernels\"},\"y\":{\"type\":\"field\",\"field\":\"processing_time\"},\"size\":{\"type\":\"value\",\"value\":5.477225575051661},\"line_color\":{\"type\":\"value\",\"value\":\"#e5ae38\"},\"line_alpha\":{\"type\":\"value\",\"value\":0.1},\"fill_color\":{\"type\":\"value\",\"value\":\"#e5ae38\"},\"fill_alpha\":{\"type\":\"value\",\"value\":0.1},\"hatch_color\":{\"type\":\"value\",\"value\":\"#e5ae38\"},\"hatch_alpha\":{\"type\":\"value\",\"value\":0.1}}},\"muted_glyph\":{\"type\":\"object\",\"name\":\"Scatter\",\"id\":\"p1350\",\"attributes\":{\"tags\":[\"apply_ranges\"],\"x\":{\"type\":\"field\",\"field\":\"n_kernels\"},\"y\":{\"type\":\"field\",\"field\":\"processing_time\"},\"size\":{\"type\":\"value\",\"value\":5.477225575051661},\"line_color\":{\"type\":\"value\",\"value\":\"#e5ae38\"},\"line_alpha\":{\"type\":\"value\",\"value\":0.2},\"fill_color\":{\"type\":\"value\",\"value\":\"#e5ae38\"},\"fill_alpha\":{\"type\":\"value\",\"value\":0.2},\"hatch_color\":{\"type\":\"value\",\"value\":\"#e5ae38\"},\"hatch_alpha\":{\"type\":\"value\",\"value\":0.2}}}}},{\"type\":\"object\",\"name\":\"GlyphRenderer\",\"id\":\"p1365\",\"attributes\":{\"name\":\"mars2020\",\"data_source\":{\"type\":\"object\",\"name\":\"ColumnDataSource\",\"id\":\"p1356\",\"attributes\":{\"selected\":{\"type\":\"object\",\"name\":\"Selection\",\"id\":\"p1357\",\"attributes\":{\"indices\":[],\"line_indices\":[]}},\"selection_policy\":{\"type\":\"object\",\"name\":\"UnionRenderers\",\"id\":\"p1358\"},\"data\":{\"type\":\"map\",\"entries\":[[\"n_kernels\",{\"type\":\"ndarray\",\"array\":{\"type\":\"bytes\",\"data\":\"EQAAAA==\"},\"shape\":[1],\"dtype\":\"int32\",\"order\":\"little\"}],[\"processing_time\",{\"type\":\"ndarray\",\"array\":{\"type\":\"bytes\",\"data\":\"AAAAQFO18j8=\"},\"shape\":[1],\"dtype\":\"float64\",\"order\":\"little\"}],[\"mission\",[\"mars2020\"]]]}}},\"view\":{\"type\":\"object\",\"name\":\"CDSView\",\"id\":\"p1366\",\"attributes\":{\"filter\":{\"type\":\"object\",\"name\":\"AllIndices\",\"id\":\"p1367\"}}},\"glyph\":{\"type\":\"object\",\"name\":\"Scatter\",\"id\":\"p1362\",\"attributes\":{\"tags\":[\"apply_ranges\"],\"x\":{\"type\":\"field\",\"field\":\"n_kernels\"},\"y\":{\"type\":\"field\",\"field\":\"processing_time\"},\"size\":{\"type\":\"value\",\"value\":5.477225575051661},\"line_color\":{\"type\":\"value\",\"value\":\"#6d904f\"},\"fill_color\":{\"type\":\"value\",\"value\":\"#6d904f\"},\"hatch_color\":{\"type\":\"value\",\"value\":\"#6d904f\"}}},\"selection_glyph\":{\"type\":\"object\",\"name\":\"Scatter\",\"id\":\"p1369\",\"attributes\":{\"tags\":[\"apply_ranges\"],\"x\":{\"type\":\"field\",\"field\":\"n_kernels\"},\"y\":{\"type\":\"field\",\"field\":\"processing_time\"},\"size\":{\"type\":\"value\",\"value\":5.477225575051661},\"angle\":{\"type\":\"value\",\"value\":0.0},\"line_color\":{\"type\":\"value\",\"value\":\"#6d904f\"},\"line_alpha\":{\"type\":\"value\",\"value\":1.0},\"line_width\":{\"type\":\"value\",\"value\":1},\"line_join\":{\"type\":\"value\",\"value\":\"bevel\"},\"line_cap\":{\"type\":\"value\",\"value\":\"butt\"},\"line_dash\":{\"type\":\"value\",\"value\":[]},\"line_dash_offset\":{\"type\":\"value\",\"value\":0},\"fill_color\":{\"type\":\"value\",\"value\":\"#6d904f\"},\"fill_alpha\":{\"type\":\"value\",\"value\":1.0},\"hatch_color\":{\"type\":\"value\",\"value\":\"#6d904f\"},\"hatch_alpha\":{\"type\":\"value\",\"value\":1.0},\"hatch_scale\":{\"type\":\"value\",\"value\":12.0},\"hatch_pattern\":{\"type\":\"value\",\"value\":null},\"hatch_weight\":{\"type\":\"value\",\"value\":1.0},\"marker\":{\"type\":\"value\",\"value\":\"circle\"}}},\"nonselection_glyph\":{\"type\":\"object\",\"name\":\"Scatter\",\"id\":\"p1363\",\"attributes\":{\"tags\":[\"apply_ranges\"],\"x\":{\"type\":\"field\",\"field\":\"n_kernels\"},\"y\":{\"type\":\"field\",\"field\":\"processing_time\"},\"size\":{\"type\":\"value\",\"value\":5.477225575051661},\"line_color\":{\"type\":\"value\",\"value\":\"#6d904f\"},\"line_alpha\":{\"type\":\"value\",\"value\":0.1},\"fill_color\":{\"type\":\"value\",\"value\":\"#6d904f\"},\"fill_alpha\":{\"type\":\"value\",\"value\":0.1},\"hatch_color\":{\"type\":\"value\",\"value\":\"#6d904f\"},\"hatch_alpha\":{\"type\":\"value\",\"value\":0.1}}},\"muted_glyph\":{\"type\":\"object\",\"name\":\"Scatter\",\"id\":\"p1364\",\"attributes\":{\"tags\":[\"apply_ranges\"],\"x\":{\"type\":\"field\",\"field\":\"n_kernels\"},\"y\":{\"type\":\"field\",\"field\":\"processing_time\"},\"size\":{\"type\":\"value\",\"value\":5.477225575051661},\"line_color\":{\"type\":\"value\",\"value\":\"#6d904f\"},\"line_alpha\":{\"type\":\"value\",\"value\":0.2},\"fill_color\":{\"type\":\"value\",\"value\":\"#6d904f\"},\"fill_alpha\":{\"type\":\"value\",\"value\":0.2},\"hatch_color\":{\"type\":\"value\",\"value\":\"#6d904f\"},\"hatch_alpha\":{\"type\":\"value\",\"value\":0.2}}}}},{\"type\":\"object\",\"name\":\"GlyphRenderer\",\"id\":\"p1379\",\"attributes\":{\"name\":\"maven\",\"data_source\":{\"type\":\"object\",\"name\":\"ColumnDataSource\",\"id\":\"p1370\",\"attributes\":{\"selected\":{\"type\":\"object\",\"name\":\"Selection\",\"id\":\"p1371\",\"attributes\":{\"indices\":[],\"line_indices\":[]}},\"selection_policy\":{\"type\":\"object\",\"name\":\"UnionRenderers\",\"id\":\"p1372\"},\"data\":{\"type\":\"map\",\"entries\":[[\"n_kernels\",{\"type\":\"ndarray\",\"array\":{\"type\":\"bytes\",\"data\":\"FgAAAA==\"},\"shape\":[1],\"dtype\":\"int32\",\"order\":\"little\"}],[\"processing_time\",{\"type\":\"ndarray\",\"array\":{\"type\":\"bytes\",\"data\":\"AAAAeBfHIkA=\"},\"shape\":[1],\"dtype\":\"float64\",\"order\":\"little\"}],[\"mission\",[\"maven\"]]]}}},\"view\":{\"type\":\"object\",\"name\":\"CDSView\",\"id\":\"p1380\",\"attributes\":{\"filter\":{\"type\":\"object\",\"name\":\"AllIndices\",\"id\":\"p1381\"}}},\"glyph\":{\"type\":\"object\",\"name\":\"Scatter\",\"id\":\"p1376\",\"attributes\":{\"tags\":[\"apply_ranges\"],\"x\":{\"type\":\"field\",\"field\":\"n_kernels\"},\"y\":{\"type\":\"field\",\"field\":\"processing_time\"},\"size\":{\"type\":\"value\",\"value\":5.477225575051661},\"line_color\":{\"type\":\"value\",\"value\":\"#8b8b8b\"},\"fill_color\":{\"type\":\"value\",\"value\":\"#8b8b8b\"},\"hatch_color\":{\"type\":\"value\",\"value\":\"#8b8b8b\"}}},\"selection_glyph\":{\"type\":\"object\",\"name\":\"Scatter\",\"id\":\"p1383\",\"attributes\":{\"tags\":[\"apply_ranges\"],\"x\":{\"type\":\"field\",\"field\":\"n_kernels\"},\"y\":{\"type\":\"field\",\"field\":\"processing_time\"},\"size\":{\"type\":\"value\",\"value\":5.477225575051661},\"angle\":{\"type\":\"value\",\"value\":0.0},\"line_color\":{\"type\":\"value\",\"value\":\"#8b8b8b\"},\"line_alpha\":{\"type\":\"value\",\"value\":1.0},\"line_width\":{\"type\":\"value\",\"value\":1},\"line_join\":{\"type\":\"value\",\"value\":\"bevel\"},\"line_cap\":{\"type\":\"value\",\"value\":\"butt\"},\"line_dash\":{\"type\":\"value\",\"value\":[]},\"line_dash_offset\":{\"type\":\"value\",\"value\":0},\"fill_color\":{\"type\":\"value\",\"value\":\"#8b8b8b\"},\"fill_alpha\":{\"type\":\"value\",\"value\":1.0},\"hatch_color\":{\"type\":\"value\",\"value\":\"#8b8b8b\"},\"hatch_alpha\":{\"type\":\"value\",\"value\":1.0},\"hatch_scale\":{\"type\":\"value\",\"value\":12.0},\"hatch_pattern\":{\"type\":\"value\",\"value\":null},\"hatch_weight\":{\"type\":\"value\",\"value\":1.0},\"marker\":{\"type\":\"value\",\"value\":\"circle\"}}},\"nonselection_glyph\":{\"type\":\"object\",\"name\":\"Scatter\",\"id\":\"p1377\",\"attributes\":{\"tags\":[\"apply_ranges\"],\"x\":{\"type\":\"field\",\"field\":\"n_kernels\"},\"y\":{\"type\":\"field\",\"field\":\"processing_time\"},\"size\":{\"type\":\"value\",\"value\":5.477225575051661},\"line_color\":{\"type\":\"value\",\"value\":\"#8b8b8b\"},\"line_alpha\":{\"type\":\"value\",\"value\":0.1},\"fill_color\":{\"type\":\"value\",\"value\":\"#8b8b8b\"},\"fill_alpha\":{\"type\":\"value\",\"value\":0.1},\"hatch_color\":{\"type\":\"value\",\"value\":\"#8b8b8b\"},\"hatch_alpha\":{\"type\":\"value\",\"value\":0.1}}},\"muted_glyph\":{\"type\":\"object\",\"name\":\"Scatter\",\"id\":\"p1378\",\"attributes\":{\"tags\":[\"apply_ranges\"],\"x\":{\"type\":\"field\",\"field\":\"n_kernels\"},\"y\":{\"type\":\"field\",\"field\":\"processing_time\"},\"size\":{\"type\":\"value\",\"value\":5.477225575051661},\"line_color\":{\"type\":\"value\",\"value\":\"#8b8b8b\"},\"line_alpha\":{\"type\":\"value\",\"value\":0.2},\"fill_color\":{\"type\":\"value\",\"value\":\"#8b8b8b\"},\"fill_alpha\":{\"type\":\"value\",\"value\":0.2},\"hatch_color\":{\"type\":\"value\",\"value\":\"#8b8b8b\"},\"hatch_alpha\":{\"type\":\"value\",\"value\":0.2}}}}},{\"type\":\"object\",\"name\":\"GlyphRenderer\",\"id\":\"p1393\",\"attributes\":{\"name\":\"messenger\",\"data_source\":{\"type\":\"object\",\"name\":\"ColumnDataSource\",\"id\":\"p1384\",\"attributes\":{\"selected\":{\"type\":\"object\",\"name\":\"Selection\",\"id\":\"p1385\",\"attributes\":{\"indices\":[],\"line_indices\":[]}},\"selection_policy\":{\"type\":\"object\",\"name\":\"UnionRenderers\",\"id\":\"p1386\"},\"data\":{\"type\":\"map\",\"entries\":[[\"n_kernels\",{\"type\":\"ndarray\",\"array\":{\"type\":\"bytes\",\"data\":\"EgAAAA==\"},\"shape\":[1],\"dtype\":\"int32\",\"order\":\"little\"}],[\"processing_time\",{\"type\":\"ndarray\",\"array\":{\"type\":\"bytes\",\"data\":\"AAAAgD2p7D8=\"},\"shape\":[1],\"dtype\":\"float64\",\"order\":\"little\"}],[\"mission\",[\"messenger\"]]]}}},\"view\":{\"type\":\"object\",\"name\":\"CDSView\",\"id\":\"p1394\",\"attributes\":{\"filter\":{\"type\":\"object\",\"name\":\"AllIndices\",\"id\":\"p1395\"}}},\"glyph\":{\"type\":\"object\",\"name\":\"Scatter\",\"id\":\"p1390\",\"attributes\":{\"tags\":[\"apply_ranges\"],\"x\":{\"type\":\"field\",\"field\":\"n_kernels\"},\"y\":{\"type\":\"field\",\"field\":\"processing_time\"},\"size\":{\"type\":\"value\",\"value\":5.477225575051661},\"line_color\":{\"type\":\"value\",\"value\":\"#17becf\"},\"fill_color\":{\"type\":\"value\",\"value\":\"#17becf\"},\"hatch_color\":{\"type\":\"value\",\"value\":\"#17becf\"}}},\"selection_glyph\":{\"type\":\"object\",\"name\":\"Scatter\",\"id\":\"p1397\",\"attributes\":{\"tags\":[\"apply_ranges\"],\"x\":{\"type\":\"field\",\"field\":\"n_kernels\"},\"y\":{\"type\":\"field\",\"field\":\"processing_time\"},\"size\":{\"type\":\"value\",\"value\":5.477225575051661},\"angle\":{\"type\":\"value\",\"value\":0.0},\"line_color\":{\"type\":\"value\",\"value\":\"#17becf\"},\"line_alpha\":{\"type\":\"value\",\"value\":1.0},\"line_width\":{\"type\":\"value\",\"value\":1},\"line_join\":{\"type\":\"value\",\"value\":\"bevel\"},\"line_cap\":{\"type\":\"value\",\"value\":\"butt\"},\"line_dash\":{\"type\":\"value\",\"value\":[]},\"line_dash_offset\":{\"type\":\"value\",\"value\":0},\"fill_color\":{\"type\":\"value\",\"value\":\"#17becf\"},\"fill_alpha\":{\"type\":\"value\",\"value\":1.0},\"hatch_color\":{\"type\":\"value\",\"value\":\"#17becf\"},\"hatch_alpha\":{\"type\":\"value\",\"value\":1.0},\"hatch_scale\":{\"type\":\"value\",\"value\":12.0},\"hatch_pattern\":{\"type\":\"value\",\"value\":null},\"hatch_weight\":{\"type\":\"value\",\"value\":1.0},\"marker\":{\"type\":\"value\",\"value\":\"circle\"}}},\"nonselection_glyph\":{\"type\":\"object\",\"name\":\"Scatter\",\"id\":\"p1391\",\"attributes\":{\"tags\":[\"apply_ranges\"],\"x\":{\"type\":\"field\",\"field\":\"n_kernels\"},\"y\":{\"type\":\"field\",\"field\":\"processing_time\"},\"size\":{\"type\":\"value\",\"value\":5.477225575051661},\"line_color\":{\"type\":\"value\",\"value\":\"#17becf\"},\"line_alpha\":{\"type\":\"value\",\"value\":0.1},\"fill_color\":{\"type\":\"value\",\"value\":\"#17becf\"},\"fill_alpha\":{\"type\":\"value\",\"value\":0.1},\"hatch_color\":{\"type\":\"value\",\"value\":\"#17becf\"},\"hatch_alpha\":{\"type\":\"value\",\"value\":0.1}}},\"muted_glyph\":{\"type\":\"object\",\"name\":\"Scatter\",\"id\":\"p1392\",\"attributes\":{\"tags\":[\"apply_ranges\"],\"x\":{\"type\":\"field\",\"field\":\"n_kernels\"},\"y\":{\"type\":\"field\",\"field\":\"processing_time\"},\"size\":{\"type\":\"value\",\"value\":5.477225575051661},\"line_color\":{\"type\":\"value\",\"value\":\"#17becf\"},\"line_alpha\":{\"type\":\"value\",\"value\":0.2},\"fill_color\":{\"type\":\"value\",\"value\":\"#17becf\"},\"fill_alpha\":{\"type\":\"value\",\"value\":0.2},\"hatch_color\":{\"type\":\"value\",\"value\":\"#17becf\"},\"hatch_alpha\":{\"type\":\"value\",\"value\":0.2}}}}},{\"type\":\"object\",\"name\":\"GlyphRenderer\",\"id\":\"p1407\",\"attributes\":{\"name\":\"mex\",\"data_source\":{\"type\":\"object\",\"name\":\"ColumnDataSource\",\"id\":\"p1398\",\"attributes\":{\"selected\":{\"type\":\"object\",\"name\":\"Selection\",\"id\":\"p1399\",\"attributes\":{\"indices\":[],\"line_indices\":[]}},\"selection_policy\":{\"type\":\"object\",\"name\":\"UnionRenderers\",\"id\":\"p1400\"},\"data\":{\"type\":\"map\",\"entries\":[[\"n_kernels\",{\"type\":\"ndarray\",\"array\":{\"type\":\"bytes\",\"data\":\"JwAAAA==\"},\"shape\":[1],\"dtype\":\"int32\",\"order\":\"little\"}],[\"processing_time\",{\"type\":\"ndarray\",\"array\":{\"type\":\"bytes\",\"data\":\"AAAAgCui7D8=\"},\"shape\":[1],\"dtype\":\"float64\",\"order\":\"little\"}],[\"mission\",[\"mex\"]]]}}},\"view\":{\"type\":\"object\",\"name\":\"CDSView\",\"id\":\"p1408\",\"attributes\":{\"filter\":{\"type\":\"object\",\"name\":\"AllIndices\",\"id\":\"p1409\"}}},\"glyph\":{\"type\":\"object\",\"name\":\"Scatter\",\"id\":\"p1404\",\"attributes\":{\"tags\":[\"apply_ranges\"],\"x\":{\"type\":\"field\",\"field\":\"n_kernels\"},\"y\":{\"type\":\"field\",\"field\":\"processing_time\"},\"size\":{\"type\":\"value\",\"value\":5.477225575051661},\"line_color\":{\"type\":\"value\",\"value\":\"#9467bd\"},\"fill_color\":{\"type\":\"value\",\"value\":\"#9467bd\"},\"hatch_color\":{\"type\":\"value\",\"value\":\"#9467bd\"}}},\"selection_glyph\":{\"type\":\"object\",\"name\":\"Scatter\",\"id\":\"p1411\",\"attributes\":{\"tags\":[\"apply_ranges\"],\"x\":{\"type\":\"field\",\"field\":\"n_kernels\"},\"y\":{\"type\":\"field\",\"field\":\"processing_time\"},\"size\":{\"type\":\"value\",\"value\":5.477225575051661},\"angle\":{\"type\":\"value\",\"value\":0.0},\"line_color\":{\"type\":\"value\",\"value\":\"#9467bd\"},\"line_alpha\":{\"type\":\"value\",\"value\":1.0},\"line_width\":{\"type\":\"value\",\"value\":1},\"line_join\":{\"type\":\"value\",\"value\":\"bevel\"},\"line_cap\":{\"type\":\"value\",\"value\":\"butt\"},\"line_dash\":{\"type\":\"value\",\"value\":[]},\"line_dash_offset\":{\"type\":\"value\",\"value\":0},\"fill_color\":{\"type\":\"value\",\"value\":\"#9467bd\"},\"fill_alpha\":{\"type\":\"value\",\"value\":1.0},\"hatch_color\":{\"type\":\"value\",\"value\":\"#9467bd\"},\"hatch_alpha\":{\"type\":\"value\",\"value\":1.0},\"hatch_scale\":{\"type\":\"value\",\"value\":12.0},\"hatch_pattern\":{\"type\":\"value\",\"value\":null},\"hatch_weight\":{\"type\":\"value\",\"value\":1.0},\"marker\":{\"type\":\"value\",\"value\":\"circle\"}}},\"nonselection_glyph\":{\"type\":\"object\",\"name\":\"Scatter\",\"id\":\"p1405\",\"attributes\":{\"tags\":[\"apply_ranges\"],\"x\":{\"type\":\"field\",\"field\":\"n_kernels\"},\"y\":{\"type\":\"field\",\"field\":\"processing_time\"},\"size\":{\"type\":\"value\",\"value\":5.477225575051661},\"line_color\":{\"type\":\"value\",\"value\":\"#9467bd\"},\"line_alpha\":{\"type\":\"value\",\"value\":0.1},\"fill_color\":{\"type\":\"value\",\"value\":\"#9467bd\"},\"fill_alpha\":{\"type\":\"value\",\"value\":0.1},\"hatch_color\":{\"type\":\"value\",\"value\":\"#9467bd\"},\"hatch_alpha\":{\"type\":\"value\",\"value\":0.1}}},\"muted_glyph\":{\"type\":\"object\",\"name\":\"Scatter\",\"id\":\"p1406\",\"attributes\":{\"tags\":[\"apply_ranges\"],\"x\":{\"type\":\"field\",\"field\":\"n_kernels\"},\"y\":{\"type\":\"field\",\"field\":\"processing_time\"},\"size\":{\"type\":\"value\",\"value\":5.477225575051661},\"line_color\":{\"type\":\"value\",\"value\":\"#9467bd\"},\"line_alpha\":{\"type\":\"value\",\"value\":0.2},\"fill_color\":{\"type\":\"value\",\"value\":\"#9467bd\"},\"fill_alpha\":{\"type\":\"value\",\"value\":0.2},\"hatch_color\":{\"type\":\"value\",\"value\":\"#9467bd\"},\"hatch_alpha\":{\"type\":\"value\",\"value\":0.2}}}}},{\"type\":\"object\",\"name\":\"GlyphRenderer\",\"id\":\"p1421\",\"attributes\":{\"name\":\"mgs\",\"data_source\":{\"type\":\"object\",\"name\":\"ColumnDataSource\",\"id\":\"p1412\",\"attributes\":{\"selected\":{\"type\":\"object\",\"name\":\"Selection\",\"id\":\"p1413\",\"attributes\":{\"indices\":[],\"line_indices\":[]}},\"selection_policy\":{\"type\":\"object\",\"name\":\"UnionRenderers\",\"id\":\"p1414\"},\"data\":{\"type\":\"map\",\"entries\":[[\"n_kernels\",{\"type\":\"ndarray\",\"array\":{\"type\":\"bytes\",\"data\":\"FAAAAA==\"},\"shape\":[1],\"dtype\":\"int32\",\"order\":\"little\"}],[\"processing_time\",{\"type\":\"ndarray\",\"array\":{\"type\":\"bytes\",\"data\":\"AAAAgMBO7D8=\"},\"shape\":[1],\"dtype\":\"float64\",\"order\":\"little\"}],[\"mission\",[\"mgs\"]]]}}},\"view\":{\"type\":\"object\",\"name\":\"CDSView\",\"id\":\"p1422\",\"attributes\":{\"filter\":{\"type\":\"object\",\"name\":\"AllIndices\",\"id\":\"p1423\"}}},\"glyph\":{\"type\":\"object\",\"name\":\"Scatter\",\"id\":\"p1418\",\"attributes\":{\"tags\":[\"apply_ranges\"],\"x\":{\"type\":\"field\",\"field\":\"n_kernels\"},\"y\":{\"type\":\"field\",\"field\":\"processing_time\"},\"size\":{\"type\":\"value\",\"value\":5.477225575051661},\"line_color\":{\"type\":\"value\",\"value\":\"#d62728\"},\"fill_color\":{\"type\":\"value\",\"value\":\"#d62728\"},\"hatch_color\":{\"type\":\"value\",\"value\":\"#d62728\"}}},\"selection_glyph\":{\"type\":\"object\",\"name\":\"Scatter\",\"id\":\"p1425\",\"attributes\":{\"tags\":[\"apply_ranges\"],\"x\":{\"type\":\"field\",\"field\":\"n_kernels\"},\"y\":{\"type\":\"field\",\"field\":\"processing_time\"},\"size\":{\"type\":\"value\",\"value\":5.477225575051661},\"angle\":{\"type\":\"value\",\"value\":0.0},\"line_color\":{\"type\":\"value\",\"value\":\"#d62728\"},\"line_alpha\":{\"type\":\"value\",\"value\":1.0},\"line_width\":{\"type\":\"value\",\"value\":1},\"line_join\":{\"type\":\"value\",\"value\":\"bevel\"},\"line_cap\":{\"type\":\"value\",\"value\":\"butt\"},\"line_dash\":{\"type\":\"value\",\"value\":[]},\"line_dash_offset\":{\"type\":\"value\",\"value\":0},\"fill_color\":{\"type\":\"value\",\"value\":\"#d62728\"},\"fill_alpha\":{\"type\":\"value\",\"value\":1.0},\"hatch_color\":{\"type\":\"value\",\"value\":\"#d62728\"},\"hatch_alpha\":{\"type\":\"value\",\"value\":1.0},\"hatch_scale\":{\"type\":\"value\",\"value\":12.0},\"hatch_pattern\":{\"type\":\"value\",\"value\":null},\"hatch_weight\":{\"type\":\"value\",\"value\":1.0},\"marker\":{\"type\":\"value\",\"value\":\"circle\"}}},\"nonselection_glyph\":{\"type\":\"object\",\"name\":\"Scatter\",\"id\":\"p1419\",\"attributes\":{\"tags\":[\"apply_ranges\"],\"x\":{\"type\":\"field\",\"field\":\"n_kernels\"},\"y\":{\"type\":\"field\",\"field\":\"processing_time\"},\"size\":{\"type\":\"value\",\"value\":5.477225575051661},\"line_color\":{\"type\":\"value\",\"value\":\"#d62728\"},\"line_alpha\":{\"type\":\"value\",\"value\":0.1},\"fill_color\":{\"type\":\"value\",\"value\":\"#d62728\"},\"fill_alpha\":{\"type\":\"value\",\"value\":0.1},\"hatch_color\":{\"type\":\"value\",\"value\":\"#d62728\"},\"hatch_alpha\":{\"type\":\"value\",\"value\":0.1}}},\"muted_glyph\":{\"type\":\"object\",\"name\":\"Scatter\",\"id\":\"p1420\",\"attributes\":{\"tags\":[\"apply_ranges\"],\"x\":{\"type\":\"field\",\"field\":\"n_kernels\"},\"y\":{\"type\":\"field\",\"field\":\"processing_time\"},\"size\":{\"type\":\"value\",\"value\":5.477225575051661},\"line_color\":{\"type\":\"value\",\"value\":\"#d62728\"},\"line_alpha\":{\"type\":\"value\",\"value\":0.2},\"fill_color\":{\"type\":\"value\",\"value\":\"#d62728\"},\"fill_alpha\":{\"type\":\"value\",\"value\":0.2},\"hatch_color\":{\"type\":\"value\",\"value\":\"#d62728\"},\"hatch_alpha\":{\"type\":\"value\",\"value\":0.2}}}}},{\"type\":\"object\",\"name\":\"GlyphRenderer\",\"id\":\"p1435\",\"attributes\":{\"name\":\"mro\",\"data_source\":{\"type\":\"object\",\"name\":\"ColumnDataSource\",\"id\":\"p1426\",\"attributes\":{\"selected\":{\"type\":\"object\",\"name\":\"Selection\",\"id\":\"p1427\",\"attributes\":{\"indices\":[],\"line_indices\":[]}},\"selection_policy\":{\"type\":\"object\",\"name\":\"UnionRenderers\",\"id\":\"p1428\"},\"data\":{\"type\":\"map\",\"entries\":[[\"n_kernels\",{\"type\":\"ndarray\",\"array\":{\"type\":\"bytes\",\"data\":\"FAAAAA==\"},\"shape\":[1],\"dtype\":\"int32\",\"order\":\"little\"}],[\"processing_time\",{\"type\":\"ndarray\",\"array\":{\"type\":\"bytes\",\"data\":\"AAAAACN88z8=\"},\"shape\":[1],\"dtype\":\"float64\",\"order\":\"little\"}],[\"mission\",[\"mro\"]]]}}},\"view\":{\"type\":\"object\",\"name\":\"CDSView\",\"id\":\"p1436\",\"attributes\":{\"filter\":{\"type\":\"object\",\"name\":\"AllIndices\",\"id\":\"p1437\"}}},\"glyph\":{\"type\":\"object\",\"name\":\"Scatter\",\"id\":\"p1432\",\"attributes\":{\"tags\":[\"apply_ranges\"],\"x\":{\"type\":\"field\",\"field\":\"n_kernels\"},\"y\":{\"type\":\"field\",\"field\":\"processing_time\"},\"size\":{\"type\":\"value\",\"value\":5.477225575051661},\"line_color\":{\"type\":\"value\",\"value\":\"#1f77b4\"},\"fill_color\":{\"type\":\"value\",\"value\":\"#1f77b4\"},\"hatch_color\":{\"type\":\"value\",\"value\":\"#1f77b4\"}}},\"selection_glyph\":{\"type\":\"object\",\"name\":\"Scatter\",\"id\":\"p1439\",\"attributes\":{\"tags\":[\"apply_ranges\"],\"x\":{\"type\":\"field\",\"field\":\"n_kernels\"},\"y\":{\"type\":\"field\",\"field\":\"processing_time\"},\"size\":{\"type\":\"value\",\"value\":5.477225575051661},\"angle\":{\"type\":\"value\",\"value\":0.0},\"line_color\":{\"type\":\"value\",\"value\":\"#1f77b4\"},\"line_alpha\":{\"type\":\"value\",\"value\":1.0},\"line_width\":{\"type\":\"value\",\"value\":1},\"line_join\":{\"type\":\"value\",\"value\":\"bevel\"},\"line_cap\":{\"type\":\"value\",\"value\":\"butt\"},\"line_dash\":{\"type\":\"value\",\"value\":[]},\"line_dash_offset\":{\"type\":\"value\",\"value\":0},\"fill_color\":{\"type\":\"value\",\"value\":\"#1f77b4\"},\"fill_alpha\":{\"type\":\"value\",\"value\":1.0},\"hatch_color\":{\"type\":\"value\",\"value\":\"#1f77b4\"},\"hatch_alpha\":{\"type\":\"value\",\"value\":1.0},\"hatch_scale\":{\"type\":\"value\",\"value\":12.0},\"hatch_pattern\":{\"type\":\"value\",\"value\":null},\"hatch_weight\":{\"type\":\"value\",\"value\":1.0},\"marker\":{\"type\":\"value\",\"value\":\"circle\"}}},\"nonselection_glyph\":{\"type\":\"object\",\"name\":\"Scatter\",\"id\":\"p1433\",\"attributes\":{\"tags\":[\"apply_ranges\"],\"x\":{\"type\":\"field\",\"field\":\"n_kernels\"},\"y\":{\"type\":\"field\",\"field\":\"processing_time\"},\"size\":{\"type\":\"value\",\"value\":5.477225575051661},\"line_color\":{\"type\":\"value\",\"value\":\"#1f77b4\"},\"line_alpha\":{\"type\":\"value\",\"value\":0.1},\"fill_color\":{\"type\":\"value\",\"value\":\"#1f77b4\"},\"fill_alpha\":{\"type\":\"value\",\"value\":0.1},\"hatch_color\":{\"type\":\"value\",\"value\":\"#1f77b4\"},\"hatch_alpha\":{\"type\":\"value\",\"value\":0.1}}},\"muted_glyph\":{\"type\":\"object\",\"name\":\"Scatter\",\"id\":\"p1434\",\"attributes\":{\"tags\":[\"apply_ranges\"],\"x\":{\"type\":\"field\",\"field\":\"n_kernels\"},\"y\":{\"type\":\"field\",\"field\":\"processing_time\"},\"size\":{\"type\":\"value\",\"value\":5.477225575051661},\"line_color\":{\"type\":\"value\",\"value\":\"#1f77b4\"},\"line_alpha\":{\"type\":\"value\",\"value\":0.2},\"fill_color\":{\"type\":\"value\",\"value\":\"#1f77b4\"},\"fill_alpha\":{\"type\":\"value\",\"value\":0.2},\"hatch_color\":{\"type\":\"value\",\"value\":\"#1f77b4\"},\"hatch_alpha\":{\"type\":\"value\",\"value\":0.2}}}}},{\"type\":\"object\",\"name\":\"GlyphRenderer\",\"id\":\"p1449\",\"attributes\":{\"name\":\"msl\",\"data_source\":{\"type\":\"object\",\"name\":\"ColumnDataSource\",\"id\":\"p1440\",\"attributes\":{\"selected\":{\"type\":\"object\",\"name\":\"Selection\",\"id\":\"p1441\",\"attributes\":{\"indices\":[],\"line_indices\":[]}},\"selection_policy\":{\"type\":\"object\",\"name\":\"UnionRenderers\",\"id\":\"p1442\"},\"data\":{\"type\":\"map\",\"entries\":[[\"n_kernels\",{\"type\":\"ndarray\",\"array\":{\"type\":\"bytes\",\"data\":\"NgAAAA==\"},\"shape\":[1],\"dtype\":\"int32\",\"order\":\"little\"}],[\"processing_time\",{\"type\":\"ndarray\",\"array\":{\"type\":\"bytes\",\"data\":\"AAAAgOCM6z8=\"},\"shape\":[1],\"dtype\":\"float64\",\"order\":\"little\"}],[\"mission\",[\"msl\"]]]}}},\"view\":{\"type\":\"object\",\"name\":\"CDSView\",\"id\":\"p1450\",\"attributes\":{\"filter\":{\"type\":\"object\",\"name\":\"AllIndices\",\"id\":\"p1451\"}}},\"glyph\":{\"type\":\"object\",\"name\":\"Scatter\",\"id\":\"p1446\",\"attributes\":{\"tags\":[\"apply_ranges\"],\"x\":{\"type\":\"field\",\"field\":\"n_kernels\"},\"y\":{\"type\":\"field\",\"field\":\"processing_time\"},\"size\":{\"type\":\"value\",\"value\":5.477225575051661},\"line_color\":{\"type\":\"value\",\"value\":\"#e377c2\"},\"fill_color\":{\"type\":\"value\",\"value\":\"#e377c2\"},\"hatch_color\":{\"type\":\"value\",\"value\":\"#e377c2\"}}},\"selection_glyph\":{\"type\":\"object\",\"name\":\"Scatter\",\"id\":\"p1453\",\"attributes\":{\"tags\":[\"apply_ranges\"],\"x\":{\"type\":\"field\",\"field\":\"n_kernels\"},\"y\":{\"type\":\"field\",\"field\":\"processing_time\"},\"size\":{\"type\":\"value\",\"value\":5.477225575051661},\"angle\":{\"type\":\"value\",\"value\":0.0},\"line_color\":{\"type\":\"value\",\"value\":\"#e377c2\"},\"line_alpha\":{\"type\":\"value\",\"value\":1.0},\"line_width\":{\"type\":\"value\",\"value\":1},\"line_join\":{\"type\":\"value\",\"value\":\"bevel\"},\"line_cap\":{\"type\":\"value\",\"value\":\"butt\"},\"line_dash\":{\"type\":\"value\",\"value\":[]},\"line_dash_offset\":{\"type\":\"value\",\"value\":0},\"fill_color\":{\"type\":\"value\",\"value\":\"#e377c2\"},\"fill_alpha\":{\"type\":\"value\",\"value\":1.0},\"hatch_color\":{\"type\":\"value\",\"value\":\"#e377c2\"},\"hatch_alpha\":{\"type\":\"value\",\"value\":1.0},\"hatch_scale\":{\"type\":\"value\",\"value\":12.0},\"hatch_pattern\":{\"type\":\"value\",\"value\":null},\"hatch_weight\":{\"type\":\"value\",\"value\":1.0},\"marker\":{\"type\":\"value\",\"value\":\"circle\"}}},\"nonselection_glyph\":{\"type\":\"object\",\"name\":\"Scatter\",\"id\":\"p1447\",\"attributes\":{\"tags\":[\"apply_ranges\"],\"x\":{\"type\":\"field\",\"field\":\"n_kernels\"},\"y\":{\"type\":\"field\",\"field\":\"processing_time\"},\"size\":{\"type\":\"value\",\"value\":5.477225575051661},\"line_color\":{\"type\":\"value\",\"value\":\"#e377c2\"},\"line_alpha\":{\"type\":\"value\",\"value\":0.1},\"fill_color\":{\"type\":\"value\",\"value\":\"#e377c2\"},\"fill_alpha\":{\"type\":\"value\",\"value\":0.1},\"hatch_color\":{\"type\":\"value\",\"value\":\"#e377c2\"},\"hatch_alpha\":{\"type\":\"value\",\"value\":0.1}}},\"muted_glyph\":{\"type\":\"object\",\"name\":\"Scatter\",\"id\":\"p1448\",\"attributes\":{\"tags\":[\"apply_ranges\"],\"x\":{\"type\":\"field\",\"field\":\"n_kernels\"},\"y\":{\"type\":\"field\",\"field\":\"processing_time\"},\"size\":{\"type\":\"value\",\"value\":5.477225575051661},\"line_color\":{\"type\":\"value\",\"value\":\"#e377c2\"},\"line_alpha\":{\"type\":\"value\",\"value\":0.2},\"fill_color\":{\"type\":\"value\",\"value\":\"#e377c2\"},\"fill_alpha\":{\"type\":\"value\",\"value\":0.2},\"hatch_color\":{\"type\":\"value\",\"value\":\"#e377c2\"},\"hatch_alpha\":{\"type\":\"value\",\"value\":0.2}}}}},{\"type\":\"object\",\"name\":\"GlyphRenderer\",\"id\":\"p1463\",\"attributes\":{\"name\":\"near\",\"data_source\":{\"type\":\"object\",\"name\":\"ColumnDataSource\",\"id\":\"p1454\",\"attributes\":{\"selected\":{\"type\":\"object\",\"name\":\"Selection\",\"id\":\"p1455\",\"attributes\":{\"indices\":[],\"line_indices\":[]}},\"selection_policy\":{\"type\":\"object\",\"name\":\"UnionRenderers\",\"id\":\"p1456\"},\"data\":{\"type\":\"map\",\"entries\":[[\"n_kernels\",{\"type\":\"ndarray\",\"array\":{\"type\":\"bytes\",\"data\":\"DwAAAA==\"},\"shape\":[1],\"dtype\":\"int32\",\"order\":\"little\"}],[\"processing_time\",{\"type\":\"ndarray\",\"array\":{\"type\":\"bytes\",\"data\":\"AAAAgBqA6T8=\"},\"shape\":[1],\"dtype\":\"float64\",\"order\":\"little\"}],[\"mission\",[\"near\"]]]}}},\"view\":{\"type\":\"object\",\"name\":\"CDSView\",\"id\":\"p1464\",\"attributes\":{\"filter\":{\"type\":\"object\",\"name\":\"AllIndices\",\"id\":\"p1465\"}}},\"glyph\":{\"type\":\"object\",\"name\":\"Scatter\",\"id\":\"p1460\",\"attributes\":{\"tags\":[\"apply_ranges\"],\"x\":{\"type\":\"field\",\"field\":\"n_kernels\"},\"y\":{\"type\":\"field\",\"field\":\"processing_time\"},\"size\":{\"type\":\"value\",\"value\":5.477225575051661},\"line_color\":{\"type\":\"value\",\"value\":\"#8c564b\"},\"fill_color\":{\"type\":\"value\",\"value\":\"#8c564b\"},\"hatch_color\":{\"type\":\"value\",\"value\":\"#8c564b\"}}},\"selection_glyph\":{\"type\":\"object\",\"name\":\"Scatter\",\"id\":\"p1467\",\"attributes\":{\"tags\":[\"apply_ranges\"],\"x\":{\"type\":\"field\",\"field\":\"n_kernels\"},\"y\":{\"type\":\"field\",\"field\":\"processing_time\"},\"size\":{\"type\":\"value\",\"value\":5.477225575051661},\"angle\":{\"type\":\"value\",\"value\":0.0},\"line_color\":{\"type\":\"value\",\"value\":\"#8c564b\"},\"line_alpha\":{\"type\":\"value\",\"value\":1.0},\"line_width\":{\"type\":\"value\",\"value\":1},\"line_join\":{\"type\":\"value\",\"value\":\"bevel\"},\"line_cap\":{\"type\":\"value\",\"value\":\"butt\"},\"line_dash\":{\"type\":\"value\",\"value\":[]},\"line_dash_offset\":{\"type\":\"value\",\"value\":0},\"fill_color\":{\"type\":\"value\",\"value\":\"#8c564b\"},\"fill_alpha\":{\"type\":\"value\",\"value\":1.0},\"hatch_color\":{\"type\":\"value\",\"value\":\"#8c564b\"},\"hatch_alpha\":{\"type\":\"value\",\"value\":1.0},\"hatch_scale\":{\"type\":\"value\",\"value\":12.0},\"hatch_pattern\":{\"type\":\"value\",\"value\":null},\"hatch_weight\":{\"type\":\"value\",\"value\":1.0},\"marker\":{\"type\":\"value\",\"value\":\"circle\"}}},\"nonselection_glyph\":{\"type\":\"object\",\"name\":\"Scatter\",\"id\":\"p1461\",\"attributes\":{\"tags\":[\"apply_ranges\"],\"x\":{\"type\":\"field\",\"field\":\"n_kernels\"},\"y\":{\"type\":\"field\",\"field\":\"processing_time\"},\"size\":{\"type\":\"value\",\"value\":5.477225575051661},\"line_color\":{\"type\":\"value\",\"value\":\"#8c564b\"},\"line_alpha\":{\"type\":\"value\",\"value\":0.1},\"fill_color\":{\"type\":\"value\",\"value\":\"#8c564b\"},\"fill_alpha\":{\"type\":\"value\",\"value\":0.1},\"hatch_color\":{\"type\":\"value\",\"value\":\"#8c564b\"},\"hatch_alpha\":{\"type\":\"value\",\"value\":0.1}}},\"muted_glyph\":{\"type\":\"object\",\"name\":\"Scatter\",\"id\":\"p1462\",\"attributes\":{\"tags\":[\"apply_ranges\"],\"x\":{\"type\":\"field\",\"field\":\"n_kernels\"},\"y\":{\"type\":\"field\",\"field\":\"processing_time\"},\"size\":{\"type\":\"value\",\"value\":5.477225575051661},\"line_color\":{\"type\":\"value\",\"value\":\"#8c564b\"},\"line_alpha\":{\"type\":\"value\",\"value\":0.2},\"fill_color\":{\"type\":\"value\",\"value\":\"#8c564b\"},\"fill_alpha\":{\"type\":\"value\",\"value\":0.2},\"hatch_color\":{\"type\":\"value\",\"value\":\"#8c564b\"},\"hatch_alpha\":{\"type\":\"value\",\"value\":0.2}}}}},{\"type\":\"object\",\"name\":\"GlyphRenderer\",\"id\":\"p1477\",\"attributes\":{\"name\":\"nh\",\"data_source\":{\"type\":\"object\",\"name\":\"ColumnDataSource\",\"id\":\"p1468\",\"attributes\":{\"selected\":{\"type\":\"object\",\"name\":\"Selection\",\"id\":\"p1469\",\"attributes\":{\"indices\":[],\"line_indices\":[]}},\"selection_policy\":{\"type\":\"object\",\"name\":\"UnionRenderers\",\"id\":\"p1470\"},\"data\":{\"type\":\"map\",\"entries\":[[\"n_kernels\",{\"type\":\"ndarray\",\"array\":{\"type\":\"bytes\",\"data\":\"HQAAAA==\"},\"shape\":[1],\"dtype\":\"int32\",\"order\":\"little\"}],[\"processing_time\",{\"type\":\"ndarray\",\"array\":{\"type\":\"bytes\",\"data\":\"AAAAgO716T8=\"},\"shape\":[1],\"dtype\":\"float64\",\"order\":\"little\"}],[\"mission\",[\"nh\"]]]}}},\"view\":{\"type\":\"object\",\"name\":\"CDSView\",\"id\":\"p1478\",\"attributes\":{\"filter\":{\"type\":\"object\",\"name\":\"AllIndices\",\"id\":\"p1479\"}}},\"glyph\":{\"type\":\"object\",\"name\":\"Scatter\",\"id\":\"p1474\",\"attributes\":{\"tags\":[\"apply_ranges\"],\"x\":{\"type\":\"field\",\"field\":\"n_kernels\"},\"y\":{\"type\":\"field\",\"field\":\"processing_time\"},\"size\":{\"type\":\"value\",\"value\":5.477225575051661},\"line_color\":{\"type\":\"value\",\"value\":\"#bcbd22\"},\"fill_color\":{\"type\":\"value\",\"value\":\"#bcbd22\"},\"hatch_color\":{\"type\":\"value\",\"value\":\"#bcbd22\"}}},\"selection_glyph\":{\"type\":\"object\",\"name\":\"Scatter\",\"id\":\"p1481\",\"attributes\":{\"tags\":[\"apply_ranges\"],\"x\":{\"type\":\"field\",\"field\":\"n_kernels\"},\"y\":{\"type\":\"field\",\"field\":\"processing_time\"},\"size\":{\"type\":\"value\",\"value\":5.477225575051661},\"angle\":{\"type\":\"value\",\"value\":0.0},\"line_color\":{\"type\":\"value\",\"value\":\"#bcbd22\"},\"line_alpha\":{\"type\":\"value\",\"value\":1.0},\"line_width\":{\"type\":\"value\",\"value\":1},\"line_join\":{\"type\":\"value\",\"value\":\"bevel\"},\"line_cap\":{\"type\":\"value\",\"value\":\"butt\"},\"line_dash\":{\"type\":\"value\",\"value\":[]},\"line_dash_offset\":{\"type\":\"value\",\"value\":0},\"fill_color\":{\"type\":\"value\",\"value\":\"#bcbd22\"},\"fill_alpha\":{\"type\":\"value\",\"value\":1.0},\"hatch_color\":{\"type\":\"value\",\"value\":\"#bcbd22\"},\"hatch_alpha\":{\"type\":\"value\",\"value\":1.0},\"hatch_scale\":{\"type\":\"value\",\"value\":12.0},\"hatch_pattern\":{\"type\":\"value\",\"value\":null},\"hatch_weight\":{\"type\":\"value\",\"value\":1.0},\"marker\":{\"type\":\"value\",\"value\":\"circle\"}}},\"nonselection_glyph\":{\"type\":\"object\",\"name\":\"Scatter\",\"id\":\"p1475\",\"attributes\":{\"tags\":[\"apply_ranges\"],\"x\":{\"type\":\"field\",\"field\":\"n_kernels\"},\"y\":{\"type\":\"field\",\"field\":\"processing_time\"},\"size\":{\"type\":\"value\",\"value\":5.477225575051661},\"line_color\":{\"type\":\"value\",\"value\":\"#bcbd22\"},\"line_alpha\":{\"type\":\"value\",\"value\":0.1},\"fill_color\":{\"type\":\"value\",\"value\":\"#bcbd22\"},\"fill_alpha\":{\"type\":\"value\",\"value\":0.1},\"hatch_color\":{\"type\":\"value\",\"value\":\"#bcbd22\"},\"hatch_alpha\":{\"type\":\"value\",\"value\":0.1}}},\"muted_glyph\":{\"type\":\"object\",\"name\":\"Scatter\",\"id\":\"p1476\",\"attributes\":{\"tags\":[\"apply_ranges\"],\"x\":{\"type\":\"field\",\"field\":\"n_kernels\"},\"y\":{\"type\":\"field\",\"field\":\"processing_time\"},\"size\":{\"type\":\"value\",\"value\":5.477225575051661},\"line_color\":{\"type\":\"value\",\"value\":\"#bcbd22\"},\"line_alpha\":{\"type\":\"value\",\"value\":0.2},\"fill_color\":{\"type\":\"value\",\"value\":\"#bcbd22\"},\"fill_alpha\":{\"type\":\"value\",\"value\":0.2},\"hatch_color\":{\"type\":\"value\",\"value\":\"#bcbd22\"},\"hatch_alpha\":{\"type\":\"value\",\"value\":0.2}}}}},{\"type\":\"object\",\"name\":\"GlyphRenderer\",\"id\":\"p1491\",\"attributes\":{\"name\":\"ody\",\"data_source\":{\"type\":\"object\",\"name\":\"ColumnDataSource\",\"id\":\"p1482\",\"attributes\":{\"selected\":{\"type\":\"object\",\"name\":\"Selection\",\"id\":\"p1483\",\"attributes\":{\"indices\":[],\"line_indices\":[]}},\"selection_policy\":{\"type\":\"object\",\"name\":\"UnionRenderers\",\"id\":\"p1484\"},\"data\":{\"type\":\"map\",\"entries\":[[\"n_kernels\",{\"type\":\"ndarray\",\"array\":{\"type\":\"bytes\",\"data\":\"DgAAAA==\"},\"shape\":[1],\"dtype\":\"int32\",\"order\":\"little\"}],[\"processing_time\",{\"type\":\"ndarray\",\"array\":{\"type\":\"bytes\",\"data\":\"AAAAgHQ+7D8=\"},\"shape\":[1],\"dtype\":\"float64\",\"order\":\"little\"}],[\"mission\",[\"ody\"]]]}}},\"view\":{\"type\":\"object\",\"name\":\"CDSView\",\"id\":\"p1492\",\"attributes\":{\"filter\":{\"type\":\"object\",\"name\":\"AllIndices\",\"id\":\"p1493\"}}},\"glyph\":{\"type\":\"object\",\"name\":\"Scatter\",\"id\":\"p1488\",\"attributes\":{\"tags\":[\"apply_ranges\"],\"x\":{\"type\":\"field\",\"field\":\"n_kernels\"},\"y\":{\"type\":\"field\",\"field\":\"processing_time\"},\"size\":{\"type\":\"value\",\"value\":5.477225575051661},\"line_color\":{\"type\":\"value\",\"value\":\"#30a2da\"},\"fill_color\":{\"type\":\"value\",\"value\":\"#30a2da\"},\"hatch_color\":{\"type\":\"value\",\"value\":\"#30a2da\"}}},\"selection_glyph\":{\"type\":\"object\",\"name\":\"Scatter\",\"id\":\"p1495\",\"attributes\":{\"tags\":[\"apply_ranges\"],\"x\":{\"type\":\"field\",\"field\":\"n_kernels\"},\"y\":{\"type\":\"field\",\"field\":\"processing_time\"},\"size\":{\"type\":\"value\",\"value\":5.477225575051661},\"angle\":{\"type\":\"value\",\"value\":0.0},\"line_color\":{\"type\":\"value\",\"value\":\"#30a2da\"},\"line_alpha\":{\"type\":\"value\",\"value\":1.0},\"line_width\":{\"type\":\"value\",\"value\":1},\"line_join\":{\"type\":\"value\",\"value\":\"bevel\"},\"line_cap\":{\"type\":\"value\",\"value\":\"butt\"},\"line_dash\":{\"type\":\"value\",\"value\":[]},\"line_dash_offset\":{\"type\":\"value\",\"value\":0},\"fill_color\":{\"type\":\"value\",\"value\":\"#30a2da\"},\"fill_alpha\":{\"type\":\"value\",\"value\":1.0},\"hatch_color\":{\"type\":\"value\",\"value\":\"#30a2da\"},\"hatch_alpha\":{\"type\":\"value\",\"value\":1.0},\"hatch_scale\":{\"type\":\"value\",\"value\":12.0},\"hatch_pattern\":{\"type\":\"value\",\"value\":null},\"hatch_weight\":{\"type\":\"value\",\"value\":1.0},\"marker\":{\"type\":\"value\",\"value\":\"circle\"}}},\"nonselection_glyph\":{\"type\":\"object\",\"name\":\"Scatter\",\"id\":\"p1489\",\"attributes\":{\"tags\":[\"apply_ranges\"],\"x\":{\"type\":\"field\",\"field\":\"n_kernels\"},\"y\":{\"type\":\"field\",\"field\":\"processing_time\"},\"size\":{\"type\":\"value\",\"value\":5.477225575051661},\"line_color\":{\"type\":\"value\",\"value\":\"#30a2da\"},\"line_alpha\":{\"type\":\"value\",\"value\":0.1},\"fill_color\":{\"type\":\"value\",\"value\":\"#30a2da\"},\"fill_alpha\":{\"type\":\"value\",\"value\":0.1},\"hatch_color\":{\"type\":\"value\",\"value\":\"#30a2da\"},\"hatch_alpha\":{\"type\":\"value\",\"value\":0.1}}},\"muted_glyph\":{\"type\":\"object\",\"name\":\"Scatter\",\"id\":\"p1490\",\"attributes\":{\"tags\":[\"apply_ranges\"],\"x\":{\"type\":\"field\",\"field\":\"n_kernels\"},\"y\":{\"type\":\"field\",\"field\":\"processing_time\"},\"size\":{\"type\":\"value\",\"value\":5.477225575051661},\"line_color\":{\"type\":\"value\",\"value\":\"#30a2da\"},\"line_alpha\":{\"type\":\"value\",\"value\":0.2},\"fill_color\":{\"type\":\"value\",\"value\":\"#30a2da\"},\"fill_alpha\":{\"type\":\"value\",\"value\":0.2},\"hatch_color\":{\"type\":\"value\",\"value\":\"#30a2da\"},\"hatch_alpha\":{\"type\":\"value\",\"value\":0.2}}}}},{\"type\":\"object\",\"name\":\"GlyphRenderer\",\"id\":\"p1505\",\"attributes\":{\"name\":\"opportunity\",\"data_source\":{\"type\":\"object\",\"name\":\"ColumnDataSource\",\"id\":\"p1496\",\"attributes\":{\"selected\":{\"type\":\"object\",\"name\":\"Selection\",\"id\":\"p1497\",\"attributes\":{\"indices\":[],\"line_indices\":[]}},\"selection_policy\":{\"type\":\"object\",\"name\":\"UnionRenderers\",\"id\":\"p1498\"},\"data\":{\"type\":\"map\",\"entries\":[[\"n_kernels\",{\"type\":\"ndarray\",\"array\":{\"type\":\"bytes\",\"data\":\"FwAAAA==\"},\"shape\":[1],\"dtype\":\"int32\",\"order\":\"little\"}],[\"processing_time\",{\"type\":\"ndarray\",\"array\":{\"type\":\"bytes\",\"data\":\"AAAAgD6d7z8=\"},\"shape\":[1],\"dtype\":\"float64\",\"order\":\"little\"}],[\"mission\",[\"opportunity\"]]]}}},\"view\":{\"type\":\"object\",\"name\":\"CDSView\",\"id\":\"p1506\",\"attributes\":{\"filter\":{\"type\":\"object\",\"name\":\"AllIndices\",\"id\":\"p1507\"}}},\"glyph\":{\"type\":\"object\",\"name\":\"Scatter\",\"id\":\"p1502\",\"attributes\":{\"tags\":[\"apply_ranges\"],\"x\":{\"type\":\"field\",\"field\":\"n_kernels\"},\"y\":{\"type\":\"field\",\"field\":\"processing_time\"},\"size\":{\"type\":\"value\",\"value\":5.477225575051661},\"line_color\":{\"type\":\"value\",\"value\":\"#fc4f30\"},\"fill_color\":{\"type\":\"value\",\"value\":\"#fc4f30\"},\"hatch_color\":{\"type\":\"value\",\"value\":\"#fc4f30\"}}},\"selection_glyph\":{\"type\":\"object\",\"name\":\"Scatter\",\"id\":\"p1509\",\"attributes\":{\"tags\":[\"apply_ranges\"],\"x\":{\"type\":\"field\",\"field\":\"n_kernels\"},\"y\":{\"type\":\"field\",\"field\":\"processing_time\"},\"size\":{\"type\":\"value\",\"value\":5.477225575051661},\"angle\":{\"type\":\"value\",\"value\":0.0},\"line_color\":{\"type\":\"value\",\"value\":\"#fc4f30\"},\"line_alpha\":{\"type\":\"value\",\"value\":1.0},\"line_width\":{\"type\":\"value\",\"value\":1},\"line_join\":{\"type\":\"value\",\"value\":\"bevel\"},\"line_cap\":{\"type\":\"value\",\"value\":\"butt\"},\"line_dash\":{\"type\":\"value\",\"value\":[]},\"line_dash_offset\":{\"type\":\"value\",\"value\":0},\"fill_color\":{\"type\":\"value\",\"value\":\"#fc4f30\"},\"fill_alpha\":{\"type\":\"value\",\"value\":1.0},\"hatch_color\":{\"type\":\"value\",\"value\":\"#fc4f30\"},\"hatch_alpha\":{\"type\":\"value\",\"value\":1.0},\"hatch_scale\":{\"type\":\"value\",\"value\":12.0},\"hatch_pattern\":{\"type\":\"value\",\"value\":null},\"hatch_weight\":{\"type\":\"value\",\"value\":1.0},\"marker\":{\"type\":\"value\",\"value\":\"circle\"}}},\"nonselection_glyph\":{\"type\":\"object\",\"name\":\"Scatter\",\"id\":\"p1503\",\"attributes\":{\"tags\":[\"apply_ranges\"],\"x\":{\"type\":\"field\",\"field\":\"n_kernels\"},\"y\":{\"type\":\"field\",\"field\":\"processing_time\"},\"size\":{\"type\":\"value\",\"value\":5.477225575051661},\"line_color\":{\"type\":\"value\",\"value\":\"#fc4f30\"},\"line_alpha\":{\"type\":\"value\",\"value\":0.1},\"fill_color\":{\"type\":\"value\",\"value\":\"#fc4f30\"},\"fill_alpha\":{\"type\":\"value\",\"value\":0.1},\"hatch_color\":{\"type\":\"value\",\"value\":\"#fc4f30\"},\"hatch_alpha\":{\"type\":\"value\",\"value\":0.1}}},\"muted_glyph\":{\"type\":\"object\",\"name\":\"Scatter\",\"id\":\"p1504\",\"attributes\":{\"tags\":[\"apply_ranges\"],\"x\":{\"type\":\"field\",\"field\":\"n_kernels\"},\"y\":{\"type\":\"field\",\"field\":\"processing_time\"},\"size\":{\"type\":\"value\",\"value\":5.477225575051661},\"line_color\":{\"type\":\"value\",\"value\":\"#fc4f30\"},\"line_alpha\":{\"type\":\"value\",\"value\":0.2},\"fill_color\":{\"type\":\"value\",\"value\":\"#fc4f30\"},\"fill_alpha\":{\"type\":\"value\",\"value\":0.2},\"hatch_color\":{\"type\":\"value\",\"value\":\"#fc4f30\"},\"hatch_alpha\":{\"type\":\"value\",\"value\":0.2}}}}},{\"type\":\"object\",\"name\":\"GlyphRenderer\",\"id\":\"p1519\",\"attributes\":{\"name\":\"orex\",\"data_source\":{\"type\":\"object\",\"name\":\"ColumnDataSource\",\"id\":\"p1510\",\"attributes\":{\"selected\":{\"type\":\"object\",\"name\":\"Selection\",\"id\":\"p1511\",\"attributes\":{\"indices\":[],\"line_indices\":[]}},\"selection_policy\":{\"type\":\"object\",\"name\":\"UnionRenderers\",\"id\":\"p1512\"},\"data\":{\"type\":\"map\",\"entries\":[[\"n_kernels\",{\"type\":\"ndarray\",\"array\":{\"type\":\"bytes\",\"data\":\"IgAAAA==\"},\"shape\":[1],\"dtype\":\"int32\",\"order\":\"little\"}],[\"processing_time\",{\"type\":\"ndarray\",\"array\":{\"type\":\"bytes\",\"data\":\"AAAAQHhrGEA=\"},\"shape\":[1],\"dtype\":\"float64\",\"order\":\"little\"}],[\"mission\",[\"orex\"]]]}}},\"view\":{\"type\":\"object\",\"name\":\"CDSView\",\"id\":\"p1520\",\"attributes\":{\"filter\":{\"type\":\"object\",\"name\":\"AllIndices\",\"id\":\"p1521\"}}},\"glyph\":{\"type\":\"object\",\"name\":\"Scatter\",\"id\":\"p1516\",\"attributes\":{\"tags\":[\"apply_ranges\"],\"x\":{\"type\":\"field\",\"field\":\"n_kernels\"},\"y\":{\"type\":\"field\",\"field\":\"processing_time\"},\"size\":{\"type\":\"value\",\"value\":5.477225575051661},\"line_color\":{\"type\":\"value\",\"value\":\"#e5ae38\"},\"fill_color\":{\"type\":\"value\",\"value\":\"#e5ae38\"},\"hatch_color\":{\"type\":\"value\",\"value\":\"#e5ae38\"}}},\"selection_glyph\":{\"type\":\"object\",\"name\":\"Scatter\",\"id\":\"p1523\",\"attributes\":{\"tags\":[\"apply_ranges\"],\"x\":{\"type\":\"field\",\"field\":\"n_kernels\"},\"y\":{\"type\":\"field\",\"field\":\"processing_time\"},\"size\":{\"type\":\"value\",\"value\":5.477225575051661},\"angle\":{\"type\":\"value\",\"value\":0.0},\"line_color\":{\"type\":\"value\",\"value\":\"#e5ae38\"},\"line_alpha\":{\"type\":\"value\",\"value\":1.0},\"line_width\":{\"type\":\"value\",\"value\":1},\"line_join\":{\"type\":\"value\",\"value\":\"bevel\"},\"line_cap\":{\"type\":\"value\",\"value\":\"butt\"},\"line_dash\":{\"type\":\"value\",\"value\":[]},\"line_dash_offset\":{\"type\":\"value\",\"value\":0},\"fill_color\":{\"type\":\"value\",\"value\":\"#e5ae38\"},\"fill_alpha\":{\"type\":\"value\",\"value\":1.0},\"hatch_color\":{\"type\":\"value\",\"value\":\"#e5ae38\"},\"hatch_alpha\":{\"type\":\"value\",\"value\":1.0},\"hatch_scale\":{\"type\":\"value\",\"value\":12.0},\"hatch_pattern\":{\"type\":\"value\",\"value\":null},\"hatch_weight\":{\"type\":\"value\",\"value\":1.0},\"marker\":{\"type\":\"value\",\"value\":\"circle\"}}},\"nonselection_glyph\":{\"type\":\"object\",\"name\":\"Scatter\",\"id\":\"p1517\",\"attributes\":{\"tags\":[\"apply_ranges\"],\"x\":{\"type\":\"field\",\"field\":\"n_kernels\"},\"y\":{\"type\":\"field\",\"field\":\"processing_time\"},\"size\":{\"type\":\"value\",\"value\":5.477225575051661},\"line_color\":{\"type\":\"value\",\"value\":\"#e5ae38\"},\"line_alpha\":{\"type\":\"value\",\"value\":0.1},\"fill_color\":{\"type\":\"value\",\"value\":\"#e5ae38\"},\"fill_alpha\":{\"type\":\"value\",\"value\":0.1},\"hatch_color\":{\"type\":\"value\",\"value\":\"#e5ae38\"},\"hatch_alpha\":{\"type\":\"value\",\"value\":0.1}}},\"muted_glyph\":{\"type\":\"object\",\"name\":\"Scatter\",\"id\":\"p1518\",\"attributes\":{\"tags\":[\"apply_ranges\"],\"x\":{\"type\":\"field\",\"field\":\"n_kernels\"},\"y\":{\"type\":\"field\",\"field\":\"processing_time\"},\"size\":{\"type\":\"value\",\"value\":5.477225575051661},\"line_color\":{\"type\":\"value\",\"value\":\"#e5ae38\"},\"line_alpha\":{\"type\":\"value\",\"value\":0.2},\"fill_color\":{\"type\":\"value\",\"value\":\"#e5ae38\"},\"fill_alpha\":{\"type\":\"value\",\"value\":0.2},\"hatch_color\":{\"type\":\"value\",\"value\":\"#e5ae38\"},\"hatch_alpha\":{\"type\":\"value\",\"value\":0.2}}}}},{\"type\":\"object\",\"name\":\"GlyphRenderer\",\"id\":\"p1533\",\"attributes\":{\"name\":\"rosetta\",\"data_source\":{\"type\":\"object\",\"name\":\"ColumnDataSource\",\"id\":\"p1524\",\"attributes\":{\"selected\":{\"type\":\"object\",\"name\":\"Selection\",\"id\":\"p1525\",\"attributes\":{\"indices\":[],\"line_indices\":[]}},\"selection_policy\":{\"type\":\"object\",\"name\":\"UnionRenderers\",\"id\":\"p1526\"},\"data\":{\"type\":\"map\",\"entries\":[[\"n_kernels\",{\"type\":\"ndarray\",\"array\":{\"type\":\"bytes\",\"data\":\"OAAAAA==\"},\"shape\":[1],\"dtype\":\"int32\",\"order\":\"little\"}],[\"processing_time\",{\"type\":\"ndarray\",\"array\":{\"type\":\"bytes\",\"data\":\"AAAAgPcb7T8=\"},\"shape\":[1],\"dtype\":\"float64\",\"order\":\"little\"}],[\"mission\",[\"rosetta\"]]]}}},\"view\":{\"type\":\"object\",\"name\":\"CDSView\",\"id\":\"p1534\",\"attributes\":{\"filter\":{\"type\":\"object\",\"name\":\"AllIndices\",\"id\":\"p1535\"}}},\"glyph\":{\"type\":\"object\",\"name\":\"Scatter\",\"id\":\"p1530\",\"attributes\":{\"tags\":[\"apply_ranges\"],\"x\":{\"type\":\"field\",\"field\":\"n_kernels\"},\"y\":{\"type\":\"field\",\"field\":\"processing_time\"},\"size\":{\"type\":\"value\",\"value\":5.477225575051661},\"line_color\":{\"type\":\"value\",\"value\":\"#6d904f\"},\"fill_color\":{\"type\":\"value\",\"value\":\"#6d904f\"},\"hatch_color\":{\"type\":\"value\",\"value\":\"#6d904f\"}}},\"selection_glyph\":{\"type\":\"object\",\"name\":\"Scatter\",\"id\":\"p1537\",\"attributes\":{\"tags\":[\"apply_ranges\"],\"x\":{\"type\":\"field\",\"field\":\"n_kernels\"},\"y\":{\"type\":\"field\",\"field\":\"processing_time\"},\"size\":{\"type\":\"value\",\"value\":5.477225575051661},\"angle\":{\"type\":\"value\",\"value\":0.0},\"line_color\":{\"type\":\"value\",\"value\":\"#6d904f\"},\"line_alpha\":{\"type\":\"value\",\"value\":1.0},\"line_width\":{\"type\":\"value\",\"value\":1},\"line_join\":{\"type\":\"value\",\"value\":\"bevel\"},\"line_cap\":{\"type\":\"value\",\"value\":\"butt\"},\"line_dash\":{\"type\":\"value\",\"value\":[]},\"line_dash_offset\":{\"type\":\"value\",\"value\":0},\"fill_color\":{\"type\":\"value\",\"value\":\"#6d904f\"},\"fill_alpha\":{\"type\":\"value\",\"value\":1.0},\"hatch_color\":{\"type\":\"value\",\"value\":\"#6d904f\"},\"hatch_alpha\":{\"type\":\"value\",\"value\":1.0},\"hatch_scale\":{\"type\":\"value\",\"value\":12.0},\"hatch_pattern\":{\"type\":\"value\",\"value\":null},\"hatch_weight\":{\"type\":\"value\",\"value\":1.0},\"marker\":{\"type\":\"value\",\"value\":\"circle\"}}},\"nonselection_glyph\":{\"type\":\"object\",\"name\":\"Scatter\",\"id\":\"p1531\",\"attributes\":{\"tags\":[\"apply_ranges\"],\"x\":{\"type\":\"field\",\"field\":\"n_kernels\"},\"y\":{\"type\":\"field\",\"field\":\"processing_time\"},\"size\":{\"type\":\"value\",\"value\":5.477225575051661},\"line_color\":{\"type\":\"value\",\"value\":\"#6d904f\"},\"line_alpha\":{\"type\":\"value\",\"value\":0.1},\"fill_color\":{\"type\":\"value\",\"value\":\"#6d904f\"},\"fill_alpha\":{\"type\":\"value\",\"value\":0.1},\"hatch_color\":{\"type\":\"value\",\"value\":\"#6d904f\"},\"hatch_alpha\":{\"type\":\"value\",\"value\":0.1}}},\"muted_glyph\":{\"type\":\"object\",\"name\":\"Scatter\",\"id\":\"p1532\",\"attributes\":{\"tags\":[\"apply_ranges\"],\"x\":{\"type\":\"field\",\"field\":\"n_kernels\"},\"y\":{\"type\":\"field\",\"field\":\"processing_time\"},\"size\":{\"type\":\"value\",\"value\":5.477225575051661},\"line_color\":{\"type\":\"value\",\"value\":\"#6d904f\"},\"line_alpha\":{\"type\":\"value\",\"value\":0.2},\"fill_color\":{\"type\":\"value\",\"value\":\"#6d904f\"},\"fill_alpha\":{\"type\":\"value\",\"value\":0.2},\"hatch_color\":{\"type\":\"value\",\"value\":\"#6d904f\"},\"hatch_alpha\":{\"type\":\"value\",\"value\":0.2}}}}},{\"type\":\"object\",\"name\":\"GlyphRenderer\",\"id\":\"p1547\",\"attributes\":{\"name\":\"spirit\",\"data_source\":{\"type\":\"object\",\"name\":\"ColumnDataSource\",\"id\":\"p1538\",\"attributes\":{\"selected\":{\"type\":\"object\",\"name\":\"Selection\",\"id\":\"p1539\",\"attributes\":{\"indices\":[],\"line_indices\":[]}},\"selection_policy\":{\"type\":\"object\",\"name\":\"UnionRenderers\",\"id\":\"p1540\"},\"data\":{\"type\":\"map\",\"entries\":[[\"n_kernels\",{\"type\":\"ndarray\",\"array\":{\"type\":\"bytes\",\"data\":\"GAAAAA==\"},\"shape\":[1],\"dtype\":\"int32\",\"order\":\"little\"}],[\"processing_time\",{\"type\":\"ndarray\",\"array\":{\"type\":\"bytes\",\"data\":\"AAAAgBPV7T8=\"},\"shape\":[1],\"dtype\":\"float64\",\"order\":\"little\"}],[\"mission\",[\"spirit\"]]]}}},\"view\":{\"type\":\"object\",\"name\":\"CDSView\",\"id\":\"p1548\",\"attributes\":{\"filter\":{\"type\":\"object\",\"name\":\"AllIndices\",\"id\":\"p1549\"}}},\"glyph\":{\"type\":\"object\",\"name\":\"Scatter\",\"id\":\"p1544\",\"attributes\":{\"tags\":[\"apply_ranges\"],\"x\":{\"type\":\"field\",\"field\":\"n_kernels\"},\"y\":{\"type\":\"field\",\"field\":\"processing_time\"},\"size\":{\"type\":\"value\",\"value\":5.477225575051661},\"line_color\":{\"type\":\"value\",\"value\":\"#8b8b8b\"},\"fill_color\":{\"type\":\"value\",\"value\":\"#8b8b8b\"},\"hatch_color\":{\"type\":\"value\",\"value\":\"#8b8b8b\"}}},\"selection_glyph\":{\"type\":\"object\",\"name\":\"Scatter\",\"id\":\"p1551\",\"attributes\":{\"tags\":[\"apply_ranges\"],\"x\":{\"type\":\"field\",\"field\":\"n_kernels\"},\"y\":{\"type\":\"field\",\"field\":\"processing_time\"},\"size\":{\"type\":\"value\",\"value\":5.477225575051661},\"angle\":{\"type\":\"value\",\"value\":0.0},\"line_color\":{\"type\":\"value\",\"value\":\"#8b8b8b\"},\"line_alpha\":{\"type\":\"value\",\"value\":1.0},\"line_width\":{\"type\":\"value\",\"value\":1},\"line_join\":{\"type\":\"value\",\"value\":\"bevel\"},\"line_cap\":{\"type\":\"value\",\"value\":\"butt\"},\"line_dash\":{\"type\":\"value\",\"value\":[]},\"line_dash_offset\":{\"type\":\"value\",\"value\":0},\"fill_color\":{\"type\":\"value\",\"value\":\"#8b8b8b\"},\"fill_alpha\":{\"type\":\"value\",\"value\":1.0},\"hatch_color\":{\"type\":\"value\",\"value\":\"#8b8b8b\"},\"hatch_alpha\":{\"type\":\"value\",\"value\":1.0},\"hatch_scale\":{\"type\":\"value\",\"value\":12.0},\"hatch_pattern\":{\"type\":\"value\",\"value\":null},\"hatch_weight\":{\"type\":\"value\",\"value\":1.0},\"marker\":{\"type\":\"value\",\"value\":\"circle\"}}},\"nonselection_glyph\":{\"type\":\"object\",\"name\":\"Scatter\",\"id\":\"p1545\",\"attributes\":{\"tags\":[\"apply_ranges\"],\"x\":{\"type\":\"field\",\"field\":\"n_kernels\"},\"y\":{\"type\":\"field\",\"field\":\"processing_time\"},\"size\":{\"type\":\"value\",\"value\":5.477225575051661},\"line_color\":{\"type\":\"value\",\"value\":\"#8b8b8b\"},\"line_alpha\":{\"type\":\"value\",\"value\":0.1},\"fill_color\":{\"type\":\"value\",\"value\":\"#8b8b8b\"},\"fill_alpha\":{\"type\":\"value\",\"value\":0.1},\"hatch_color\":{\"type\":\"value\",\"value\":\"#8b8b8b\"},\"hatch_alpha\":{\"type\":\"value\",\"value\":0.1}}},\"muted_glyph\":{\"type\":\"object\",\"name\":\"Scatter\",\"id\":\"p1546\",\"attributes\":{\"tags\":[\"apply_ranges\"],\"x\":{\"type\":\"field\",\"field\":\"n_kernels\"},\"y\":{\"type\":\"field\",\"field\":\"processing_time\"},\"size\":{\"type\":\"value\",\"value\":5.477225575051661},\"line_color\":{\"type\":\"value\",\"value\":\"#8b8b8b\"},\"line_alpha\":{\"type\":\"value\",\"value\":0.2},\"fill_color\":{\"type\":\"value\",\"value\":\"#8b8b8b\"},\"fill_alpha\":{\"type\":\"value\",\"value\":0.2},\"hatch_color\":{\"type\":\"value\",\"value\":\"#8b8b8b\"},\"hatch_alpha\":{\"type\":\"value\",\"value\":0.2}}}}},{\"type\":\"object\",\"name\":\"GlyphRenderer\",\"id\":\"p1561\",\"attributes\":{\"name\":\"stardust\",\"data_source\":{\"type\":\"object\",\"name\":\"ColumnDataSource\",\"id\":\"p1552\",\"attributes\":{\"selected\":{\"type\":\"object\",\"name\":\"Selection\",\"id\":\"p1553\",\"attributes\":{\"indices\":[],\"line_indices\":[]}},\"selection_policy\":{\"type\":\"object\",\"name\":\"UnionRenderers\",\"id\":\"p1554\"},\"data\":{\"type\":\"map\",\"entries\":[[\"n_kernels\",{\"type\":\"ndarray\",\"array\":{\"type\":\"bytes\",\"data\":\"DQAAAA==\"},\"shape\":[1],\"dtype\":\"int32\",\"order\":\"little\"}],[\"processing_time\",{\"type\":\"ndarray\",\"array\":{\"type\":\"bytes\",\"data\":\"AAAAANio7D8=\"},\"shape\":[1],\"dtype\":\"float64\",\"order\":\"little\"}],[\"mission\",[\"stardust\"]]]}}},\"view\":{\"type\":\"object\",\"name\":\"CDSView\",\"id\":\"p1562\",\"attributes\":{\"filter\":{\"type\":\"object\",\"name\":\"AllIndices\",\"id\":\"p1563\"}}},\"glyph\":{\"type\":\"object\",\"name\":\"Scatter\",\"id\":\"p1558\",\"attributes\":{\"tags\":[\"apply_ranges\"],\"x\":{\"type\":\"field\",\"field\":\"n_kernels\"},\"y\":{\"type\":\"field\",\"field\":\"processing_time\"},\"size\":{\"type\":\"value\",\"value\":5.477225575051661},\"line_color\":{\"type\":\"value\",\"value\":\"#17becf\"},\"fill_color\":{\"type\":\"value\",\"value\":\"#17becf\"},\"hatch_color\":{\"type\":\"value\",\"value\":\"#17becf\"}}},\"selection_glyph\":{\"type\":\"object\",\"name\":\"Scatter\",\"id\":\"p1565\",\"attributes\":{\"tags\":[\"apply_ranges\"],\"x\":{\"type\":\"field\",\"field\":\"n_kernels\"},\"y\":{\"type\":\"field\",\"field\":\"processing_time\"},\"size\":{\"type\":\"value\",\"value\":5.477225575051661},\"angle\":{\"type\":\"value\",\"value\":0.0},\"line_color\":{\"type\":\"value\",\"value\":\"#17becf\"},\"line_alpha\":{\"type\":\"value\",\"value\":1.0},\"line_width\":{\"type\":\"value\",\"value\":1},\"line_join\":{\"type\":\"value\",\"value\":\"bevel\"},\"line_cap\":{\"type\":\"value\",\"value\":\"butt\"},\"line_dash\":{\"type\":\"value\",\"value\":[]},\"line_dash_offset\":{\"type\":\"value\",\"value\":0},\"fill_color\":{\"type\":\"value\",\"value\":\"#17becf\"},\"fill_alpha\":{\"type\":\"value\",\"value\":1.0},\"hatch_color\":{\"type\":\"value\",\"value\":\"#17becf\"},\"hatch_alpha\":{\"type\":\"value\",\"value\":1.0},\"hatch_scale\":{\"type\":\"value\",\"value\":12.0},\"hatch_pattern\":{\"type\":\"value\",\"value\":null},\"hatch_weight\":{\"type\":\"value\",\"value\":1.0},\"marker\":{\"type\":\"value\",\"value\":\"circle\"}}},\"nonselection_glyph\":{\"type\":\"object\",\"name\":\"Scatter\",\"id\":\"p1559\",\"attributes\":{\"tags\":[\"apply_ranges\"],\"x\":{\"type\":\"field\",\"field\":\"n_kernels\"},\"y\":{\"type\":\"field\",\"field\":\"processing_time\"},\"size\":{\"type\":\"value\",\"value\":5.477225575051661},\"line_color\":{\"type\":\"value\",\"value\":\"#17becf\"},\"line_alpha\":{\"type\":\"value\",\"value\":0.1},\"fill_color\":{\"type\":\"value\",\"value\":\"#17becf\"},\"fill_alpha\":{\"type\":\"value\",\"value\":0.1},\"hatch_color\":{\"type\":\"value\",\"value\":\"#17becf\"},\"hatch_alpha\":{\"type\":\"value\",\"value\":0.1}}},\"muted_glyph\":{\"type\":\"object\",\"name\":\"Scatter\",\"id\":\"p1560\",\"attributes\":{\"tags\":[\"apply_ranges\"],\"x\":{\"type\":\"field\",\"field\":\"n_kernels\"},\"y\":{\"type\":\"field\",\"field\":\"processing_time\"},\"size\":{\"type\":\"value\",\"value\":5.477225575051661},\"line_color\":{\"type\":\"value\",\"value\":\"#17becf\"},\"line_alpha\":{\"type\":\"value\",\"value\":0.2},\"fill_color\":{\"type\":\"value\",\"value\":\"#17becf\"},\"fill_alpha\":{\"type\":\"value\",\"value\":0.2},\"hatch_color\":{\"type\":\"value\",\"value\":\"#17becf\"},\"hatch_alpha\":{\"type\":\"value\",\"value\":0.2}}}}},{\"type\":\"object\",\"name\":\"GlyphRenderer\",\"id\":\"p1575\",\"attributes\":{\"name\":\"venus_climate_orbiter\",\"data_source\":{\"type\":\"object\",\"name\":\"ColumnDataSource\",\"id\":\"p1566\",\"attributes\":{\"selected\":{\"type\":\"object\",\"name\":\"Selection\",\"id\":\"p1567\",\"attributes\":{\"indices\":[],\"line_indices\":[]}},\"selection_policy\":{\"type\":\"object\",\"name\":\"UnionRenderers\",\"id\":\"p1568\"},\"data\":{\"type\":\"map\",\"entries\":[[\"n_kernels\",{\"type\":\"ndarray\",\"array\":{\"type\":\"bytes\",\"data\":\"EgAAAA==\"},\"shape\":[1],\"dtype\":\"int32\",\"order\":\"little\"}],[\"processing_time\",{\"type\":\"ndarray\",\"array\":{\"type\":\"bytes\",\"data\":\"AAAAAO7B+D8=\"},\"shape\":[1],\"dtype\":\"float64\",\"order\":\"little\"}],[\"mission\",[\"venus_climate_orbiter\"]]]}}},\"view\":{\"type\":\"object\",\"name\":\"CDSView\",\"id\":\"p1576\",\"attributes\":{\"filter\":{\"type\":\"object\",\"name\":\"AllIndices\",\"id\":\"p1577\"}}},\"glyph\":{\"type\":\"object\",\"name\":\"Scatter\",\"id\":\"p1572\",\"attributes\":{\"tags\":[\"apply_ranges\"],\"x\":{\"type\":\"field\",\"field\":\"n_kernels\"},\"y\":{\"type\":\"field\",\"field\":\"processing_time\"},\"size\":{\"type\":\"value\",\"value\":5.477225575051661},\"line_color\":{\"type\":\"value\",\"value\":\"#9467bd\"},\"fill_color\":{\"type\":\"value\",\"value\":\"#9467bd\"},\"hatch_color\":{\"type\":\"value\",\"value\":\"#9467bd\"}}},\"selection_glyph\":{\"type\":\"object\",\"name\":\"Scatter\",\"id\":\"p1579\",\"attributes\":{\"tags\":[\"apply_ranges\"],\"x\":{\"type\":\"field\",\"field\":\"n_kernels\"},\"y\":{\"type\":\"field\",\"field\":\"processing_time\"},\"size\":{\"type\":\"value\",\"value\":5.477225575051661},\"angle\":{\"type\":\"value\",\"value\":0.0},\"line_color\":{\"type\":\"value\",\"value\":\"#9467bd\"},\"line_alpha\":{\"type\":\"value\",\"value\":1.0},\"line_width\":{\"type\":\"value\",\"value\":1},\"line_join\":{\"type\":\"value\",\"value\":\"bevel\"},\"line_cap\":{\"type\":\"value\",\"value\":\"butt\"},\"line_dash\":{\"type\":\"value\",\"value\":[]},\"line_dash_offset\":{\"type\":\"value\",\"value\":0},\"fill_color\":{\"type\":\"value\",\"value\":\"#9467bd\"},\"fill_alpha\":{\"type\":\"value\",\"value\":1.0},\"hatch_color\":{\"type\":\"value\",\"value\":\"#9467bd\"},\"hatch_alpha\":{\"type\":\"value\",\"value\":1.0},\"hatch_scale\":{\"type\":\"value\",\"value\":12.0},\"hatch_pattern\":{\"type\":\"value\",\"value\":null},\"hatch_weight\":{\"type\":\"value\",\"value\":1.0},\"marker\":{\"type\":\"value\",\"value\":\"circle\"}}},\"nonselection_glyph\":{\"type\":\"object\",\"name\":\"Scatter\",\"id\":\"p1573\",\"attributes\":{\"tags\":[\"apply_ranges\"],\"x\":{\"type\":\"field\",\"field\":\"n_kernels\"},\"y\":{\"type\":\"field\",\"field\":\"processing_time\"},\"size\":{\"type\":\"value\",\"value\":5.477225575051661},\"line_color\":{\"type\":\"value\",\"value\":\"#9467bd\"},\"line_alpha\":{\"type\":\"value\",\"value\":0.1},\"fill_color\":{\"type\":\"value\",\"value\":\"#9467bd\"},\"fill_alpha\":{\"type\":\"value\",\"value\":0.1},\"hatch_color\":{\"type\":\"value\",\"value\":\"#9467bd\"},\"hatch_alpha\":{\"type\":\"value\",\"value\":0.1}}},\"muted_glyph\":{\"type\":\"object\",\"name\":\"Scatter\",\"id\":\"p1574\",\"attributes\":{\"tags\":[\"apply_ranges\"],\"x\":{\"type\":\"field\",\"field\":\"n_kernels\"},\"y\":{\"type\":\"field\",\"field\":\"processing_time\"},\"size\":{\"type\":\"value\",\"value\":5.477225575051661},\"line_color\":{\"type\":\"value\",\"value\":\"#9467bd\"},\"line_alpha\":{\"type\":\"value\",\"value\":0.2},\"fill_color\":{\"type\":\"value\",\"value\":\"#9467bd\"},\"fill_alpha\":{\"type\":\"value\",\"value\":0.2},\"hatch_color\":{\"type\":\"value\",\"value\":\"#9467bd\"},\"hatch_alpha\":{\"type\":\"value\",\"value\":0.2}}}}},{\"type\":\"object\",\"name\":\"GlyphRenderer\",\"id\":\"p1589\",\"attributes\":{\"name\":\"vex\",\"data_source\":{\"type\":\"object\",\"name\":\"ColumnDataSource\",\"id\":\"p1580\",\"attributes\":{\"selected\":{\"type\":\"object\",\"name\":\"Selection\",\"id\":\"p1581\",\"attributes\":{\"indices\":[],\"line_indices\":[]}},\"selection_policy\":{\"type\":\"object\",\"name\":\"UnionRenderers\",\"id\":\"p1582\"},\"data\":{\"type\":\"map\",\"entries\":[[\"n_kernels\",{\"type\":\"ndarray\",\"array\":{\"type\":\"bytes\",\"data\":\"GwAAAA==\"},\"shape\":[1],\"dtype\":\"int32\",\"order\":\"little\"}],[\"processing_time\",{\"type\":\"ndarray\",\"array\":{\"type\":\"bytes\",\"data\":\"AAAAgApe6j8=\"},\"shape\":[1],\"dtype\":\"float64\",\"order\":\"little\"}],[\"mission\",[\"vex\"]]]}}},\"view\":{\"type\":\"object\",\"name\":\"CDSView\",\"id\":\"p1590\",\"attributes\":{\"filter\":{\"type\":\"object\",\"name\":\"AllIndices\",\"id\":\"p1591\"}}},\"glyph\":{\"type\":\"object\",\"name\":\"Scatter\",\"id\":\"p1586\",\"attributes\":{\"tags\":[\"apply_ranges\"],\"x\":{\"type\":\"field\",\"field\":\"n_kernels\"},\"y\":{\"type\":\"field\",\"field\":\"processing_time\"},\"size\":{\"type\":\"value\",\"value\":5.477225575051661},\"line_color\":{\"type\":\"value\",\"value\":\"#d62728\"},\"fill_color\":{\"type\":\"value\",\"value\":\"#d62728\"},\"hatch_color\":{\"type\":\"value\",\"value\":\"#d62728\"}}},\"selection_glyph\":{\"type\":\"object\",\"name\":\"Scatter\",\"id\":\"p1593\",\"attributes\":{\"tags\":[\"apply_ranges\"],\"x\":{\"type\":\"field\",\"field\":\"n_kernels\"},\"y\":{\"type\":\"field\",\"field\":\"processing_time\"},\"size\":{\"type\":\"value\",\"value\":5.477225575051661},\"angle\":{\"type\":\"value\",\"value\":0.0},\"line_color\":{\"type\":\"value\",\"value\":\"#d62728\"},\"line_alpha\":{\"type\":\"value\",\"value\":1.0},\"line_width\":{\"type\":\"value\",\"value\":1},\"line_join\":{\"type\":\"value\",\"value\":\"bevel\"},\"line_cap\":{\"type\":\"value\",\"value\":\"butt\"},\"line_dash\":{\"type\":\"value\",\"value\":[]},\"line_dash_offset\":{\"type\":\"value\",\"value\":0},\"fill_color\":{\"type\":\"value\",\"value\":\"#d62728\"},\"fill_alpha\":{\"type\":\"value\",\"value\":1.0},\"hatch_color\":{\"type\":\"value\",\"value\":\"#d62728\"},\"hatch_alpha\":{\"type\":\"value\",\"value\":1.0},\"hatch_scale\":{\"type\":\"value\",\"value\":12.0},\"hatch_pattern\":{\"type\":\"value\",\"value\":null},\"hatch_weight\":{\"type\":\"value\",\"value\":1.0},\"marker\":{\"type\":\"value\",\"value\":\"circle\"}}},\"nonselection_glyph\":{\"type\":\"object\",\"name\":\"Scatter\",\"id\":\"p1587\",\"attributes\":{\"tags\":[\"apply_ranges\"],\"x\":{\"type\":\"field\",\"field\":\"n_kernels\"},\"y\":{\"type\":\"field\",\"field\":\"processing_time\"},\"size\":{\"type\":\"value\",\"value\":5.477225575051661},\"line_color\":{\"type\":\"value\",\"value\":\"#d62728\"},\"line_alpha\":{\"type\":\"value\",\"value\":0.1},\"fill_color\":{\"type\":\"value\",\"value\":\"#d62728\"},\"fill_alpha\":{\"type\":\"value\",\"value\":0.1},\"hatch_color\":{\"type\":\"value\",\"value\":\"#d62728\"},\"hatch_alpha\":{\"type\":\"value\",\"value\":0.1}}},\"muted_glyph\":{\"type\":\"object\",\"name\":\"Scatter\",\"id\":\"p1588\",\"attributes\":{\"tags\":[\"apply_ranges\"],\"x\":{\"type\":\"field\",\"field\":\"n_kernels\"},\"y\":{\"type\":\"field\",\"field\":\"processing_time\"},\"size\":{\"type\":\"value\",\"value\":5.477225575051661},\"line_color\":{\"type\":\"value\",\"value\":\"#d62728\"},\"line_alpha\":{\"type\":\"value\",\"value\":0.2},\"fill_color\":{\"type\":\"value\",\"value\":\"#d62728\"},\"fill_alpha\":{\"type\":\"value\",\"value\":0.2},\"hatch_color\":{\"type\":\"value\",\"value\":\"#d62728\"},\"hatch_alpha\":{\"type\":\"value\",\"value\":0.2}}}}},{\"type\":\"object\",\"name\":\"GlyphRenderer\",\"id\":\"p1603\",\"attributes\":{\"name\":\"vo\",\"data_source\":{\"type\":\"object\",\"name\":\"ColumnDataSource\",\"id\":\"p1594\",\"attributes\":{\"selected\":{\"type\":\"object\",\"name\":\"Selection\",\"id\":\"p1595\",\"attributes\":{\"indices\":[],\"line_indices\":[]}},\"selection_policy\":{\"type\":\"object\",\"name\":\"UnionRenderers\",\"id\":\"p1596\"},\"data\":{\"type\":\"map\",\"entries\":[[\"n_kernels\",{\"type\":\"ndarray\",\"array\":{\"type\":\"bytes\",\"data\":\"EQAAAA==\"},\"shape\":[1],\"dtype\":\"int32\",\"order\":\"little\"}],[\"processing_time\",{\"type\":\"ndarray\",\"array\":{\"type\":\"bytes\",\"data\":\"AAAAAA756T8=\"},\"shape\":[1],\"dtype\":\"float64\",\"order\":\"little\"}],[\"mission\",[\"vo\"]]]}}},\"view\":{\"type\":\"object\",\"name\":\"CDSView\",\"id\":\"p1604\",\"attributes\":{\"filter\":{\"type\":\"object\",\"name\":\"AllIndices\",\"id\":\"p1605\"}}},\"glyph\":{\"type\":\"object\",\"name\":\"Scatter\",\"id\":\"p1600\",\"attributes\":{\"tags\":[\"apply_ranges\"],\"x\":{\"type\":\"field\",\"field\":\"n_kernels\"},\"y\":{\"type\":\"field\",\"field\":\"processing_time\"},\"size\":{\"type\":\"value\",\"value\":5.477225575051661},\"line_color\":{\"type\":\"value\",\"value\":\"#1f77b4\"},\"fill_color\":{\"type\":\"value\",\"value\":\"#1f77b4\"},\"hatch_color\":{\"type\":\"value\",\"value\":\"#1f77b4\"}}},\"selection_glyph\":{\"type\":\"object\",\"name\":\"Scatter\",\"id\":\"p1607\",\"attributes\":{\"tags\":[\"apply_ranges\"],\"x\":{\"type\":\"field\",\"field\":\"n_kernels\"},\"y\":{\"type\":\"field\",\"field\":\"processing_time\"},\"size\":{\"type\":\"value\",\"value\":5.477225575051661},\"angle\":{\"type\":\"value\",\"value\":0.0},\"line_color\":{\"type\":\"value\",\"value\":\"#1f77b4\"},\"line_alpha\":{\"type\":\"value\",\"value\":1.0},\"line_width\":{\"type\":\"value\",\"value\":1},\"line_join\":{\"type\":\"value\",\"value\":\"bevel\"},\"line_cap\":{\"type\":\"value\",\"value\":\"butt\"},\"line_dash\":{\"type\":\"value\",\"value\":[]},\"line_dash_offset\":{\"type\":\"value\",\"value\":0},\"fill_color\":{\"type\":\"value\",\"value\":\"#1f77b4\"},\"fill_alpha\":{\"type\":\"value\",\"value\":1.0},\"hatch_color\":{\"type\":\"value\",\"value\":\"#1f77b4\"},\"hatch_alpha\":{\"type\":\"value\",\"value\":1.0},\"hatch_scale\":{\"type\":\"value\",\"value\":12.0},\"hatch_pattern\":{\"type\":\"value\",\"value\":null},\"hatch_weight\":{\"type\":\"value\",\"value\":1.0},\"marker\":{\"type\":\"value\",\"value\":\"circle\"}}},\"nonselection_glyph\":{\"type\":\"object\",\"name\":\"Scatter\",\"id\":\"p1601\",\"attributes\":{\"tags\":[\"apply_ranges\"],\"x\":{\"type\":\"field\",\"field\":\"n_kernels\"},\"y\":{\"type\":\"field\",\"field\":\"processing_time\"},\"size\":{\"type\":\"value\",\"value\":5.477225575051661},\"line_color\":{\"type\":\"value\",\"value\":\"#1f77b4\"},\"line_alpha\":{\"type\":\"value\",\"value\":0.1},\"fill_color\":{\"type\":\"value\",\"value\":\"#1f77b4\"},\"fill_alpha\":{\"type\":\"value\",\"value\":0.1},\"hatch_color\":{\"type\":\"value\",\"value\":\"#1f77b4\"},\"hatch_alpha\":{\"type\":\"value\",\"value\":0.1}}},\"muted_glyph\":{\"type\":\"object\",\"name\":\"Scatter\",\"id\":\"p1602\",\"attributes\":{\"tags\":[\"apply_ranges\"],\"x\":{\"type\":\"field\",\"field\":\"n_kernels\"},\"y\":{\"type\":\"field\",\"field\":\"processing_time\"},\"size\":{\"type\":\"value\",\"value\":5.477225575051661},\"line_color\":{\"type\":\"value\",\"value\":\"#1f77b4\"},\"line_alpha\":{\"type\":\"value\",\"value\":0.2},\"fill_color\":{\"type\":\"value\",\"value\":\"#1f77b4\"},\"fill_alpha\":{\"type\":\"value\",\"value\":0.2},\"hatch_color\":{\"type\":\"value\",\"value\":\"#1f77b4\"},\"hatch_alpha\":{\"type\":\"value\",\"value\":0.2}}}}}],\"toolbar\":{\"type\":\"object\",\"name\":\"Toolbar\",\"id\":\"p1121\",\"attributes\":{\"tools\":[{\"type\":\"object\",\"name\":\"WheelZoomTool\",\"id\":\"p1014\",\"attributes\":{\"tags\":[\"hv_created\"],\"renderers\":\"auto\",\"zoom_together\":\"none\"}},{\"type\":\"object\",\"name\":\"HoverTool\",\"id\":\"p1015\",\"attributes\":{\"tags\":[\"hv_created\"],\"renderers\":[{\"id\":\"p1154\"},{\"id\":\"p1169\"},{\"id\":\"p1183\"},{\"id\":\"p1197\"},{\"id\":\"p1211\"},{\"id\":\"p1225\"},{\"id\":\"p1239\"},{\"id\":\"p1253\"},{\"id\":\"p1267\"},{\"id\":\"p1281\"},{\"id\":\"p1295\"},{\"id\":\"p1309\"},{\"id\":\"p1323\"},{\"id\":\"p1337\"},{\"id\":\"p1351\"},{\"id\":\"p1365\"},{\"id\":\"p1379\"},{\"id\":\"p1393\"},{\"id\":\"p1407\"},{\"id\":\"p1421\"},{\"id\":\"p1435\"},{\"id\":\"p1449\"},{\"id\":\"p1463\"},{\"id\":\"p1477\"},{\"id\":\"p1491\"},{\"id\":\"p1505\"},{\"id\":\"p1519\"},{\"id\":\"p1533\"},{\"id\":\"p1547\"},{\"id\":\"p1561\"},{\"id\":\"p1575\"},{\"id\":\"p1589\"},{\"id\":\"p1603\"}],\"tooltips\":[[\"mission\",\"@{mission}\"],[\"n_kernels\",\"@{n_kernels}\"],[\"processing_time\",\"@{processing_time}\"]]}},{\"type\":\"object\",\"name\":\"SaveTool\",\"id\":\"p1134\"},{\"type\":\"object\",\"name\":\"PanTool\",\"id\":\"p1135\"},{\"type\":\"object\",\"name\":\"BoxZoomTool\",\"id\":\"p1136\",\"attributes\":{\"overlay\":{\"type\":\"object\",\"name\":\"BoxAnnotation\",\"id\":\"p1137\",\"attributes\":{\"syncable\":false,\"line_color\":\"black\",\"line_alpha\":1.0,\"line_width\":2,\"line_dash\":[4,4],\"fill_color\":\"lightgrey\",\"fill_alpha\":0.5,\"level\":\"overlay\",\"visible\":false,\"left\":{\"type\":\"number\",\"value\":\"nan\"},\"right\":{\"type\":\"number\",\"value\":\"nan\"},\"top\":{\"type\":\"number\",\"value\":\"nan\"},\"bottom\":{\"type\":\"number\",\"value\":\"nan\"},\"left_units\":\"canvas\",\"right_units\":\"canvas\",\"top_units\":\"canvas\",\"bottom_units\":\"canvas\",\"handles\":{\"type\":\"object\",\"name\":\"BoxInteractionHandles\",\"id\":\"p1143\",\"attributes\":{\"all\":{\"type\":\"object\",\"name\":\"AreaVisuals\",\"id\":\"p1142\",\"attributes\":{\"fill_color\":\"white\",\"hover_fill_color\":\"lightgray\"}}}}}}}},{\"type\":\"object\",\"name\":\"ResetTool\",\"id\":\"p1144\"}],\"active_drag\":{\"id\":\"p1135\"},\"active_scroll\":{\"id\":\"p1014\"}}},\"left\":[{\"type\":\"object\",\"name\":\"LinearAxis\",\"id\":\"p1129\",\"attributes\":{\"ticker\":{\"type\":\"object\",\"name\":\"BasicTicker\",\"id\":\"p1130\",\"attributes\":{\"mantissas\":[1,2,5]}},\"formatter\":{\"type\":\"object\",\"name\":\"BasicTickFormatter\",\"id\":\"p1131\"},\"axis_label\":\"processing_time\",\"major_label_policy\":{\"type\":\"object\",\"name\":\"AllLabels\",\"id\":\"p1132\"}}}],\"below\":[{\"type\":\"object\",\"name\":\"LinearAxis\",\"id\":\"p1124\",\"attributes\":{\"ticker\":{\"type\":\"object\",\"name\":\"BasicTicker\",\"id\":\"p1125\",\"attributes\":{\"mantissas\":[1,2,5]}},\"formatter\":{\"type\":\"object\",\"name\":\"BasicTickFormatter\",\"id\":\"p1126\"},\"axis_label\":\"n_kernels\",\"major_label_policy\":{\"type\":\"object\",\"name\":\"AllLabels\",\"id\":\"p1127\"}}},{\"type\":\"object\",\"name\":\"Legend\",\"id\":\"p1157\",\"attributes\":{\"location\":[0,0],\"ncols\":6,\"title\":\"mission\",\"click_policy\":\"mute\",\"items\":[{\"type\":\"object\",\"name\":\"LegendItem\",\"id\":\"p1158\",\"attributes\":{\"label\":{\"type\":\"value\",\"value\":\"bc\"},\"renderers\":[{\"id\":\"p1154\"}]}},{\"type\":\"object\",\"name\":\"LegendItem\",\"id\":\"p1172\",\"attributes\":{\"label\":{\"type\":\"value\",\"value\":\"cassini\"},\"renderers\":[{\"id\":\"p1169\"}]}},{\"type\":\"object\",\"name\":\"LegendItem\",\"id\":\"p1186\",\"attributes\":{\"label\":{\"type\":\"value\",\"value\":\"clementine\"},\"renderers\":[{\"id\":\"p1183\"}]}},{\"type\":\"object\",\"name\":\"LegendItem\",\"id\":\"p1200\",\"attributes\":{\"label\":{\"type\":\"value\",\"value\":\"dart\"},\"renderers\":[{\"id\":\"p1197\"}]}},{\"type\":\"object\",\"name\":\"LegendItem\",\"id\":\"p1214\",\"attributes\":{\"label\":{\"type\":\"value\",\"value\":\"dawn\"},\"renderers\":[{\"id\":\"p1211\"}]}},{\"type\":\"object\",\"name\":\"LegendItem\",\"id\":\"p1228\",\"attributes\":{\"label\":{\"type\":\"value\",\"value\":\"di\"},\"renderers\":[{\"id\":\"p1225\"}]}},{\"type\":\"object\",\"name\":\"LegendItem\",\"id\":\"p1242\",\"attributes\":{\"label\":{\"type\":\"value\",\"value\":\"ds1\"},\"renderers\":[{\"id\":\"p1239\"}]}},{\"type\":\"object\",\"name\":\"LegendItem\",\"id\":\"p1256\",\"attributes\":{\"label\":{\"type\":\"value\",\"value\":\"em16\"},\"renderers\":[{\"id\":\"p1253\"}]}},{\"type\":\"object\",\"name\":\"LegendItem\",\"id\":\"p1270\",\"attributes\":{\"label\":{\"type\":\"value\",\"value\":\"epoxi\"},\"renderers\":[{\"id\":\"p1267\"}]}},{\"type\":\"object\",\"name\":\"LegendItem\",\"id\":\"p1284\",\"attributes\":{\"label\":{\"type\":\"value\",\"value\":\"grail\"},\"renderers\":[{\"id\":\"p1281\"}]}},{\"type\":\"object\",\"name\":\"LegendItem\",\"id\":\"p1298\",\"attributes\":{\"label\":{\"type\":\"value\",\"value\":\"hayabusa\"},\"renderers\":[{\"id\":\"p1295\"}]}},{\"type\":\"object\",\"name\":\"LegendItem\",\"id\":\"p1312\",\"attributes\":{\"label\":{\"type\":\"value\",\"value\":\"insight\"},\"renderers\":[{\"id\":\"p1309\"}]}},{\"type\":\"object\",\"name\":\"LegendItem\",\"id\":\"p1326\",\"attributes\":{\"label\":{\"type\":\"value\",\"value\":\"juno\"},\"renderers\":[{\"id\":\"p1323\"}]}},{\"type\":\"object\",\"name\":\"LegendItem\",\"id\":\"p1340\",\"attributes\":{\"label\":{\"type\":\"value\",\"value\":\"ladee\"},\"renderers\":[{\"id\":\"p1337\"}]}},{\"type\":\"object\",\"name\":\"LegendItem\",\"id\":\"p1354\",\"attributes\":{\"label\":{\"type\":\"value\",\"value\":\"lro\"},\"renderers\":[{\"id\":\"p1351\"}]}},{\"type\":\"object\",\"name\":\"LegendItem\",\"id\":\"p1368\",\"attributes\":{\"label\":{\"type\":\"value\",\"value\":\"mars2020\"},\"renderers\":[{\"id\":\"p1365\"}]}},{\"type\":\"object\",\"name\":\"LegendItem\",\"id\":\"p1382\",\"attributes\":{\"label\":{\"type\":\"value\",\"value\":\"maven\"},\"renderers\":[{\"id\":\"p1379\"}]}},{\"type\":\"object\",\"name\":\"LegendItem\",\"id\":\"p1396\",\"attributes\":{\"label\":{\"type\":\"value\",\"value\":\"messenger\"},\"renderers\":[{\"id\":\"p1393\"}]}},{\"type\":\"object\",\"name\":\"LegendItem\",\"id\":\"p1410\",\"attributes\":{\"label\":{\"type\":\"value\",\"value\":\"mex\"},\"renderers\":[{\"id\":\"p1407\"}]}},{\"type\":\"object\",\"name\":\"LegendItem\",\"id\":\"p1424\",\"attributes\":{\"label\":{\"type\":\"value\",\"value\":\"mgs\"},\"renderers\":[{\"id\":\"p1421\"}]}},{\"type\":\"object\",\"name\":\"LegendItem\",\"id\":\"p1438\",\"attributes\":{\"label\":{\"type\":\"value\",\"value\":\"mro\"},\"renderers\":[{\"id\":\"p1435\"}]}},{\"type\":\"object\",\"name\":\"LegendItem\",\"id\":\"p1452\",\"attributes\":{\"label\":{\"type\":\"value\",\"value\":\"msl\"},\"renderers\":[{\"id\":\"p1449\"}]}},{\"type\":\"object\",\"name\":\"LegendItem\",\"id\":\"p1466\",\"attributes\":{\"label\":{\"type\":\"value\",\"value\":\"near\"},\"renderers\":[{\"id\":\"p1463\"}]}},{\"type\":\"object\",\"name\":\"LegendItem\",\"id\":\"p1480\",\"attributes\":{\"label\":{\"type\":\"value\",\"value\":\"nh\"},\"renderers\":[{\"id\":\"p1477\"}]}},{\"type\":\"object\",\"name\":\"LegendItem\",\"id\":\"p1494\",\"attributes\":{\"label\":{\"type\":\"value\",\"value\":\"ody\"},\"renderers\":[{\"id\":\"p1491\"}]}},{\"type\":\"object\",\"name\":\"LegendItem\",\"id\":\"p1508\",\"attributes\":{\"label\":{\"type\":\"value\",\"value\":\"opportunity\"},\"renderers\":[{\"id\":\"p1505\"}]}},{\"type\":\"object\",\"name\":\"LegendItem\",\"id\":\"p1522\",\"attributes\":{\"label\":{\"type\":\"value\",\"value\":\"orex\"},\"renderers\":[{\"id\":\"p1519\"}]}},{\"type\":\"object\",\"name\":\"LegendItem\",\"id\":\"p1536\",\"attributes\":{\"label\":{\"type\":\"value\",\"value\":\"rosetta\"},\"renderers\":[{\"id\":\"p1533\"}]}},{\"type\":\"object\",\"name\":\"LegendItem\",\"id\":\"p1550\",\"attributes\":{\"label\":{\"type\":\"value\",\"value\":\"spirit\"},\"renderers\":[{\"id\":\"p1547\"}]}},{\"type\":\"object\",\"name\":\"LegendItem\",\"id\":\"p1564\",\"attributes\":{\"label\":{\"type\":\"value\",\"value\":\"stardust\"},\"renderers\":[{\"id\":\"p1561\"}]}},{\"type\":\"object\",\"name\":\"LegendItem\",\"id\":\"p1578\",\"attributes\":{\"label\":{\"type\":\"value\",\"value\":\"venus_climate_orbiter\"},\"renderers\":[{\"id\":\"p1575\"}]}},{\"type\":\"object\",\"name\":\"LegendItem\",\"id\":\"p1592\",\"attributes\":{\"label\":{\"type\":\"value\",\"value\":\"vex\"},\"renderers\":[{\"id\":\"p1589\"}]}},{\"type\":\"object\",\"name\":\"LegendItem\",\"id\":\"p1606\",\"attributes\":{\"label\":{\"type\":\"value\",\"value\":\"vo\"},\"renderers\":[{\"id\":\"p1603\"}]}}]}}],\"center\":[{\"type\":\"object\",\"name\":\"Grid\",\"id\":\"p1128\",\"attributes\":{\"axis\":{\"id\":\"p1124\"},\"grid_line_color\":null}},{\"type\":\"object\",\"name\":\"Grid\",\"id\":\"p1133\",\"attributes\":{\"dimension\":1,\"axis\":{\"id\":\"p1129\"},\"grid_line_color\":null}}],\"min_border_top\":10,\"min_border_bottom\":10,\"min_border_left\":10,\"min_border_right\":10,\"output_backend\":\"webgl\"}},{\"type\":\"object\",\"name\":\"Spacer\",\"id\":\"p1609\",\"attributes\":{\"name\":\"HSpacer01585\",\"stylesheets\":[\"\\n:host(.pn-loading):before, .pn-loading:before {\\n  background-color: #c3c3c3;\\n  mask-size: auto calc(min(50%, 400px));\\n  -webkit-mask-size: auto calc(min(50%, 400px));\\n}\",{\"id\":\"p1007\"},{\"id\":\"p1005\"},{\"id\":\"p1006\"}],\"margin\":0,\"sizing_mode\":\"stretch_width\",\"align\":\"start\"}}]}}],\"defs\":[{\"type\":\"model\",\"name\":\"ReactiveHTML1\"},{\"type\":\"model\",\"name\":\"FlexBox1\",\"properties\":[{\"name\":\"align_content\",\"kind\":\"Any\",\"default\":\"flex-start\"},{\"name\":\"align_items\",\"kind\":\"Any\",\"default\":\"flex-start\"},{\"name\":\"flex_direction\",\"kind\":\"Any\",\"default\":\"row\"},{\"name\":\"flex_wrap\",\"kind\":\"Any\",\"default\":\"wrap\"},{\"name\":\"gap\",\"kind\":\"Any\",\"default\":\"\"},{\"name\":\"justify_content\",\"kind\":\"Any\",\"default\":\"flex-start\"}]},{\"type\":\"model\",\"name\":\"FloatPanel1\",\"properties\":[{\"name\":\"config\",\"kind\":\"Any\",\"default\":{\"type\":\"map\"}},{\"name\":\"contained\",\"kind\":\"Any\",\"default\":true},{\"name\":\"position\",\"kind\":\"Any\",\"default\":\"right-top\"},{\"name\":\"offsetx\",\"kind\":\"Any\",\"default\":null},{\"name\":\"offsety\",\"kind\":\"Any\",\"default\":null},{\"name\":\"theme\",\"kind\":\"Any\",\"default\":\"primary\"},{\"name\":\"status\",\"kind\":\"Any\",\"default\":\"normalized\"}]},{\"type\":\"model\",\"name\":\"GridStack1\",\"properties\":[{\"name\":\"mode\",\"kind\":\"Any\",\"default\":\"warn\"},{\"name\":\"ncols\",\"kind\":\"Any\",\"default\":null},{\"name\":\"nrows\",\"kind\":\"Any\",\"default\":null},{\"name\":\"allow_resize\",\"kind\":\"Any\",\"default\":true},{\"name\":\"allow_drag\",\"kind\":\"Any\",\"default\":true},{\"name\":\"state\",\"kind\":\"Any\",\"default\":[]}]},{\"type\":\"model\",\"name\":\"drag1\",\"properties\":[{\"name\":\"slider_width\",\"kind\":\"Any\",\"default\":5},{\"name\":\"slider_color\",\"kind\":\"Any\",\"default\":\"black\"},{\"name\":\"value\",\"kind\":\"Any\",\"default\":50}]},{\"type\":\"model\",\"name\":\"click1\",\"properties\":[{\"name\":\"terminal_output\",\"kind\":\"Any\",\"default\":\"\"},{\"name\":\"debug_name\",\"kind\":\"Any\",\"default\":\"\"},{\"name\":\"clears\",\"kind\":\"Any\",\"default\":0}]},{\"type\":\"model\",\"name\":\"FastWrapper1\",\"properties\":[{\"name\":\"object\",\"kind\":\"Any\",\"default\":null},{\"name\":\"style\",\"kind\":\"Any\",\"default\":null}]},{\"type\":\"model\",\"name\":\"NotificationAreaBase1\",\"properties\":[{\"name\":\"js_events\",\"kind\":\"Any\",\"default\":{\"type\":\"map\"}},{\"name\":\"position\",\"kind\":\"Any\",\"default\":\"bottom-right\"},{\"name\":\"_clear\",\"kind\":\"Any\",\"default\":0}]},{\"type\":\"model\",\"name\":\"NotificationArea1\",\"properties\":[{\"name\":\"js_events\",\"kind\":\"Any\",\"default\":{\"type\":\"map\"}},{\"name\":\"notifications\",\"kind\":\"Any\",\"default\":[]},{\"name\":\"position\",\"kind\":\"Any\",\"default\":\"bottom-right\"},{\"name\":\"_clear\",\"kind\":\"Any\",\"default\":0},{\"name\":\"types\",\"kind\":\"Any\",\"default\":[{\"type\":\"map\",\"entries\":[[\"type\",\"warning\"],[\"background\",\"#ffc107\"],[\"icon\",{\"type\":\"map\",\"entries\":[[\"className\",\"fas fa-exclamation-triangle\"],[\"tagName\",\"i\"],[\"color\",\"white\"]]}]]},{\"type\":\"map\",\"entries\":[[\"type\",\"info\"],[\"background\",\"#007bff\"],[\"icon\",{\"type\":\"map\",\"entries\":[[\"className\",\"fas fa-info-circle\"],[\"tagName\",\"i\"],[\"color\",\"white\"]]}]]}]}]},{\"type\":\"model\",\"name\":\"Notification\",\"properties\":[{\"name\":\"background\",\"kind\":\"Any\",\"default\":null},{\"name\":\"duration\",\"kind\":\"Any\",\"default\":3000},{\"name\":\"icon\",\"kind\":\"Any\",\"default\":null},{\"name\":\"message\",\"kind\":\"Any\",\"default\":\"\"},{\"name\":\"notification_type\",\"kind\":\"Any\",\"default\":null},{\"name\":\"_destroyed\",\"kind\":\"Any\",\"default\":false}]},{\"type\":\"model\",\"name\":\"TemplateActions1\",\"properties\":[{\"name\":\"open_modal\",\"kind\":\"Any\",\"default\":0},{\"name\":\"close_modal\",\"kind\":\"Any\",\"default\":0}]},{\"type\":\"model\",\"name\":\"BootstrapTemplateActions1\",\"properties\":[{\"name\":\"open_modal\",\"kind\":\"Any\",\"default\":0},{\"name\":\"close_modal\",\"kind\":\"Any\",\"default\":0}]},{\"type\":\"model\",\"name\":\"TemplateEditor1\",\"properties\":[{\"name\":\"layout\",\"kind\":\"Any\",\"default\":[]}]},{\"type\":\"model\",\"name\":\"MaterialTemplateActions1\",\"properties\":[{\"name\":\"open_modal\",\"kind\":\"Any\",\"default\":0},{\"name\":\"close_modal\",\"kind\":\"Any\",\"default\":0}]},{\"type\":\"model\",\"name\":\"ReactiveESM1\"},{\"type\":\"model\",\"name\":\"JSComponent1\"},{\"type\":\"model\",\"name\":\"ReactComponent1\"},{\"type\":\"model\",\"name\":\"AnyWidgetComponent1\"},{\"type\":\"model\",\"name\":\"request_value1\",\"properties\":[{\"name\":\"fill\",\"kind\":\"Any\",\"default\":\"none\"},{\"name\":\"_synced\",\"kind\":\"Any\",\"default\":null},{\"name\":\"_request_sync\",\"kind\":\"Any\",\"default\":0}]}]}};\n",
       "  var render_items = [{\"docid\":\"2b230bba-8c8e-472f-82d4-abedba022526\",\"roots\":{\"p1004\":\"a5137edb-2d45-4d60-b89d-731572fc78ab\"},\"root_ids\":[\"p1004\"]}];\n",
       "  var docs = Object.values(docs_json)\n",
       "  if (!docs) {\n",
       "    return\n",
       "  }\n",
       "  const py_version = docs[0].version.replace('rc', '-rc.').replace('.dev', '-dev.')\n",
       "  async function embed_document(root) {\n",
       "    var Bokeh = get_bokeh(root)\n",
       "    await Bokeh.embed.embed_items_notebook(docs_json, render_items);\n",
       "    for (const render_item of render_items) {\n",
       "      for (const root_id of render_item.root_ids) {\n",
       "\tconst id_el = document.getElementById(root_id)\n",
       "\tif (id_el.children.length && id_el.children[0].hasAttribute('data-root-id')) {\n",
       "\t  const root_el = id_el.children[0]\n",
       "\t  root_el.id = root_el.id + '-rendered'\n",
       "\t  for (const child of root_el.children) {\n",
       "            // Ensure JupyterLab does not capture keyboard shortcuts\n",
       "            // see: https://jupyterlab.readthedocs.io/en/4.1.x/extension/notebook.html#keyboard-interaction-model\n",
       "\t    child.setAttribute('data-lm-suppress-shortcuts', 'true')\n",
       "\t  }\n",
       "\t}\n",
       "      }\n",
       "    }\n",
       "  }\n",
       "  function get_bokeh(root) {\n",
       "    if (root.Bokeh === undefined) {\n",
       "      return null\n",
       "    } else if (root.Bokeh.version !== py_version) {\n",
       "      if (root.Bokeh.versions === undefined || !root.Bokeh.versions.has(py_version)) {\n",
       "\treturn null\n",
       "      }\n",
       "      return root.Bokeh.versions.get(py_version);\n",
       "    } else if (root.Bokeh.version === py_version) {\n",
       "      return root.Bokeh\n",
       "    }\n",
       "    return null\n",
       "  }\n",
       "  function is_loaded(root) {\n",
       "    var Bokeh = get_bokeh(root)\n",
       "    return (Bokeh != null && Bokeh.Panel !== undefined)\n",
       "  }\n",
       "  if (is_loaded(root)) {\n",
       "    embed_document(root);\n",
       "  } else {\n",
       "    var attempts = 0;\n",
       "    var timer = setInterval(function(root) {\n",
       "      if (is_loaded(root)) {\n",
       "        clearInterval(timer);\n",
       "        embed_document(root);\n",
       "      } else if (document.readyState == \"complete\") {\n",
       "        attempts++;\n",
       "        if (attempts > 200) {\n",
       "          clearInterval(timer);\n",
       "\t  var Bokeh = get_bokeh(root)\n",
       "\t  if (Bokeh == null || Bokeh.Panel == null) {\n",
       "            console.warn(\"Panel: ERROR: Unable to run Panel code because Bokeh or Panel library is missing\");\n",
       "\t  } else {\n",
       "\t    console.warn(\"Panel: WARNING: Attempting to render but not all required libraries could be resolved.\")\n",
       "\t    embed_document(root)\n",
       "\t  }\n",
       "        }\n",
       "      }\n",
       "    }, 25, root)\n",
       "  }\n",
       "})(window);</script>"
      ],
      "text/plain": [
       ":NdOverlay   [mission]\n",
       "   :Scatter   [n_kernels]   (processing_time)"
      ]
     },
     "execution_count": null,
     "metadata": {
      "application/vnd.holoviews_exec.v0+json": {
       "id": "p1004"
      }
     },
     "output_type": "execute_result"
    }
   ],
   "source": [
    "plot = df.hvplot.scatter(\n",
    "    x=\"n_kernels\", y=\"processing_time\", by=\"mission\", width=600, height=400\n",
    ")\n",
    "plot = plot.opts(legend_position=\"bottom\", legend_cols=6)\n",
    "plot"
   ]
  },
  {
   "cell_type": "markdown",
   "id": "b12201c1-687c-422f-9717-4f528e667f78",
   "metadata": {},
   "source": [
    "> NOTE: Any ErfaWarnings above are caused by the LADEE mission using a kernel up to 2050, and the astropy.Time module warns about potential precicision issues regarding unknown leapseconds that will be put in in the future."
   ]
  },
  {
   "cell_type": "markdown",
   "id": "80e79890-df55-487a-91c8-8962f0c3f806",
   "metadata": {},
   "source": [
    "### Generic kernel management\n",
    "\n",
    "There are a few generic kernels that are required for basic illumination calculations as supported by this package."
   ]
  },
  {
   "cell_type": "code",
   "execution_count": null,
   "id": "71580983-4661-4e81-ae0e-a4c09b83538d",
   "metadata": {},
   "outputs": [],
   "source": [
    "# | export\n",
    "GENERIC_STORAGE = KERNEL_STORAGE / \"generic\"\n",
    "GENERIC_STORAGE.mkdir(exist_ok=True, parents=True)\n",
    "GENERIC_URL = NAIF_URL / \"pub/naif/generic_kernels/\"\n",
    "\n",
    "generic_kernel_names = [\n",
    "    \"lsk/naif0012.tls\",\n",
    "    \"pck/pck00010.tpc\",\n",
    "    \"pck/de-403-masses.tpc\",\n",
    "    \"spk/planets/de430.bsp\",\n",
    "    # \"spk/satellites/mar097.bsp\",\n",
    "]\n",
    "generic_kernel_paths = [GENERIC_STORAGE.joinpath(i) for i in generic_kernel_names]"
   ]
  },
  {
   "cell_type": "code",
   "execution_count": null,
   "id": "5b5deb59-19df-40ef-8b0d-b33264a906ca",
   "metadata": {},
   "outputs": [],
   "source": [
    "# | export\n",
    "\n",
    "\n",
    "def download_generic_kernels(overwrite=False):\n",
    "    \"Download all kernels as required by generic_kernel_list.\"\n",
    "    dl_urls = [GENERIC_URL / i for i in generic_kernel_names]\n",
    "    for dl_url, savepath in zip(dl_urls, generic_kernel_paths):\n",
    "        if savepath.exists() and not overwrite:\n",
    "            print(\n",
    "                savepath.name,\n",
    "                \"already downloaded. Use `overwrite=True` to download again.\",\n",
    "            )\n",
    "            continue\n",
    "        savepath.parent.mkdir(exist_ok=True, parents=True)\n",
    "        url_retrieve(dl_url, savepath)"
   ]
  },
  {
   "cell_type": "code",
   "execution_count": null,
   "id": "ebe088f9-33e3-4d43-bc24-a82846974d9b",
   "metadata": {},
   "outputs": [
    {
     "name": "stdout",
     "output_type": "stream",
     "text": [
      "naif0012.tls already downloaded. Use `overwrite=True` to download again.\n",
      "pck00010.tpc already downloaded. Use `overwrite=True` to download again.\n",
      "de-403-masses.tpc already downloaded. Use `overwrite=True` to download again.\n",
      "de430.bsp already downloaded. Use `overwrite=True` to download again.\n"
     ]
    }
   ],
   "source": [
    "download_generic_kernels()"
   ]
  },
  {
   "cell_type": "code",
   "execution_count": null,
   "id": "842e71fd-f8e0-40a7-9c6f-49f8acbcefd2",
   "metadata": {},
   "outputs": [],
   "source": [
    "# | export\n",
    "\n",
    "\n",
    "def load_generic_kernels():\n",
    "    \"\"\"Load all kernels in generic_kernels list.\n",
    "\n",
    "    Loads pure planetary bodies meta-kernel without spacecraft data.\n",
    "\n",
    "    Downloads any missing generic kernels.\n",
    "    \"\"\"\n",
    "    if any([not p.exists() for p in generic_kernel_paths]):\n",
    "        download_generic_kernels()\n",
    "    for kernel in generic_kernel_paths:\n",
    "        spice.furnsh(str(kernel))"
   ]
  },
  {
   "cell_type": "code",
   "execution_count": null,
   "id": "02dbe7d7-46ec-4106-b8ff-ea9a907d9d24",
   "metadata": {},
   "outputs": [],
   "source": [
    "spice.kclear()"
   ]
  },
  {
   "cell_type": "code",
   "execution_count": null,
   "id": "40f0171d-30ff-4ec9-b889-264825db654a",
   "metadata": {},
   "outputs": [],
   "source": [
    "load_generic_kernels()"
   ]
  },
  {
   "cell_type": "code",
   "execution_count": null,
   "id": "04a1a163-a5b6-4b96-b942-9d44acdb9dfe",
   "metadata": {},
   "outputs": [],
   "source": [
    "# | export\n",
    "\n",
    "\n",
    "def show_loaded_kernels():\n",
    "    \"Print overview of loaded kernels.\"\n",
    "    count = spice.ktotal(\"all\")\n",
    "    if count == 0:\n",
    "        print(\"No kernels loaded at this time.\")\n",
    "    else:\n",
    "        print(\"The loaded files are:\\n(paths relative to kernels.KERNEL_STORAGE)\\n\")\n",
    "    for which in range(count):\n",
    "        out = spice.kdata(which, \"all\", 100, 100, 100)\n",
    "        print(\"Position:\", which)\n",
    "        p = Path(out[0])\n",
    "        print(\"Path\", p.relative_to(KERNEL_STORAGE))\n",
    "        print(\"Type:\", out[1])\n",
    "        print(\"Source:\", out[2])\n",
    "        print(\"Handle:\", out[3])\n",
    "        # print(\"Found:\", out[4])"
   ]
  },
  {
   "cell_type": "code",
   "execution_count": null,
   "id": "5eeb3c4c-cf5f-467d-9b2e-0e0abc4476dd",
   "metadata": {},
   "outputs": [
    {
     "name": "stdout",
     "output_type": "stream",
     "text": [
      "The loaded files are:\n",
      "(paths relative to kernels.KERNEL_STORAGE)\n",
      "\n",
      "Position: 0\n",
      "Path generic/lsk/naif0012.tls\n",
      "Type: TEXT\n",
      "Source: \n",
      "Handle: 0\n",
      "Position: 1\n",
      "Path generic/pck/pck00010.tpc\n",
      "Type: TEXT\n",
      "Source: \n",
      "Handle: 0\n",
      "Position: 2\n",
      "Path generic/pck/de-403-masses.tpc\n",
      "Type: TEXT\n",
      "Source: \n",
      "Handle: 0\n",
      "Position: 3\n",
      "Path generic/spk/planets/de430.bsp\n",
      "Type: SPK\n",
      "Source: \n",
      "Handle: 12\n"
     ]
    }
   ],
   "source": [
    "show_loaded_kernels()"
   ]
  },
  {
   "cell_type": "code",
   "execution_count": null,
   "id": "e8b6bfbd-7bc6-4b0b-90ae-666f49b7f44b",
   "metadata": {},
   "outputs": [],
   "source": [
    "from nbdev import nbdev_export\n",
    "\n",
    "nbdev_export()"
   ]
  },
  {
   "cell_type": "code",
   "execution_count": null,
   "id": "ec9f6746-d15f-43ff-93c7-715754934761",
   "metadata": {},
   "outputs": [],
   "source": []
  }
 ],
 "metadata": {
  "kernelspec": {
   "display_name": "python3",
   "language": "python",
   "name": "python3"
  }
 },
 "nbformat": 4,
 "nbformat_minor": 5
}
