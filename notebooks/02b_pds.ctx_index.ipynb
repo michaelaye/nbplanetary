{
 "cells": [
  {
   "cell_type": "code",
   "execution_count": null,
   "id": "israeli-redhead",
   "metadata": {},
   "outputs": [],
   "source": [
    "#| default_exp pds.ctx_index"
   ]
  },
  {
   "cell_type": "markdown",
   "id": "immediate-honduras",
   "metadata": {},
   "source": [
    "# CTX Index\n",
    "\n",
    "> Scraping the latest CTX index from the latest added volume.\n",
    "\n",
    "The CTX Index is special as it's latest URL is dynamic, so it needs to be web-scraped."
   ]
  },
  {
   "cell_type": "code",
   "execution_count": null,
   "id": "comparative-feeding",
   "metadata": {},
   "outputs": [],
   "source": [
    "#| hide\n",
    "from nbdev.showdoc import show_doc"
   ]
  },
  {
   "cell_type": "code",
   "execution_count": null,
   "id": "premier-medium",
   "metadata": {},
   "outputs": [],
   "source": [
    "#| export\n",
    "from dataclasses import dataclass\n",
    "from string import Template\n",
    "\n",
    "import pandas as pd\n"
   ]
  },
  {
   "cell_type": "code",
   "execution_count": null,
   "id": "561accab",
   "metadata": {},
   "outputs": [],
   "source": [
    "#| export\n",
    "@dataclass\n",
    "class CTXIndex:\n",
    "    \"\"\"Class to determine the URL for the latest cumulative index.\n",
    "\n",
    "    This is a 2 step process, where first the MRO release page is scraped\n",
    "    for the latest CTX release, and then the latest release page is scraped\n",
    "    for the latest volume.\n",
    "    From that latest volume the latest index URL is constructed.\n",
    "    \"\"\"\n",
    "    volumes_url: str = \"https://pds-imaging.jpl.nasa.gov/volumes/mro.html\"\n",
    "    release_url_template: Template = Template(\n",
    "        \"https://pds-imaging.jpl.nasa.gov/volumes/mro/release${release}.html\"\n",
    "    )\n",
    "    volume_url_template: Template = Template(\n",
    "        \"https://pds-imaging.jpl.nasa.gov/data/mro/mars_reconnaissance_orbiter/ctx/mrox_${volume}/\"\n",
    "    )\n",
    "    scraped_tables: bool = False\n",
    "    release_scraped: bool = False\n",
    "\n",
    "    @property\n",
    "    def web_tables_list(self):\n",
    "        \"\"\"Use the pandas scraper to read in the MRO data release table.\n",
    "\n",
    "        The scraper returns several tables in a list and the last one\n",
    "        lists all the CTX volumes.\n",
    "\n",
    "        This could be replaced by cached properties.\n",
    "        \"\"\"\n",
    "        if not self.scraped_tables:\n",
    "            self._list_of_scraped_tables = pd.read_html(self.volumes_url)\n",
    "            self.scraped_tables = True\n",
    "        return self._list_of_scraped_tables\n",
    "\n",
    "    @property\n",
    "    def release_number(self):\n",
    "        \"\"\"Fishes out the release number.\n",
    "\n",
    "        This is needed to construct the exact URL to the latest cumulative index file.\n",
    "        \"\"\"\n",
    "        alist = self.web_tables_list\n",
    "        return alist[-1].iloc[-1, 0].split()[-1]\n",
    "\n",
    "    @property\n",
    "    def release_url(self):\n",
    "        \"Constructs the release URL from the release number.\"\n",
    "        return self.release_url_template.substitute(release=self.release_number)\n",
    "\n",
    "    @property\n",
    "    def latest_volume_url(self):\n",
    "        \"\"\"Scrape the Release URL for the latest volume URL in that.\n",
    "\n",
    "        This is necessary because a release usually has more that one volume.\n",
    "        \"\"\"\n",
    "        if not self.release_scraped:\n",
    "            alist = pd.read_html(self.release_url)\n",
    "            # get last row of 4th table\n",
    "            row = alist[3].iloc[-1]\n",
    "            number = None\n",
    "            # first number that is NAN breaks the loop over last row of table\n",
    "            for elem in row.values:\n",
    "                try:\n",
    "                    number = int(elem.split()[-1])\n",
    "                except AttributeError:\n",
    "                    break\n",
    "            self.number = number\n",
    "            self.release_scraped = True\n",
    "        return self.volume_url_template.substitute(volume=self.number)\n",
    "\n",
    "    @property\n",
    "    def latest_index_label_url(self):\n",
    "        \"Construct the URL for the latest cumulative index.\"\n",
    "\n",
    "        return self.latest_volume_url + \"index/cumindex.lbl\""
   ]
  },
  {
   "cell_type": "code",
   "execution_count": null,
   "id": "grand-report",
   "metadata": {},
   "outputs": [],
   "source": [
    "ctx = CTXIndex()"
   ]
  },
  {
   "cell_type": "code",
   "execution_count": null,
   "id": "ce751e10-41ae-4759-bac8-27b0d1545638",
   "metadata": {},
   "outputs": [
    {
     "data": {
      "text/plain": [
       "'https://pds-imaging.jpl.nasa.gov/data/mro/mars_reconnaissance_orbiter/ctx/mrox_4191/index/cumindex.lbl'"
      ]
     },
     "execution_count": null,
     "metadata": {},
     "output_type": "execute_result"
    }
   ],
   "source": [
    "ctx.latest_index_label_url"
   ]
  },
  {
   "cell_type": "code",
   "execution_count": null,
   "id": "incredible-rainbow",
   "metadata": {},
   "outputs": [
    {
     "data": {
      "text/markdown": [
       "---\n",
       "\n",
       "[source](https://github.com/michaelaye/nbplanetary/blob/master/planetarypy/pds/ctx_index.py#L33){target=\"_blank\" style=\"float:right; font-size:smaller\"}\n",
       "\n",
       "### CTXIndex.web_tables_list\n",
       "\n",
       ">      CTXIndex.web_tables_list ()\n",
       "\n",
       "Use the pandas scraper to read in the MRO data release table.\n",
       "\n",
       "The scraper returns several tables in a list and the last one\n",
       "lists all the CTX volumes.\n",
       "\n",
       "This could be replaced by cached properties."
      ],
      "text/plain": [
       "---\n",
       "\n",
       "[source](https://github.com/michaelaye/nbplanetary/blob/master/planetarypy/pds/ctx_index.py#L33){target=\"_blank\" style=\"float:right; font-size:smaller\"}\n",
       "\n",
       "### CTXIndex.web_tables_list\n",
       "\n",
       ">      CTXIndex.web_tables_list ()\n",
       "\n",
       "Use the pandas scraper to read in the MRO data release table.\n",
       "\n",
       "The scraper returns several tables in a list and the last one\n",
       "lists all the CTX volumes.\n",
       "\n",
       "This could be replaced by cached properties."
      ]
     },
     "execution_count": null,
     "metadata": {},
     "output_type": "execute_result"
    }
   ],
   "source": [
    "show_doc(CTXIndex.web_tables_list)"
   ]
  },
  {
   "cell_type": "code",
   "execution_count": null,
   "id": "attached-medication",
   "metadata": {},
   "outputs": [
    {
     "data": {
      "text/html": [
       "<div>\n",
       "<style scoped>\n",
       "    .dataframe tbody tr th:only-of-type {\n",
       "        vertical-align: middle;\n",
       "    }\n",
       "\n",
       "    .dataframe tbody tr th {\n",
       "        vertical-align: top;\n",
       "    }\n",
       "\n",
       "    .dataframe thead th {\n",
       "        text-align: right;\n",
       "    }\n",
       "</style>\n",
       "<table border=\"1\" class=\"dataframe\">\n",
       "  <thead>\n",
       "    <tr style=\"text-align: right;\">\n",
       "      <th></th>\n",
       "      <th>Mission to MarsContext Camera (CTX) and Mars Color Imager (MARCI) MRO LEVEL 0 EDRs V1.0</th>\n",
       "      <th>Mission to MarsContext Camera (CTX) and Mars Color Imager (MARCI) MRO LEVEL 0 EDRs V1.0.1</th>\n",
       "      <th>Mission to MarsContext Camera (CTX) and Mars Color Imager (MARCI) MRO LEVEL 0 EDRs V1.0.2</th>\n",
       "    </tr>\n",
       "  </thead>\n",
       "  <tbody>\n",
       "    <tr>\n",
       "      <th>57</th>\n",
       "      <td>Release 58</td>\n",
       "      <td>NaN</td>\n",
       "      <td>CTX (86 volumes mrox_3959-4044) and MARCI (28 ...</td>\n",
       "    </tr>\n",
       "    <tr>\n",
       "      <th>58</th>\n",
       "      <td>Release 59</td>\n",
       "      <td>NaN</td>\n",
       "      <td>CTX (54 volumes mrox_4045-4098) and MARCI (19 ...</td>\n",
       "    </tr>\n",
       "    <tr>\n",
       "      <th>59</th>\n",
       "      <td>Release 60</td>\n",
       "      <td>NaN</td>\n",
       "      <td>CTX (35 volumes mrox_4099-4133) and MARCI (12 ...</td>\n",
       "    </tr>\n",
       "    <tr>\n",
       "      <th>60</th>\n",
       "      <td>Release 61</td>\n",
       "      <td>NaN</td>\n",
       "      <td>CTX (29 volumes mrox_4134-4162) and MARCI (12 ...</td>\n",
       "    </tr>\n",
       "    <tr>\n",
       "      <th>61</th>\n",
       "      <td>Release 62</td>\n",
       "      <td>NaN</td>\n",
       "      <td>CTX (29 volumes mrox_4163-4191) and MARCI (10 ...</td>\n",
       "    </tr>\n",
       "  </tbody>\n",
       "</table>\n",
       "</div>"
      ],
      "text/plain": [
       "   Mission to MarsContext Camera (CTX) and Mars Color Imager (MARCI) MRO LEVEL 0 EDRs V1.0  \\\n",
       "57                                         Release 58                                        \n",
       "58                                         Release 59                                        \n",
       "59                                         Release 60                                        \n",
       "60                                         Release 61                                        \n",
       "61                                         Release 62                                        \n",
       "\n",
       "    Mission to MarsContext Camera (CTX) and Mars Color Imager (MARCI) MRO LEVEL 0 EDRs V1.0.1  \\\n",
       "57                                                NaN                                           \n",
       "58                                                NaN                                           \n",
       "59                                                NaN                                           \n",
       "60                                                NaN                                           \n",
       "61                                                NaN                                           \n",
       "\n",
       "   Mission to MarsContext Camera (CTX) and Mars Color Imager (MARCI) MRO LEVEL 0 EDRs V1.0.2  \n",
       "57  CTX (86 volumes mrox_3959-4044) and MARCI (28 ...                                         \n",
       "58  CTX (54 volumes mrox_4045-4098) and MARCI (19 ...                                         \n",
       "59  CTX (35 volumes mrox_4099-4133) and MARCI (12 ...                                         \n",
       "60  CTX (29 volumes mrox_4134-4162) and MARCI (12 ...                                         \n",
       "61  CTX (29 volumes mrox_4163-4191) and MARCI (10 ...                                         "
      ]
     },
     "execution_count": null,
     "metadata": {},
     "output_type": "execute_result"
    }
   ],
   "source": [
    "ctx.web_tables_list[-1].tail()"
   ]
  },
  {
   "cell_type": "code",
   "execution_count": null,
   "id": "swiss-equipment",
   "metadata": {},
   "outputs": [],
   "source": [
    "assert type(ctx.web_tables_list) == list"
   ]
  },
  {
   "cell_type": "code",
   "execution_count": null,
   "id": "incomplete-austin",
   "metadata": {},
   "outputs": [],
   "source": [
    "assert len(ctx.web_tables_list) == 4"
   ]
  },
  {
   "cell_type": "code",
   "execution_count": null,
   "id": "shared-flexibility",
   "metadata": {},
   "outputs": [
    {
     "data": {
      "text/markdown": [
       "---\n",
       "\n",
       "[source](https://github.com/michaelaye/nbplanetary/blob/master/planetarypy/pds/ctx_index.py#L47){target=\"_blank\" style=\"float:right; font-size:smaller\"}\n",
       "\n",
       "### CTXIndex.release_number\n",
       "\n",
       ">      CTXIndex.release_number ()\n",
       "\n",
       "Fishes out the release number.\n",
       "\n",
       "This is needed to construct the exact URL to the latest cumulative index file."
      ],
      "text/plain": [
       "---\n",
       "\n",
       "[source](https://github.com/michaelaye/nbplanetary/blob/master/planetarypy/pds/ctx_index.py#L47){target=\"_blank\" style=\"float:right; font-size:smaller\"}\n",
       "\n",
       "### CTXIndex.release_number\n",
       "\n",
       ">      CTXIndex.release_number ()\n",
       "\n",
       "Fishes out the release number.\n",
       "\n",
       "This is needed to construct the exact URL to the latest cumulative index file."
      ]
     },
     "execution_count": null,
     "metadata": {},
     "output_type": "execute_result"
    }
   ],
   "source": [
    "show_doc(CTXIndex.release_number)"
   ]
  },
  {
   "cell_type": "code",
   "execution_count": null,
   "id": "further-somerset",
   "metadata": {},
   "outputs": [
    {
     "data": {
      "text/plain": [
       "'62'"
      ]
     },
     "execution_count": null,
     "metadata": {},
     "output_type": "execute_result"
    }
   ],
   "source": [
    "assert type(ctx.release_number) == str\n",
    "ctx.release_number"
   ]
  },
  {
   "cell_type": "code",
   "execution_count": null,
   "id": "sunrise-colon",
   "metadata": {},
   "outputs": [
    {
     "data": {
      "text/markdown": [
       "---\n",
       "\n",
       "[source](https://github.com/michaelaye/nbplanetary/blob/master/planetarypy/pds/ctx_index.py#L56){target=\"_blank\" style=\"float:right; font-size:smaller\"}\n",
       "\n",
       "### CTXIndex.release_url\n",
       "\n",
       ">      CTXIndex.release_url ()\n",
       "\n",
       "Constructs the release URL from the release number."
      ],
      "text/plain": [
       "---\n",
       "\n",
       "[source](https://github.com/michaelaye/nbplanetary/blob/master/planetarypy/pds/ctx_index.py#L56){target=\"_blank\" style=\"float:right; font-size:smaller\"}\n",
       "\n",
       "### CTXIndex.release_url\n",
       "\n",
       ">      CTXIndex.release_url ()\n",
       "\n",
       "Constructs the release URL from the release number."
      ]
     },
     "execution_count": null,
     "metadata": {},
     "output_type": "execute_result"
    }
   ],
   "source": [
    "show_doc(CTXIndex.release_url)"
   ]
  },
  {
   "cell_type": "code",
   "execution_count": null,
   "id": "dried-tomato",
   "metadata": {},
   "outputs": [
    {
     "data": {
      "text/plain": [
       "'https://pds-imaging.jpl.nasa.gov/volumes/mro/release62.html'"
      ]
     },
     "execution_count": null,
     "metadata": {},
     "output_type": "execute_result"
    }
   ],
   "source": [
    "ctx.release_url"
   ]
  },
  {
   "cell_type": "code",
   "execution_count": null,
   "id": "pressed-culture",
   "metadata": {},
   "outputs": [],
   "source": [
    "assert type(ctx.release_url) == str"
   ]
  },
  {
   "cell_type": "code",
   "execution_count": null,
   "id": "overall-regulation",
   "metadata": {},
   "outputs": [
    {
     "data": {
      "text/markdown": [
       "---\n",
       "\n",
       "[source](https://github.com/michaelaye/nbplanetary/blob/master/planetarypy/pds/ctx_index.py#L61){target=\"_blank\" style=\"float:right; font-size:smaller\"}\n",
       "\n",
       "### CTXIndex.latest_volume_url\n",
       "\n",
       ">      CTXIndex.latest_volume_url ()\n",
       "\n",
       "Scrape the Release URL for the latest volume URL in that.\n",
       "\n",
       "This is necessary because a release usually has more that one volume."
      ],
      "text/plain": [
       "---\n",
       "\n",
       "[source](https://github.com/michaelaye/nbplanetary/blob/master/planetarypy/pds/ctx_index.py#L61){target=\"_blank\" style=\"float:right; font-size:smaller\"}\n",
       "\n",
       "### CTXIndex.latest_volume_url\n",
       "\n",
       ">      CTXIndex.latest_volume_url ()\n",
       "\n",
       "Scrape the Release URL for the latest volume URL in that.\n",
       "\n",
       "This is necessary because a release usually has more that one volume."
      ]
     },
     "execution_count": null,
     "metadata": {},
     "output_type": "execute_result"
    }
   ],
   "source": [
    "show_doc(CTXIndex.latest_volume_url)"
   ]
  },
  {
   "cell_type": "code",
   "execution_count": null,
   "id": "fifth-puzzle",
   "metadata": {},
   "outputs": [
    {
     "data": {
      "text/plain": [
       "'https://pds-imaging.jpl.nasa.gov/data/mro/mars_reconnaissance_orbiter/ctx/mrox_4191/'"
      ]
     },
     "execution_count": null,
     "metadata": {},
     "output_type": "execute_result"
    }
   ],
   "source": [
    "ctx.latest_volume_url"
   ]
  },
  {
   "cell_type": "code",
   "execution_count": null,
   "id": "palestinian-lighter",
   "metadata": {},
   "outputs": [],
   "source": [
    "assert type(ctx.latest_volume_url) == str"
   ]
  },
  {
   "cell_type": "code",
   "execution_count": null,
   "id": "detailed-alert",
   "metadata": {},
   "outputs": [
    {
     "data": {
      "text/markdown": [
       "---\n",
       "\n",
       "[source](https://github.com/michaelaye/nbplanetary/blob/master/planetarypy/pds/ctx_index.py#L82){target=\"_blank\" style=\"float:right; font-size:smaller\"}\n",
       "\n",
       "### CTXIndex.latest_index_label_url\n",
       "\n",
       ">      CTXIndex.latest_index_label_url ()\n",
       "\n",
       "Construct the URL for the latest cumulative index."
      ],
      "text/plain": [
       "---\n",
       "\n",
       "[source](https://github.com/michaelaye/nbplanetary/blob/master/planetarypy/pds/ctx_index.py#L82){target=\"_blank\" style=\"float:right; font-size:smaller\"}\n",
       "\n",
       "### CTXIndex.latest_index_label_url\n",
       "\n",
       ">      CTXIndex.latest_index_label_url ()\n",
       "\n",
       "Construct the URL for the latest cumulative index."
      ]
     },
     "execution_count": null,
     "metadata": {},
     "output_type": "execute_result"
    }
   ],
   "source": [
    "show_doc(CTXIndex.latest_index_label_url)"
   ]
  },
  {
   "cell_type": "code",
   "execution_count": null,
   "id": "complete-digest",
   "metadata": {},
   "outputs": [
    {
     "data": {
      "text/plain": [
       "'https://pds-imaging.jpl.nasa.gov/data/mro/mars_reconnaissance_orbiter/ctx/mrox_4191/index/cumindex.lbl'"
      ]
     },
     "execution_count": null,
     "metadata": {},
     "output_type": "execute_result"
    }
   ],
   "source": [
    "ctx.latest_index_label_url"
   ]
  },
  {
   "cell_type": "code",
   "execution_count": null,
   "id": "49f15cd7",
   "metadata": {},
   "outputs": [],
   "source": []
  }
 ],
 "metadata": {
  "kernelspec": {
   "display_name": "Python 3.10.5 ('py310')",
   "language": "python",
   "name": "python3"
  }
 },
 "nbformat": 4,
 "nbformat_minor": 5
}
