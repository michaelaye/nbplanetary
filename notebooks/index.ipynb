{
 "cells": [
  {
   "cell_type": "code",
   "execution_count": null,
   "metadata": {},
   "outputs": [],
   "source": [
    "#hide\n",
    "from planetarypy.config import *"
   ]
  },
  {
   "cell_type": "markdown",
   "metadata": {},
   "source": [
    "# PlanetaryPy\n",
    "\n",
    "> This will become (part of) the core package of the [PlanetaryPy](https://planetarypy.org/) organisation.\n",
    "\n",
    "This is an alpha release for testing.\n",
    "\n",
    "## Standard Abbreviation: \n",
    "* for the docs: `PLPY`\n",
    "* for a standard Python import: `plp` or `plpy`\n",
    "  * as the last `p` in `plp` can be pronounced out, I consider these equivalent for human conversation and pronounce these \"plippy\"."
   ]
  },
  {
   "cell_type": "markdown",
   "metadata": {},
   "source": [
    "## Current focus\n",
    "\n",
    "* Enable finding PDS data by downloading and managing PDS3 index files\n",
    "  * Conversion of these index files to `pandas.DataFrames` for search and filtering\n",
    "* Downloading and local management of PDS3 data as identified via the index files or directly via data/product IDs.\n",
    "* CTX and HiRISE specific tools"
   ]
  },
  {
   "cell_type": "markdown",
   "metadata": {},
   "source": [
    "## Install\n",
    "\n",
    "`pip install planetarypy`\n",
    "\n",
    "This will pull in these other dependencies and their dependencies:\n",
    "\n",
    "`strictyaml pandas pvl numpy python-dateutil tqdm lxml yarl hirise-tools kalasiris`\n"
   ]
  },
  {
   "cell_type": "markdown",
   "metadata": {},
   "source": [
    "## PDS tools\n",
    "\n",
    "Look at the `Apps` docs to see what `pds.apps` exist for easily getting PDS indexes.\n",
    "The `find_index` app is specifically useful when you don't know what index files exist.\n",
    "\n",
    "So far, the following indexes are supported (but not necessarily all tested within PLPY):\n",
    "\n",
    "* Cassini\n",
    "  * ISS (all)\n",
    "  * UVIS (all)\n",
    "* MRO\n",
    "  * CTX\n",
    "      EDR\n",
    "  * HiRISE\n",
    "    * EDR, RDR, DTM\n",
    "      * EDR index has a bug (as delivered by the team, reported), where I need to activate an existing fix for it.\n",
    "* LRO\n",
    "  * Diviner (DLRE)\n",
    "    * EDR, RDR\n",
    "  * LOLA\n",
    "    * EDR, RDR\n",
    "    \n",
    "### More indexes\n",
    "More indexes of other instruments can be easily added by following the existing structure of what has been copied into your config at `~/.planetarypy_config.yaml`.\n",
    "\n",
    "Please consider submitting a pull request for adding further PDS index files into the config file at its source: https://github.com/michaelaye/nbplanetary/blob/master/planetarypy/data/planetarypy_config.yaml"
   ]
  },
  {
   "cell_type": "markdown",
   "metadata": {},
   "source": [
    "## Utils\n",
    "Find something in `Utils` for working with NASA timestamps and a well working URL download function `url_retrieve`, among other stuff.\n",
    "\n",
    "## Experiment/Instrument Specific\n",
    "\n",
    "So far, `planetarypy` supports CTX EDR and HiRISE RGB.NOMAP data.\n",
    "Look at the `CTX` and `HiRISE` pages for descriptions of classes for working with these data."
   ]
  },
  {
   "cell_type": "markdown",
   "metadata": {},
   "source": [
    "## Bug reports\n",
    "\n",
    "Please submit bug reports at https://github.com/michaelaye/nbplanetary/issues"
   ]
  },
  {
   "cell_type": "code",
   "execution_count": null,
   "metadata": {},
   "outputs": [],
   "source": []
  }
 ],
 "metadata": {
  "kernelspec": {
   "display_name": "Python 3 (ipykernel)",
   "language": "python",
   "name": "python3"
  }
 },
 "nbformat": 4,
 "nbformat_minor": 4
}
