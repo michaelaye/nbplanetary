{
 "cells": [
  {
   "cell_type": "code",
   "execution_count": null,
   "id": "26dad463-de33-48ea-b0be-b1ffa687f8ab",
   "metadata": {},
   "outputs": [],
   "source": [
    "#| default_exp ciss"
   ]
  },
  {
   "cell_type": "markdown",
   "id": "732d1146-bbcc-4100-9c8d-002662c1f64f",
   "metadata": {},
   "source": [
    "# Cassini ISS\n",
    "> Data getters for Cassini ISS image data"
   ]
  },
  {
   "cell_type": "code",
   "execution_count": null,
   "id": "9a9b7fff-1102-4749-aeaf-a06d8ba07e23",
   "metadata": {},
   "outputs": [],
   "source": [
    "#| export\n",
    "from yarl import URL\n",
    "\n",
    "from planetarypy.config import config\n",
    "from planetarypy.pds.opusapi import OPUS\n",
    "from planetarypy.utils import have_internet, url_retrieve"
   ]
  },
  {
   "cell_type": "code",
   "execution_count": null,
   "id": "017a8c3a-7cfc-4f77-a54a-bf57f0d26317",
   "metadata": {},
   "outputs": [],
   "source": [
    "#| export\n",
    "storage_root = config.storage_root / \"missions/cassini/iss\"\n",
    "opus_keys = [\n",
    "    \"coiss_raw\",\n",
    "    \"coiss_calib\",\n",
    "    \"coiss_thumb\",\n",
    "    \"coiss_medium\",\n",
    "    \"coiss_full\",\n",
    "    \"rms_index\",\n",
    "    \"inventory\",\n",
    "    \"planet_geometry\",\n",
    "    \"ring_geometry\",\n",
    "    \"browse_thumb\",\n",
    "    \"browse_small\",\n",
    "    \"browse_medium\",\n",
    "    \"browse_full\",\n",
    "]"
   ]
  },
  {
   "cell_type": "code",
   "execution_count": null,
   "id": "521464ea-13f1-4faa-96d1-162f693a401e",
   "metadata": {},
   "outputs": [
    {
     "data": {
      "text/plain": [
       "Path('/home/ayek72/mnt/slowdata/planetarypy/missions/cassini/iss')"
      ]
     },
     "execution_count": null,
     "metadata": {},
     "output_type": "execute_result"
    }
   ],
   "source": [
    "storage_root"
   ]
  },
  {
   "cell_type": "code",
   "execution_count": null,
   "id": "acb2a693-0fba-4079-9939-d74d1289e82a",
   "metadata": {},
   "outputs": [],
   "source": [
    "#| export\n",
    "class ISSOpus:\n",
    "\n",
    "    def __init__(self, pid):\n",
    "        self.pid = pid\n",
    "        if have_internet():\n",
    "            self.query_pid(pid)\n",
    "\n",
    "    def query_pid(self, pid):\n",
    "        opus = OPUS()\n",
    "        self.query_result = opus.query_image_id(pid)[0]\n",
    "        self.id = self.query_result[0]\n",
    "        self.dict = self.query_result[1]\n",
    "        for k, v in self.dict.items():\n",
    "            if isinstance(v, list) and len(v) == 1:\n",
    "                setattr(self, k, v[0])\n",
    "            else:\n",
    "                setattr(self, k, v)\n",
    "\n",
    "    @property\n",
    "    def raw_data_url(self):\n",
    "        return URL(self.coiss_raw[0])\n",
    "\n",
    "    @property\n",
    "    def raw_label_url(self):\n",
    "        return URL(self.coiss_raw[1])\n",
    "\n",
    "    @property\n",
    "    def raw_prefix_fmt_url(self):\n",
    "        return URL(self.coiss_raw[2])\n",
    "\n",
    "    @property\n",
    "    def raw_tlmtab_url(self):\n",
    "        return URL(self.coiss_raw[3])\n",
    "\n",
    "    @property\n",
    "    def calib_data_url(self):\n",
    "        return URL(self.coiss_calib[0])\n",
    "\n",
    "    @property\n",
    "    def calib_label_url(self):\n",
    "        return URL(self.coiss_calib[1])\n",
    "\n",
    "    @property\n",
    "    def volume(self):\n",
    "        return self.raw_data_url.parts[4]\n",
    "\n",
    "    @property\n",
    "    def local_folder(self):\n",
    "        return storage_root / self.pid.upper()\n",
    "\n",
    "    @property\n",
    "    def local_data_path(self):\n",
    "        return self.local_folder / self.raw_data_url.name\n",
    "\n",
    "    @property\n",
    "    def local_calib_path(self):\n",
    "        return self.local_folder / self.calib_data_url.name\n",
    "\n",
    "    @property\n",
    "    def local_label_path(self):\n",
    "        return self.local_data_path.with_suffix(\".LBL\")\n",
    "\n",
    "    @property\n",
    "    def local_calib_label_path(self):\n",
    "        return self.local_calib_path.with_suffix(\".LBL\")\n",
    "\n",
    "    def download_raw(self, overwrite=False):\n",
    "        self.local_data_path.parent.mkdir(parents=True, exist_ok=True)\n",
    "        if self.local_data_path.exists() and not overwrite:\n",
    "            print(\"File exists. Use `overwrite=True` to download fresh.\")\n",
    "            return\n",
    "        url_retrieve(self.raw_data_url, self.local_data_path)\n",
    "        url_retrieve(self.raw_label_url, self.local_label_path)\n",
    "\n",
    "    def download_calib(self, overwrite=False):\n",
    "        self.local_calib_path.parent.mkdir(parents=True, exist_ok=True)\n",
    "        if self.local_calib_path.exists():\n",
    "            if not overwrite:\n",
    "                print(\"File exists. Use `overwrite` to force re-download.\")\n",
    "                return\n",
    "        url_retrieve(self.calib_data_url, self.local_calib_path)\n",
    "\n",
    "    def __repr__(self):\n",
    "        s = f\"Product ID:\\n{self.id}\\n\\n\"\n",
    "        for k, v in self.query_result[1].items():\n",
    "            s += f\"Key: {k},\\nValue(s):\\n{v}\\n\\n\"\n",
    "        return s"
   ]
  },
  {
   "cell_type": "code",
   "execution_count": null,
   "id": "3bf01b00-4bde-4abe-b0d5-06acb036645c",
   "metadata": {},
   "outputs": [],
   "source": [
    "id = \"N1874681996\"\n",
    "# id = \"N1878581142\""
   ]
  },
  {
   "cell_type": "code",
   "execution_count": null,
   "id": "262f9924-e5d9-4b9a-9896-51084a617cee",
   "metadata": {},
   "outputs": [
    {
     "data": {
      "text/plain": [
       "[Path('/home/ayek72/mnt/slowdata/planetarypy/missions/cassini/iss/N1874681996'),\n",
       " Path('/home/ayek72/mnt/slowdata/planetarypy/missions/cassini/iss/N1874681996/N1874681996_1_CALIB.IMG')]"
      ]
     },
     "execution_count": null,
     "metadata": {},
     "output_type": "execute_result"
    }
   ],
   "source": [
    "list(storage_root.rglob(f\"{id}*\"))"
   ]
  },
  {
   "cell_type": "code",
   "execution_count": null,
   "id": "af395a34-e93c-4d29-b978-08eec058e17b",
   "metadata": {},
   "outputs": [
    {
     "name": "stdout",
     "output_type": "stream",
     "text": [
      "Found 1 obsids.\n"
     ]
    }
   ],
   "source": [
    "iss = ISSOpus(id)"
   ]
  },
  {
   "cell_type": "code",
   "execution_count": null,
   "id": "1726a00e-23f7-4c2c-954e-e71cdc5d9fa6",
   "metadata": {},
   "outputs": [
    {
     "data": {
      "text/plain": [
       "Path('/home/ayek72/mnt/slowdata/planetarypy/missions/cassini/iss/N1874681996')"
      ]
     },
     "execution_count": null,
     "metadata": {},
     "output_type": "execute_result"
    }
   ],
   "source": [
    "iss.local_folder"
   ]
  },
  {
   "cell_type": "code",
   "execution_count": null,
   "id": "c8988b62-f4d9-40e8-bb49-da559bd84a83",
   "metadata": {},
   "outputs": [
    {
     "data": {
      "text/plain": [
       "URL('https://opus.pds-rings.seti.org/holdings/volumes/COISS_2xxx/COISS_2113/data/1874658411_1874843972/N1874681996_1.IMG')"
      ]
     },
     "execution_count": null,
     "metadata": {},
     "output_type": "execute_result"
    }
   ],
   "source": [
    "iss.raw_data_url"
   ]
  },
  {
   "cell_type": "code",
   "execution_count": null,
   "id": "3fda63e8-a85f-48a7-9ea7-375151145191",
   "metadata": {},
   "outputs": [
    {
     "name": "stdout",
     "output_type": "stream",
     "text": [
      "File exists. Use `overwrite` to force re-download.\n"
     ]
    }
   ],
   "source": [
    "iss.download_calib()"
   ]
  },
  {
   "cell_type": "code",
   "execution_count": null,
   "id": "80cdaf30-105d-4dbc-8c87-b29beb68e951",
   "metadata": {},
   "outputs": [
    {
     "data": {
      "text/plain": [
       "Path('/home/ayek72/mnt/slowdata/planetarypy')"
      ]
     },
     "execution_count": null,
     "metadata": {},
     "output_type": "execute_result"
    }
   ],
   "source": [
    "config.storage_root"
   ]
  },
  {
   "cell_type": "code",
   "execution_count": null,
   "id": "fe5e1fe9-eb0c-4f6f-849c-125a5d70e83e",
   "metadata": {},
   "outputs": [
    {
     "data": {
      "text/plain": [
       "dict_keys(['coiss_raw', 'coiss_calib', 'coiss_thumb', 'coiss_medium', 'coiss_full', 'rms_index', 'inventory', 'planet_geometry', 'ring_geometry', 'browse_thumb', 'browse_small', 'browse_medium', 'browse_full'])"
      ]
     },
     "execution_count": null,
     "metadata": {},
     "output_type": "execute_result"
    }
   ],
   "source": [
    "iss.dict.keys()"
   ]
  },
  {
   "cell_type": "code",
   "execution_count": null,
   "id": "599c9eab-f95c-41c8-855f-e6c9356f05b1",
   "metadata": {},
   "outputs": [
    {
     "data": {
      "text/plain": [
       "Path('/home/ayek72/mnt/slowdata/planetarypy/missions/cassini/iss/N1874681996/N1874681996_1_CALIB.IMG')"
      ]
     },
     "execution_count": null,
     "metadata": {},
     "output_type": "execute_result"
    }
   ],
   "source": [
    "iss.local_calib_path"
   ]
  },
  {
   "cell_type": "code",
   "execution_count": null,
   "id": "e57f2403-2d26-4766-af3c-dde6f0da32b8",
   "metadata": {},
   "outputs": [
    {
     "data": {
      "text/plain": [
       "URL('https://opus.pds-rings.seti.org/holdings/calibrated/COISS_2xxx/COISS_2113/data/1874658411_1874843972/N1874681996_1_CALIB.IMG')"
      ]
     },
     "execution_count": null,
     "metadata": {},
     "output_type": "execute_result"
    }
   ],
   "source": [
    "iss.calib_data_url"
   ]
  },
  {
   "cell_type": "code",
   "execution_count": null,
   "id": "24bdc459-08f2-41c6-9be3-2b7c08cf3e69",
   "metadata": {},
   "outputs": [
    {
     "data": {
      "text/plain": [
       "'COISS_2113'"
      ]
     },
     "execution_count": null,
     "metadata": {},
     "output_type": "execute_result"
    }
   ],
   "source": [
    "iss.volume"
   ]
  },
  {
   "cell_type": "code",
   "execution_count": null,
   "id": "30be44c4-7e31-4ced-b738-c59ce740a156",
   "metadata": {},
   "outputs": [
    {
     "data": {
      "text/plain": [
       "Path('/home/ayek72/mnt/slowdata/planetarypy/missions/cassini/iss/N1874681996')"
      ]
     },
     "execution_count": null,
     "metadata": {},
     "output_type": "execute_result"
    }
   ],
   "source": [
    "iss.local_folder"
   ]
  },
  {
   "cell_type": "code",
   "execution_count": null,
   "id": "d18fac75-edd7-42d1-9eea-7b2fb6cf7df6",
   "metadata": {},
   "outputs": [],
   "source": [
    "def get_raw_data_path(product_id):\n",
    "    iss = ISSOpus(product_id)\n",
    "    return iss.local_data_path"
   ]
  },
  {
   "cell_type": "code",
   "execution_count": null,
   "id": "937af35a-0361-4f97-9203-2b7fac39c04f",
   "metadata": {},
   "outputs": [
    {
     "data": {
      "text/plain": [
       "'N1874681996'"
      ]
     },
     "execution_count": null,
     "metadata": {},
     "output_type": "execute_result"
    }
   ],
   "source": [
    "id"
   ]
  },
  {
   "cell_type": "code",
   "execution_count": null,
   "id": "485e362d-5cf6-4e9a-9183-5e5cde479994",
   "metadata": {},
   "outputs": [
    {
     "data": {
      "text/plain": [
       "[Path('/home/ayek72/mnt/slowdata/planetarypy/missions/cassini/iss/N1874681996')]"
      ]
     },
     "execution_count": null,
     "metadata": {},
     "output_type": "execute_result"
    }
   ],
   "source": [
    "list(storage_root.glob(f\"**/{id}\"))"
   ]
  },
  {
   "cell_type": "code",
   "execution_count": null,
   "id": "419e5268-ea05-42a2-8853-2f3440d58001",
   "metadata": {},
   "outputs": [
    {
     "data": {
      "text/plain": [
       "Path('/home/ayek72/mnt/slowdata/planetarypy/missions/cassini/iss')"
      ]
     },
     "execution_count": null,
     "metadata": {},
     "output_type": "execute_result"
    }
   ],
   "source": [
    "storage_root"
   ]
  },
  {
   "cell_type": "code",
   "execution_count": null,
   "id": "8ff290b2-c270-45c4-b542-65d824857ac0",
   "metadata": {},
   "outputs": [
    {
     "name": "stdout",
     "output_type": "stream",
     "text": [
      "\u001b[0m\u001b[01;34mindexes\u001b[0m/  \u001b[01;34mN1874681996\u001b[0m/\n"
     ]
    }
   ],
   "source": [
    "!ls {storage_root}"
   ]
  },
  {
   "cell_type": "code",
   "execution_count": null,
   "id": "c62a481e-2443-4317-b31e-89226b82fcfa",
   "metadata": {},
   "outputs": [
    {
     "name": "stdout",
     "output_type": "stream",
     "text": [
      "Found 1 obsids.\n"
     ]
    },
    {
     "data": {
      "text/plain": [
       "Path('/home/ayek72/mnt/slowdata/planetarypy/missions/cassini/iss/N1874681996/N1874681996_1.IMG')"
      ]
     },
     "execution_count": null,
     "metadata": {},
     "output_type": "execute_result"
    }
   ],
   "source": [
    "get_raw_data_path(id)"
   ]
  },
  {
   "cell_type": "code",
   "execution_count": null,
   "id": "cf444766-6a33-4fbe-b373-d612320f74f9",
   "metadata": {},
   "outputs": [
    {
     "data": {
      "text/plain": [
       "{'coiss_raw': ['https://opus.pds-rings.seti.org/holdings/volumes/COISS_2xxx/COISS_2113/data/1874658411_1874843972/N1874681996_1.IMG',\n",
       "  'https://opus.pds-rings.seti.org/holdings/volumes/COISS_2xxx/COISS_2113/data/1874658411_1874843972/N1874681996_1.LBL',\n",
       "  'https://opus.pds-rings.seti.org/holdings/volumes/COISS_2xxx/COISS_2113/label/prefix3.fmt',\n",
       "  'https://opus.pds-rings.seti.org/holdings/volumes/COISS_2xxx/COISS_2113/label/tlmtab.fmt'],\n",
       " 'coiss_calib': ['https://opus.pds-rings.seti.org/holdings/calibrated/COISS_2xxx/COISS_2113/data/1874658411_1874843972/N1874681996_1_CALIB.IMG',\n",
       "  'https://opus.pds-rings.seti.org/holdings/calibrated/COISS_2xxx/COISS_2113/data/1874658411_1874843972/N1874681996_1_CALIB.LBL'],\n",
       " 'coiss_thumb': ['https://opus.pds-rings.seti.org/holdings/volumes/COISS_2xxx/COISS_2113/extras/thumbnail/1874658411_1874843972/N1874681996_1.IMG.jpeg_small'],\n",
       " 'coiss_medium': ['https://opus.pds-rings.seti.org/holdings/volumes/COISS_2xxx/COISS_2113/extras/browse/1874658411_1874843972/N1874681996_1.IMG.jpeg'],\n",
       " 'coiss_full': ['https://opus.pds-rings.seti.org/holdings/volumes/COISS_2xxx/COISS_2113/extras/tiff/1874658411_1874843972/N1874681996_1.IMG.tiff'],\n",
       " 'rms_index': ['https://opus.pds-rings.seti.org/holdings/metadata/COISS_2xxx/COISS_2113/COISS_2113_index.tab',\n",
       "  'https://opus.pds-rings.seti.org/holdings/metadata/COISS_2xxx/COISS_2113/COISS_2113_index.lbl'],\n",
       " 'inventory': ['https://opus.pds-rings.seti.org/holdings/metadata/COISS_2xxx/COISS_2113/COISS_2113_inventory.csv',\n",
       "  'https://opus.pds-rings.seti.org/holdings/metadata/COISS_2xxx/COISS_2113/COISS_2113_inventory.lbl'],\n",
       " 'planet_geometry': ['https://opus.pds-rings.seti.org/holdings/metadata/COISS_2xxx/COISS_2113/COISS_2113_saturn_summary.tab',\n",
       "  'https://opus.pds-rings.seti.org/holdings/metadata/COISS_2xxx/COISS_2113/COISS_2113_saturn_summary.lbl'],\n",
       " 'ring_geometry': ['https://opus.pds-rings.seti.org/holdings/metadata/COISS_2xxx/COISS_2113/COISS_2113_ring_summary.tab',\n",
       "  'https://opus.pds-rings.seti.org/holdings/metadata/COISS_2xxx/COISS_2113/COISS_2113_ring_summary.lbl'],\n",
       " 'browse_thumb': ['https://opus.pds-rings.seti.org/holdings/previews/COISS_2xxx/COISS_2113/data/1874658411_1874843972/N1874681996_1_thumb.jpg'],\n",
       " 'browse_small': ['https://opus.pds-rings.seti.org/holdings/previews/COISS_2xxx/COISS_2113/data/1874658411_1874843972/N1874681996_1_small.jpg'],\n",
       " 'browse_medium': ['https://opus.pds-rings.seti.org/holdings/previews/COISS_2xxx/COISS_2113/data/1874658411_1874843972/N1874681996_1_med.jpg'],\n",
       " 'browse_full': ['https://opus.pds-rings.seti.org/holdings/previews/COISS_2xxx/COISS_2113/data/1874658411_1874843972/N1874681996_1_full.png']}"
      ]
     },
     "execution_count": null,
     "metadata": {},
     "output_type": "execute_result"
    }
   ],
   "source": [
    "iss.dict"
   ]
  }
 ],
 "metadata": {
  "kernelspec": {
   "display_name": "python3",
   "language": "python",
   "name": "python3"
  }
 },
 "nbformat": 4,
 "nbformat_minor": 5
}
