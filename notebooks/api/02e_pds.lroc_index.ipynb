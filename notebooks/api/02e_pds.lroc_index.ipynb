{
 "cells": [
  {
   "cell_type": "code",
   "execution_count": null,
   "id": "d42c66c2-9133-4789-aa24-db779ef51ebf",
   "metadata": {},
   "outputs": [],
   "source": [
    "#| default_exp pds.lroc_index"
   ]
  },
  {
   "cell_type": "markdown",
   "id": "42d06a12-10ff-4b69-bf28-dca56ae4df95",
   "metadata": {},
   "source": [
    "# LROC Index\n",
    "> LROC Index is not at a fixed URL, so need to determine dynamically."
   ]
  },
  {
   "cell_type": "code",
   "execution_count": null,
   "id": "2417b3cc",
   "metadata": {},
   "outputs": [
    {
     "ename": "",
     "evalue": "",
     "output_type": "error",
     "traceback": [
      "\u001b[1;31mRunning cells with 'Python 3.10.6 64-bit' requires ipykernel package.\n",
      "\u001b[1;31mRun the following command to install 'ipykernel' into the Python environment. \n",
      "\u001b[1;31mCommand: '/opt/homebrew/bin/python3 -m pip install ipykernel -U --user --force-reinstall'"
     ]
    }
   ],
   "source": [
    "#| export\n",
    "import warnings"
   ]
  },
  {
   "cell_type": "code",
   "execution_count": null,
   "id": "b9cdad61-f102-4563-989e-19d85ca8be20",
   "metadata": {},
   "outputs": [],
   "source": [
    "#| hide\n",
    "from nbdev.showdoc import *"
   ]
  },
  {
   "cell_type": "code",
   "execution_count": null,
   "id": "83128ca9-ccb1-4b51-a24c-7126cf49f68a",
   "metadata": {},
   "outputs": [],
   "source": [
    "#| export\n",
    "class LROCIndex:\n",
    "\n",
    "    def __init__(self):\n",
    "        warnings.warn(\"LROCIndex not implemented yet.\")"
   ]
  }
 ],
 "metadata": {
  "kernelspec": {
   "display_name": "python3",
   "language": "python",
   "name": "python3"
  }
 },
 "nbformat": 4,
 "nbformat_minor": 5
}
