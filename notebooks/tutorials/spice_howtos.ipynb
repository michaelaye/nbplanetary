{
 "cells": [
  {
   "cell_type": "markdown",
   "id": "cd158aad-19ae-4bef-b227-8b7f68236476",
   "metadata": {},
   "source": [
    "# SPICE with `planetarypy` HOWTO\n",
    "> Several useful SPICE related HOWTOs posssible to do with `planetarypy`"
   ]
  },
  {
   "cell_type": "markdown",
   "id": "3385a873-6483-4acf-9b12-990deb8b454c",
   "metadata": {},
   "source": [
    "## Surface calculations on the Moon"
   ]
  },
  {
   "cell_type": "code",
   "execution_count": null,
   "id": "50beeabb-7198-4cd2-a1d8-97b5a08f4f61",
   "metadata": {},
   "outputs": [],
   "source": [
    "from astropy import units as u\n",
    "from numpy.linalg import norm\n",
    "\n",
    "from planetarypy.spice.spicer import MoonSpicer, MarsSpicer"
   ]
  },
  {
   "cell_type": "code",
   "execution_count": null,
   "id": "04c1f8c6-d154-4c40-b18b-d5cceefee98c",
   "metadata": {},
   "outputs": [],
   "source": [
    "moon = MoonSpicer(\"2022-02-22\")"
   ]
  },
  {
   "cell_type": "code",
   "execution_count": null,
   "id": "a936a2d7-0d3b-4fca-addd-490e362465eb",
   "metadata": {},
   "outputs": [
    {
     "data": {
      "text/plain": [
       "'2022-02-22T00:00:00'"
      ]
     },
     "execution_count": null,
     "metadata": {},
     "output_type": "execute_result"
    }
   ],
   "source": [
    "moon.time.isoformat()"
   ]
  },
  {
   "cell_type": "code",
   "execution_count": null,
   "id": "c28f4a35-4aec-4c16-9ff0-3b574ebccd69",
   "metadata": {},
   "outputs": [
    {
     "data": {
      "text/latex": [
       "$1388.4482 \\; \\mathrm{\\frac{W}{m^{2}}}$"
      ],
      "text/plain": [
       "<Quantity 1388.44815101 W / m2>"
      ]
     },
     "execution_count": null,
     "metadata": {},
     "output_type": "execute_result"
    }
   ],
   "source": [
    "moon.solar_constant"
   ]
  },
  {
   "cell_type": "code",
   "execution_count": null,
   "id": "114ac281-a4d2-4b13-88f8-922bd565a217",
   "metadata": {},
   "outputs": [],
   "source": [
    "moon.set_spoint_by(lat=0, lon=0)"
   ]
  },
  {
   "cell_type": "code",
   "execution_count": null,
   "id": "7618be27-08e8-48a9-b34c-e7212bab82f7",
   "metadata": {},
   "outputs": [],
   "source": [
    "moon.aspect = 180\n",
    "moon.tilt = 30"
   ]
  },
  {
   "cell_type": "code",
   "execution_count": null,
   "id": "fdfe5606-c1fd-416e-a7be-83dc5542ff95",
   "metadata": {},
   "outputs": [
    {
     "data": {
      "text/latex": [
       "$497.68762 \\; \\mathrm{\\frac{W}{m^{2}}}$"
      ],
      "text/plain": [
       "<Quantity 497.68762465 W / m2>"
      ]
     },
     "execution_count": null,
     "metadata": {},
     "output_type": "execute_result"
    }
   ],
   "source": [
    "moon.F_flat"
   ]
  },
  {
   "cell_type": "code",
   "execution_count": null,
   "id": "89e4de0a-6666-4d94-be80-92cb49ede408",
   "metadata": {},
   "outputs": [
    {
     "data": {
      "text/latex": [
       "$449.48514 \\; \\mathrm{\\frac{W}{m^{2}}}$"
      ],
      "text/plain": [
       "<Quantity 449.48513759 W / m2>"
      ]
     },
     "execution_count": null,
     "metadata": {},
     "output_type": "execute_result"
    }
   ],
   "source": [
    "moon.F_aspect"
   ]
  },
  {
   "cell_type": "code",
   "execution_count": null,
   "id": "05c5f2a1-20e6-480c-8c8b-3341e8becc59",
   "metadata": {},
   "outputs": [
    {
     "data": {
      "text/latex": [
       "$412.53511 \\; \\mathrm{\\frac{W}{m^{2}}}$"
      ],
      "text/plain": [
       "<Quantity 412.53511461 W / m2>"
      ]
     },
     "execution_count": null,
     "metadata": {},
     "output_type": "execute_result"
    }
   ],
   "source": [
    "moon.F_tilt"
   ]
  },
  {
   "cell_type": "code",
   "execution_count": null,
   "id": "67a0fe97-7f3d-4af1-ab92-4e35fb4880c3",
   "metadata": {},
   "outputs": [
    {
     "data": {
      "text/plain": [
       "array([  622.78676959, -1621.28270346,   -46.23629622])"
      ]
     },
     "execution_count": null,
     "metadata": {},
     "output_type": "execute_result"
    }
   ],
   "source": [
    "moon.subsolar"
   ]
  },
  {
   "cell_type": "code",
   "execution_count": null,
   "id": "8b3fcc0c-2aad-4341-8d8d-7062c0e862df",
   "metadata": {},
   "outputs": [
    {
     "data": {
      "text/plain": [
       "'16:35:58'"
      ]
     },
     "execution_count": null,
     "metadata": {},
     "output_type": "execute_result"
    }
   ],
   "source": [
    "moon.local_soltime"
   ]
  },
  {
   "cell_type": "code",
   "execution_count": null,
   "id": "03f46027-bc34-4fb6-bf3a-d89b89680fc1",
   "metadata": {},
   "outputs": [
    {
     "data": {
      "text/latex": [
       "$375365.92 \\; \\mathrm{km}$"
      ],
      "text/plain": [
       "<Quantity 375365.92476737 km>"
      ]
     },
     "execution_count": null,
     "metadata": {},
     "output_type": "execute_result"
    }
   ],
   "source": [
    "# MoonSpicer returns km (as all calculations in SPICE do)\n",
    "# use astropy.units to convert to other values\n",
    "norm(moon.body_to_object(\"EARTH\")[0]) * u.km"
   ]
  },
  {
   "cell_type": "code",
   "execution_count": null,
   "id": "c9a8f6d4-6b67-4849-be1b-211576f95453",
   "metadata": {},
   "outputs": [
    {
     "data": {
      "text/latex": [
       "$2.0379563 \\; \\mathrm{AU}$"
      ],
      "text/plain": [
       "<Quantity 2.03795634 AU>"
      ]
     },
     "execution_count": null,
     "metadata": {},
     "output_type": "execute_result"
    }
   ],
   "source": [
    "(norm(moon.body_to_object(\"MARS\")[0]) * u.km).to(u.AU)"
   ]
  },
  {
   "cell_type": "code",
   "execution_count": null,
   "id": "2b031942-e4cf-4b50-93cf-839d6b2febb6",
   "metadata": {},
   "outputs": [],
   "source": [
    "mars = MarsSpicer()"
   ]
  },
  {
   "cell_type": "code",
   "execution_count": null,
   "id": "6c6604bc-7b22-4d1d-91f2-b1c65ced4293",
   "metadata": {},
   "outputs": [
    {
     "data": {
      "text/plain": [
       "'2023-06-27T18:37:50.876055'"
      ]
     },
     "execution_count": null,
     "metadata": {},
     "output_type": "execute_result"
    }
   ],
   "source": [
    "mars.utc"
   ]
  },
  {
   "cell_type": "code",
   "execution_count": null,
   "id": "28f74fc3-a514-42b4-8a63-4d26e06e1510",
   "metadata": {},
   "outputs": [
    {
     "data": {
      "text/plain": [
       "83.31658188802474"
      ]
     },
     "execution_count": null,
     "metadata": {},
     "output_type": "execute_result"
    }
   ],
   "source": [
    "mars.l_s"
   ]
  },
  {
   "cell_type": "code",
   "execution_count": null,
   "id": "008a65b2-b576-44e2-8791-a55128d73c2e",
   "metadata": {},
   "outputs": [],
   "source": [
    "mars.goto('inca')"
   ]
  },
  {
   "cell_type": "code",
   "execution_count": null,
   "id": "ac3c28c4-fb32-48dc-987b-67883b5162fb",
   "metadata": {},
   "outputs": [
    {
     "data": {
      "text/plain": [
       "(220.09830399469547, -440.60853011059214, -3340.5081261541495)"
      ]
     },
     "execution_count": null,
     "metadata": {},
     "output_type": "execute_result"
    }
   ],
   "source": [
    "mars.spoint"
   ]
  },
  {
   "cell_type": "code",
   "execution_count": null,
   "id": "a81c102e-5701-4c85-92ab-e44b8c56b71d",
   "metadata": {},
   "outputs": [],
   "source": [
    "mars.aspect=180\n",
    "mars.tilt=30"
   ]
  },
  {
   "cell_type": "code",
   "execution_count": null,
   "id": "e467885d-a57b-4dd8-a3f9-c0a3d54d45b6",
   "metadata": {},
   "outputs": [
    {
     "data": {
      "text/latex": [
       "$0 \\; \\mathrm{\\frac{W}{m^{2}}}$"
      ],
      "text/plain": [
       "<Quantity 0. W / m2>"
      ]
     },
     "execution_count": null,
     "metadata": {},
     "output_type": "execute_result"
    }
   ],
   "source": [
    "mars.F_flat"
   ]
  },
  {
   "cell_type": "code",
   "execution_count": null,
   "id": "d75386f1-8c3d-4fae-8db2-7d4baa60f8c2",
   "metadata": {},
   "outputs": [
    {
     "data": {
      "text/latex": [
       "$0 \\; \\mathrm{\\frac{W}{m^{2}}}$"
      ],
      "text/plain": [
       "<Quantity 0. W / m2>"
      ]
     },
     "execution_count": null,
     "metadata": {},
     "output_type": "execute_result"
    }
   ],
   "source": [
    "mars.F_aspect"
   ]
  },
  {
   "cell_type": "code",
   "execution_count": null,
   "id": "f3ee6a0c-c2ff-4e9e-83ae-cb825a81dc46",
   "metadata": {},
   "outputs": [],
   "source": [
    "mars.set_spoint_by(lat=0, lon=0)"
   ]
  },
  {
   "cell_type": "code",
   "execution_count": null,
   "id": "e30d64ee-f7ee-46d7-b9cf-3a447bd55958",
   "metadata": {},
   "outputs": [
    {
     "data": {
      "text/latex": [
       "$339.2043 \\; \\mathrm{\\frac{W}{m^{2}}}$"
      ],
      "text/plain": [
       "<Quantity 339.20430241 W / m2>"
      ]
     },
     "execution_count": null,
     "metadata": {},
     "output_type": "execute_result"
    }
   ],
   "source": [
    "mars.F_flat"
   ]
  },
  {
   "cell_type": "code",
   "execution_count": null,
   "id": "e069b261-5acd-4db6-a6df-de5fc078bae3",
   "metadata": {},
   "outputs": [
    {
     "data": {
      "text/latex": [
       "$397.92501 \\; \\mathrm{\\frac{W}{m^{2}}}$"
      ],
      "text/plain": [
       "<Quantity 397.92501469 W / m2>"
      ]
     },
     "execution_count": null,
     "metadata": {},
     "output_type": "execute_result"
    }
   ],
   "source": [
    "mars.F_tilt"
   ]
  },
  {
   "cell_type": "code",
   "execution_count": null,
   "id": "cbab5bf0-7f6d-4a96-9775-0d686fdca622",
   "metadata": {},
   "outputs": [],
   "source": []
  }
 ],
 "metadata": {
  "kernelspec": {
   "display_name": "conda-env-py39_pdw2023-py",
   "language": "python",
   "name": "conda-env-py39_pdw2023-py"
  }
 },
 "nbformat": 4,
 "nbformat_minor": 5
}
