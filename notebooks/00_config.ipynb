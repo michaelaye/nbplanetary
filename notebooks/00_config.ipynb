{
 "cells": [
  {
   "cell_type": "code",
   "execution_count": null,
   "metadata": {},
   "outputs": [],
   "source": [
    "# default_exp config"
   ]
  },
  {
   "cell_type": "markdown",
   "metadata": {},
   "source": [
    "# Config\n",
    "\n",
    "> This module manages configuration of the `planetarypy` package."
   ]
  },
  {
   "cell_type": "code",
   "execution_count": null,
   "metadata": {},
   "outputs": [],
   "source": [
    "# hide\n",
    "from nbdev.showdoc import show_doc"
   ]
  },
  {
   "cell_type": "code",
   "execution_count": null,
   "metadata": {},
   "outputs": [],
   "source": [
    "# export\n",
    "import os\n",
    "import shutil\n",
    "from functools import reduce\n",
    "from importlib.resources import path as resource_path\n",
    "from fastcore.utils import Path\n",
    "\n",
    "import strictyaml as yaml"
   ]
  },
  {
   "cell_type": "code",
   "execution_count": null,
   "metadata": {},
   "outputs": [],
   "source": [
    "# exports\n",
    "class Config:\n",
    "    \"\"\"Manage config stuff.\n",
    "\n",
    "    Attributes\n",
    "    -------\n",
    "    path: pathlib.Path\n",
    "\n",
    "    The key, value pairs found in the config file become attributes of the\n",
    "    class instance after initialization.\n",
    "    At minimum, there should be the `storage_root` attribute for storing data\n",
    "    for this package.\n",
    "    \"\"\"\n",
    "\n",
    "    # This part enables a config path location override using env PYCISS_CONFIG\n",
    "    fname = \"planetarypy_config.yaml\"\n",
    "    # separating fname from fpath so that resource_path below is correct.\n",
    "    path = Path(os.getenv(\"PLANETARYPY_CONFIG\", Path.home() / f\".{fname}\"))\n",
    "\n",
    "    def __init__(self, config_path=None):\n",
    "        \"Switch to other config file location with `config_path`.\"\n",
    "        if config_path is not None:\n",
    "            self.path = Path(config_path)\n",
    "        if not self.path.exists():\n",
    "            with resource_path(\"planetarypy.data\", self.fname) as p:\n",
    "                shutil.copy(p, self.path)\n",
    "        self.read_config()\n",
    "\n",
    "    def read_config(self):\n",
    "        \"\"\"Read the configfile and store config dict.\n",
    "\n",
    "        If found, load config via `yaml` and store YAML dict as `d`.\n",
    "        `storage_root` will be stored as attribute.\n",
    "        \"\"\"\n",
    "        self.yamldic = yaml.load(self.path.read_text())\n",
    "        if not self.yamldic[\"storage_root\"].data:\n",
    "            self.ask_storage_root()\n",
    "        else:\n",
    "            self.storage_root = Path(self.yamldic[\"storage_root\"].data)\n",
    "\n",
    "    @property\n",
    "    def d(self):\n",
    "        \"get the Python dic from YAML dict.\"\n",
    "        return self.yamldic.data\n",
    "\n",
    "    def get_value(self, key):\n",
    "        \"\"\"Get sub-dictionary by nested key.\n",
    "\n",
    "        Parameters\n",
    "        ----------\n",
    "        nested_key: str\n",
    "            A nested key in dotted format, e.g. cassini.uvis.indexes\n",
    "        \"\"\"\n",
    "        return reduce(lambda c, k: c[k], key.split(\".\"), self.d)\n",
    "\n",
    "    def set_value(self, nested_key, value, save=True):\n",
    "        \"\"\"Set sub-dic using dotted key.\n",
    "\n",
    "        Parameters\n",
    "        ----------\n",
    "        key: str\n",
    "            A nested key in dotted format, e.g. cassini.uvis.ring_summary\n",
    "        value: convertable to string\n",
    "            Value for the given key to be stored.\n",
    "        \"\"\"\n",
    "        dic = self.yamldic\n",
    "        keys = nested_key.split(\".\")\n",
    "        for key in keys[:-1]:\n",
    "            dic = dic[key]\n",
    "        dic[keys[-1]] = value\n",
    "        if save:\n",
    "            self.save()\n",
    "\n",
    "    def save(self):\n",
    "        \"Write the YAML dict to file.\"\n",
    "        self.path.write_text(self.yamldic.as_yaml())\n",
    "\n",
    "    def ask_storage_root(self):\n",
    "        \"\"\"Use input() to ask user for the storage_root path.\n",
    "\n",
    "        The path will be stored in the YAML-dict and saved into existing config file\n",
    "        at `Class.path`, either default or as given during init.\n",
    "        `storage_root` attribute is set as well.\n",
    "        \"\"\"\n",
    "        path = input(\n",
    "            \"Provide the root storage path where all downloaded and produced data will be stored:\"\n",
    "        )\n",
    "        self.yamldic[\"storage_root\"] = path\n",
    "        self.storage_root = Path(path)\n",
    "        self.save()\n",
    "\n",
    "    def list_missions(self):\n",
    "        return list(self.d[\"missions\"].keys())\n",
    "\n",
    "    def list_instruments(self, mission):\n",
    "        if not mission.startswith(\"missions\"):\n",
    "            mission = \"missions.\" + mission\n",
    "        instruments = self.get_value(mission)\n",
    "        return list(instruments.keys())\n",
    "\n",
    "    def list_indexes(self, instrument):\n",
    "        \"instrument key needs to be <mission>.<instrument>\"\n",
    "        if not instrument.startswith(\"missions\"):\n",
    "            instrument = \"missions.\" + instrument\n",
    "        indexes = self.get_value(instrument + \".indexes\")\n",
    "        return list(indexes)\n",
    "\n",
    "    def get_clean_copy(self, new_path):\n",
    "        \"Create a clean copy without timestamps for repo upload.\"\n",
    "        dic = self.yamldic.copy()\n",
    "        missions = dic['missions']\n",
    "        for mission in missions.keys():\n",
    "            mdict = missions[mission]\n",
    "            for instr in mdict.keys():\n",
    "                instrdict = mdict[instr]\n",
    "                for index in instrdict['indexes']:\n",
    "                    instrdict['indexes'][index]['timestamp']=''\n",
    "        Path(new_path).write_text(dic.as_yaml())\n",
    "        return Config(config_path=new_path)"
   ]
  },
  {
   "cell_type": "code",
   "execution_count": null,
   "metadata": {},
   "outputs": [],
   "source": [
    "config = Config()"
   ]
  },
  {
   "cell_type": "code",
   "execution_count": null,
   "metadata": {},
   "outputs": [],
   "source": [
    "dic = config.yamldic.copy()"
   ]
  },
  {
   "cell_type": "code",
   "execution_count": null,
   "metadata": {},
   "outputs": [],
   "source": [
    "clean_config = config.get_clean_copy(\"test_config.yaml\")"
   ]
  },
  {
   "cell_type": "code",
   "execution_count": null,
   "metadata": {},
   "outputs": [
    {
     "data": {
      "text/plain": [
       "Path('test_config.yaml')"
      ]
     },
     "execution_count": null,
     "metadata": {},
     "output_type": "execute_result"
    }
   ],
   "source": [
    "clean_config.path"
   ]
  },
  {
   "cell_type": "markdown",
   "metadata": {},
   "source": [
    "## Reference\n",
    "The nested structure code was taken from this brilliant blog post:\n",
    "\n",
    "https://nvie.com/posts/modifying-deeply-nested-structures\n"
   ]
  },
  {
   "cell_type": "code",
   "execution_count": null,
   "metadata": {},
   "outputs": [
    {
     "data": {
      "text/plain": [
       "YAML({'cassini': {'iss': {'indexes': {'index': {'url': 'https://pds-rings.seti.org/holdings/metadata/COISS_2xxx/COISS_2999/COISS_2999_index.lbl', 'timestamp': ''}, 'inventory': {'url': 'https://pds-rings.seti.org/holdings/metadata/COISS_2xxx/COISS_2999/COISS_2999_inventory.lbl', 'timestamp': ''}, 'moon_summary': {'url': 'https://pds-rings.seti.org/holdings/metadata/COISS_2xxx/COISS_2999/COISS_2999_moon_summary.lbl', 'timestamp': '2019-06-08T16:28:22'}, 'ring_summary': {'url': 'https://pds-rings.seti.org/holdings/metadata/COISS_2xxx/COISS_2999/COISS_2999_ring_summary.lbl', 'timestamp': '2019-06-08T16:29:20'}, 'saturn_summary': {'url': 'https://pds-rings.seti.org/holdings/metadata/COISS_2xxx/COISS_2999/COISS_2999_saturn_summary.lbl', 'timestamp': '2019-06-08T16:30:12'}}}, 'uvis': {'indexes': {'index': {'url': 'https://pds-rings.seti.org/holdings/metadata/COUVIS_0xxx/COUVIS_0999/COUVIS_0999_index.lbl', 'timestamp': '2021-01-20T19:57:23'}, 'moon_summary': {'url': 'https://pds-rings.seti.org/holdings/metadata/COUVIS_0xxx/COUVIS_0999/COUVIS_0999_moon_summary.lbl', 'timestamp': '2018-08-22T02:40:11'}, 'ring_summary': {'url': 'https://pds-rings.seti.org/holdings/metadata/COUVIS_0xxx/COUVIS_0999/COUVIS_0999_ring_summary.lbl', 'timestamp': '2018-08-22T02:40:56'}, 'saturn_summary': {'url': 'https://pds-rings.seti.org/holdings/metadata/COUVIS_0xxx/COUVIS_0999/COUVIS_0999_saturn_summary.lbl', 'timestamp': '2018-08-22T02:41:14'}, 'supplemental_index': {'url': 'https://pds-rings.seti.org/holdings/metadata/COUVIS_0xxx/COUVIS_0999/COUVIS_0999_supplemental_index.lbl', 'timestamp': '2021-01-21T00:55:20'}, 'versions': {'url': 'https://pds-rings.seti.org/holdings/metadata/COUVIS_0xxx/COUVIS_0999/COUVIS_0999_versions.lbl', 'timestamp': '2021-02-21T20:02:40'}}}}, 'mro': {'hirise': {'indexes': {'dtm': {'url': 'https://hirise-pds.lpl.arizona.edu/PDS/INDEX/DTMCUMINDEX.LBL', 'timestamp': ''}, 'edr': {'url': 'https://hirise-pds.lpl.arizona.edu/PDS/INDEX/EDRCUMINDEX.LBL', 'timestamp': ''}, 'rdr': {'url': 'https://hirise-pds.lpl.arizona.edu/PDS/INDEX/RDRCUMINDEX.LBL', 'timestamp': '2021-07-28T03:09:28'}}}, 'ctx': {'indexes': {'edr': {'timestamp': '2021-04-20T21:18:41'}}}}, 'lro': {'diviner': {'indexes': {'edr1': {'url': 'https://pds-geosciences.wustl.edu/lro/lro-l-dlre-2-edr-v1/lrodlr_0001/index/index.lbl', 'timestamp': ''}, 'edr2': {'url': 'https://pds-geosciences.wustl.edu/lro/lro-l-dlre-2-edr-v1/lrodlr_0002/index/index.lbl', 'timestamp': ''}, 'rdr1': {'url': 'https://pds-geosciences.wustl.edu/lro/lro-l-dlre-4-rdr-v1/lrodlr_1001/index/rdrindex.lbl', 'timestamp': ''}, 'rdr2': {'url': 'https://pds-geosciences.wustl.edu/lro/lro-l-dlre-4-rdr-v1/lrodlr_1002/index/rdrindex.lbl', 'timestamp': ''}}}, 'lola': {'indexes': {'edr': {'url': 'http://pds-geosciences.wustl.edu/lro/lro-l-lola-2-edr-v1/lrolol_0xxx/index/edrindex.lbl', 'timestamp': ''}, 'rdr': {'url': 'http://pds-geosciences.wustl.edu/lro/lro-l-lola-3-rdr-v1/lrolol_1xxx/index/rdrindex.lbl', 'timestamp': ''}}}}})"
      ]
     },
     "execution_count": null,
     "metadata": {},
     "output_type": "execute_result"
    }
   ],
   "source": [
    "missions = dic['missions']\n",
    "missions"
   ]
  },
  {
   "cell_type": "code",
   "execution_count": null,
   "metadata": {},
   "outputs": [],
   "source": [
    "for mission in missions.keys():\n",
    "    mdict = missions[mission]\n",
    "    for instr in mdict.keys():\n",
    "        instrdict = mdict[instr]\n",
    "        for index in instrdict['indexes']:\n",
    "            instrdict['indexes'][index]['timestamp']='test'"
   ]
  },
  {
   "cell_type": "code",
   "execution_count": null,
   "metadata": {},
   "outputs": [
    {
     "data": {
      "text/plain": [
       "YAML({'cassini': {'iss': {'indexes': {'index': {'url': 'https://pds-rings.seti.org/holdings/metadata/COISS_2xxx/COISS_2999/COISS_2999_index.lbl', 'timestamp': 'test'}, 'inventory': {'url': 'https://pds-rings.seti.org/holdings/metadata/COISS_2xxx/COISS_2999/COISS_2999_inventory.lbl', 'timestamp': 'test'}, 'moon_summary': {'url': 'https://pds-rings.seti.org/holdings/metadata/COISS_2xxx/COISS_2999/COISS_2999_moon_summary.lbl', 'timestamp': 'test'}, 'ring_summary': {'url': 'https://pds-rings.seti.org/holdings/metadata/COISS_2xxx/COISS_2999/COISS_2999_ring_summary.lbl', 'timestamp': 'test'}, 'saturn_summary': {'url': 'https://pds-rings.seti.org/holdings/metadata/COISS_2xxx/COISS_2999/COISS_2999_saturn_summary.lbl', 'timestamp': 'test'}}}, 'uvis': {'indexes': {'index': {'url': 'https://pds-rings.seti.org/holdings/metadata/COUVIS_0xxx/COUVIS_0999/COUVIS_0999_index.lbl', 'timestamp': 'test'}, 'moon_summary': {'url': 'https://pds-rings.seti.org/holdings/metadata/COUVIS_0xxx/COUVIS_0999/COUVIS_0999_moon_summary.lbl', 'timestamp': 'test'}, 'ring_summary': {'url': 'https://pds-rings.seti.org/holdings/metadata/COUVIS_0xxx/COUVIS_0999/COUVIS_0999_ring_summary.lbl', 'timestamp': 'test'}, 'saturn_summary': {'url': 'https://pds-rings.seti.org/holdings/metadata/COUVIS_0xxx/COUVIS_0999/COUVIS_0999_saturn_summary.lbl', 'timestamp': 'test'}, 'supplemental_index': {'url': 'https://pds-rings.seti.org/holdings/metadata/COUVIS_0xxx/COUVIS_0999/COUVIS_0999_supplemental_index.lbl', 'timestamp': 'test'}, 'versions': {'url': 'https://pds-rings.seti.org/holdings/metadata/COUVIS_0xxx/COUVIS_0999/COUVIS_0999_versions.lbl', 'timestamp': 'test'}}}}, 'mro': {'hirise': {'indexes': {'dtm': {'url': 'https://hirise-pds.lpl.arizona.edu/PDS/INDEX/DTMCUMINDEX.LBL', 'timestamp': 'test'}, 'edr': {'url': 'https://hirise-pds.lpl.arizona.edu/PDS/INDEX/EDRCUMINDEX.LBL', 'timestamp': 'test'}, 'rdr': {'url': 'https://hirise-pds.lpl.arizona.edu/PDS/INDEX/RDRCUMINDEX.LBL', 'timestamp': 'test'}}}, 'ctx': {'indexes': {'edr': {'timestamp': 'test'}}}}, 'lro': {'diviner': {'indexes': {'edr1': {'url': 'https://pds-geosciences.wustl.edu/lro/lro-l-dlre-2-edr-v1/lrodlr_0001/index/index.lbl', 'timestamp': 'test'}, 'edr2': {'url': 'https://pds-geosciences.wustl.edu/lro/lro-l-dlre-2-edr-v1/lrodlr_0002/index/index.lbl', 'timestamp': 'test'}, 'rdr1': {'url': 'https://pds-geosciences.wustl.edu/lro/lro-l-dlre-4-rdr-v1/lrodlr_1001/index/rdrindex.lbl', 'timestamp': 'test'}, 'rdr2': {'url': 'https://pds-geosciences.wustl.edu/lro/lro-l-dlre-4-rdr-v1/lrodlr_1002/index/rdrindex.lbl', 'timestamp': 'test'}}}, 'lola': {'indexes': {'edr': {'url': 'http://pds-geosciences.wustl.edu/lro/lro-l-lola-2-edr-v1/lrolol_0xxx/index/edrindex.lbl', 'timestamp': 'test'}, 'rdr': {'url': 'http://pds-geosciences.wustl.edu/lro/lro-l-lola-3-rdr-v1/lrolol_1xxx/index/rdrindex.lbl', 'timestamp': 'test'}}}}})"
      ]
     },
     "execution_count": null,
     "metadata": {},
     "output_type": "execute_result"
    }
   ],
   "source": [
    "missions"
   ]
  },
  {
   "cell_type": "markdown",
   "metadata": {},
   "source": [
    "## The Config() object\n",
    "\n",
    "The `config` module instantiates a `config` object from the Config class.\n",
    "Its attributes can be used to access several aspects relevant to the configuration of `planetarypy`.\n",
    "Using an object approach enables easy growth and nesting over time.\n",
    "\n",
    "> Note: Any cell that starts with an `# export` becomes part of the library.\n",
    "  Any other cells become automatically part of tests.\n",
    "  `exports` also adds the exported code to the docs.\n",
    "  \n",
    "> Note: A good \"First issue\" for collaborators would be to improve the Config class to be able to merge a new larger index catalog with an existing one the user might have configured. This will need to take care of existing timestamps and possible other indexes that were put in by the user."
   ]
  },
  {
   "cell_type": "code",
   "execution_count": null,
   "metadata": {},
   "outputs": [
    {
     "name": "stdout",
     "output_type": "stream",
     "text": [
      "index\n",
      "inventory\n",
      "moon_summary\n",
      "ring_summary\n",
      "saturn_summary\n",
      "index\n",
      "moon_summary\n",
      "ring_summary\n",
      "saturn_summary\n",
      "supplemental_index\n",
      "versions\n",
      "dtm\n",
      "edr\n",
      "rdr\n",
      "edr\n",
      "edr1\n",
      "edr2\n",
      "rdr1\n",
      "rdr2\n",
      "edr\n",
      "rdr\n"
     ]
    }
   ],
   "source": [
    "for mission in config.list_missions():\n",
    "    for instrument in config.list_instruments(mission):\n",
    "        for index in config.list_indexes(f\"{mission}.{instrument}\"):\n",
    "#             key = \".\".join(['missions', mission, instrument, index])\n",
    "            print(index)"
   ]
  },
  {
   "cell_type": "code",
   "execution_count": null,
   "metadata": {},
   "outputs": [],
   "source": []
  },
  {
   "cell_type": "code",
   "execution_count": null,
   "metadata": {},
   "outputs": [],
   "source": []
  },
  {
   "cell_type": "code",
   "execution_count": null,
   "metadata": {},
   "outputs": [],
   "source": [
    "config = Config(config_path='test_config.yaml')"
   ]
  },
  {
   "cell_type": "code",
   "execution_count": null,
   "metadata": {},
   "outputs": [],
   "source": [
    "# export\n",
    "config = Config()"
   ]
  },
  {
   "cell_type": "code",
   "execution_count": null,
   "metadata": {},
   "outputs": [
    {
     "data": {
      "text/plain": [
       "Path('/home/maye/big_drive/planetary_data')"
      ]
     },
     "execution_count": null,
     "metadata": {},
     "output_type": "execute_result"
    }
   ],
   "source": [
    "config.storage_root"
   ]
  },
  {
   "cell_type": "code",
   "execution_count": null,
   "metadata": {},
   "outputs": [
    {
     "data": {
      "text/markdown": [
       "<h4 id=\"Config.read_config\" class=\"doc_header\"><code>Config.read_config</code><a href=\"__main__.py#L28\" class=\"source_link\" style=\"float:right\">[source]</a></h4>\n",
       "\n",
       "> <code>Config.read_config</code>()\n",
       "\n",
       "```\n",
       "Read the configfile and store config dict.\n",
       "\n",
       "If found, load config via `yaml` and store YAML dict as `d`.\n",
       "`storage_root` will be stored as attribute.\n",
       "```"
      ],
      "text/plain": [
       "<IPython.core.display.Markdown object>"
      ]
     },
     "metadata": {},
     "output_type": "display_data"
    }
   ],
   "source": [
    "show_doc(Config.read_config)"
   ]
  },
  {
   "cell_type": "code",
   "execution_count": null,
   "metadata": {},
   "outputs": [],
   "source": [
    "assert isinstance(config.yamldic, yaml.YAML)"
   ]
  },
  {
   "cell_type": "code",
   "execution_count": null,
   "metadata": {},
   "outputs": [],
   "source": [
    "assert isinstance(config.d, dict)"
   ]
  },
  {
   "cell_type": "code",
   "execution_count": null,
   "metadata": {},
   "outputs": [
    {
     "data": {
      "text/markdown": [
       "<h4 id=\"Config.get_value\" class=\"doc_header\"><code>Config.get_value</code><a href=\"__main__.py#L45\" class=\"source_link\" style=\"float:right\">[source]</a></h4>\n",
       "\n",
       "> <code>Config.get_value</code>(**`key`**)\n",
       "\n",
       "```\n",
       "Get sub-dictionary by nested key.\n",
       "\n",
       "Parameters\n",
       "----------\n",
       "nested_key: str\n",
       "    A nested key in dotted format, e.g. cassini.uvis.indexes\n",
       "```"
      ],
      "text/plain": [
       "<IPython.core.display.Markdown object>"
      ]
     },
     "metadata": {},
     "output_type": "display_data"
    }
   ],
   "source": [
    "show_doc(Config.get_value)"
   ]
  },
  {
   "cell_type": "code",
   "execution_count": null,
   "metadata": {},
   "outputs": [],
   "source": [
    "index = 'missions.cassini.iss.indexes.moon_summary'"
   ]
  },
  {
   "cell_type": "code",
   "execution_count": null,
   "metadata": {},
   "outputs": [
    {
     "data": {
      "text/plain": [
       "{'url': 'https://pds-rings.seti.org/holdings/metadata/COISS_2xxx/COISS_2999/COISS_2999_moon_summary.lbl',\n",
       " 'timestamp': '2019-06-08T16:28:22'}"
      ]
     },
     "execution_count": null,
     "metadata": {},
     "output_type": "execute_result"
    }
   ],
   "source": [
    "config.get_value(index)"
   ]
  },
  {
   "cell_type": "code",
   "execution_count": null,
   "metadata": {},
   "outputs": [
    {
     "data": {
      "text/markdown": [
       "<h4 id=\"Config.set_value\" class=\"doc_header\"><code>Config.set_value</code><a href=\"__main__.py#L55\" class=\"source_link\" style=\"float:right\">[source]</a></h4>\n",
       "\n",
       "> <code>Config.set_value</code>(**`nested_key`**, **`value`**)\n",
       "\n",
       "```\n",
       "Set sub-dic using dotted key.\n",
       "\n",
       "Parameters\n",
       "----------\n",
       "key: str\n",
       "    A nested key in dotted format, e.g. cassini.uvis.ring_summary\n",
       "value: convertable to string\n",
       "    Value for the given key to be stored.\n",
       "```"
      ],
      "text/plain": [
       "<IPython.core.display.Markdown object>"
      ]
     },
     "metadata": {},
     "output_type": "display_data"
    }
   ],
   "source": [
    "show_doc(Config.set_value)"
   ]
  },
  {
   "cell_type": "code",
   "execution_count": null,
   "metadata": {},
   "outputs": [
    {
     "data": {
      "text/markdown": [
       "<h4 id=\"Config.save\" class=\"doc_header\"><code>Config.save</code><a href=\"__main__.py#L72\" class=\"source_link\" style=\"float:right\">[source]</a></h4>\n",
       "\n",
       "> <code>Config.save</code>()\n",
       "\n",
       "```\n",
       "Write the YAML dict to file.\n",
       "```"
      ],
      "text/plain": [
       "<IPython.core.display.Markdown object>"
      ]
     },
     "metadata": {},
     "output_type": "display_data"
    }
   ],
   "source": [
    "show_doc(Config.save)"
   ]
  },
  {
   "cell_type": "code",
   "execution_count": null,
   "metadata": {},
   "outputs": [
    {
     "data": {
      "text/plain": [
       "{'url': 'https://pds-rings.seti.org/holdings/metadata/COISS_2xxx/COISS_2999/COISS_2999_moon_summary.lbl',\n",
       " 'timestamp': '2019-06-08T16:28:22'}"
      ]
     },
     "execution_count": null,
     "metadata": {},
     "output_type": "execute_result"
    }
   ],
   "source": [
    "config.get_value(index)"
   ]
  },
  {
   "cell_type": "code",
   "execution_count": null,
   "metadata": {},
   "outputs": [
    {
     "data": {
      "text/markdown": [
       "<h4 id=\"Config.ask_storage_root\" class=\"doc_header\"><code>Config.ask_storage_root</code><a href=\"__main__.py#L79\" class=\"source_link\" style=\"float:right\">[source]</a></h4>\n",
       "\n",
       "> <code>Config.ask_storage_root</code>()\n",
       "\n",
       "```\n",
       "Use input() to ask user for the storage_root path.\n",
       "\n",
       "The path will be stored in the YAML-dict and saved into existing config file\n",
       "at `Class.path`, either default or as given during init.\n",
       "`storage_root` attribute is set as well.\n",
       "```"
      ],
      "text/plain": [
       "<IPython.core.display.Markdown object>"
      ]
     },
     "metadata": {},
     "output_type": "display_data"
    }
   ],
   "source": [
    "show_doc(Config.ask_storage_root)"
   ]
  },
  {
   "cell_type": "code",
   "execution_count": null,
   "metadata": {},
   "outputs": [
    {
     "data": {
      "text/plain": [
       "['cassini', 'mro', 'lro']"
      ]
     },
     "execution_count": null,
     "metadata": {},
     "output_type": "execute_result"
    }
   ],
   "source": [
    "config.list_missions()"
   ]
  },
  {
   "cell_type": "code",
   "execution_count": null,
   "metadata": {},
   "outputs": [
    {
     "data": {
      "text/plain": [
       "'planetarypy_config.yaml'"
      ]
     },
     "execution_count": null,
     "metadata": {},
     "output_type": "execute_result"
    }
   ],
   "source": [
    "config.fname"
   ]
  },
  {
   "cell_type": "code",
   "execution_count": null,
   "metadata": {},
   "outputs": [
    {
     "data": {
      "text/plain": [
       "Path('/home/maye/.planetarypy_config.yaml')"
      ]
     },
     "execution_count": null,
     "metadata": {},
     "output_type": "execute_result"
    }
   ],
   "source": [
    "config.path"
   ]
  },
  {
   "cell_type": "code",
   "execution_count": null,
   "metadata": {},
   "outputs": [
    {
     "data": {
      "text/plain": [
       "['iss', 'uvis']"
      ]
     },
     "execution_count": null,
     "metadata": {},
     "output_type": "execute_result"
    }
   ],
   "source": [
    "config.list_instruments('cassini')"
   ]
  },
  {
   "cell_type": "code",
   "execution_count": null,
   "metadata": {},
   "outputs": [
    {
     "data": {
      "text/plain": [
       "['index', 'inventory', 'moon_summary', 'ring_summary', 'saturn_summary']"
      ]
     },
     "execution_count": null,
     "metadata": {},
     "output_type": "execute_result"
    }
   ],
   "source": [
    "config.list_indexes('cassini.iss')"
   ]
  },
  {
   "cell_type": "code",
   "execution_count": null,
   "metadata": {},
   "outputs": [
    {
     "data": {
      "text/plain": [
       "{'storage_root': '/home/maye/big_drive/planetary_data',\n",
       " 'missions': {'cassini': {'iss': {'indexes': {'index': {'url': 'https://pds-rings.seti.org/holdings/metadata/COISS_2xxx/COISS_2999/COISS_2999_index.lbl',\n",
       "      'timestamp': ''},\n",
       "     'inventory': {'url': 'https://pds-rings.seti.org/holdings/metadata/COISS_2xxx/COISS_2999/COISS_2999_inventory.lbl',\n",
       "      'timestamp': ''},\n",
       "     'moon_summary': {'url': 'https://pds-rings.seti.org/holdings/metadata/COISS_2xxx/COISS_2999/COISS_2999_moon_summary.lbl',\n",
       "      'timestamp': '2019-06-08T16:28:22'},\n",
       "     'ring_summary': {'url': 'https://pds-rings.seti.org/holdings/metadata/COISS_2xxx/COISS_2999/COISS_2999_ring_summary.lbl',\n",
       "      'timestamp': '2019-06-08T16:29:20'},\n",
       "     'saturn_summary': {'url': 'https://pds-rings.seti.org/holdings/metadata/COISS_2xxx/COISS_2999/COISS_2999_saturn_summary.lbl',\n",
       "      'timestamp': '2019-06-08T16:30:12'}}},\n",
       "   'uvis': {'indexes': {'index': {'url': 'https://pds-rings.seti.org/holdings/metadata/COUVIS_0xxx/COUVIS_0999/COUVIS_0999_index.lbl',\n",
       "      'timestamp': '2021-01-20T19:57:23'},\n",
       "     'moon_summary': {'url': 'https://pds-rings.seti.org/holdings/metadata/COUVIS_0xxx/COUVIS_0999/COUVIS_0999_moon_summary.lbl',\n",
       "      'timestamp': '2018-08-22T02:40:11'},\n",
       "     'ring_summary': {'url': 'https://pds-rings.seti.org/holdings/metadata/COUVIS_0xxx/COUVIS_0999/COUVIS_0999_ring_summary.lbl',\n",
       "      'timestamp': '2018-08-22T02:40:56'},\n",
       "     'saturn_summary': {'url': 'https://pds-rings.seti.org/holdings/metadata/COUVIS_0xxx/COUVIS_0999/COUVIS_0999_saturn_summary.lbl',\n",
       "      'timestamp': '2018-08-22T02:41:14'},\n",
       "     'supplemental_index': {'url': 'https://pds-rings.seti.org/holdings/metadata/COUVIS_0xxx/COUVIS_0999/COUVIS_0999_supplemental_index.lbl',\n",
       "      'timestamp': '2021-01-21T00:55:20'},\n",
       "     'versions': {'url': 'https://pds-rings.seti.org/holdings/metadata/COUVIS_0xxx/COUVIS_0999/COUVIS_0999_versions.lbl',\n",
       "      'timestamp': '2021-02-21T20:02:40'}}}},\n",
       "  'mro': {'hirise': {'indexes': {'dtm': {'url': 'https://hirise-pds.lpl.arizona.edu/PDS/INDEX/DTMCUMINDEX.LBL',\n",
       "      'timestamp': ''},\n",
       "     'edr': {'url': 'https://hirise-pds.lpl.arizona.edu/PDS/INDEX/EDRCUMINDEX.LBL',\n",
       "      'timestamp': ''},\n",
       "     'rdr': {'url': 'https://hirise-pds.lpl.arizona.edu/PDS/INDEX/RDRCUMINDEX.LBL',\n",
       "      'timestamp': '2021-07-28T03:09:28'}}},\n",
       "   'ctx': {'indexes': {'edr': {'timestamp': '2021-04-20T21:18:41'}}}},\n",
       "  'lro': {'diviner': {'indexes': {'edr1': {'url': 'https://pds-geosciences.wustl.edu/lro/lro-l-dlre-2-edr-v1/lrodlr_0001/index/index.lbl',\n",
       "      'timestamp': ''},\n",
       "     'edr2': {'url': 'https://pds-geosciences.wustl.edu/lro/lro-l-dlre-2-edr-v1/lrodlr_0002/index/index.lbl',\n",
       "      'timestamp': ''},\n",
       "     'rdr1': {'url': 'https://pds-geosciences.wustl.edu/lro/lro-l-dlre-4-rdr-v1/lrodlr_1001/index/rdrindex.lbl',\n",
       "      'timestamp': ''},\n",
       "     'rdr2': {'url': 'https://pds-geosciences.wustl.edu/lro/lro-l-dlre-4-rdr-v1/lrodlr_1002/index/rdrindex.lbl',\n",
       "      'timestamp': ''}}},\n",
       "   'lola': {'indexes': {'edr': {'url': 'http://pds-geosciences.wustl.edu/lro/lro-l-lola-2-edr-v1/lrolol_0xxx/index/edrindex.lbl',\n",
       "      'timestamp': ''},\n",
       "     'rdr': {'url': 'http://pds-geosciences.wustl.edu/lro/lro-l-lola-3-rdr-v1/lrolol_1xxx/index/rdrindex.lbl',\n",
       "      'timestamp': ''}}}}}}"
      ]
     },
     "execution_count": null,
     "metadata": {},
     "output_type": "execute_result"
    }
   ],
   "source": [
    "config.d"
   ]
  },
  {
   "cell_type": "code",
   "execution_count": null,
   "metadata": {},
   "outputs": [
    {
     "name": "stdout",
     "output_type": "stream",
     "text": [
      "<class 'strictyaml.representation.YAML'>\n"
     ]
    },
    {
     "ename": "TypeError",
     "evalue": "sequence item 1: expected str instance, YAML found",
     "output_type": "error",
     "traceback": [
      "\u001b[0;31m---------------------------------------------------------------------------\u001b[0m",
      "\u001b[0;31mTypeError\u001b[0m                                 Traceback (most recent call last)",
      "\u001b[0;32m/tmp/ipykernel_72629/3151869597.py\u001b[0m in \u001b[0;36m<module>\u001b[0;34m\u001b[0m\n\u001b[1;32m      3\u001b[0m     \u001b[0;32mfor\u001b[0m \u001b[0minstrument\u001b[0m \u001b[0;32min\u001b[0m \u001b[0mtoclean\u001b[0m\u001b[0;34m[\u001b[0m\u001b[0;34m'missions'\u001b[0m\u001b[0;34m]\u001b[0m\u001b[0;34m[\u001b[0m\u001b[0mmission\u001b[0m\u001b[0;34m]\u001b[0m\u001b[0;34m.\u001b[0m\u001b[0mkeys\u001b[0m\u001b[0;34m(\u001b[0m\u001b[0;34m)\u001b[0m\u001b[0;34m:\u001b[0m\u001b[0;34m\u001b[0m\u001b[0;34m\u001b[0m\u001b[0m\n\u001b[1;32m      4\u001b[0m         \u001b[0;32mfor\u001b[0m \u001b[0mindex\u001b[0m \u001b[0;32min\u001b[0m \u001b[0mtoclean\u001b[0m\u001b[0;34m[\u001b[0m\u001b[0;34m'missions'\u001b[0m\u001b[0;34m]\u001b[0m\u001b[0;34m[\u001b[0m\u001b[0mmission\u001b[0m\u001b[0;34m]\u001b[0m\u001b[0;34m[\u001b[0m\u001b[0minstrument\u001b[0m\u001b[0;34m]\u001b[0m\u001b[0;34m[\u001b[0m\u001b[0;34m'indexes'\u001b[0m\u001b[0;34m]\u001b[0m\u001b[0;34m.\u001b[0m\u001b[0mkeys\u001b[0m\u001b[0;34m(\u001b[0m\u001b[0;34m)\u001b[0m\u001b[0;34m:\u001b[0m\u001b[0;34m\u001b[0m\u001b[0;34m\u001b[0m\u001b[0m\n\u001b[0;32m----> 5\u001b[0;31m             \u001b[0mkey\u001b[0m \u001b[0;34m=\u001b[0m \u001b[0;34m\".\"\u001b[0m\u001b[0;34m.\u001b[0m\u001b[0mjoin\u001b[0m\u001b[0;34m(\u001b[0m\u001b[0;34m[\u001b[0m\u001b[0;34m'missions'\u001b[0m\u001b[0;34m,\u001b[0m \u001b[0mmission\u001b[0m\u001b[0;34m,\u001b[0m \u001b[0minstrument\u001b[0m\u001b[0;34m,\u001b[0m \u001b[0mindex\u001b[0m\u001b[0;34m]\u001b[0m\u001b[0;34m)\u001b[0m\u001b[0;34m\u001b[0m\u001b[0;34m\u001b[0m\u001b[0m\n\u001b[0m\u001b[1;32m      6\u001b[0m             \u001b[0mprint\u001b[0m\u001b[0;34m(\u001b[0m\u001b[0mkey\u001b[0m\u001b[0;34m)\u001b[0m\u001b[0;34m\u001b[0m\u001b[0;34m\u001b[0m\u001b[0m\n",
      "\u001b[0;31mTypeError\u001b[0m: sequence item 1: expected str instance, YAML found"
     ]
    }
   ],
   "source": [
    "for mission in config.list_missions():\n",
    "    for instrument in config.list_instruments(mission):\n",
    "        for index in toclean['missions'][mission][instrument]['indexes'].keys():\n",
    "            key = \".\".join(['missions', mission, instrument, index])\n",
    "            print(key)"
   ]
  },
  {
   "cell_type": "code",
   "execution_count": null,
   "metadata": {},
   "outputs": [
    {
     "data": {
      "text/plain": [
       "['cassini', 'mro', 'lro']"
      ]
     },
     "execution_count": null,
     "metadata": {},
     "output_type": "execute_result"
    }
   ],
   "source": [
    "config.list_missions()"
   ]
  },
  {
   "cell_type": "code",
   "execution_count": null,
   "metadata": {},
   "outputs": [],
   "source": [
    "config = Config(config_path='test_config.yaml')"
   ]
  }
 ],
 "metadata": {
  "kernelspec": {
   "display_name": "Python [conda env:py39] *",
   "language": "python",
   "name": "conda-env-py39-py"
  }
 },
 "nbformat": 4,
 "nbformat_minor": 4
}
