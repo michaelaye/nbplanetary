{
 "cells": [
  {
   "cell_type": "code",
   "execution_count": null,
   "id": "e8f09d33-e43c-4b9a-8492-da0e6a28ffc6",
   "metadata": {},
   "outputs": [],
   "source": [
    "#| default_exp pds.apps"
   ]
  },
  {
   "cell_type": "markdown",
   "id": "f3a88d1e-94c4-483e-9fbc-1ebab66a7ca6",
   "metadata": {},
   "source": [
    "# Apps\n",
    "> User interface apps/functions to make using the PDS tools easy."
   ]
  },
  {
   "cell_type": "code",
   "execution_count": null,
   "id": "80ef24b0",
   "metadata": {},
   "outputs": [],
   "source": [
    "#| hide\n",
    "from nbdev.showdoc import show_doc  # noqa"
   ]
  },
  {
   "cell_type": "code",
   "execution_count": null,
   "id": "e3c7fa76-b3f6-4c65-8eae-c1d998cbdd98",
   "metadata": {},
   "outputs": [],
   "source": [
    "#| export\n",
    "import pandas as pd\n",
    "from planetarypy.config import config\n",
    "from planetarypy.pds.indexes import Index"
   ]
  },
  {
   "cell_type": "code",
   "execution_count": null,
   "id": "e258379a-5e22-4302-912e-2787e505e815",
   "metadata": {},
   "outputs": [],
   "source": [
    "#| export\n",
    "def find_indexes(\n",
    "        instrument: str,  # Dotted mission.instrument key, e.g. cassini.iss\n",
    ") -> list:  # List of configured index names\n",
    "    \"Find existing indexes for an instrument.\"\n",
    "    return config.list_indexes(instrument)"
   ]
  },
  {
   "cell_type": "code",
   "execution_count": null,
   "id": "229a3501-d975-4f66-9748-ca5b71e00955",
   "metadata": {},
   "outputs": [],
   "source": [
    "find_indexes(\"cassini.iss\")"
   ]
  },
  {
   "cell_type": "code",
   "execution_count": null,
   "id": "6ee2bc44-c417-4f11-92c1-d6d0511ab843",
   "metadata": {},
   "outputs": [],
   "source": [
    "#| export\n",
    "def get_index(\n",
    "        instr: str,  # Dotted instrument index, e.g. cassini.iss\n",
    "        index_name: str = '',  # Index name, for exmample 'moon_summary. Optional'\n",
    "        refresh: bool = False,  # switch to force a refresh of an index\n",
    ") -> pd.DataFrame:  # The PDS index convert to pandas DataFrame\n",
    "    \"\"\"Example: get_index(\"cassini.iss\", \"index\")\"\"\"\n",
    "    if not index_name:\n",
    "        index = Index(instr)\n",
    "    else:\n",
    "        index = Index(instr + \".indexes.\" + index_name)\n",
    "    if not index.local_table_path.exists() or refresh:\n",
    "        index.download()\n",
    "    if index.update_available:\n",
    "        print(\"An updated index is available.\")\n",
    "        print(\"Call `get_index` with `refresh=True` to get the updated version.\")\n",
    "    return index.parquet"
   ]
  },
  {
   "cell_type": "code",
   "execution_count": null,
   "id": "366b958c-2666-43fc-ab95-955c9e13d3c4",
   "metadata": {},
   "outputs": [],
   "source": [
    "instr = \"cassini.iss\"\n",
    "index_name = \"moon_summary\""
   ]
  },
  {
   "cell_type": "code",
   "execution_count": null,
   "id": "29cdfd9c-61ee-497f-84b8-b8b11bc5dacb",
   "metadata": {},
   "outputs": [],
   "source": [
    "index = get_index(instr, index_name)"
   ]
  },
  {
   "cell_type": "code",
   "execution_count": null,
   "id": "c9357e72-f026-4e31-955f-735422bdbd8f",
   "metadata": {},
   "outputs": [],
   "source": [
    "index"
   ]
  },
  {
   "cell_type": "markdown",
   "id": "5c9cfd43-6574-4bef-b89e-ae07560ebb58",
   "metadata": {},
   "source": [
    "Indexes can be given as 2 parameters (\"cassini.iss\", \"ring_summary\") or one (\"cassini.iss.ring_summary\"):"
   ]
  },
  {
   "cell_type": "code",
   "execution_count": null,
   "id": "15c32e19-ba41-4050-9e11-7664589b2178",
   "metadata": {},
   "outputs": [],
   "source": [
    "index = get_index(\"cassini.iss\", \"ring_summary\")\n",
    "index.head()"
   ]
  },
  {
   "cell_type": "code",
   "execution_count": null,
   "id": "85140f92-491c-4201-860c-9305a18d0e76",
   "metadata": {},
   "outputs": [],
   "source": [
    "index = get_index(\"cassini.iss.ring_summary\")\n",
    "index.head()"
   ]
  },
  {
   "cell_type": "code",
   "execution_count": null,
   "id": "ffbc8b69-a279-44ca-9e93-6630c566aafe",
   "metadata": {},
   "outputs": [],
   "source": [
    "#| export\n",
    "def find_instruments(\n",
    "        mission: str,  # Mission string, e.g. \"cassini\"\n",
    ") -> list:  # List of configured instrument names\n",
    "    \"Find existing instruments for a mission.\"\n",
    "    return config.list_instruments(mission)"
   ]
  },
  {
   "cell_type": "code",
   "execution_count": null,
   "id": "d52f4ae9-7671-4ca8-9ba9-0168bf14290b",
   "metadata": {},
   "outputs": [],
   "source": [
    "find_instruments(\"cassini\")"
   ]
  },
  {
   "cell_type": "code",
   "execution_count": null,
   "id": "b9272790-e462-44b8-aebf-73d9e8bbc76c",
   "metadata": {},
   "outputs": [],
   "source": [
    "find_instruments(\"mro\")"
   ]
  },
  {
   "cell_type": "code",
   "execution_count": null,
   "id": "678ee300-731d-48e9-b3db-d8385d9211e2",
   "metadata": {},
   "outputs": [],
   "source": [
    "df = get_index(\"cassini.uvis\", \"index\")"
   ]
  },
  {
   "cell_type": "code",
   "execution_count": null,
   "id": "19a8ffcc-d9a4-4c5d-991a-1fe3a6cfa44b",
   "metadata": {},
   "outputs": [],
   "source": [
    "df.dtypes"
   ]
  },
  {
   "cell_type": "code",
   "execution_count": null,
   "id": "be2680b5-245d-4ae3-8976-92c8fd813298",
   "metadata": {},
   "outputs": [],
   "source": []
  }
 ],
 "metadata": {
  "kernelspec": {
   "display_name": "conda-env-py39-py",
   "language": "python",
   "name": "conda-env-py39-py"
  }
 },
 "nbformat": 4,
 "nbformat_minor": 5
}
