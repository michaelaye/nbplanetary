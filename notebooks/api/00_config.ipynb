{
 "cells": [
  {
   "cell_type": "code",
   "execution_count": null,
   "metadata": {},
   "outputs": [],
   "source": [
    "#| default_exp config"
   ]
  },
  {
   "cell_type": "markdown",
   "metadata": {},
   "source": [
    "# Config\n",
    "\n",
    "> This module manages configuration of the `planetarypy` package."
   ]
  },
  {
   "cell_type": "code",
   "execution_count": null,
   "metadata": {},
   "outputs": [],
   "source": [
    "#| hide\n",
    "from nbdev.showdoc import show_doc"
   ]
  },
  {
   "cell_type": "code",
   "execution_count": null,
   "metadata": {},
   "outputs": [],
   "source": [
    "#| export\n",
    "import os\n",
    "import shutil\n",
    "from collections.abc import Mapping\n",
    "from datetime import datetime\n",
    "from functools import reduce\n",
    "from importlib.resources import path as resource_path\n",
    "from typing import Union\n",
    "import copy\n",
    "\n",
    "import tomlkit as toml\n",
    "from fastcore.utils import AttrDict, Path"
   ]
  },
  {
   "cell_type": "code",
   "execution_count": null,
   "metadata": {},
   "outputs": [],
   "source": [
    "#| export\n",
    "\n",
    "def reset_non_urls(\n",
    "    source : dict,  # source dictionary \n",
    "    reset:str = '',  # value to reset non URLs to\n",
    ") -> dict:\n",
    "    \"\"\"Reset all non-URL values in the config file.\n",
    "    \n",
    "    This is useful for copying the private config file with new data items back into the \n",
    "    source tree for a clean commit.\n",
    "    \"\"\"\n",
    "    for key, value in source.items():\n",
    "        if isinstance(value, Mapping) and value:\n",
    "            reset_non_urls(value, reset)\n",
    "        elif not 'url' in key:\n",
    "            source[key] = reset\n",
    "    return source"
   ]
  },
  {
   "cell_type": "markdown",
   "metadata": {},
   "source": [
    "## Implement a class for managing a Config object -"
   ]
  },
  {
   "cell_type": "code",
   "execution_count": null,
   "metadata": {},
   "outputs": [],
   "source": [
    "#| export\n",
    "class Config:\n",
    "    \"\"\"Manage config stuff.\n",
    "\n",
    "    The key, value pairs found in the config file become attributes of the\n",
    "    class instance after initialization.\n",
    "    At minimum, there should be the `storage_root` attribute for storing data\n",
    "    for this package.\n",
    "    \"\"\"\n",
    "    # This part enables a config path location override using env PLANETARYPY_CONFIG\n",
    "    fname = \"planetarypy_config.toml\"\n",
    "    # separating fname from fpath so that resource_path below is correct.\n",
    "    path = Path(os.getenv(\"PLANETARYPY_CONFIG\", Path.home() / f\".{fname}\"))\n",
    "\n",
    "    def __init__(self, config_path: str = None):  # str or pathlib.Path\n",
    "        \"\"\"Switch to other config file location with `config_path`.\"\"\"\n",
    "        if config_path is not None:\n",
    "            self.path = Path(config_path)\n",
    "        if not self.path.exists():\n",
    "            with resource_path(\"planetarypy.data\", self.fname) as p:\n",
    "                shutil.copy(p, self.path)\n",
    "        self._read_config()\n",
    "        self._update_configfile()\n",
    "\n",
    "    def _read_config(self):\n",
    "        \"\"\"Read the configfile and store config dict.\n",
    "\n",
    "        `storage_root` will be stored as attribute.\n",
    "        \"\"\"\n",
    "        self.tomldoc = toml.loads(self.path.read_text())\n",
    "        if not self.tomldoc[\"storage_root\"]:\n",
    "            path = Path.home() / \"planetarypy_data\"\n",
    "            path.mkdir()\n",
    "            self.tomldoc[\"storage_root\"] = str(path)\n",
    "            self.storage_root = path\n",
    "            self.save()\n",
    "        else:\n",
    "            self.storage_root = Path(self.tomldoc[\"storage_root\"])\n",
    "\n",
    "    @property\n",
    "    def d(self):\n",
    "        \"\"\"get the Python dic from\"\"\"\n",
    "        return self.tomldoc\n",
    "\n",
    "    def get_value(\n",
    "        self, key: str  # A nested key in dotted format, e.g. cassini.uvis.indexes\n",
    "    ):\n",
    "        \"\"\"Get sub-dictionary by nested key.\"\"\"\n",
    "        if not key.startswith(\"missions\"):\n",
    "            key = \"missions.\" + key\n",
    "        try:\n",
    "            return reduce(lambda c, k: c[k], key.split(\".\"), self.d)\n",
    "        except toml.exceptions.NonExistentKey:\n",
    "            return None\n",
    "\n",
    "    def set_value(\n",
    "        self,\n",
    "        nested_key: str,  # A nested key in dotted format, e.g. cassini.uvis.ring_summary\n",
    "        value: Union[float, str],  # Value for the given key to be stored\n",
    "        save: bool = True,  # Switch to control writing out to disk\n",
    "    ):\n",
    "        \"\"\"Set value in sub-dic using dotted key.\"\"\"\n",
    "        dic = self.tomldoc\n",
    "        keys = nested_key.split(\".\")\n",
    "        for key in keys[:-1]:\n",
    "            dic = dic[key]\n",
    "        dic[keys[-1]] = value\n",
    "        if save:\n",
    "            self.save()\n",
    "\n",
    "    def save(self):\n",
    "        \"\"\"Write the TOML doc to file.\"\"\"\n",
    "        self.path.write_text(toml.dumps(self.tomldoc))\n",
    "\n",
    "    @property\n",
    "    def current_backup_name(self):\n",
    "        \"\"\"Time-tagged backup filename\"\"\"\n",
    "        now = datetime.now().isoformat()\n",
    "        return self.path.with_suffix(f\".{now[:16]}.bak\")\n",
    "\n",
    "    def make_backup_copy(self):\n",
    "        now = datetime.now().isoformat()\n",
    "        newfname = self.current_backup_name\n",
    "        shutil.copy(self.path, newfname)\n",
    "\n",
    "    def ask_storage_root(self):\n",
    "        \"\"\"Use input() to ask user for the storage_root path.\n",
    "\n",
    "        The path will be stored in the TOML-dict and saved into existing config file\n",
    "        at `Class.path`, either default or as given during init.\n",
    "        `storage_root` attribute is set as well.\n",
    "        \"\"\"\n",
    "        path = input(\n",
    "            \"Provide the root storage path where all downloaded and produced data will be stored:\"\n",
    "        )\n",
    "        self.tomldoc[\"storage_root\"] = path\n",
    "        self.storage_root = Path(path)\n",
    "        self.save()\n",
    "\n",
    "    @property\n",
    "    def missions(self):\n",
    "        return list(self.d[\"missions\"].keys())\n",
    "\n",
    "    def list_instruments(self, mission):\n",
    "        if not mission.startswith(\"missions\"):\n",
    "            mission = \"missions.\" + mission\n",
    "        instruments = self.get_value(mission)\n",
    "        return list(instruments.keys())\n",
    "\n",
    "    def get_datalevels(\n",
    "        self,\n",
    "        mission_instrument,  # mission.instrument code, e.g. mro.hirise\n",
    "    ):\n",
    "        \"\"\"Return configured data levels available for an instrument.\n",
    "\n",
    "        This currently simply points to the indexes, assuming that everything that has\n",
    "        an index is also its own datalevel. In case it ever is not, we can add more here.\n",
    "        \"\"\"\n",
    "        return self.list_indexes(mission_instrument)\n",
    "\n",
    "    def list_indexes(self, instrument):\n",
    "        \"\"\"instrument key needs to be <mission>.<instrument>\"\"\"\n",
    "        if not instrument.startswith(\"missions\"):\n",
    "            instrument = \"missions.\" + instrument\n",
    "        indexes = self.get_value(instrument + \".indexes\")\n",
    "        return list(indexes)\n",
    "\n",
    "    def _copy_clean_to_resource(self):\n",
    "        \"\"\"Copy a clean config file without timestamps or paths into resource path for repo commit.\"\"\"\n",
    "        dic = reset_non_urls(self.d, \"\")\n",
    "        with resource_path(\"planetarypy.data\", self.fname) as p:\n",
    "            Path(p).write_text(toml.dumps(dic))\n",
    "\n",
    "    def _update_configfile(self):\n",
    "        \"\"\"Check if a new version with more URLs exist at resource path.\"\"\"\n",
    "        with resource_path(\"planetarypy.data\", self.fname) as p:\n",
    "            new = toml.loads(Path(p).read_text())[\"missions\"]\n",
    "        old = self.tomldoc[\"missions\"]\n",
    "        for mission in new:\n",
    "            missiondata = new[mission]\n",
    "            if mission not in old:\n",
    "                old[mission] = missiondata\n",
    "                continue\n",
    "            for instr in missiondata:\n",
    "                instrdata = missiondata[instr]\n",
    "                if instr not in old[mission]:\n",
    "                    old[mission][instr] = instrdata\n",
    "                    continue\n",
    "                for index in instrdata[\"indexes\"]:\n",
    "                    indexdata = instrdata[\"indexes\"][index]\n",
    "                    if index not in old[mission][instr][\"indexes\"]:\n",
    "                        old[mission][instr][\"indexes\"][index] = indexdata\n",
    "                        continue\n",
    "                    oldindexdata = old[mission][instr][\"indexes\"][index]\n",
    "                    if indexdata[\"url\"] != oldindexdata[\"url\"]:\n",
    "                        oldindexdata[\"url\"] = indexdata[\"url\"]\n",
    "        self.make_backup_copy()\n",
    "        self.save()\n",
    "\n",
    "    def populate_timestamps(self):\n",
    "        pass\n",
    "\n",
    "    def __repr__(self):\n",
    "        return AttrDict(self.d).__repr__()"
   ]
  },
  {
   "cell_type": "markdown",
   "metadata": {},
   "source": [
    "## The Config() object\n",
    "\n",
    "The `config` module instantiates a `config` object from the Config class.\n",
    "Its attributes can be used to access several aspects relevant to the configuration of `planetarypy`.\n",
    "Using an object approach enables easy growth and nesting over time."
   ]
  },
  {
   "cell_type": "code",
   "execution_count": null,
   "metadata": {},
   "outputs": [],
   "source": [
    "config = Config(config_path=\"test_config.toml\")"
   ]
  },
  {
   "cell_type": "code",
   "execution_count": null,
   "metadata": {},
   "outputs": [
    {
     "data": {
      "text/plain": [
       "Path('/Users/klay6683/planetarypy_data')"
      ]
     },
     "execution_count": null,
     "metadata": {},
     "output_type": "execute_result"
    }
   ],
   "source": [
    "config.storage_root"
   ]
  },
  {
   "cell_type": "code",
   "execution_count": null,
   "metadata": {},
   "outputs": [],
   "source": [
    "#| export\n",
    "config = Config()"
   ]
  },
  {
   "cell_type": "code",
   "execution_count": null,
   "metadata": {},
   "outputs": [],
   "source": [
    "config._copy_clean_to_resource()"
   ]
  },
  {
   "cell_type": "code",
   "execution_count": null,
   "metadata": {},
   "outputs": [
    {
     "data": {
      "text/plain": [
       "Path('/Users/klay6683/.planetarypy_config.toml')"
      ]
     },
     "execution_count": null,
     "metadata": {},
     "output_type": "execute_result"
    }
   ],
   "source": [
    "config.path"
   ]
  },
  {
   "cell_type": "code",
   "execution_count": null,
   "metadata": {},
   "outputs": [
    {
     "data": {
      "text/markdown": [
       "---\n",
       "\n",
       "[source](https://github.com/michaelaye/nbplanetary/blob/master/planetarypy/config.py#L80){target=\"_blank\" style=\"float:right; font-size:smaller\"}\n",
       "\n",
       "### Config.get_value\n",
       "\n",
       ">      Config.get_value (key:str)\n",
       "\n",
       "Get sub-dictionary by nested key.\n",
       "\n",
       "|    | **Type** | **Details** |\n",
       "| -- | -------- | ----------- |\n",
       "| key | str | A nested key in dotted format, e.g. cassini.uvis.indexes |"
      ],
      "text/plain": [
       "---\n",
       "\n",
       "[source](https://github.com/michaelaye/nbplanetary/blob/master/planetarypy/config.py#L80){target=\"_blank\" style=\"float:right; font-size:smaller\"}\n",
       "\n",
       "### Config.get_value\n",
       "\n",
       ">      Config.get_value (key:str)\n",
       "\n",
       "Get sub-dictionary by nested key.\n",
       "\n",
       "|    | **Type** | **Details** |\n",
       "| -- | -------- | ----------- |\n",
       "| key | str | A nested key in dotted format, e.g. cassini.uvis.indexes |"
      ]
     },
     "execution_count": null,
     "metadata": {},
     "output_type": "execute_result"
    }
   ],
   "source": [
    "show_doc(Config.get_value)"
   ]
  },
  {
   "cell_type": "code",
   "execution_count": null,
   "metadata": {},
   "outputs": [
    {
     "data": {
      "text/plain": [
       "['dtm', 'edr', 'rdr']"
      ]
     },
     "execution_count": null,
     "metadata": {},
     "output_type": "execute_result"
    }
   ],
   "source": [
    "config.list_indexes(\"mro.hirise\")"
   ]
  },
  {
   "cell_type": "code",
   "execution_count": null,
   "metadata": {},
   "outputs": [],
   "source": [
    "index = \"missions.cassini.iss.indexes.moon_summary\""
   ]
  },
  {
   "cell_type": "code",
   "execution_count": null,
   "metadata": {},
   "outputs": [
    {
     "data": {
      "text/plain": [
       "{'url': 'https://pds-rings.seti.org/holdings/metadata/COISS_2xxx/COISS_2999/COISS_2999_moon_summary.lbl', 'timestamp': ''}"
      ]
     },
     "execution_count": null,
     "metadata": {},
     "output_type": "execute_result"
    }
   ],
   "source": [
    "config.get_value(index)"
   ]
  },
  {
   "cell_type": "code",
   "execution_count": null,
   "metadata": {},
   "outputs": [
    {
     "data": {
      "text/markdown": [
       "---\n",
       "\n",
       "[source](https://github.com/michaelaye/nbplanetary/blob/master/planetarypy/config.py#L91){target=\"_blank\" style=\"float:right; font-size:smaller\"}\n",
       "\n",
       "### Config.set_value\n",
       "\n",
       ">      Config.set_value (nested_key:str, value:Union[float,str], save:bool=True)\n",
       "\n",
       "Set value in sub-dic using dotted key.\n",
       "\n",
       "|    | **Type** | **Default** | **Details** |\n",
       "| -- | -------- | ----------- | ----------- |\n",
       "| nested_key | str |  | A nested key in dotted format, e.g. cassini.uvis.ring_summary |\n",
       "| value | Union |  | Value for the given key to be stored |\n",
       "| save | bool | True | Switch to control writing out to disk |"
      ],
      "text/plain": [
       "---\n",
       "\n",
       "[source](https://github.com/michaelaye/nbplanetary/blob/master/planetarypy/config.py#L91){target=\"_blank\" style=\"float:right; font-size:smaller\"}\n",
       "\n",
       "### Config.set_value\n",
       "\n",
       ">      Config.set_value (nested_key:str, value:Union[float,str], save:bool=True)\n",
       "\n",
       "Set value in sub-dic using dotted key.\n",
       "\n",
       "|    | **Type** | **Default** | **Details** |\n",
       "| -- | -------- | ----------- | ----------- |\n",
       "| nested_key | str |  | A nested key in dotted format, e.g. cassini.uvis.ring_summary |\n",
       "| value | Union |  | Value for the given key to be stored |\n",
       "| save | bool | True | Switch to control writing out to disk |"
      ]
     },
     "execution_count": null,
     "metadata": {},
     "output_type": "execute_result"
    }
   ],
   "source": [
    "show_doc(Config.set_value)"
   ]
  },
  {
   "cell_type": "code",
   "execution_count": null,
   "metadata": {},
   "outputs": [
    {
     "data": {
      "text/markdown": [
       "---\n",
       "\n",
       "[source](https://github.com/michaelaye/nbplanetary/blob/master/planetarypy/config.py#L106){target=\"_blank\" style=\"float:right; font-size:smaller\"}\n",
       "\n",
       "### Config.save\n",
       "\n",
       ">      Config.save ()\n",
       "\n",
       "Write the TOML doc to file."
      ],
      "text/plain": [
       "---\n",
       "\n",
       "[source](https://github.com/michaelaye/nbplanetary/blob/master/planetarypy/config.py#L106){target=\"_blank\" style=\"float:right; font-size:smaller\"}\n",
       "\n",
       "### Config.save\n",
       "\n",
       ">      Config.save ()\n",
       "\n",
       "Write the TOML doc to file."
      ]
     },
     "execution_count": null,
     "metadata": {},
     "output_type": "execute_result"
    }
   ],
   "source": [
    "show_doc(Config.save)"
   ]
  },
  {
   "cell_type": "code",
   "execution_count": null,
   "metadata": {},
   "outputs": [
    {
     "data": {
      "text/plain": [
       "{'url': 'https://pds-rings.seti.org/holdings/metadata/COISS_2xxx/COISS_2999/COISS_2999_moon_summary.lbl', 'timestamp': ''}"
      ]
     },
     "execution_count": null,
     "metadata": {},
     "output_type": "execute_result"
    }
   ],
   "source": [
    "config.get_value(index)"
   ]
  },
  {
   "cell_type": "code",
   "execution_count": null,
   "metadata": {},
   "outputs": [
    {
     "data": {
      "text/plain": [
       "{'edr': {'root': '', 'url': 'https://pds-imaging.jpl.nasa.gov/data/mro/mars_reconnaissance_orbiter/ctx', 'with_volume': '', 'with_pid_folder': ''}}"
      ]
     },
     "execution_count": null,
     "metadata": {},
     "output_type": "execute_result"
    }
   ],
   "source": [
    "config.get_value(\"mro.ctx.datalevels\")"
   ]
  },
  {
   "cell_type": "code",
   "execution_count": null,
   "metadata": {},
   "outputs": [
    {
     "data": {
      "text/markdown": [
       "---\n",
       "\n",
       "[source](https://github.com/michaelaye/nbplanetary/blob/master/planetarypy/config.py#L121){target=\"_blank\" style=\"float:right; font-size:smaller\"}\n",
       "\n",
       "### Config.ask_storage_root\n",
       "\n",
       ">      Config.ask_storage_root ()\n",
       "\n",
       "Use input() to ask user for the storage_root path.\n",
       "\n",
       "The path will be stored in the TOML-dict and saved into existing config file\n",
       "at `Class.path`, either default or as given during init.\n",
       "`storage_root` attribute is set as well."
      ],
      "text/plain": [
       "---\n",
       "\n",
       "[source](https://github.com/michaelaye/nbplanetary/blob/master/planetarypy/config.py#L121){target=\"_blank\" style=\"float:right; font-size:smaller\"}\n",
       "\n",
       "### Config.ask_storage_root\n",
       "\n",
       ">      Config.ask_storage_root ()\n",
       "\n",
       "Use input() to ask user for the storage_root path.\n",
       "\n",
       "The path will be stored in the TOML-dict and saved into existing config file\n",
       "at `Class.path`, either default or as given during init.\n",
       "`storage_root` attribute is set as well."
      ]
     },
     "execution_count": null,
     "metadata": {},
     "output_type": "execute_result"
    }
   ],
   "source": [
    "show_doc(Config.ask_storage_root)"
   ]
  },
  {
   "cell_type": "code",
   "execution_count": null,
   "metadata": {},
   "outputs": [
    {
     "data": {
      "text/plain": [
       "['cassini', 'mro', 'lro', 'go']"
      ]
     },
     "execution_count": null,
     "metadata": {},
     "output_type": "execute_result"
    }
   ],
   "source": [
    "config.missions"
   ]
  },
  {
   "cell_type": "code",
   "execution_count": null,
   "metadata": {},
   "outputs": [
    {
     "data": {
      "text/plain": [
       "'planetarypy_config.toml'"
      ]
     },
     "execution_count": null,
     "metadata": {},
     "output_type": "execute_result"
    }
   ],
   "source": [
    "config.fname"
   ]
  },
  {
   "cell_type": "code",
   "execution_count": null,
   "metadata": {},
   "outputs": [
    {
     "data": {
      "text/plain": [
       "Path('/Users/klay6683/.planetarypy_config.toml')"
      ]
     },
     "execution_count": null,
     "metadata": {},
     "output_type": "execute_result"
    }
   ],
   "source": [
    "config.path"
   ]
  },
  {
   "cell_type": "code",
   "execution_count": null,
   "metadata": {},
   "outputs": [
    {
     "data": {
      "text/plain": [
       "['iss', 'uvis']"
      ]
     },
     "execution_count": null,
     "metadata": {},
     "output_type": "execute_result"
    }
   ],
   "source": [
    "config.list_instruments(\"cassini\")"
   ]
  },
  {
   "cell_type": "code",
   "execution_count": null,
   "metadata": {},
   "outputs": [
    {
     "data": {
      "text/plain": [
       "['index', 'inventory', 'moon_summary', 'ring_summary', 'saturn_summary']"
      ]
     },
     "execution_count": null,
     "metadata": {},
     "output_type": "execute_result"
    }
   ],
   "source": [
    "config.list_indexes(\"cassini.iss\")"
   ]
  },
  {
   "cell_type": "code",
   "execution_count": null,
   "metadata": {},
   "outputs": [
    {
     "data": {
      "text/plain": [
       "{'storage_root': '', 'missions': {'cassini': {'iss': {'indexes': {'index': {'url': 'https://pds-rings.seti.org/holdings/metadata/COISS_2xxx/COISS_2999/COISS_2999_index.lbl'}, 'inventory': {'url': 'https://pds-rings.seti.org/holdings/metadata/COISS_2xxx/COISS_2999/COISS_2999_inventory.lbl'}, 'moon_summary': {'url': 'https://pds-rings.seti.org/holdings/metadata/COISS_2xxx/COISS_2999/COISS_2999_moon_summary.lbl', 'timestamp': ''}, 'ring_summary': {'url': 'https://pds-rings.seti.org/holdings/metadata/COISS_2xxx/COISS_2999/COISS_2999_ring_summary.lbl', 'timestamp': ''}, 'saturn_summary': {'url': 'https://pds-rings.seti.org/holdings/metadata/COISS_2xxx/COISS_2999/COISS_2999_saturn_summary.lbl', 'timestamp': ''}}}, 'uvis': {'indexes': {'index': {'url': 'https://pds-rings.seti.org/holdings/metadata/COUVIS_0xxx/COUVIS_0999/COUVIS_0999_index.lbl', 'timestamp': ''}, 'moon_summary': {'url': 'https://pds-rings.seti.org/holdings/metadata/COUVIS_0xxx/COUVIS_0999/COUVIS_0999_moon_summary.lbl'}, 'ring_summary': {'url': 'https://pds-rings.seti.org/holdings/metadata/COUVIS_0xxx/COUVIS_0999/COUVIS_0999_ring_summary.lbl', 'timestamp': ''}, 'saturn_summary': {'url': 'https://pds-rings.seti.org/holdings/metadata/COUVIS_0xxx/COUVIS_0999/COUVIS_0999_saturn_summary.lbl'}, 'supplemental_index': {'url': 'https://pds-rings.seti.org/holdings/metadata/COUVIS_0xxx/COUVIS_0999/COUVIS_0999_supplemental_index.lbl'}, 'versions': {'url': 'https://pds-rings.seti.org/holdings/metadata/COUVIS_0xxx/COUVIS_0999/COUVIS_0999_versions.lbl'}}}}, 'mro': {'hirise': {'indexes': {'dtm': {'url': 'https://hirise-pds.lpl.arizona.edu/PDS/INDEX/DTMCUMINDEX.LBL'}, 'edr': {'url': 'https://hirise-pds.lpl.arizona.edu/PDS/INDEX/EDRCUMINDEX.LBL'}, 'rdr': {'url': 'https://hirise-pds.lpl.arizona.edu/PDS/INDEX/RDRCUMINDEX.LBL', 'timestamp': ''}}}, 'ctx': {'index_required': '', 'root': '', 'calib_extension': '', 'with_volume': '', 'with_pid_folder': '', 'datalevels': {'edr': {'root': '', 'url': 'https://pds-imaging.jpl.nasa.gov/data/mro/mars_reconnaissance_orbiter/ctx', 'with_volume': '', 'with_pid_folder': ''}}, 'indexes': {'edr': {'url': '', 'timestamp': ''}}}}, 'lro': {'diviner': {'indexes': {'edr1': {'url': 'https://pds-geosciences.wustl.edu/lro/lro-l-dlre-2-edr-v1/lrodlr_0001/index/index.lbl'}, 'edr2': {'url': 'https://pds-geosciences.wustl.edu/lro/lro-l-dlre-2-edr-v1/lrodlr_0002/index/index.lbl'}, 'rdr1': {'url': 'https://pds-geosciences.wustl.edu/lro/lro-l-dlre-4-rdr-v1/lrodlr_1001/index/rdrindex.lbl'}, 'rdr2': {'url': 'https://pds-geosciences.wustl.edu/lro/lro-l-dlre-4-rdr-v1/lrodlr_1002/index/rdrindex.lbl'}}}, 'lola': {'indexes': {'edr': {'url': 'http://pds-geosciences.wustl.edu/lro/lro-l-lola-2-edr-v1/lrolol_0xxx/index/edrindex.lbl'}, 'rdr': {'url': 'http://pds-geosciences.wustl.edu/lro/lro-l-lola-3-rdr-v1/lrolol_1xxx/index/rdrindex.lbl'}}}, 'lroc': {'indexes': {'edr': {'url': 'http://pds.lroc.asu.edu/data/LRO-L-LROC-2-EDR-V1.0/LROLRC_0048C/INDEX/CUMINDEX.LBL'}}}}, 'go': {'ssi': {'indexes': {'edr': {'url': 'https://pds-rings.seti.org/holdings/metadata/GO_0xxx/GO_0999/GO_0999_index.lbl'}}}}}}"
      ]
     },
     "execution_count": null,
     "metadata": {},
     "output_type": "execute_result"
    }
   ],
   "source": [
    "config.d"
   ]
  },
  {
   "cell_type": "code",
   "execution_count": null,
   "metadata": {},
   "outputs": [
    {
     "data": {
      "text/markdown": [
       "---\n",
       "\n",
       "[source](https://github.com/michaelaye/nbplanetary/blob/master/planetarypy/config.py#L145){target=\"_blank\" style=\"float:right; font-size:smaller\"}\n",
       "\n",
       "### Config.get_datalevels\n",
       "\n",
       ">      Config.get_datalevels (mission_instrument)\n",
       "\n",
       "Return configured data levels available for an instrument.\n",
       "\n",
       "This currently simply points to the indexes, assuming that everything that has\n",
       "an index is also its own datalevel. In case it ever is not, we can add more here.\n",
       "\n",
       "|    | **Details** |\n",
       "| -- | ----------- |\n",
       "| mission_instrument | mission.instrument code, e.g. mro.hirise |"
      ],
      "text/plain": [
       "---\n",
       "\n",
       "[source](https://github.com/michaelaye/nbplanetary/blob/master/planetarypy/config.py#L145){target=\"_blank\" style=\"float:right; font-size:smaller\"}\n",
       "\n",
       "### Config.get_datalevels\n",
       "\n",
       ">      Config.get_datalevels (mission_instrument)\n",
       "\n",
       "Return configured data levels available for an instrument.\n",
       "\n",
       "This currently simply points to the indexes, assuming that everything that has\n",
       "an index is also its own datalevel. In case it ever is not, we can add more here.\n",
       "\n",
       "|    | **Details** |\n",
       "| -- | ----------- |\n",
       "| mission_instrument | mission.instrument code, e.g. mro.hirise |"
      ]
     },
     "execution_count": null,
     "metadata": {},
     "output_type": "execute_result"
    }
   ],
   "source": [
    "show_doc(Config.get_datalevels)"
   ]
  },
  {
   "cell_type": "code",
   "execution_count": null,
   "metadata": {},
   "outputs": [
    {
     "data": {
      "text/plain": [
       "['dtm', 'edr', 'rdr']"
      ]
     },
     "execution_count": null,
     "metadata": {},
     "output_type": "execute_result"
    }
   ],
   "source": [
    "config.get_datalevels(\"mro.hirise\")"
   ]
  },
  {
   "cell_type": "code",
   "execution_count": null,
   "metadata": {},
   "outputs": [],
   "source": [
    "from nbdev import nbdev_export\n",
    "nbdev_export()"
   ]
  },
  {
   "cell_type": "code",
   "execution_count": null,
   "metadata": {},
   "outputs": [],
   "source": []
  }
 ],
 "metadata": {
  "kernelspec": {
   "display_name": "py310",
   "language": "python",
   "name": "python3"
  }
 },
 "nbformat": 4,
 "nbformat_minor": 4
}
