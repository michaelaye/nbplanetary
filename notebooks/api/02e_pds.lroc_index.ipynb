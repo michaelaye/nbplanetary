{
 "cells": [
  {
   "cell_type": "code",
   "execution_count": null,
   "id": "d42c66c2-9133-4789-aa24-db779ef51ebf",
   "metadata": {},
   "outputs": [],
   "source": [
    "#| default_exp pds.lroc_index"
   ]
  },
  {
   "cell_type": "markdown",
   "id": "42d06a12-10ff-4b69-bf28-dca56ae4df95",
   "metadata": {},
   "source": [
    "# LROC Index\n",
    "> LROC Index is not at a fixed URL, so need to determine dynamically."
   ]
  },
  {
   "cell_type": "code",
   "execution_count": null,
   "id": "2417b3cc",
   "metadata": {},
   "outputs": [],
   "source": [
    "#| export\n",
    "import warnings"
   ]
  },
  {
   "cell_type": "code",
   "execution_count": null,
   "id": "b9cdad61-f102-4563-989e-19d85ca8be20",
   "metadata": {},
   "outputs": [],
   "source": [
    "#| hide\n",
    "from nbdev.showdoc import *"
   ]
  },
  {
   "cell_type": "code",
   "execution_count": null,
   "id": "83128ca9-ccb1-4b51-a24c-7126cf49f68a",
   "metadata": {},
   "outputs": [],
   "source": [
    "#| export\n",
    "class LROCIndex:\n",
    "\n",
    "    def __init__(self):\n",
    "        warnings.warn(\"LROCIndex not implemented yet.\")"
   ]
  }
 ],
 "metadata": {
  "kernelspec": {
   "display_name": "conda-env-py39-py",
   "language": "python",
   "name": "conda-env-py39-py"
  }
 },
 "nbformat": 4,
 "nbformat_minor": 5
}
