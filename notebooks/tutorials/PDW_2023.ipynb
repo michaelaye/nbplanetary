{
 "cells": [
  {
   "cell_type": "raw",
   "id": "f87e1b1a-130a-4df2-9f46-77ffdacc7c6e",
   "metadata": {},
   "source": [
    "---\n",
    "title: \"On the way to a core PlanetaryPy Package\"\n",
    "author: \"Michael Aye\"\n",
    "affiliation: \"Freie Universität Berlin\"\n",
    "date: 'June 26, 2023'\n",
    "format:\n",
    "  revealjs:\n",
    "    code-fold: false\n",
    "  html:\n",
    "    code-fold: false\n",
    "  pptx:\n",
    "    code-fold: false\n",
    "execute:\n",
    "  echo: true\n",
    "  warning: false\n",
    "  tbl-colwidths: true\n",
    "---"
   ]
  },
  {
   "cell_type": "markdown",
   "id": "949bc428-146c-4868-9d69-84cad0ad7ef7",
   "metadata": {},
   "source": [
    "## What is this?\n",
    "\n",
    "- PlanetaryPy **organization** is community effort to\n",
    "  - develop a core Python package for planetary science\n",
    "  - help other planetary science Python programmers to disseminate their work\n",
    "- This talk is about the **core package status** only."
   ]
  },
  {
   "attachments": {},
   "cell_type": "markdown",
   "id": "696a5d1f-d6cc-4c43-a125-26c59112dbda",
   "metadata": {},
   "source": [
    ":::: {.columns}\n",
    "\n",
    "::: {.column width=\"50%\"}\n",
    "## Core package work plan\n",
    "- I am since long working on a core package draft.\n",
    "- **Nothing is especially clever, the structured unification is the clue!**\n",
    "- Shall be submitted (done?) to the community members for review.\n",
    "- After successful review open for public pull requests and hackathons.\n",
    ":::\n",
    "::: {.column width=\"50%\"}\n",
    "## Core package focal points\n",
    "- Easier access, download, and local management of\n",
    "  - **PDS** data\n",
    "  - **SPICE kernels**\n",
    "- **Removing need to learn various web interfaces for different data**\n",
    "- Working easier with `collections` of PDS data\n",
    "- Easy basic SPICE calculations with human readable I/F\n",
    "- Some web and time related utilities\n",
    ":::\n",
    "\n",
    "::::"
   ]
  },
  {
   "cell_type": "markdown",
   "id": "d32edb82-3c4f-49cc-8f9c-019410df1282",
   "metadata": {},
   "source": [
    "# PDS Indexes"
   ]
  },
  {
   "cell_type": "markdown",
   "id": "a2c2b9f1-77e4-4fde-bd31-97f23becba8b",
   "metadata": {},
   "source": [
    "## PDS Indexes\n",
    ":::: {.columns}\n",
    "::: {.column width=\"50%\"}\n",
    "- PDS Indexes contain useful meta-data for PDS datasets\n",
    "- `planetarypy` provides access to these via a config file\n",
    "  - **pull requests to config file will add more findable indices!** \n",
    "- config file tells `planetarypy` where to find index\n",
    ":::\n",
    "::: {.column width=\"50%\"}\n",
    "- `planetarypy` downloads index file and\n",
    "- stored as parquet file, ready for `pandas` based analysis.\n",
    "- tells user when new index is available\n",
    ":::\n",
    "::::"
   ]
  },
  {
   "cell_type": "markdown",
   "id": "623205b4-1d71-44ef-9aea-8c77b6e64dae",
   "metadata": {},
   "source": [
    "## Example use"
   ]
  },
  {
   "cell_type": "code",
   "execution_count": null,
   "id": "72e5ede3-87a8-44c0-9267-eab5cf3e4cf4",
   "metadata": {},
   "outputs": [
    {
     "name": "stdout",
     "output_type": "stream",
     "text": [
      "<class 'pandas.core.frame.DataFrame'>\n",
      "RangeIndex: 407299 entries, 0 to 407298\n",
      "Columns: 140 entries, FILE_NAME to STANDARD_DATA_PRODUCT_ID\n",
      "dtypes: Float64(70), Int64(20), datetime64[ns](7), string(43)\n",
      "memory usage: 470.0 MB\n",
      "None\n"
     ]
    },
    {
     "data": {
      "text/html": [
       "<div>\n",
       "<style scoped>\n",
       "    .dataframe tbody tr th:only-of-type {\n",
       "        vertical-align: middle;\n",
       "    }\n",
       "\n",
       "    .dataframe tbody tr th {\n",
       "        vertical-align: top;\n",
       "    }\n",
       "\n",
       "    .dataframe thead th {\n",
       "        text-align: right;\n",
       "    }\n",
       "</style>\n",
       "<table border=\"1\" class=\"dataframe\">\n",
       "  <thead>\n",
       "    <tr style=\"text-align: right;\">\n",
       "      <th></th>\n",
       "      <th>FILE_NAME</th>\n",
       "      <th>IMAGE_MID_TIME</th>\n",
       "      <th>IMAGE_OBSERVATION_TYPE</th>\n",
       "    </tr>\n",
       "  </thead>\n",
       "  <tbody>\n",
       "    <tr>\n",
       "      <th>0</th>\n",
       "      <td>N1454725799_1.IMG</td>\n",
       "      <td>2004-02-06 02:07:06.458</td>\n",
       "      <td>OPNAV</td>\n",
       "    </tr>\n",
       "    <tr>\n",
       "      <th>1</th>\n",
       "      <td>N1454726579_1.IMG</td>\n",
       "      <td>2004-02-06 02:20:06.362</td>\n",
       "      <td>OPNAV</td>\n",
       "    </tr>\n",
       "    <tr>\n",
       "      <th>2</th>\n",
       "      <td>N1454727359_1.IMG</td>\n",
       "      <td>2004-02-06 02:33:06.397</td>\n",
       "      <td>OPNAV</td>\n",
       "    </tr>\n",
       "  </tbody>\n",
       "</table>\n",
       "</div>"
      ],
      "text/plain": [
       "           FILE_NAME          IMAGE_MID_TIME IMAGE_OBSERVATION_TYPE\n",
       "0  N1454725799_1.IMG 2004-02-06 02:07:06.458                  OPNAV\n",
       "1  N1454726579_1.IMG 2004-02-06 02:20:06.362                  OPNAV\n",
       "2  N1454727359_1.IMG 2004-02-06 02:33:06.397                  OPNAV"
      ]
     },
     "execution_count": null,
     "metadata": {},
     "output_type": "execute_result"
    }
   ],
   "source": [
    "from planetarypy.pds.apps import get_index\n",
    "\n",
    "df = get_index(\"cassini.iss\", \"index\")\n",
    "print(df.info())\n",
    "df.head(3)[\"FILE_NAME IMAGE_MID_TIME IMAGE_OBSERVATION_TYPE\".split()]"
   ]
  },
  {
   "cell_type": "markdown",
   "id": "f36ee9b9-e103-4b9f-9d01-41cd1d1c0380",
   "metadata": {},
   "source": [
    "# Instrument data"
   ]
  },
  {
   "cell_type": "markdown",
   "id": "fa48a7ca-1817-4ba5-87a5-bf310a39c168",
   "metadata": {},
   "source": [
    "## Instrument data\n",
    "\n",
    "- Meant to serve as basic data access, read, and access classes\n",
    "  - to be boosted in the future by the GOAT PDS reader `pdr` by Million, Inc.\n",
    "- config file controls what data levels are accessible\n",
    "  - and how they are stored locally\n",
    "- currently CTX, HiRISE, UVIS, CISS are supported (Diviner in the works)"
   ]
  },
  {
   "cell_type": "markdown",
   "id": "030406a1-00df-475c-b65f-e977febd9070",
   "metadata": {},
   "source": [
    "## Example use HiRISE"
   ]
  },
  {
   "cell_type": "code",
   "execution_count": null,
   "id": "7438fd47-bf23-49ec-9f31-08e4eaf569b9",
   "metadata": {},
   "outputs": [
    {
     "name": "stdout",
     "output_type": "stream",
     "text": [
      "RDR/PSP/ORB_003000_003099/PSP_003092_0985/PSP_003092_0985_RED.JP2\n",
      "https://uahirise.org/PSP_003092_0985\n",
      "EXTRAS/RDR/PSP/ORB_003000_003099/PSP_003092_0985/PSP_003092_0985_RED.abrowse.jpg\n",
      "EXTRAS/RDR/PSP/ORB_003000_003099/PSP_003092_0985/PSP_003092_0985_RED.NOMAP.thumb.jpg\n"
     ]
    }
   ],
   "source": [
    "from planetarypy.hirise import ProductPathfinder as PPF\n",
    "\n",
    "ppf = PPF(\"PSP_003092_0985_RED\")\n",
    "\n",
    "print(ppf.jp2_path)\n",
    "print(ppf.homepage)\n",
    "print(ppf.abrowse_path)\n",
    "print(ppf.nomap_thumbnail_path)"
   ]
  },
  {
   "cell_type": "markdown",
   "id": "375e9ca1-5043-4573-85d1-28007ab920ae",
   "metadata": {},
   "source": [
    "## Example use CTXCollection"
   ]
  },
  {
   "cell_type": "code",
   "execution_count": null,
   "id": "dd5c818d-d8ed-466c-a6ea-9e0b2da87214",
   "metadata": {},
   "outputs": [
    {
     "name": "stdout",
     "output_type": "stream",
     "text": [
      "1321\n",
      "35\n"
     ]
    }
   ],
   "source": [
    "from planetarypy.ctx import CTXCollection\n",
    "\n",
    "coll = CTXCollection.by_month(\"F01\")\n",
    "print(coll.n_items)\n",
    "print(len(coll.get_corrupted()))"
   ]
  },
  {
   "cell_type": "markdown",
   "id": "bbe8bde7-5ae6-421f-9485-2ff866df62d5",
   "metadata": {},
   "source": [
    "# Archived SPICE kernels "
   ]
  },
  {
   "cell_type": "markdown",
   "id": "d2de7dba-1c2d-48dd-bcd3-8a479d325bce",
   "metadata": {},
   "source": [
    "## Archived SPICE kernel sets\n",
    ":::: {.columns}\n",
    "\n",
    "::: {.column width=\"50%\"}\n",
    "- NAIF offers archived mission kernel sets for 33 missions:\n",
    "- Kernels can be subset by time window using `Subset` link.\n",
    "- `planetarypy` offers programmatic wrapper around subset feature.\n",
    "\n",
    ":::\n",
    "::: {.column width=\"50%\"}\n",
    "- Zip file unpacked.\n",
    "- Kernel files stored locally and logically.\n",
    "- Meta-kernel edited appropriately and immediately loadable.\n",
    ":::\n",
    "\n",
    "::::"
   ]
  },
  {
   "cell_type": "markdown",
   "id": "5ea75787-8797-4f6e-8c90-2caf10eadec0",
   "metadata": {},
   "source": [
    "![](assets/NAIF_archives.png)"
   ]
  },
  {
   "cell_type": "markdown",
   "id": "65e0342e-3da7-4afd-b15b-315cadb935a3",
   "metadata": {},
   "source": [
    "## Example use"
   ]
  },
  {
   "cell_type": "code",
   "execution_count": null,
   "id": "09096b70-66c1-43d2-95f0-a5864293c209",
   "metadata": {},
   "outputs": [
    {
     "data": {
      "text/html": [
       "<div>\n",
       "<style scoped>\n",
       "    .dataframe tbody tr th:only-of-type {\n",
       "        vertical-align: middle;\n",
       "    }\n",
       "\n",
       "    .dataframe tbody tr th {\n",
       "        vertical-align: top;\n",
       "    }\n",
       "\n",
       "    .dataframe thead th {\n",
       "        text-align: right;\n",
       "    }\n",
       "</style>\n",
       "<table border=\"1\" class=\"dataframe\">\n",
       "  <thead>\n",
       "    <tr style=\"text-align: right;\">\n",
       "      <th></th>\n",
       "      <th>Mission Name</th>\n",
       "      <th>PDS3 or PDS4</th>\n",
       "      <th>Data Size (GB)</th>\n",
       "      <th>Start Time</th>\n",
       "      <th>Stop Time</th>\n",
       "    </tr>\n",
       "    <tr>\n",
       "      <th>shorthand</th>\n",
       "      <th></th>\n",
       "      <th></th>\n",
       "      <th></th>\n",
       "      <th></th>\n",
       "      <th></th>\n",
       "    </tr>\n",
       "  </thead>\n",
       "  <tbody>\n",
       "    <tr>\n",
       "      <th>bc</th>\n",
       "      <td>BepiColombo</td>\n",
       "      <td>4</td>\n",
       "      <td>1.1</td>\n",
       "      <td>2018-10-20</td>\n",
       "      <td>2023-01-01</td>\n",
       "    </tr>\n",
       "    <tr>\n",
       "      <th>cassini</th>\n",
       "      <td>Cassini Orbiter</td>\n",
       "      <td>3</td>\n",
       "      <td>62.5</td>\n",
       "      <td>1997-10-15</td>\n",
       "      <td>2017-09-15</td>\n",
       "    </tr>\n",
       "    <tr>\n",
       "      <th>clementine</th>\n",
       "      <td>Clementine</td>\n",
       "      <td>3</td>\n",
       "      <td>0.8</td>\n",
       "      <td>1994-01-26</td>\n",
       "      <td>1994-05-07</td>\n",
       "    </tr>\n",
       "    <tr>\n",
       "      <th>dart</th>\n",
       "      <td>DART</td>\n",
       "      <td>4</td>\n",
       "      <td>9.1</td>\n",
       "      <td>2021-11-09</td>\n",
       "      <td>2050-01-01</td>\n",
       "    </tr>\n",
       "    <tr>\n",
       "      <th>dawn</th>\n",
       "      <td>DAWN</td>\n",
       "      <td>3</td>\n",
       "      <td>86.4</td>\n",
       "      <td>2007-09-27</td>\n",
       "      <td>2018-10-31</td>\n",
       "    </tr>\n",
       "  </tbody>\n",
       "</table>\n",
       "</div>"
      ],
      "text/plain": [
       "               Mission Name PDS3 or PDS4 Data Size (GB)  Start Time  \\\n",
       "shorthand                                                             \n",
       "bc              BepiColombo            4            1.1  2018-10-20   \n",
       "cassini     Cassini Orbiter            3           62.5  1997-10-15   \n",
       "clementine       Clementine            3            0.8  1994-01-26   \n",
       "dart                   DART            4            9.1  2021-11-09   \n",
       "dawn                   DAWN            3           86.4  2007-09-27   \n",
       "\n",
       "             Stop Time  \n",
       "shorthand               \n",
       "bc          2023-01-01  \n",
       "cassini     2017-09-15  \n",
       "clementine  1994-05-07  \n",
       "dart        2050-01-01  \n",
       "dawn        2018-10-31  "
      ]
     },
     "execution_count": null,
     "metadata": {},
     "output_type": "execute_result"
    }
   ],
   "source": [
    "from planetarypy.spice import kernels\n",
    "\n",
    "kernels.datasets.drop(\"path\", axis=1).head()"
   ]
  },
  {
   "attachments": {},
   "cell_type": "markdown",
   "id": "1eb8e1ff-683a-4028-abb5-9e7703ae64d8",
   "metadata": {},
   "source": [
    "### Two main user functions:\n",
    "\n",
    "- get_metakernel_and_files\n",
    "  - will check if the kernel files are already locally available\n",
    "  - if not, download kernels\n",
    "  - returns the path to the edited meta-kernel\n",
    "- list_kernels_for_day\n",
    "  - will only list kernel filenames valid for the given day\n",
    " \n",
    "---"
   ]
  },
  {
   "cell_type": "markdown",
   "id": "45535923-781e-40f6-bf5e-f9683bd95cd2",
   "metadata": {},
   "source": [
    "# Generic kernels for illumination calculations"
   ]
  },
  {
   "cell_type": "markdown",
   "id": "d02d0c28-2c95-43f3-9512-2c1de98927e6",
   "metadata": {},
   "source": [
    "## Generic kernels\n",
    "\n",
    "- Manages a minimal set for basic illumination calculations\n",
    "- Currently slightly biased for Mars but many other bodies work\n",
    "- Kernels are automatically downloaded and loaded when needed."
   ]
  },
  {
   "cell_type": "markdown",
   "id": "7a96479f-d291-4163-9a66-6857af2a0fce",
   "metadata": {},
   "source": [
    "## Example use"
   ]
  },
  {
   "cell_type": "code",
   "execution_count": null,
   "id": "f97e1c77-fc71-42c7-8ef3-c5ef2407a948",
   "metadata": {},
   "outputs": [
    {
     "name": "stdout",
     "output_type": "stream",
     "text": [
      "Sol. const: 1388.4 W / m2\n",
      "Irradiance on tilted surface element: 412.5 W / m2\n"
     ]
    }
   ],
   "source": [
    "from planetarypy.spice.spicer import MoonSpicer\n",
    "\n",
    "moon = MoonSpicer(\"2022-02-22\")\n",
    "print(f\"Sol. const: {moon.solar_constant:.1f}\")\n",
    "moon.set_spoint_by(lat=0, lon=0)\n",
    "moon.aspect = 180\n",
    "moon.tilt = 30\n",
    "print(f\"Irradiance on tilted surface element: {moon.F_tilt:.1f}\")"
   ]
  },
  {
   "cell_type": "markdown",
   "id": "85035b71-99b9-46f9-9ab5-d45c8809a0df",
   "metadata": {},
   "source": [
    "# Come to the demo session!"
   ]
  },
  {
   "cell_type": "code",
   "execution_count": null,
   "id": "ded2aebe-3eee-4069-b4dd-6e441f761cab",
   "metadata": {},
   "outputs": [],
   "source": []
  }
 ],
 "metadata": {
  "kernelspec": {
   "display_name": "conda-env-py39-py",
   "language": "python",
   "name": "conda-env-py39-py"
  }
 },
 "nbformat": 4,
 "nbformat_minor": 5
}
