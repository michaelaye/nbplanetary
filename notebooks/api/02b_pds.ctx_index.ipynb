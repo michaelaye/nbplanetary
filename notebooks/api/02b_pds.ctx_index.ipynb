{
 "cells": [
  {
   "cell_type": "code",
   "execution_count": null,
   "id": "israeli-redhead",
   "metadata": {},
   "outputs": [],
   "source": [
    "#| default_exp pds.ctx_index"
   ]
  },
  {
   "cell_type": "markdown",
   "id": "immediate-honduras",
   "metadata": {},
   "source": [
    "# CTX Index\n",
    "\n",
    "> Scraping the latest CTX index from the latest added volume.\n",
    "\n",
    "The CTX Index is special as it's latest URL is dynamic, so it needs to be web-scraped."
   ]
  },
  {
   "cell_type": "code",
   "execution_count": null,
   "id": "comparative-feeding",
   "metadata": {},
   "outputs": [],
   "source": [
    "#| hide\n",
    "from nbdev.showdoc import show_doc"
   ]
  },
  {
   "cell_type": "code",
   "execution_count": null,
   "id": "premier-medium",
   "metadata": {},
   "outputs": [],
   "source": [
    "#| export\n",
    "from dataclasses import dataclass\n",
    "from string import Template\n",
    "\n",
    "import pandas as pd"
   ]
  },
  {
   "cell_type": "code",
   "execution_count": null,
   "id": "561accab",
   "metadata": {},
   "outputs": [],
   "source": [
    "#| export\n",
    "@dataclass\n",
    "class CTXIndex:\n",
    "    \"\"\"Class to determine the URL for the latest cumulative index.\n",
    "\n",
    "    This is a 2 step process, where first the MRO release page is scraped\n",
    "    for the latest CTX release, and then the latest release page is scraped\n",
    "    for the latest volume.\n",
    "    From that latest volume the latest index URL is constructed.\n",
    "    \"\"\"\n",
    "    volumes_url: str = \"https://pds-imaging.jpl.nasa.gov/volumes/mro.html\"\n",
    "    release_url_template: Template = Template(\"https://pds-imaging.jpl.nasa.gov/volumes/mro/release${release}.html\")\n",
    "    volume_url_template: Template = Template(\n",
    "        \"https://pds-imaging.jpl.nasa.gov/data/mro/mars_reconnaissance_orbiter/ctx/mrox_${volume}/\")\n",
    "    scraped_tables: bool = False\n",
    "    release_scraped: bool = False\n",
    "\n",
    "    @property\n",
    "    def web_tables_list(self):\n",
    "        \"\"\"Use the pandas scraper to read in the MRO data release table.\n",
    "\n",
    "        The scraper returns several tables in a list and the last one\n",
    "        lists all the CTX volumes.\n",
    "\n",
    "        This could be replaced by cached properties.\n",
    "        \"\"\"\n",
    "        if not self.scraped_tables:\n",
    "            self._list_of_scraped_tables = pd.read_html(self.volumes_url)\n",
    "            self.scraped_tables = True\n",
    "        return self._list_of_scraped_tables\n",
    "\n",
    "    @property\n",
    "    def release_number(self):\n",
    "        \"\"\"Fishes out the release number.\n",
    "\n",
    "        This is needed to construct the exact URL to the latest cumulative index file.\n",
    "        \"\"\"\n",
    "        alist = self.web_tables_list\n",
    "        return alist[-1].iloc[-1, 0].split()[-1]\n",
    "\n",
    "    @property\n",
    "    def release_url(self):\n",
    "        \"Constructs the release URL from the release number.\"\n",
    "        return self.release_url_template.substitute(release=self.release_number)\n",
    "\n",
    "    @property\n",
    "    def latest_volume_url(self):\n",
    "        \"\"\"Scrape the Release URL for the latest volume URL in that.\n",
    "\n",
    "        This is necessary because a release usually has more that one volume.\n",
    "        \"\"\"\n",
    "        if not self.release_scraped:\n",
    "            alist = pd.read_html(self.release_url)\n",
    "            # get last row of 4th table\n",
    "            row = alist[3].iloc[-1]\n",
    "            number = None\n",
    "            # first number that is NAN breaks the loop over last row of table\n",
    "            for elem in row.values:\n",
    "                try:\n",
    "                    number = int(elem.split()[-1])\n",
    "                except AttributeError:\n",
    "                    break\n",
    "            self.number = number\n",
    "            self.release_scraped = True\n",
    "        return self.volume_url_template.substitute(volume=self.number)\n",
    "\n",
    "    @property\n",
    "    def latest_index_label_url(self):\n",
    "        \"Construct the URL for the latest cumulative index.\"\n",
    "\n",
    "        return self.latest_volume_url + \"index/cumindex.lbl\""
   ]
  },
  {
   "cell_type": "code",
   "execution_count": null,
   "id": "84adfd3a-9fff-4642-9885-bfd1031e08b3",
   "metadata": {},
   "outputs": [],
   "source": [
    "ctx = CTXIndex()"
   ]
  },
  {
   "cell_type": "code",
   "execution_count": null,
   "id": "incredible-rainbow",
   "metadata": {},
   "outputs": [
    {
     "data": {
      "text/markdown": [
       "---\n",
       "\n",
       "[source](https://github.com/michaelaye/nbplanetary/blob/master/planetarypy/pds/ctx_index.py#L34){target=\"_blank\" style=\"float:right; font-size:smaller\"}\n",
       "\n",
       "### CTXIndex.web_tables_list\n",
       "\n",
       ">      CTXIndex.web_tables_list ()\n",
       "\n",
       "Use the pandas scraper to read in the MRO data release table.\n",
       "\n",
       "The scraper returns several tables in a list and the last one\n",
       "lists all the CTX volumes.\n",
       "\n",
       "This could be replaced by cached properties."
      ],
      "text/plain": [
       "---\n",
       "\n",
       "[source](https://github.com/michaelaye/nbplanetary/blob/master/planetarypy/pds/ctx_index.py#L34){target=\"_blank\" style=\"float:right; font-size:smaller\"}\n",
       "\n",
       "### CTXIndex.web_tables_list\n",
       "\n",
       ">      CTXIndex.web_tables_list ()\n",
       "\n",
       "Use the pandas scraper to read in the MRO data release table.\n",
       "\n",
       "The scraper returns several tables in a list and the last one\n",
       "lists all the CTX volumes.\n",
       "\n",
       "This could be replaced by cached properties."
      ]
     },
     "execution_count": null,
     "metadata": {},
     "output_type": "execute_result"
    }
   ],
   "source": [
    "show_doc(CTXIndex.web_tables_list)"
   ]
  },
  {
   "cell_type": "code",
   "execution_count": null,
   "id": "attached-medication",
   "metadata": {},
   "outputs": [
    {
     "data": {
      "text/html": [
       "<div>\n",
       "<style scoped>\n",
       "    .dataframe tbody tr th:only-of-type {\n",
       "        vertical-align: middle;\n",
       "    }\n",
       "\n",
       "    .dataframe tbody tr th {\n",
       "        vertical-align: top;\n",
       "    }\n",
       "\n",
       "    .dataframe thead th {\n",
       "        text-align: right;\n",
       "    }\n",
       "</style>\n",
       "<table border=\"1\" class=\"dataframe\">\n",
       "  <thead>\n",
       "    <tr style=\"text-align: right;\">\n",
       "      <th></th>\n",
       "      <th>Mission to MarsContext Camera (CTX) and Mars Color Imager (MARCI) MRO LEVEL 0 EDRs V1.0</th>\n",
       "      <th>Mission to MarsContext Camera (CTX) and Mars Color Imager (MARCI) MRO LEVEL 0 EDRs V1.0.1</th>\n",
       "      <th>Mission to MarsContext Camera (CTX) and Mars Color Imager (MARCI) MRO LEVEL 0 EDRs V1.0.2</th>\n",
       "    </tr>\n",
       "  </thead>\n",
       "  <tbody>\n",
       "    <tr>\n",
       "      <th>0</th>\n",
       "      <td>Release 1</td>\n",
       "      <td>NaN</td>\n",
       "      <td>CTX and MARCI (includes data acquired during c...</td>\n",
       "    </tr>\n",
       "    <tr>\n",
       "      <th>1</th>\n",
       "      <td>Release 2</td>\n",
       "      <td>NaN</td>\n",
       "      <td>CTX (31 volumes mrox_0033-0063) and MARCI (14 ...</td>\n",
       "    </tr>\n",
       "    <tr>\n",
       "      <th>2</th>\n",
       "      <td>Release 3</td>\n",
       "      <td>NaN</td>\n",
       "      <td>CTX (64 volumes mrox_0064-0127) and MARCI (28 ...</td>\n",
       "    </tr>\n",
       "    <tr>\n",
       "      <th>3</th>\n",
       "      <td>Release 4</td>\n",
       "      <td>NaN</td>\n",
       "      <td>CTX (60 volumes mrox_0128-0187) and MARCI (30 ...</td>\n",
       "    </tr>\n",
       "    <tr>\n",
       "      <th>4</th>\n",
       "      <td>Release 5</td>\n",
       "      <td>NaN</td>\n",
       "      <td>CTX (134 volumes mrox_0188-0321) and MARCI (32...</td>\n",
       "    </tr>\n",
       "  </tbody>\n",
       "</table>\n",
       "</div>"
      ],
      "text/plain": [
       "  Mission to MarsContext Camera (CTX) and Mars Color Imager (MARCI) MRO LEVEL 0 EDRs V1.0  \\\n",
       "0                                          Release 1                                        \n",
       "1                                          Release 2                                        \n",
       "2                                          Release 3                                        \n",
       "3                                          Release 4                                        \n",
       "4                                          Release 5                                        \n",
       "\n",
       "   Mission to MarsContext Camera (CTX) and Mars Color Imager (MARCI) MRO LEVEL 0 EDRs V1.0.1  \\\n",
       "0                                                NaN                                           \n",
       "1                                                NaN                                           \n",
       "2                                                NaN                                           \n",
       "3                                                NaN                                           \n",
       "4                                                NaN                                           \n",
       "\n",
       "  Mission to MarsContext Camera (CTX) and Mars Color Imager (MARCI) MRO LEVEL 0 EDRs V1.0.2  \n",
       "0  CTX and MARCI (includes data acquired during c...                                         \n",
       "1  CTX (31 volumes mrox_0033-0063) and MARCI (14 ...                                         \n",
       "2  CTX (64 volumes mrox_0064-0127) and MARCI (28 ...                                         \n",
       "3  CTX (60 volumes mrox_0128-0187) and MARCI (30 ...                                         \n",
       "4  CTX (134 volumes mrox_0188-0321) and MARCI (32...                                         "
      ]
     },
     "execution_count": null,
     "metadata": {},
     "output_type": "execute_result"
    }
   ],
   "source": [
    "ctx.web_tables_list[-1].head()"
   ]
  },
  {
   "cell_type": "code",
   "execution_count": null,
   "id": "swiss-equipment",
   "metadata": {},
   "outputs": [],
   "source": [
    "assert type(ctx.web_tables_list) == list"
   ]
  },
  {
   "cell_type": "code",
   "execution_count": null,
   "id": "incomplete-austin",
   "metadata": {},
   "outputs": [],
   "source": [
    "assert len(ctx.web_tables_list) == 4"
   ]
  },
  {
   "cell_type": "code",
   "execution_count": null,
   "id": "shared-flexibility",
   "metadata": {},
   "outputs": [
    {
     "data": {
      "text/markdown": [
       "---\n",
       "\n",
       "[source](https://github.com/michaelaye/nbplanetary/blob/master/planetarypy/pds/ctx_index.py#L48){target=\"_blank\" style=\"float:right; font-size:smaller\"}\n",
       "\n",
       "### CTXIndex.release_number\n",
       "\n",
       ">      CTXIndex.release_number ()\n",
       "\n",
       "Fishes out the release number.\n",
       "\n",
       "This is needed to construct the exact URL to the latest cumulative index file."
      ],
      "text/plain": [
       "---\n",
       "\n",
       "[source](https://github.com/michaelaye/nbplanetary/blob/master/planetarypy/pds/ctx_index.py#L48){target=\"_blank\" style=\"float:right; font-size:smaller\"}\n",
       "\n",
       "### CTXIndex.release_number\n",
       "\n",
       ">      CTXIndex.release_number ()\n",
       "\n",
       "Fishes out the release number.\n",
       "\n",
       "This is needed to construct the exact URL to the latest cumulative index file."
      ]
     },
     "execution_count": null,
     "metadata": {},
     "output_type": "execute_result"
    }
   ],
   "source": [
    "show_doc(CTXIndex.release_number)"
   ]
  },
  {
   "cell_type": "code",
   "execution_count": null,
   "id": "further-somerset",
   "metadata": {},
   "outputs": [],
   "source": [
    "assert int(ctx.release_number) >= 64"
   ]
  },
  {
   "cell_type": "code",
   "execution_count": null,
   "id": "sunrise-colon",
   "metadata": {},
   "outputs": [
    {
     "data": {
      "text/markdown": [
       "---\n",
       "\n",
       "[source](https://github.com/michaelaye/nbplanetary/blob/master/planetarypy/pds/ctx_index.py#L57){target=\"_blank\" style=\"float:right; font-size:smaller\"}\n",
       "\n",
       "### CTXIndex.release_url\n",
       "\n",
       ">      CTXIndex.release_url ()\n",
       "\n",
       "Constructs the release URL from the release number."
      ],
      "text/plain": [
       "---\n",
       "\n",
       "[source](https://github.com/michaelaye/nbplanetary/blob/master/planetarypy/pds/ctx_index.py#L57){target=\"_blank\" style=\"float:right; font-size:smaller\"}\n",
       "\n",
       "### CTXIndex.release_url\n",
       "\n",
       ">      CTXIndex.release_url ()\n",
       "\n",
       "Constructs the release URL from the release number."
      ]
     },
     "execution_count": null,
     "metadata": {},
     "output_type": "execute_result"
    }
   ],
   "source": [
    "show_doc(CTXIndex.release_url)"
   ]
  },
  {
   "cell_type": "code",
   "execution_count": null,
   "id": "dried-tomato",
   "metadata": {},
   "outputs": [],
   "source": [
    "assert ctx.release_url == f\"https://pds-imaging.jpl.nasa.gov/volumes/mro/release{ctx.release_number}.html\""
   ]
  },
  {
   "cell_type": "code",
   "execution_count": null,
   "id": "overall-regulation",
   "metadata": {},
   "outputs": [
    {
     "data": {
      "text/markdown": [
       "---\n",
       "\n",
       "[source](https://github.com/michaelaye/nbplanetary/blob/master/planetarypy/pds/ctx_index.py#L62){target=\"_blank\" style=\"float:right; font-size:smaller\"}\n",
       "\n",
       "### CTXIndex.latest_volume_url\n",
       "\n",
       ">      CTXIndex.latest_volume_url ()\n",
       "\n",
       "Scrape the Release URL for the latest volume URL in that.\n",
       "\n",
       "This is necessary because a release usually has more that one volume."
      ],
      "text/plain": [
       "---\n",
       "\n",
       "[source](https://github.com/michaelaye/nbplanetary/blob/master/planetarypy/pds/ctx_index.py#L62){target=\"_blank\" style=\"float:right; font-size:smaller\"}\n",
       "\n",
       "### CTXIndex.latest_volume_url\n",
       "\n",
       ">      CTXIndex.latest_volume_url ()\n",
       "\n",
       "Scrape the Release URL for the latest volume URL in that.\n",
       "\n",
       "This is necessary because a release usually has more that one volume."
      ]
     },
     "execution_count": null,
     "metadata": {},
     "output_type": "execute_result"
    }
   ],
   "source": [
    "show_doc(CTXIndex.latest_volume_url)"
   ]
  },
  {
   "cell_type": "code",
   "execution_count": null,
   "id": "fifth-puzzle",
   "metadata": {},
   "outputs": [
    {
     "data": {
      "text/plain": [
       "'https://pds-imaging.jpl.nasa.gov/data/mro/mars_reconnaissance_orbiter/ctx/mrox_4348/'"
      ]
     },
     "execution_count": null,
     "metadata": {},
     "output_type": "execute_result"
    }
   ],
   "source": [
    "ctx.latest_volume_url"
   ]
  },
  {
   "cell_type": "code",
   "execution_count": null,
   "id": "palestinian-lighter",
   "metadata": {},
   "outputs": [],
   "source": [
    "assert type(ctx.latest_volume_url) == str"
   ]
  },
  {
   "cell_type": "code",
   "execution_count": null,
   "id": "detailed-alert",
   "metadata": {},
   "outputs": [
    {
     "data": {
      "text/markdown": [
       "---\n",
       "\n",
       "[source](https://github.com/michaelaye/nbplanetary/blob/master/planetarypy/pds/ctx_index.py#L83){target=\"_blank\" style=\"float:right; font-size:smaller\"}\n",
       "\n",
       "### CTXIndex.latest_index_label_url\n",
       "\n",
       ">      CTXIndex.latest_index_label_url ()\n",
       "\n",
       "Construct the URL for the latest cumulative index."
      ],
      "text/plain": [
       "---\n",
       "\n",
       "[source](https://github.com/michaelaye/nbplanetary/blob/master/planetarypy/pds/ctx_index.py#L83){target=\"_blank\" style=\"float:right; font-size:smaller\"}\n",
       "\n",
       "### CTXIndex.latest_index_label_url\n",
       "\n",
       ">      CTXIndex.latest_index_label_url ()\n",
       "\n",
       "Construct the URL for the latest cumulative index."
      ]
     },
     "execution_count": null,
     "metadata": {},
     "output_type": "execute_result"
    }
   ],
   "source": [
    "show_doc(CTXIndex.latest_index_label_url)"
   ]
  },
  {
   "cell_type": "code",
   "execution_count": null,
   "id": "complete-digest",
   "metadata": {},
   "outputs": [
    {
     "data": {
      "text/plain": [
       "'https://pds-imaging.jpl.nasa.gov/data/mro/mars_reconnaissance_orbiter/ctx/mrox_4348/index/cumindex.lbl'"
      ]
     },
     "execution_count": null,
     "metadata": {},
     "output_type": "execute_result"
    }
   ],
   "source": [
    "ctx.latest_index_label_url"
   ]
  },
  {
   "cell_type": "code",
   "execution_count": null,
   "id": "49f15cd7",
   "metadata": {},
   "outputs": [],
   "source": [
    "#| hide\n",
    "from nbdev import nbdev_export\n",
    "\n",
    "nbdev_export()"
   ]
  },
  {
   "cell_type": "code",
   "execution_count": null,
   "id": "77b4eb32-86df-475c-ad77-a7bf25dbf0f0",
   "metadata": {},
   "outputs": [],
   "source": []
  }
 ],
 "metadata": {
  "kernelspec": {
   "display_name": "python3",
   "language": "python",
   "name": "python3"
  }
 },
 "nbformat": 4,
 "nbformat_minor": 5
}
