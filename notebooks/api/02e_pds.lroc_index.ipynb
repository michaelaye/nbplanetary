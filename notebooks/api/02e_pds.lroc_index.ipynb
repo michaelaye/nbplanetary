{
 "cells": [
  {
   "cell_type": "code",
   "execution_count": null,
   "id": "d42c66c2-9133-4789-aa24-db779ef51ebf",
   "metadata": {},
   "outputs": [],
   "source": [
    "#| default_exp pds.lroc_index"
   ]
  },
  {
   "cell_type": "markdown",
   "id": "42d06a12-10ff-4b69-bf28-dca56ae4df95",
   "metadata": {},
   "source": [
    "# LROC Index\n",
    "> LROC Index is not at a fixed URL, so need to determine dynamically."
   ]
  },
  {
   "cell_type": "code",
   "execution_count": null,
   "id": "2417b3cc",
   "metadata": {},
   "outputs": [],
   "source": [
    "#| export\n",
    "import pandas as pd\n",
    "from yarl import URL\n",
    "import warnings"
   ]
  },
  {
   "cell_type": "code",
   "execution_count": null,
   "id": "b9cdad61-f102-4563-989e-19d85ca8be20",
   "metadata": {},
   "outputs": [],
   "source": [
    "#| hide\n",
    "from nbdev.showdoc import *"
   ]
  },
  {
   "cell_type": "markdown",
   "id": "7350aeb9-d9f2-48f2-bcbb-2c6dd7327b0c",
   "metadata": {},
   "source": [
    "# EDR vs RDR etc.\n",
    "I cannot distinguish between different data levels for dynamic index URLs yet, as is required for LROC, so for now I only implement the EDR index, pretending it's the only one!"
   ]
  },
  {
   "cell_type": "code",
   "execution_count": null,
   "id": "83128ca9-ccb1-4b51-a24c-7126cf49f68a",
   "metadata": {},
   "outputs": [],
   "source": [
    "#| export\n",
    "class LROCIndex:\n",
    "    edr_url = 'https://pds.lroc.asu.edu/data/LRO-L-LROC-2-EDR-V1.0/'\n",
    "\n",
    "    def __init__(self):\n",
    "        self._volumes_table = None\n",
    "\n",
    "    @property\n",
    "    def volumes_table(self):\n",
    "        if self._volumes_table is None:\n",
    "            self._volumes_table = pd.read_html(self.edr_url)[0].dropna(\n",
    "                how='all', axis=1).dropna(how='all', axis=0).iloc[1:-1, :-1]\n",
    "        return self._volumes_table\n",
    "\n",
    "    @property\n",
    "    def latest_release_folder(self):\n",
    "        return self.volumes_table.iloc[-1, 0]\n",
    "\n",
    "    @property\n",
    "    def latest_release_number(self):\n",
    "        return self.latest_release_folder.rstrip('/').split(\"_\")[1]\n",
    "\n",
    "    @property\n",
    "    def latest_index_label_url(self):\n",
    "        return URL(self.edr_url) / f\"{self.latest_release_folder}/INDEX/CUMINDEX.LBL\""
   ]
  },
  {
   "cell_type": "code",
   "execution_count": null,
   "id": "0609991f-15c4-4b54-9d7e-b9b4e1163324",
   "metadata": {},
   "outputs": [],
   "source": [
    "lroc = LROCIndex()"
   ]
  },
  {
   "cell_type": "code",
   "execution_count": null,
   "id": "378723f4-8dc8-49e7-8165-5be0374b6f59",
   "metadata": {},
   "outputs": [
    {
     "data": {
      "text/plain": [
       "'LROLRC_0056A/'"
      ]
     },
     "execution_count": null,
     "metadata": {},
     "output_type": "execute_result"
    }
   ],
   "source": [
    "lroc.latest_release_folder"
   ]
  },
  {
   "cell_type": "code",
   "execution_count": null,
   "id": "7f1222bb-d3a4-4f78-ade7-ad705c145304",
   "metadata": {},
   "outputs": [
    {
     "data": {
      "text/plain": [
       "'0056A'"
      ]
     },
     "execution_count": null,
     "metadata": {},
     "output_type": "execute_result"
    }
   ],
   "source": [
    "lroc.latest_release_number"
   ]
  },
  {
   "cell_type": "code",
   "execution_count": null,
   "id": "74d2908a-fd18-498a-8391-0b41026d5b9e",
   "metadata": {},
   "outputs": [
    {
     "data": {
      "text/plain": [
       "URL('https://pds.lroc.asu.edu/data/LRO-L-LROC-2-EDR-V1.0/LROLRC_0056A/INDEX/CUMINDEX.LBL')"
      ]
     },
     "execution_count": null,
     "metadata": {},
     "output_type": "execute_result"
    }
   ],
   "source": [
    "lroc.latest_index_label_url"
   ]
  },
  {
   "cell_type": "code",
   "execution_count": null,
   "id": "2399c28d-2edd-4ff7-917c-0bfcc696e647",
   "metadata": {},
   "outputs": [],
   "source": []
  }
 ],
 "metadata": {
  "kernelspec": {
   "display_name": "conda-env-py39-py",
   "language": "python",
   "name": "conda-env-py39-py"
  }
 },
 "nbformat": 4,
 "nbformat_minor": 5
}
