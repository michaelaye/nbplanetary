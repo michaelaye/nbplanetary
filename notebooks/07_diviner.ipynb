{
 "cells": [
  {
   "cell_type": "code",
   "execution_count": null,
   "id": "d6681ca9-e612-4773-9c40-ec89dbd6d32d",
   "metadata": {},
   "outputs": [],
   "source": [
    "# default_exp diviner"
   ]
  },
  {
   "cell_type": "markdown",
   "id": "be962232-8775-4b7a-b65c-5c803d557f34",
   "metadata": {},
   "source": [
    "# Diviner\n",
    "> Tools to work with Diviner PDS data"
   ]
  },
  {
   "cell_type": "code",
   "execution_count": null,
   "id": "b0b7e83b-9e8b-4cda-9834-07bedd411535",
   "metadata": {},
   "outputs": [],
   "source": [
    "# hide\n",
    "from nbverbose.showdoc import show_doc"
   ]
  },
  {
   "cell_type": "code",
   "execution_count": null,
   "id": "bade8efd-e712-4217-b8d6-bcbe3331b10f",
   "metadata": {},
   "outputs": [],
   "source": [
    "# export\n",
    "\n",
    "from pathlib import Path\n",
    "\n",
    "from yarl import URL\n",
    "\n",
    "import hvplot.xarray  # noqa\n",
    "from planetarypy.config import config\n",
    "from planetarypy.utils import url_retrieve\n",
    "\n",
    "storage_root = config.storage_root / \"missions/lro/diviner\""
   ]
  },
  {
   "cell_type": "code",
   "execution_count": null,
   "id": "feb779f2-8399-4fdb-b20d-361f06d84d7e",
   "metadata": {},
   "outputs": [],
   "source": [
    "# export\n",
    "def timestring_to_url(\n",
    "    tstr: str,  # timestring of format YYYYmmddHH\n",
    ") -> URL:  # Full URL to the Diviner L1A tab file\n",
    "    \"\"\"Get URL to Diviner L1A data.\n",
    "\n",
    "    There are 2 volumes for now that have slightly different URLs.\n",
    "    \"\"\"\n",
    "    base_url_1 = URL(\n",
    "        \"https://pds-geosciences.wustl.edu/lro/lro-l-dlre-2-edr-v1/lrodlr_0001/data/\"\n",
    "    )\n",
    "    base_url_2 = URL(\n",
    "        \"https://pds-geosciences.wustl.edu/lro/lro-l-dlre-2-edr-v1/lrodlr_0002/data/\"\n",
    "    )\n",
    "    year = tstr[:4]\n",
    "    if int(year) <= 2016:\n",
    "        base_url = base_url_1\n",
    "    else:\n",
    "        base_url = base_url_2\n",
    "    yearmonth = tstr[:6]\n",
    "    yearmonthday = tstr[:8]\n",
    "    return base_url / year / yearmonth / yearmonthday / f\"{tstr}_edr.tab\""
   ]
  },
  {
   "cell_type": "code",
   "execution_count": null,
   "id": "899ef452-1008-4764-8272-5bc2853e6f9c",
   "metadata": {},
   "outputs": [],
   "source": [
    "tstr = \"2018010110\""
   ]
  },
  {
   "cell_type": "code",
   "execution_count": null,
   "id": "0f967cca-3da2-42b2-a52c-f38f55da6b24",
   "metadata": {},
   "outputs": [
    {
     "data": {
      "text/plain": [
       "URL('https://pds-geosciences.wustl.edu/lro/lro-l-dlre-2-edr-v1/lrodlr_0002/data/2018/201801/20180101/2018010110_edr.tab')"
      ]
     },
     "execution_count": null,
     "metadata": {},
     "output_type": "execute_result"
    }
   ],
   "source": [
    "url = timestring_to_url(tstr)\n",
    "url"
   ]
  },
  {
   "cell_type": "code",
   "execution_count": null,
   "id": "1e496e9d-c3c8-4f72-9eca-49a674f13de7",
   "metadata": {},
   "outputs": [],
   "source": [
    "class DataManager:\n",
    "    def __init__(self, tstr):\n",
    "        self.tstr = tstr\n",
    "        self.url = timestring_to_url(tstr)\n",
    "\n",
    "    @property\n",
    "    def year(self):\n",
    "        return int(self.tstr[:4])\n",
    "\n",
    "    @property\n",
    "    def local_path(self):\n",
    "        end = self.url.parts[-4:]\n",
    "        return storage_root / Path(*end)\n",
    "\n",
    "    def download(self, overwrite=False):\n",
    "        if self.local_path.exists() and not overwrite:\n",
    "            print(\"File exists. Use `overwrite=True` to get a fresh copy.\")\n",
    "            return\n",
    "        self.local_path.parent.mkdir(parents=True, exist_ok=True)\n",
    "        url_retrieve(self.url, self.local_path)"
   ]
  },
  {
   "cell_type": "code",
   "execution_count": null,
   "id": "e3ad3f6f-4ed2-4763-9f00-9eb6f739d05e",
   "metadata": {},
   "outputs": [],
   "source": [
    "dm = DataManager(tstr)"
   ]
  },
  {
   "cell_type": "code",
   "execution_count": null,
   "id": "ba9a736d-f2e9-4917-a734-c33e6e82ee91",
   "metadata": {},
   "outputs": [
    {
     "name": "stdout",
     "output_type": "stream",
     "text": [
      "File exists. Use `overwrite=True` to get a fresh copy.\n"
     ]
    }
   ],
   "source": [
    "dm.download()"
   ]
  },
  {
   "cell_type": "code",
   "execution_count": null,
   "id": "8a1e3d8f-80c5-477a-9404-b6a5ef83c0c2",
   "metadata": {},
   "outputs": [
    {
     "data": {
      "text/plain": [
       "Path('/home/maye/big_drive/planetary_data/missions/lro/diviner/2018/201801/20180101/2018010110_edr.tab')"
      ]
     },
     "execution_count": null,
     "metadata": {},
     "output_type": "execute_result"
    }
   ],
   "source": [
    "dm.local_path"
   ]
  },
  {
   "cell_type": "code",
   "execution_count": null,
   "id": "19fca71f-4d92-48fd-8d0e-c1f568da47c3",
   "metadata": {},
   "outputs": [],
   "source": [
    "# export\n",
    "def get_data_path(tstr):\n",
    "    dm = DataManager(tstr)\n",
    "    if not dm.local_path.exists():\n",
    "        dm.download()\n",
    "    return dm.local_path"
   ]
  },
  {
   "cell_type": "code",
   "execution_count": null,
   "id": "d68b850b-1bef-4605-b4a2-102773122e24",
   "metadata": {},
   "outputs": [
    {
     "data": {
      "text/plain": [
       "Path('/home/maye/big_drive/planetary_data/missions/lro/diviner/2017/201701/20170101/2017010110_edr.tab')"
      ]
     },
     "execution_count": null,
     "metadata": {},
     "output_type": "execute_result"
    }
   ],
   "source": [
    "get_data_path(\"2017010110\")"
   ]
  },
  {
   "cell_type": "code",
   "execution_count": null,
   "id": "ae50a580-0626-4c9a-b0f1-bf3efc608ca3",
   "metadata": {},
   "outputs": [],
   "source": []
  }
 ],
 "metadata": {
  "kernelspec": {
   "display_name": "Python [conda env:py38] *",
   "language": "python",
   "name": "conda-env-py38-py"
  }
 },
 "nbformat": 4,
 "nbformat_minor": 5
}
