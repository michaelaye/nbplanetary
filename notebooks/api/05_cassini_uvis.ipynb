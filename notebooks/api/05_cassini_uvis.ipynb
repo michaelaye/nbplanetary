{
 "cells": [
  {
   "cell_type": "code",
   "execution_count": null,
   "id": "2529bbfd-1138-4a5b-a015-11bd4d098fc9",
   "metadata": {},
   "outputs": [],
   "source": [
    "#| default_exp uvis"
   ]
  },
  {
   "cell_type": "markdown",
   "id": "b2859db1-16b8-41a8-a2b9-bd5c35b17140",
   "metadata": {},
   "source": [
    "# UVIS\n",
    "> Data management for Cassini UVIS."
   ]
  },
  {
   "cell_type": "code",
   "execution_count": null,
   "id": "f1ca0102",
   "metadata": {},
   "outputs": [],
   "source": [
    "#| hide\n",
    "from nbdev.showdoc import show_doc  # noqa"
   ]
  },
  {
   "cell_type": "code",
   "execution_count": null,
   "id": "86b61451-d6b0-46b7-b39b-aab215c8a2fd",
   "metadata": {},
   "outputs": [],
   "source": [
    "#| export\n",
    "import tomlkit\n",
    "from yarl import URL\n",
    "\n",
    "from planetarypy.config import config\n",
    "from planetarypy.pds.opusapi import OPUS\n",
    "from planetarypy.pds.apps import get_index\n",
    "from planetarypy.utils import url_retrieve"
   ]
  },
  {
   "cell_type": "code",
   "execution_count": null,
   "id": "e751db46-a622-4904-a217-28f399f69446",
   "metadata": {},
   "outputs": [
    {
     "data": {
      "text/plain": [
       "Path('/home/ayek72/mnt/slowdata/planetarypy/missions/cassini/uvis')"
      ]
     },
     "execution_count": null,
     "metadata": {},
     "output_type": "execute_result"
    }
   ],
   "source": [
    "#| export\n",
    "storage_root = config.storage_root / \"missions/cassini/uvis\"\n",
    "storage_root"
   ]
  },
  {
   "cell_type": "code",
   "execution_count": null,
   "id": "5f4ceba9-27a2-4113-9d79-5498351db54f",
   "metadata": {},
   "outputs": [
    {
     "data": {
      "text/html": [
       "<div>\n",
       "<style scoped>\n",
       "    .dataframe tbody tr th:only-of-type {\n",
       "        vertical-align: middle;\n",
       "    }\n",
       "\n",
       "    .dataframe tbody tr th {\n",
       "        vertical-align: top;\n",
       "    }\n",
       "\n",
       "    .dataframe thead th {\n",
       "        text-align: right;\n",
       "    }\n",
       "</style>\n",
       "<table border=\"1\" class=\"dataframe\">\n",
       "  <thead>\n",
       "    <tr style=\"text-align: right;\">\n",
       "      <th></th>\n",
       "      <th>FILE_NAME</th>\n",
       "      <th>OBSERVATION_TYPE</th>\n",
       "      <th>START_TIME</th>\n",
       "      <th>STOP_TIME</th>\n",
       "      <th>TARGET_NAME</th>\n",
       "      <th>DATA_SET_ID</th>\n",
       "      <th>SPACECRAFT_CLOCK_START_COUNT</th>\n",
       "      <th>SPACECRAFT_CLOCK_STOP_COUNT</th>\n",
       "      <th>INTEGRATION_DURATION</th>\n",
       "      <th>COMPRESSION_TYPE</th>\n",
       "      <th>...</th>\n",
       "      <th>SUB_SOLAR_LONGITUDE</th>\n",
       "      <th>SUB_SPACECRAFT_LATITUDE</th>\n",
       "      <th>SUB_SPACECRAFT_LONGITUDE</th>\n",
       "      <th>PHASE_ANGLE</th>\n",
       "      <th>EMISSION_ANGLE</th>\n",
       "      <th>SOLAR_INCIDENCE_ANGLE</th>\n",
       "      <th>CENTRAL_BODY_DISTANCE</th>\n",
       "      <th>DWELL_TIME</th>\n",
       "      <th>H_LEVEL</th>\n",
       "      <th>D_LEVEL</th>\n",
       "    </tr>\n",
       "  </thead>\n",
       "  <tbody>\n",
       "    <tr>\n",
       "      <th>0</th>\n",
       "      <td>/COUVIS_0001/DATA/D1999_007/EUV1999_007_17_05.LBL</td>\n",
       "      <td>USTARE</td>\n",
       "      <td>1999-01-07 17:05:01.949</td>\n",
       "      <td>1999-01-07 17:08:37.949</td>\n",
       "      <td>&lt;NA&gt;</td>\n",
       "      <td>CO-J-UVIS-2-SPEC-V1.2</td>\n",
       "      <td>1/1294420183.000</td>\n",
       "      <td>UNK</td>\n",
       "      <td>4.0</td>\n",
       "      <td>NONE</td>\n",
       "      <td>...</td>\n",
       "      <td>-999.0</td>\n",
       "      <td>-999.0</td>\n",
       "      <td>-999.0</td>\n",
       "      <td>-999.0</td>\n",
       "      <td>-999.0</td>\n",
       "      <td>-999</td>\n",
       "      <td>-999.0</td>\n",
       "      <td>-999</td>\n",
       "      <td>&lt;NA&gt;</td>\n",
       "      <td>&lt;NA&gt;</td>\n",
       "    </tr>\n",
       "    <tr>\n",
       "      <th>1</th>\n",
       "      <td>/COUVIS_0001/DATA/D1999_007/EUV1999_007_17_08.LBL</td>\n",
       "      <td>USTARE</td>\n",
       "      <td>1999-01-07 17:08:51.947</td>\n",
       "      <td>1999-01-07 17:12:27.947</td>\n",
       "      <td>&lt;NA&gt;</td>\n",
       "      <td>CO-J-UVIS-2-SPEC-V1.2</td>\n",
       "      <td>1/1294420413.000</td>\n",
       "      <td>UNK</td>\n",
       "      <td>4.0</td>\n",
       "      <td>NONE</td>\n",
       "      <td>...</td>\n",
       "      <td>-999.0</td>\n",
       "      <td>-999.0</td>\n",
       "      <td>-999.0</td>\n",
       "      <td>-999.0</td>\n",
       "      <td>-999.0</td>\n",
       "      <td>-999</td>\n",
       "      <td>-999.0</td>\n",
       "      <td>-999</td>\n",
       "      <td>&lt;NA&gt;</td>\n",
       "      <td>&lt;NA&gt;</td>\n",
       "    </tr>\n",
       "    <tr>\n",
       "      <th>2</th>\n",
       "      <td>/COUVIS_0001/DATA/D1999_007/FUV1999_007_16_57.LBL</td>\n",
       "      <td>USTARE</td>\n",
       "      <td>1999-01-07 16:57:21.952</td>\n",
       "      <td>1999-01-07 17:00:57.952</td>\n",
       "      <td>&lt;NA&gt;</td>\n",
       "      <td>CO-J-UVIS-2-SPEC-V1.2</td>\n",
       "      <td>1/1294419723.000</td>\n",
       "      <td>UNK</td>\n",
       "      <td>4.0</td>\n",
       "      <td>NONE</td>\n",
       "      <td>...</td>\n",
       "      <td>-999.0</td>\n",
       "      <td>-999.0</td>\n",
       "      <td>-999.0</td>\n",
       "      <td>-999.0</td>\n",
       "      <td>-999.0</td>\n",
       "      <td>-999</td>\n",
       "      <td>-999.0</td>\n",
       "      <td>-999</td>\n",
       "      <td>&lt;NA&gt;</td>\n",
       "      <td>&lt;NA&gt;</td>\n",
       "    </tr>\n",
       "    <tr>\n",
       "      <th>3</th>\n",
       "      <td>/COUVIS_0001/DATA/D1999_007/FUV1999_007_17_01.LBL</td>\n",
       "      <td>USTARE</td>\n",
       "      <td>1999-01-07 17:01:11.950</td>\n",
       "      <td>1999-01-07 17:04:47.950</td>\n",
       "      <td>&lt;NA&gt;</td>\n",
       "      <td>CO-J-UVIS-2-SPEC-V1.2</td>\n",
       "      <td>1/1294419953.000</td>\n",
       "      <td>UNK</td>\n",
       "      <td>4.0</td>\n",
       "      <td>NONE</td>\n",
       "      <td>...</td>\n",
       "      <td>-999.0</td>\n",
       "      <td>-999.0</td>\n",
       "      <td>-999.0</td>\n",
       "      <td>-999.0</td>\n",
       "      <td>-999.0</td>\n",
       "      <td>-999</td>\n",
       "      <td>-999.0</td>\n",
       "      <td>-999</td>\n",
       "      <td>&lt;NA&gt;</td>\n",
       "      <td>&lt;NA&gt;</td>\n",
       "    </tr>\n",
       "    <tr>\n",
       "      <th>4</th>\n",
       "      <td>/COUVIS_0001/DATA/D1999_007/HDAC1999_007_16_31...</td>\n",
       "      <td>UHDAC</td>\n",
       "      <td>1999-01-07 16:31:07.962</td>\n",
       "      <td>1999-01-07 16:31:11.962</td>\n",
       "      <td>&lt;NA&gt;</td>\n",
       "      <td>CO-J-UVIS-2-SSB-V1.2</td>\n",
       "      <td>1/1294418149.000</td>\n",
       "      <td>UNK</td>\n",
       "      <td>-999.0</td>\n",
       "      <td>NONE</td>\n",
       "      <td>...</td>\n",
       "      <td>-999.0</td>\n",
       "      <td>-999.0</td>\n",
       "      <td>-999.0</td>\n",
       "      <td>-999.0</td>\n",
       "      <td>-999.0</td>\n",
       "      <td>-999</td>\n",
       "      <td>-999.0</td>\n",
       "      <td>1</td>\n",
       "      <td>(0, 0, 0, 0, 0, 0, 0, 0, 0, 0, 0, 0, 0, 0, 0, 0)</td>\n",
       "      <td>(0, 0, 0, 0, 0, 0, 0, 0, 0, 0, 0, 0, 0, 0, 0, 0)</td>\n",
       "    </tr>\n",
       "    <tr>\n",
       "      <th>...</th>\n",
       "      <td>...</td>\n",
       "      <td>...</td>\n",
       "      <td>...</td>\n",
       "      <td>...</td>\n",
       "      <td>...</td>\n",
       "      <td>...</td>\n",
       "      <td>...</td>\n",
       "      <td>...</td>\n",
       "      <td>...</td>\n",
       "      <td>...</td>\n",
       "      <td>...</td>\n",
       "      <td>...</td>\n",
       "      <td>...</td>\n",
       "      <td>...</td>\n",
       "      <td>...</td>\n",
       "      <td>...</td>\n",
       "      <td>...</td>\n",
       "      <td>...</td>\n",
       "      <td>...</td>\n",
       "      <td>...</td>\n",
       "      <td>...</td>\n",
       "    </tr>\n",
       "    <tr>\n",
       "      <th>203240</th>\n",
       "      <td>/COUVIS_0060/DATA/D2017_258/FUV2017_258_04_31.LBL</td>\n",
       "      <td>&lt;NA&gt;</td>\n",
       "      <td>2017-09-15 04:31:53.005</td>\n",
       "      <td>2017-09-15 09:04:56.755</td>\n",
       "      <td>SOLAR WIND</td>\n",
       "      <td>CO-S-UVIS-2-CUBE-V1.4</td>\n",
       "      <td>1/1884145299.160</td>\n",
       "      <td>UNK</td>\n",
       "      <td>8191.875</td>\n",
       "      <td>SQRT_9</td>\n",
       "      <td>...</td>\n",
       "      <td>-999.0</td>\n",
       "      <td>-999.0</td>\n",
       "      <td>-999.0</td>\n",
       "      <td>-999.0</td>\n",
       "      <td>-999.0</td>\n",
       "      <td>-999</td>\n",
       "      <td>-999.0</td>\n",
       "      <td>-999</td>\n",
       "      <td>&lt;NA&gt;</td>\n",
       "      <td>&lt;NA&gt;</td>\n",
       "    </tr>\n",
       "    <tr>\n",
       "      <th>203241</th>\n",
       "      <td>/COUVIS_0060/DATA/D2017_258/FUV2017_258_07_00.LBL</td>\n",
       "      <td>&lt;NA&gt;</td>\n",
       "      <td>2017-09-15 07:00:27.697</td>\n",
       "      <td>2017-09-15 07:13:40.447</td>\n",
       "      <td>SOLAR WIND</td>\n",
       "      <td>CO-S-UVIS-2-SPEC-V1.4</td>\n",
       "      <td>1/1884154214.096</td>\n",
       "      <td>UNK</td>\n",
       "      <td>2.625</td>\n",
       "      <td>SQRT_9</td>\n",
       "      <td>...</td>\n",
       "      <td>-999.0</td>\n",
       "      <td>-999.0</td>\n",
       "      <td>-999.0</td>\n",
       "      <td>-999.0</td>\n",
       "      <td>-999.0</td>\n",
       "      <td>-999</td>\n",
       "      <td>-999.0</td>\n",
       "      <td>-999</td>\n",
       "      <td>&lt;NA&gt;</td>\n",
       "      <td>&lt;NA&gt;</td>\n",
       "    </tr>\n",
       "    <tr>\n",
       "      <th>203242</th>\n",
       "      <td>/COUVIS_0060/DATA/D2017_258/FUV2017_258_07_15.LBL</td>\n",
       "      <td>&lt;NA&gt;</td>\n",
       "      <td>2017-09-15 07:15:04.442</td>\n",
       "      <td>2017-09-15 10:31:51.692</td>\n",
       "      <td>SOLAR WIND</td>\n",
       "      <td>CO-S-UVIS-2-SPEC-V1.4</td>\n",
       "      <td>1/1884155091.032</td>\n",
       "      <td>UNK</td>\n",
       "      <td>2.625</td>\n",
       "      <td>SQRT_9</td>\n",
       "      <td>...</td>\n",
       "      <td>-999.0</td>\n",
       "      <td>-999.0</td>\n",
       "      <td>-999.0</td>\n",
       "      <td>-999.0</td>\n",
       "      <td>-999.0</td>\n",
       "      <td>-999</td>\n",
       "      <td>-999.0</td>\n",
       "      <td>-999</td>\n",
       "      <td>&lt;NA&gt;</td>\n",
       "      <td>&lt;NA&gt;</td>\n",
       "    </tr>\n",
       "    <tr>\n",
       "      <th>203243</th>\n",
       "      <td>/COUVIS_0060/DATA/D2017_258/HDAC2017_258_02_14...</td>\n",
       "      <td>&lt;NA&gt;</td>\n",
       "      <td>2017-09-15 02:14:02.433</td>\n",
       "      <td>2017-09-15 02:14:06.433</td>\n",
       "      <td>SOLAR WIND</td>\n",
       "      <td>CO-S-UVIS-2-SSB-V1.4</td>\n",
       "      <td>1/1884137029.000</td>\n",
       "      <td>UNK</td>\n",
       "      <td>-999.0</td>\n",
       "      <td>NONE</td>\n",
       "      <td>...</td>\n",
       "      <td>-999.0</td>\n",
       "      <td>-999.0</td>\n",
       "      <td>-999.0</td>\n",
       "      <td>-999.0</td>\n",
       "      <td>-999.0</td>\n",
       "      <td>-999</td>\n",
       "      <td>-999.0</td>\n",
       "      <td>1</td>\n",
       "      <td>(0, 0, 0, 0, 0, 0, 0, 0, 0, 0, 0, 0, 0, 0, 0, 0)</td>\n",
       "      <td>(0, 0, 0, 0, 0, 0, 0, 0, 0, 0, 0, 0, 0, 0, 0, 0)</td>\n",
       "    </tr>\n",
       "    <tr>\n",
       "      <th>203244</th>\n",
       "      <td>/COUVIS_0060/DATA/D2017_258/HDAC2017_258_02_15...</td>\n",
       "      <td>&lt;NA&gt;</td>\n",
       "      <td>2017-09-15 02:15:25.058</td>\n",
       "      <td>2017-09-15 02:17:33.058</td>\n",
       "      <td>SOLAR WIND</td>\n",
       "      <td>CO-S-UVIS-2-SSB-V1.4</td>\n",
       "      <td>1/1884137111.160</td>\n",
       "      <td>UNK</td>\n",
       "      <td>-999.0</td>\n",
       "      <td>NONE</td>\n",
       "      <td>...</td>\n",
       "      <td>-999.0</td>\n",
       "      <td>-999.0</td>\n",
       "      <td>-999.0</td>\n",
       "      <td>-999.0</td>\n",
       "      <td>-999.0</td>\n",
       "      <td>-999</td>\n",
       "      <td>-999.0</td>\n",
       "      <td>32</td>\n",
       "      <td>(0, 0, 0, 0, 0, 0, 0, 0, 0, 0, 0, 0, 0, 0, 0, 0)</td>\n",
       "      <td>(0, 0, 0, 0, 0, 0, 0, 0, 0, 0, 0, 0, 0, 0, 0, 0)</td>\n",
       "    </tr>\n",
       "  </tbody>\n",
       "</table>\n",
       "<p>203245 rows × 28 columns</p>\n",
       "</div>"
      ],
      "text/plain": [
       "                                                FILE_NAME OBSERVATION_TYPE  \\\n",
       "0       /COUVIS_0001/DATA/D1999_007/EUV1999_007_17_05.LBL           USTARE   \n",
       "1       /COUVIS_0001/DATA/D1999_007/EUV1999_007_17_08.LBL           USTARE   \n",
       "2       /COUVIS_0001/DATA/D1999_007/FUV1999_007_16_57.LBL           USTARE   \n",
       "3       /COUVIS_0001/DATA/D1999_007/FUV1999_007_17_01.LBL           USTARE   \n",
       "4       /COUVIS_0001/DATA/D1999_007/HDAC1999_007_16_31...            UHDAC   \n",
       "...                                                   ...              ...   \n",
       "203240  /COUVIS_0060/DATA/D2017_258/FUV2017_258_04_31.LBL             <NA>   \n",
       "203241  /COUVIS_0060/DATA/D2017_258/FUV2017_258_07_00.LBL             <NA>   \n",
       "203242  /COUVIS_0060/DATA/D2017_258/FUV2017_258_07_15.LBL             <NA>   \n",
       "203243  /COUVIS_0060/DATA/D2017_258/HDAC2017_258_02_14...             <NA>   \n",
       "203244  /COUVIS_0060/DATA/D2017_258/HDAC2017_258_02_15...             <NA>   \n",
       "\n",
       "                    START_TIME               STOP_TIME TARGET_NAME  \\\n",
       "0      1999-01-07 17:05:01.949 1999-01-07 17:08:37.949        <NA>   \n",
       "1      1999-01-07 17:08:51.947 1999-01-07 17:12:27.947        <NA>   \n",
       "2      1999-01-07 16:57:21.952 1999-01-07 17:00:57.952        <NA>   \n",
       "3      1999-01-07 17:01:11.950 1999-01-07 17:04:47.950        <NA>   \n",
       "4      1999-01-07 16:31:07.962 1999-01-07 16:31:11.962        <NA>   \n",
       "...                        ...                     ...         ...   \n",
       "203240 2017-09-15 04:31:53.005 2017-09-15 09:04:56.755  SOLAR WIND   \n",
       "203241 2017-09-15 07:00:27.697 2017-09-15 07:13:40.447  SOLAR WIND   \n",
       "203242 2017-09-15 07:15:04.442 2017-09-15 10:31:51.692  SOLAR WIND   \n",
       "203243 2017-09-15 02:14:02.433 2017-09-15 02:14:06.433  SOLAR WIND   \n",
       "203244 2017-09-15 02:15:25.058 2017-09-15 02:17:33.058  SOLAR WIND   \n",
       "\n",
       "                  DATA_SET_ID SPACECRAFT_CLOCK_START_COUNT  \\\n",
       "0       CO-J-UVIS-2-SPEC-V1.2             1/1294420183.000   \n",
       "1       CO-J-UVIS-2-SPEC-V1.2             1/1294420413.000   \n",
       "2       CO-J-UVIS-2-SPEC-V1.2             1/1294419723.000   \n",
       "3       CO-J-UVIS-2-SPEC-V1.2             1/1294419953.000   \n",
       "4        CO-J-UVIS-2-SSB-V1.2             1/1294418149.000   \n",
       "...                       ...                          ...   \n",
       "203240  CO-S-UVIS-2-CUBE-V1.4             1/1884145299.160   \n",
       "203241  CO-S-UVIS-2-SPEC-V1.4             1/1884154214.096   \n",
       "203242  CO-S-UVIS-2-SPEC-V1.4             1/1884155091.032   \n",
       "203243   CO-S-UVIS-2-SSB-V1.4             1/1884137029.000   \n",
       "203244   CO-S-UVIS-2-SSB-V1.4             1/1884137111.160   \n",
       "\n",
       "       SPACECRAFT_CLOCK_STOP_COUNT  INTEGRATION_DURATION COMPRESSION_TYPE  \\\n",
       "0                              UNK                   4.0             NONE   \n",
       "1                              UNK                   4.0             NONE   \n",
       "2                              UNK                   4.0             NONE   \n",
       "3                              UNK                   4.0             NONE   \n",
       "4                              UNK                -999.0             NONE   \n",
       "...                            ...                   ...              ...   \n",
       "203240                         UNK              8191.875           SQRT_9   \n",
       "203241                         UNK                 2.625           SQRT_9   \n",
       "203242                         UNK                 2.625           SQRT_9   \n",
       "203243                         UNK                -999.0             NONE   \n",
       "203244                         UNK                -999.0             NONE   \n",
       "\n",
       "        ... SUB_SOLAR_LONGITUDE SUB_SPACECRAFT_LATITUDE  \\\n",
       "0       ...              -999.0                  -999.0   \n",
       "1       ...              -999.0                  -999.0   \n",
       "2       ...              -999.0                  -999.0   \n",
       "3       ...              -999.0                  -999.0   \n",
       "4       ...              -999.0                  -999.0   \n",
       "...     ...                 ...                     ...   \n",
       "203240  ...              -999.0                  -999.0   \n",
       "203241  ...              -999.0                  -999.0   \n",
       "203242  ...              -999.0                  -999.0   \n",
       "203243  ...              -999.0                  -999.0   \n",
       "203244  ...              -999.0                  -999.0   \n",
       "\n",
       "       SUB_SPACECRAFT_LONGITUDE PHASE_ANGLE  EMISSION_ANGLE  \\\n",
       "0                        -999.0      -999.0          -999.0   \n",
       "1                        -999.0      -999.0          -999.0   \n",
       "2                        -999.0      -999.0          -999.0   \n",
       "3                        -999.0      -999.0          -999.0   \n",
       "4                        -999.0      -999.0          -999.0   \n",
       "...                         ...         ...             ...   \n",
       "203240                   -999.0      -999.0          -999.0   \n",
       "203241                   -999.0      -999.0          -999.0   \n",
       "203242                   -999.0      -999.0          -999.0   \n",
       "203243                   -999.0      -999.0          -999.0   \n",
       "203244                   -999.0      -999.0          -999.0   \n",
       "\n",
       "        SOLAR_INCIDENCE_ANGLE  CENTRAL_BODY_DISTANCE  DWELL_TIME  \\\n",
       "0                        -999                 -999.0        -999   \n",
       "1                        -999                 -999.0        -999   \n",
       "2                        -999                 -999.0        -999   \n",
       "3                        -999                 -999.0        -999   \n",
       "4                        -999                 -999.0           1   \n",
       "...                       ...                    ...         ...   \n",
       "203240                   -999                 -999.0        -999   \n",
       "203241                   -999                 -999.0        -999   \n",
       "203242                   -999                 -999.0        -999   \n",
       "203243                   -999                 -999.0           1   \n",
       "203244                   -999                 -999.0          32   \n",
       "\n",
       "                                                 H_LEVEL  \\\n",
       "0                                                   <NA>   \n",
       "1                                                   <NA>   \n",
       "2                                                   <NA>   \n",
       "3                                                   <NA>   \n",
       "4       (0, 0, 0, 0, 0, 0, 0, 0, 0, 0, 0, 0, 0, 0, 0, 0)   \n",
       "...                                                  ...   \n",
       "203240                                              <NA>   \n",
       "203241                                              <NA>   \n",
       "203242                                              <NA>   \n",
       "203243  (0, 0, 0, 0, 0, 0, 0, 0, 0, 0, 0, 0, 0, 0, 0, 0)   \n",
       "203244  (0, 0, 0, 0, 0, 0, 0, 0, 0, 0, 0, 0, 0, 0, 0, 0)   \n",
       "\n",
       "                                                 D_LEVEL  \n",
       "0                                                   <NA>  \n",
       "1                                                   <NA>  \n",
       "2                                                   <NA>  \n",
       "3                                                   <NA>  \n",
       "4       (0, 0, 0, 0, 0, 0, 0, 0, 0, 0, 0, 0, 0, 0, 0, 0)  \n",
       "...                                                  ...  \n",
       "203240                                              <NA>  \n",
       "203241                                              <NA>  \n",
       "203242                                              <NA>  \n",
       "203243  (0, 0, 0, 0, 0, 0, 0, 0, 0, 0, 0, 0, 0, 0, 0, 0)  \n",
       "203244  (0, 0, 0, 0, 0, 0, 0, 0, 0, 0, 0, 0, 0, 0, 0, 0)  \n",
       "\n",
       "[203245 rows x 28 columns]"
      ]
     },
     "execution_count": null,
     "metadata": {},
     "output_type": "execute_result"
    }
   ],
   "source": [
    "get_index(\"cassini.uvis\", \"index\")"
   ]
  },
  {
   "cell_type": "code",
   "execution_count": null,
   "id": "571a3213-7690-476b-9cf5-84f5faefe827",
   "metadata": {},
   "outputs": [],
   "source": [
    "#| export\n",
    "class DataManager:\n",
    "\n",
    "    def __init__(\n",
    "        self,\n",
    "        pid: str,  # Product ID. If longer than PDS_ID, will be cut in attribute `pds_id`\n",
    "        skip_download: bool = False  # skip trying to download\n",
    "    ):\n",
    "        self.pid = pid\n",
    "        self.dict = None\n",
    "        if not self.raw_data_path.exists() and not skip_download:\n",
    "            self.download()\n",
    "\n",
    "    def query(self, pds_id=None):\n",
    "        pds_id = pds_id if pds_id is not None else self.pds_id\n",
    "        opus = OPUS(silent=True)\n",
    "        try:\n",
    "            self.query_result = opus.query_image_id(pds_id)[0]\n",
    "        except IndexError:\n",
    "            raise FileNotFoundError(\"Project ID not found on PDS server.\")\n",
    "        self.opus_id = self.query_result[0]\n",
    "        self.dict = self.query_result[1]\n",
    "\n",
    "    @property\n",
    "    def pds_id(self):\n",
    "        return self.pid[:17]\n",
    "\n",
    "    @property\n",
    "    def folder(self):\n",
    "        #         return storage_root / \"/\".join(self.raw_data_url.parts[4:7])\n",
    "        return storage_root / self.pds_id\n",
    "\n",
    "    @property\n",
    "    def raw_data_url(self):\n",
    "        if not self.dict:\n",
    "            self.query()\n",
    "        return URL(self.dict[\"couvis_raw\"][0])\n",
    "\n",
    "    @property\n",
    "    def raw_label_url(self):\n",
    "        if not self.dict:\n",
    "            self.query()\n",
    "        return URL(self.dict[\"couvis_raw\"][1])\n",
    "\n",
    "    @property\n",
    "    def raw_data_path(self):\n",
    "        return self.folder / (self.pds_id + \".DAT\")\n",
    "\n",
    "    @property\n",
    "    def raw_label_path(self):\n",
    "        return self.raw_data_path.with_suffix(\".LBL\")\n",
    "\n",
    "    @property\n",
    "    def calib_corr_path(self):\n",
    "        return self.raw_data_path.with_name(self.raw_data_path.stem + \"_CAL_3.DAT\")\n",
    "\n",
    "    @property\n",
    "    def calib_label_path(self):\n",
    "        return self.calib_corr_path.with_suffix(\".LBL\")\n",
    "\n",
    "    @property\n",
    "    def original_pid_file(self):\n",
    "        return self.folder / \"original_pid.txt\"\n",
    "\n",
    "    @property\n",
    "    def results_file(self):\n",
    "        return self.folder / \"urls.toml\"\n",
    "\n",
    "    def download(self, overwrite=False):\n",
    "        if self.raw_data_path.exists() and not overwrite:\n",
    "            print(\"Local files exists. Use `overwrite=True` to download fresh.\")\n",
    "            return\n",
    "        self.query()\n",
    "        self.original_pid_file.mk_write(self.pid)\n",
    "        self.results_file.mk_write(tomlkit.dumps(self.dict))\n",
    "        self.raw_data_path.parent.mkdir(parents=True, exist_ok=True)\n",
    "        for key in [\"couvis_raw\", \"couvis_calib_corr\"]:\n",
    "            for url in self.dict[key]:\n",
    "                url_retrieve(url, self.folder / URL(url).name)\n",
    "\n",
    "    def __repr__(self):\n",
    "        s = f\"Product ID:\\n{self.id}\\n\\n\"\n",
    "        for k, v in self.query_result[1].items():\n",
    "            s += f\"Key: {k},\\nValue(s):\\n{v}\\n\\n\"\n",
    "        return s"
   ]
  },
  {
   "cell_type": "code",
   "execution_count": null,
   "id": "4ce981f2-2d58-446f-8b8d-69d4c9e79595",
   "metadata": {},
   "outputs": [],
   "source": [
    "pid = \"EUV2002_198_03_26_54_UVIS_C33ST_SPICARAST002_PRIME\""
   ]
  },
  {
   "cell_type": "code",
   "execution_count": null,
   "id": "506928b7-a8f3-4038-bea3-49fc7e495422",
   "metadata": {},
   "outputs": [],
   "source": [
    "dm = DataManager(pid)"
   ]
  },
  {
   "cell_type": "code",
   "execution_count": null,
   "id": "9b4c8341-9809-4816-b2ac-e79aca53bdc5",
   "metadata": {},
   "outputs": [
    {
     "data": {
      "text/plain": [
       "URL('https://opus.pds-rings.seti.org/holdings/volumes/COUVIS_0xxx/COUVIS_0004/DATA/D2002_198/EUV2002_198_03_26.LBL')"
      ]
     },
     "execution_count": null,
     "metadata": {},
     "output_type": "execute_result"
    }
   ],
   "source": [
    "dm.raw_label_url"
   ]
  },
  {
   "cell_type": "code",
   "execution_count": null,
   "id": "844f252f-af0e-415e-a402-1c2797bb9f84",
   "metadata": {},
   "outputs": [],
   "source": [
    "assert dm.pid == pid"
   ]
  },
  {
   "cell_type": "markdown",
   "id": "45d11d2f-c037-4230-8fd3-24eb9f37e004",
   "metadata": {},
   "source": [
    "PDS data is only stored under the first 17 characters of any UVIS-internal product id."
   ]
  },
  {
   "cell_type": "code",
   "execution_count": null,
   "id": "300d9b27-9663-4fe4-81eb-9db1cd6a758d",
   "metadata": {},
   "outputs": [],
   "source": [
    "assert dm.pds_id == pid[:17]"
   ]
  },
  {
   "cell_type": "markdown",
   "id": "a1d67418-5adc-43e8-b28c-8e685da51f2f",
   "metadata": {},
   "source": [
    "The originally used product ID `pid` will be stored under `original_pid.txt` in the data folder:"
   ]
  },
  {
   "cell_type": "code",
   "execution_count": null,
   "id": "1b88b0de-c92f-465e-ba9a-2e657e1d4128",
   "metadata": {},
   "outputs": [
    {
     "data": {
      "text/plain": [
       "Path('/home/ayek72/mnt/slowdata/planetarypy/missions/cassini/uvis/EUV2002_198_03_26/original_pid.txt')"
      ]
     },
     "execution_count": null,
     "metadata": {},
     "output_type": "execute_result"
    }
   ],
   "source": [
    "dm.original_pid_file"
   ]
  },
  {
   "cell_type": "markdown",
   "id": "6446b874-e9cb-4f5a-988e-5e91a8ae9bd8",
   "metadata": {},
   "source": [
    "The OPUS result file will be stored as a TOML file:"
   ]
  },
  {
   "cell_type": "code",
   "execution_count": null,
   "id": "cd09e899-e16f-45c9-8f0d-e575d0bb3a41",
   "metadata": {},
   "outputs": [
    {
     "data": {
      "text/plain": [
       "Path('/home/ayek72/mnt/slowdata/planetarypy/missions/cassini/uvis/EUV2002_198_03_26/urls.toml')"
      ]
     },
     "execution_count": null,
     "metadata": {},
     "output_type": "execute_result"
    }
   ],
   "source": [
    "dm.results_file"
   ]
  },
  {
   "cell_type": "code",
   "execution_count": null,
   "id": "aa7e689c-08af-4767-bb22-cdace395718e",
   "metadata": {},
   "outputs": [
    {
     "name": "stdout",
     "output_type": "stream",
     "text": [
      "Local files exists. Use `overwrite=True` to download fresh.\n"
     ]
    }
   ],
   "source": [
    "dm.download(overwrite=False)"
   ]
  },
  {
   "cell_type": "code",
   "execution_count": null,
   "id": "6756270b-9873-4809-947f-b64fd8600b1a",
   "metadata": {},
   "outputs": [
    {
     "data": {
      "text/plain": [
       "Path('/home/ayek72/mnt/slowdata/planetarypy/missions/cassini/uvis/EUV2002_198_03_26/EUV2002_198_03_26.DAT')"
      ]
     },
     "execution_count": null,
     "metadata": {},
     "output_type": "execute_result"
    }
   ],
   "source": [
    "dm.raw_data_path"
   ]
  },
  {
   "cell_type": "code",
   "execution_count": null,
   "id": "cca38f5f-cb84-4a29-acdf-d8c9a24b3a47",
   "metadata": {},
   "outputs": [
    {
     "data": {
      "text/plain": [
       "Path('/home/ayek72/mnt/slowdata/planetarypy/missions/cassini/uvis/EUV2002_198_03_26/EUV2002_198_03_26_CAL_3.DAT')"
      ]
     },
     "execution_count": null,
     "metadata": {},
     "output_type": "execute_result"
    }
   ],
   "source": [
    "dm.calib_corr_path"
   ]
  },
  {
   "cell_type": "code",
   "execution_count": null,
   "id": "6e615bd2-e59b-4361-808a-8a9e4f340aaa",
   "metadata": {},
   "outputs": [],
   "source": [
    "#| export\n",
    "def get_data_path(pid, skip_download=False):\n",
    "    dm = DataManager(pid, skip_download=skip_download)\n",
    "    return dm.raw_data_path if dm.raw_data_path.exists() else None\n",
    "\n",
    "\n",
    "def get_label_path(pid):\n",
    "    dm = DataManager(pid)\n",
    "    return dm.raw_label_path"
   ]
  },
  {
   "cell_type": "code",
   "execution_count": null,
   "id": "c861c34b-4aeb-4fb7-a0f5-c3acd1751f4d",
   "metadata": {},
   "outputs": [
    {
     "data": {
      "text/plain": [
       "Path('/home/ayek72/mnt/slowdata/planetarypy/missions/cassini/uvis/EUV2002_198_03_26/EUV2002_198_03_26.DAT')"
      ]
     },
     "execution_count": null,
     "metadata": {},
     "output_type": "execute_result"
    }
   ],
   "source": [
    "get_data_path(pid)"
   ]
  },
  {
   "cell_type": "code",
   "execution_count": null,
   "id": "c788dca2-cefb-41b8-8a50-8b6e324287ae",
   "metadata": {},
   "outputs": [
    {
     "data": {
      "text/plain": [
       "Path('/home/ayek72/mnt/slowdata/planetarypy/missions/cassini/uvis/EUV2002_198_03_26/EUV2002_198_03_26.LBL')"
      ]
     },
     "execution_count": null,
     "metadata": {},
     "output_type": "execute_result"
    }
   ],
   "source": [
    "get_label_path(pid)"
   ]
  },
  {
   "cell_type": "code",
   "execution_count": null,
   "id": "a6546380-8c9a-4bc3-b464-6ebe6d204aa2",
   "metadata": {},
   "outputs": [],
   "source": [
    "#| export\n",
    "def get_user_guide():\n",
    "    url = URL(\"https://pds-rings.seti.org/cassini/uvis/1-UVIS_Users_Guide_-2018-Jan%2015-For%20PDS-REV-2018-07-06.pdf\")\n",
    "    local_path = storage_root / \"uvis_user_guide.pdf\"\n",
    "    if not local_path.exists():\n",
    "        url_retrieve(url, storage_root / \"uvis_user_guide.pdf\")\n",
    "    return local_path"
   ]
  },
  {
   "cell_type": "code",
   "execution_count": null,
   "id": "b13055ae-0dfa-4891-8dab-39b23c65b63a",
   "metadata": {},
   "outputs": [
    {
     "data": {
      "text/plain": [
       "Path('/home/ayek72/mnt/slowdata/planetarypy/missions/cassini/uvis/uvis_user_guide.pdf')"
      ]
     },
     "execution_count": null,
     "metadata": {},
     "output_type": "execute_result"
    }
   ],
   "source": [
    "get_user_guide()"
   ]
  },
  {
   "cell_type": "code",
   "execution_count": null,
   "id": "18406d5c-404a-4574-af72-aba52e80df29",
   "metadata": {},
   "outputs": [],
   "source": []
  }
 ],
 "metadata": {
  "kernelspec": {
   "display_name": "conda-env-py39-py",
   "language": "python",
   "name": "conda-env-py39-py"
  }
 },
 "nbformat": 4,
 "nbformat_minor": 5
}
