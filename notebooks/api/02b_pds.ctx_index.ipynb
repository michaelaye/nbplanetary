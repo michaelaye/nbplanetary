{
 "cells": [
  {
   "cell_type": "code",
   "execution_count": null,
   "id": "israeli-redhead",
   "metadata": {},
   "outputs": [],
   "source": [
    "#| default_exp pds.ctx_index"
   ]
  },
  {
   "cell_type": "markdown",
   "id": "f6af10dd-027a-4f74-94b6-a9ef7c258101",
   "metadata": {},
   "source": [
    "# CTX Index\n",
    "> Scraping the latest CTX index file from the latest added volume."
   ]
  },
  {
   "cell_type": "code",
   "execution_count": null,
   "id": "comparative-feeding",
   "metadata": {},
   "outputs": [],
   "source": [
    "#| hide\n",
    "from nbdev.showdoc import show_doc"
   ]
  },
  {
   "cell_type": "code",
   "execution_count": null,
   "id": "premier-medium",
   "metadata": {},
   "outputs": [],
   "source": [
    "#| export\n",
    "from dataclasses import dataclass\n",
    "from ssl import SSLError\n",
    "from string import Template\n",
    "\n",
    "from yarl import URL\n",
    "\n",
    "import pandas as pd"
   ]
  },
  {
   "cell_type": "code",
   "execution_count": null,
   "id": "b26d1847-f9df-484e-97b8-bfafcb450b8a",
   "metadata": {},
   "outputs": [],
   "source": [
    "#| export\n",
    "class CTXIndex:\n",
    "    url = 'https://planetarydata.jpl.nasa.gov/img/data/mro/mars_reconnaissance_orbiter/ctx/'\n",
    "\n",
    "    def __init__(self):\n",
    "        self._volumes_table = None\n",
    "\n",
    "    @property\n",
    "    def volumes_table(self):\n",
    "        if self._volumes_table is None:\n",
    "            self._volumes_table = pd.read_html(self.url)[0].dropna(\n",
    "                how='all', axis=1).dropna(how='all', axis=0).iloc[1:, :-1]\n",
    "        return self._volumes_table\n",
    "\n",
    "    @property\n",
    "    def latest_release_folder(self):\n",
    "        return self.volumes_table.iloc[-2, 0]\n",
    "\n",
    "    @property\n",
    "    def latest_release_number(self):\n",
    "        return self.latest_release_folder.rstrip('/').split(\"_\")[1]\n",
    "\n",
    "    @property\n",
    "    def latest_index_label_url(self):\n",
    "        return URL(self.url) / f\"{self.latest_release_folder}/index/cumindex.lbl\""
   ]
  },
  {
   "cell_type": "code",
   "execution_count": null,
   "id": "a0c920e4-1f11-44ec-a147-827557fd843e",
   "metadata": {},
   "outputs": [],
   "source": [
    "ctx = CTXIndex()"
   ]
  },
  {
   "cell_type": "code",
   "execution_count": null,
   "id": "dbd93555-6b7a-4d71-a7a4-0c4e4cf2e478",
   "metadata": {},
   "outputs": [
    {
     "data": {
      "text/html": [
       "<div>\n",
       "<style scoped>\n",
       "    .dataframe tbody tr th:only-of-type {\n",
       "        vertical-align: middle;\n",
       "    }\n",
       "\n",
       "    .dataframe tbody tr th {\n",
       "        vertical-align: top;\n",
       "    }\n",
       "\n",
       "    .dataframe thead th {\n",
       "        text-align: right;\n",
       "    }\n",
       "</style>\n",
       "<table border=\"1\" class=\"dataframe\">\n",
       "  <thead>\n",
       "    <tr style=\"text-align: right;\">\n",
       "      <th></th>\n",
       "      <th>Name</th>\n",
       "      <th>Last modified</th>\n",
       "    </tr>\n",
       "  </thead>\n",
       "  <tbody>\n",
       "    <tr>\n",
       "      <th>2</th>\n",
       "      <td>mrox_0001/</td>\n",
       "      <td>05-Jun-2007 10:15</td>\n",
       "    </tr>\n",
       "    <tr>\n",
       "      <th>3</th>\n",
       "      <td>mrox_0001_md5.txt</td>\n",
       "      <td>10-Dec-2019 04:32</td>\n",
       "    </tr>\n",
       "    <tr>\n",
       "      <th>4</th>\n",
       "      <td>mrox_0002/</td>\n",
       "      <td>05-Jun-2007 10:15</td>\n",
       "    </tr>\n",
       "    <tr>\n",
       "      <th>5</th>\n",
       "      <td>mrox_0002_md5.txt</td>\n",
       "      <td>09-Dec-2019 19:14</td>\n",
       "    </tr>\n",
       "    <tr>\n",
       "      <th>6</th>\n",
       "      <td>mrox_0003/</td>\n",
       "      <td>05-Jun-2007 10:15</td>\n",
       "    </tr>\n",
       "    <tr>\n",
       "      <th>...</th>\n",
       "      <td>...</td>\n",
       "      <td>...</td>\n",
       "    </tr>\n",
       "    <tr>\n",
       "      <th>9515</th>\n",
       "      <td>mrox_4757_md5.txt</td>\n",
       "      <td>15-Nov-2023 23:23</td>\n",
       "    </tr>\n",
       "    <tr>\n",
       "      <th>9516</th>\n",
       "      <td>mrox_4758/</td>\n",
       "      <td>15-Nov-2023 23:08</td>\n",
       "    </tr>\n",
       "    <tr>\n",
       "      <th>9517</th>\n",
       "      <td>mrox_4758_md5.txt</td>\n",
       "      <td>15-Nov-2023 23:23</td>\n",
       "    </tr>\n",
       "    <tr>\n",
       "      <th>9518</th>\n",
       "      <td>mrox_4759/</td>\n",
       "      <td>15-Nov-2023 23:10</td>\n",
       "    </tr>\n",
       "    <tr>\n",
       "      <th>9519</th>\n",
       "      <td>mrox_4759_md5.txt</td>\n",
       "      <td>15-Nov-2023 23:23</td>\n",
       "    </tr>\n",
       "  </tbody>\n",
       "</table>\n",
       "<p>9518 rows × 2 columns</p>\n",
       "</div>"
      ],
      "text/plain": [
       "                   Name      Last modified\n",
       "2            mrox_0001/  05-Jun-2007 10:15\n",
       "3     mrox_0001_md5.txt  10-Dec-2019 04:32\n",
       "4            mrox_0002/  05-Jun-2007 10:15\n",
       "5     mrox_0002_md5.txt  09-Dec-2019 19:14\n",
       "6            mrox_0003/  05-Jun-2007 10:15\n",
       "...                 ...                ...\n",
       "9515  mrox_4757_md5.txt  15-Nov-2023 23:23\n",
       "9516         mrox_4758/  15-Nov-2023 23:08\n",
       "9517  mrox_4758_md5.txt  15-Nov-2023 23:23\n",
       "9518         mrox_4759/  15-Nov-2023 23:10\n",
       "9519  mrox_4759_md5.txt  15-Nov-2023 23:23\n",
       "\n",
       "[9518 rows x 2 columns]"
      ]
     },
     "execution_count": null,
     "metadata": {},
     "output_type": "execute_result"
    }
   ],
   "source": [
    "ctx.volumes_table"
   ]
  },
  {
   "cell_type": "code",
   "execution_count": null,
   "id": "ff708188-9d36-4954-97d1-b8a56332531f",
   "metadata": {},
   "outputs": [
    {
     "data": {
      "text/plain": [
       "'mrox_4759/'"
      ]
     },
     "execution_count": null,
     "metadata": {},
     "output_type": "execute_result"
    }
   ],
   "source": [
    "ctx.latest_release_folder"
   ]
  },
  {
   "cell_type": "code",
   "execution_count": null,
   "id": "db2d180c-881f-43a0-ae60-d745d632b183",
   "metadata": {},
   "outputs": [
    {
     "data": {
      "text/plain": [
       "'4759'"
      ]
     },
     "execution_count": null,
     "metadata": {},
     "output_type": "execute_result"
    }
   ],
   "source": [
    "ctx.latest_release_number"
   ]
  },
  {
   "cell_type": "code",
   "execution_count": null,
   "id": "17ba62f6-5b5a-48b2-94e1-117d00a4ffef",
   "metadata": {},
   "outputs": [
    {
     "data": {
      "text/plain": [
       "URL('https://planetarydata.jpl.nasa.gov/img/data/mro/mars_reconnaissance_orbiter/ctx/mrox_4759/index/cumindex.lbl')"
      ]
     },
     "execution_count": null,
     "metadata": {},
     "output_type": "execute_result"
    }
   ],
   "source": [
    "ctx.latest_index_label_url"
   ]
  },
  {
   "cell_type": "code",
   "execution_count": null,
   "id": "49f15cd7",
   "metadata": {},
   "outputs": [],
   "source": [
    "#| hide\n",
    "from nbdev import nbdev_export\n",
    "\n",
    "nbdev_export()"
   ]
  },
  {
   "cell_type": "code",
   "execution_count": null,
   "id": "77b4eb32-86df-475c-ad77-a7bf25dbf0f0",
   "metadata": {},
   "outputs": [],
   "source": []
  }
 ],
 "metadata": {
  "kernelspec": {
   "display_name": "conda-env-py39-py",
   "language": "python",
   "name": "conda-env-py39-py"
  }
 },
 "nbformat": 4,
 "nbformat_minor": 5
}
