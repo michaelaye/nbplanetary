{
 "cells": [
  {
   "cell_type": "code",
   "execution_count": 1,
   "id": "510d3ff7-3e9c-4e13-8b51-9f17906bd6c2",
   "metadata": {},
   "outputs": [],
   "source": [
    "#| default_exp spice.kernels"
   ]
  },
  {
   "cell_type": "markdown",
   "id": "dcb6ff6a-9ee9-4c86-a2e4-7bbdfa81b7a0",
   "metadata": {},
   "source": [
    "# SPICE Kernels\n",
    "> Tools to manage SPICE kernels"
   ]
  },
  {
   "cell_type": "markdown",
   "id": "58529cf6-6afa-45fc-ad3b-b1d27dd7f68d",
   "metadata": {},
   "source": [
    "## Intro\n",
    "\n",
    "Feature list for this module:\n",
    "\n",
    "* Receive the list of supported datasets for automatic retrieval of archived SPICE kernels\n",
    "  * The supported datasets are tabled here at NAIF: https://naif.jpl.nasa.gov/naif/data_archived.html\n",
    "* Receive the list of required SPICE kernels for a given mission and time range\n",
    "* Automatic download of kernels for a given mission and time range either into a given location or the `planetarypy` local archive.\n",
    "\n",
    "As always in `planetarypy` the general design philosophy is to first develop a management class to give the user full control over all the details, and then add easy-to-use function for the end-user that do the most frequently used things in one go. (See section \"User Functions\")"
   ]
  },
  {
   "cell_type": "code",
   "execution_count": 2,
   "id": "3528ec83-7716-45f2-8c19-1b02b9980812",
   "metadata": {},
   "outputs": [],
   "source": [
    "#| export\n",
    "import warnings\n",
    "import zipfile\n",
    "from datetime import timedelta\n",
    "from io import BytesIO\n",
    "from itertools import repeat\n",
    "from multiprocessing import Pool, cpu_count\n",
    "from pathlib import Path\n",
    "\n",
    "import requests\n",
    "import spiceypy as spice\n",
    "from astropy.time import Time\n",
    "from dask.distributed import Client\n",
    "from tqdm.auto import tqdm\n",
    "from tqdm.contrib.concurrent import process_map\n",
    "from yarl import URL\n",
    "\n",
    "import pandas as pd\n",
    "from fastcore.test import test_fail\n",
    "from fastcore.utils import store_attr\n",
    "from planetarypy.config import config\n",
    "from planetarypy.utils import nasa_time_to_iso, url_retrieve"
   ]
  },
  {
   "cell_type": "code",
   "execution_count": 3,
   "id": "241ffdca",
   "metadata": {},
   "outputs": [],
   "source": [
    "#| hide\n",
    "from nbdev.showdoc import show_doc"
   ]
  },
  {
   "cell_type": "code",
   "execution_count": 41,
   "id": "f96077c8-c27e-47ce-8246-6120fd3bbf2e",
   "metadata": {},
   "outputs": [],
   "source": [
    "#| export\n",
    "KERNEL_STORAGE = config.storage_root / \"spice_kernels\"\n",
    "KERNEL_STORAGE.mkdir(exist_ok=True, parents=True)"
   ]
  },
  {
   "cell_type": "markdown",
   "id": "936ab2e1-8af9-49e3-b28d-0648ca55e150",
   "metadata": {},
   "source": [
    "## Identifying and downloading kernel sets\n",
    "\n",
    "One repeating task for SPICE calculations is the identification and retrieval of all SPICE kernels for a mission for a given time interval.\n",
    "\n",
    "The folks at NAIF offer a \"Subset\" feature at their servers.\n",
    "Here we set up a table of the currently supported datasets:"
   ]
  },
  {
   "cell_type": "code",
   "execution_count": 42,
   "id": "468c03f8-2058-4eef-9753-fce1342295dc",
   "metadata": {},
   "outputs": [],
   "source": [
    "#| export\n",
    "dataset_ids = {\n",
    "    \"cassini\": \"co-s_j_e_v-spice-6-v1.0/cosp_1000\",\n",
    "    \"clementine\": \"clem1-l-spice-6-v1.0/clsp_1000\",\n",
    "    \"dawn\": \"dawn-m_a-spice-6-v1.0/dawnsp_1000\",\n",
    "    \"di\": \"di-c-spice-6-v1.0/disp_1000\",\n",
    "    \"ds1\": \"ds1-a_c-spice-6-v1.0/ds1sp_1000\",\n",
    "    \"epoxi\": \"dif-c_e_x-spice-6-v1.0/epxsp_1000\",\n",
    "    \"em16\": \"em16/em16_spice\",\n",
    "    \"grail\": \"grail-l-spice-6-v1.0/grlsp_1000\",\n",
    "    \"hayabusa\": \"hay-a-spice-6-v1.0/haysp_1000\",\n",
    "    \"insight\": \"insight/insight_spice\",\n",
    "    \"juno\": \"jno-j_e_ss-spice-6-v1.0/jnosp_1000\",\n",
    "    \"ladee\": \"ladee/ladee_spice\",\n",
    "    \"lro\": \"lro-l-spice-6-v1.0/lrosp_1000\",\n",
    "    \"maven\": \"maven/maven_spice\",\n",
    "    \"opportunity\": \"mer1-m-spice-6-v1.0/mer1sp_1000\",\n",
    "    \"spirit\": \"mer2-m-spice-6-v1.0/mer2sp_1000\",\n",
    "    \"messenger\": \"mess-e_v_h-spice-6-v1.0/messsp_1000\",\n",
    "    \"mars2020\": \"mars2020/mars2020_spice\",\n",
    "    \"mex\": \"mex-e_m-spice-6-v2.0/mexsp_2000\",\n",
    "    \"mgs\": \"mgs-m-spice-6-v1.0/mgsp_1000\",\n",
    "    \"ody\": \"ody-m-spice-6-v1.0/odsp_1000\",\n",
    "    \"mro\": \"mro-m-spice-6-v1.0/mrosp_1000\",\n",
    "    \"msl\": \"msl-m-spice-6-v1.0/mslsp_1000\",\n",
    "    \"near\": \"near-a-spice-6-v1.0/nearsp_1000\",\n",
    "    \"nh\": \"nh-j_p_ss-spice-6-v1.0/nhsp_1000\",\n",
    "    \"orex\": \"orex/orex_spice\",\n",
    "    \"rosetta\": \"ro_rl-e_m_a_c-spice-6-v1.0/rossp_1000\",\n",
    "    \"stardust\": \"sdu-c-spice-6-v1.0/sdsp_1000\",\n",
    "    \"venus_climate_orbiter\": \"vco/vco_spice\",\n",
    "    \"vex\": \"vex-e_v-spice-6-v2.0/vexsp_2000\",\n",
    "    \"vo\": \"vo1_vo2-m-spice-6-v1.0/vosp_1000\",\n",
    "}\n",
    "\n",
    "df = pd.DataFrame({\"shorthand\": dataset_ids.keys(), \"path\": dataset_ids.values()})\n",
    "\n",
    "df2 = pd.read_html(\"https://naif.jpl.nasa.gov/naif/data_archived.html\")[6]\n",
    "df2.columns = df2.iloc[0]\n",
    "df2 = df2.drop(0).reset_index(drop=True)\n",
    "df2 = df2.drop([\"Archive Readme\", \"Archive Link\", \"Subset Link\"], axis=1)\n",
    "df = df.join(df2)\n",
    "datasets = df.set_index(\"shorthand\")"
   ]
  },
  {
   "cell_type": "code",
   "execution_count": 43,
   "id": "9e9eb278-d5b7-4aa8-9452-a74461045178",
   "metadata": {},
   "outputs": [
    {
     "data": {
      "text/html": [
       "<div>\n",
       "<style scoped>\n",
       "    .dataframe tbody tr th:only-of-type {\n",
       "        vertical-align: middle;\n",
       "    }\n",
       "\n",
       "    .dataframe tbody tr th {\n",
       "        vertical-align: top;\n",
       "    }\n",
       "\n",
       "    .dataframe thead th {\n",
       "        text-align: right;\n",
       "    }\n",
       "</style>\n",
       "<table border=\"1\" class=\"dataframe\">\n",
       "  <thead>\n",
       "    <tr style=\"text-align: right;\">\n",
       "      <th></th>\n",
       "      <th>path</th>\n",
       "      <th>Mission Name</th>\n",
       "      <th>PDS3 or PDS4</th>\n",
       "      <th>Data Size (GB)</th>\n",
       "      <th>Start Time</th>\n",
       "      <th>Stop Time</th>\n",
       "    </tr>\n",
       "    <tr>\n",
       "      <th>shorthand</th>\n",
       "      <th></th>\n",
       "      <th></th>\n",
       "      <th></th>\n",
       "      <th></th>\n",
       "      <th></th>\n",
       "      <th></th>\n",
       "    </tr>\n",
       "  </thead>\n",
       "  <tbody>\n",
       "    <tr>\n",
       "      <th>cassini</th>\n",
       "      <td>co-s_j_e_v-spice-6-v1.0/cosp_1000</td>\n",
       "      <td>Cassini Orbiter</td>\n",
       "      <td>3</td>\n",
       "      <td>62.5</td>\n",
       "      <td>1997-10-15</td>\n",
       "      <td>2017-09-15</td>\n",
       "    </tr>\n",
       "    <tr>\n",
       "      <th>clementine</th>\n",
       "      <td>clem1-l-spice-6-v1.0/clsp_1000</td>\n",
       "      <td>Clementine</td>\n",
       "      <td>3</td>\n",
       "      <td>0.8</td>\n",
       "      <td>1994-01-26</td>\n",
       "      <td>1994-05-07</td>\n",
       "    </tr>\n",
       "    <tr>\n",
       "      <th>dawn</th>\n",
       "      <td>dawn-m_a-spice-6-v1.0/dawnsp_1000</td>\n",
       "      <td>DART</td>\n",
       "      <td>4</td>\n",
       "      <td>9.1</td>\n",
       "      <td>2021-11-09</td>\n",
       "      <td>2050-01-01</td>\n",
       "    </tr>\n",
       "    <tr>\n",
       "      <th>di</th>\n",
       "      <td>di-c-spice-6-v1.0/disp_1000</td>\n",
       "      <td>DAWN</td>\n",
       "      <td>3</td>\n",
       "      <td>86.4</td>\n",
       "      <td>2007-09-27</td>\n",
       "      <td>2018-10-31</td>\n",
       "    </tr>\n",
       "    <tr>\n",
       "      <th>ds1</th>\n",
       "      <td>ds1-a_c-spice-6-v1.0/ds1sp_1000</td>\n",
       "      <td>Deep Impact</td>\n",
       "      <td>3</td>\n",
       "      <td>0.7</td>\n",
       "      <td>2005-01-12</td>\n",
       "      <td>2005-08-09</td>\n",
       "    </tr>\n",
       "    <tr>\n",
       "      <th>epoxi</th>\n",
       "      <td>dif-c_e_x-spice-6-v1.0/epxsp_1000</td>\n",
       "      <td>Deep Space 1</td>\n",
       "      <td>3</td>\n",
       "      <td>0.9</td>\n",
       "      <td>1998-10-24</td>\n",
       "      <td>2001-12-18</td>\n",
       "    </tr>\n",
       "    <tr>\n",
       "      <th>em16</th>\n",
       "      <td>em16/em16_spice</td>\n",
       "      <td>EPOXI</td>\n",
       "      <td>3</td>\n",
       "      <td>1.0</td>\n",
       "      <td>2005-08-23</td>\n",
       "      <td>2011-03-01</td>\n",
       "    </tr>\n",
       "    <tr>\n",
       "      <th>grail</th>\n",
       "      <td>grail-l-spice-6-v1.0/grlsp_1000</td>\n",
       "      <td>ExoMars TGO 2016</td>\n",
       "      <td>4</td>\n",
       "      <td>9.4</td>\n",
       "      <td>2016-03-14</td>\n",
       "      <td>2023-01-01</td>\n",
       "    </tr>\n",
       "    <tr>\n",
       "      <th>hayabusa</th>\n",
       "      <td>hay-a-spice-6-v1.0/haysp_1000</td>\n",
       "      <td>GRAIL</td>\n",
       "      <td>3</td>\n",
       "      <td>4.3</td>\n",
       "      <td>2011-09-10</td>\n",
       "      <td>2012-12-17</td>\n",
       "    </tr>\n",
       "    <tr>\n",
       "      <th>insight</th>\n",
       "      <td>insight/insight_spice</td>\n",
       "      <td>Hayabusa</td>\n",
       "      <td>3</td>\n",
       "      <td>0.3</td>\n",
       "      <td>2005-09-11</td>\n",
       "      <td>2005-11-19</td>\n",
       "    </tr>\n",
       "    <tr>\n",
       "      <th>juno</th>\n",
       "      <td>jno-j_e_ss-spice-6-v1.0/jnosp_1000</td>\n",
       "      <td>InSight</td>\n",
       "      <td>4</td>\n",
       "      <td>0.9</td>\n",
       "      <td>2018-05-05</td>\n",
       "      <td>2022-12-15</td>\n",
       "    </tr>\n",
       "    <tr>\n",
       "      <th>ladee</th>\n",
       "      <td>ladee/ladee_spice</td>\n",
       "      <td>JUNO</td>\n",
       "      <td>3</td>\n",
       "      <td>46.4</td>\n",
       "      <td>2011-08-05</td>\n",
       "      <td>2022-05-23</td>\n",
       "    </tr>\n",
       "    <tr>\n",
       "      <th>lro</th>\n",
       "      <td>lro-l-spice-6-v1.0/lrosp_1000</td>\n",
       "      <td>LADEE</td>\n",
       "      <td>4</td>\n",
       "      <td>0.6</td>\n",
       "      <td>2013-09-07</td>\n",
       "      <td>2050-01-01</td>\n",
       "    </tr>\n",
       "    <tr>\n",
       "      <th>maven</th>\n",
       "      <td>maven/maven_spice</td>\n",
       "      <td>Lunar Reconnaissance Orbiter</td>\n",
       "      <td>3</td>\n",
       "      <td>574.9</td>\n",
       "      <td>2009-06-18</td>\n",
       "      <td>2022-09-15</td>\n",
       "    </tr>\n",
       "    <tr>\n",
       "      <th>opportunity</th>\n",
       "      <td>mer1-m-spice-6-v1.0/mer1sp_1000</td>\n",
       "      <td>MAVEN</td>\n",
       "      <td>4</td>\n",
       "      <td>53.3</td>\n",
       "      <td>2013-11-18</td>\n",
       "      <td>2023-01-01</td>\n",
       "    </tr>\n",
       "    <tr>\n",
       "      <th>spirit</th>\n",
       "      <td>mer2-m-spice-6-v1.0/mer2sp_1000</td>\n",
       "      <td>MER 1 (Opportunity)</td>\n",
       "      <td>3</td>\n",
       "      <td>4.1</td>\n",
       "      <td>2003-07-07</td>\n",
       "      <td>2018-06-10</td>\n",
       "    </tr>\n",
       "    <tr>\n",
       "      <th>messenger</th>\n",
       "      <td>mess-e_v_h-spice-6-v1.0/messsp_1000</td>\n",
       "      <td>MER 2 (Spirit)</td>\n",
       "      <td>3</td>\n",
       "      <td>2.6</td>\n",
       "      <td>2003-06-10</td>\n",
       "      <td>2010-05-03</td>\n",
       "    </tr>\n",
       "    <tr>\n",
       "      <th>mars2020</th>\n",
       "      <td>mars2020/mars2020_spice</td>\n",
       "      <td>MESSENGER</td>\n",
       "      <td>3</td>\n",
       "      <td>44.8</td>\n",
       "      <td>2004-08-03</td>\n",
       "      <td>2015-04-30</td>\n",
       "    </tr>\n",
       "    <tr>\n",
       "      <th>mex</th>\n",
       "      <td>mex-e_m-spice-6-v2.0/mexsp_2000</td>\n",
       "      <td>Mars 2020</td>\n",
       "      <td>4</td>\n",
       "      <td>0.6</td>\n",
       "      <td>2020-07-30</td>\n",
       "      <td>2022-08-27</td>\n",
       "    </tr>\n",
       "    <tr>\n",
       "      <th>mgs</th>\n",
       "      <td>mgs-m-spice-6-v1.0/mgsp_1000</td>\n",
       "      <td>Mars Express</td>\n",
       "      <td>3</td>\n",
       "      <td>8.5</td>\n",
       "      <td>2003-06-02</td>\n",
       "      <td>2022-11-30</td>\n",
       "    </tr>\n",
       "    <tr>\n",
       "      <th>ody</th>\n",
       "      <td>ody-m-spice-6-v1.0/odsp_1000</td>\n",
       "      <td>Mars Global Surveyor</td>\n",
       "      <td>3</td>\n",
       "      <td>15.4</td>\n",
       "      <td>1996-11-06</td>\n",
       "      <td>2006-11-02</td>\n",
       "    </tr>\n",
       "    <tr>\n",
       "      <th>mro</th>\n",
       "      <td>mro-m-spice-6-v1.0/mrosp_1000</td>\n",
       "      <td>Mars Odyssey</td>\n",
       "      <td>3</td>\n",
       "      <td>32.5</td>\n",
       "      <td>2001-04-07</td>\n",
       "      <td>2022-07-01</td>\n",
       "    </tr>\n",
       "    <tr>\n",
       "      <th>msl</th>\n",
       "      <td>msl-m-spice-6-v1.0/mslsp_1000</td>\n",
       "      <td>Mars Reconnaissance Orbiter</td>\n",
       "      <td>3</td>\n",
       "      <td>305.4</td>\n",
       "      <td>2005-08-12</td>\n",
       "      <td>2022-10-01</td>\n",
       "    </tr>\n",
       "    <tr>\n",
       "      <th>near</th>\n",
       "      <td>near-a-spice-6-v1.0/nearsp_1000</td>\n",
       "      <td>Mars Science Laboratory</td>\n",
       "      <td>3</td>\n",
       "      <td>0.6</td>\n",
       "      <td>2011-11-26</td>\n",
       "      <td>2022-07-30</td>\n",
       "    </tr>\n",
       "    <tr>\n",
       "      <th>nh</th>\n",
       "      <td>nh-j_p_ss-spice-6-v1.0/nhsp_1000</td>\n",
       "      <td>NEAR</td>\n",
       "      <td>3</td>\n",
       "      <td>2.4</td>\n",
       "      <td>1996-05-30</td>\n",
       "      <td>2001-02-28</td>\n",
       "    </tr>\n",
       "    <tr>\n",
       "      <th>orex</th>\n",
       "      <td>orex/orex_spice</td>\n",
       "      <td>New Horizons</td>\n",
       "      <td>3</td>\n",
       "      <td>1.6</td>\n",
       "      <td>2006-01-19</td>\n",
       "      <td>2019-12-30</td>\n",
       "    </tr>\n",
       "    <tr>\n",
       "      <th>rosetta</th>\n",
       "      <td>ro_rl-e_m_a_c-spice-6-v1.0/rossp_1000</td>\n",
       "      <td>OSIRIS-REx</td>\n",
       "      <td>4</td>\n",
       "      <td>418.4</td>\n",
       "      <td>2016-09-08</td>\n",
       "      <td>2021-02-22</td>\n",
       "    </tr>\n",
       "    <tr>\n",
       "      <th>stardust</th>\n",
       "      <td>sdu-c-spice-6-v1.0/sdsp_1000</td>\n",
       "      <td>Rosetta</td>\n",
       "      <td>3</td>\n",
       "      <td>5.9</td>\n",
       "      <td>2004-03-02</td>\n",
       "      <td>2017-01-01</td>\n",
       "    </tr>\n",
       "    <tr>\n",
       "      <th>venus_climate_orbiter</th>\n",
       "      <td>vco/vco_spice</td>\n",
       "      <td>Stardust</td>\n",
       "      <td>3</td>\n",
       "      <td>1.9</td>\n",
       "      <td>1999-02-07</td>\n",
       "      <td>2011-05-01</td>\n",
       "    </tr>\n",
       "    <tr>\n",
       "      <th>vex</th>\n",
       "      <td>vex-e_v-spice-6-v2.0/vexsp_2000</td>\n",
       "      <td>Venus Climate Orbiter</td>\n",
       "      <td>4</td>\n",
       "      <td>1.7</td>\n",
       "      <td>2010-05-21</td>\n",
       "      <td>2022-01-01</td>\n",
       "    </tr>\n",
       "    <tr>\n",
       "      <th>vo</th>\n",
       "      <td>vo1_vo2-m-spice-6-v1.0/vosp_1000</td>\n",
       "      <td>Venus Express</td>\n",
       "      <td>3</td>\n",
       "      <td>5.0</td>\n",
       "      <td>2005-11-09</td>\n",
       "      <td>2015-02-06</td>\n",
       "    </tr>\n",
       "  </tbody>\n",
       "</table>\n",
       "</div>"
      ],
      "text/plain": [
       "                                                        path  \\\n",
       "shorthand                                                      \n",
       "cassini                    co-s_j_e_v-spice-6-v1.0/cosp_1000   \n",
       "clementine                    clem1-l-spice-6-v1.0/clsp_1000   \n",
       "dawn                       dawn-m_a-spice-6-v1.0/dawnsp_1000   \n",
       "di                               di-c-spice-6-v1.0/disp_1000   \n",
       "ds1                          ds1-a_c-spice-6-v1.0/ds1sp_1000   \n",
       "epoxi                      dif-c_e_x-spice-6-v1.0/epxsp_1000   \n",
       "em16                                         em16/em16_spice   \n",
       "grail                        grail-l-spice-6-v1.0/grlsp_1000   \n",
       "hayabusa                       hay-a-spice-6-v1.0/haysp_1000   \n",
       "insight                                insight/insight_spice   \n",
       "juno                      jno-j_e_ss-spice-6-v1.0/jnosp_1000   \n",
       "ladee                                      ladee/ladee_spice   \n",
       "lro                            lro-l-spice-6-v1.0/lrosp_1000   \n",
       "maven                                      maven/maven_spice   \n",
       "opportunity                  mer1-m-spice-6-v1.0/mer1sp_1000   \n",
       "spirit                       mer2-m-spice-6-v1.0/mer2sp_1000   \n",
       "messenger                mess-e_v_h-spice-6-v1.0/messsp_1000   \n",
       "mars2020                             mars2020/mars2020_spice   \n",
       "mex                          mex-e_m-spice-6-v2.0/mexsp_2000   \n",
       "mgs                             mgs-m-spice-6-v1.0/mgsp_1000   \n",
       "ody                             ody-m-spice-6-v1.0/odsp_1000   \n",
       "mro                            mro-m-spice-6-v1.0/mrosp_1000   \n",
       "msl                            msl-m-spice-6-v1.0/mslsp_1000   \n",
       "near                         near-a-spice-6-v1.0/nearsp_1000   \n",
       "nh                          nh-j_p_ss-spice-6-v1.0/nhsp_1000   \n",
       "orex                                         orex/orex_spice   \n",
       "rosetta                ro_rl-e_m_a_c-spice-6-v1.0/rossp_1000   \n",
       "stardust                        sdu-c-spice-6-v1.0/sdsp_1000   \n",
       "venus_climate_orbiter                          vco/vco_spice   \n",
       "vex                          vex-e_v-spice-6-v2.0/vexsp_2000   \n",
       "vo                          vo1_vo2-m-spice-6-v1.0/vosp_1000   \n",
       "\n",
       "                                       Mission Name PDS3 or PDS4  \\\n",
       "shorthand                                                          \n",
       "cassini                             Cassini Orbiter            3   \n",
       "clementine                               Clementine            3   \n",
       "dawn                                           DART            4   \n",
       "di                                             DAWN            3   \n",
       "ds1                                     Deep Impact            3   \n",
       "epoxi                                  Deep Space 1            3   \n",
       "em16                                          EPOXI            3   \n",
       "grail                              ExoMars TGO 2016            4   \n",
       "hayabusa                                      GRAIL            3   \n",
       "insight                                    Hayabusa            3   \n",
       "juno                                        InSight            4   \n",
       "ladee                                          JUNO            3   \n",
       "lro                                           LADEE            4   \n",
       "maven                  Lunar Reconnaissance Orbiter            3   \n",
       "opportunity                                   MAVEN            4   \n",
       "spirit                          MER 1 (Opportunity)            3   \n",
       "messenger                            MER 2 (Spirit)            3   \n",
       "mars2020                                  MESSENGER            3   \n",
       "mex                                       Mars 2020            4   \n",
       "mgs                                    Mars Express            3   \n",
       "ody                            Mars Global Surveyor            3   \n",
       "mro                                    Mars Odyssey            3   \n",
       "msl                     Mars Reconnaissance Orbiter            3   \n",
       "near                        Mars Science Laboratory            3   \n",
       "nh                                             NEAR            3   \n",
       "orex                                   New Horizons            3   \n",
       "rosetta                                  OSIRIS-REx            4   \n",
       "stardust                                    Rosetta            3   \n",
       "venus_climate_orbiter                      Stardust            3   \n",
       "vex                           Venus Climate Orbiter            4   \n",
       "vo                                    Venus Express            3   \n",
       "\n",
       "                      Data Size (GB)  Start Time   Stop Time  \n",
       "shorthand                                                     \n",
       "cassini                         62.5  1997-10-15  2017-09-15  \n",
       "clementine                       0.8  1994-01-26  1994-05-07  \n",
       "dawn                             9.1  2021-11-09  2050-01-01  \n",
       "di                              86.4  2007-09-27  2018-10-31  \n",
       "ds1                              0.7  2005-01-12  2005-08-09  \n",
       "epoxi                            0.9  1998-10-24  2001-12-18  \n",
       "em16                             1.0  2005-08-23  2011-03-01  \n",
       "grail                            9.4  2016-03-14  2023-01-01  \n",
       "hayabusa                         4.3  2011-09-10  2012-12-17  \n",
       "insight                          0.3  2005-09-11  2005-11-19  \n",
       "juno                             0.9  2018-05-05  2022-12-15  \n",
       "ladee                           46.4  2011-08-05  2022-05-23  \n",
       "lro                              0.6  2013-09-07  2050-01-01  \n",
       "maven                          574.9  2009-06-18  2022-09-15  \n",
       "opportunity                     53.3  2013-11-18  2023-01-01  \n",
       "spirit                           4.1  2003-07-07  2018-06-10  \n",
       "messenger                        2.6  2003-06-10  2010-05-03  \n",
       "mars2020                        44.8  2004-08-03  2015-04-30  \n",
       "mex                              0.6  2020-07-30  2022-08-27  \n",
       "mgs                              8.5  2003-06-02  2022-11-30  \n",
       "ody                             15.4  1996-11-06  2006-11-02  \n",
       "mro                             32.5  2001-04-07  2022-07-01  \n",
       "msl                            305.4  2005-08-12  2022-10-01  \n",
       "near                             0.6  2011-11-26  2022-07-30  \n",
       "nh                               2.4  1996-05-30  2001-02-28  \n",
       "orex                             1.6  2006-01-19  2019-12-30  \n",
       "rosetta                        418.4  2016-09-08  2021-02-22  \n",
       "stardust                         5.9  2004-03-02  2017-01-01  \n",
       "venus_climate_orbiter            1.9  1999-02-07  2011-05-01  \n",
       "vex                              1.7  2010-05-21  2022-01-01  \n",
       "vo                               5.0  2005-11-09  2015-02-06  "
      ]
     },
     "execution_count": 43,
     "metadata": {},
     "output_type": "execute_result"
    }
   ],
   "source": [
    "datasets"
   ]
  },
  {
   "cell_type": "markdown",
   "id": "48ce4e7e-9e95-4ce4-831f-8595e4b7c5f7",
   "metadata": {},
   "source": [
    "To receive this dataframe:\n",
    "\n",
    "```python\n",
    "from planetarypy.spice.kernels import datasets\n",
    "```\n",
    "Some validation helpers:"
   ]
  },
  {
   "cell_type": "code",
   "execution_count": 44,
   "id": "c8e8c2c8-15bd-44c7-9ffc-b75600efeb14",
   "metadata": {},
   "outputs": [],
   "source": [
    "#| export\n",
    "def is_start_valid(\n",
    "    mission: str,  # mission shorthand label of datasets dataframe\n",
    "    start: Time,  # start time in astropy.Time format\n",
    "):\n",
    "    return Time(datasets.at[mission, \"Start Time\"]) <= start\n",
    "\n",
    "\n",
    "def is_stop_valid(\n",
    "    mission: str,  # mission shorthand label of datasets dataframe\n",
    "    stop: Time,  # stop time in astropy.Time format\n",
    "):\n",
    "    return Time(datasets.at[mission, \"Stop Time\"]) >= stop"
   ]
  },
  {
   "cell_type": "code",
   "execution_count": 45,
   "id": "2d03347e-6094-4ff4-9d6b-19ca639ea5e8",
   "metadata": {},
   "outputs": [],
   "source": [
    "assert is_start_valid(\"cassini\", Time(\"1998-01-01\")) is True\n",
    "assert is_start_valid(\"cassini\", Time(\"1997-01-01\")) is False\n",
    "assert is_stop_valid(\"cassini\", \"2017-01-01\") is True\n",
    "assert is_stop_valid(\"cassini\", \"2018-01-01\") is False"
   ]
  },
  {
   "cell_type": "markdown",
   "id": "71ab6332-befc-458e-a8fc-252021a7d4f8",
   "metadata": {},
   "source": [
    "Now we build a management class for wrapping the Perl script available at below's URL for accessing subsets of these datasets.\n",
    "\n",
    "First, the basic URLs we will use:"
   ]
  },
  {
   "cell_type": "code",
   "execution_count": 46,
   "id": "1558e311-d97c-42e0-a59b-4bc7172dad00",
   "metadata": {},
   "outputs": [],
   "source": [
    "#| export\n",
    "NAIF_URL = URL(\"https://naif.jpl.nasa.gov\")\n",
    "BASE_URL = NAIF_URL / \"cgi-bin/subsetds.pl\""
   ]
  },
  {
   "cell_type": "markdown",
   "id": "d1a6f9b4-2473-4221-b222-672db76ad019",
   "metadata": {},
   "source": [
    "The Perl script `subsetds.pl` (the name at the end of the `BASE_URL`) requires as input:\n",
    "\n",
    "* the dataset name\n",
    "* start and stop of the time interval\n",
    "* a constant named \"Subset\" to identify the action for this Perl script\n",
    "\n",
    "We can assemble these parameters into a payload dictionary for the `requests.get` call and we manage different potential actions on the zipfile with a `Subsetter` class, that only requires the mission identifier, start and stop as parameters."
   ]
  },
  {
   "cell_type": "code",
   "execution_count": 47,
   "id": "4f412af2-7ed7-48bd-bfcd-f4f17427e0d3",
   "metadata": {},
   "outputs": [],
   "source": [
    "#| export\n",
    "\n",
    "def download_one_url(url, local_path, overwrite: bool = False):\n",
    "    if local_path.exists() and not overwrite:\n",
    "        return\n",
    "    local_path.parent.mkdir(exist_ok=True, parents=True)\n",
    "    url_retrieve(url, local_path)\n",
    "\n",
    "class Subsetter:\n",
    "    \"\"\"Class to manage retrieving subset SPICE kernel lists\n",
    "\n",
    "    Attributes\n",
    "    ----------\n",
    "    kernel_names: List of\n",
    "    \"\"\"\n",
    "\n",
    "    def __init__(\n",
    "        self,\n",
    "        mission: str,  # mission shorthand in datasets dataframe\n",
    "        start: str,  # start time in either ISO or yyyy-jjj format\n",
    "        stop=None,  # stop time in either ISO or yyyy-jjj format\n",
    "        save_location=None,  # overwrite default storing in planetarpy archive\n",
    "    ):\n",
    "        store_attr()\n",
    "        self.initialize()\n",
    "\n",
    "    def initialize(self):\n",
    "        r = self.r\n",
    "        if r.ok:\n",
    "            z = zipfile.ZipFile(BytesIO(r.content))\n",
    "        else:\n",
    "            raise IOError(\"SPICE Server request returned status code: {r.status_code}\")\n",
    "        self.z = z\n",
    "        # these files only exist \"virtually\" in the zip object, but are needed to\n",
    "        # extract them:\n",
    "        self.urls_file = [n for n in z.namelist() if n.startswith(\"urls_\")][0]\n",
    "        self.metakernel_file = [n for n in z.namelist() if n.lower().endswith(\".tm\")][0]\n",
    "        with self.z.open(self.urls_file) as f:\n",
    "            self.kernel_urls = f.read().decode().split()\n",
    "\n",
    "    @property\n",
    "    def r(self):\n",
    "        return requests.get(BASE_URL, params=self.payload, stream=True)\n",
    "\n",
    "    @property\n",
    "    def start(self):\n",
    "        return self._start\n",
    "\n",
    "    @start.setter\n",
    "    def start(self, value):\n",
    "        try:\n",
    "            self._start = Time(value)\n",
    "        except ValueError:\n",
    "            self._start = Time(nasa_time_to_iso(value))\n",
    "\n",
    "    @property\n",
    "    def stop(self):\n",
    "        return self._stop\n",
    "\n",
    "    @stop.setter\n",
    "    def stop(self, value):\n",
    "        if not value:\n",
    "            self._stop = self.start + timedelta(days=1)\n",
    "        else:\n",
    "            try:\n",
    "                self._stop = Time(value)\n",
    "            except ValueError:\n",
    "                self._stop = Time(nasa_time_to_iso(value))\n",
    "\n",
    "    @property\n",
    "    def payload(self):\n",
    "        \"\"\"Put payload together while checking for working time format.\n",
    "\n",
    "        If Time(self.start) doesn't work, then we assume that the date must be in the\n",
    "        Time-unsupported yyyy-jjj format, which can be converted by `nasa_time_to_iso`\n",
    "        from `planetarypy.utils`.\n",
    "        \"\"\"\n",
    "        if not (\n",
    "            is_start_valid(self.mission, self.start)\n",
    "            and is_stop_valid(self.mission, self.stop)\n",
    "        ):\n",
    "            raise ValueError(\n",
    "                \"One of start/stop is outside the supported date-range. See `datasets`.\"\n",
    "            )\n",
    "        p = {\n",
    "            \"dataset\": dataset_ids[self.mission],\n",
    "            \"start\": self.start.iso,\n",
    "            \"stop\": self.stop.iso,\n",
    "            \"action\": \"Subset\",\n",
    "        }\n",
    "        return p\n",
    "\n",
    "    @property\n",
    "    def kernel_names(self):\n",
    "        \"Return list of names of kernels for the given time range.\"\n",
    "        return [\n",
    "            str(Path(URL(url).parent.name) / URL(url).name) for url in self.kernel_urls\n",
    "        ]\n",
    "\n",
    "    def get_local_path(\n",
    "        self,\n",
    "        url,  # kernel url to determine local storage path\n",
    "    ) -> Path:  # full local path where kernel in URL will be stored\n",
    "        \"\"\"Calculate local storage path from Kernel URL, using `save_location` if given.\n",
    "\n",
    "        If self.save_location is None, the `planetarypy` archive is being used.\n",
    "        \"\"\"\n",
    "        u = URL(url)\n",
    "        basepath = (\n",
    "            KERNEL_STORAGE / self.mission\n",
    "            if not self.save_location\n",
    "            else self.save_location\n",
    "        )\n",
    "        return basepath / u.parent.name / u.name\n",
    "\n",
    "    def _non_blocking_download(self, overwrite: bool = False):\n",
    "        with Client() as client:\n",
    "            futures = []\n",
    "            for url in tqdm(self.kernel_urls, desc=\"Kernels downloaded\"):\n",
    "                local_path = self.get_local_path(url)\n",
    "                if local_path.exists() and not overwrite:\n",
    "                    print(local_path.parent.name, local_path.name, \"locally available.\")\n",
    "                    continue\n",
    "                local_path.parent.mkdir(exist_ok=True, parents=True)\n",
    "                futures.append(client.submit(url_retrieve, url, local_path))\n",
    "            return [f.result() for f in futures]\n",
    "        \n",
    "    def _concurrent_download(self, overwrite: bool = False):\n",
    "        paths = [self.get_local_path(url) for url in self.kernel_urls]\n",
    "        args = zip(self.kernel_urls, paths, repeat(overwrite))\n",
    "        results = process_map(download_one_url, args, max_workers=cpu_count()-2)\n",
    "\n",
    "    def download_kernels(\n",
    "        self,\n",
    "        overwrite: bool = False,  # switch to control if kernels should be downloaded over existing ones\n",
    "        non_blocking: bool = False,\n",
    "    ):\n",
    "        if non_blocking:\n",
    "            return self._non_blocking_download(overwrite)\n",
    "        # sequential download\n",
    "        for url in tqdm(self.kernel_urls, desc=\"Kernels downloaded\"):\n",
    "            local_path = self.get_local_path(url)\n",
    "            if local_path.exists() and not overwrite:\n",
    "                print(local_path.parent.name, local_path.name, \"locally available.\")\n",
    "                continue\n",
    "            local_path.parent.mkdir(exist_ok=True, parents=True)\n",
    "            url_retrieve(url, local_path)\n",
    "\n",
    "    def get_metakernel(self) -> Path:  # return path to metakernel file\n",
    "        \"\"\"Get metakernel file from NAIF and adapt path to match local storage.\n",
    "\n",
    "        Use `save_location` if given, otherwise `planetarypy` archive.\n",
    "        \"\"\"\n",
    "        basepath = (\n",
    "            KERNEL_STORAGE / self.mission\n",
    "            if not self.save_location\n",
    "            else self.save_location\n",
    "        )\n",
    "        savepath = basepath / self.metakernel_file\n",
    "        with open(savepath, \"w\") as outfile, self.z.open(\n",
    "            self.metakernel_file\n",
    "        ) as infile:\n",
    "            for line in infile:\n",
    "                linestr = line.decode()\n",
    "                if \"'./data'\" in linestr:\n",
    "                    linestr = linestr.replace(\"'./data'\", f\"'{savepath.parent}'\")\n",
    "                outfile.write(linestr)\n",
    "        return savepath"
   ]
  },
  {
   "cell_type": "code",
   "execution_count": 48,
   "id": "6289cefc-e6b7-45ae-aa82-1f880c332dbb",
   "metadata": {},
   "outputs": [],
   "source": [
    "subset = Subsetter(\"cassini\", \"2014-270\")"
   ]
  },
  {
   "cell_type": "code",
   "execution_count": 49,
   "id": "aa04a242-8144-4880-9bbd-9197a5f814e6",
   "metadata": {},
   "outputs": [
    {
     "data": {
      "text/plain": [
       "['ck/14001_15001pa_gapfill_v14.bc',\n",
       " 'ck/14212_14279py_as_flown.bc',\n",
       " 'ck/14268_14273ra.bc',\n",
       " 'ck/cas_cda_20150318.bc',\n",
       " 'ck/cas_lemms_05109_20001_v2.bc',\n",
       " 'fk/cas_dyn_v03.tf',\n",
       " 'fk/cas_mimi_v202.tf',\n",
       " 'fk/cas_rocks_v18.tf',\n",
       " 'fk/cas_v41.tf',\n",
       " 'ik/cas_caps_v03.ti',\n",
       " 'ik/cas_cda_v01.ti',\n",
       " 'ik/cas_cirs_v09.ti',\n",
       " 'ik/cas_inms_v02.ti',\n",
       " 'ik/cas_iss_v10.ti',\n",
       " 'ik/cas_mag_v01.ti',\n",
       " 'ik/cas_mimi_v11.ti',\n",
       " 'ik/cas_radar_v11.ti',\n",
       " 'ik/cas_rpws_v01.ti',\n",
       " 'ik/cas_rss_v03.ti',\n",
       " 'ik/cas_sru_v02.ti',\n",
       " 'ik/cas_uvis_v06.ti',\n",
       " 'ik/cas_vims_v06.ti',\n",
       " 'lsk/naif0012.tls',\n",
       " 'pck/pck00010.tpc',\n",
       " 'sclk/cas00172.tsc',\n",
       " 'spk/140809BP_IRRE_00256_25017.bsp',\n",
       " 'spk/150122R_SCPSE_14251_14283.bsp',\n",
       " 'spk/180927AP_RE_90165_18018.bsp']"
      ]
     },
     "execution_count": 49,
     "metadata": {},
     "output_type": "execute_result"
    }
   ],
   "source": [
    "subset.kernel_names"
   ]
  },
  {
   "cell_type": "code",
   "execution_count": 50,
   "id": "7e7b6827-9ec4-42b6-abb4-88ea13bfdcdb",
   "metadata": {},
   "outputs": [],
   "source": [
    "# this should fail:\n",
    "def _failing():\n",
    "    Subsetter(\"cassini\", \"2019-01-01\")\n",
    "\n",
    "\n",
    "test_fail(_failing, contains=\"start/stop\")"
   ]
  },
  {
   "cell_type": "code",
   "execution_count": 51,
   "id": "2c54fec7-ed64-4855-a23c-7fd522920f7b",
   "metadata": {},
   "outputs": [],
   "source": [
    "subset = Subsetter(\"cassini\", \"2011-02-13\", \"2011-02-14\")"
   ]
  },
  {
   "cell_type": "code",
   "execution_count": 52,
   "id": "e291ffb3-2c03-44a3-8513-b03c1858bbc4",
   "metadata": {},
   "outputs": [
    {
     "data": {
      "text/plain": [
       "'urls_cosp_1000_110213_110214.txt'"
      ]
     },
     "execution_count": 52,
     "metadata": {},
     "output_type": "execute_result"
    }
   ],
   "source": [
    "subset.urls_file"
   ]
  },
  {
   "cell_type": "code",
   "execution_count": 53,
   "id": "a4cbe5f5-1757-41c2-8476-8218e8d6c426",
   "metadata": {},
   "outputs": [
    {
     "data": {
      "text/plain": [
       "'cas_2011_v17_110213_110214.tm'"
      ]
     },
     "execution_count": 53,
     "metadata": {},
     "output_type": "execute_result"
    }
   ],
   "source": [
    "subset.metakernel_file"
   ]
  },
  {
   "cell_type": "code",
   "execution_count": 54,
   "id": "83eab68b-2f7f-4121-93e6-b01e8d36e3f7",
   "metadata": {},
   "outputs": [
    {
     "data": {
      "text/markdown": [
       "---\n",
       "\n",
       "[source](https://github.com/michaelaye/nbplanetary/blob/master/planetarypy/spice/kernels.py#L190){target=\"_blank\" style=\"float:right; font-size:smaller\"}\n",
       "\n",
       "### Subsetter.kernel_names\n",
       "\n",
       ">      Subsetter.kernel_names ()\n",
       "\n",
       "Return list of names of kernels for the given time range."
      ],
      "text/plain": [
       "---\n",
       "\n",
       "[source](https://github.com/michaelaye/nbplanetary/blob/master/planetarypy/spice/kernels.py#L190){target=\"_blank\" style=\"float:right; font-size:smaller\"}\n",
       "\n",
       "### Subsetter.kernel_names\n",
       "\n",
       ">      Subsetter.kernel_names ()\n",
       "\n",
       "Return list of names of kernels for the given time range."
      ]
     },
     "execution_count": 54,
     "metadata": {},
     "output_type": "execute_result"
    }
   ],
   "source": [
    "show_doc(Subsetter.kernel_names)"
   ]
  },
  {
   "cell_type": "code",
   "execution_count": 55,
   "id": "57a2e0a4-0884-4438-a928-370b5a4fd13b",
   "metadata": {},
   "outputs": [
    {
     "data": {
      "text/plain": [
       "['ck/11001_12001pa_gapfill_v14.bc',\n",
       " 'ck/11017_11066py_as_flown.bc',\n",
       " 'ck/11044_11049ra.bc',\n",
       " 'ck/cas_cda_20120517.bc',\n",
       " 'ck/cas_lemms_05109_20001_v2.bc',\n",
       " 'fk/cas_dyn_v03.tf',\n",
       " 'fk/cas_mimi_v202.tf',\n",
       " 'fk/cas_rocks_v18.tf',\n",
       " 'fk/cas_v41.tf',\n",
       " 'ik/cas_caps_v03.ti',\n",
       " 'ik/cas_cda_v01.ti',\n",
       " 'ik/cas_cirs_v09.ti',\n",
       " 'ik/cas_inms_v02.ti',\n",
       " 'ik/cas_iss_v10.ti',\n",
       " 'ik/cas_mag_v01.ti',\n",
       " 'ik/cas_mimi_v11.ti',\n",
       " 'ik/cas_radar_v11.ti',\n",
       " 'ik/cas_rpws_v01.ti',\n",
       " 'ik/cas_rss_v03.ti',\n",
       " 'ik/cas_sru_v02.ti',\n",
       " 'ik/cas_uvis_v06.ti',\n",
       " 'ik/cas_vims_v06.ti',\n",
       " 'lsk/naif0012.tls',\n",
       " 'pck/pck00010.tpc',\n",
       " 'sclk/cas00172.tsc',\n",
       " 'spk/110504R_SCPSE_11041_11093.bsp',\n",
       " 'spk/140809BP_IRRE_00256_25017.bsp',\n",
       " 'spk/180927AP_RE_90165_18018.bsp']"
      ]
     },
     "execution_count": 55,
     "metadata": {},
     "output_type": "execute_result"
    }
   ],
   "source": [
    "subset.kernel_names"
   ]
  },
  {
   "cell_type": "code",
   "execution_count": 56,
   "id": "bfc24353-a837-45b9-b63e-0eed3e12fced",
   "metadata": {},
   "outputs": [
    {
     "data": {
      "text/plain": [
       "['https://naif.jpl.nasa.gov/pub/naif/pds/data/co-s_j_e_v-spice-6-v1.0/cosp_1000/data/ck/11001_12001pa_gapfill_v14.bc',\n",
       " 'https://naif.jpl.nasa.gov/pub/naif/pds/data/co-s_j_e_v-spice-6-v1.0/cosp_1000/data/ck/11017_11066py_as_flown.bc',\n",
       " 'https://naif.jpl.nasa.gov/pub/naif/pds/data/co-s_j_e_v-spice-6-v1.0/cosp_1000/data/ck/11044_11049ra.bc',\n",
       " 'https://naif.jpl.nasa.gov/pub/naif/pds/data/co-s_j_e_v-spice-6-v1.0/cosp_1000/data/ck/cas_cda_20120517.bc',\n",
       " 'https://naif.jpl.nasa.gov/pub/naif/pds/data/co-s_j_e_v-spice-6-v1.0/cosp_1000/data/ck/cas_lemms_05109_20001_v2.bc',\n",
       " 'https://naif.jpl.nasa.gov/pub/naif/pds/data/co-s_j_e_v-spice-6-v1.0/cosp_1000/data/fk/cas_dyn_v03.tf',\n",
       " 'https://naif.jpl.nasa.gov/pub/naif/pds/data/co-s_j_e_v-spice-6-v1.0/cosp_1000/data/fk/cas_mimi_v202.tf',\n",
       " 'https://naif.jpl.nasa.gov/pub/naif/pds/data/co-s_j_e_v-spice-6-v1.0/cosp_1000/data/fk/cas_rocks_v18.tf',\n",
       " 'https://naif.jpl.nasa.gov/pub/naif/pds/data/co-s_j_e_v-spice-6-v1.0/cosp_1000/data/fk/cas_v41.tf',\n",
       " 'https://naif.jpl.nasa.gov/pub/naif/pds/data/co-s_j_e_v-spice-6-v1.0/cosp_1000/data/ik/cas_caps_v03.ti',\n",
       " 'https://naif.jpl.nasa.gov/pub/naif/pds/data/co-s_j_e_v-spice-6-v1.0/cosp_1000/data/ik/cas_cda_v01.ti',\n",
       " 'https://naif.jpl.nasa.gov/pub/naif/pds/data/co-s_j_e_v-spice-6-v1.0/cosp_1000/data/ik/cas_cirs_v09.ti',\n",
       " 'https://naif.jpl.nasa.gov/pub/naif/pds/data/co-s_j_e_v-spice-6-v1.0/cosp_1000/data/ik/cas_inms_v02.ti',\n",
       " 'https://naif.jpl.nasa.gov/pub/naif/pds/data/co-s_j_e_v-spice-6-v1.0/cosp_1000/data/ik/cas_iss_v10.ti',\n",
       " 'https://naif.jpl.nasa.gov/pub/naif/pds/data/co-s_j_e_v-spice-6-v1.0/cosp_1000/data/ik/cas_mag_v01.ti',\n",
       " 'https://naif.jpl.nasa.gov/pub/naif/pds/data/co-s_j_e_v-spice-6-v1.0/cosp_1000/data/ik/cas_mimi_v11.ti',\n",
       " 'https://naif.jpl.nasa.gov/pub/naif/pds/data/co-s_j_e_v-spice-6-v1.0/cosp_1000/data/ik/cas_radar_v11.ti',\n",
       " 'https://naif.jpl.nasa.gov/pub/naif/pds/data/co-s_j_e_v-spice-6-v1.0/cosp_1000/data/ik/cas_rpws_v01.ti',\n",
       " 'https://naif.jpl.nasa.gov/pub/naif/pds/data/co-s_j_e_v-spice-6-v1.0/cosp_1000/data/ik/cas_rss_v03.ti',\n",
       " 'https://naif.jpl.nasa.gov/pub/naif/pds/data/co-s_j_e_v-spice-6-v1.0/cosp_1000/data/ik/cas_sru_v02.ti',\n",
       " 'https://naif.jpl.nasa.gov/pub/naif/pds/data/co-s_j_e_v-spice-6-v1.0/cosp_1000/data/ik/cas_uvis_v06.ti',\n",
       " 'https://naif.jpl.nasa.gov/pub/naif/pds/data/co-s_j_e_v-spice-6-v1.0/cosp_1000/data/ik/cas_vims_v06.ti',\n",
       " 'https://naif.jpl.nasa.gov/pub/naif/pds/data/co-s_j_e_v-spice-6-v1.0/cosp_1000/data/lsk/naif0012.tls',\n",
       " 'https://naif.jpl.nasa.gov/pub/naif/pds/data/co-s_j_e_v-spice-6-v1.0/cosp_1000/data/pck/pck00010.tpc',\n",
       " 'https://naif.jpl.nasa.gov/pub/naif/pds/data/co-s_j_e_v-spice-6-v1.0/cosp_1000/data/sclk/cas00172.tsc',\n",
       " 'https://naif.jpl.nasa.gov/pub/naif/pds/data/co-s_j_e_v-spice-6-v1.0/cosp_1000/data/spk/110504R_SCPSE_11041_11093.bsp',\n",
       " 'https://naif.jpl.nasa.gov/pub/naif/pds/data/co-s_j_e_v-spice-6-v1.0/cosp_1000/data/spk/140809BP_IRRE_00256_25017.bsp',\n",
       " 'https://naif.jpl.nasa.gov/pub/naif/pds/data/co-s_j_e_v-spice-6-v1.0/cosp_1000/data/spk/180927AP_RE_90165_18018.bsp']"
      ]
     },
     "execution_count": 56,
     "metadata": {},
     "output_type": "execute_result"
    }
   ],
   "source": [
    "subset.kernel_urls"
   ]
  },
  {
   "cell_type": "code",
   "execution_count": 57,
   "id": "3182fde2-5feb-4bb4-8760-5b01d3b4d566",
   "metadata": {},
   "outputs": [
    {
     "data": {
      "text/markdown": [
       "---\n",
       "\n",
       "[source](https://github.com/michaelaye/nbplanetary/blob/master/planetarypy/spice/kernels.py#L196){target=\"_blank\" style=\"float:right; font-size:smaller\"}\n",
       "\n",
       "### Subsetter.get_local_path\n",
       "\n",
       ">      Subsetter.get_local_path (url)\n",
       "\n",
       "Calculate local storage path from Kernel URL, using `save_location` if given.\n",
       "\n",
       "If self.save_location is None, the `planetarypy` archive is being used.\n",
       "\n",
       "|    | **Type** | **Details** |\n",
       "| -- | -------- | ----------- |\n",
       "| url |  | kernel url to determine local storage path |\n",
       "| **Returns** | **Path** | **full local path where kernel in URL will be stored** |"
      ],
      "text/plain": [
       "---\n",
       "\n",
       "[source](https://github.com/michaelaye/nbplanetary/blob/master/planetarypy/spice/kernels.py#L196){target=\"_blank\" style=\"float:right; font-size:smaller\"}\n",
       "\n",
       "### Subsetter.get_local_path\n",
       "\n",
       ">      Subsetter.get_local_path (url)\n",
       "\n",
       "Calculate local storage path from Kernel URL, using `save_location` if given.\n",
       "\n",
       "If self.save_location is None, the `planetarypy` archive is being used.\n",
       "\n",
       "|    | **Type** | **Details** |\n",
       "| -- | -------- | ----------- |\n",
       "| url |  | kernel url to determine local storage path |\n",
       "| **Returns** | **Path** | **full local path where kernel in URL will be stored** |"
      ]
     },
     "execution_count": 57,
     "metadata": {},
     "output_type": "execute_result"
    }
   ],
   "source": [
    "show_doc(Subsetter.get_local_path)"
   ]
  },
  {
   "cell_type": "code",
   "execution_count": 58,
   "id": "f9a42d38-f8cd-4b01-ad07-79725c0357f6",
   "metadata": {},
   "outputs": [
    {
     "data": {
      "text/plain": [
       "Path('/home/ayek72/mnt/slowdata/planetarypy/spice_kernels/cassini/ck/11001_12001pa_gapfill_v14.bc')"
      ]
     },
     "execution_count": 58,
     "metadata": {},
     "output_type": "execute_result"
    }
   ],
   "source": [
    "subset.get_local_path(subset.kernel_urls[0])"
   ]
  },
  {
   "cell_type": "code",
   "execution_count": 59,
   "id": "0b1b0f92-5308-4282-bc0f-814d390c219d",
   "metadata": {},
   "outputs": [],
   "source": [
    "subset.save_location = Path(\".\")"
   ]
  },
  {
   "cell_type": "code",
   "execution_count": 60,
   "id": "3b7e5703-c660-4ec7-b957-f549f7340245",
   "metadata": {},
   "outputs": [
    {
     "data": {
      "text/plain": [
       "Path('ck/11001_12001pa_gapfill_v14.bc')"
      ]
     },
     "execution_count": 60,
     "metadata": {},
     "output_type": "execute_result"
    }
   ],
   "source": [
    "subset.get_local_path(subset.kernel_urls[0])"
   ]
  },
  {
   "cell_type": "code",
   "execution_count": 61,
   "id": "1b9ade41-6cae-4743-b893-69b416eacf68",
   "metadata": {},
   "outputs": [
    {
     "data": {
      "text/markdown": [
       "---\n",
       "\n",
       "[source](https://github.com/michaelaye/nbplanetary/blob/master/planetarypy/spice/kernels.py#L229){target=\"_blank\" style=\"float:right; font-size:smaller\"}\n",
       "\n",
       "### Subsetter.download_kernels\n",
       "\n",
       ">      Subsetter.download_kernels (overwrite:bool=False,\n",
       ">                                  non_blocking:bool=False)\n",
       "\n",
       "|    | **Type** | **Default** | **Details** |\n",
       "| -- | -------- | ----------- | ----------- |\n",
       "| overwrite | bool | False | switch to control if kernels should be downloaded over existing ones |\n",
       "| non_blocking | bool | False |  |"
      ],
      "text/plain": [
       "---\n",
       "\n",
       "[source](https://github.com/michaelaye/nbplanetary/blob/master/planetarypy/spice/kernels.py#L229){target=\"_blank\" style=\"float:right; font-size:smaller\"}\n",
       "\n",
       "### Subsetter.download_kernels\n",
       "\n",
       ">      Subsetter.download_kernels (overwrite:bool=False,\n",
       ">                                  non_blocking:bool=False)\n",
       "\n",
       "|    | **Type** | **Default** | **Details** |\n",
       "| -- | -------- | ----------- | ----------- |\n",
       "| overwrite | bool | False | switch to control if kernels should be downloaded over existing ones |\n",
       "| non_blocking | bool | False |  |"
      ]
     },
     "execution_count": 61,
     "metadata": {},
     "output_type": "execute_result"
    }
   ],
   "source": [
    "show_doc(Subsetter.download_kernels)"
   ]
  },
  {
   "cell_type": "code",
   "execution_count": 62,
   "id": "09ac7b78-2561-47c5-8818-60ff5244ab9a",
   "metadata": {},
   "outputs": [],
   "source": [
    "# reset save_location to prevent additional download\n",
    "subset.save_location = None"
   ]
  },
  {
   "cell_type": "code",
   "execution_count": 63,
   "id": "5d52c22a-234a-48e6-b811-a239dd9c33d3",
   "metadata": {},
   "outputs": [
    {
     "data": {
      "application/vnd.jupyter.widget-view+json": {
       "model_id": "d721d5bece4e44cb8f440b46e1fd8ee8",
       "version_major": 2,
       "version_minor": 0
      },
      "text/plain": [
       "Kernels downloaded:   0%|          | 0/28 [00:00<?, ?it/s]"
      ]
     },
     "metadata": {},
     "output_type": "display_data"
    },
    {
     "name": "stdout",
     "output_type": "stream",
     "text": [
      "ck 11001_12001pa_gapfill_v14.bc locally available.\n",
      "ck 11017_11066py_as_flown.bc locally available.\n",
      "ck 11044_11049ra.bc locally available.\n",
      "ck cas_cda_20120517.bc locally available.\n",
      "ck cas_lemms_05109_20001_v2.bc locally available.\n",
      "fk cas_dyn_v03.tf locally available.\n",
      "fk cas_mimi_v202.tf locally available.\n",
      "fk cas_rocks_v18.tf locally available.\n",
      "fk cas_v41.tf locally available.\n",
      "ik cas_caps_v03.ti locally available.\n",
      "ik cas_cda_v01.ti locally available.\n",
      "ik cas_cirs_v09.ti locally available.\n",
      "ik cas_inms_v02.ti locally available.\n",
      "ik cas_iss_v10.ti locally available.\n",
      "ik cas_mag_v01.ti locally available.\n",
      "ik cas_mimi_v11.ti locally available.\n",
      "ik cas_radar_v11.ti locally available.\n",
      "ik cas_rpws_v01.ti locally available.\n",
      "ik cas_rss_v03.ti locally available.\n",
      "ik cas_sru_v02.ti locally available.\n",
      "ik cas_uvis_v06.ti locally available.\n",
      "ik cas_vims_v06.ti locally available.\n",
      "lsk naif0012.tls locally available.\n",
      "pck pck00010.tpc locally available.\n",
      "sclk cas00172.tsc locally available.\n",
      "spk 110504R_SCPSE_11041_11093.bsp locally available.\n",
      "spk 140809BP_IRRE_00256_25017.bsp locally available.\n",
      "spk 180927AP_RE_90165_18018.bsp locally available.\n"
     ]
    }
   ],
   "source": [
    "subset.download_kernels()"
   ]
  },
  {
   "cell_type": "code",
   "execution_count": 64,
   "id": "06b5c52c-8cc2-469d-ba59-49b2f1005272",
   "metadata": {},
   "outputs": [
    {
     "data": {
      "application/vnd.jupyter.widget-view+json": {
       "model_id": "47914d357f284f5faec9cfbc07c4cc28",
       "version_major": 2,
       "version_minor": 0
      },
      "text/plain": [
       "0it [00:00, ?it/s]"
      ]
     },
     "metadata": {},
     "output_type": "display_data"
    },
    {
     "ename": "TypeError",
     "evalue": "download_one_url() missing 1 required positional argument: 'local_path'",
     "output_type": "error",
     "traceback": [
      "\u001b[0;31m---------------------------------------------------------------------------\u001b[0m",
      "\u001b[0;31m_RemoteTraceback\u001b[0m                          Traceback (most recent call last)",
      "\u001b[0;31m_RemoteTraceback\u001b[0m: \n\"\"\"\nTraceback (most recent call last):\n  File \"/home/ayek72/mambaforge/envs/py310/lib/python3.10/concurrent/futures/process.py\", line 246, in _process_worker\n    r = call_item.fn(*call_item.args, **call_item.kwargs)\n  File \"/home/ayek72/mambaforge/envs/py310/lib/python3.10/concurrent/futures/process.py\", line 205, in _process_chunk\n    return [fn(*args) for args in chunk]\n  File \"/home/ayek72/mambaforge/envs/py310/lib/python3.10/concurrent/futures/process.py\", line 205, in <listcomp>\n    return [fn(*args) for args in chunk]\nTypeError: download_one_url() missing 1 required positional argument: 'local_path'\n\"\"\"",
      "\nThe above exception was the direct cause of the following exception:\n",
      "\u001b[0;31mTypeError\u001b[0m                                 Traceback (most recent call last)",
      "Cell \u001b[0;32mIn[64], line 1\u001b[0m\n\u001b[0;32m----> 1\u001b[0m \u001b[43msubset\u001b[49m\u001b[38;5;241;43m.\u001b[39;49m\u001b[43m_concurrent_download\u001b[49m\u001b[43m(\u001b[49m\u001b[43m)\u001b[49m\n",
      "Cell \u001b[0;32mIn[47], line 131\u001b[0m, in \u001b[0;36mSubsetter._concurrent_download\u001b[0;34m(self, overwrite)\u001b[0m\n\u001b[1;32m    129\u001b[0m paths \u001b[38;5;241m=\u001b[39m [\u001b[38;5;28mself\u001b[39m\u001b[38;5;241m.\u001b[39mget_local_path(url) \u001b[38;5;28;01mfor\u001b[39;00m url \u001b[38;5;129;01min\u001b[39;00m \u001b[38;5;28mself\u001b[39m\u001b[38;5;241m.\u001b[39mkernel_urls]\n\u001b[1;32m    130\u001b[0m args \u001b[38;5;241m=\u001b[39m \u001b[38;5;28mzip\u001b[39m(\u001b[38;5;28mself\u001b[39m\u001b[38;5;241m.\u001b[39mkernel_urls, paths, repeat(overwrite))\n\u001b[0;32m--> 131\u001b[0m results \u001b[38;5;241m=\u001b[39m \u001b[43mprocess_map\u001b[49m\u001b[43m(\u001b[49m\u001b[43mdownload_one_url\u001b[49m\u001b[43m,\u001b[49m\u001b[43m \u001b[49m\u001b[43margs\u001b[49m\u001b[43m,\u001b[49m\u001b[43m \u001b[49m\u001b[43mmax_workers\u001b[49m\u001b[38;5;241;43m=\u001b[39;49m\u001b[43mcpu_count\u001b[49m\u001b[43m(\u001b[49m\u001b[43m)\u001b[49m\u001b[38;5;241;43m-\u001b[39;49m\u001b[38;5;241;43m2\u001b[39;49m\u001b[43m)\u001b[49m\n",
      "File \u001b[0;32m~/mambaforge/envs/py310/lib/python3.10/site-packages/tqdm/contrib/concurrent.py:130\u001b[0m, in \u001b[0;36mprocess_map\u001b[0;34m(fn, *iterables, **tqdm_kwargs)\u001b[0m\n\u001b[1;32m    128\u001b[0m     tqdm_kwargs \u001b[38;5;241m=\u001b[39m tqdm_kwargs\u001b[38;5;241m.\u001b[39mcopy()\n\u001b[1;32m    129\u001b[0m     tqdm_kwargs[\u001b[38;5;124m\"\u001b[39m\u001b[38;5;124mlock_name\u001b[39m\u001b[38;5;124m\"\u001b[39m] \u001b[38;5;241m=\u001b[39m \u001b[38;5;124m\"\u001b[39m\u001b[38;5;124mmp_lock\u001b[39m\u001b[38;5;124m\"\u001b[39m\n\u001b[0;32m--> 130\u001b[0m \u001b[38;5;28;01mreturn\u001b[39;00m \u001b[43m_executor_map\u001b[49m\u001b[43m(\u001b[49m\u001b[43mProcessPoolExecutor\u001b[49m\u001b[43m,\u001b[49m\u001b[43m \u001b[49m\u001b[43mfn\u001b[49m\u001b[43m,\u001b[49m\u001b[43m \u001b[49m\u001b[38;5;241;43m*\u001b[39;49m\u001b[43miterables\u001b[49m\u001b[43m,\u001b[49m\u001b[43m \u001b[49m\u001b[38;5;241;43m*\u001b[39;49m\u001b[38;5;241;43m*\u001b[39;49m\u001b[43mtqdm_kwargs\u001b[49m\u001b[43m)\u001b[49m\n",
      "File \u001b[0;32m~/mambaforge/envs/py310/lib/python3.10/site-packages/tqdm/contrib/concurrent.py:76\u001b[0m, in \u001b[0;36m_executor_map\u001b[0;34m(PoolExecutor, fn, *iterables, **tqdm_kwargs)\u001b[0m\n\u001b[1;32m     74\u001b[0m     map_args\u001b[38;5;241m.\u001b[39mupdate(chunksize\u001b[38;5;241m=\u001b[39mchunksize)\n\u001b[1;32m     75\u001b[0m \u001b[38;5;28;01mwith\u001b[39;00m PoolExecutor(\u001b[38;5;241m*\u001b[39m\u001b[38;5;241m*\u001b[39mpool_kwargs) \u001b[38;5;28;01mas\u001b[39;00m ex:\n\u001b[0;32m---> 76\u001b[0m     \u001b[38;5;28;01mreturn\u001b[39;00m \u001b[38;5;28;43mlist\u001b[39;49m\u001b[43m(\u001b[49m\u001b[43mtqdm_class\u001b[49m\u001b[43m(\u001b[49m\u001b[43mex\u001b[49m\u001b[38;5;241;43m.\u001b[39;49m\u001b[43mmap\u001b[49m\u001b[43m(\u001b[49m\u001b[43mfn\u001b[49m\u001b[43m,\u001b[49m\u001b[43m \u001b[49m\u001b[38;5;241;43m*\u001b[39;49m\u001b[43miterables\u001b[49m\u001b[43m,\u001b[49m\u001b[43m \u001b[49m\u001b[38;5;241;43m*\u001b[39;49m\u001b[38;5;241;43m*\u001b[39;49m\u001b[43mmap_args\u001b[49m\u001b[43m)\u001b[49m\u001b[43m,\u001b[49m\u001b[43m \u001b[49m\u001b[38;5;241;43m*\u001b[39;49m\u001b[38;5;241;43m*\u001b[39;49m\u001b[43mkwargs\u001b[49m\u001b[43m)\u001b[49m\u001b[43m)\u001b[49m\n",
      "File \u001b[0;32m~/mambaforge/envs/py310/lib/python3.10/site-packages/tqdm/notebook.py:259\u001b[0m, in \u001b[0;36mtqdm_notebook.__iter__\u001b[0;34m(self)\u001b[0m\n\u001b[1;32m    257\u001b[0m \u001b[38;5;28;01mtry\u001b[39;00m:\n\u001b[1;32m    258\u001b[0m     it \u001b[38;5;241m=\u001b[39m \u001b[38;5;28msuper\u001b[39m(tqdm_notebook, \u001b[38;5;28mself\u001b[39m)\u001b[38;5;241m.\u001b[39m\u001b[38;5;21m__iter__\u001b[39m()\n\u001b[0;32m--> 259\u001b[0m     \u001b[38;5;28;01mfor\u001b[39;00m obj \u001b[38;5;129;01min\u001b[39;00m it:\n\u001b[1;32m    260\u001b[0m         \u001b[38;5;66;03m# return super(tqdm...) will not catch exception\u001b[39;00m\n\u001b[1;32m    261\u001b[0m         \u001b[38;5;28;01myield\u001b[39;00m obj\n\u001b[1;32m    262\u001b[0m \u001b[38;5;66;03m# NB: except ... [ as ...] breaks IPython async KeyboardInterrupt\u001b[39;00m\n",
      "File \u001b[0;32m~/mambaforge/envs/py310/lib/python3.10/site-packages/tqdm/std.py:1195\u001b[0m, in \u001b[0;36mtqdm.__iter__\u001b[0;34m(self)\u001b[0m\n\u001b[1;32m   1192\u001b[0m time \u001b[38;5;241m=\u001b[39m \u001b[38;5;28mself\u001b[39m\u001b[38;5;241m.\u001b[39m_time\n\u001b[1;32m   1194\u001b[0m \u001b[38;5;28;01mtry\u001b[39;00m:\n\u001b[0;32m-> 1195\u001b[0m     \u001b[38;5;28;01mfor\u001b[39;00m obj \u001b[38;5;129;01min\u001b[39;00m iterable:\n\u001b[1;32m   1196\u001b[0m         \u001b[38;5;28;01myield\u001b[39;00m obj\n\u001b[1;32m   1197\u001b[0m         \u001b[38;5;66;03m# Update and possibly print the progressbar.\u001b[39;00m\n\u001b[1;32m   1198\u001b[0m         \u001b[38;5;66;03m# Note: does not call self.update(1) for speed optimisation.\u001b[39;00m\n",
      "File \u001b[0;32m~/mambaforge/envs/py310/lib/python3.10/concurrent/futures/process.py:570\u001b[0m, in \u001b[0;36m_chain_from_iterable_of_lists\u001b[0;34m(iterable)\u001b[0m\n\u001b[1;32m    564\u001b[0m \u001b[38;5;28;01mdef\u001b[39;00m \u001b[38;5;21m_chain_from_iterable_of_lists\u001b[39m(iterable):\n\u001b[1;32m    565\u001b[0m \u001b[38;5;250m    \u001b[39m\u001b[38;5;124;03m\"\"\"\u001b[39;00m\n\u001b[1;32m    566\u001b[0m \u001b[38;5;124;03m    Specialized implementation of itertools.chain.from_iterable.\u001b[39;00m\n\u001b[1;32m    567\u001b[0m \u001b[38;5;124;03m    Each item in *iterable* should be a list.  This function is\u001b[39;00m\n\u001b[1;32m    568\u001b[0m \u001b[38;5;124;03m    careful not to keep references to yielded objects.\u001b[39;00m\n\u001b[1;32m    569\u001b[0m \u001b[38;5;124;03m    \"\"\"\u001b[39;00m\n\u001b[0;32m--> 570\u001b[0m     \u001b[38;5;28;01mfor\u001b[39;00m element \u001b[38;5;129;01min\u001b[39;00m iterable:\n\u001b[1;32m    571\u001b[0m         element\u001b[38;5;241m.\u001b[39mreverse()\n\u001b[1;32m    572\u001b[0m         \u001b[38;5;28;01mwhile\u001b[39;00m element:\n",
      "File \u001b[0;32m~/mambaforge/envs/py310/lib/python3.10/concurrent/futures/_base.py:621\u001b[0m, in \u001b[0;36mExecutor.map.<locals>.result_iterator\u001b[0;34m()\u001b[0m\n\u001b[1;32m    618\u001b[0m \u001b[38;5;28;01mwhile\u001b[39;00m fs:\n\u001b[1;32m    619\u001b[0m     \u001b[38;5;66;03m# Careful not to keep a reference to the popped future\u001b[39;00m\n\u001b[1;32m    620\u001b[0m     \u001b[38;5;28;01mif\u001b[39;00m timeout \u001b[38;5;129;01mis\u001b[39;00m \u001b[38;5;28;01mNone\u001b[39;00m:\n\u001b[0;32m--> 621\u001b[0m         \u001b[38;5;28;01myield\u001b[39;00m \u001b[43m_result_or_cancel\u001b[49m\u001b[43m(\u001b[49m\u001b[43mfs\u001b[49m\u001b[38;5;241;43m.\u001b[39;49m\u001b[43mpop\u001b[49m\u001b[43m(\u001b[49m\u001b[43m)\u001b[49m\u001b[43m)\u001b[49m\n\u001b[1;32m    622\u001b[0m     \u001b[38;5;28;01melse\u001b[39;00m:\n\u001b[1;32m    623\u001b[0m         \u001b[38;5;28;01myield\u001b[39;00m _result_or_cancel(fs\u001b[38;5;241m.\u001b[39mpop(), end_time \u001b[38;5;241m-\u001b[39m time\u001b[38;5;241m.\u001b[39mmonotonic())\n",
      "File \u001b[0;32m~/mambaforge/envs/py310/lib/python3.10/concurrent/futures/_base.py:319\u001b[0m, in \u001b[0;36m_result_or_cancel\u001b[0;34m(***failed resolving arguments***)\u001b[0m\n\u001b[1;32m    317\u001b[0m \u001b[38;5;28;01mtry\u001b[39;00m:\n\u001b[1;32m    318\u001b[0m     \u001b[38;5;28;01mtry\u001b[39;00m:\n\u001b[0;32m--> 319\u001b[0m         \u001b[38;5;28;01mreturn\u001b[39;00m \u001b[43mfut\u001b[49m\u001b[38;5;241;43m.\u001b[39;49m\u001b[43mresult\u001b[49m\u001b[43m(\u001b[49m\u001b[43mtimeout\u001b[49m\u001b[43m)\u001b[49m\n\u001b[1;32m    320\u001b[0m     \u001b[38;5;28;01mfinally\u001b[39;00m:\n\u001b[1;32m    321\u001b[0m         fut\u001b[38;5;241m.\u001b[39mcancel()\n",
      "File \u001b[0;32m~/mambaforge/envs/py310/lib/python3.10/concurrent/futures/_base.py:451\u001b[0m, in \u001b[0;36mFuture.result\u001b[0;34m(self, timeout)\u001b[0m\n\u001b[1;32m    449\u001b[0m     \u001b[38;5;28;01mraise\u001b[39;00m CancelledError()\n\u001b[1;32m    450\u001b[0m \u001b[38;5;28;01melif\u001b[39;00m \u001b[38;5;28mself\u001b[39m\u001b[38;5;241m.\u001b[39m_state \u001b[38;5;241m==\u001b[39m FINISHED:\n\u001b[0;32m--> 451\u001b[0m     \u001b[38;5;28;01mreturn\u001b[39;00m \u001b[38;5;28;43mself\u001b[39;49m\u001b[38;5;241;43m.\u001b[39;49m\u001b[43m__get_result\u001b[49m\u001b[43m(\u001b[49m\u001b[43m)\u001b[49m\n\u001b[1;32m    453\u001b[0m \u001b[38;5;28mself\u001b[39m\u001b[38;5;241m.\u001b[39m_condition\u001b[38;5;241m.\u001b[39mwait(timeout)\n\u001b[1;32m    455\u001b[0m \u001b[38;5;28;01mif\u001b[39;00m \u001b[38;5;28mself\u001b[39m\u001b[38;5;241m.\u001b[39m_state \u001b[38;5;129;01min\u001b[39;00m [CANCELLED, CANCELLED_AND_NOTIFIED]:\n",
      "File \u001b[0;32m~/mambaforge/envs/py310/lib/python3.10/concurrent/futures/_base.py:403\u001b[0m, in \u001b[0;36mFuture.__get_result\u001b[0;34m(self)\u001b[0m\n\u001b[1;32m    401\u001b[0m \u001b[38;5;28;01mif\u001b[39;00m \u001b[38;5;28mself\u001b[39m\u001b[38;5;241m.\u001b[39m_exception:\n\u001b[1;32m    402\u001b[0m     \u001b[38;5;28;01mtry\u001b[39;00m:\n\u001b[0;32m--> 403\u001b[0m         \u001b[38;5;28;01mraise\u001b[39;00m \u001b[38;5;28mself\u001b[39m\u001b[38;5;241m.\u001b[39m_exception\n\u001b[1;32m    404\u001b[0m     \u001b[38;5;28;01mfinally\u001b[39;00m:\n\u001b[1;32m    405\u001b[0m         \u001b[38;5;66;03m# Break a reference cycle with the exception in self._exception\u001b[39;00m\n\u001b[1;32m    406\u001b[0m         \u001b[38;5;28mself\u001b[39m \u001b[38;5;241m=\u001b[39m \u001b[38;5;28;01mNone\u001b[39;00m\n",
      "\u001b[0;31mTypeError\u001b[0m: download_one_url() missing 1 required positional argument: 'local_path'"
     ]
    }
   ],
   "source": [
    "subset._concurrent_download()"
   ]
  },
  {
   "cell_type": "code",
   "execution_count": null,
   "id": "044238d3-5931-4c0c-9ee9-3174ec7a4d31",
   "metadata": {},
   "outputs": [],
   "source": [
    "subset.download_kernels(non_blocking=True)"
   ]
  },
  {
   "cell_type": "code",
   "execution_count": 65,
   "id": "e3f26bae-42f5-43df-9a81-0fb70ac663a1",
   "metadata": {},
   "outputs": [
    {
     "data": {
      "text/markdown": [
       "---\n",
       "\n",
       "[source](https://github.com/michaelaye/nbplanetary/blob/master/planetarypy/spice/kernels.py#L245){target=\"_blank\" style=\"float:right; font-size:smaller\"}\n",
       "\n",
       "### Subsetter.get_metakernel\n",
       "\n",
       ">      Subsetter.get_metakernel ()\n",
       "\n",
       "Get metakernel file from NAIF and adapt path to match local storage.\n",
       "\n",
       "Use `save_location` if given, otherwise `planetarypy` archive."
      ],
      "text/plain": [
       "---\n",
       "\n",
       "[source](https://github.com/michaelaye/nbplanetary/blob/master/planetarypy/spice/kernels.py#L245){target=\"_blank\" style=\"float:right; font-size:smaller\"}\n",
       "\n",
       "### Subsetter.get_metakernel\n",
       "\n",
       ">      Subsetter.get_metakernel ()\n",
       "\n",
       "Get metakernel file from NAIF and adapt path to match local storage.\n",
       "\n",
       "Use `save_location` if given, otherwise `planetarypy` archive."
      ]
     },
     "execution_count": 65,
     "metadata": {},
     "output_type": "execute_result"
    }
   ],
   "source": [
    "show_doc(Subsetter.get_metakernel)"
   ]
  },
  {
   "cell_type": "code",
   "execution_count": 66,
   "id": "a66d6ddd-50c8-4c9a-9592-9c1f1fee25fe",
   "metadata": {},
   "outputs": [
    {
     "data": {
      "text/plain": [
       "Path('/home/ayek72/mnt/slowdata/planetarypy/spice_kernels/cassini/cas_2011_v17_110213_110214.tm')"
      ]
     },
     "execution_count": 66,
     "metadata": {},
     "output_type": "execute_result"
    }
   ],
   "source": [
    "mkpath = subset.get_metakernel()\n",
    "mkpath"
   ]
  },
  {
   "cell_type": "code",
   "execution_count": 67,
   "id": "283507d5-581d-4741-acb5-2926e278e2d4",
   "metadata": {},
   "outputs": [
    {
     "name": "stdout",
     "output_type": "stream",
     "text": [
      "WARNING: overwriting environment variables set in the machine\n",
      "overwriting variable {'ISISROOT', 'ISISDATA'}\n",
      "KPL/MK\n",
      "\n",
      "   This meta-kernel lists a subset of kernels from the meta-kernel\n",
      "   cas_2011_v17.tm provided in the CO-S/J/E/V-SPICE-6-V1.0 SPICE PDS3 archive,\n",
      "   covering the whole or a part of the customer requested time period\n",
      "   from 2011-02-13T00:00:00.000 to 2011-02-14T00:00:00.000.\n",
      "\n",
      "   The documentation describing these kernels can be found in the\n",
      "   complete CO-S/J/E/V-SPICE-6-V1.0 SPICE PDS3 archive available at this URL\n",
      "\n",
      "   https://naif.jpl.nasa.gov/pub/naif/pds/data/co-s_j_e_v-spice-6-v1.0/cosp_1000\n",
      "\n",
      "   To use this meta-kernel users may need to modify the value of the\n",
      "   PATH_VALUES keyword to point to the actual location of the archive's\n",
      "   ``data'' directory on their system. Replacing ``/'' with ``\\''\n",
      "   and converting line terminators to the format native to the user's\n",
      "   system may also be required if this meta-kernel is to be used on a\n",
      "   non-UNIX workstation.\n",
      "\n",
      "   This meta-kernel was created by the NAIF node's SPICE PDS archive\n",
      "   subsetting service version 2.1 on Fri Feb 17 08:36:20 PST 2023.\n",
      "\n",
      " \n",
      "   \\begindata\n",
      " \n",
      "      PATH_VALUES     = (\n",
      "                         '/home/ayek72/mnt/slowdata/planetarypy/spice_kernels/cassini'\n",
      "                        )\n",
      " \n",
      "      PATH_SYMBOLS    = (\n",
      "                         'KERNELS'\n",
      "                        )\n",
      " \n",
      "      KERNELS_TO_LOAD = (\n",
      "                         '$KERNELS/lsk/naif0012.tls'\n",
      "                         '$KERNELS/pck/pck00010.tpc'\n",
      "                         '$KERNELS/fk/cas_rocks_v18.tf'\n",
      "                         '$KERNELS/fk/cas_mimi_v202.tf'\n",
      "                         '$KERNELS/fk/cas_dyn_v03.tf'\n",
      "                         '$KERNELS/fk/cas_v41.tf'\n",
      "                         '$KERNELS/ik/cas_caps_v03.ti'\n",
      "                         '$KERNELS/ik/cas_cda_v01.ti'\n",
      "                         '$KERNELS/ik/cas_cirs_v09.ti'\n",
      "                         '$KERNELS/ik/cas_inms_v02.ti'\n",
      "                         '$KERNELS/ik/cas_iss_v10.ti'\n",
      "                         '$KERNELS/ik/cas_mag_v01.ti'\n",
      "                         '$KERNELS/ik/cas_mimi_v11.ti'\n",
      "                         '$KERNELS/ik/cas_radar_v11.ti'\n",
      "                         '$KERNELS/ik/cas_rpws_v01.ti'\n",
      "                         '$KERNELS/ik/cas_rss_v03.ti'\n",
      "                         '$KERNELS/ik/cas_sru_v02.ti'\n",
      "                         '$KERNELS/ik/cas_uvis_v06.ti'\n",
      "                         '$KERNELS/ik/cas_vims_v06.ti'\n",
      "                         '$KERNELS/sclk/cas00172.tsc'\n",
      "                         '$KERNELS/spk/180927AP_RE_90165_18018.bsp'\n",
      "                         '$KERNELS/spk/140809BP_IRRE_00256_25017.bsp'\n",
      "                         '$KERNELS/spk/110504R_SCPSE_11041_11093.bsp'\n",
      "                         '$KERNELS/ck/11001_12001pa_gapfill_v14.bc'\n",
      "                         '$KERNELS/ck/11017_11066py_as_flown.bc'\n",
      "                         '$KERNELS/ck/11044_11049ra.bc'\n",
      "                         '$KERNELS/ck/cas_cda_20120517.bc'\n",
      "                         '$KERNELS/ck/cas_lemms_05109_20001_v2.bc'\n",
      "                        )\n",
      " \n",
      "   \\begintext\n",
      " \n",
      "\n"
     ]
    }
   ],
   "source": [
    "!cat {mkpath}"
   ]
  },
  {
   "cell_type": "markdown",
   "id": "aed329fb-9f18-471b-a0f6-4f8408048ad6",
   "metadata": {},
   "source": [
    "Loading the metakernel works! :"
   ]
  },
  {
   "cell_type": "code",
   "execution_count": 68,
   "id": "fc1f908c-2d91-4dc5-b14d-57d724b6beea",
   "metadata": {},
   "outputs": [],
   "source": [
    "spice.furnsh(str(mkpath))"
   ]
  },
  {
   "cell_type": "markdown",
   "id": "60c69128-dfa9-4637-9352-b4f0d6c8f6b8",
   "metadata": {},
   "source": [
    "Or, with given `save_location`:"
   ]
  },
  {
   "cell_type": "code",
   "execution_count": 69,
   "id": "f3ad0619-5c38-4422-bc0d-5d6ddf53f111",
   "metadata": {},
   "outputs": [
    {
     "data": {
      "text/plain": [
       "Path('cas_2011_v17_110213_110214.tm')"
      ]
     },
     "execution_count": 69,
     "metadata": {},
     "output_type": "execute_result"
    }
   ],
   "source": [
    "subset.save_location = Path(\".\")\n",
    "mkpath = subset.get_metakernel()\n",
    "mkpath"
   ]
  },
  {
   "cell_type": "markdown",
   "id": "c35f5a30-e29d-4051-ba0f-8b3236207fd7",
   "metadata": {},
   "source": [
    "The metakernel is correctly adapted, however for these tests, I didn't download the kernels again"
   ]
  },
  {
   "cell_type": "code",
   "execution_count": 70,
   "id": "f834f517-eb7b-430f-92f1-c483ac3dc9b2",
   "metadata": {},
   "outputs": [
    {
     "name": "stdout",
     "output_type": "stream",
     "text": [
      "WARNING: overwriting environment variables set in the machine\n",
      "overwriting variable {'ISISROOT', 'ISISDATA'}\n",
      "KPL/MK\n",
      "\n",
      "   This meta-kernel lists a subset of kernels from the meta-kernel\n",
      "   cas_2011_v17.tm provided in the CO-S/J/E/V-SPICE-6-V1.0 SPICE PDS3 archive,\n",
      "   covering the whole or a part of the customer requested time period\n",
      "   from 2011-02-13T00:00:00.000 to 2011-02-14T00:00:00.000.\n",
      "\n",
      "   The documentation describing these kernels can be found in the\n",
      "   complete CO-S/J/E/V-SPICE-6-V1.0 SPICE PDS3 archive available at this URL\n",
      "\n",
      "   https://naif.jpl.nasa.gov/pub/naif/pds/data/co-s_j_e_v-spice-6-v1.0/cosp_1000\n",
      "\n",
      "   To use this meta-kernel users may need to modify the value of the\n",
      "   PATH_VALUES keyword to point to the actual location of the archive's\n",
      "   ``data'' directory on their system. Replacing ``/'' with ``\\''\n",
      "   and converting line terminators to the format native to the user's\n",
      "   system may also be required if this meta-kernel is to be used on a\n",
      "   non-UNIX workstation.\n",
      "\n",
      "   This meta-kernel was created by the NAIF node's SPICE PDS archive\n",
      "   subsetting service version 2.1 on Fri Feb 17 08:36:20 PST 2023.\n",
      "\n",
      " \n",
      "   \\begindata\n",
      " \n",
      "      PATH_VALUES     = (\n",
      "                         '.'\n",
      "                        )\n",
      " \n",
      "      PATH_SYMBOLS    = (\n",
      "                         'KERNELS'\n",
      "                        )\n",
      " \n",
      "      KERNELS_TO_LOAD = (\n",
      "                         '$KERNELS/lsk/naif0012.tls'\n",
      "                         '$KERNELS/pck/pck00010.tpc'\n",
      "                         '$KERNELS/fk/cas_rocks_v18.tf'\n",
      "                         '$KERNELS/fk/cas_mimi_v202.tf'\n",
      "                         '$KERNELS/fk/cas_dyn_v03.tf'\n",
      "                         '$KERNELS/fk/cas_v41.tf'\n",
      "                         '$KERNELS/ik/cas_caps_v03.ti'\n",
      "                         '$KERNELS/ik/cas_cda_v01.ti'\n",
      "                         '$KERNELS/ik/cas_cirs_v09.ti'\n",
      "                         '$KERNELS/ik/cas_inms_v02.ti'\n",
      "                         '$KERNELS/ik/cas_iss_v10.ti'\n",
      "                         '$KERNELS/ik/cas_mag_v01.ti'\n",
      "                         '$KERNELS/ik/cas_mimi_v11.ti'\n",
      "                         '$KERNELS/ik/cas_radar_v11.ti'\n",
      "                         '$KERNELS/ik/cas_rpws_v01.ti'\n",
      "                         '$KERNELS/ik/cas_rss_v03.ti'\n",
      "                         '$KERNELS/ik/cas_sru_v02.ti'\n",
      "                         '$KERNELS/ik/cas_uvis_v06.ti'\n",
      "                         '$KERNELS/ik/cas_vims_v06.ti'\n",
      "                         '$KERNELS/sclk/cas00172.tsc'\n",
      "                         '$KERNELS/spk/180927AP_RE_90165_18018.bsp'\n",
      "                         '$KERNELS/spk/140809BP_IRRE_00256_25017.bsp'\n",
      "                         '$KERNELS/spk/110504R_SCPSE_11041_11093.bsp'\n",
      "                         '$KERNELS/ck/11001_12001pa_gapfill_v14.bc'\n",
      "                         '$KERNELS/ck/11017_11066py_as_flown.bc'\n",
      "                         '$KERNELS/ck/11044_11049ra.bc'\n",
      "                         '$KERNELS/ck/cas_cda_20120517.bc'\n",
      "                         '$KERNELS/ck/cas_lemms_05109_20001_v2.bc'\n",
      "                        )\n",
      " \n",
      "   \\begintext\n",
      " \n",
      "\n"
     ]
    }
   ],
   "source": [
    "!cat {mkpath}"
   ]
  },
  {
   "cell_type": "markdown",
   "id": "fd7487fc-1c1a-434d-bcf4-5f9ad3984a9c",
   "metadata": {},
   "source": [
    "## User functions"
   ]
  },
  {
   "cell_type": "code",
   "execution_count": 71,
   "id": "ce08ace9-e577-4e81-bb6d-6bfa232f3c08",
   "metadata": {},
   "outputs": [],
   "source": [
    "#| export\n",
    "def get_metakernel_and_files(\n",
    "    mission: str,  # mission shorthand from datasets dataframe\n",
    "    start: str,  # start time as iso-string, or yyyy-jjj\n",
    "    stop: str,  # stop time as iso-string or yyyy-jjj\n",
    "    save_location: str = None,  # override storage into planetarypy archive\n",
    ") -> Path:  # pathlib.Path to metakernel file with corrected data path.\n",
    "    \"For a given mission and start/stop times, download the kernels and get metakernel path\"\n",
    "    subset = Subsetter(mission, start, stop, save_location)\n",
    "    subset.download_kernels(non_blocking=True)\n",
    "    return subset.get_metakernel()"
   ]
  },
  {
   "cell_type": "code",
   "execution_count": 72,
   "id": "68deb5da-5bd5-44d8-be01-edba72037ce9",
   "metadata": {},
   "outputs": [
    {
     "data": {
      "application/vnd.jupyter.widget-view+json": {
       "model_id": "415cd5dd2bb141008d8bf87a9ce515d7",
       "version_major": 2,
       "version_minor": 0
      },
      "text/plain": [
       "Kernels downloaded:   0%|          | 0/28 [00:00<?, ?it/s]"
      ]
     },
     "metadata": {},
     "output_type": "display_data"
    },
    {
     "name": "stdout",
     "output_type": "stream",
     "text": [
      "ck 11001_12001pa_gapfill_v14.bc locally available.\n",
      "ck 11017_11066py_as_flown.bc locally available.\n",
      "ck 11044_11049ra.bc locally available.\n",
      "ck cas_cda_20120517.bc locally available.\n",
      "ck cas_lemms_05109_20001_v2.bc locally available.\n",
      "fk cas_dyn_v03.tf locally available.\n",
      "fk cas_mimi_v202.tf locally available.\n",
      "fk cas_rocks_v18.tf locally available.\n",
      "fk cas_v41.tf locally available.\n",
      "ik cas_caps_v03.ti locally available.\n",
      "ik cas_cda_v01.ti locally available.\n",
      "ik cas_cirs_v09.ti locally available.\n",
      "ik cas_inms_v02.ti locally available.\n",
      "ik cas_iss_v10.ti locally available.\n",
      "ik cas_mag_v01.ti locally available.\n",
      "ik cas_mimi_v11.ti locally available.\n",
      "ik cas_radar_v11.ti locally available.\n",
      "ik cas_rpws_v01.ti locally available.\n",
      "ik cas_rss_v03.ti locally available.\n",
      "ik cas_sru_v02.ti locally available.\n",
      "ik cas_uvis_v06.ti locally available.\n",
      "ik cas_vims_v06.ti locally available.\n",
      "lsk naif0012.tls locally available.\n",
      "pck pck00010.tpc locally available.\n",
      "sclk cas00172.tsc locally available.\n",
      "spk 110504R_SCPSE_11041_11093.bsp locally available.\n",
      "spk 140809BP_IRRE_00256_25017.bsp locally available.\n",
      "spk 180927AP_RE_90165_18018.bsp locally available.\n"
     ]
    },
    {
     "data": {
      "text/plain": [
       "Path('/home/ayek72/mnt/slowdata/planetarypy/spice_kernels/cassini/cas_2011_v17_110213_110214.tm')"
      ]
     },
     "execution_count": 72,
     "metadata": {},
     "output_type": "execute_result"
    }
   ],
   "source": [
    "mkpath = get_metakernel_and_files(\"cassini\", \"2011-02-13\", \"2011-02-14\")\n",
    "mkpath"
   ]
  },
  {
   "cell_type": "code",
   "execution_count": 73,
   "id": "9a7bd8b8-2a55-4386-9a98-e3c7c7f425ee",
   "metadata": {},
   "outputs": [],
   "source": [
    "#| export\n",
    "def list_kernels_for_day(\n",
    "    mission: str,  # mission shorthand from datasets dataframe\n",
    "    start: str,  # start time as iso-string, or yyyy-jjj\n",
    "    stop: str = \"\",  # stop time as iso-string or yyyy-jjj\n",
    ") -> list:  # list of kernel names\n",
    "    subset = Subsetter(mission, start, stop)\n",
    "    return subset.kernel_names"
   ]
  },
  {
   "cell_type": "code",
   "execution_count": 74,
   "id": "bd5b05dd-3b42-4fa1-a738-bbddc1b01e5a",
   "metadata": {},
   "outputs": [
    {
     "data": {
      "text/plain": [
       "['ck/mro_crm_psp_150201_150228.bc',\n",
       " 'ck/mro_hga_psp_150210_150216_v2.bc',\n",
       " 'ck/mro_mcs_psp_150201_150228.bc',\n",
       " 'ck/mro_sa_psp_150210_150216_v2.bc',\n",
       " 'ck/mro_sc_psp_150210_150216_v2.bc',\n",
       " 'fk/mro_v16.tf',\n",
       " 'ik/mro_crism_v10.ti',\n",
       " 'ik/mro_ctx_v11.ti',\n",
       " 'ik/mro_hirise_v12.ti',\n",
       " 'ik/mro_marci_v10.ti',\n",
       " 'ik/mro_mcs_v10.ti',\n",
       " 'ik/mro_onc_v10.ti',\n",
       " 'lsk/naif0012.tls',\n",
       " 'pck/pck00008.tpc',\n",
       " 'sclk/mro_sclkscet_00095_65536.tsc',\n",
       " 'spk/de421.bsp',\n",
       " 'spk/mar097.bsp',\n",
       " 'spk/mro_psp34.bsp',\n",
       " 'spk/mro_psp34_ssd_mro95a.bsp',\n",
       " 'spk/mro_struct_v10.bsp']"
      ]
     },
     "execution_count": 74,
     "metadata": {},
     "output_type": "execute_result"
    }
   ],
   "source": [
    "list_kernels_for_day(\"mro\", \"2015-02-13\")"
   ]
  },
  {
   "cell_type": "code",
   "execution_count": 75,
   "id": "1e1026c5-2223-4244-904d-61510813a5c6",
   "metadata": {},
   "outputs": [
    {
     "data": {
      "text/plain": [
       "['ck/mvn_app_rel_161226_170101_v01.bc',\n",
       " 'ck/mvn_app_rel_170102_170108_v01.bc',\n",
       " 'ck/mvn_iuvs_rem_170101_170331_v03.bc',\n",
       " 'ck/mvn_sc_rel_161226_170101_v01.bc',\n",
       " 'ck/mvn_sc_rel_170102_170108_v02.bc',\n",
       " 'ck/mvn_swea_nom_131118_300101_v02.bc',\n",
       " 'fk/maven_v09.tf',\n",
       " 'ik/maven_ant_v10.ti',\n",
       " 'ik/maven_euv_v10.ti',\n",
       " 'ik/maven_iuvs_v11.ti',\n",
       " 'ik/maven_ngims_v10.ti',\n",
       " 'ik/maven_sep_v12.ti',\n",
       " 'ik/maven_static_v11.ti',\n",
       " 'ik/maven_swea_v11.ti',\n",
       " 'ik/maven_swia_v10.ti',\n",
       " 'lsk/naif0012.tls',\n",
       " 'pck/pck00010.tpc',\n",
       " 'sclk/mvn_sclkscet_00072.tsc',\n",
       " 'spk/de430s.bsp',\n",
       " 'spk/mar097s.bsp',\n",
       " 'spk/maven_orb_rec_170101_170401_v1.bsp',\n",
       " 'spk/maven_struct_v01.bsp']"
      ]
     },
     "execution_count": 75,
     "metadata": {},
     "output_type": "execute_result"
    }
   ],
   "source": [
    "list_kernels_for_day(\"maven\", \"2017-01-01\")"
   ]
  },
  {
   "cell_type": "code",
   "execution_count": 76,
   "id": "fdece451-f66b-432f-95a5-6b5f5c39f38e",
   "metadata": {},
   "outputs": [
    {
     "name": "stderr",
     "output_type": "stream",
     "text": [
      "/home/ayek72/mambaforge/envs/py310/lib/python3.10/site-packages/erfa/core.py:154: ErfaWarning: ERFA function \"dtf2d\" yielded 1 of \"dubious year (Note 6)\"\n",
      "  warnings.warn('ERFA function \"{}\" yielded {}'.format(func_name, wmsg),\n",
      "/home/ayek72/mambaforge/envs/py310/lib/python3.10/site-packages/erfa/core.py:154: ErfaWarning: ERFA function \"utctai\" yielded 1 of \"dubious year (Note 3)\"\n",
      "  warnings.warn('ERFA function \"{}\" yielded {}'.format(func_name, wmsg),\n",
      "/home/ayek72/mambaforge/envs/py310/lib/python3.10/site-packages/erfa/core.py:154: ErfaWarning: ERFA function \"taiutc\" yielded 1 of \"dubious year (Note 4)\"\n",
      "  warnings.warn('ERFA function \"{}\" yielded {}'.format(func_name, wmsg),\n",
      "/home/ayek72/mambaforge/envs/py310/lib/python3.10/site-packages/erfa/core.py:154: ErfaWarning: ERFA function \"d2dtf\" yielded 1 of \"dubious year (Note 5)\"\n",
      "  warnings.warn('ERFA function \"{}\" yielded {}'.format(func_name, wmsg),\n",
      "/home/ayek72/mambaforge/envs/py310/lib/python3.10/site-packages/erfa/core.py:154: ErfaWarning: ERFA function \"dtf2d\" yielded 1 of \"dubious year (Note 6)\"\n",
      "  warnings.warn('ERFA function \"{}\" yielded {}'.format(func_name, wmsg),\n",
      "/home/ayek72/mambaforge/envs/py310/lib/python3.10/site-packages/erfa/core.py:154: ErfaWarning: ERFA function \"dtf2d\" yielded 1 of \"dubious year (Note 6)\"\n",
      "  warnings.warn('ERFA function \"{}\" yielded {}'.format(func_name, wmsg),\n",
      "/home/ayek72/mambaforge/envs/py310/lib/python3.10/site-packages/erfa/core.py:154: ErfaWarning: ERFA function \"utctai\" yielded 1 of \"dubious year (Note 3)\"\n",
      "  warnings.warn('ERFA function \"{}\" yielded {}'.format(func_name, wmsg),\n",
      "/home/ayek72/mambaforge/envs/py310/lib/python3.10/site-packages/erfa/core.py:154: ErfaWarning: ERFA function \"taiutc\" yielded 1 of \"dubious year (Note 4)\"\n",
      "  warnings.warn('ERFA function \"{}\" yielded {}'.format(func_name, wmsg),\n",
      "/home/ayek72/mambaforge/envs/py310/lib/python3.10/site-packages/erfa/core.py:154: ErfaWarning: ERFA function \"d2dtf\" yielded 1 of \"dubious year (Note 5)\"\n",
      "  warnings.warn('ERFA function \"{}\" yielded {}'.format(func_name, wmsg),\n",
      "2023-02-17 17:36:48,339 - distributed.worker - WARNING - Compute Failed\n",
      "Key:       _test_mission_kernels_available-312e7b9aec7dfa745735032dafd2d00f\n",
      "Function:  _test_mission_kernels_available\n",
      "args:      ('dawn')\n",
      "kwargs:    {}\n",
      "Exception: \"BadZipFile('File is not a zip file')\"\n",
      "\n"
     ]
    },
    {
     "name": "stdout",
     "output_type": "stream",
     "text": [
      "Half time: 2008-05-27 00:00:00.000\n",
      "Half time: 2035-12-06 00:00:00.000\n",
      "Half time: 2018-06-10 11:59:59.000\n",
      "Found 6 kernels for em16\n",
      "Found 21 kernels for opportunity\n",
      "Half time: 2007-09-30 12:00:01.000\n",
      "Half time: 2005-04-26 12:00:00.000\n",
      "Found 9 kernels for ds1\n",
      "Half time: 2031-11-04 11:59:59.000\n",
      "Found 32 kernels for cassini\n",
      "Half time: 2012-04-29 00:00:00.500\n",
      "Found 10 kernels for hayabusa\n",
      "Half time: 2013-04-14 00:00:00.000\n",
      "Half time: 2019-08-07 23:59:59.500\n",
      "Found 10 kernels for di\n",
      "Half time: 2010-12-23 00:00:00.500\n",
      "Found 16 kernels for grail\n",
      "Half time: 2016-12-27 23:59:59.500\n",
      "Found 20 kernels for spirit\n",
      "Found 12 kernels for ladee\n",
      "Half time: 1994-03-17 12:00:00.000\n",
      "Half time: 2000-05-21 11:59:59.500\n",
      "Found 19 kernels for clementine\n",
      "Found 7 kernels for epoxi\n",
      "Half time: 2016-01-31 11:59:59.500\n",
      "Half time: 2005-10-15 12:00:00.000\n",
      "Found 3 kernels for insight\n",
      "Found 22 kernels for maven\n"
     ]
    },
    {
     "ename": "BadZipFile",
     "evalue": "File is not a zip file",
     "output_type": "error",
     "traceback": [
      "\u001b[0;31m---------------------------------------------------------------------------\u001b[0m",
      "\u001b[0;31mBadZipFile\u001b[0m                                Traceback (most recent call last)",
      "Cell \u001b[0;32mIn[76], line 21\u001b[0m\n\u001b[1;32m     19\u001b[0m \u001b[38;5;28;01mfor\u001b[39;00m mission \u001b[38;5;129;01min\u001b[39;00m datasets\u001b[38;5;241m.\u001b[39mindex:\n\u001b[1;32m     20\u001b[0m     futures\u001b[38;5;241m.\u001b[39mappend(client\u001b[38;5;241m.\u001b[39msubmit(_test_mission_kernels_available, mission))\n\u001b[0;32m---> 21\u001b[0m [f\u001b[38;5;241m.\u001b[39mresult() \u001b[38;5;28;01mfor\u001b[39;00m f \u001b[38;5;129;01min\u001b[39;00m futures]\n",
      "Cell \u001b[0;32mIn[76], line 21\u001b[0m, in \u001b[0;36m<listcomp>\u001b[0;34m(.0)\u001b[0m\n\u001b[1;32m     19\u001b[0m \u001b[38;5;28;01mfor\u001b[39;00m mission \u001b[38;5;129;01min\u001b[39;00m datasets\u001b[38;5;241m.\u001b[39mindex:\n\u001b[1;32m     20\u001b[0m     futures\u001b[38;5;241m.\u001b[39mappend(client\u001b[38;5;241m.\u001b[39msubmit(_test_mission_kernels_available, mission))\n\u001b[0;32m---> 21\u001b[0m [\u001b[43mf\u001b[49m\u001b[38;5;241;43m.\u001b[39;49m\u001b[43mresult\u001b[49m\u001b[43m(\u001b[49m\u001b[43m)\u001b[49m \u001b[38;5;28;01mfor\u001b[39;00m f \u001b[38;5;129;01min\u001b[39;00m futures]\n",
      "File \u001b[0;32m~/mambaforge/envs/py310/lib/python3.10/site-packages/distributed/client.py:284\u001b[0m, in \u001b[0;36mFuture.result\u001b[0;34m(self, timeout)\u001b[0m\n\u001b[1;32m    282\u001b[0m \u001b[38;5;28;01mif\u001b[39;00m \u001b[38;5;28mself\u001b[39m\u001b[38;5;241m.\u001b[39mstatus \u001b[38;5;241m==\u001b[39m \u001b[38;5;124m\"\u001b[39m\u001b[38;5;124merror\u001b[39m\u001b[38;5;124m\"\u001b[39m:\n\u001b[1;32m    283\u001b[0m     typ, exc, tb \u001b[38;5;241m=\u001b[39m result\n\u001b[0;32m--> 284\u001b[0m     \u001b[38;5;28;01mraise\u001b[39;00m exc\u001b[38;5;241m.\u001b[39mwith_traceback(tb)\n\u001b[1;32m    285\u001b[0m \u001b[38;5;28;01melif\u001b[39;00m \u001b[38;5;28mself\u001b[39m\u001b[38;5;241m.\u001b[39mstatus \u001b[38;5;241m==\u001b[39m \u001b[38;5;124m\"\u001b[39m\u001b[38;5;124mcancelled\u001b[39m\u001b[38;5;124m\"\u001b[39m:\n\u001b[1;32m    286\u001b[0m     \u001b[38;5;28;01mraise\u001b[39;00m result\n",
      "Cell \u001b[0;32mIn[76], line 10\u001b[0m, in \u001b[0;36m_test_mission_kernels_available\u001b[0;34m()\u001b[0m\n\u001b[1;32m      8\u001b[0m \u001b[38;5;28mprint\u001b[39m(\u001b[38;5;124m\"\u001b[39m\u001b[38;5;124mHalf time:\u001b[39m\u001b[38;5;124m\"\u001b[39m, half)\n\u001b[1;32m      9\u001b[0m \u001b[38;5;28;01mtry\u001b[39;00m:\n\u001b[0;32m---> 10\u001b[0m     found \u001b[38;5;241m=\u001b[39m list_kernels_for_day(mission, half)\n\u001b[1;32m     11\u001b[0m \u001b[38;5;28;01mexcept\u001b[39;00m \u001b[38;5;167;01mIndexError\u001b[39;00m:\n\u001b[1;32m     12\u001b[0m     \u001b[38;5;28mprint\u001b[39m(\u001b[38;5;124m\"\u001b[39m\u001b[38;5;124mProblem with\u001b[39m\u001b[38;5;124m\"\u001b[39m, mission)\n",
      "Cell \u001b[0;32mIn[73], line 7\u001b[0m, in \u001b[0;36mlist_kernels_for_day\u001b[0;34m()\u001b[0m\n\u001b[1;32m      2\u001b[0m \u001b[38;5;28;01mdef\u001b[39;00m \u001b[38;5;21mlist_kernels_for_day\u001b[39m(\n\u001b[1;32m      3\u001b[0m     mission: \u001b[38;5;28mstr\u001b[39m,  \u001b[38;5;66;03m# mission shorthand from datasets dataframe\u001b[39;00m\n\u001b[1;32m      4\u001b[0m     start: \u001b[38;5;28mstr\u001b[39m,  \u001b[38;5;66;03m# start time as iso-string, or yyyy-jjj\u001b[39;00m\n\u001b[1;32m      5\u001b[0m     stop: \u001b[38;5;28mstr\u001b[39m \u001b[38;5;241m=\u001b[39m \u001b[38;5;124m\"\u001b[39m\u001b[38;5;124m\"\u001b[39m,  \u001b[38;5;66;03m# stop time as iso-string or yyyy-jjj\u001b[39;00m\n\u001b[1;32m      6\u001b[0m ) \u001b[38;5;241m-\u001b[39m\u001b[38;5;241m>\u001b[39m \u001b[38;5;28mlist\u001b[39m:  \u001b[38;5;66;03m# list of kernel names\u001b[39;00m\n\u001b[0;32m----> 7\u001b[0m     subset \u001b[38;5;241m=\u001b[39m Subsetter(mission, start, stop)\n\u001b[1;32m      8\u001b[0m     \u001b[38;5;28;01mreturn\u001b[39;00m subset\u001b[38;5;241m.\u001b[39mkernel_names\n",
      "Cell \u001b[0;32mIn[47], line 25\u001b[0m, in \u001b[0;36m__init__\u001b[0;34m()\u001b[0m\n\u001b[1;32m     17\u001b[0m \u001b[38;5;28;01mdef\u001b[39;00m \u001b[38;5;21m__init__\u001b[39m(\n\u001b[1;32m     18\u001b[0m     \u001b[38;5;28mself\u001b[39m,\n\u001b[1;32m     19\u001b[0m     mission: \u001b[38;5;28mstr\u001b[39m,  \u001b[38;5;66;03m# mission shorthand in datasets dataframe\u001b[39;00m\n\u001b[0;32m   (...)\u001b[0m\n\u001b[1;32m     22\u001b[0m     save_location\u001b[38;5;241m=\u001b[39m\u001b[38;5;28;01mNone\u001b[39;00m,  \u001b[38;5;66;03m# overwrite default storing in planetarpy archive\u001b[39;00m\n\u001b[1;32m     23\u001b[0m ):\n\u001b[1;32m     24\u001b[0m     store_attr()\n\u001b[0;32m---> 25\u001b[0m     \u001b[38;5;28mself\u001b[39m\u001b[38;5;241m.\u001b[39minitialize()\n",
      "Cell \u001b[0;32mIn[47], line 30\u001b[0m, in \u001b[0;36minitialize\u001b[0;34m()\u001b[0m\n\u001b[1;32m     28\u001b[0m r \u001b[38;5;241m=\u001b[39m \u001b[38;5;28mself\u001b[39m\u001b[38;5;241m.\u001b[39mr\n\u001b[1;32m     29\u001b[0m \u001b[38;5;28;01mif\u001b[39;00m r\u001b[38;5;241m.\u001b[39mok:\n\u001b[0;32m---> 30\u001b[0m     z \u001b[38;5;241m=\u001b[39m zipfile\u001b[38;5;241m.\u001b[39mZipFile(BytesIO(r\u001b[38;5;241m.\u001b[39mcontent))\n\u001b[1;32m     31\u001b[0m \u001b[38;5;28;01melse\u001b[39;00m:\n\u001b[1;32m     32\u001b[0m     \u001b[38;5;28;01mraise\u001b[39;00m \u001b[38;5;167;01mIOError\u001b[39;00m(\u001b[38;5;124m\"\u001b[39m\u001b[38;5;124mSPICE Server request returned status code: \u001b[39m\u001b[38;5;132;01m{r.status_code}\u001b[39;00m\u001b[38;5;124m\"\u001b[39m)\n",
      "File \u001b[0;32m~/mambaforge/envs/py310/lib/python3.10/zipfile.py:1267\u001b[0m, in \u001b[0;36m__init__\u001b[0;34m()\u001b[0m\n\u001b[1;32m   1265\u001b[0m \u001b[38;5;28;01mtry\u001b[39;00m:\n\u001b[1;32m   1266\u001b[0m     \u001b[38;5;28;01mif\u001b[39;00m mode \u001b[38;5;241m==\u001b[39m \u001b[38;5;124m'\u001b[39m\u001b[38;5;124mr\u001b[39m\u001b[38;5;124m'\u001b[39m:\n\u001b[0;32m-> 1267\u001b[0m         \u001b[38;5;28mself\u001b[39m\u001b[38;5;241m.\u001b[39m_RealGetContents()\n\u001b[1;32m   1268\u001b[0m     \u001b[38;5;28;01melif\u001b[39;00m mode \u001b[38;5;129;01min\u001b[39;00m (\u001b[38;5;124m'\u001b[39m\u001b[38;5;124mw\u001b[39m\u001b[38;5;124m'\u001b[39m, \u001b[38;5;124m'\u001b[39m\u001b[38;5;124mx\u001b[39m\u001b[38;5;124m'\u001b[39m):\n\u001b[1;32m   1269\u001b[0m         \u001b[38;5;66;03m# set the modified flag so central directory gets written\u001b[39;00m\n\u001b[1;32m   1270\u001b[0m         \u001b[38;5;66;03m# even if no files are added to the archive\u001b[39;00m\n\u001b[1;32m   1271\u001b[0m         \u001b[38;5;28mself\u001b[39m\u001b[38;5;241m.\u001b[39m_didModify \u001b[38;5;241m=\u001b[39m \u001b[38;5;28;01mTrue\u001b[39;00m\n",
      "File \u001b[0;32m~/mambaforge/envs/py310/lib/python3.10/zipfile.py:1334\u001b[0m, in \u001b[0;36m_RealGetContents\u001b[0;34m()\u001b[0m\n\u001b[1;32m   1332\u001b[0m     \u001b[38;5;28;01mraise\u001b[39;00m BadZipFile(\u001b[38;5;124m\"\u001b[39m\u001b[38;5;124mFile is not a zip file\u001b[39m\u001b[38;5;124m\"\u001b[39m)\n\u001b[1;32m   1333\u001b[0m \u001b[38;5;28;01mif\u001b[39;00m \u001b[38;5;129;01mnot\u001b[39;00m endrec:\n\u001b[0;32m-> 1334\u001b[0m     \u001b[38;5;28;01mraise\u001b[39;00m BadZipFile(\u001b[38;5;124m\"\u001b[39m\u001b[38;5;124mFile is not a zip file\u001b[39m\u001b[38;5;124m\"\u001b[39m)\n\u001b[1;32m   1335\u001b[0m \u001b[38;5;28;01mif\u001b[39;00m \u001b[38;5;28mself\u001b[39m\u001b[38;5;241m.\u001b[39mdebug \u001b[38;5;241m>\u001b[39m \u001b[38;5;241m1\u001b[39m:\n\u001b[1;32m   1336\u001b[0m     \u001b[38;5;28mprint\u001b[39m(endrec)\n",
      "\u001b[0;31mBadZipFile\u001b[0m: File is not a zip file"
     ]
    }
   ],
   "source": [
    "# |filter_stream ErfaWarning\n",
    "\n",
    "\n",
    "def _test_mission_kernels_available(mission):\n",
    "    start = datasets.at[mission, \"Start Time\"]\n",
    "    end = datasets.at[mission, \"Stop Time\"]\n",
    "    half = Time(start) + (Time(end) - Time(start)) / 2\n",
    "    print(\"Half time:\", half)\n",
    "    try:\n",
    "        found = list_kernels_for_day(mission, half)\n",
    "    except IndexError:\n",
    "        print(\"Problem with\", mission)\n",
    "    else:\n",
    "        print(f\"Found {len(found)} kernels for {mission}\")\n",
    "\n",
    "\n",
    "futures = []\n",
    "with Client() as client:\n",
    "    for mission in datasets.index:\n",
    "        futures.append(client.submit(_test_mission_kernels_available, mission))\n",
    "    [f.result() for f in futures]"
   ]
  },
  {
   "cell_type": "markdown",
   "id": "b12201c1-687c-422f-9717-4f528e667f78",
   "metadata": {},
   "source": [
    "> NOTE: Any ErfaWarnings above are caused by the LADEE mission using a kernel up to 2050, and the astropy.Time module warns about potential precicision issues regarding unknown leapseconds that will be put in in the future."
   ]
  },
  {
   "cell_type": "markdown",
   "id": "80e79890-df55-487a-91c8-8962f0c3f806",
   "metadata": {},
   "source": [
    "### Generic kernel management\n",
    "\n",
    "There are a few generic kernels that are required for basic illumination calculations as supported by this package."
   ]
  },
  {
   "cell_type": "code",
   "execution_count": 85,
   "id": "07dd1f01-ed54-49c7-ad00-41a7b0812cb0",
   "metadata": {},
   "outputs": [],
   "source": [
    "#| export\n",
    "\n",
    "GENERIC_URL = NAIF_URL / \"pub/naif/generic_kernels/\"\n",
    "\n",
    "generic_kernel_names = [\n",
    "    \"lsk/naif0012.tls\",\n",
    "    \"pck/pck00010.tpc\",\n",
    "    \"pck/de-403-masses.tpc\",\n",
    "    \"spk/planets/de430.bsp\",\n",
    "    \"spk/satellites/mar097.bsp\",\n",
    "]\n",
    "generic_kernel_paths = [GENERIC_STORAGE.joinpath(i) for i in generic_kernel_names]"
   ]
  },
  {
   "cell_type": "code",
   "execution_count": 86,
   "id": "e2059893-d551-41b9-9d82-236e048063be",
   "metadata": {},
   "outputs": [],
   "source": [
    "#| export\n",
    "GENERIC_STORAGE = KERNEL_STORAGE / \"generic\"\n",
    "GENERIC_STORAGE.mkdir(exist_ok=True, parents=True)\n",
    "generic_kernel_paths = [\n",
    "    GENERIC_STORAGE.joinpath(i) for i in generic_kernel_names\n",
    "]"
   ]
  },
  {
   "cell_type": "code",
   "execution_count": 87,
   "id": "5b5deb59-19df-40ef-8b0d-b33264a906ca",
   "metadata": {},
   "outputs": [],
   "source": [
    "#| export\n",
    "\n",
    "\n",
    "def download_generic_kernels(overwrite=False):\n",
    "    \"Download all kernels as required by generic_kernel_list.\"\n",
    "    dl_urls = [GENERIC_URL / i for i in generic_kernel_names]\n",
    "    for dl_url, savepath in zip(dl_urls, generic_kernel_paths):\n",
    "        if savepath.exists() and not overwrite:\n",
    "            print(\n",
    "                savepath.name,\n",
    "                \"already downloaded. Use `overwrite=True` to download again.\")\n",
    "            continue\n",
    "        savepath.parent.mkdir(exist_ok=True, parents=True)\n",
    "        url_retrieve(dl_url, savepath)"
   ]
  },
  {
   "cell_type": "code",
   "execution_count": 88,
   "id": "ebe088f9-33e3-4d43-bc24-a82846974d9b",
   "metadata": {},
   "outputs": [
    {
     "name": "stdout",
     "output_type": "stream",
     "text": [
      "naif0012.tls already downloaded. Use `overwrite=True` to download again.\n",
      "pck00010.tpc already downloaded. Use `overwrite=True` to download again.\n",
      "de-403-masses.tpc already downloaded. Use `overwrite=True` to download again.\n",
      "de430.bsp already downloaded. Use `overwrite=True` to download again.\n",
      "mar097.bsp already downloaded. Use `overwrite=True` to download again.\n"
     ]
    }
   ],
   "source": [
    "download_generic_kernels()"
   ]
  },
  {
   "cell_type": "code",
   "execution_count": 111,
   "id": "842e71fd-f8e0-40a7-9c6f-49f8acbcefd2",
   "metadata": {},
   "outputs": [],
   "source": [
    "#| export\n",
    "\n",
    "\n",
    "def load_generic_kernels():\n",
    "    \"\"\"Load all kernels in generic_kernels list.\n",
    "\n",
    "    Loads pure planetary bodies meta-kernel without spacecraft data.\n",
    "\n",
    "    Downloads any missing generic kernels.\n",
    "    \"\"\"\n",
    "    if any([not p.exists() for p in generic_kernel_paths]):\n",
    "        download_generic_kernels()\n",
    "    for kernel in generic_kernel_paths:\n",
    "        spice.furnsh(str(kernel))"
   ]
  },
  {
   "cell_type": "code",
   "execution_count": 115,
   "id": "02dbe7d7-46ec-4106-b8ff-ea9a907d9d24",
   "metadata": {},
   "outputs": [],
   "source": [
    "spice.kclear()"
   ]
  },
  {
   "cell_type": "code",
   "execution_count": 116,
   "id": "40f0171d-30ff-4ec9-b889-264825db654a",
   "metadata": {},
   "outputs": [],
   "source": [
    "load_generic_kernels()"
   ]
  },
  {
   "cell_type": "code",
   "execution_count": 117,
   "id": "04a1a163-a5b6-4b96-b942-9d44acdb9dfe",
   "metadata": {},
   "outputs": [],
   "source": [
    "#| export\n",
    "\n",
    "def show_loaded_kernels():\n",
    "    \"Print overview of loaded kernels.\"\n",
    "    count = spice.ktotal(\"all\")\n",
    "    if count == 0:\n",
    "        print(\"No kernels loaded at this time.\")\n",
    "    else:\n",
    "        print(\"The loaded files are:\\n(paths relative to kernels.KERNEL_STORAGE)\\n\")\n",
    "    for which in range(count):\n",
    "        out = spice.kdata(which, \"all\", 100, 100, 100)\n",
    "        print(\"Position:\", which)\n",
    "        p = Path(out[0])\n",
    "        print(\"Path\", p.relative_to(KERNEL_STORAGE))\n",
    "        print(\"Type:\", out[1])\n",
    "        print(\"Source:\", out[2])\n",
    "        print(\"Handle:\", out[3])\n",
    "        # print(\"Found:\", out[4])"
   ]
  },
  {
   "cell_type": "code",
   "execution_count": 118,
   "id": "5eeb3c4c-cf5f-467d-9b2e-0e0abc4476dd",
   "metadata": {},
   "outputs": [
    {
     "name": "stdout",
     "output_type": "stream",
     "text": [
      "The loaded files are:\n",
      "(paths relative to kernels.KERNEL_STORAGE)\n",
      "\n",
      "Position: 0\n",
      "Path generic/lsk/naif0012.tls\n",
      "Type: TEXT\n",
      "Source: \n",
      "Handle: 0\n",
      "Position: 1\n",
      "Path generic/pck/pck00010.tpc\n",
      "Type: TEXT\n",
      "Source: \n",
      "Handle: 0\n",
      "Position: 2\n",
      "Path generic/pck/de-403-masses.tpc\n",
      "Type: TEXT\n",
      "Source: \n",
      "Handle: 0\n",
      "Position: 3\n",
      "Path generic/spk/planets/de430.bsp\n",
      "Type: SPK\n",
      "Source: \n",
      "Handle: 13\n",
      "Position: 4\n",
      "Path generic/spk/satellites/mar097.bsp\n",
      "Type: SPK\n",
      "Source: \n",
      "Handle: 14\n"
     ]
    }
   ],
   "source": [
    "show_loaded_kernels()"
   ]
  },
  {
   "cell_type": "code",
   "execution_count": null,
   "id": "e8b6bfbd-7bc6-4b0b-90ae-666f49b7f44b",
   "metadata": {},
   "outputs": [],
   "source": []
  }
 ],
 "metadata": {
  "kernelspec": {
   "display_name": "Python [conda env:py310] *",
   "language": "python",
   "name": "conda-env-py310-py"
  },
  "language_info": {
   "codemirror_mode": {
    "name": "ipython",
    "version": 3
   },
   "file_extension": ".py",
   "mimetype": "text/x-python",
   "name": "python",
   "nbconvert_exporter": "python",
   "pygments_lexer": "ipython3",
   "version": "3.10.9"
  }
 },
 "nbformat": 4,
 "nbformat_minor": 5
}
