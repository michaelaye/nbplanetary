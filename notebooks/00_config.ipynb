{
 "cells": [
  {
   "cell_type": "code",
   "execution_count": null,
   "metadata": {},
   "outputs": [],
   "source": [
    "# default_exp config"
   ]
  },
  {
   "cell_type": "markdown",
   "metadata": {},
   "source": [
    "# Config\n",
    "\n",
    "> This module manages configuration of the `planetarypy` package."
   ]
  },
  {
   "cell_type": "code",
   "execution_count": null,
   "metadata": {},
   "outputs": [],
   "source": [
    "# hide\n",
    "from nbdev.showdoc import show_doc"
   ]
  },
  {
   "cell_type": "code",
   "execution_count": null,
   "metadata": {},
   "outputs": [],
   "source": [
    "# export\n",
    "import os\n",
    "import shutil\n",
    "from functools import reduce\n",
    "from importlib.resources import path as resource_path\n",
    "from pathlib import Path\n",
    "\n",
    "import strictyaml as yaml"
   ]
  },
  {
   "cell_type": "code",
   "execution_count": null,
   "metadata": {},
   "outputs": [],
   "source": [
    "# export\n",
    "class Config:\n",
    "    \"\"\"Manage config stuff.\n",
    "\n",
    "    Attributes\n",
    "    -------\n",
    "    path: pathlib.Path\n",
    "\n",
    "    The key, value pairs found in the config file become attributes of the\n",
    "    class instance after initialization.\n",
    "    At minimum, there should be the `archive_path` attribute for storing data\n",
    "    for this package.\n",
    "    \"\"\"\n",
    "\n",
    "    # This enables a config path location override using env PYCISS_CONFIG\n",
    "    fname = \"planetarypy_config.yaml\"\n",
    "    path = Path(os.getenv(\"PLANETARYPY_CONFIG\", Path.home() / f\".{fname}\"))\n",
    "\n",
    "    def __init__(self, other_config=None):\n",
    "        \"Switch to other config file location with `other_config`.\"\n",
    "        if other_config is not None:\n",
    "            self.path = Path(other_config)\n",
    "        if not self.path.exists():\n",
    "            with resource_path(\"planetarypy.data\", self.fname) as p:\n",
    "                shutil.copy(p, self.path)\n",
    "        self.read_config()\n",
    "\n",
    "    def read_config(self):\n",
    "        \"\"\"Read the configfile and store config dict.\n",
    "\n",
    "        If found, load config via `yaml` and store YAML dict as `d`.\n",
    "        `storage_root` will be stored as attribute.\n",
    "        \"\"\"\n",
    "        self.d = yaml.load(self.path.read_text())\n",
    "        if not self.d[\"storage_root\"].data:\n",
    "            self.ask_storage_root()\n",
    "        else:\n",
    "            self.storage_root = Path(self.d[\"storage_root\"].data)\n",
    "\n",
    "    def get_value(self, key):\n",
    "        \"\"\"Get sub-dictionary by nested key.\n",
    "\n",
    "        Parameters\n",
    "        ----------\n",
    "        nested_key: str\n",
    "            A nested key in dotted format, e.g. cassini.uvis.indexes\n",
    "        \"\"\"\n",
    "        return reduce(lambda c, k: c[k], key.split(\".\"), self.d)\n",
    "\n",
    "    def set_value(self, nested_key, value):\n",
    "        \"\"\"Set sub-dic using dotted key.\n",
    "\n",
    "        Parameters\n",
    "        ----------\n",
    "        key: str\n",
    "            A nested key in dotted format, e.g. cassini.uvis.ring_summary\n",
    "        value: convertable to string\n",
    "            Value for the given key to be stored.\n",
    "        \"\"\"\n",
    "        dic = self.d\n",
    "        keys = nested_key.split(\".\")\n",
    "        for key in keys[:-1]:\n",
    "            dic = dic[key]\n",
    "        dic[keys[-1]] = value\n",
    "        self.save()\n",
    "\n",
    "    def save(self):\n",
    "        \"Write the YAML dict to file.\"\n",
    "        with self.path.open(\"w\") as f:\n",
    "            f.write(self.d.as_yaml())\n",
    "\n",
    "    def ask_storage_root(self):\n",
    "        \"\"\"Use input() to ask user for the storage_root path.\n",
    "\n",
    "        The path will be stored in the YAML-dict and saved into existing config file\n",
    "        at `Class.path`, either default or as given during init.\n",
    "        `storage_root` attribute is set as well.\n",
    "        \"\"\"\n",
    "        path = input(\n",
    "            \"Provide the root storage path where all downloaded and produced data will be stored:\"\n",
    "        )\n",
    "        self.d[\"storage_root\"] = path\n",
    "        self.storage_root = Path(path)\n",
    "        self.save()"
   ]
  },
  {
   "cell_type": "markdown",
   "metadata": {},
   "source": [
    "## The Config() object\n",
    "\n",
    "The `config` module instantiates a `config` object from the Config class.\n",
    "Its attributes can be used to access several aspects relevant to the configuration of `planetarypy`.\n",
    "Using an object approach enables easy growth and nesting over time.\n",
    "\n",
    "> Note: Any cell that starts with an `# export` becomes part of the library.\n",
    "  Any other cells become automatically part of tests.\n",
    "  `exports` also adds the exported code to the docs.\n",
    "  \n",
    "> Note: A good \"First issue\" for collaborators would be to improve the Config class to be able to merge a new larger index catalog with an existing one the user might have configured. This will need to take care of existing timestamps and possible other indexes that were put in by the user."
   ]
  },
  {
   "cell_type": "code",
   "execution_count": null,
   "metadata": {},
   "outputs": [],
   "source": [
    "config = Config(other_config='test_config.yaml')"
   ]
  },
  {
   "cell_type": "code",
   "execution_count": null,
   "metadata": {},
   "outputs": [
    {
     "data": {
      "text/plain": [
       "Path('/home/maye/big_data/planetary_data')"
      ]
     },
     "execution_count": null,
     "metadata": {},
     "output_type": "execute_result"
    }
   ],
   "source": [
    "config.storage_root"
   ]
  },
  {
   "cell_type": "code",
   "execution_count": null,
   "metadata": {},
   "outputs": [
    {
     "data": {
      "text/markdown": [
       "<h4 id=\"Config.read_config\" class=\"doc_header\"><code>Config.read_config</code><a href=\"__main__.py#L28\" class=\"source_link\" style=\"float:right\">[source]</a></h4>\n",
       "\n",
       "> <code>Config.read_config</code>()\n",
       "\n",
       "```\n",
       "Read the configfile and store config dict.\n",
       "\n",
       "If found, load config via `yaml` and store YAML dict as `d`.\n",
       "`storage_root` will be stored as attribute.\n",
       "```"
      ],
      "text/plain": [
       "<IPython.core.display.Markdown object>"
      ]
     },
     "metadata": {},
     "output_type": "display_data"
    }
   ],
   "source": [
    "show_doc(Config.read_config)"
   ]
  },
  {
   "cell_type": "code",
   "execution_count": null,
   "metadata": {},
   "outputs": [],
   "source": [
    "assert isinstance(config.d, yaml.YAML)"
   ]
  },
  {
   "cell_type": "code",
   "execution_count": null,
   "metadata": {},
   "outputs": [],
   "source": [
    "assert isinstance(config.d.data, dict)"
   ]
  },
  {
   "cell_type": "code",
   "execution_count": null,
   "metadata": {},
   "outputs": [
    {
     "data": {
      "text/markdown": [
       "<h4 id=\"Config.get_config_value\" class=\"doc_header\"><code>Config.get_config_value</code><a href=\"__main__.py#L40\" class=\"source_link\" style=\"float:right\">[source]</a></h4>\n",
       "\n",
       "> <code>Config.get_config_value</code>(**`key`**)\n",
       "\n",
       "```\n",
       "Get sub-dictionary by nested key.\n",
       "\n",
       "Parameters\n",
       "----------\n",
       "nested_key: str\n",
       "    A nested key in dotted format, e.g. cassini.uvis.indexes\n",
       "```"
      ],
      "text/plain": [
       "<IPython.core.display.Markdown object>"
      ]
     },
     "metadata": {},
     "output_type": "display_data"
    }
   ],
   "source": [
    "show_doc(Config.get_config_value)"
   ]
  },
  {
   "cell_type": "code",
   "execution_count": null,
   "metadata": {},
   "outputs": [],
   "source": [
    "index = 'cassini.iss.indexes.moon_summary'"
   ]
  },
  {
   "cell_type": "code",
   "execution_count": null,
   "metadata": {},
   "outputs": [
    {
     "data": {
      "text/plain": [
       "YAML({'url': 'https://pds-rings.seti.org/holdings/metadata/COISS_2xxx/COISS_2999/COISS_2999_moon_summary.lbl', 'timestamp': '2021-06-11T19:21:04.233582'})"
      ]
     },
     "execution_count": null,
     "metadata": {},
     "output_type": "execute_result"
    }
   ],
   "source": [
    "config.get_config_value(index)"
   ]
  },
  {
   "cell_type": "code",
   "execution_count": null,
   "metadata": {},
   "outputs": [
    {
     "data": {
      "text/markdown": [
       "<h4 id=\"Config.set_config_value\" class=\"doc_header\"><code>Config.set_config_value</code><a href=\"__main__.py#L50\" class=\"source_link\" style=\"float:right\">[source]</a></h4>\n",
       "\n",
       "> <code>Config.set_config_value</code>(**`nested_key`**, **`value`**)\n",
       "\n",
       "```\n",
       "Set sub-dic using dotted key.\n",
       "\n",
       "Parameters\n",
       "----------\n",
       "key: str\n",
       "    A nested key in dotted format, e.g. cassini.uvis.ring_summary\n",
       "value: convertable to string\n",
       "    Value for the given key to be stored.\n",
       "```"
      ],
      "text/plain": [
       "<IPython.core.display.Markdown object>"
      ]
     },
     "metadata": {},
     "output_type": "display_data"
    }
   ],
   "source": [
    "show_doc(Config.set_config_value)"
   ]
  },
  {
   "cell_type": "code",
   "execution_count": null,
   "metadata": {},
   "outputs": [
    {
     "data": {
      "text/plain": [
       "'2021-06-11T19:24:38.164122'"
      ]
     },
     "execution_count": null,
     "metadata": {},
     "output_type": "execute_result"
    }
   ],
   "source": [
    "from datetime import datetime as dt\n",
    "now = dt.now().isoformat()\n",
    "now"
   ]
  },
  {
   "cell_type": "code",
   "execution_count": null,
   "metadata": {},
   "outputs": [],
   "source": [
    "config.set_config_value('cassini.iss.indexes.moon_summary.timestamp', now)"
   ]
  },
  {
   "cell_type": "code",
   "execution_count": null,
   "metadata": {},
   "outputs": [
    {
     "data": {
      "text/markdown": [
       "<h4 id=\"Config.save\" class=\"doc_header\"><code>Config.save</code><a href=\"__main__.py#L67\" class=\"source_link\" style=\"float:right\">[source]</a></h4>\n",
       "\n",
       "> <code>Config.save</code>()\n",
       "\n",
       "```\n",
       "Write the YAML dict to file.\n",
       "```"
      ],
      "text/plain": [
       "<IPython.core.display.Markdown object>"
      ]
     },
     "metadata": {},
     "output_type": "display_data"
    }
   ],
   "source": [
    "show_doc(Config.save)"
   ]
  },
  {
   "cell_type": "code",
   "execution_count": null,
   "metadata": {},
   "outputs": [
    {
     "data": {
      "text/plain": [
       "YAML({'url': 'https://pds-rings.seti.org/holdings/metadata/COISS_2xxx/COISS_2999/COISS_2999_moon_summary.lbl', 'timestamp': '2021-06-11T19:24:38.164122'})"
      ]
     },
     "execution_count": null,
     "metadata": {},
     "output_type": "execute_result"
    }
   ],
   "source": [
    "config.get_config_value(index)"
   ]
  },
  {
   "cell_type": "code",
   "execution_count": null,
   "metadata": {},
   "outputs": [
    {
     "data": {
      "text/markdown": [
       "<h4 id=\"Config.ask_storage_root\" class=\"doc_header\"><code>Config.ask_storage_root</code><a href=\"__main__.py#L72\" class=\"source_link\" style=\"float:right\">[source]</a></h4>\n",
       "\n",
       "> <code>Config.ask_storage_root</code>()\n",
       "\n",
       "```\n",
       "Use input() to ask user for the storage_root path.\n",
       "\n",
       "The path will be stored in the YAML-dict and saved into existing config file\n",
       "at `Class.path`, either default or as given during init.\n",
       "`storage_root` attribute is set as well.\n",
       "```"
      ],
      "text/plain": [
       "<IPython.core.display.Markdown object>"
      ]
     },
     "metadata": {},
     "output_type": "display_data"
    }
   ],
   "source": [
    "show_doc(Config.ask_storage_root)"
   ]
  },
  {
   "cell_type": "code",
   "execution_count": null,
   "metadata": {},
   "outputs": [],
   "source": []
  }
 ],
 "metadata": {
  "kernelspec": {
   "display_name": "Python [conda env:py38] *",
   "language": "python",
   "name": "conda-env-py38-py"
  }
 },
 "nbformat": 4,
 "nbformat_minor": 4
}
