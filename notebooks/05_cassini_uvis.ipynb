{
 "cells": [
  {
   "cell_type": "code",
   "execution_count": null,
   "id": "2529bbfd-1138-4a5b-a015-11bd4d098fc9",
   "metadata": {},
   "outputs": [],
   "source": [
    "# default_exp uvis\n",
    "# default_cls_lvl 3"
   ]
  },
  {
   "cell_type": "markdown",
   "id": "b2859db1-16b8-41a8-a2b9-bd5c35b17140",
   "metadata": {},
   "source": [
    "# UVIS\n",
    "> Data management for Cassini UVIS."
   ]
  },
  {
   "cell_type": "code",
   "execution_count": null,
   "id": "c7bc8f5c-6027-4930-8507-c326db04a217",
   "metadata": {},
   "outputs": [],
   "source": [
    "#hide\n",
    "from nbverbose.showdoc import show_doc  # noqa"
   ]
  },
  {
   "cell_type": "code",
   "execution_count": null,
   "id": "86b61451-d6b0-46b7-b39b-aab215c8a2fd",
   "metadata": {},
   "outputs": [],
   "source": [
    "# export\n",
    "import tomlkit\n",
    "from yarl import URL\n",
    "\n",
    "from planetarypy.config import config\n",
    "from planetarypy.pds.opusapi import OPUS\n",
    "from planetarypy.utils import url_retrieve"
   ]
  },
  {
   "cell_type": "code",
   "execution_count": null,
   "id": "e751db46-a622-4904-a217-28f399f69446",
   "metadata": {},
   "outputs": [
    {
     "data": {
      "text/plain": [
       "Path('/home/maye/big_drive/planetary_data/missions/cassini/uvis')"
      ]
     },
     "execution_count": null,
     "metadata": {},
     "output_type": "execute_result"
    }
   ],
   "source": [
    "# export\n",
    "storage_root = config.storage_root / \"missions/cassini/uvis\"\n",
    "storage_root"
   ]
  },
  {
   "cell_type": "code",
   "execution_count": null,
   "id": "e2f6197f-9876-4b26-ae1b-6df78519f6bc",
   "metadata": {},
   "outputs": [
    {
     "data": {
      "text/plain": [
       "Path('/home/maye/big_drive/planetary_data/missions/cassini/uvis/uvis_user_guide.pdf')"
      ]
     },
     "execution_count": null,
     "metadata": {},
     "output_type": "execute_result"
    }
   ],
   "source": [
    "get_user_guide()"
   ]
  },
  {
   "cell_type": "code",
   "execution_count": null,
   "id": "571a3213-7690-476b-9cf5-84f5faefe827",
   "metadata": {},
   "outputs": [],
   "source": [
    "# export\n",
    "class DataManager:\n",
    "    def __init__(\n",
    "        self, \n",
    "        pid: str,  # Product ID. If longer than PDS_ID, will be cut in attribute `pds_id` \n",
    "    ):\n",
    "        self.pid = pid\n",
    "        self.dict = None\n",
    "        if not self.raw_data_path.exists():\n",
    "            self.download()\n",
    "\n",
    "    def query(self, pds_id=None):\n",
    "        pds_id = pds_id if pds_id is not None else self.pds_id\n",
    "        opus = OPUS(silent=True)\n",
    "        try:\n",
    "            self.query_result = opus.query_image_id(pds_id)[0]\n",
    "        except IndexError:\n",
    "            raise FileNotFoundError(\"Project ID not found on PDS server.\")\n",
    "        self.opus_id = self.query_result[0]\n",
    "        self.dict = self.query_result[1]\n",
    "\n",
    "    @property\n",
    "    def pds_id(self):\n",
    "        return self.pid[:17]\n",
    "\n",
    "    @property\n",
    "    def folder(self):\n",
    "        #         return storage_root / \"/\".join(self.raw_data_url.parts[4:7])\n",
    "        return storage_root / self.pds_id\n",
    "\n",
    "    @property\n",
    "    def raw_data_url(self):\n",
    "        if not self.dict:\n",
    "            self.query()\n",
    "        return URL(self.dict[\"couvis_raw\"][0])\n",
    "\n",
    "    @property\n",
    "    def raw_label_url(self):\n",
    "        if not self.dict:\n",
    "            self.query()\n",
    "        return URL(self.dict[\"couvis_raw\"][1])\n",
    "\n",
    "    @property\n",
    "    def raw_data_path(self):\n",
    "        return self.folder / (self.pds_id + \".DAT\")\n",
    "\n",
    "    @property\n",
    "    def raw_label_path(self):\n",
    "        return self.raw_data_path.with_suffix(\".LBL\")\n",
    "\n",
    "    @property\n",
    "    def calib_corr_path(self):\n",
    "        return self.raw_data_path.with_name(self.raw_data_path.stem + \"_CAL_3.DAT\")\n",
    "\n",
    "    @property\n",
    "    def calib_label_path(self):\n",
    "        return self.calib_corr_path.with_suffix(\".LBL\")\n",
    "\n",
    "    @property\n",
    "    def original_pid_file(self):\n",
    "        return self.folder / \"original_pid.txt\"\n",
    "\n",
    "    @property\n",
    "    def results_file(self):\n",
    "        return self.folder / \"urls.toml\"\n",
    "\n",
    "    def download(self, overwrite=False):\n",
    "        if self.raw_data_path.exists() and not overwrite:\n",
    "            print(\"Local files exists. Use `overwrite=True` to download fresh.\")\n",
    "            return\n",
    "        self.query()\n",
    "        self.original_pid_file.mk_write(self.pid)\n",
    "        self.results_file.mk_write(tomlkit.dumps(self.dict))\n",
    "        self.raw_data_path.parent.mkdir(parents=True, exist_ok=True)\n",
    "        for key in [\"couvis_raw\", \"couvis_calib_corr\"]:\n",
    "            for url in self.dict[key]:\n",
    "                url_retrieve(url, self.folder / URL(url).name)\n",
    "\n",
    "    def __repr__(self):\n",
    "        s = f\"Product ID:\\n{self.id}\\n\\n\"\n",
    "        for k, v in self.query_result[1].items():\n",
    "            s += f\"Key: {k},\\nValue(s):\\n{v}\\n\\n\"\n",
    "        return s"
   ]
  },
  {
   "cell_type": "code",
   "execution_count": null,
   "id": "4ce981f2-2d58-446f-8b8d-69d4c9e79595",
   "metadata": {},
   "outputs": [],
   "source": [
    "pid = \"EUV2002_198_03_26_54_UVIS_C33ST_SPICARAST002_PRIME\""
   ]
  },
  {
   "cell_type": "code",
   "execution_count": null,
   "id": "506928b7-a8f3-4038-bea3-49fc7e495422",
   "metadata": {},
   "outputs": [],
   "source": [
    "dm = DataManager(pid)"
   ]
  },
  {
   "cell_type": "code",
   "execution_count": null,
   "id": "9b4c8341-9809-4816-b2ac-e79aca53bdc5",
   "metadata": {},
   "outputs": [
    {
     "data": {
      "text/plain": [
       "URL('https://opus.pds-rings.seti.org/holdings/volumes/COUVIS_0xxx/COUVIS_0004/DATA/D2002_198/EUV2002_198_03_26.LBL')"
      ]
     },
     "execution_count": null,
     "metadata": {},
     "output_type": "execute_result"
    }
   ],
   "source": [
    "dm.raw_label_url"
   ]
  },
  {
   "cell_type": "code",
   "execution_count": null,
   "id": "844f252f-af0e-415e-a402-1c2797bb9f84",
   "metadata": {},
   "outputs": [],
   "source": [
    "assert dm.pid == pid"
   ]
  },
  {
   "cell_type": "markdown",
   "id": "45d11d2f-c037-4230-8fd3-24eb9f37e004",
   "metadata": {},
   "source": [
    "PDS data is only stored under the first 17 characters of any UVIS-internal product id."
   ]
  },
  {
   "cell_type": "code",
   "execution_count": null,
   "id": "300d9b27-9663-4fe4-81eb-9db1cd6a758d",
   "metadata": {},
   "outputs": [],
   "source": [
    "assert dm.pds_id == pid[:17]"
   ]
  },
  {
   "cell_type": "markdown",
   "id": "a1d67418-5adc-43e8-b28c-8e685da51f2f",
   "metadata": {},
   "source": [
    "The originally used product ID `pid` will be stored under `original_pid.txt` in the data folder:"
   ]
  },
  {
   "cell_type": "code",
   "execution_count": null,
   "id": "1b88b0de-c92f-465e-ba9a-2e657e1d4128",
   "metadata": {},
   "outputs": [
    {
     "data": {
      "text/plain": [
       "Path('/home/maye/big_drive/planetary_data/missions/cassini/uvis/EUV2002_198_03_26/original_pid.txt')"
      ]
     },
     "execution_count": null,
     "metadata": {},
     "output_type": "execute_result"
    }
   ],
   "source": [
    "dm.original_pid_file"
   ]
  },
  {
   "cell_type": "markdown",
   "id": "6446b874-e9cb-4f5a-988e-5e91a8ae9bd8",
   "metadata": {},
   "source": [
    "Also the OPUS result file will be stored as a TOML file:"
   ]
  },
  {
   "cell_type": "code",
   "execution_count": null,
   "id": "cd09e899-e16f-45c9-8f0d-e575d0bb3a41",
   "metadata": {},
   "outputs": [
    {
     "data": {
      "text/plain": [
       "Path('/home/maye/big_drive/planetary_data/missions/cassini/uvis/EUV2002_198_03_26/urls.toml')"
      ]
     },
     "execution_count": null,
     "metadata": {},
     "output_type": "execute_result"
    }
   ],
   "source": [
    "dm.results_file"
   ]
  },
  {
   "cell_type": "code",
   "execution_count": null,
   "id": "aa7e689c-08af-4767-bb22-cdace395718e",
   "metadata": {},
   "outputs": [
    {
     "name": "stdout",
     "output_type": "stream",
     "text": [
      "Local files exists. Use `overwrite=True` to download fresh.\n"
     ]
    }
   ],
   "source": [
    "dm.download(overwrite=False)"
   ]
  },
  {
   "cell_type": "code",
   "execution_count": null,
   "id": "6756270b-9873-4809-947f-b64fd8600b1a",
   "metadata": {},
   "outputs": [
    {
     "data": {
      "text/plain": [
       "Path('/home/maye/big_drive/planetary_data/missions/cassini/uvis/EUV2002_198_03_26/EUV2002_198_03_26.DAT')"
      ]
     },
     "execution_count": null,
     "metadata": {},
     "output_type": "execute_result"
    }
   ],
   "source": [
    "dm.raw_data_path"
   ]
  },
  {
   "cell_type": "code",
   "execution_count": null,
   "id": "cca38f5f-cb84-4a29-acdf-d8c9a24b3a47",
   "metadata": {},
   "outputs": [
    {
     "data": {
      "text/plain": [
       "Path('/home/maye/big_drive/planetary_data/missions/cassini/uvis/EUV2002_198_03_26/EUV2002_198_03_26_CAL_3.DAT')"
      ]
     },
     "execution_count": null,
     "metadata": {},
     "output_type": "execute_result"
    }
   ],
   "source": [
    "dm.calib_corr_path"
   ]
  },
  {
   "cell_type": "code",
   "execution_count": null,
   "id": "6e615bd2-e59b-4361-808a-8a9e4f340aaa",
   "metadata": {},
   "outputs": [],
   "source": [
    "# export\n",
    "def get_data_path(pid):\n",
    "    dm = DataManager(pid)\n",
    "    return dm.raw_data_path\n",
    "\n",
    "\n",
    "def get_label_path(pid):\n",
    "    dm = DataManager(pid)\n",
    "    return dm.raw_label_path"
   ]
  },
  {
   "cell_type": "code",
   "execution_count": null,
   "id": "c861c34b-4aeb-4fb7-a0f5-c3acd1751f4d",
   "metadata": {},
   "outputs": [
    {
     "data": {
      "text/plain": [
       "Path('/home/maye/big_drive/planetary_data/missions/cassini/uvis/EUV2002_198_03_26/EUV2002_198_03_26.DAT')"
      ]
     },
     "execution_count": null,
     "metadata": {},
     "output_type": "execute_result"
    }
   ],
   "source": [
    "get_data_path(pid)"
   ]
  },
  {
   "cell_type": "code",
   "execution_count": null,
   "id": "c788dca2-cefb-41b8-8a50-8b6e324287ae",
   "metadata": {},
   "outputs": [
    {
     "data": {
      "text/plain": [
       "Path('/home/maye/big_drive/planetary_data/missions/cassini/uvis/EUV2002_198_03_26/EUV2002_198_03_26.LBL')"
      ]
     },
     "execution_count": null,
     "metadata": {},
     "output_type": "execute_result"
    }
   ],
   "source": [
    "get_label_path(pid)"
   ]
  },
  {
   "cell_type": "code",
   "execution_count": null,
   "id": "a6546380-8c9a-4bc3-b464-6ebe6d204aa2",
   "metadata": {},
   "outputs": [],
   "source": [
    "# export\n",
    "def get_user_guide():\n",
    "    url = URL(\n",
    "        \"https://pds-rings.seti.org/cassini/uvis/1-UVIS_Users_Guide_-2018-Jan%2015-For%20PDS-REV-2018-07-06.pdf\"\n",
    "    )\n",
    "    local_path = storage_root / \"uvis_user_guide.pdf\"\n",
    "    if not local_path.exists():\n",
    "        url_retrieve(url, storage_root / \"uvis_user_guide.pdf\")\n",
    "    return local_path"
   ]
  },
  {
   "cell_type": "code",
   "execution_count": null,
   "id": "b13055ae-0dfa-4891-8dab-39b23c65b63a",
   "metadata": {},
   "outputs": [],
   "source": []
  }
 ],
 "metadata": {
  "kernelspec": {
   "display_name": "Python [conda env:py38] *",
   "language": "python",
   "name": "conda-env-py38-py"
  }
 },
 "nbformat": 4,
 "nbformat_minor": 5
}
