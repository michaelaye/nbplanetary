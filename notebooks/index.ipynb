{
 "cells": [
  {
   "cell_type": "code",
   "execution_count": null,
   "metadata": {},
   "outputs": [],
   "source": [
    "#hide\n",
    "from planetarypy.config import *"
   ]
  },
  {
   "cell_type": "markdown",
   "metadata": {},
   "source": [
    "# PlanetaryPy\n",
    "\n",
    "> This will become (part of) the core package of the [PlanetaryPy](https://planetarypy.org/) organisation.\n",
    "\n",
    "This is an alpha release for testing."
   ]
  },
  {
   "cell_type": "markdown",
   "metadata": {},
   "source": [
    "## Current focus\n",
    "\n",
    "* Enable finding PDS data by downloading and managing PDS3 index files\n",
    "  * Conversion of these index files to `pandas.DataFrames` for search and filtering\n",
    "* Downloading and local management of PDS3 data as identified via the index files or directly via data/product IDs.\n",
    "* CTX and HiRISE specific tools"
   ]
  },
  {
   "cell_type": "markdown",
   "metadata": {},
   "source": [
    "## Install\n",
    "\n",
    "`pip install planetarypy`\n",
    "\n",
    "This will pull in these other dependencies and their dependencies:\n",
    "\n",
    "`strictyaml pandas pvl numpy python-dateutil tqdm lxml yarl hirise-tools kalasiris`\n"
   ]
  },
  {
   "cell_type": "markdown",
   "metadata": {},
   "source": [
    "## PDS tools\n",
    "\n",
    "Look at the `Apps` docs to see what `pds.apps` exist for easily getting PDS indexes.\n",
    "\n",
    "## Utils\n",
    "Find something in `Utils` for working with NASA timestamps and a well working URL download function `url_retrieve`, among other stuff.\n",
    "\n",
    "## Experiment/Instrument Specific\n",
    "\n",
    "So war, `planetarypy` supports CTX EDR and HiRISE RGB.NOMAP data.\n",
    "Look at the `CTX` and `HiRISE` pages for descriptions of classes for working with these data."
   ]
  },
  {
   "cell_type": "code",
   "execution_count": null,
   "metadata": {},
   "outputs": [],
   "source": []
  }
 ],
 "metadata": {
  "kernelspec": {
   "display_name": "Python 3 (ipykernel)",
   "language": "python",
   "name": "python3"
  }
 },
 "nbformat": 4,
 "nbformat_minor": 4
}
