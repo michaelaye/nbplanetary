{
 "cells": [
  {
   "cell_type": "code",
   "execution_count": null,
   "metadata": {},
   "outputs": [],
   "source": [
    "# default_exp config"
   ]
  },
  {
   "cell_type": "markdown",
   "metadata": {},
   "source": [
    "# Config\n",
    "\n",
    "> This module manages configuration of the `planetarypy` package."
   ]
  },
  {
   "cell_type": "code",
   "execution_count": null,
   "metadata": {},
   "outputs": [],
   "source": [
    "# hide\n",
    "from nbverbose.showdoc import show_doc"
   ]
  },
  {
   "cell_type": "code",
   "execution_count": null,
   "metadata": {},
   "outputs": [],
   "source": [
    "# export\n",
    "import os\n",
    "import shutil\n",
    "from functools import reduce\n",
    "from importlib.resources import path as resource_path\n",
    "from typing import Union\n",
    "\n",
    "import tomlkit as toml\n",
    "from fastcore.utils import AttrDict, Path, dict2obj"
   ]
  },
  {
   "cell_type": "code",
   "execution_count": null,
   "metadata": {},
   "outputs": [],
   "source": [
    "# exports\n",
    "class Config:\n",
    "    \"\"\"Manage config stuff.\n",
    "\n",
    "    Attributes\n",
    "    -------\n",
    "    path: pathlib.Path\n",
    "\n",
    "    The key, value pairs found in the config file become attributes of the\n",
    "    class instance after initialization.\n",
    "    At minimum, there should be the `storage_root` attribute for storing data\n",
    "    for this package.\n",
    "    \"\"\"\n",
    "\n",
    "    # This part enables a config path location override using env PYCISS_CONFIG\n",
    "    fname = \"planetarypy_config.toml\"\n",
    "    # separating fname from fpath so that resource_path below is correct.\n",
    "    path = Path(os.getenv(\"PLANETARYPY_CONFIG\", Path.home() / f\".{fname}\"))\n",
    "\n",
    "    def __init__(\n",
    "        self, \n",
    "        config_path:str=None  # str or pathlib.Path\n",
    "    ):\n",
    "        \"Switch to other config file location with `config_path`.\"\n",
    "        if config_path is not None:\n",
    "            self.path = Path(config_path)\n",
    "        if not self.path.exists():\n",
    "            with resource_path(\"planetarypy.data\", self.fname) as p:\n",
    "                shutil.copy(p, self.path)\n",
    "        self.read_config()\n",
    "        self.update_missions()\n",
    "\n",
    "    def read_config(self):\n",
    "        \"\"\"Read the configfile and store config dict.\n",
    "\n",
    "        `storage_root` will be stored as attribute.\n",
    "        \"\"\"\n",
    "        self.tomldoc = toml.loads(self.path.read_text())\n",
    "        if not self.tomldoc[\"storage_root\"]:\n",
    "            self.ask_storage_root()\n",
    "        else:\n",
    "            self.storage_root = Path(self.tomldoc[\"storage_root\"])\n",
    "\n",
    "    @property\n",
    "    def d(self):\n",
    "        \"get the Python dic from\"\n",
    "        return self.tomldoc\n",
    "\n",
    "    def get_value(\n",
    "        self,\n",
    "        key:str  # A nested key in dotted format, e.g. cassini.uvis.indexes\n",
    "    ):\n",
    "        \"\"\"Get sub-dictionary by nested key.\"\"\"\n",
    "        if not key.startswith('missions'):\n",
    "            key = 'missions.' + key\n",
    "        try:\n",
    "            return reduce(lambda c, k: c[k], key.split(\".\"), self.d)\n",
    "        except toml.exceptions.NonExistentKey:\n",
    "            return None\n",
    "\n",
    "    def set_value(\n",
    "        self,\n",
    "        nested_key:str,  # A nested key in dotted format, e.g. cassini.uvis.ring_summary \n",
    "        value:Union[float, str],  # Value for the given key to be stored\n",
    "        save:bool=True  # Switch to control writing out to disk\n",
    "    ):\n",
    "        \"Set value in sub-dic using dotted key.\"\n",
    "        dic = self.tomldoc\n",
    "        keys = nested_key.split(\".\")\n",
    "        for key in keys[:-1]:\n",
    "            dic = dic[key]\n",
    "        dic[keys[-1]] = value\n",
    "        if save:\n",
    "            self.save()\n",
    "\n",
    "    def save(self):\n",
    "        \"Write the TOML doc to file.\"\n",
    "        self.path.write_text(toml.dumps(self.tomldoc))\n",
    "\n",
    "    def ask_storage_root(self):\n",
    "        \"\"\"Use input() to ask user for the storage_root path.\n",
    "\n",
    "        The path will be stored in the TOML-dict and saved into existing config file\n",
    "        at `Class.path`, either default or as given during init.\n",
    "        `storage_root` attribute is set as well.\n",
    "        \"\"\"\n",
    "        path = input(\n",
    "            \"Provide the root storage path where all downloaded and produced data will be stored:\"\n",
    "        )\n",
    "        self.tomldoc[\"storage_root\"] = path\n",
    "        self.storage_root = Path(path)\n",
    "        self.save()\n",
    "\n",
    "    @property\n",
    "    def missions(self):\n",
    "        return list(self.d[\"missions\"].keys())\n",
    "\n",
    "    def list_instruments(self, mission):\n",
    "        if not mission.startswith(\"missions\"):\n",
    "            mission = \"missions.\" + mission\n",
    "        instruments = self.get_value(mission)\n",
    "        return list(instruments.keys())\n",
    "\n",
    "    def list_indexes(self, instrument):\n",
    "        \"instrument key needs to be <mission>.<instrument>\"\n",
    "        if not instrument.startswith(\"missions\"):\n",
    "            instrument = \"missions.\" + instrument\n",
    "        indexes = self.get_value(instrument + \".indexes\")\n",
    "        return list(indexes)\n",
    "\n",
    "    def _copy_clean_to_resource(self):\n",
    "        \"Copy a clean config file without timestamps into resource path for repo commit.\"\n",
    "        dic = self.tomldoc.copy()\n",
    "        missions = dic[\"missions\"]\n",
    "        for mission in missions.keys():\n",
    "            mdict = missions[mission]\n",
    "            for instr in mdict.keys():\n",
    "                instrdict = mdict[instr]\n",
    "                for index in instrdict[\"indexes\"]:\n",
    "                    instrdict[\"indexes\"][index][\"timestamp\"] = \"\"\n",
    "        with resource_path(\"planetarypy.data\", self.fname) as p:\n",
    "            Path(p).write_text(toml.dumps(dic))\n",
    "\n",
    "    def update_missions(self):\n",
    "        \"Check if a new version with more URLs exist at resource path.\"\n",
    "        with resource_path(\"planetarypy.data\", self.fname) as p:\n",
    "            new = toml.loads(Path(p).read_text())[\"missions\"]\n",
    "        old = self.tomldoc[\"missions\"]\n",
    "        for mission in new:\n",
    "            missiondata = new[mission]\n",
    "            if mission not in old:\n",
    "                old[mission] = missiondata\n",
    "                continue\n",
    "            for instr in missiondata:\n",
    "                instrdata = missiondata[instr]\n",
    "                if instr not in old[mission]:\n",
    "                    old[mission][instr] = instrdata\n",
    "                    continue\n",
    "                for index in instrdata[\"indexes\"]:\n",
    "                    indexdata = instrdata[\"indexes\"][index]\n",
    "                    if index not in old[mission][instr][\"indexes\"]:\n",
    "                        old[mission][instr][\"indexes\"][index] = indexdata\n",
    "                        continue\n",
    "                    oldindexdata = old[mission][instr][\"indexes\"][index]\n",
    "                    if indexdata[\"url\"] != oldindexdata[\"url\"]:\n",
    "                        oldindexdata[\"url\"] = indexdata[\"url\"]\n",
    "        self.save()\n",
    "\n",
    "    def populate_timestamps(self):\n",
    "        pass\n",
    "\n",
    "    def __repr__(self):\n",
    "        return AttrDict(self.d).__repr__()"
   ]
  },
  {
   "cell_type": "code",
   "execution_count": null,
   "metadata": {},
   "outputs": [],
   "source": [
    "# export\n",
    "config = Config()"
   ]
  },
  {
   "cell_type": "code",
   "execution_count": null,
   "metadata": {},
   "outputs": [
    {
     "data": {
      "text/plain": [
       "- storage_root: /home/maye/big_drive/planetary_data\n",
       "- missions: \n",
       "  - cassini: \n",
       "    - iss: \n",
       "      - indexes: \n",
       "        - index: \n",
       "          - url: https://pds-rings.seti.org/holdings/metadata/COISS_2xxx/COISS_2999/COISS_2999_index.lbl\n",
       "        - inventory: \n",
       "          - url: https://pds-rings.seti.org/holdings/metadata/COISS_2xxx/COISS_2999/COISS_2999_inventory.lbl\n",
       "        - moon_summary: \n",
       "          - url: https://pds-rings.seti.org/holdings/metadata/COISS_2xxx/COISS_2999/COISS_2999_moon_summary.lbl\n",
       "          - timestamp: 2021-07-23T22:11:38.904571\n",
       "        - ring_summary: \n",
       "          - url: https://pds-rings.seti.org/holdings/metadata/COISS_2xxx/COISS_2999/COISS_2999_ring_summary.lbl\n",
       "          - timestamp: 2021-07-01T09:47:46.753035\n",
       "        - saturn_summary: \n",
       "          - url: https://pds-rings.seti.org/holdings/metadata/COISS_2xxx/COISS_2999/COISS_2999_saturn_summary.lbl\n",
       "    - uvis: \n",
       "      - indexes: \n",
       "        - index: \n",
       "          - url: https://pds-rings.seti.org/holdings/metadata/COUVIS_0xxx/COUVIS_0999/COUVIS_0999_index.lbl\n",
       "        - moon_summary: \n",
       "          - url: https://pds-rings.seti.org/holdings/metadata/COUVIS_0xxx/COUVIS_0999/COUVIS_0999_moon_summary.lbl\n",
       "        - ring_summary: \n",
       "          - url: https://pds-rings.seti.org/holdings/metadata/COUVIS_0xxx/COUVIS_0999/COUVIS_0999_ring_summary.lbl\n",
       "        - saturn_summary: \n",
       "          - url: https://pds-rings.seti.org/holdings/metadata/COUVIS_0xxx/COUVIS_0999/COUVIS_0999_saturn_summary.lbl\n",
       "        - supplemental_index: \n",
       "          - url: https://pds-rings.seti.org/holdings/metadata/COUVIS_0xxx/COUVIS_0999/COUVIS_0999_supplemental_index.lbl\n",
       "        - versions: \n",
       "          - url: https://pds-rings.seti.org/holdings/metadata/COUVIS_0xxx/COUVIS_0999/COUVIS_0999_versions.lbl\n",
       "  - mro: \n",
       "    - hirise: \n",
       "      - indexes: \n",
       "        - dtm: \n",
       "          - url: https://hirise-pds.lpl.arizona.edu/PDS/INDEX/DTMCUMINDEX.LBL\n",
       "        - edr: \n",
       "          - url: https://hirise-pds.lpl.arizona.edu/PDS/INDEX/EDRCUMINDEX.LBL\n",
       "        - rdr: \n",
       "          - url: https://hirise-pds.lpl.arizona.edu/PDS/INDEX/RDRCUMINDEX.LBL\n",
       "          - timestamp: 2021-07-27T23:02:51.210991\n",
       "    - ctx: \n",
       "      - indexes: \n",
       "        - edr: \n",
       "          - url: \n",
       "          - timestamp: 2021-07-21T19:55:32.014076\n",
       "  - lro: \n",
       "    - diviner: \n",
       "      - indexes: \n",
       "        - edr1: \n",
       "          - url: https://pds-geosciences.wustl.edu/lro/lro-l-dlre-2-edr-v1/lrodlr_0001/index/index.lbl\n",
       "        - edr2: \n",
       "          - url: https://pds-geosciences.wustl.edu/lro/lro-l-dlre-2-edr-v1/lrodlr_0002/index/index.lbl\n",
       "        - rdr1: \n",
       "          - url: https://pds-geosciences.wustl.edu/lro/lro-l-dlre-4-rdr-v1/lrodlr_1001/index/rdrindex.lbl\n",
       "        - rdr2: \n",
       "          - url: https://pds-geosciences.wustl.edu/lro/lro-l-dlre-4-rdr-v1/lrodlr_1002/index/rdrindex.lbl\n",
       "    - lola: \n",
       "      - indexes: \n",
       "        - edr: \n",
       "          - url: http://pds-geosciences.wustl.edu/lro/lro-l-lola-2-edr-v1/lrolol_0xxx/index/edrindex.lbl\n",
       "        - rdr: \n",
       "          - url: http://pds-geosciences.wustl.edu/lro/lro-l-lola-3-rdr-v1/lrolol_1xxx/index/rdrindex.lbl\n",
       "    - lroc: \n",
       "      - indexes: \n",
       "        - edr: \n",
       "          - url: http://pds.lroc.asu.edu/data/LRO-L-LROC-2-EDR-V1.0/LROLRC_0048C/INDEX/CUMINDEX.LBL"
      ]
     },
     "execution_count": null,
     "metadata": {},
     "output_type": "execute_result"
    }
   ],
   "source": [
    "config"
   ]
  },
  {
   "cell_type": "code",
   "execution_count": null,
   "metadata": {},
   "outputs": [],
   "source": [
    "for mission in missions.keys():\n",
    "    mdict = missions[mission]\n",
    "    for instr in mdict.keys():\n",
    "        instrdict = mdict[instr]\n",
    "        for index in instrdict[\"indexes\"]:\n",
    "            instrdict[\"indexes\"][index][\"timestamp\"] = \"test\""
   ]
  },
  {
   "cell_type": "code",
   "execution_count": null,
   "metadata": {},
   "outputs": [
    {
     "name": "stdout",
     "output_type": "stream",
     "text": [
      "index\n",
      "inventory\n",
      "moon_summary\n",
      "ring_summary\n",
      "saturn_summary\n",
      "index\n",
      "moon_summary\n",
      "ring_summary\n",
      "saturn_summary\n",
      "supplemental_index\n",
      "versions\n",
      "dtm\n",
      "edr\n",
      "rdr\n",
      "edr\n",
      "edr1\n",
      "edr2\n",
      "rdr1\n",
      "rdr2\n",
      "edr\n",
      "rdr\n"
     ]
    }
   ],
   "source": [
    "for mission in config.list_missions():\n",
    "    for instrument in config.list_instruments(mission):\n",
    "        for index in config.list_indexes(f\"{mission}.{instrument}\"):\n",
    "            #             key = \".\".join(['missions', mission, instrument, index])\n",
    "            print(index)"
   ]
  },
  {
   "cell_type": "markdown",
   "metadata": {},
   "source": [
    "## The Config() object\n",
    "\n",
    "The `config` module instantiates a `config` object from the Config class.\n",
    "Its attributes can be used to access several aspects relevant to the configuration of `planetarypy`.\n",
    "Using an object approach enables easy growth and nesting over time.\n",
    "\n",
    "> Note: Any cell that starts with an `# export` becomes part of the library.\n",
    "  Any other cells become automatically part of tests.\n",
    "  `exports` also adds the exported code to the docs.\n",
    "  \n",
    "> Note: A good \"First issue\" for collaborators would be to improve the Config class to be able to merge a new larger index catalog with an existing one the user might have configured. This will need to take care of existing timestamps and possible other indexes that were put in by the user."
   ]
  },
  {
   "cell_type": "code",
   "execution_count": null,
   "metadata": {},
   "outputs": [],
   "source": [
    "config = Config(config_path=\"test_config.toml\")"
   ]
  },
  {
   "cell_type": "code",
   "execution_count": null,
   "metadata": {},
   "outputs": [
    {
     "data": {
      "text/plain": [
       "Path('/home/maye/big_drive/planetary_data')"
      ]
     },
     "execution_count": null,
     "metadata": {},
     "output_type": "execute_result"
    }
   ],
   "source": [
    "config.storage_root"
   ]
  },
  {
   "cell_type": "code",
   "execution_count": null,
   "metadata": {},
   "outputs": [],
   "source": [
    "# export\n",
    "config = Config()"
   ]
  },
  {
   "cell_type": "code",
   "execution_count": null,
   "metadata": {},
   "outputs": [
    {
     "data": {
      "text/plain": [
       "Path('/home/maye/big_drive/planetary_data')"
      ]
     },
     "execution_count": null,
     "metadata": {},
     "output_type": "execute_result"
    }
   ],
   "source": [
    "config.storage_root"
   ]
  },
  {
   "cell_type": "code",
   "execution_count": null,
   "metadata": {},
   "outputs": [
    {
     "data": {
      "text/markdown": [
       "<h4 id=\"Config.read_config\" class=\"doc_header\"><code>Config.read_config</code><a href=\"__main__.py#L30\" class=\"source_link\" style=\"float:right\">[source]</a></h4>\n",
       "\n",
       "> <code>Config.read_config</code>()\n",
       "\n",
       "```\n",
       "Read the configfile and store config dict.\n",
       "\n",
       "`storage_root` will be stored as attribute.\n",
       "```"
      ],
      "text/plain": [
       "<IPython.core.display.Markdown object>"
      ]
     },
     "metadata": {},
     "output_type": "display_data"
    }
   ],
   "source": [
    "show_doc(Config.read_config)"
   ]
  },
  {
   "cell_type": "code",
   "execution_count": null,
   "metadata": {},
   "outputs": [
    {
     "data": {
      "text/markdown": [
       "<h4 id=\"Config.get_value\" class=\"doc_header\"><code>Config.get_value</code><a href=\"__main__.py#L46\" class=\"source_link\" style=\"float:right\">[source]</a></h4>\n",
       "\n",
       "> <code>Config.get_value</code>(**`key`**)\n",
       "\n",
       "```\n",
       "Get sub-dictionary by nested key.\n",
       "\n",
       "Parameters\n",
       "----------\n",
       "nested_key: str\n",
       "    A nested key in dotted format, e.g. cassini.uvis.indexes\n",
       "```"
      ],
      "text/plain": [
       "<IPython.core.display.Markdown object>"
      ]
     },
     "metadata": {},
     "output_type": "display_data"
    }
   ],
   "source": [
    "show_doc(Config.get_value)"
   ]
  },
  {
   "cell_type": "code",
   "execution_count": null,
   "metadata": {},
   "outputs": [],
   "source": [
    "index = \"missions.cassini.iss.indexes.moon_summary\""
   ]
  },
  {
   "cell_type": "code",
   "execution_count": null,
   "metadata": {},
   "outputs": [
    {
     "data": {
      "text/plain": [
       "{'url': 'https://pds-rings.seti.org/holdings/metadata/COISS_2xxx/COISS_2999/COISS_2999_moon_summary.lbl'}"
      ]
     },
     "execution_count": null,
     "metadata": {},
     "output_type": "execute_result"
    }
   ],
   "source": [
    "config.get_value(index)"
   ]
  },
  {
   "cell_type": "code",
   "execution_count": null,
   "metadata": {},
   "outputs": [
    {
     "data": {
      "text/markdown": [
       "<h4 id=\"Config.set_value\" class=\"doc_header\"><code>Config.set_value</code><a href=\"__main__.py#L59\" class=\"source_link\" style=\"float:right\">[source]</a></h4>\n",
       "\n",
       "> <code>Config.set_value</code>(**`nested_key`**, **`value`**, **`save`**=*`True`*)\n",
       "\n",
       "```\n",
       "Set sub-dic using dotted key.\n",
       "\n",
       "Parameters\n",
       "----------\n",
       "key: str\n",
       "    A nested key in dotted format, e.g. cassini.uvis.ring_summary\n",
       "value: convertable to string\n",
       "    Value for the given key to be stored.\n",
       "```"
      ],
      "text/plain": [
       "<IPython.core.display.Markdown object>"
      ]
     },
     "metadata": {},
     "output_type": "display_data"
    }
   ],
   "source": [
    "show_doc(Config.set_value)"
   ]
  },
  {
   "cell_type": "code",
   "execution_count": null,
   "metadata": {},
   "outputs": [
    {
     "data": {
      "text/markdown": [
       "<h4 id=\"Config.save\" class=\"doc_header\"><code>Config.save</code><a href=\"__main__.py#L74\" class=\"source_link\" style=\"float:right\">[source]</a></h4>\n",
       "\n",
       "> <code>Config.save</code>()\n",
       "\n",
       "```\n",
       "Write the TOML doc to file.\n",
       "```"
      ],
      "text/plain": [
       "<IPython.core.display.Markdown object>"
      ]
     },
     "metadata": {},
     "output_type": "display_data"
    }
   ],
   "source": [
    "show_doc(Config.save)"
   ]
  },
  {
   "cell_type": "code",
   "execution_count": null,
   "metadata": {},
   "outputs": [
    {
     "data": {
      "text/plain": [
       "{'url': 'https://pds-rings.seti.org/holdings/metadata/COISS_2xxx/COISS_2999/COISS_2999_moon_summary.lbl'}"
      ]
     },
     "execution_count": null,
     "metadata": {},
     "output_type": "execute_result"
    }
   ],
   "source": [
    "config.get_value(index)"
   ]
  },
  {
   "cell_type": "code",
   "execution_count": null,
   "metadata": {},
   "outputs": [
    {
     "data": {
      "text/markdown": [
       "<h4 id=\"Config.ask_storage_root\" class=\"doc_header\"><code>Config.ask_storage_root</code><a href=\"__main__.py#L78\" class=\"source_link\" style=\"float:right\">[source]</a></h4>\n",
       "\n",
       "> <code>Config.ask_storage_root</code>()\n",
       "\n",
       "```\n",
       "Use input() to ask user for the storage_root path.\n",
       "\n",
       "The path will be stored in the YAML-dict and saved into existing config file\n",
       "at `Class.path`, either default or as given during init.\n",
       "`storage_root` attribute is set as well.\n",
       "```"
      ],
      "text/plain": [
       "<IPython.core.display.Markdown object>"
      ]
     },
     "metadata": {},
     "output_type": "display_data"
    }
   ],
   "source": [
    "show_doc(Config.ask_storage_root)"
   ]
  },
  {
   "cell_type": "code",
   "execution_count": null,
   "metadata": {},
   "outputs": [
    {
     "data": {
      "text/plain": [
       "['cassini', 'mro', 'lro']"
      ]
     },
     "execution_count": null,
     "metadata": {},
     "output_type": "execute_result"
    }
   ],
   "source": [
    "config.missions"
   ]
  },
  {
   "cell_type": "code",
   "execution_count": null,
   "metadata": {},
   "outputs": [
    {
     "data": {
      "text/plain": [
       "'planetarypy_config.toml'"
      ]
     },
     "execution_count": null,
     "metadata": {},
     "output_type": "execute_result"
    }
   ],
   "source": [
    "config.fname"
   ]
  },
  {
   "cell_type": "code",
   "execution_count": null,
   "metadata": {},
   "outputs": [
    {
     "data": {
      "text/plain": [
       "Path('/home/maye/.planetarypy_config.toml')"
      ]
     },
     "execution_count": null,
     "metadata": {},
     "output_type": "execute_result"
    }
   ],
   "source": [
    "config.path"
   ]
  },
  {
   "cell_type": "code",
   "execution_count": null,
   "metadata": {},
   "outputs": [
    {
     "data": {
      "text/plain": [
       "['iss', 'uvis']"
      ]
     },
     "execution_count": null,
     "metadata": {},
     "output_type": "execute_result"
    }
   ],
   "source": [
    "config.list_instruments(\"cassini\")"
   ]
  },
  {
   "cell_type": "code",
   "execution_count": null,
   "metadata": {},
   "outputs": [
    {
     "data": {
      "text/plain": [
       "['index', 'inventory', 'moon_summary', 'ring_summary', 'saturn_summary']"
      ]
     },
     "execution_count": null,
     "metadata": {},
     "output_type": "execute_result"
    }
   ],
   "source": [
    "config.list_indexes(\"cassini.iss\")"
   ]
  },
  {
   "cell_type": "code",
   "execution_count": null,
   "metadata": {},
   "outputs": [
    {
     "data": {
      "text/plain": [
       "{'storage_root': '/home/maye/big_drive/planetary_data', 'missions': {'cassini': {'iss': {'indexes': {'index': {'url': 'https://pds-rings.seti.org/holdings/metadata/COISS_2xxx/COISS_2999/COISS_2999_index.lbl'}, 'inventory': {'url': 'https://pds-rings.seti.org/holdings/metadata/COISS_2xxx/COISS_2999/COISS_2999_inventory.lbl'}, 'moon_summary': {'url': 'https://pds-rings.seti.org/holdings/metadata/COISS_2xxx/COISS_2999/COISS_2999_moon_summary.lbl'}, 'ring_summary': {'url': 'https://pds-rings.seti.org/holdings/metadata/COISS_2xxx/COISS_2999/COISS_2999_ring_summary.lbl'}, 'saturn_summary': {'url': 'https://pds-rings.seti.org/holdings/metadata/COISS_2xxx/COISS_2999/COISS_2999_saturn_summary.lbl'}}}, 'uvis': {'indexes': {'index': {'url': 'https://pds-rings.seti.org/holdings/metadata/COUVIS_0xxx/COUVIS_0999/COUVIS_0999_index.lbl'}, 'moon_summary': {'url': 'https://pds-rings.seti.org/holdings/metadata/COUVIS_0xxx/COUVIS_0999/COUVIS_0999_moon_summary.lbl'}, 'ring_summary': {'url': 'https://pds-rings.seti.org/holdings/metadata/COUVIS_0xxx/COUVIS_0999/COUVIS_0999_ring_summary.lbl'}, 'saturn_summary': {'url': 'https://pds-rings.seti.org/holdings/metadata/COUVIS_0xxx/COUVIS_0999/COUVIS_0999_saturn_summary.lbl'}, 'supplemental_index': {'url': 'https://pds-rings.seti.org/holdings/metadata/COUVIS_0xxx/COUVIS_0999/COUVIS_0999_supplemental_index.lbl'}, 'versions': {'url': 'https://pds-rings.seti.org/holdings/metadata/COUVIS_0xxx/COUVIS_0999/COUVIS_0999_versions.lbl'}}}}, 'mro': {'hirise': {'indexes': {'dtm': {'url': 'https://hirise-pds.lpl.arizona.edu/PDS/INDEX/DTMCUMINDEX.LBL'}, 'edr': {'url': 'https://hirise-pds.lpl.arizona.edu/PDS/INDEX/EDRCUMINDEX.LBL'}, 'rdr': {'url': 'https://hirise-pds.lpl.arizona.edu/PDS/INDEX/RDRCUMINDEX.LBL'}}}, 'ctx': {'indexes': {'edr': {'url': ''}}}}, 'lro': {'diviner': {'indexes': {'edr1': {'url': 'https://pds-geosciences.wustl.edu/lro/lro-l-dlre-2-edr-v1/lrodlr_0001/index/index.lbl'}, 'edr2': {'url': 'https://pds-geosciences.wustl.edu/lro/lro-l-dlre-2-edr-v1/lrodlr_0002/index/index.lbl'}, 'rdr1': {'url': 'https://pds-geosciences.wustl.edu/lro/lro-l-dlre-4-rdr-v1/lrodlr_1001/index/rdrindex.lbl'}, 'rdr2': {'url': 'https://pds-geosciences.wustl.edu/lro/lro-l-dlre-4-rdr-v1/lrodlr_1002/index/rdrindex.lbl'}}}, 'lola': {'indexes': {'edr': {'url': 'http://pds-geosciences.wustl.edu/lro/lro-l-lola-2-edr-v1/lrolol_0xxx/index/edrindex.lbl'}, 'rdr': {'url': 'http://pds-geosciences.wustl.edu/lro/lro-l-lola-3-rdr-v1/lrolol_1xxx/index/rdrindex.lbl'}}}}}}"
      ]
     },
     "execution_count": null,
     "metadata": {},
     "output_type": "execute_result"
    }
   ],
   "source": [
    "config.d"
   ]
  },
  {
   "cell_type": "code",
   "execution_count": null,
   "metadata": {},
   "outputs": [],
   "source": []
  }
 ],
 "metadata": {
  "kernelspec": {
   "display_name": "Python [conda env:py38]",
   "language": "python",
   "name": "conda-env-py38-py"
  }
 },
 "nbformat": 4,
 "nbformat_minor": 4
}
