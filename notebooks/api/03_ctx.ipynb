{
 "cells": [
  {
   "cell_type": "code",
   "execution_count": 1,
   "id": "160129f3-fd13-49b4-b89d-732828b5a093",
   "metadata": {},
   "outputs": [],
   "source": [
    "# | default_exp ctx"
   ]
  },
  {
   "cell_type": "markdown",
   "id": "f2ca5895-62b3-4684-b71c-16a51d38d7f6",
   "metadata": {},
   "source": [
    "# CTX\n",
    "> Utils for working with MRO CTX data"
   ]
  },
  {
   "cell_type": "code",
   "execution_count": 2,
   "id": "d1ca11ae",
   "metadata": {},
   "outputs": [],
   "source": [
    "# | hide\n",
    "from nbdev.showdoc import show_doc"
   ]
  },
  {
   "cell_type": "code",
   "execution_count": 3,
   "id": "c535d241-040f-46ac-8bf2-35c75bea5e6f",
   "metadata": {},
   "outputs": [
    {
     "data": {
      "text/html": [
       "<script type=\"esms-options\">{\"shimMode\": true}</script><style>*[data-root-id],\n",
       "*[data-root-id] > * {\n",
       "  box-sizing: border-box;\n",
       "  font-family: var(--jp-ui-font-family);\n",
       "  font-size: var(--jp-ui-font-size1);\n",
       "  color: var(--vscode-editor-foreground, var(--jp-ui-font-color1));\n",
       "}\n",
       "\n",
       "/* Override VSCode background color */\n",
       ".cell-output-ipywidget-background:has(\n",
       "    > .cell-output-ipywidget-background > .lm-Widget > *[data-root-id]\n",
       "  ),\n",
       ".cell-output-ipywidget-background:has(> .lm-Widget > *[data-root-id]) {\n",
       "  background-color: transparent !important;\n",
       "}\n",
       "</style>"
      ]
     },
     "metadata": {},
     "output_type": "display_data"
    },
    {
     "data": {
      "application/javascript": "(function(root) {\n  function now() {\n    return new Date();\n  }\n\n  const force = true;\n  const py_version = '3.5.2'.replace('rc', '-rc.').replace('.dev', '-dev.');\n  const reloading = false;\n  const Bokeh = root.Bokeh;\n\n  // Set a timeout for this load but only if we are not already initializing\n  if (typeof (root._bokeh_timeout) === \"undefined\" || (force || !root._bokeh_is_initializing)) {\n    root._bokeh_timeout = Date.now() + 5000;\n    root._bokeh_failed_load = false;\n  }\n\n  function run_callbacks() {\n    try {\n      root._bokeh_onload_callbacks.forEach(function(callback) {\n        if (callback != null)\n          callback();\n      });\n    } finally {\n      delete root._bokeh_onload_callbacks;\n    }\n    console.debug(\"Bokeh: all callbacks have finished\");\n  }\n\n  function load_libs(css_urls, js_urls, js_modules, js_exports, callback) {\n    if (css_urls == null) css_urls = [];\n    if (js_urls == null) js_urls = [];\n    if (js_modules == null) js_modules = [];\n    if (js_exports == null) js_exports = {};\n\n    root._bokeh_onload_callbacks.push(callback);\n\n    if (root._bokeh_is_loading > 0) {\n      // Don't load bokeh if it is still initializing\n      console.debug(\"Bokeh: BokehJS is being loaded, scheduling callback at\", now());\n      return null;\n    } else if (js_urls.length === 0 && js_modules.length === 0 && Object.keys(js_exports).length === 0) {\n      // There is nothing to load\n      run_callbacks();\n      return null;\n    }\n\n    function on_load() {\n      root._bokeh_is_loading--;\n      if (root._bokeh_is_loading === 0) {\n        console.debug(\"Bokeh: all BokehJS libraries/stylesheets loaded\");\n        run_callbacks()\n      }\n    }\n    window._bokeh_on_load = on_load\n\n    function on_error(e) {\n      const src_el = e.srcElement\n      console.error(\"failed to load \" + (src_el.href || src_el.src));\n    }\n\n    const skip = [];\n    if (window.requirejs) {\n      window.requirejs.config({'packages': {}, 'paths': {}, 'shim': {}});\n      root._bokeh_is_loading = css_urls.length + 0;\n    } else {\n      root._bokeh_is_loading = css_urls.length + js_urls.length + js_modules.length + Object.keys(js_exports).length;\n    }\n\n    const existing_stylesheets = []\n    const links = document.getElementsByTagName('link')\n    for (let i = 0; i < links.length; i++) {\n      const link = links[i]\n      if (link.href != null) {\n        existing_stylesheets.push(link.href)\n      }\n    }\n    for (let i = 0; i < css_urls.length; i++) {\n      const url = css_urls[i];\n      const escaped = encodeURI(url)\n      if (existing_stylesheets.indexOf(escaped) !== -1) {\n        on_load()\n        continue;\n      }\n      const element = document.createElement(\"link\");\n      element.onload = on_load;\n      element.onerror = on_error;\n      element.rel = \"stylesheet\";\n      element.type = \"text/css\";\n      element.href = url;\n      console.debug(\"Bokeh: injecting link tag for BokehJS stylesheet: \", url);\n      document.body.appendChild(element);\n    }    var existing_scripts = []\n    const scripts = document.getElementsByTagName('script')\n    for (let i = 0; i < scripts.length; i++) {\n      var script = scripts[i]\n      if (script.src != null) {\n        existing_scripts.push(script.src)\n      }\n    }\n    for (let i = 0; i < js_urls.length; i++) {\n      const url = js_urls[i];\n      const escaped = encodeURI(url)\n      if (skip.indexOf(escaped) !== -1 || existing_scripts.indexOf(escaped) !== -1) {\n        if (!window.requirejs) {\n          on_load();\n        }\n        continue;\n      }\n      const element = document.createElement('script');\n      element.onload = on_load;\n      element.onerror = on_error;\n      element.async = false;\n      element.src = url;\n      console.debug(\"Bokeh: injecting script tag for BokehJS library: \", url);\n      document.head.appendChild(element);\n    }\n    for (let i = 0; i < js_modules.length; i++) {\n      const url = js_modules[i];\n      const escaped = encodeURI(url)\n      if (skip.indexOf(escaped) !== -1 || existing_scripts.indexOf(escaped) !== -1) {\n        if (!window.requirejs) {\n          on_load();\n        }\n        continue;\n      }\n      var element = document.createElement('script');\n      element.onload = on_load;\n      element.onerror = on_error;\n      element.async = false;\n      element.src = url;\n      element.type = \"module\";\n      console.debug(\"Bokeh: injecting script tag for BokehJS library: \", url);\n      document.head.appendChild(element);\n    }\n    for (const name in js_exports) {\n      const url = js_exports[name];\n      const escaped = encodeURI(url)\n      if (skip.indexOf(escaped) >= 0 || root[name] != null) {\n        if (!window.requirejs) {\n          on_load();\n        }\n        continue;\n      }\n      var element = document.createElement('script');\n      element.onerror = on_error;\n      element.async = false;\n      element.type = \"module\";\n      console.debug(\"Bokeh: injecting script tag for BokehJS library: \", url);\n      element.textContent = `\n      import ${name} from \"${url}\"\n      window.${name} = ${name}\n      window._bokeh_on_load()\n      `\n      document.head.appendChild(element);\n    }\n    if (!js_urls.length && !js_modules.length) {\n      on_load()\n    }\n  };\n\n  function inject_raw_css(css) {\n    const element = document.createElement(\"style\");\n    element.appendChild(document.createTextNode(css));\n    document.body.appendChild(element);\n  }\n\n  const js_urls = [\"https://cdn.holoviz.org/panel/1.5.0/dist/bundled/reactiveesm/es-module-shims@^1.10.0/dist/es-module-shims.min.js\", \"https://cdn.bokeh.org/bokeh/release/bokeh-3.5.2.min.js\", \"https://cdn.bokeh.org/bokeh/release/bokeh-gl-3.5.2.min.js\", \"https://cdn.bokeh.org/bokeh/release/bokeh-widgets-3.5.2.min.js\", \"https://cdn.bokeh.org/bokeh/release/bokeh-tables-3.5.2.min.js\", \"https://cdn.holoviz.org/panel/1.5.0/dist/panel.min.js\"];\n  const js_modules = [];\n  const js_exports = {};\n  const css_urls = [];\n  const inline_js = [    function(Bokeh) {\n      Bokeh.set_log_level(\"info\");\n    },\nfunction(Bokeh) {} // ensure no trailing comma for IE\n  ];\n\n  function run_inline_js() {\n    if ((root.Bokeh !== undefined) || (force === true)) {\n      for (let i = 0; i < inline_js.length; i++) {\n        try {\n          inline_js[i].call(root, root.Bokeh);\n        } catch(e) {\n          if (!reloading) {\n            throw e;\n          }\n        }\n      }\n      // Cache old bokeh versions\n      if (Bokeh != undefined && !reloading) {\n        var NewBokeh = root.Bokeh;\n        if (Bokeh.versions === undefined) {\n          Bokeh.versions = new Map();\n        }\n        if (NewBokeh.version !== Bokeh.version) {\n          Bokeh.versions.set(NewBokeh.version, NewBokeh)\n        }\n        root.Bokeh = Bokeh;\n      }\n    } else if (Date.now() < root._bokeh_timeout) {\n      setTimeout(run_inline_js, 100);\n    } else if (!root._bokeh_failed_load) {\n      console.log(\"Bokeh: BokehJS failed to load within specified timeout.\");\n      root._bokeh_failed_load = true;\n    }\n    root._bokeh_is_initializing = false\n  }\n\n  function load_or_wait() {\n    // Implement a backoff loop that tries to ensure we do not load multiple\n    // versions of Bokeh and its dependencies at the same time.\n    // In recent versions we use the root._bokeh_is_initializing flag\n    // to determine whether there is an ongoing attempt to initialize\n    // bokeh, however for backward compatibility we also try to ensure\n    // that we do not start loading a newer (Panel>=1.0 and Bokeh>3) version\n    // before older versions are fully initialized.\n    if (root._bokeh_is_initializing && Date.now() > root._bokeh_timeout) {\n      // If the timeout and bokeh was not successfully loaded we reset\n      // everything and try loading again\n      root._bokeh_timeout = Date.now() + 5000;\n      root._bokeh_is_initializing = false;\n      root._bokeh_onload_callbacks = undefined;\n      root._bokeh_is_loading = 0\n      console.log(\"Bokeh: BokehJS was loaded multiple times but one version failed to initialize.\");\n      load_or_wait();\n    } else if (root._bokeh_is_initializing || (typeof root._bokeh_is_initializing === \"undefined\" && root._bokeh_onload_callbacks !== undefined)) {\n      setTimeout(load_or_wait, 100);\n    } else {\n      root._bokeh_is_initializing = true\n      root._bokeh_onload_callbacks = []\n      const bokeh_loaded = root.Bokeh != null && (root.Bokeh.version === py_version || (root.Bokeh.versions !== undefined && root.Bokeh.versions.has(py_version)));\n      if (!reloading && !bokeh_loaded) {\n        if (root.Bokeh) {\n          root.Bokeh = undefined;\n        }\n        console.debug(\"Bokeh: BokehJS not loaded, scheduling load and callback at\", now());\n      }\n      load_libs(css_urls, js_urls, js_modules, js_exports, function() {\n        console.debug(\"Bokeh: BokehJS plotting callback run at\", now());\n        run_inline_js();\n      });\n    }\n  }\n  // Give older versions of the autoload script a head-start to ensure\n  // they initialize before we start loading newer version.\n  setTimeout(load_or_wait, 100)\n}(window));",
      "application/vnd.holoviews_load.v0+json": ""
     },
     "metadata": {},
     "output_type": "display_data"
    },
    {
     "data": {
      "application/javascript": "\nif ((window.PyViz === undefined) || (window.PyViz instanceof HTMLElement)) {\n  window.PyViz = {comms: {}, comm_status:{}, kernels:{}, receivers: {}, plot_index: []}\n}\n\n\n    function JupyterCommManager() {\n    }\n\n    JupyterCommManager.prototype.register_target = function(plot_id, comm_id, msg_handler) {\n      if (window.comm_manager || ((window.Jupyter !== undefined) && (Jupyter.notebook.kernel != null))) {\n        var comm_manager = window.comm_manager || Jupyter.notebook.kernel.comm_manager;\n        comm_manager.register_target(comm_id, function(comm) {\n          comm.on_msg(msg_handler);\n        });\n      } else if ((plot_id in window.PyViz.kernels) && (window.PyViz.kernels[plot_id])) {\n        window.PyViz.kernels[plot_id].registerCommTarget(comm_id, function(comm) {\n          comm.onMsg = msg_handler;\n        });\n      } else if (typeof google != 'undefined' && google.colab.kernel != null) {\n        google.colab.kernel.comms.registerTarget(comm_id, (comm) => {\n          var messages = comm.messages[Symbol.asyncIterator]();\n          function processIteratorResult(result) {\n            var message = result.value;\n            console.log(message)\n            var content = {data: message.data, comm_id};\n            var buffers = []\n            for (var buffer of message.buffers || []) {\n              buffers.push(new DataView(buffer))\n            }\n            var metadata = message.metadata || {};\n            var msg = {content, buffers, metadata}\n            msg_handler(msg);\n            return messages.next().then(processIteratorResult);\n          }\n          return messages.next().then(processIteratorResult);\n        })\n      }\n    }\n\n    JupyterCommManager.prototype.get_client_comm = function(plot_id, comm_id, msg_handler) {\n      if (comm_id in window.PyViz.comms) {\n        return window.PyViz.comms[comm_id];\n      } else if (window.comm_manager || ((window.Jupyter !== undefined) && (Jupyter.notebook.kernel != null))) {\n        var comm_manager = window.comm_manager || Jupyter.notebook.kernel.comm_manager;\n        var comm = comm_manager.new_comm(comm_id, {}, {}, {}, comm_id);\n        if (msg_handler) {\n          comm.on_msg(msg_handler);\n        }\n      } else if ((plot_id in window.PyViz.kernels) && (window.PyViz.kernels[plot_id])) {\n        var comm = window.PyViz.kernels[plot_id].connectToComm(comm_id);\n        comm.open();\n        if (msg_handler) {\n          comm.onMsg = msg_handler;\n        }\n      } else if (typeof google != 'undefined' && google.colab.kernel != null) {\n        var comm_promise = google.colab.kernel.comms.open(comm_id)\n        comm_promise.then((comm) => {\n          window.PyViz.comms[comm_id] = comm;\n          if (msg_handler) {\n            var messages = comm.messages[Symbol.asyncIterator]();\n            function processIteratorResult(result) {\n              var message = result.value;\n              var content = {data: message.data};\n              var metadata = message.metadata || {comm_id};\n              var msg = {content, metadata}\n              msg_handler(msg);\n              return messages.next().then(processIteratorResult);\n            }\n            return messages.next().then(processIteratorResult);\n          }\n        }) \n        var sendClosure = (data, metadata, buffers, disposeOnDone) => {\n          return comm_promise.then((comm) => {\n            comm.send(data, metadata, buffers, disposeOnDone);\n          });\n        };\n        var comm = {\n          send: sendClosure\n        };\n      }\n      window.PyViz.comms[comm_id] = comm;\n      return comm;\n    }\n    window.PyViz.comm_manager = new JupyterCommManager();\n    \n\n\nvar JS_MIME_TYPE = 'application/javascript';\nvar HTML_MIME_TYPE = 'text/html';\nvar EXEC_MIME_TYPE = 'application/vnd.holoviews_exec.v0+json';\nvar CLASS_NAME = 'output';\n\n/**\n * Render data to the DOM node\n */\nfunction render(props, node) {\n  var div = document.createElement(\"div\");\n  var script = document.createElement(\"script\");\n  node.appendChild(div);\n  node.appendChild(script);\n}\n\n/**\n * Handle when a new output is added\n */\nfunction handle_add_output(event, handle) {\n  var output_area = handle.output_area;\n  var output = handle.output;\n  if ((output.data == undefined) || (!output.data.hasOwnProperty(EXEC_MIME_TYPE))) {\n    return\n  }\n  var id = output.metadata[EXEC_MIME_TYPE][\"id\"];\n  var toinsert = output_area.element.find(\".\" + CLASS_NAME.split(' ')[0]);\n  if (id !== undefined) {\n    var nchildren = toinsert.length;\n    var html_node = toinsert[nchildren-1].children[0];\n    html_node.innerHTML = output.data[HTML_MIME_TYPE];\n    var scripts = [];\n    var nodelist = html_node.querySelectorAll(\"script\");\n    for (var i in nodelist) {\n      if (nodelist.hasOwnProperty(i)) {\n        scripts.push(nodelist[i])\n      }\n    }\n\n    scripts.forEach( function (oldScript) {\n      var newScript = document.createElement(\"script\");\n      var attrs = [];\n      var nodemap = oldScript.attributes;\n      for (var j in nodemap) {\n        if (nodemap.hasOwnProperty(j)) {\n          attrs.push(nodemap[j])\n        }\n      }\n      attrs.forEach(function(attr) { newScript.setAttribute(attr.name, attr.value) });\n      newScript.appendChild(document.createTextNode(oldScript.innerHTML));\n      oldScript.parentNode.replaceChild(newScript, oldScript);\n    });\n    if (JS_MIME_TYPE in output.data) {\n      toinsert[nchildren-1].children[1].textContent = output.data[JS_MIME_TYPE];\n    }\n    output_area._hv_plot_id = id;\n    if ((window.Bokeh !== undefined) && (id in Bokeh.index)) {\n      window.PyViz.plot_index[id] = Bokeh.index[id];\n    } else {\n      window.PyViz.plot_index[id] = null;\n    }\n  } else if (output.metadata[EXEC_MIME_TYPE][\"server_id\"] !== undefined) {\n    var bk_div = document.createElement(\"div\");\n    bk_div.innerHTML = output.data[HTML_MIME_TYPE];\n    var script_attrs = bk_div.children[0].attributes;\n    for (var i = 0; i < script_attrs.length; i++) {\n      toinsert[toinsert.length - 1].childNodes[1].setAttribute(script_attrs[i].name, script_attrs[i].value);\n    }\n    // store reference to server id on output_area\n    output_area._bokeh_server_id = output.metadata[EXEC_MIME_TYPE][\"server_id\"];\n  }\n}\n\n/**\n * Handle when an output is cleared or removed\n */\nfunction handle_clear_output(event, handle) {\n  var id = handle.cell.output_area._hv_plot_id;\n  var server_id = handle.cell.output_area._bokeh_server_id;\n  if (((id === undefined) || !(id in PyViz.plot_index)) && (server_id !== undefined)) { return; }\n  var comm = window.PyViz.comm_manager.get_client_comm(\"hv-extension-comm\", \"hv-extension-comm\", function () {});\n  if (server_id !== null) {\n    comm.send({event_type: 'server_delete', 'id': server_id});\n    return;\n  } else if (comm !== null) {\n    comm.send({event_type: 'delete', 'id': id});\n  }\n  delete PyViz.plot_index[id];\n  if ((window.Bokeh !== undefined) & (id in window.Bokeh.index)) {\n    var doc = window.Bokeh.index[id].model.document\n    doc.clear();\n    const i = window.Bokeh.documents.indexOf(doc);\n    if (i > -1) {\n      window.Bokeh.documents.splice(i, 1);\n    }\n  }\n}\n\n/**\n * Handle kernel restart event\n */\nfunction handle_kernel_cleanup(event, handle) {\n  delete PyViz.comms[\"hv-extension-comm\"];\n  window.PyViz.plot_index = {}\n}\n\n/**\n * Handle update_display_data messages\n */\nfunction handle_update_output(event, handle) {\n  handle_clear_output(event, {cell: {output_area: handle.output_area}})\n  handle_add_output(event, handle)\n}\n\nfunction register_renderer(events, OutputArea) {\n  function append_mime(data, metadata, element) {\n    // create a DOM node to render to\n    var toinsert = this.create_output_subarea(\n    metadata,\n    CLASS_NAME,\n    EXEC_MIME_TYPE\n    );\n    this.keyboard_manager.register_events(toinsert);\n    // Render to node\n    var props = {data: data, metadata: metadata[EXEC_MIME_TYPE]};\n    render(props, toinsert[0]);\n    element.append(toinsert);\n    return toinsert\n  }\n\n  events.on('output_added.OutputArea', handle_add_output);\n  events.on('output_updated.OutputArea', handle_update_output);\n  events.on('clear_output.CodeCell', handle_clear_output);\n  events.on('delete.Cell', handle_clear_output);\n  events.on('kernel_ready.Kernel', handle_kernel_cleanup);\n\n  OutputArea.prototype.register_mime_type(EXEC_MIME_TYPE, append_mime, {\n    safe: true,\n    index: 0\n  });\n}\n\nif (window.Jupyter !== undefined) {\n  try {\n    var events = require('base/js/events');\n    var OutputArea = require('notebook/js/outputarea').OutputArea;\n    if (OutputArea.prototype.mime_types().indexOf(EXEC_MIME_TYPE) == -1) {\n      register_renderer(events, OutputArea);\n    }\n  } catch(err) {\n  }\n}\n",
      "application/vnd.holoviews_load.v0+json": ""
     },
     "metadata": {},
     "output_type": "display_data"
    },
    {
     "data": {
      "application/vnd.holoviews_exec.v0+json": "",
      "text/html": [
       "<div id='p1002'>\n",
       "  <div id=\"b5a57a90-5de0-498d-a0e7-f451709c7027\" data-root-id=\"p1002\" style=\"display: contents;\"></div>\n",
       "</div>\n",
       "<script type=\"application/javascript\">(function(root) {\n",
       "  var docs_json = {\"85192ad9-8660-4743-a976-27cf74e65a4c\":{\"version\":\"3.5.2\",\"title\":\"Bokeh Application\",\"roots\":[{\"type\":\"object\",\"name\":\"panel.models.browser.BrowserInfo\",\"id\":\"p1002\"},{\"type\":\"object\",\"name\":\"panel.models.comm_manager.CommManager\",\"id\":\"p1003\",\"attributes\":{\"plot_id\":\"p1002\",\"comm_id\":\"87d735662b92449c84909dbe357e923e\",\"client_comm_id\":\"98d0e426e1964d4a853cd428d097f449\"}}],\"defs\":[{\"type\":\"model\",\"name\":\"ReactiveHTML1\"},{\"type\":\"model\",\"name\":\"FlexBox1\",\"properties\":[{\"name\":\"align_content\",\"kind\":\"Any\",\"default\":\"flex-start\"},{\"name\":\"align_items\",\"kind\":\"Any\",\"default\":\"flex-start\"},{\"name\":\"flex_direction\",\"kind\":\"Any\",\"default\":\"row\"},{\"name\":\"flex_wrap\",\"kind\":\"Any\",\"default\":\"wrap\"},{\"name\":\"gap\",\"kind\":\"Any\",\"default\":\"\"},{\"name\":\"justify_content\",\"kind\":\"Any\",\"default\":\"flex-start\"}]},{\"type\":\"model\",\"name\":\"FloatPanel1\",\"properties\":[{\"name\":\"config\",\"kind\":\"Any\",\"default\":{\"type\":\"map\"}},{\"name\":\"contained\",\"kind\":\"Any\",\"default\":true},{\"name\":\"position\",\"kind\":\"Any\",\"default\":\"right-top\"},{\"name\":\"offsetx\",\"kind\":\"Any\",\"default\":null},{\"name\":\"offsety\",\"kind\":\"Any\",\"default\":null},{\"name\":\"theme\",\"kind\":\"Any\",\"default\":\"primary\"},{\"name\":\"status\",\"kind\":\"Any\",\"default\":\"normalized\"}]},{\"type\":\"model\",\"name\":\"GridStack1\",\"properties\":[{\"name\":\"mode\",\"kind\":\"Any\",\"default\":\"warn\"},{\"name\":\"ncols\",\"kind\":\"Any\",\"default\":null},{\"name\":\"nrows\",\"kind\":\"Any\",\"default\":null},{\"name\":\"allow_resize\",\"kind\":\"Any\",\"default\":true},{\"name\":\"allow_drag\",\"kind\":\"Any\",\"default\":true},{\"name\":\"state\",\"kind\":\"Any\",\"default\":[]}]},{\"type\":\"model\",\"name\":\"drag1\",\"properties\":[{\"name\":\"slider_width\",\"kind\":\"Any\",\"default\":5},{\"name\":\"slider_color\",\"kind\":\"Any\",\"default\":\"black\"},{\"name\":\"value\",\"kind\":\"Any\",\"default\":50}]},{\"type\":\"model\",\"name\":\"click1\",\"properties\":[{\"name\":\"terminal_output\",\"kind\":\"Any\",\"default\":\"\"},{\"name\":\"debug_name\",\"kind\":\"Any\",\"default\":\"\"},{\"name\":\"clears\",\"kind\":\"Any\",\"default\":0}]},{\"type\":\"model\",\"name\":\"FastWrapper1\",\"properties\":[{\"name\":\"object\",\"kind\":\"Any\",\"default\":null},{\"name\":\"style\",\"kind\":\"Any\",\"default\":null}]},{\"type\":\"model\",\"name\":\"NotificationAreaBase1\",\"properties\":[{\"name\":\"js_events\",\"kind\":\"Any\",\"default\":{\"type\":\"map\"}},{\"name\":\"position\",\"kind\":\"Any\",\"default\":\"bottom-right\"},{\"name\":\"_clear\",\"kind\":\"Any\",\"default\":0}]},{\"type\":\"model\",\"name\":\"NotificationArea1\",\"properties\":[{\"name\":\"js_events\",\"kind\":\"Any\",\"default\":{\"type\":\"map\"}},{\"name\":\"notifications\",\"kind\":\"Any\",\"default\":[]},{\"name\":\"position\",\"kind\":\"Any\",\"default\":\"bottom-right\"},{\"name\":\"_clear\",\"kind\":\"Any\",\"default\":0},{\"name\":\"types\",\"kind\":\"Any\",\"default\":[{\"type\":\"map\",\"entries\":[[\"type\",\"warning\"],[\"background\",\"#ffc107\"],[\"icon\",{\"type\":\"map\",\"entries\":[[\"className\",\"fas fa-exclamation-triangle\"],[\"tagName\",\"i\"],[\"color\",\"white\"]]}]]},{\"type\":\"map\",\"entries\":[[\"type\",\"info\"],[\"background\",\"#007bff\"],[\"icon\",{\"type\":\"map\",\"entries\":[[\"className\",\"fas fa-info-circle\"],[\"tagName\",\"i\"],[\"color\",\"white\"]]}]]}]}]},{\"type\":\"model\",\"name\":\"Notification\",\"properties\":[{\"name\":\"background\",\"kind\":\"Any\",\"default\":null},{\"name\":\"duration\",\"kind\":\"Any\",\"default\":3000},{\"name\":\"icon\",\"kind\":\"Any\",\"default\":null},{\"name\":\"message\",\"kind\":\"Any\",\"default\":\"\"},{\"name\":\"notification_type\",\"kind\":\"Any\",\"default\":null},{\"name\":\"_destroyed\",\"kind\":\"Any\",\"default\":false}]},{\"type\":\"model\",\"name\":\"TemplateActions1\",\"properties\":[{\"name\":\"open_modal\",\"kind\":\"Any\",\"default\":0},{\"name\":\"close_modal\",\"kind\":\"Any\",\"default\":0}]},{\"type\":\"model\",\"name\":\"BootstrapTemplateActions1\",\"properties\":[{\"name\":\"open_modal\",\"kind\":\"Any\",\"default\":0},{\"name\":\"close_modal\",\"kind\":\"Any\",\"default\":0}]},{\"type\":\"model\",\"name\":\"TemplateEditor1\",\"properties\":[{\"name\":\"layout\",\"kind\":\"Any\",\"default\":[]}]},{\"type\":\"model\",\"name\":\"MaterialTemplateActions1\",\"properties\":[{\"name\":\"open_modal\",\"kind\":\"Any\",\"default\":0},{\"name\":\"close_modal\",\"kind\":\"Any\",\"default\":0}]},{\"type\":\"model\",\"name\":\"ReactiveESM1\"},{\"type\":\"model\",\"name\":\"JSComponent1\"},{\"type\":\"model\",\"name\":\"ReactComponent1\"},{\"type\":\"model\",\"name\":\"AnyWidgetComponent1\"},{\"type\":\"model\",\"name\":\"request_value1\",\"properties\":[{\"name\":\"fill\",\"kind\":\"Any\",\"default\":\"none\"},{\"name\":\"_synced\",\"kind\":\"Any\",\"default\":null},{\"name\":\"_request_sync\",\"kind\":\"Any\",\"default\":0}]}]}};\n",
       "  var render_items = [{\"docid\":\"85192ad9-8660-4743-a976-27cf74e65a4c\",\"roots\":{\"p1002\":\"b5a57a90-5de0-498d-a0e7-f451709c7027\"},\"root_ids\":[\"p1002\"]}];\n",
       "  var docs = Object.values(docs_json)\n",
       "  if (!docs) {\n",
       "    return\n",
       "  }\n",
       "  const py_version = docs[0].version.replace('rc', '-rc.').replace('.dev', '-dev.')\n",
       "  async function embed_document(root) {\n",
       "    var Bokeh = get_bokeh(root)\n",
       "    await Bokeh.embed.embed_items_notebook(docs_json, render_items);\n",
       "    for (const render_item of render_items) {\n",
       "      for (const root_id of render_item.root_ids) {\n",
       "\tconst id_el = document.getElementById(root_id)\n",
       "\tif (id_el.children.length && id_el.children[0].hasAttribute('data-root-id')) {\n",
       "\t  const root_el = id_el.children[0]\n",
       "\t  root_el.id = root_el.id + '-rendered'\n",
       "\t  for (const child of root_el.children) {\n",
       "            // Ensure JupyterLab does not capture keyboard shortcuts\n",
       "            // see: https://jupyterlab.readthedocs.io/en/4.1.x/extension/notebook.html#keyboard-interaction-model\n",
       "\t    child.setAttribute('data-lm-suppress-shortcuts', 'true')\n",
       "\t  }\n",
       "\t}\n",
       "      }\n",
       "    }\n",
       "  }\n",
       "  function get_bokeh(root) {\n",
       "    if (root.Bokeh === undefined) {\n",
       "      return null\n",
       "    } else if (root.Bokeh.version !== py_version) {\n",
       "      if (root.Bokeh.versions === undefined || !root.Bokeh.versions.has(py_version)) {\n",
       "\treturn null\n",
       "      }\n",
       "      return root.Bokeh.versions.get(py_version);\n",
       "    } else if (root.Bokeh.version === py_version) {\n",
       "      return root.Bokeh\n",
       "    }\n",
       "    return null\n",
       "  }\n",
       "  function is_loaded(root) {\n",
       "    var Bokeh = get_bokeh(root)\n",
       "    return (Bokeh != null && Bokeh.Panel !== undefined)\n",
       "  }\n",
       "  if (is_loaded(root)) {\n",
       "    embed_document(root);\n",
       "  } else {\n",
       "    var attempts = 0;\n",
       "    var timer = setInterval(function(root) {\n",
       "      if (is_loaded(root)) {\n",
       "        clearInterval(timer);\n",
       "        embed_document(root);\n",
       "      } else if (document.readyState == \"complete\") {\n",
       "        attempts++;\n",
       "        if (attempts > 200) {\n",
       "          clearInterval(timer);\n",
       "\t  var Bokeh = get_bokeh(root)\n",
       "\t  if (Bokeh == null || Bokeh.Panel == null) {\n",
       "            console.warn(\"Panel: ERROR: Unable to run Panel code because Bokeh or Panel library is missing\");\n",
       "\t  } else {\n",
       "\t    console.warn(\"Panel: WARNING: Attempting to render but not all required libraries could be resolved.\")\n",
       "\t    embed_document(root)\n",
       "\t  }\n",
       "        }\n",
       "      }\n",
       "    }, 25, root)\n",
       "  }\n",
       "})(window);</script>"
      ]
     },
     "metadata": {
      "application/vnd.holoviews_exec.v0+json": {
       "id": "p1002"
      }
     },
     "output_type": "display_data"
    }
   ],
   "source": [
    "# | export\n",
    "\n",
    "import warnings\n",
    "from itertools import repeat\n",
    "from pathlib import Path\n",
    "\n",
    "import hvplot.xarray  # noqa\n",
    "import rasterio\n",
    "import rioxarray as rxr\n",
    "from fastcore.script import call_parse\n",
    "from tqdm.auto import tqdm\n",
    "from tqdm.contrib.concurrent import process_map\n",
    "from yarl import URL\n",
    "\n",
    "from planetarypy.config import config\n",
    "from planetarypy.pds.apps import get_index\n",
    "from planetarypy.utils import catch_isis_error, file_variations, url_retrieve\n",
    "\n",
    "try:\n",
    "    from kalasiris.pysis import (\n",
    "        cam2map,\n",
    "        ctxcal,\n",
    "        ctxevenodd,\n",
    "        mroctx2isis,\n",
    "        spiceinit,\n",
    "    )\n",
    "except KeyError:\n",
    "    warnings.warn(\"kalasiris has a problem initializing ISIS\")"
   ]
  },
  {
   "cell_type": "code",
   "execution_count": 4,
   "id": "62a3f59a-0317-4304-bedd-60db51caec49",
   "metadata": {},
   "outputs": [],
   "source": [
    "# | export\n",
    "\n",
    "warnings.filterwarnings(\"ignore\", category=rasterio.errors.NotGeoreferencedWarning)\n",
    "baseurl = URL(config.get_value(\"mro.ctx.datalevels.edr.url\"))"
   ]
  },
  {
   "cell_type": "code",
   "execution_count": 5,
   "id": "18da538b-3e47-4bf3-bd5d-1728ab9068dd",
   "metadata": {},
   "outputs": [],
   "source": [
    "# | export\n",
    "storage_root = config.storage_root / \"missions/mro/ctx\"\n",
    "cache = dict()"
   ]
  },
  {
   "cell_type": "code",
   "execution_count": 6,
   "id": "5dcd75db-a6e5-4990-8b71-570630974af9",
   "metadata": {},
   "outputs": [],
   "source": [
    "import pandas as pd\n",
    "\n",
    "pd.set_option(\"display.max_columns\", 1000)"
   ]
  },
  {
   "cell_type": "code",
   "execution_count": 7,
   "id": "948df5a2-725b-4e4c-8ae3-3ec06a8ec12b",
   "metadata": {},
   "outputs": [],
   "source": [
    "# | export\n",
    "def get_edr_index(refresh=False):\n",
    "    if \"edrindex\" in cache and not refresh:\n",
    "        return cache[\"edrindex\"]\n",
    "    else:\n",
    "        edrindex = get_index(\"mro.ctx\", \"edr\", refresh=refresh)\n",
    "        edrindex[\"short_pid\"] = edrindex.PRODUCT_ID.map(lambda x: x[:15])\n",
    "        edrindex[\"month_col\"] = edrindex.PRODUCT_ID.map(lambda x: x[:3])\n",
    "        edrindex.LINE_SAMPLES = edrindex.LINE_SAMPLES.astype(int)\n",
    "        cache[\"edrindex\"] = edrindex\n",
    "        return edrindex"
   ]
  },
  {
   "cell_type": "code",
   "execution_count": 8,
   "id": "c01d7184-7836-4329-b6e0-1519909da90b",
   "metadata": {},
   "outputs": [
    {
     "data": {
      "text/html": [
       "<div>\n",
       "<style scoped>\n",
       "    .dataframe tbody tr th:only-of-type {\n",
       "        vertical-align: middle;\n",
       "    }\n",
       "\n",
       "    .dataframe tbody tr th {\n",
       "        vertical-align: top;\n",
       "    }\n",
       "\n",
       "    .dataframe thead th {\n",
       "        text-align: right;\n",
       "    }\n",
       "</style>\n",
       "<table border=\"1\" class=\"dataframe\">\n",
       "  <thead>\n",
       "    <tr style=\"text-align: right;\">\n",
       "      <th></th>\n",
       "      <th>VOLUME_ID</th>\n",
       "      <th>FILE_SPECIFICATION_NAME</th>\n",
       "      <th>ORIGINAL_PRODUCT_ID</th>\n",
       "      <th>PRODUCT_ID</th>\n",
       "      <th>IMAGE_TIME</th>\n",
       "      <th>INSTRUMENT_ID</th>\n",
       "      <th>INSTRUMENT_MODE_ID</th>\n",
       "      <th>LINE_SAMPLES</th>\n",
       "      <th>LINES</th>\n",
       "      <th>SPATIAL_SUMMING</th>\n",
       "      <th>SCALED_PIXEL_WIDTH</th>\n",
       "      <th>PIXEL_ASPECT_RATIO</th>\n",
       "      <th>EMISSION_ANGLE</th>\n",
       "      <th>INCIDENCE_ANGLE</th>\n",
       "      <th>PHASE_ANGLE</th>\n",
       "      <th>CENTER_LONGITUDE</th>\n",
       "      <th>CENTER_LATITUDE</th>\n",
       "      <th>UPPER_LEFT_LONGITUDE</th>\n",
       "      <th>UPPER_LEFT_LATITUDE</th>\n",
       "      <th>UPPER_RIGHT_LONGITUDE</th>\n",
       "      <th>UPPER_RIGHT_LATITUDE</th>\n",
       "      <th>LOWER_LEFT_LONGITUDE</th>\n",
       "      <th>LOWER_LEFT_LATITUDE</th>\n",
       "      <th>LOWER_RIGHT_LONGITUDE</th>\n",
       "      <th>LOWER_RIGHT_LATITUDE</th>\n",
       "      <th>MISSION_PHASE_NAME</th>\n",
       "      <th>TARGET_NAME</th>\n",
       "      <th>SPACECRAFT_CLOCK_START_COUNT</th>\n",
       "      <th>FOCAL_PLANE_TEMPERATURE</th>\n",
       "      <th>LINE_EXPOSURE_DURATION</th>\n",
       "      <th>OFFSET_MODE_ID</th>\n",
       "      <th>SAMPLE_FIRST_PIXEL</th>\n",
       "      <th>SCALED_IMAGE_WIDTH</th>\n",
       "      <th>SCALED_IMAGE_HEIGHT</th>\n",
       "      <th>SPACECRAFT_ALTITUDE</th>\n",
       "      <th>TARGET_CENTER_DISTANCE</th>\n",
       "      <th>SLANT_DISTANCE</th>\n",
       "      <th>USAGE_NOTE</th>\n",
       "      <th>NORTH_AZIMUTH</th>\n",
       "      <th>SUB_SOLAR_AZIMUTH</th>\n",
       "      <th>SUB_SOLAR_LONGITUDE</th>\n",
       "      <th>SUB_SOLAR_LATITUDE</th>\n",
       "      <th>SUB_SPACECRAFT_LONGITUDE</th>\n",
       "      <th>SUB_SPACECRAFT_LATITUDE</th>\n",
       "      <th>SOLAR_DISTANCE</th>\n",
       "      <th>SOLAR_LONGITUDE</th>\n",
       "      <th>LOCAL_TIME</th>\n",
       "      <th>IMAGE_SKEW_ANGLE</th>\n",
       "      <th>RATIONALE_DESC</th>\n",
       "      <th>DATA_QUALITY_DESC</th>\n",
       "      <th>ORBIT_NUMBER</th>\n",
       "      <th>short_pid</th>\n",
       "      <th>month_col</th>\n",
       "    </tr>\n",
       "  </thead>\n",
       "  <tbody>\n",
       "    <tr>\n",
       "      <th>0</th>\n",
       "      <td>MROX_0001</td>\n",
       "      <td>DATA/CRU_000001_9999_XN_99N999W.IMG</td>\n",
       "      <td>4A_04_0001000400</td>\n",
       "      <td>CRU_000001_9999_XN_99N999W</td>\n",
       "      <td>2005-08-30 15:40:21.549</td>\n",
       "      <td>CTX</td>\n",
       "      <td>NIFL</td>\n",
       "      <td>5056</td>\n",
       "      <td>1024</td>\n",
       "      <td>1</td>\n",
       "      <td>0.0</td>\n",
       "      <td>0.0</td>\n",
       "      <td>999.9</td>\n",
       "      <td>999.9</td>\n",
       "      <td>999.9</td>\n",
       "      <td>999.9</td>\n",
       "      <td>999.9</td>\n",
       "      <td>999.9</td>\n",
       "      <td>999.9</td>\n",
       "      <td>999.9</td>\n",
       "      <td>999.9</td>\n",
       "      <td>999.9</td>\n",
       "      <td>999.9</td>\n",
       "      <td>999.9</td>\n",
       "      <td>999.9</td>\n",
       "      <td>CRUISE</td>\n",
       "      <td>SPACE</td>\n",
       "      <td>0809883639:076</td>\n",
       "      <td>283.3</td>\n",
       "      <td>10.0</td>\n",
       "      <td>194/53/53</td>\n",
       "      <td>0</td>\n",
       "      <td>0.0</td>\n",
       "      <td>0.0</td>\n",
       "      <td>0.0</td>\n",
       "      <td>0.0</td>\n",
       "      <td>0.0</td>\n",
       "      <td>N</td>\n",
       "      <td>0.0</td>\n",
       "      <td>0.0</td>\n",
       "      <td>0.0</td>\n",
       "      <td>0.0</td>\n",
       "      <td>0.0</td>\n",
       "      <td>0.0</td>\n",
       "      <td>0.0</td>\n",
       "      <td>278.89</td>\n",
       "      <td>10.16</td>\n",
       "      <td>0.0</td>\n",
       "      <td>Instrument checkout image of space            ...</td>\n",
       "      <td>OK</td>\n",
       "      <td>-4242</td>\n",
       "      <td>CRU_000001_9999</td>\n",
       "      <td>CRU</td>\n",
       "    </tr>\n",
       "    <tr>\n",
       "      <th>1</th>\n",
       "      <td>MROX_0001</td>\n",
       "      <td>DATA/CRU_000002_9999_XN_99N999W.IMG</td>\n",
       "      <td>4A_04_0001000500</td>\n",
       "      <td>CRU_000002_9999_XN_99N999W</td>\n",
       "      <td>2005-09-08 15:59:45.313</td>\n",
       "      <td>CTX</td>\n",
       "      <td>NIFL</td>\n",
       "      <td>5056</td>\n",
       "      <td>15360</td>\n",
       "      <td>1</td>\n",
       "      <td>0.0</td>\n",
       "      <td>0.0</td>\n",
       "      <td>999.9</td>\n",
       "      <td>999.9</td>\n",
       "      <td>999.9</td>\n",
       "      <td>999.9</td>\n",
       "      <td>999.9</td>\n",
       "      <td>999.9</td>\n",
       "      <td>999.9</td>\n",
       "      <td>999.9</td>\n",
       "      <td>999.9</td>\n",
       "      <td>999.9</td>\n",
       "      <td>999.9</td>\n",
       "      <td>999.9</td>\n",
       "      <td>999.9</td>\n",
       "      <td>CRUISE</td>\n",
       "      <td>MOON</td>\n",
       "      <td>0810662403:012</td>\n",
       "      <td>296.0</td>\n",
       "      <td>5.71</td>\n",
       "      <td>196/243/238</td>\n",
       "      <td>0</td>\n",
       "      <td>0.0</td>\n",
       "      <td>0.0</td>\n",
       "      <td>0.0</td>\n",
       "      <td>0.0</td>\n",
       "      <td>0.0</td>\n",
       "      <td>N</td>\n",
       "      <td>0.0</td>\n",
       "      <td>0.0</td>\n",
       "      <td>0.0</td>\n",
       "      <td>0.0</td>\n",
       "      <td>0.0</td>\n",
       "      <td>0.0</td>\n",
       "      <td>0.0</td>\n",
       "      <td>284.48</td>\n",
       "      <td>4.6</td>\n",
       "      <td>0.0</td>\n",
       "      <td>Calibration image of the Moon                 ...</td>\n",
       "      <td>OK</td>\n",
       "      <td>-4126</td>\n",
       "      <td>CRU_000002_9999</td>\n",
       "      <td>CRU</td>\n",
       "    </tr>\n",
       "    <tr>\n",
       "      <th>2</th>\n",
       "      <td>MROX_0001</td>\n",
       "      <td>DATA/CRU_000003_9999_XN_99N999W.IMG</td>\n",
       "      <td>4A_04_0001000600</td>\n",
       "      <td>CRU_000003_9999_XN_99N999W</td>\n",
       "      <td>2005-09-08 16:03:37.927</td>\n",
       "      <td>CTX</td>\n",
       "      <td>NIFL</td>\n",
       "      <td>5056</td>\n",
       "      <td>2048</td>\n",
       "      <td>1</td>\n",
       "      <td>0.0</td>\n",
       "      <td>0.0</td>\n",
       "      <td>999.9</td>\n",
       "      <td>999.9</td>\n",
       "      <td>999.9</td>\n",
       "      <td>999.9</td>\n",
       "      <td>999.9</td>\n",
       "      <td>999.9</td>\n",
       "      <td>999.9</td>\n",
       "      <td>999.9</td>\n",
       "      <td>999.9</td>\n",
       "      <td>999.9</td>\n",
       "      <td>999.9</td>\n",
       "      <td>999.9</td>\n",
       "      <td>999.9</td>\n",
       "      <td>CRUISE</td>\n",
       "      <td>STAR</td>\n",
       "      <td>0810662635:169</td>\n",
       "      <td>296.6</td>\n",
       "      <td>22.9</td>\n",
       "      <td>196/243/238</td>\n",
       "      <td>0</td>\n",
       "      <td>0.0</td>\n",
       "      <td>0.0</td>\n",
       "      <td>0.0</td>\n",
       "      <td>0.0</td>\n",
       "      <td>0.0</td>\n",
       "      <td>N</td>\n",
       "      <td>0.0</td>\n",
       "      <td>0.0</td>\n",
       "      <td>0.0</td>\n",
       "      <td>0.0</td>\n",
       "      <td>0.0</td>\n",
       "      <td>0.0</td>\n",
       "      <td>0.0</td>\n",
       "      <td>284.48</td>\n",
       "      <td>4.66</td>\n",
       "      <td>0.0</td>\n",
       "      <td>Calibration image of Omega Centauri (globular ...</td>\n",
       "      <td>OK</td>\n",
       "      <td>-4126</td>\n",
       "      <td>CRU_000003_9999</td>\n",
       "      <td>CRU</td>\n",
       "    </tr>\n",
       "    <tr>\n",
       "      <th>3</th>\n",
       "      <td>MROX_0001</td>\n",
       "      <td>DATA/CRU_000004_9999_XN_99N999W.IMG</td>\n",
       "      <td>4A_04_0001000700</td>\n",
       "      <td>CRU_000004_9999_XN_99N999W</td>\n",
       "      <td>2005-09-08 16:08:23.841</td>\n",
       "      <td>CTX</td>\n",
       "      <td>NIFL</td>\n",
       "      <td>5056</td>\n",
       "      <td>2048</td>\n",
       "      <td>1</td>\n",
       "      <td>0.0</td>\n",
       "      <td>0.0</td>\n",
       "      <td>999.9</td>\n",
       "      <td>999.9</td>\n",
       "      <td>999.9</td>\n",
       "      <td>999.9</td>\n",
       "      <td>999.9</td>\n",
       "      <td>999.9</td>\n",
       "      <td>999.9</td>\n",
       "      <td>999.9</td>\n",
       "      <td>999.9</td>\n",
       "      <td>999.9</td>\n",
       "      <td>999.9</td>\n",
       "      <td>999.9</td>\n",
       "      <td>999.9</td>\n",
       "      <td>CRUISE</td>\n",
       "      <td>STAR</td>\n",
       "      <td>0810662921:147</td>\n",
       "      <td>296.8</td>\n",
       "      <td>22.9</td>\n",
       "      <td>196/243/238</td>\n",
       "      <td>0</td>\n",
       "      <td>0.0</td>\n",
       "      <td>0.0</td>\n",
       "      <td>0.0</td>\n",
       "      <td>0.0</td>\n",
       "      <td>0.0</td>\n",
       "      <td>N</td>\n",
       "      <td>0.0</td>\n",
       "      <td>0.0</td>\n",
       "      <td>0.0</td>\n",
       "      <td>0.0</td>\n",
       "      <td>0.0</td>\n",
       "      <td>0.0</td>\n",
       "      <td>0.0</td>\n",
       "      <td>284.48</td>\n",
       "      <td>4.74</td>\n",
       "      <td>0.0</td>\n",
       "      <td>Calibration image of Omega Centauri (globular ...</td>\n",
       "      <td>OK</td>\n",
       "      <td>-4126</td>\n",
       "      <td>CRU_000004_9999</td>\n",
       "      <td>CRU</td>\n",
       "    </tr>\n",
       "    <tr>\n",
       "      <th>4</th>\n",
       "      <td>MROX_0001</td>\n",
       "      <td>DATA/CRU_000005_9999_XN_99N999W.IMG</td>\n",
       "      <td>4A_04_0001000800</td>\n",
       "      <td>CRU_000005_9999_XN_99N999W</td>\n",
       "      <td>2005-09-08 16:11:18.649</td>\n",
       "      <td>CTX</td>\n",
       "      <td>NIFL</td>\n",
       "      <td>5056</td>\n",
       "      <td>21504</td>\n",
       "      <td>1</td>\n",
       "      <td>0.0</td>\n",
       "      <td>0.0</td>\n",
       "      <td>999.9</td>\n",
       "      <td>999.9</td>\n",
       "      <td>999.9</td>\n",
       "      <td>999.9</td>\n",
       "      <td>999.9</td>\n",
       "      <td>999.9</td>\n",
       "      <td>999.9</td>\n",
       "      <td>999.9</td>\n",
       "      <td>999.9</td>\n",
       "      <td>999.9</td>\n",
       "      <td>999.9</td>\n",
       "      <td>999.9</td>\n",
       "      <td>999.9</td>\n",
       "      <td>CRUISE</td>\n",
       "      <td>MOON</td>\n",
       "      <td>0810663096:098</td>\n",
       "      <td>297.1</td>\n",
       "      <td>5.71</td>\n",
       "      <td>196/243/238</td>\n",
       "      <td>0</td>\n",
       "      <td>0.0</td>\n",
       "      <td>0.0</td>\n",
       "      <td>0.0</td>\n",
       "      <td>0.0</td>\n",
       "      <td>0.0</td>\n",
       "      <td>N</td>\n",
       "      <td>0.0</td>\n",
       "      <td>0.0</td>\n",
       "      <td>0.0</td>\n",
       "      <td>0.0</td>\n",
       "      <td>0.0</td>\n",
       "      <td>0.0</td>\n",
       "      <td>0.0</td>\n",
       "      <td>284.48</td>\n",
       "      <td>4.79</td>\n",
       "      <td>0.0</td>\n",
       "      <td>Calibration image of the Moon                 ...</td>\n",
       "      <td>OK</td>\n",
       "      <td>-4126</td>\n",
       "      <td>CRU_000005_9999</td>\n",
       "      <td>CRU</td>\n",
       "    </tr>\n",
       "    <tr>\n",
       "      <th>...</th>\n",
       "      <td>...</td>\n",
       "      <td>...</td>\n",
       "      <td>...</td>\n",
       "      <td>...</td>\n",
       "      <td>...</td>\n",
       "      <td>...</td>\n",
       "      <td>...</td>\n",
       "      <td>...</td>\n",
       "      <td>...</td>\n",
       "      <td>...</td>\n",
       "      <td>...</td>\n",
       "      <td>...</td>\n",
       "      <td>...</td>\n",
       "      <td>...</td>\n",
       "      <td>...</td>\n",
       "      <td>...</td>\n",
       "      <td>...</td>\n",
       "      <td>...</td>\n",
       "      <td>...</td>\n",
       "      <td>...</td>\n",
       "      <td>...</td>\n",
       "      <td>...</td>\n",
       "      <td>...</td>\n",
       "      <td>...</td>\n",
       "      <td>...</td>\n",
       "      <td>...</td>\n",
       "      <td>...</td>\n",
       "      <td>...</td>\n",
       "      <td>...</td>\n",
       "      <td>...</td>\n",
       "      <td>...</td>\n",
       "      <td>...</td>\n",
       "      <td>...</td>\n",
       "      <td>...</td>\n",
       "      <td>...</td>\n",
       "      <td>...</td>\n",
       "      <td>...</td>\n",
       "      <td>...</td>\n",
       "      <td>...</td>\n",
       "      <td>...</td>\n",
       "      <td>...</td>\n",
       "      <td>...</td>\n",
       "      <td>...</td>\n",
       "      <td>...</td>\n",
       "      <td>...</td>\n",
       "      <td>...</td>\n",
       "      <td>...</td>\n",
       "      <td>...</td>\n",
       "      <td>...</td>\n",
       "      <td>...</td>\n",
       "      <td>...</td>\n",
       "      <td>...</td>\n",
       "      <td>...</td>\n",
       "    </tr>\n",
       "    <tr>\n",
       "      <th>149377</th>\n",
       "      <td>MROX_4896</td>\n",
       "      <td>DATA/V06_082476_1989_XI_18N075W.IMG</td>\n",
       "      <td>4A_04_11A3017300</td>\n",
       "      <td>V06_082476_1989_XI_18N075W</td>\n",
       "      <td>2024-02-29 20:23:08.773</td>\n",
       "      <td>CTX</td>\n",
       "      <td>ITL</td>\n",
       "      <td>5056</td>\n",
       "      <td>26624</td>\n",
       "      <td>1</td>\n",
       "      <td>5.71</td>\n",
       "      <td>1.05</td>\n",
       "      <td>7.84</td>\n",
       "      <td>64.15</td>\n",
       "      <td>56.71</td>\n",
       "      <td>74.95</td>\n",
       "      <td>18.97</td>\n",
       "      <td>75.03</td>\n",
       "      <td>17.6</td>\n",
       "      <td>74.53</td>\n",
       "      <td>17.66</td>\n",
       "      <td>75.37</td>\n",
       "      <td>20.28</td>\n",
       "      <td>74.85</td>\n",
       "      <td>20.34</td>\n",
       "      <td>ESP</td>\n",
       "      <td>MARS</td>\n",
       "      <td>1393705448:224</td>\n",
       "      <td>293.0</td>\n",
       "      <td>1.877</td>\n",
       "      <td>197/202/197</td>\n",
       "      <td>0</td>\n",
       "      <td>28.58</td>\n",
       "      <td>159.7</td>\n",
       "      <td>280.33</td>\n",
       "      <td>3674.45</td>\n",
       "      <td>282.77</td>\n",
       "      <td>N</td>\n",
       "      <td>276.78</td>\n",
       "      <td>162.84</td>\n",
       "      <td>132.16</td>\n",
       "      <td>-11.78</td>\n",
       "      <td>75.58</td>\n",
       "      <td>18.91</td>\n",
       "      <td>211484456.2</td>\n",
       "      <td>208.3</td>\n",
       "      <td>15.81</td>\n",
       "      <td>90.0</td>\n",
       "      <td>Sacra Sulci                                   ...</td>\n",
       "      <td>OK</td>\n",
       "      <td>82476</td>\n",
       "      <td>V06_082476_1989</td>\n",
       "      <td>V06</td>\n",
       "    </tr>\n",
       "    <tr>\n",
       "      <th>149378</th>\n",
       "      <td>MROX_4896</td>\n",
       "      <td>DATA/V06_082477_1528_XI_27S096W.IMG</td>\n",
       "      <td>4A_04_11A3017400</td>\n",
       "      <td>V06_082477_1528_XI_27S096W</td>\n",
       "      <td>2024-02-29 22:01:18.785</td>\n",
       "      <td>CTX</td>\n",
       "      <td>ITL</td>\n",
       "      <td>5056</td>\n",
       "      <td>12288</td>\n",
       "      <td>1</td>\n",
       "      <td>5.35</td>\n",
       "      <td>1.14</td>\n",
       "      <td>12.61</td>\n",
       "      <td>58.01</td>\n",
       "      <td>45.62</td>\n",
       "      <td>96.13</td>\n",
       "      <td>-27.23</td>\n",
       "      <td>96.29</td>\n",
       "      <td>-27.89</td>\n",
       "      <td>95.79</td>\n",
       "      <td>-27.83</td>\n",
       "      <td>96.47</td>\n",
       "      <td>-26.64</td>\n",
       "      <td>95.97</td>\n",
       "      <td>-26.58</td>\n",
       "      <td>ESP</td>\n",
       "      <td>MARS</td>\n",
       "      <td>1393711338:227</td>\n",
       "      <td>292.8</td>\n",
       "      <td>1.877</td>\n",
       "      <td>197/202/197</td>\n",
       "      <td>0</td>\n",
       "      <td>26.79</td>\n",
       "      <td>74.7</td>\n",
       "      <td>255.43</td>\n",
       "      <td>3647.45</td>\n",
       "      <td>261.28</td>\n",
       "      <td>N</td>\n",
       "      <td>277.34</td>\n",
       "      <td>190.26</td>\n",
       "      <td>155.98</td>\n",
       "      <td>-11.8</td>\n",
       "      <td>97.13</td>\n",
       "      <td>-27.34</td>\n",
       "      <td>211475111.8</td>\n",
       "      <td>208.34</td>\n",
       "      <td>15.99</td>\n",
       "      <td>90.1</td>\n",
       "      <td>Solis Planum                                  ...</td>\n",
       "      <td>OK</td>\n",
       "      <td>82477</td>\n",
       "      <td>V06_082477_1528</td>\n",
       "      <td>V06</td>\n",
       "    </tr>\n",
       "    <tr>\n",
       "      <th>149379</th>\n",
       "      <td>MROX_4896</td>\n",
       "      <td>DATA/V06_082477_2146_XI_34N106W.IMG</td>\n",
       "      <td>4A_04_11A3017500</td>\n",
       "      <td>V06_082477_2146_XI_34N106W</td>\n",
       "      <td>2024-02-29 22:20:17.746</td>\n",
       "      <td>CTX</td>\n",
       "      <td>ITL</td>\n",
       "      <td>5056</td>\n",
       "      <td>27648</td>\n",
       "      <td>1</td>\n",
       "      <td>5.99</td>\n",
       "      <td>1.0</td>\n",
       "      <td>9.54</td>\n",
       "      <td>69.49</td>\n",
       "      <td>78.28</td>\n",
       "      <td>105.96</td>\n",
       "      <td>34.67</td>\n",
       "      <td>106.04</td>\n",
       "      <td>33.26</td>\n",
       "      <td>105.44</td>\n",
       "      <td>33.32</td>\n",
       "      <td>106.48</td>\n",
       "      <td>36.01</td>\n",
       "      <td>105.86</td>\n",
       "      <td>36.08</td>\n",
       "      <td>ESP</td>\n",
       "      <td>MARS</td>\n",
       "      <td>1393712477:217</td>\n",
       "      <td>292.8</td>\n",
       "      <td>1.877</td>\n",
       "      <td>197/202/197</td>\n",
       "      <td>0</td>\n",
       "      <td>30.01</td>\n",
       "      <td>164.48</td>\n",
       "      <td>292.13</td>\n",
       "      <td>3681.88</td>\n",
       "      <td>295.9</td>\n",
       "      <td>N</td>\n",
       "      <td>277.47</td>\n",
       "      <td>155.96</td>\n",
       "      <td>160.66</td>\n",
       "      <td>-11.8</td>\n",
       "      <td>105.04</td>\n",
       "      <td>34.77</td>\n",
       "      <td>211473941.2</td>\n",
       "      <td>208.35</td>\n",
       "      <td>15.64</td>\n",
       "      <td>90.0</td>\n",
       "      <td>Tantalus Fossae                               ...</td>\n",
       "      <td>OK</td>\n",
       "      <td>82477</td>\n",
       "      <td>V06_082477_2146</td>\n",
       "      <td>V06</td>\n",
       "    </tr>\n",
       "    <tr>\n",
       "      <th>149380</th>\n",
       "      <td>MROX_4896</td>\n",
       "      <td>DATA/V06_082478_1143_XN_65S116W.IMG</td>\n",
       "      <td>4A_04_11A2017600</td>\n",
       "      <td>V06_082478_1143_XN_65S116W</td>\n",
       "      <td>2024-02-29 23:41:14.902</td>\n",
       "      <td>CTX</td>\n",
       "      <td>NIFL</td>\n",
       "      <td>3776</td>\n",
       "      <td>36864</td>\n",
       "      <td>1</td>\n",
       "      <td>5.0</td>\n",
       "      <td>1.21</td>\n",
       "      <td>0.78</td>\n",
       "      <td>68.7</td>\n",
       "      <td>67.97</td>\n",
       "      <td>116.83</td>\n",
       "      <td>-65.81</td>\n",
       "      <td>116.54</td>\n",
       "      <td>-67.68</td>\n",
       "      <td>115.71</td>\n",
       "      <td>-67.63</td>\n",
       "      <td>117.82</td>\n",
       "      <td>-63.97</td>\n",
       "      <td>117.11</td>\n",
       "      <td>-63.93</td>\n",
       "      <td>ESP</td>\n",
       "      <td>MARS</td>\n",
       "      <td>1393717335:001</td>\n",
       "      <td>292.9</td>\n",
       "      <td>1.877</td>\n",
       "      <td>197/202/197</td>\n",
       "      <td>1280</td>\n",
       "      <td>18.77</td>\n",
       "      <td>222.14</td>\n",
       "      <td>251.48</td>\n",
       "      <td>3631.08</td>\n",
       "      <td>251.5</td>\n",
       "      <td>N</td>\n",
       "      <td>278.42</td>\n",
       "      <td>208.11</td>\n",
       "      <td>180.39</td>\n",
       "      <td>-11.81</td>\n",
       "      <td>116.96</td>\n",
       "      <td>-65.81</td>\n",
       "      <td>211466434.6</td>\n",
       "      <td>208.39</td>\n",
       "      <td>16.23</td>\n",
       "      <td>90.3</td>\n",
       "      <td>Southern highlands                            ...</td>\n",
       "      <td>OK</td>\n",
       "      <td>82478</td>\n",
       "      <td>V06_082478_1143</td>\n",
       "      <td>V06</td>\n",
       "    </tr>\n",
       "    <tr>\n",
       "      <th>149381</th>\n",
       "      <td>MROX_4896</td>\n",
       "      <td>DATA/V06_082478_1342_XN_45S121W.IMG</td>\n",
       "      <td>4A_04_11A2017700</td>\n",
       "      <td>V06_082478_1342_XN_45S121W</td>\n",
       "      <td>2024-02-29 23:47:51.324</td>\n",
       "      <td>CTX</td>\n",
       "      <td>NIFL</td>\n",
       "      <td>3776</td>\n",
       "      <td>8192</td>\n",
       "      <td>1</td>\n",
       "      <td>5.03</td>\n",
       "      <td>1.2</td>\n",
       "      <td>0.79</td>\n",
       "      <td>61.03</td>\n",
       "      <td>61.73</td>\n",
       "      <td>121.73</td>\n",
       "      <td>-45.93</td>\n",
       "      <td>121.89</td>\n",
       "      <td>-46.36</td>\n",
       "      <td>121.43</td>\n",
       "      <td>-46.32</td>\n",
       "      <td>122.03</td>\n",
       "      <td>-45.53</td>\n",
       "      <td>121.58</td>\n",
       "      <td>-45.49</td>\n",
       "      <td>ESP</td>\n",
       "      <td>MARS</td>\n",
       "      <td>1393717731:109</td>\n",
       "      <td>292.8</td>\n",
       "      <td>1.877</td>\n",
       "      <td>197/202/197</td>\n",
       "      <td>0</td>\n",
       "      <td>18.9</td>\n",
       "      <td>49.56</td>\n",
       "      <td>252.79</td>\n",
       "      <td>3638.73</td>\n",
       "      <td>252.81</td>\n",
       "      <td>N</td>\n",
       "      <td>276.8</td>\n",
       "      <td>200.54</td>\n",
       "      <td>181.89</td>\n",
       "      <td>-11.81</td>\n",
       "      <td>121.66</td>\n",
       "      <td>-45.91</td>\n",
       "      <td>211465455.7</td>\n",
       "      <td>208.39</td>\n",
       "      <td>16.01</td>\n",
       "      <td>90.1</td>\n",
       "      <td>Crater in Terra Sirenum                       ...</td>\n",
       "      <td>OK</td>\n",
       "      <td>82478</td>\n",
       "      <td>V06_082478_1342</td>\n",
       "      <td>V06</td>\n",
       "    </tr>\n",
       "  </tbody>\n",
       "</table>\n",
       "<p>149382 rows × 53 columns</p>\n",
       "</div>"
      ],
      "text/plain": [
       "        VOLUME_ID              FILE_SPECIFICATION_NAME ORIGINAL_PRODUCT_ID  \\\n",
       "0       MROX_0001  DATA/CRU_000001_9999_XN_99N999W.IMG    4A_04_0001000400   \n",
       "1       MROX_0001  DATA/CRU_000002_9999_XN_99N999W.IMG    4A_04_0001000500   \n",
       "2       MROX_0001  DATA/CRU_000003_9999_XN_99N999W.IMG    4A_04_0001000600   \n",
       "3       MROX_0001  DATA/CRU_000004_9999_XN_99N999W.IMG    4A_04_0001000700   \n",
       "4       MROX_0001  DATA/CRU_000005_9999_XN_99N999W.IMG    4A_04_0001000800   \n",
       "...           ...                                  ...                 ...   \n",
       "149377  MROX_4896  DATA/V06_082476_1989_XI_18N075W.IMG    4A_04_11A3017300   \n",
       "149378  MROX_4896  DATA/V06_082477_1528_XI_27S096W.IMG    4A_04_11A3017400   \n",
       "149379  MROX_4896  DATA/V06_082477_2146_XI_34N106W.IMG    4A_04_11A3017500   \n",
       "149380  MROX_4896  DATA/V06_082478_1143_XN_65S116W.IMG    4A_04_11A2017600   \n",
       "149381  MROX_4896  DATA/V06_082478_1342_XN_45S121W.IMG    4A_04_11A2017700   \n",
       "\n",
       "                        PRODUCT_ID              IMAGE_TIME INSTRUMENT_ID  \\\n",
       "0       CRU_000001_9999_XN_99N999W 2005-08-30 15:40:21.549        CTX      \n",
       "1       CRU_000002_9999_XN_99N999W 2005-09-08 15:59:45.313        CTX      \n",
       "2       CRU_000003_9999_XN_99N999W 2005-09-08 16:03:37.927        CTX      \n",
       "3       CRU_000004_9999_XN_99N999W 2005-09-08 16:08:23.841        CTX      \n",
       "4       CRU_000005_9999_XN_99N999W 2005-09-08 16:11:18.649        CTX      \n",
       "...                            ...                     ...           ...   \n",
       "149377  V06_082476_1989_XI_18N075W 2024-02-29 20:23:08.773        CTX      \n",
       "149378  V06_082477_1528_XI_27S096W 2024-02-29 22:01:18.785        CTX      \n",
       "149379  V06_082477_2146_XI_34N106W 2024-02-29 22:20:17.746        CTX      \n",
       "149380  V06_082478_1143_XN_65S116W 2024-02-29 23:41:14.902        CTX      \n",
       "149381  V06_082478_1342_XN_45S121W 2024-02-29 23:47:51.324        CTX      \n",
       "\n",
       "       INSTRUMENT_MODE_ID  LINE_SAMPLES  LINES  SPATIAL_SUMMING  \\\n",
       "0                   NIFL           5056   1024                1   \n",
       "1                   NIFL           5056  15360                1   \n",
       "2                   NIFL           5056   2048                1   \n",
       "3                   NIFL           5056   2048                1   \n",
       "4                   NIFL           5056  21504                1   \n",
       "...                   ...           ...    ...              ...   \n",
       "149377              ITL            5056  26624                1   \n",
       "149378              ITL            5056  12288                1   \n",
       "149379              ITL            5056  27648                1   \n",
       "149380              NIFL           3776  36864                1   \n",
       "149381              NIFL           3776   8192                1   \n",
       "\n",
       "        SCALED_PIXEL_WIDTH  PIXEL_ASPECT_RATIO  EMISSION_ANGLE  \\\n",
       "0                      0.0                 0.0           999.9   \n",
       "1                      0.0                 0.0           999.9   \n",
       "2                      0.0                 0.0           999.9   \n",
       "3                      0.0                 0.0           999.9   \n",
       "4                      0.0                 0.0           999.9   \n",
       "...                    ...                 ...             ...   \n",
       "149377                5.71                1.05            7.84   \n",
       "149378                5.35                1.14           12.61   \n",
       "149379                5.99                 1.0            9.54   \n",
       "149380                 5.0                1.21            0.78   \n",
       "149381                5.03                 1.2            0.79   \n",
       "\n",
       "        INCIDENCE_ANGLE  PHASE_ANGLE  CENTER_LONGITUDE  CENTER_LATITUDE  \\\n",
       "0                 999.9        999.9             999.9            999.9   \n",
       "1                 999.9        999.9             999.9            999.9   \n",
       "2                 999.9        999.9             999.9            999.9   \n",
       "3                 999.9        999.9             999.9            999.9   \n",
       "4                 999.9        999.9             999.9            999.9   \n",
       "...                 ...          ...               ...              ...   \n",
       "149377            64.15        56.71             74.95            18.97   \n",
       "149378            58.01        45.62             96.13           -27.23   \n",
       "149379            69.49        78.28            105.96            34.67   \n",
       "149380             68.7        67.97            116.83           -65.81   \n",
       "149381            61.03        61.73            121.73           -45.93   \n",
       "\n",
       "        UPPER_LEFT_LONGITUDE  UPPER_LEFT_LATITUDE  UPPER_RIGHT_LONGITUDE  \\\n",
       "0                      999.9                999.9                  999.9   \n",
       "1                      999.9                999.9                  999.9   \n",
       "2                      999.9                999.9                  999.9   \n",
       "3                      999.9                999.9                  999.9   \n",
       "4                      999.9                999.9                  999.9   \n",
       "...                      ...                  ...                    ...   \n",
       "149377                 75.03                 17.6                  74.53   \n",
       "149378                 96.29               -27.89                  95.79   \n",
       "149379                106.04                33.26                 105.44   \n",
       "149380                116.54               -67.68                 115.71   \n",
       "149381                121.89               -46.36                 121.43   \n",
       "\n",
       "        UPPER_RIGHT_LATITUDE  LOWER_LEFT_LONGITUDE  LOWER_LEFT_LATITUDE  \\\n",
       "0                      999.9                 999.9                999.9   \n",
       "1                      999.9                 999.9                999.9   \n",
       "2                      999.9                 999.9                999.9   \n",
       "3                      999.9                 999.9                999.9   \n",
       "4                      999.9                 999.9                999.9   \n",
       "...                      ...                   ...                  ...   \n",
       "149377                 17.66                 75.37                20.28   \n",
       "149378                -27.83                 96.47               -26.64   \n",
       "149379                 33.32                106.48                36.01   \n",
       "149380                -67.63                117.82               -63.97   \n",
       "149381                -46.32                122.03               -45.53   \n",
       "\n",
       "        LOWER_RIGHT_LONGITUDE  LOWER_RIGHT_LATITUDE MISSION_PHASE_NAME  \\\n",
       "0                       999.9                 999.9         CRUISE       \n",
       "1                       999.9                 999.9         CRUISE       \n",
       "2                       999.9                 999.9         CRUISE       \n",
       "3                       999.9                 999.9         CRUISE       \n",
       "4                       999.9                 999.9         CRUISE       \n",
       "...                       ...                   ...                ...   \n",
       "149377                  74.85                 20.34         ESP          \n",
       "149378                  95.97                -26.58         ESP          \n",
       "149379                 105.86                 36.08         ESP          \n",
       "149380                 117.11                -63.93         ESP          \n",
       "149381                 121.58                -45.49         ESP          \n",
       "\n",
       "       TARGET_NAME SPACECRAFT_CLOCK_START_COUNT  FOCAL_PLANE_TEMPERATURE  \\\n",
       "0           SPACE               0809883639:076                     283.3   \n",
       "1           MOON                0810662403:012                     296.0   \n",
       "2           STAR                0810662635:169                     296.6   \n",
       "3           STAR                0810662921:147                     296.8   \n",
       "4           MOON                0810663096:098                     297.1   \n",
       "...            ...                          ...                      ...   \n",
       "149377      MARS                1393705448:224                     293.0   \n",
       "149378      MARS                1393711338:227                     292.8   \n",
       "149379      MARS                1393712477:217                     292.8   \n",
       "149380      MARS                1393717335:001                     292.9   \n",
       "149381      MARS                1393717731:109                     292.8   \n",
       "\n",
       "        LINE_EXPOSURE_DURATION OFFSET_MODE_ID  SAMPLE_FIRST_PIXEL  \\\n",
       "0                         10.0    194/53/53                     0   \n",
       "1                         5.71    196/243/238                   0   \n",
       "2                         22.9    196/243/238                   0   \n",
       "3                         22.9    196/243/238                   0   \n",
       "4                         5.71    196/243/238                   0   \n",
       "...                        ...            ...                 ...   \n",
       "149377                   1.877    197/202/197                   0   \n",
       "149378                   1.877    197/202/197                   0   \n",
       "149379                   1.877    197/202/197                   0   \n",
       "149380                   1.877    197/202/197                1280   \n",
       "149381                   1.877    197/202/197                   0   \n",
       "\n",
       "        SCALED_IMAGE_WIDTH  SCALED_IMAGE_HEIGHT  SPACECRAFT_ALTITUDE  \\\n",
       "0                      0.0                  0.0                  0.0   \n",
       "1                      0.0                  0.0                  0.0   \n",
       "2                      0.0                  0.0                  0.0   \n",
       "3                      0.0                  0.0                  0.0   \n",
       "4                      0.0                  0.0                  0.0   \n",
       "...                    ...                  ...                  ...   \n",
       "149377               28.58                159.7               280.33   \n",
       "149378               26.79                 74.7               255.43   \n",
       "149379               30.01               164.48               292.13   \n",
       "149380               18.77               222.14               251.48   \n",
       "149381                18.9                49.56               252.79   \n",
       "\n",
       "        TARGET_CENTER_DISTANCE  SLANT_DISTANCE USAGE_NOTE  NORTH_AZIMUTH  \\\n",
       "0                          0.0             0.0          N            0.0   \n",
       "1                          0.0             0.0          N            0.0   \n",
       "2                          0.0             0.0          N            0.0   \n",
       "3                          0.0             0.0          N            0.0   \n",
       "4                          0.0             0.0          N            0.0   \n",
       "...                        ...             ...        ...            ...   \n",
       "149377                 3674.45          282.77          N         276.78   \n",
       "149378                 3647.45          261.28          N         277.34   \n",
       "149379                 3681.88           295.9          N         277.47   \n",
       "149380                 3631.08           251.5          N         278.42   \n",
       "149381                 3638.73          252.81          N          276.8   \n",
       "\n",
       "        SUB_SOLAR_AZIMUTH  SUB_SOLAR_LONGITUDE  SUB_SOLAR_LATITUDE  \\\n",
       "0                     0.0                  0.0                 0.0   \n",
       "1                     0.0                  0.0                 0.0   \n",
       "2                     0.0                  0.0                 0.0   \n",
       "3                     0.0                  0.0                 0.0   \n",
       "4                     0.0                  0.0                 0.0   \n",
       "...                   ...                  ...                 ...   \n",
       "149377             162.84               132.16              -11.78   \n",
       "149378             190.26               155.98               -11.8   \n",
       "149379             155.96               160.66               -11.8   \n",
       "149380             208.11               180.39              -11.81   \n",
       "149381             200.54               181.89              -11.81   \n",
       "\n",
       "        SUB_SPACECRAFT_LONGITUDE  SUB_SPACECRAFT_LATITUDE  SOLAR_DISTANCE  \\\n",
       "0                            0.0                      0.0             0.0   \n",
       "1                            0.0                      0.0             0.0   \n",
       "2                            0.0                      0.0             0.0   \n",
       "3                            0.0                      0.0             0.0   \n",
       "4                            0.0                      0.0             0.0   \n",
       "...                          ...                      ...             ...   \n",
       "149377                     75.58                    18.91     211484456.2   \n",
       "149378                     97.13                   -27.34     211475111.8   \n",
       "149379                    105.04                    34.77     211473941.2   \n",
       "149380                    116.96                   -65.81     211466434.6   \n",
       "149381                    121.66                   -45.91     211465455.7   \n",
       "\n",
       "        SOLAR_LONGITUDE  LOCAL_TIME  IMAGE_SKEW_ANGLE  \\\n",
       "0                278.89       10.16               0.0   \n",
       "1                284.48         4.6               0.0   \n",
       "2                284.48        4.66               0.0   \n",
       "3                284.48        4.74               0.0   \n",
       "4                284.48        4.79               0.0   \n",
       "...                 ...         ...               ...   \n",
       "149377            208.3       15.81              90.0   \n",
       "149378           208.34       15.99              90.1   \n",
       "149379           208.35       15.64              90.0   \n",
       "149380           208.39       16.23              90.3   \n",
       "149381           208.39       16.01              90.1   \n",
       "\n",
       "                                           RATIONALE_DESC DATA_QUALITY_DESC  \\\n",
       "0       Instrument checkout image of space            ...            OK       \n",
       "1       Calibration image of the Moon                 ...            OK       \n",
       "2       Calibration image of Omega Centauri (globular ...            OK       \n",
       "3       Calibration image of Omega Centauri (globular ...            OK       \n",
       "4       Calibration image of the Moon                 ...            OK       \n",
       "...                                                   ...               ...   \n",
       "149377  Sacra Sulci                                   ...            OK       \n",
       "149378  Solis Planum                                  ...            OK       \n",
       "149379  Tantalus Fossae                               ...            OK       \n",
       "149380  Southern highlands                            ...            OK       \n",
       "149381  Crater in Terra Sirenum                       ...            OK       \n",
       "\n",
       "        ORBIT_NUMBER        short_pid month_col  \n",
       "0              -4242  CRU_000001_9999       CRU  \n",
       "1              -4126  CRU_000002_9999       CRU  \n",
       "2              -4126  CRU_000003_9999       CRU  \n",
       "3              -4126  CRU_000004_9999       CRU  \n",
       "4              -4126  CRU_000005_9999       CRU  \n",
       "...              ...              ...       ...  \n",
       "149377         82476  V06_082476_1989       V06  \n",
       "149378         82477  V06_082477_1528       V06  \n",
       "149379         82477  V06_082477_2146       V06  \n",
       "149380         82478  V06_082478_1143       V06  \n",
       "149381         82478  V06_082478_1342       V06  \n",
       "\n",
       "[149382 rows x 53 columns]"
      ]
     },
     "execution_count": 8,
     "metadata": {},
     "output_type": "execute_result"
    }
   ],
   "source": [
    "get_edr_index(False)"
   ]
  },
  {
   "cell_type": "code",
   "execution_count": 9,
   "id": "9ec711aa-16b5-4583-a10c-74256d64b919",
   "metadata": {},
   "outputs": [],
   "source": [
    "# | export\n",
    "class CTXEDR:\n",
    "    \"\"\"Manage access to EDR data\"\"\"\n",
    "\n",
    "    root = config.get_value(\"mro.ctx.datalevels.edr.root\") or storage_root / \"edr\"\n",
    "    with_pid_folder = config.get_value(\"mro.ctx.datalevels.edr.with_pid_folder\")\n",
    "    with_volume = config.get_value(\"mro.ctx.datalevels.edr.with_volume\")\n",
    "\n",
    "    def __init__(\n",
    "        self,\n",
    "        pid: str,  # CTX product id (pid)\n",
    "        root: str = \"\",  # alternative root folder for EDR data\n",
    "        with_volume=None,  # does the storage path include the volume folder\n",
    "        with_pid_folder=None,  # control if stuff is stored inside PID folders\n",
    "        refresh_index=False,\n",
    "    ):\n",
    "        self.pid = pid\n",
    "        self.root = Path(root) if root else Path(self.root)\n",
    "        self.with_volume = with_volume if with_volume is not None else self.with_volume\n",
    "        self.with_pid_folder = (\n",
    "            with_pid_folder if with_pid_folder is not None else self.with_pid_folder\n",
    "        )\n",
    "        self.refresh_index = refresh_index\n",
    "        self.edrindex = None\n",
    "\n",
    "    @property\n",
    "    def pid(self):\n",
    "        \"Return product_id\"\n",
    "        return self._pid\n",
    "\n",
    "    @pid.setter\n",
    "    def pid(self, value):\n",
    "        if len(value) < 26:\n",
    "            val = value[:15]  # use short_pid\n",
    "            self.edrindex = get_edr_index()\n",
    "            value = self.edrindex.query(f\"short_pid=='{val}'\").PRODUCT_ID.iloc[0]\n",
    "        self._pid = value\n",
    "\n",
    "    @property\n",
    "    def short_pid(self):\n",
    "        return self.pid[:15]\n",
    "\n",
    "    @property\n",
    "    def meta(self):\n",
    "        \"get the metadata from the index table\"\n",
    "        edrindex = get_edr_index(refresh=self.refresh_index)\n",
    "        s = edrindex.query(\"PRODUCT_ID == @self.pid\").squeeze()\n",
    "        s.index = s.index.str.lower()\n",
    "        return s\n",
    "\n",
    "    @property\n",
    "    def volume(self):\n",
    "        \"get the PDS volume number for the current product id\"\n",
    "        return self.meta.volume_id.lower()\n",
    "\n",
    "    @property\n",
    "    def source_folder(self):\n",
    "        \"\"\"Calculate the source folder based on storage options `with_pid_folder` and `with_volume`.\"\"\"\n",
    "        base = self.root\n",
    "        if self.with_volume:\n",
    "            base = self.root / self.volume\n",
    "        if self.with_pid_folder:\n",
    "            base = base / self.pid\n",
    "        return base\n",
    "\n",
    "    @property\n",
    "    def source_path(self):\n",
    "        \"\"\"Combine `source_folder` with `pid` into full path.\"\"\"\n",
    "        return self.source_folder / f\"{self.pid}.IMG\"\n",
    "\n",
    "    @property\n",
    "    def url(self):\n",
    "        \"Calculate URL from input dataframe row.\"\n",
    "        url = baseurl / self.meta.volume_id.lower() / \"data\" / (self.pid + \".IMG\")\n",
    "        return url\n",
    "\n",
    "    def download(self, overwrite=False):  # use `overwrite` to download in all cases.\n",
    "        \"Download and store correctly the EDR data, if not locally available.\"\n",
    "        if self.source_path.exists() and not overwrite:\n",
    "            print(\"File exists. Use `overwrite=True` to download fresh.\")\n",
    "            return\n",
    "        self.source_folder.mkdir(parents=True, exist_ok=True)\n",
    "        url_retrieve(self.url, self.source_path)\n",
    "\n",
    "    def __str__(self):\n",
    "        \"Show some info about yourself when returned in a REPL (like ipython/jupyter).\"\n",
    "        s = f\"PRODUCT_ID: {self.pid}\\n\"\n",
    "        s += f\"URL: {self.url}\\n\"\n",
    "        s += f\"source_path: {self.source_path}\\n\"\n",
    "        return s\n",
    "\n",
    "    def __repr__(self):\n",
    "        return self.__str__()"
   ]
  },
  {
   "cell_type": "markdown",
   "id": "c0535027-454c-4e4d-bf1b-1eaee5af4b19",
   "metadata": {},
   "source": [
    "PRODUCT_IDs can be provided in the shortened form (still unique), which are the first 15 characters of the full PRODUCT_ID:"
   ]
  },
  {
   "cell_type": "code",
   "execution_count": 10,
   "id": "75a1637c-b498-4623-aa88-1a6bf5eebd7d",
   "metadata": {},
   "outputs": [],
   "source": [
    "pid = \"F10_039666_1383\"\n",
    "pid = \"B01_009958_1524_XI_27S347W\""
   ]
  },
  {
   "cell_type": "code",
   "execution_count": 11,
   "id": "de99b299-8714-4b2c-89ba-8e5eaf412f3f",
   "metadata": {},
   "outputs": [],
   "source": [
    "edr = CTXEDR(pid)"
   ]
  },
  {
   "cell_type": "code",
   "execution_count": 12,
   "id": "e3c09b07-f86b-4af3-aa75-b63206efcb15",
   "metadata": {},
   "outputs": [
    {
     "data": {
      "text/markdown": [
       "---\n",
       "\n",
       "[source](https://github.com/michaelaye/nbplanetary/blob/master/planetarypy/ctx.py#L87){target=\"_blank\" style=\"float:right; font-size:smaller\"}\n",
       "\n",
       "### CTXEDR.pid\n",
       "\n",
       ">      CTXEDR.pid ()\n",
       "\n",
       "*Return product_id*"
      ],
      "text/plain": [
       "---\n",
       "\n",
       "[source](https://github.com/michaelaye/nbplanetary/blob/master/planetarypy/ctx.py#L87){target=\"_blank\" style=\"float:right; font-size:smaller\"}\n",
       "\n",
       "### CTXEDR.pid\n",
       "\n",
       ">      CTXEDR.pid ()\n",
       "\n",
       "*Return product_id*"
      ]
     },
     "execution_count": 12,
     "metadata": {},
     "output_type": "execute_result"
    }
   ],
   "source": [
    "show_doc(CTXEDR.pid)"
   ]
  },
  {
   "cell_type": "code",
   "execution_count": 13,
   "id": "936bb91c-afcf-446f-af7e-a7fdc8dfac2f",
   "metadata": {},
   "outputs": [
    {
     "data": {
      "text/plain": [
       "'B01_009958_1524_XI_27S347W'"
      ]
     },
     "execution_count": 13,
     "metadata": {},
     "output_type": "execute_result"
    }
   ],
   "source": [
    "edr.pid"
   ]
  },
  {
   "cell_type": "code",
   "execution_count": 14,
   "id": "788a3335-dc78-4b05-ac30-b1142839319c",
   "metadata": {},
   "outputs": [
    {
     "data": {
      "text/plain": [
       "'B01_009958_1524'"
      ]
     },
     "execution_count": 14,
     "metadata": {},
     "output_type": "execute_result"
    }
   ],
   "source": [
    "edr.short_pid"
   ]
  },
  {
   "cell_type": "markdown",
   "id": "8a3126fa-69e5-4692-b632-c809bf4b1496",
   "metadata": {},
   "source": [
    "These are the storage configuration settings:"
   ]
  },
  {
   "cell_type": "code",
   "execution_count": 15,
   "id": "ce63b83c-cff4-4967-9959-5a4f7a11b777",
   "metadata": {},
   "outputs": [
    {
     "data": {
      "text/plain": [
       "Path('/Users/maye/planetarypy_data/missions/mro/ctx/edr')"
      ]
     },
     "execution_count": 15,
     "metadata": {},
     "output_type": "execute_result"
    }
   ],
   "source": [
    "edr.root"
   ]
  },
  {
   "cell_type": "code",
   "execution_count": 16,
   "id": "cb7d5b20",
   "metadata": {},
   "outputs": [
    {
     "data": {
      "text/plain": [
       "''"
      ]
     },
     "execution_count": 16,
     "metadata": {},
     "output_type": "execute_result"
    }
   ],
   "source": [
    "edr.with_pid_folder"
   ]
  },
  {
   "cell_type": "code",
   "execution_count": 17,
   "id": "93682c3d-5d0b-49d4-824c-19b7fd2572c4",
   "metadata": {},
   "outputs": [
    {
     "data": {
      "text/plain": [
       "''"
      ]
     },
     "execution_count": 17,
     "metadata": {},
     "output_type": "execute_result"
    }
   ],
   "source": [
    "edr.with_volume"
   ]
  },
  {
   "cell_type": "code",
   "execution_count": 18,
   "id": "af1e8512-f9c6-4216-965f-b176766d3c6f",
   "metadata": {},
   "outputs": [
    {
     "data": {
      "text/markdown": [
       "---\n",
       "\n",
       "[source](https://github.com/michaelaye/nbplanetary/blob/master/planetarypy/ctx.py#L112){target=\"_blank\" style=\"float:right; font-size:smaller\"}\n",
       "\n",
       "### CTXEDR.source_folder\n",
       "\n",
       ">      CTXEDR.source_folder ()\n",
       "\n",
       "*Calculate the source folder based on storage options `with_pid_folder` and `with_volume`.*"
      ],
      "text/plain": [
       "---\n",
       "\n",
       "[source](https://github.com/michaelaye/nbplanetary/blob/master/planetarypy/ctx.py#L112){target=\"_blank\" style=\"float:right; font-size:smaller\"}\n",
       "\n",
       "### CTXEDR.source_folder\n",
       "\n",
       ">      CTXEDR.source_folder ()\n",
       "\n",
       "*Calculate the source folder based on storage options `with_pid_folder` and `with_volume`.*"
      ]
     },
     "execution_count": 18,
     "metadata": {},
     "output_type": "execute_result"
    }
   ],
   "source": [
    "show_doc(CTXEDR.source_folder)"
   ]
  },
  {
   "cell_type": "code",
   "execution_count": 19,
   "id": "b9dccb15-1a91-42a7-b5e1-4f0a9b0692c2",
   "metadata": {},
   "outputs": [
    {
     "data": {
      "text/plain": [
       "Path('/Users/maye/planetarypy_data/missions/mro/ctx/edr')"
      ]
     },
     "execution_count": 19,
     "metadata": {},
     "output_type": "execute_result"
    }
   ],
   "source": [
    "edr.source_folder"
   ]
  },
  {
   "cell_type": "code",
   "execution_count": 20,
   "id": "b6517ce2-7374-49ec-9d4a-f3d69c06e2de",
   "metadata": {},
   "outputs": [
    {
     "data": {
      "text/markdown": [
       "---\n",
       "\n",
       "[source](https://github.com/michaelaye/nbplanetary/blob/master/planetarypy/ctx.py#L122){target=\"_blank\" style=\"float:right; font-size:smaller\"}\n",
       "\n",
       "### CTXEDR.source_path\n",
       "\n",
       ">      CTXEDR.source_path ()\n",
       "\n",
       "*Combine `source_folder` with `pid` into full path.*"
      ],
      "text/plain": [
       "---\n",
       "\n",
       "[source](https://github.com/michaelaye/nbplanetary/blob/master/planetarypy/ctx.py#L122){target=\"_blank\" style=\"float:right; font-size:smaller\"}\n",
       "\n",
       "### CTXEDR.source_path\n",
       "\n",
       ">      CTXEDR.source_path ()\n",
       "\n",
       "*Combine `source_folder` with `pid` into full path.*"
      ]
     },
     "execution_count": 20,
     "metadata": {},
     "output_type": "execute_result"
    }
   ],
   "source": [
    "show_doc(CTXEDR.source_path)"
   ]
  },
  {
   "cell_type": "code",
   "execution_count": 21,
   "id": "326c1d12-019b-49dc-9f58-626bdd0538a4",
   "metadata": {},
   "outputs": [
    {
     "data": {
      "text/plain": [
       "Path('/Users/maye/planetarypy_data/missions/mro/ctx/edr/B01_009958_1524_XI_27S347W.IMG')"
      ]
     },
     "execution_count": 21,
     "metadata": {},
     "output_type": "execute_result"
    }
   ],
   "source": [
    "edr.source_path"
   ]
  },
  {
   "cell_type": "code",
   "execution_count": 22,
   "id": "cda179bc-5093-4038-be0c-b034a1c738b6",
   "metadata": {},
   "outputs": [
    {
     "data": {
      "text/plain": [
       "False"
      ]
     },
     "execution_count": 22,
     "metadata": {},
     "output_type": "execute_result"
    }
   ],
   "source": [
    "edr.source_path.exists()"
   ]
  },
  {
   "cell_type": "code",
   "execution_count": 23,
   "id": "e02e49bd-ec64-4e9e-b557-0c950ad1d125",
   "metadata": {},
   "outputs": [
    {
     "data": {
      "text/markdown": [
       "---\n",
       "\n",
       "[source](https://github.com/michaelaye/nbplanetary/blob/master/planetarypy/ctx.py#L99){target=\"_blank\" style=\"float:right; font-size:smaller\"}\n",
       "\n",
       "### CTXEDR.meta\n",
       "\n",
       ">      CTXEDR.meta ()\n",
       "\n",
       "*get the metadata from the index table*"
      ],
      "text/plain": [
       "---\n",
       "\n",
       "[source](https://github.com/michaelaye/nbplanetary/blob/master/planetarypy/ctx.py#L99){target=\"_blank\" style=\"float:right; font-size:smaller\"}\n",
       "\n",
       "### CTXEDR.meta\n",
       "\n",
       ">      CTXEDR.meta ()\n",
       "\n",
       "*get the metadata from the index table*"
      ]
     },
     "execution_count": 23,
     "metadata": {},
     "output_type": "execute_result"
    }
   ],
   "source": [
    "show_doc(CTXEDR.meta)"
   ]
  },
  {
   "cell_type": "code",
   "execution_count": 24,
   "id": "6e21a6e0-5c14-4b29-b730-09a83b6af79e",
   "metadata": {},
   "outputs": [
    {
     "data": {
      "text/plain": [
       "volume_id                                                               MROX_0684\n",
       "file_specification_name                       DATA/B01_009958_1524_XI_27S347W.IMG\n",
       "original_product_id                                              4A_04_103100F800\n",
       "product_id                                             B01_009958_1524_XI_27S347W\n",
       "image_time                                             2008-09-10 10:15:05.533000\n",
       "instrument_id                                                              CTX   \n",
       "instrument_mode_id                                                          ITL  \n",
       "line_samples                                                                 5056\n",
       "lines                                                                       18432\n",
       "spatial_summing                                                                 1\n",
       "scaled_pixel_width                                                           5.13\n",
       "pixel_aspect_ratio                                                           1.18\n",
       "emission_angle                                                               1.08\n",
       "incidence_angle                                                             71.46\n",
       "phase_angle                                                                 70.61\n",
       "center_longitude                                                           347.59\n",
       "center_latitude                                                            -27.64\n",
       "upper_left_longitude                                                       347.71\n",
       "upper_left_latitude                                                         -28.6\n",
       "upper_right_longitude                                                      347.22\n",
       "upper_right_latitude                                                       -28.55\n",
       "lower_left_longitude                                                       347.96\n",
       "lower_left_latitude                                                        -26.73\n",
       "lower_right_longitude                                                      347.47\n",
       "lower_right_latitude                                                       -26.68\n",
       "mission_phase_name                                                     PSP       \n",
       "target_name                                                                MARS  \n",
       "spacecraft_clock_start_count                                      0905508925:217 \n",
       "focal_plane_temperature                                                     292.8\n",
       "line_exposure_duration                                                      1.877\n",
       "offset_mode_id                                                        196/190/181\n",
       "sample_first_pixel                                                              0\n",
       "scaled_image_width                                                          25.69\n",
       "scaled_image_height                                                        111.85\n",
       "spacecraft_altitude                                                        256.72\n",
       "target_center_distance                                                    3648.65\n",
       "slant_distance                                                             256.76\n",
       "usage_note                                                                      N\n",
       "north_azimuth                                                              276.86\n",
       "sub_solar_azimuth                                                           223.2\n",
       "sub_solar_longitude                                                         42.32\n",
       "sub_solar_latitude                                                          20.59\n",
       "sub_spacecraft_longitude                                                   347.68\n",
       "sub_spacecraft_latitude                                                    -27.64\n",
       "solar_distance                                                        239051686.0\n",
       "solar_longitude                                                            125.14\n",
       "local_time                                                                  15.66\n",
       "image_skew_angle                                                             90.2\n",
       "rationale_desc                  Valley trace in northern Noachis Terra        ...\n",
       "data_quality_desc                                                          OK    \n",
       "orbit_number                                                                 9958\n",
       "short_pid                                                         B01_009958_1524\n",
       "month_col                                                                     B01\n",
       "Name: 16153, dtype: object"
      ]
     },
     "execution_count": 24,
     "metadata": {},
     "output_type": "execute_result"
    }
   ],
   "source": [
    "edr.meta"
   ]
  },
  {
   "cell_type": "code",
   "execution_count": 25,
   "id": "dab35a0e-fa98-4e56-8308-539345b035bc",
   "metadata": {},
   "outputs": [
    {
     "data": {
      "text/markdown": [
       "---\n",
       "\n",
       "[source](https://github.com/michaelaye/nbplanetary/blob/master/planetarypy/ctx.py#L127){target=\"_blank\" style=\"float:right; font-size:smaller\"}\n",
       "\n",
       "### CTXEDR.url\n",
       "\n",
       ">      CTXEDR.url ()\n",
       "\n",
       "*Calculate URL from input dataframe row.*"
      ],
      "text/plain": [
       "---\n",
       "\n",
       "[source](https://github.com/michaelaye/nbplanetary/blob/master/planetarypy/ctx.py#L127){target=\"_blank\" style=\"float:right; font-size:smaller\"}\n",
       "\n",
       "### CTXEDR.url\n",
       "\n",
       ">      CTXEDR.url ()\n",
       "\n",
       "*Calculate URL from input dataframe row.*"
      ]
     },
     "execution_count": 25,
     "metadata": {},
     "output_type": "execute_result"
    }
   ],
   "source": [
    "show_doc(CTXEDR.url)"
   ]
  },
  {
   "cell_type": "code",
   "execution_count": 26,
   "id": "a12edf23-027b-4b72-ad91-5eb0ebc7e1cd",
   "metadata": {},
   "outputs": [
    {
     "data": {
      "text/markdown": [
       "---\n",
       "\n",
       "[source](https://github.com/michaelaye/nbplanetary/blob/master/planetarypy/ctx.py#L132){target=\"_blank\" style=\"float:right; font-size:smaller\"}\n",
       "\n",
       "### CTXEDR.download\n",
       "\n",
       ">      CTXEDR.download (overwrite=False)\n",
       "\n",
       "*Download and store correctly the EDR data, if not locally available.*\n",
       "\n",
       "|    | **Type** | **Default** | **Details** |\n",
       "| -- | -------- | ----------- | ----------- |\n",
       "| overwrite | bool | False | use `overwrite` to download in all cases. |"
      ],
      "text/plain": [
       "---\n",
       "\n",
       "[source](https://github.com/michaelaye/nbplanetary/blob/master/planetarypy/ctx.py#L132){target=\"_blank\" style=\"float:right; font-size:smaller\"}\n",
       "\n",
       "### CTXEDR.download\n",
       "\n",
       ">      CTXEDR.download (overwrite=False)\n",
       "\n",
       "*Download and store correctly the EDR data, if not locally available.*\n",
       "\n",
       "|    | **Type** | **Default** | **Details** |\n",
       "| -- | -------- | ----------- | ----------- |\n",
       "| overwrite | bool | False | use `overwrite` to download in all cases. |"
      ]
     },
     "execution_count": 26,
     "metadata": {},
     "output_type": "execute_result"
    }
   ],
   "source": [
    "show_doc(CTXEDR.download)"
   ]
  },
  {
   "cell_type": "code",
   "execution_count": 27,
   "id": "68d2c70b-29f2-4c69-927a-1ab6c177b47a",
   "metadata": {},
   "outputs": [
    {
     "data": {
      "application/vnd.jupyter.widget-view+json": {
       "model_id": "8a450797dc5b4a4f8ae349844b65e38c",
       "version_major": 2,
       "version_minor": 0
      },
      "text/plain": [
       "B01_009958_1524_XI_27S347W.IMG:   0%|          | 0/93197248 [00:00<?, ?it/s]"
      ]
     },
     "metadata": {},
     "output_type": "display_data"
    }
   ],
   "source": [
    "edr.download()"
   ]
  },
  {
   "cell_type": "code",
   "execution_count": 28,
   "id": "39faa4c9-07a7-4f65-9d70-b88829fe1cc6",
   "metadata": {},
   "outputs": [
    {
     "data": {
      "text/plain": [
       "Path('/Users/maye/planetarypy_data/missions/mro/ctx/edr/B01_009958_1524_XI_27S347W.IMG')"
      ]
     },
     "execution_count": 28,
     "metadata": {},
     "output_type": "execute_result"
    }
   ],
   "source": [
    "edr.source_path"
   ]
  },
  {
   "cell_type": "code",
   "execution_count": 29,
   "id": "f1c13f83-e7e5-4b28-a579-f0208bc6c5a2",
   "metadata": {},
   "outputs": [
    {
     "data": {
      "text/markdown": [
       "---\n",
       "\n",
       "[source](https://github.com/michaelaye/nbplanetary/blob/master/planetarypy/ctx.py#L140){target=\"_blank\" style=\"float:right; font-size:smaller\"}\n",
       "\n",
       "### CTXEDR.__str__\n",
       "\n",
       ">      CTXEDR.__str__ ()\n",
       "\n",
       "*Show some info about yourself when returned in a REPL (like ipython/jupyter).*"
      ],
      "text/plain": [
       "---\n",
       "\n",
       "[source](https://github.com/michaelaye/nbplanetary/blob/master/planetarypy/ctx.py#L140){target=\"_blank\" style=\"float:right; font-size:smaller\"}\n",
       "\n",
       "### CTXEDR.__str__\n",
       "\n",
       ">      CTXEDR.__str__ ()\n",
       "\n",
       "*Show some info about yourself when returned in a REPL (like ipython/jupyter).*"
      ]
     },
     "execution_count": 29,
     "metadata": {},
     "output_type": "execute_result"
    }
   ],
   "source": [
    "show_doc(CTXEDR.__str__)"
   ]
  },
  {
   "cell_type": "code",
   "execution_count": 30,
   "id": "4153205f-b1d8-42d4-85ac-073b6e707886",
   "metadata": {},
   "outputs": [
    {
     "data": {
      "text/plain": [
       "Path('.')"
      ]
     },
     "execution_count": 30,
     "metadata": {},
     "output_type": "execute_result"
    }
   ],
   "source": [
    "Path(config.get_value(\"mro.ctx.preproc_root\"))"
   ]
  },
  {
   "cell_type": "code",
   "execution_count": 35,
   "id": "b8906b00-6a5a-45ee-8f40-257d683a964d",
   "metadata": {},
   "outputs": [],
   "source": [
    "# | export\n",
    "class CTX:\n",
    "    \"\"\"Class to manage dealing with CTX data.\n",
    "\n",
    "    HAS a CTXEDR attribute as defined above.\n",
    "    Attributes from CTXEDR are availalbe via __getattr__()\n",
    "    \"\"\"\n",
    "\n",
    "    proc_root = storage_root / \"edr\"\n",
    "    preproc_root = Path(config.get_value(\"mro.ctx.preproc_root\"))\n",
    "    preproc_calib_extension = config.get_value(\"mro.ctx.calib_extension\")\n",
    "    preproc_with_pid_folder = config.get_value(\"mro.ctx.preproc_with_pid_folder\")\n",
    "    preproc_with_volume = config.get_value(\"mro.ctx.preproc_with_volume\")\n",
    "    proc_with_pid_folder = config.get_value(\"mro.ctx.proc_with_pid_folder\")\n",
    "    proc_with_volume = config.get_value(\"mro.ctx.proc_with_volume\")\n",
    "\n",
    "    def __init__(\n",
    "        self,\n",
    "        id_: str,  # CTX product id\n",
    "        source_dir: str = \"\",  # where the raw EDR data is stored, if not coming from plpy\n",
    "        proc_root: str = \"\",  # where to store processed, if not plpy\n",
    "        with_volume=None,  # store with extra volume subfolder?\n",
    "        with_pid_folder=None,  # store with extra product_id subfolder?\n",
    "        use_preproc=False,  # use preproc for cal_da\n",
    "    ):\n",
    "        self.edr = CTXEDR(id_, root=source_dir, with_volume=with_volume)\n",
    "        self.proc_root = Path(proc_root) if proc_root else self.proc_root\n",
    "        self.with_volume = with_volume if with_volume else self.proc_with_volume\n",
    "        self.with_pid_folder = (\n",
    "            with_pid_folder if with_pid_folder else self.proc_with_pid_folder\n",
    "        )\n",
    "        self.use_preproc = use_preproc\n",
    "\n",
    "        (self.cub_name, self.cal_name, self.destripe_name, self.map_name) = (\n",
    "            file_variations(\n",
    "                self.edr.source_path.name,\n",
    "                [\".cub\", \".cal.cub\", \".dst.cal.cub\", \".lev2.cub\"],\n",
    "            )\n",
    "        )\n",
    "\n",
    "        # status flags for caching\n",
    "        self.is_read = False\n",
    "        self.is_calib_read = False\n",
    "        self.checked_destripe = False\n",
    "\n",
    "    def __getattr__(self, attr):\n",
    "        return getattr(self.edr, attr)\n",
    "\n",
    "    @property\n",
    "    def proc_folder(self) -> Path:\n",
    "        \"the folder for foreign processed data, like pre-processed calibrated data, e.g.\"\n",
    "        path = self.proc_root\n",
    "        if self.proc_with_volume:\n",
    "            path = path / self.volume\n",
    "        if self.proc_with_pid_folder:\n",
    "            path = path / self.pid\n",
    "        return path\n",
    "\n",
    "    @property\n",
    "    def preproc_folder(self) -> Path:\n",
    "        \"the folder for foreign processed data, like pre-processed calibrated data, e.g.\"\n",
    "        path = self.preproc_root\n",
    "        if self.preproc_with_volume:\n",
    "            path = path / self.volume\n",
    "        if self.preproc_with_pid_folder:\n",
    "            path = path / self.pid\n",
    "        return path\n",
    "\n",
    "    @property\n",
    "    def cub_path(self) -> Path:\n",
    "        \"Path to cube after import to ISIS.\"\n",
    "        return self.proc_folder / self.cub_name\n",
    "\n",
    "    @property\n",
    "    def cal_path(self) -> Path:\n",
    "        \"Path to calibrated cube file. Also destriped files get this name.\"\n",
    "        return self.proc_folder / self.cal_name\n",
    "\n",
    "    @property\n",
    "    def preproc_cal_path(self) -> Path:\n",
    "        \"Path to a preprocessend calibrated file\"\n",
    "        cal_name = file_variations(\n",
    "            self.edr.source_path.name, [self.preproc_calib_extension]\n",
    "        )[0]\n",
    "        return self.preproc_folder / cal_name\n",
    "\n",
    "    @property\n",
    "    def destripe_path(self) -> Path:\n",
    "        \"One can keep destriped cubes as extra files, but it increases path management complexity.\"\n",
    "        return self.proc_folder / self.destripe_name\n",
    "\n",
    "    @property\n",
    "    def map_path(self) -> Path:\n",
    "        return self.proc_folder / self.map_name\n",
    "\n",
    "    @catch_isis_error\n",
    "    def isis_import(self) -> None:\n",
    "        \"Import EDR data into ISIS cube.\"\n",
    "        self.cub_path.parent.mkdir(exist_ok=True, parents=True)\n",
    "        mroctx2isis(from_=self.source_path, to=self.cub_path)\n",
    "\n",
    "    @catch_isis_error\n",
    "    def spice_init(self, web=\"yes\") -> None:\n",
    "        \"Perform `spiceinit.`\"\n",
    "        spiceinit(from_=self.cub_path, web=web)\n",
    "\n",
    "    @catch_isis_error\n",
    "    def calibrate(self) -> None:\n",
    "        \"Do ISIS `ctxcal`.\"\n",
    "        ctxcal(from_=self.cub_path, to=self.cal_path)\n",
    "        self.is_calib_read = False\n",
    "\n",
    "    @catch_isis_error\n",
    "    def destripe(self, do_rename=True) -> None:\n",
    "        \"Do destriping via `ctxevenodd` if allowed by summing status.\"\n",
    "        if self.spatial_summing != 2:\n",
    "            ctxevenodd(from_=self.cal_path, to=self.destripe_path)\n",
    "            if do_rename:\n",
    "                self.destripe_path.rename(self.cal_path)\n",
    "\n",
    "    @catch_isis_error\n",
    "    def map_project(self, mpp=6.25) -> None:\n",
    "        \"Perform map projection.\"\n",
    "        cam2map(from_=self.cal_path, to=self.map_path, pixres=\"mpp\", resolution=mpp)\n",
    "\n",
    "    @property\n",
    "    def spatial_summing(self) -> int:\n",
    "        \"Get the spatial summing value from the index file.\"\n",
    "        return self.meta[\"spatial_summing\"]\n",
    "\n",
    "    @property\n",
    "    def data_quality(self) -> str:\n",
    "        \"Return the index file content for the DATA_QUALITY_DESC flag.\"\n",
    "        return self.meta.data_quality_desc\n",
    "\n",
    "    def calib_pipeline(self, overwrite=False) -> None:\n",
    "        \"Execute the whole ISIS pipeline for CTX EDR data.\"\n",
    "        if self.cal_path.exists() and not overwrite:\n",
    "            return\n",
    "        pbar = tqdm(\"isis_import spice_init calibrate destripe\".split())\n",
    "        for name in pbar:\n",
    "            pbar.set_description(name)\n",
    "            getattr(self, name)()\n",
    "        pbar.set_description(\"Done.\")\n",
    "\n",
    "    @property\n",
    "    def edr_da(self):\n",
    "        \"\"\"Read EDR into xr.DataArray. Drop superfluous band dimension.\n",
    "\n",
    "        If it was read before, use stored object for speed-up.\n",
    "        'da' stands for data-array.\n",
    "        \"\"\"\n",
    "        if not self.is_read:\n",
    "            if not self.source_path.exists():\n",
    "                # Doing this by hand because rasterio doesn't throw exception when path is missing.\n",
    "                raise FileNotFoundError(\"EDR not downloaded yet.\")\n",
    "            self._edr_da = rxr.open_rasterio(self.source_path).sel(band=1, drop=True)\n",
    "            self._edr_da.name = f\"{self.short_pid} EDR\"\n",
    "            self.is_read = True\n",
    "        return self._edr_da.drop_vars(\"spatial_ref\")\n",
    "\n",
    "    @property\n",
    "    def edr_shape(self):\n",
    "        return self.edr_da.shape\n",
    "\n",
    "    @property\n",
    "    def cal_da(self):\n",
    "        \"\"\"Read calibrated ISIS cube into xarray.DataArray using rioxarray.\n",
    "\n",
    "        Drop superfluous `band` dimension.\n",
    "        If it was read before, use stored object for speed-up.\n",
    "        'da' stands for data-array.\n",
    "        \"\"\"\n",
    "        if not self.is_calib_read:\n",
    "            path = self.cal_path if not self.use_preproc else self.preproc_cal_path\n",
    "            self._cal_da = rxr.open_rasterio(path, masked=True).sel(band=1, drop=True)\n",
    "            self._cal_da.name = f\"{self.short_pid} calibrated\"\n",
    "            self.is_calibd_read = True\n",
    "        return self._cal_da.drop_vars(\"spatial_ref\")\n",
    "\n",
    "    @property\n",
    "    def cal_shape(self):\n",
    "        return self.cal_da.shape\n",
    "\n",
    "    def plot_da(self, data):\n",
    "        \"\"\"Use hvplot to plot the xarray. Used by plot_calibrated to plot the calibrated array.\"\"\"\n",
    "        return data.hvplot(\n",
    "            x=\"y\",\n",
    "            y=\"x\",\n",
    "            rasterize=True,\n",
    "            cmap=\"gray\",\n",
    "            width=1000,\n",
    "            height=400,\n",
    "            title=self.pid[:15],\n",
    "        )\n",
    "\n",
    "    def plot_edr(self):\n",
    "        \"Plot EDR xarray using hvplot.\"\n",
    "        return self.plot_da(self.edr_da)\n",
    "\n",
    "    def plot_calibrated(self):\n",
    "        \"Plot the calibrated xarray using hvplot.\"\n",
    "        return self.plot_da(self.cal_da)\n",
    "\n",
    "    @property\n",
    "    def tif_path(self):\n",
    "        return self.proc_folder / self.map_name.with_suffix(\".tif\")\n",
    "\n",
    "    def save_as_tif(self, refresh=False):\n",
    "        if self.tif_path.is_file() and not refresh:\n",
    "            print(\"File exists. Use `refresh=True` to force recreation.\")\n",
    "            return\n",
    "\n",
    "        with rasterio.open(str(self.map_path)) as src:\n",
    "            # Copy the metadata from the source file\n",
    "            kwargs = src.meta.copy()\n",
    "            # Update the data type if necessary\n",
    "            kwargs.update(\n",
    "                driver=\"GTiff\",\n",
    "                dtype=rasterio.float32,  # or whatever data type is appropriate\n",
    "            )\n",
    "\n",
    "            # Read the data\n",
    "            data = src.read()\n",
    "\n",
    "            # Write to the new file\n",
    "            with rasterio.open(str(self.tif_path), \"w\", **kwargs) as dst:\n",
    "                dst.write(data)\n",
    "\n",
    "        print(\"Saving\", self.tif_path)\n",
    "\n",
    "    def __str__(self):\n",
    "        \"Print out some infos about yourself.\"\n",
    "        s = self.edr.__str__()\n",
    "        try:\n",
    "            s += f\"Shape: {self.edr_da.shape}\"\n",
    "        except FileNotFoundError:\n",
    "            s += \"Not downloaded yet.\"\n",
    "        return s\n",
    "\n",
    "    def __repr__(self):\n",
    "        return self.__str__()"
   ]
  },
  {
   "cell_type": "code",
   "execution_count": 36,
   "id": "865bff8c-9659-499c-892f-84f5c3c6d540",
   "metadata": {},
   "outputs": [],
   "source": [
    "pid = \"N05_064260_1638_XI_16S351W\""
   ]
  },
  {
   "cell_type": "code",
   "execution_count": 37,
   "id": "25b5d1ee-4fe5-4b9a-9b60-abe2bed373d7",
   "metadata": {},
   "outputs": [],
   "source": [
    "ctx = CTX(pid)"
   ]
  },
  {
   "cell_type": "code",
   "execution_count": 39,
   "id": "88a92310",
   "metadata": {},
   "outputs": [
    {
     "data": {
      "application/vnd.jupyter.widget-view+json": {
       "model_id": "e536771577924e28a4326d32a203cb0f",
       "version_major": 2,
       "version_minor": 0
      },
      "text/plain": [
       "N05_064260_1638_XI_16S351W.IMG:   0%|          | 0/77665216 [00:00<?, ?it/s]"
      ]
     },
     "metadata": {},
     "output_type": "display_data"
    }
   ],
   "source": [
    "ctx.download()"
   ]
  },
  {
   "cell_type": "code",
   "execution_count": 41,
   "id": "1df61afb-ee9c-4c30-a0cb-8f02e59a4665",
   "metadata": {},
   "outputs": [
    {
     "data": {
      "text/plain": [
       "'/Users/maye/planetarypy_data/missions/mro/ctx/edr/N05_064260_1638_XI_16S351W.lev2.cub'"
      ]
     },
     "execution_count": 41,
     "metadata": {},
     "output_type": "execute_result"
    }
   ],
   "source": [
    "str(ctx.map_path)"
   ]
  },
  {
   "cell_type": "code",
   "execution_count": 42,
   "id": "b1670882-5e57-4a19-a187-5d1c26fd2d92",
   "metadata": {},
   "outputs": [
    {
     "data": {
      "text/plain": [
       "Path('/Users/maye/planetarypy_data/missions/mro/ctx/edr/N05_064260_1638_XI_16S351W.lev2.tif')"
      ]
     },
     "execution_count": 42,
     "metadata": {},
     "output_type": "execute_result"
    }
   ],
   "source": [
    "ctx.proc_folder / ctx.map_name.with_suffix(\".tif\")"
   ]
  },
  {
   "cell_type": "code",
   "execution_count": 43,
   "id": "1b725cc4-68a7-48ad-befb-8929c10150e1",
   "metadata": {},
   "outputs": [
    {
     "ename": "RasterioIOError",
     "evalue": "/Users/maye/planetarypy_data/missions/mro/ctx/edr/N05_064260_1638_XI_16S351W.cal.cub: No such file or directory",
     "output_type": "error",
     "traceback": [
      "\u001b[0;31m---------------------------------------------------------------------------\u001b[0m",
      "\u001b[0;31mKeyError\u001b[0m                                  Traceback (most recent call last)",
      "File \u001b[0;32m~/miniforge3/envs/py312/lib/python3.12/site-packages/xarray/backends/file_manager.py:211\u001b[0m, in \u001b[0;36mCachingFileManager._acquire_with_cache_info\u001b[0;34m(self, needs_lock)\u001b[0m\n\u001b[1;32m    210\u001b[0m \u001b[38;5;28;01mtry\u001b[39;00m:\n\u001b[0;32m--> 211\u001b[0m     file \u001b[38;5;241m=\u001b[39m \u001b[38;5;28;43mself\u001b[39;49m\u001b[38;5;241;43m.\u001b[39;49m\u001b[43m_cache\u001b[49m\u001b[43m[\u001b[49m\u001b[38;5;28;43mself\u001b[39;49m\u001b[38;5;241;43m.\u001b[39;49m\u001b[43m_key\u001b[49m\u001b[43m]\u001b[49m\n\u001b[1;32m    212\u001b[0m \u001b[38;5;28;01mexcept\u001b[39;00m \u001b[38;5;167;01mKeyError\u001b[39;00m:\n",
      "File \u001b[0;32m~/miniforge3/envs/py312/lib/python3.12/site-packages/xarray/backends/lru_cache.py:56\u001b[0m, in \u001b[0;36mLRUCache.__getitem__\u001b[0;34m(self, key)\u001b[0m\n\u001b[1;32m     55\u001b[0m \u001b[38;5;28;01mwith\u001b[39;00m \u001b[38;5;28mself\u001b[39m\u001b[38;5;241m.\u001b[39m_lock:\n\u001b[0;32m---> 56\u001b[0m     value \u001b[38;5;241m=\u001b[39m \u001b[38;5;28;43mself\u001b[39;49m\u001b[38;5;241;43m.\u001b[39;49m\u001b[43m_cache\u001b[49m\u001b[43m[\u001b[49m\u001b[43mkey\u001b[49m\u001b[43m]\u001b[49m\n\u001b[1;32m     57\u001b[0m     \u001b[38;5;28mself\u001b[39m\u001b[38;5;241m.\u001b[39m_cache\u001b[38;5;241m.\u001b[39mmove_to_end(key)\n",
      "\u001b[0;31mKeyError\u001b[0m: [<function open at 0x148a52660>, (Path('/Users/maye/planetarypy_data/missions/mro/ctx/edr/N05_064260_1638_XI_16S351W.cal.cub'),), 'r', (('sharing', False),), '4de42404-4145-421b-8170-f4ed00ad70bf']",
      "\nDuring handling of the above exception, another exception occurred:\n",
      "\u001b[0;31mCPLE_OpenFailedError\u001b[0m                      Traceback (most recent call last)",
      "File \u001b[0;32mrasterio/_base.pyx:310\u001b[0m, in \u001b[0;36mrasterio._base.DatasetBase.__init__\u001b[0;34m()\u001b[0m\n",
      "File \u001b[0;32mrasterio/_base.pyx:221\u001b[0m, in \u001b[0;36mrasterio._base.open_dataset\u001b[0;34m()\u001b[0m\n",
      "File \u001b[0;32mrasterio/_err.pyx:221\u001b[0m, in \u001b[0;36mrasterio._err.exc_wrap_pointer\u001b[0;34m()\u001b[0m\n",
      "\u001b[0;31mCPLE_OpenFailedError\u001b[0m: /Users/maye/planetarypy_data/missions/mro/ctx/edr/N05_064260_1638_XI_16S351W.cal.cub: No such file or directory",
      "\nDuring handling of the above exception, another exception occurred:\n",
      "\u001b[0;31mRasterioIOError\u001b[0m                           Traceback (most recent call last)",
      "Cell \u001b[0;32mIn[43], line 1\u001b[0m\n\u001b[0;32m----> 1\u001b[0m \u001b[43mctx\u001b[49m\u001b[38;5;241;43m.\u001b[39;49m\u001b[43mcal_da\u001b[49m\n",
      "Cell \u001b[0;32mIn[35], line 176\u001b[0m, in \u001b[0;36mCTX.cal_da\u001b[0;34m(self)\u001b[0m\n\u001b[1;32m    174\u001b[0m \u001b[38;5;28;01mif\u001b[39;00m \u001b[38;5;129;01mnot\u001b[39;00m \u001b[38;5;28mself\u001b[39m\u001b[38;5;241m.\u001b[39mis_calib_read:\n\u001b[1;32m    175\u001b[0m     path \u001b[38;5;241m=\u001b[39m \u001b[38;5;28mself\u001b[39m\u001b[38;5;241m.\u001b[39mcal_path \u001b[38;5;28;01mif\u001b[39;00m \u001b[38;5;129;01mnot\u001b[39;00m \u001b[38;5;28mself\u001b[39m\u001b[38;5;241m.\u001b[39muse_preproc \u001b[38;5;28;01melse\u001b[39;00m \u001b[38;5;28mself\u001b[39m\u001b[38;5;241m.\u001b[39mpreproc_cal_path\n\u001b[0;32m--> 176\u001b[0m     \u001b[38;5;28mself\u001b[39m\u001b[38;5;241m.\u001b[39m_cal_da \u001b[38;5;241m=\u001b[39m \u001b[43mrxr\u001b[49m\u001b[38;5;241;43m.\u001b[39;49m\u001b[43mopen_rasterio\u001b[49m\u001b[43m(\u001b[49m\u001b[43mpath\u001b[49m\u001b[43m,\u001b[49m\u001b[43m \u001b[49m\u001b[43mmasked\u001b[49m\u001b[38;5;241;43m=\u001b[39;49m\u001b[38;5;28;43;01mTrue\u001b[39;49;00m\u001b[43m)\u001b[49m\u001b[38;5;241m.\u001b[39msel(band\u001b[38;5;241m=\u001b[39m\u001b[38;5;241m1\u001b[39m, drop\u001b[38;5;241m=\u001b[39m\u001b[38;5;28;01mTrue\u001b[39;00m)\n\u001b[1;32m    177\u001b[0m     \u001b[38;5;28mself\u001b[39m\u001b[38;5;241m.\u001b[39m_cal_da\u001b[38;5;241m.\u001b[39mname \u001b[38;5;241m=\u001b[39m \u001b[38;5;124mf\u001b[39m\u001b[38;5;124m\"\u001b[39m\u001b[38;5;132;01m{\u001b[39;00m\u001b[38;5;28mself\u001b[39m\u001b[38;5;241m.\u001b[39mshort_pid\u001b[38;5;132;01m}\u001b[39;00m\u001b[38;5;124m calibrated\u001b[39m\u001b[38;5;124m\"\u001b[39m\n\u001b[1;32m    178\u001b[0m     \u001b[38;5;28mself\u001b[39m\u001b[38;5;241m.\u001b[39mis_calibd_read \u001b[38;5;241m=\u001b[39m \u001b[38;5;28;01mTrue\u001b[39;00m\n",
      "File \u001b[0;32m~/miniforge3/envs/py312/lib/python3.12/site-packages/rioxarray/_io.py:1128\u001b[0m, in \u001b[0;36mopen_rasterio\u001b[0;34m(filename, parse_coordinates, chunks, cache, lock, masked, mask_and_scale, variable, group, default_name, decode_times, decode_timedelta, band_as_variable, **open_kwargs)\u001b[0m\n\u001b[1;32m   1126\u001b[0m     \u001b[38;5;28;01melse\u001b[39;00m:\n\u001b[1;32m   1127\u001b[0m         manager \u001b[38;5;241m=\u001b[39m URIManager(file_opener, filename, mode\u001b[38;5;241m=\u001b[39m\u001b[38;5;124m\"\u001b[39m\u001b[38;5;124mr\u001b[39m\u001b[38;5;124m\"\u001b[39m, kwargs\u001b[38;5;241m=\u001b[39mopen_kwargs)\n\u001b[0;32m-> 1128\u001b[0m     riods \u001b[38;5;241m=\u001b[39m \u001b[43mmanager\u001b[49m\u001b[38;5;241;43m.\u001b[39;49m\u001b[43macquire\u001b[49m\u001b[43m(\u001b[49m\u001b[43m)\u001b[49m\n\u001b[1;32m   1129\u001b[0m     captured_warnings \u001b[38;5;241m=\u001b[39m rio_warnings\u001b[38;5;241m.\u001b[39mcopy()\n\u001b[1;32m   1131\u001b[0m \u001b[38;5;66;03m# raise the NotGeoreferencedWarning if applicable\u001b[39;00m\n",
      "File \u001b[0;32m~/miniforge3/envs/py312/lib/python3.12/site-packages/xarray/backends/file_manager.py:193\u001b[0m, in \u001b[0;36mCachingFileManager.acquire\u001b[0;34m(self, needs_lock)\u001b[0m\n\u001b[1;32m    178\u001b[0m \u001b[38;5;28;01mdef\u001b[39;00m \u001b[38;5;21macquire\u001b[39m(\u001b[38;5;28mself\u001b[39m, needs_lock\u001b[38;5;241m=\u001b[39m\u001b[38;5;28;01mTrue\u001b[39;00m):\n\u001b[1;32m    179\u001b[0m \u001b[38;5;250m    \u001b[39m\u001b[38;5;124;03m\"\"\"Acquire a file object from the manager.\u001b[39;00m\n\u001b[1;32m    180\u001b[0m \n\u001b[1;32m    181\u001b[0m \u001b[38;5;124;03m    A new file is only opened if it has expired from the\u001b[39;00m\n\u001b[0;32m   (...)\u001b[0m\n\u001b[1;32m    191\u001b[0m \u001b[38;5;124;03m        An open file object, as returned by ``opener(*args, **kwargs)``.\u001b[39;00m\n\u001b[1;32m    192\u001b[0m \u001b[38;5;124;03m    \"\"\"\u001b[39;00m\n\u001b[0;32m--> 193\u001b[0m     file, _ \u001b[38;5;241m=\u001b[39m \u001b[38;5;28;43mself\u001b[39;49m\u001b[38;5;241;43m.\u001b[39;49m\u001b[43m_acquire_with_cache_info\u001b[49m\u001b[43m(\u001b[49m\u001b[43mneeds_lock\u001b[49m\u001b[43m)\u001b[49m\n\u001b[1;32m    194\u001b[0m     \u001b[38;5;28;01mreturn\u001b[39;00m file\n",
      "File \u001b[0;32m~/miniforge3/envs/py312/lib/python3.12/site-packages/xarray/backends/file_manager.py:217\u001b[0m, in \u001b[0;36mCachingFileManager._acquire_with_cache_info\u001b[0;34m(self, needs_lock)\u001b[0m\n\u001b[1;32m    215\u001b[0m     kwargs \u001b[38;5;241m=\u001b[39m kwargs\u001b[38;5;241m.\u001b[39mcopy()\n\u001b[1;32m    216\u001b[0m     kwargs[\u001b[38;5;124m\"\u001b[39m\u001b[38;5;124mmode\u001b[39m\u001b[38;5;124m\"\u001b[39m] \u001b[38;5;241m=\u001b[39m \u001b[38;5;28mself\u001b[39m\u001b[38;5;241m.\u001b[39m_mode\n\u001b[0;32m--> 217\u001b[0m file \u001b[38;5;241m=\u001b[39m \u001b[38;5;28;43mself\u001b[39;49m\u001b[38;5;241;43m.\u001b[39;49m\u001b[43m_opener\u001b[49m\u001b[43m(\u001b[49m\u001b[38;5;241;43m*\u001b[39;49m\u001b[38;5;28;43mself\u001b[39;49m\u001b[38;5;241;43m.\u001b[39;49m\u001b[43m_args\u001b[49m\u001b[43m,\u001b[49m\u001b[43m \u001b[49m\u001b[38;5;241;43m*\u001b[39;49m\u001b[38;5;241;43m*\u001b[39;49m\u001b[43mkwargs\u001b[49m\u001b[43m)\u001b[49m\n\u001b[1;32m    218\u001b[0m \u001b[38;5;28;01mif\u001b[39;00m \u001b[38;5;28mself\u001b[39m\u001b[38;5;241m.\u001b[39m_mode \u001b[38;5;241m==\u001b[39m \u001b[38;5;124m\"\u001b[39m\u001b[38;5;124mw\u001b[39m\u001b[38;5;124m\"\u001b[39m:\n\u001b[1;32m    219\u001b[0m     \u001b[38;5;66;03m# ensure file doesn't get overridden when opened again\u001b[39;00m\n\u001b[1;32m    220\u001b[0m     \u001b[38;5;28mself\u001b[39m\u001b[38;5;241m.\u001b[39m_mode \u001b[38;5;241m=\u001b[39m \u001b[38;5;124m\"\u001b[39m\u001b[38;5;124ma\u001b[39m\u001b[38;5;124m\"\u001b[39m\n",
      "File \u001b[0;32m~/miniforge3/envs/py312/lib/python3.12/site-packages/rasterio/env.py:451\u001b[0m, in \u001b[0;36mensure_env_with_credentials.<locals>.wrapper\u001b[0;34m(*args, **kwds)\u001b[0m\n\u001b[1;32m    448\u001b[0m     session \u001b[38;5;241m=\u001b[39m DummySession()\n\u001b[1;32m    450\u001b[0m \u001b[38;5;28;01mwith\u001b[39;00m env_ctor(session\u001b[38;5;241m=\u001b[39msession):\n\u001b[0;32m--> 451\u001b[0m     \u001b[38;5;28;01mreturn\u001b[39;00m \u001b[43mf\u001b[49m\u001b[43m(\u001b[49m\u001b[38;5;241;43m*\u001b[39;49m\u001b[43margs\u001b[49m\u001b[43m,\u001b[49m\u001b[43m \u001b[49m\u001b[38;5;241;43m*\u001b[39;49m\u001b[38;5;241;43m*\u001b[39;49m\u001b[43mkwds\u001b[49m\u001b[43m)\u001b[49m\n",
      "File \u001b[0;32m~/miniforge3/envs/py312/lib/python3.12/site-packages/rasterio/__init__.py:304\u001b[0m, in \u001b[0;36mopen\u001b[0;34m(fp, mode, driver, width, height, count, crs, transform, dtype, nodata, sharing, **kwargs)\u001b[0m\n\u001b[1;32m    301\u001b[0m path \u001b[38;5;241m=\u001b[39m _parse_path(raw_dataset_path)\n\u001b[1;32m    303\u001b[0m \u001b[38;5;28;01mif\u001b[39;00m mode \u001b[38;5;241m==\u001b[39m \u001b[38;5;124m\"\u001b[39m\u001b[38;5;124mr\u001b[39m\u001b[38;5;124m\"\u001b[39m:\n\u001b[0;32m--> 304\u001b[0m     dataset \u001b[38;5;241m=\u001b[39m \u001b[43mDatasetReader\u001b[49m\u001b[43m(\u001b[49m\u001b[43mpath\u001b[49m\u001b[43m,\u001b[49m\u001b[43m \u001b[49m\u001b[43mdriver\u001b[49m\u001b[38;5;241;43m=\u001b[39;49m\u001b[43mdriver\u001b[49m\u001b[43m,\u001b[49m\u001b[43m \u001b[49m\u001b[43msharing\u001b[49m\u001b[38;5;241;43m=\u001b[39;49m\u001b[43msharing\u001b[49m\u001b[43m,\u001b[49m\u001b[43m \u001b[49m\u001b[38;5;241;43m*\u001b[39;49m\u001b[38;5;241;43m*\u001b[39;49m\u001b[43mkwargs\u001b[49m\u001b[43m)\u001b[49m\n\u001b[1;32m    305\u001b[0m \u001b[38;5;28;01melif\u001b[39;00m mode \u001b[38;5;241m==\u001b[39m \u001b[38;5;124m\"\u001b[39m\u001b[38;5;124mr+\u001b[39m\u001b[38;5;124m\"\u001b[39m:\n\u001b[1;32m    306\u001b[0m     dataset \u001b[38;5;241m=\u001b[39m get_writer_for_path(path, driver\u001b[38;5;241m=\u001b[39mdriver)(\n\u001b[1;32m    307\u001b[0m         path, mode, driver\u001b[38;5;241m=\u001b[39mdriver, sharing\u001b[38;5;241m=\u001b[39msharing, \u001b[38;5;241m*\u001b[39m\u001b[38;5;241m*\u001b[39mkwargs\n\u001b[1;32m    308\u001b[0m     )\n",
      "File \u001b[0;32mrasterio/_base.pyx:312\u001b[0m, in \u001b[0;36mrasterio._base.DatasetBase.__init__\u001b[0;34m()\u001b[0m\n",
      "\u001b[0;31mRasterioIOError\u001b[0m: /Users/maye/planetarypy_data/missions/mro/ctx/edr/N05_064260_1638_XI_16S351W.cal.cub: No such file or directory"
     ]
    }
   ],
   "source": [
    "ctx.cal_da"
   ]
  },
  {
   "cell_type": "code",
   "execution_count": 44,
   "id": "bf8e5ee8-a26e-4b77-a3a4-ce3ed010ef9c",
   "metadata": {},
   "outputs": [
    {
     "data": {
      "text/plain": [
       "Path('N05_064260_1638_XI_16S351W')"
      ]
     },
     "execution_count": 44,
     "metadata": {},
     "output_type": "execute_result"
    }
   ],
   "source": [
    "ctx.preproc_cal_path"
   ]
  },
  {
   "cell_type": "markdown",
   "id": "0a0dc667-b52a-4d6e-9e55-2e9b90562313",
   "metadata": {},
   "source": [
    "Based on storage options `with_pid_folder` and `with_volume`, we calculate the `proc_folder` for self-processed data:"
   ]
  },
  {
   "cell_type": "code",
   "execution_count": 45,
   "id": "36002d74-64b3-4407-9e88-b159af788322",
   "metadata": {},
   "outputs": [
    {
     "data": {
      "text/markdown": [
       "---\n",
       "\n",
       "[source](https://github.com/michaelaye/nbplanetary/blob/master/planetarypy/ctx.py#L199){target=\"_blank\" style=\"float:right; font-size:smaller\"}\n",
       "\n",
       "### CTX.proc_folder\n",
       "\n",
       ">      CTX.proc_folder ()\n",
       "\n",
       "*the folder for foreign processed data, like pre-processed calibrated data, e.g.*"
      ],
      "text/plain": [
       "---\n",
       "\n",
       "[source](https://github.com/michaelaye/nbplanetary/blob/master/planetarypy/ctx.py#L199){target=\"_blank\" style=\"float:right; font-size:smaller\"}\n",
       "\n",
       "### CTX.proc_folder\n",
       "\n",
       ">      CTX.proc_folder ()\n",
       "\n",
       "*the folder for foreign processed data, like pre-processed calibrated data, e.g.*"
      ]
     },
     "execution_count": 45,
     "metadata": {},
     "output_type": "execute_result"
    }
   ],
   "source": [
    "show_doc(CTX.proc_folder)"
   ]
  },
  {
   "cell_type": "code",
   "execution_count": 46,
   "id": "e9a537a8-556e-44fb-8869-59712055ac0f",
   "metadata": {},
   "outputs": [
    {
     "data": {
      "text/plain": [
       "Path('/Users/maye/planetarypy_data/missions/mro/ctx/edr')"
      ]
     },
     "execution_count": 46,
     "metadata": {},
     "output_type": "execute_result"
    }
   ],
   "source": [
    "ctx.proc_folder"
   ]
  },
  {
   "cell_type": "markdown",
   "id": "483376b2-7956-4b96-8c97-9adbfab5d7ce",
   "metadata": {},
   "source": [
    "These can be changed at object creation:"
   ]
  },
  {
   "cell_type": "code",
   "execution_count": 47,
   "id": "b16208b3-b150-43d2-9df5-c02016891020",
   "metadata": {},
   "outputs": [
    {
     "data": {
      "text/plain": [
       "Path('/Users/maye/planetarypy_data/missions/mro/ctx/edr/mrox_3629')"
      ]
     },
     "execution_count": 47,
     "metadata": {},
     "output_type": "execute_result"
    }
   ],
   "source": [
    "CTX(pid, with_volume=True, with_pid_folder=True).source_folder"
   ]
  },
  {
   "cell_type": "code",
   "execution_count": 48,
   "id": "9eb18ee6-e710-431a-855c-9905ff537d4d",
   "metadata": {},
   "outputs": [
    {
     "data": {
      "text/markdown": [
       "---\n",
       "\n",
       "[source](https://github.com/michaelaye/nbplanetary/blob/master/planetarypy/ctx.py#L224){target=\"_blank\" style=\"float:right; font-size:smaller\"}\n",
       "\n",
       "### CTX.cal_path\n",
       "\n",
       ">      CTX.cal_path ()\n",
       "\n",
       "*Path to calibrated cube file. Also destriped files get this name.*"
      ],
      "text/plain": [
       "---\n",
       "\n",
       "[source](https://github.com/michaelaye/nbplanetary/blob/master/planetarypy/ctx.py#L224){target=\"_blank\" style=\"float:right; font-size:smaller\"}\n",
       "\n",
       "### CTX.cal_path\n",
       "\n",
       ">      CTX.cal_path ()\n",
       "\n",
       "*Path to calibrated cube file. Also destriped files get this name.*"
      ]
     },
     "execution_count": 48,
     "metadata": {},
     "output_type": "execute_result"
    }
   ],
   "source": [
    "show_doc(CTX.cal_path)"
   ]
  },
  {
   "cell_type": "code",
   "execution_count": 49,
   "id": "8b4955c9-be48-4146-be6a-bb3b59ecddca",
   "metadata": {},
   "outputs": [
    {
     "data": {
      "text/plain": [
       "Path('/Users/maye/planetarypy_data/missions/mro/ctx/edr/N05_064260_1638_XI_16S351W.cal.cub')"
      ]
     },
     "execution_count": 49,
     "metadata": {},
     "output_type": "execute_result"
    }
   ],
   "source": [
    "ctx.cal_path"
   ]
  },
  {
   "cell_type": "code",
   "execution_count": 50,
   "id": "6323bc8e-4a8b-443b-89a0-1b234c9b37c9",
   "metadata": {},
   "outputs": [
    {
     "data": {
      "text/markdown": [
       "---\n",
       "\n",
       "[source](https://github.com/michaelaye/nbplanetary/blob/master/planetarypy/ctx.py#L285){target=\"_blank\" style=\"float:right; font-size:smaller\"}\n",
       "\n",
       "### CTX.calib_pipeline\n",
       "\n",
       ">      CTX.calib_pipeline (overwrite=False)\n",
       "\n",
       "*Execute the whole ISIS pipeline for CTX EDR data.*"
      ],
      "text/plain": [
       "---\n",
       "\n",
       "[source](https://github.com/michaelaye/nbplanetary/blob/master/planetarypy/ctx.py#L285){target=\"_blank\" style=\"float:right; font-size:smaller\"}\n",
       "\n",
       "### CTX.calib_pipeline\n",
       "\n",
       ">      CTX.calib_pipeline (overwrite=False)\n",
       "\n",
       "*Execute the whole ISIS pipeline for CTX EDR data.*"
      ]
     },
     "execution_count": 50,
     "metadata": {},
     "output_type": "execute_result"
    }
   ],
   "source": [
    "show_doc(CTX.calib_pipeline)"
   ]
  },
  {
   "cell_type": "code",
   "execution_count": 51,
   "id": "686b18bc-a3f5-4d37-baa5-14f94a8acd51",
   "metadata": {},
   "outputs": [
    {
     "data": {
      "text/plain": [
       "Path('/Users/maye/planetarypy_data/missions/mro/ctx/edr')"
      ]
     },
     "execution_count": 51,
     "metadata": {},
     "output_type": "execute_result"
    }
   ],
   "source": [
    "ctx.proc_folder"
   ]
  },
  {
   "cell_type": "code",
   "execution_count": 52,
   "id": "c9b18339-e2c5-4610-9783-988c985dd92a",
   "metadata": {},
   "outputs": [],
   "source": [
    "ctx.isis_import()"
   ]
  },
  {
   "cell_type": "code",
   "execution_count": 53,
   "id": "3f7e1d2a-052e-4763-b7c6-1c1b26458040",
   "metadata": {},
   "outputs": [],
   "source": [
    "ctx.spice_init(web=\"yes\")"
   ]
  },
  {
   "cell_type": "code",
   "execution_count": 54,
   "id": "ce54111e-a213-4e27-9ab7-d5453fd66b23",
   "metadata": {},
   "outputs": [],
   "source": [
    "ctx.calibrate()"
   ]
  },
  {
   "cell_type": "code",
   "execution_count": 55,
   "id": "0c2b5f3e-68ab-432e-9737-72de70da7434",
   "metadata": {},
   "outputs": [],
   "source": [
    "ctx.destripe()"
   ]
  },
  {
   "cell_type": "code",
   "execution_count": null,
   "id": "c4221571-cf04-42e7-85bb-1d49b25a5529",
   "metadata": {},
   "outputs": [],
   "source": [
    "# not executing always, as it takes lot of time\n",
    "# ctx.map_project()"
   ]
  },
  {
   "cell_type": "code",
   "execution_count": null,
   "id": "c91ebe7e-1aed-4b28-825d-0f5241943889",
   "metadata": {},
   "outputs": [],
   "source": [
    "ctx.map_path"
   ]
  },
  {
   "cell_type": "code",
   "execution_count": 56,
   "id": "5fff866b-9130-412d-8a36-95e4bfaad450",
   "metadata": {},
   "outputs": [],
   "source": [
    "ctx.calib_pipeline()"
   ]
  },
  {
   "cell_type": "code",
   "execution_count": 57,
   "id": "5318284e-14d5-4807-b1e0-c4dc605e0980",
   "metadata": {},
   "outputs": [
    {
     "data": {
      "text/markdown": [
       "---\n",
       "\n",
       "[source](https://github.com/michaelaye/nbplanetary/blob/master/planetarypy/ctx.py#L346){target=\"_blank\" style=\"float:right; font-size:smaller\"}\n",
       "\n",
       "### CTX.plot_edr\n",
       "\n",
       ">      CTX.plot_edr ()\n",
       "\n",
       "*Plot EDR xarray using hvplot.*"
      ],
      "text/plain": [
       "---\n",
       "\n",
       "[source](https://github.com/michaelaye/nbplanetary/blob/master/planetarypy/ctx.py#L346){target=\"_blank\" style=\"float:right; font-size:smaller\"}\n",
       "\n",
       "### CTX.plot_edr\n",
       "\n",
       ">      CTX.plot_edr ()\n",
       "\n",
       "*Plot EDR xarray using hvplot.*"
      ]
     },
     "execution_count": 57,
     "metadata": {},
     "output_type": "execute_result"
    }
   ],
   "source": [
    "show_doc(CTX.plot_edr)"
   ]
  },
  {
   "cell_type": "code",
   "execution_count": 59,
   "id": "b64d49f5-3d4b-430e-aede-4df529eb2880",
   "metadata": {},
   "outputs": [
    {
     "data": {
      "application/vnd.jupyter.widget-view+json": {
       "model_id": "b2e365275ec648a99ad3df7afd9efabe",
       "version_major": 2,
       "version_minor": 0
      },
      "text/plain": [
       "BokehModel(combine_events=True, render_bundle={'docs_json': {'c2f400e0-63d4-40c7-8804-f0c56895fd91': {'version…"
      ]
     },
     "execution_count": 59,
     "metadata": {},
     "output_type": "execute_result"
    }
   ],
   "source": [
    "ctx.plot_edr()"
   ]
  },
  {
   "cell_type": "markdown",
   "id": "5f2f69fa-16e7-4369-98c3-03e3558fb4cd",
   "metadata": {},
   "source": [
    ":::{.callout-note}\n",
    "Note the different shape of EDR data and calibrated data. A few SAMPLES are being used for calibration.\n",
    ":::"
   ]
  },
  {
   "cell_type": "code",
   "execution_count": 60,
   "id": "fb9f1798-515b-4757-a27c-e078833549a5",
   "metadata": {},
   "outputs": [
    {
     "data": {
      "text/plain": [
       "(15360, 5056)"
      ]
     },
     "execution_count": 60,
     "metadata": {},
     "output_type": "execute_result"
    }
   ],
   "source": [
    "ctx.edr_shape"
   ]
  },
  {
   "cell_type": "code",
   "execution_count": 61,
   "id": "8fdc38fd-2530-424c-a1a4-4c61636fa588",
   "metadata": {},
   "outputs": [
    {
     "data": {
      "text/plain": [
       "(15360, 5000)"
      ]
     },
     "execution_count": 61,
     "metadata": {},
     "output_type": "execute_result"
    }
   ],
   "source": [
    "ctx.cal_shape"
   ]
  },
  {
   "cell_type": "code",
   "execution_count": 62,
   "id": "ff12944d-9ab9-4d0f-91e0-5d6c5c785d70",
   "metadata": {},
   "outputs": [
    {
     "data": {
      "application/vnd.jupyter.widget-view+json": {
       "model_id": "f97f9cb46ba04e139fd581947ecd7424",
       "version_major": 2,
       "version_minor": 0
      },
      "text/plain": [
       "BokehModel(combine_events=True, render_bundle={'docs_json': {'4b95e8d7-731b-4e9e-b1f9-3721ae93f71d': {'version…"
      ]
     },
     "execution_count": 62,
     "metadata": {},
     "output_type": "execute_result"
    }
   ],
   "source": [
    "ctx.plot_calibrated()"
   ]
  },
  {
   "cell_type": "markdown",
   "id": "b83f55ec-3880-486b-b153-46154f95950a",
   "metadata": {},
   "source": [
    "## CTXCollection -"
   ]
  },
  {
   "cell_type": "code",
   "execution_count": 63,
   "id": "25a55044-819a-45e9-a9c9-79c8b1dcbc0a",
   "metadata": {},
   "outputs": [],
   "source": [
    "# | export\n",
    "\n",
    "\n",
    "class CTXCollection:\n",
    "    \"\"\"Class with several helpful methods to work with a set of CTX images.\n",
    "\n",
    "    We identify the images via a list of product_ids.\n",
    "    Several methods manipulate this list based on the requested constraint.\n",
    "    \"\"\"\n",
    "\n",
    "    @classmethod\n",
    "    def by_volume(cls, vol_id, **kwargs):\n",
    "        \"\"\"Create a CTXCollection from the PDS volume number.\"\"\"\n",
    "        if not str(vol_id).startswith(\"MROX_\"):\n",
    "            vol_id = \"MROX_\" + str(vol_id)\n",
    "        query = f\"VOLUME_ID=='{vol_id}'\"\n",
    "        edrindex = get_edr_index()\n",
    "        return cls(edrindex.query(query).PRODUCT_ID.values, edrindex=edrindex, **kwargs)\n",
    "\n",
    "    @classmethod\n",
    "    def by_month(cls, month_letters, nth_volume=None, **kwargs):\n",
    "        \"\"\"Create a CTXCollection based on the first 3 letters of the product_id (a.k.a. \"month\")\"\"\"\n",
    "        edrindex = get_edr_index()\n",
    "        df = edrindex[edrindex.PRODUCT_ID.str.startswith(month_letters)]\n",
    "        obj = cls(df.PRODUCT_ID.values, **kwargs)\n",
    "        if nth_volume is not None:\n",
    "            return cls.by_volume(\n",
    "                obj.volumes_in_pids[nth_volume], edrindex=edrindex, **kwargs\n",
    "            )\n",
    "        else:\n",
    "            return obj\n",
    "\n",
    "    @classmethod\n",
    "    def volume_from_pid(cls, pid, **kwargs):\n",
    "        \"\"\"Get a CTXCollection of the volume for a given image (product_id).\"\"\"\n",
    "        edrindex = get_edr_index()\n",
    "        vol = edrindex.query(f\"PRODUCT_ID=='{pid}'\").VOLUME_ID.iat[0]\n",
    "        return cls.by_volume(vol, **kwargs)\n",
    "\n",
    "    def __init__(\n",
    "        self, product_ids, full_width=False, filter_error=False, edrindex=None\n",
    "    ):\n",
    "        self.product_ids = product_ids\n",
    "        self.full_width = full_width  # i.e. LINE_SAMPLES==5056\n",
    "        self.filter_error = filter_error\n",
    "        self.edrindex = get_edr_index() if edrindex is None else edrindex\n",
    "\n",
    "    @property\n",
    "    def pids(self):\n",
    "        \"Alias on product_id\"\n",
    "        return self.product_ids\n",
    "\n",
    "    @property\n",
    "    def product_ids(self):\n",
    "        new_pids = self._product_ids\n",
    "        ind = self.edrindex[self.edrindex.PRODUCT_ID.isin(new_pids)]\n",
    "        queries = []\n",
    "        if self.full_width:\n",
    "            queries.append(\"LINE_SAMPLES == 5056\")\n",
    "            # new_pids = [pid for pid in new_pids if CTX(pid).meta.line_samples == 5056]\n",
    "        if self.filter_error:\n",
    "            queries.append(\"DATA_QUALITY_DESC != 'ERROR'\")\n",
    "            # new_pids = [pid for pid in new_pids if CTX(pid).data_quality != 'ERROR']\n",
    "        if queries:\n",
    "            return ind.query(\" and \".join(queries)).PRODUCT_ID.values\n",
    "        else:\n",
    "            return ind.PRODUCT_ID.values\n",
    "\n",
    "    @product_ids.setter\n",
    "    def product_ids(self, val):\n",
    "        self._product_ids = val\n",
    "\n",
    "    def get_urls(self):\n",
    "        \"\"\"Get URLs for list of product_ids.\n",
    "\n",
    "        Returns\n",
    "        -------\n",
    "        List[yarl.URL]\n",
    "            List of URL objects with the respective PDS URL for download.\n",
    "        \"\"\"\n",
    "        urls = []\n",
    "        for p_id in self.product_ids:\n",
    "            ctx = CTXEDR(p_id)\n",
    "            urls.append(ctx.url)\n",
    "        self.urls = urls\n",
    "        return urls\n",
    "\n",
    "    def _do_download(self, args):\n",
    "        pid, overwrite = args\n",
    "        ctx = CTX(pid)\n",
    "        ctx.download(overwrite=overwrite)\n",
    "\n",
    "    def download_collection(self, overwrite=False):\n",
    "        \"download the images in parallel using tqdm wrapper around concurrent.future\"\n",
    "        print(\"Downloading collection...\")\n",
    "        args = zip(self.product_ids, repeat(overwrite))\n",
    "        r = process_map(self._do_download, args, max_workers=6)\n",
    "\n",
    "    def _do_calib(self, args):\n",
    "        pid, overwrite = args\n",
    "        ctx = CTX(pid)\n",
    "        ctx.calib_pipeline(overwrite=overwrite)\n",
    "\n",
    "    def calibrate_collection(self, overwrite=False):\n",
    "        \"Calibrate all images in collection using tqdm wrapper around concurrent.future\"\n",
    "        print(\"Launching parallel calibration...\")\n",
    "        args = zip(self.product_ids, repeat(overwrite))\n",
    "        process_map(self._do_calib, args, max_workers=6)\n",
    "\n",
    "    def edr_exist_check(self):\n",
    "        \"Check if all source_paths exists, i.e. all EDR images are available.\"\n",
    "        return [(p_id, CTX(p_id).source_path.exists()) for p_id in self.product_ids]\n",
    "\n",
    "    def calib_exist_check(self):\n",
    "        \"Check if all cal_paths exist. (i.e. all calibrated ISIS cubes are available.\"\n",
    "        return [(p_id, CTX(p_id).cal_path.exists()) for p_id in self.product_ids]\n",
    "\n",
    "    def only_full_width(self):\n",
    "        \"Constrain the list of product_ids to those that have full width (i.e. line_samples == 5056)\"\n",
    "\n",
    "    def get_ctx_n(self, n):\n",
    "        \"Get CTX object for n-th product_id\"\n",
    "        return CTX(self.product_ids[n])\n",
    "\n",
    "    def get_pid_n(self, n):\n",
    "        \"Get pid for n-th entry in product_ids.\"\n",
    "        return self.product_ids[n]\n",
    "\n",
    "    @property\n",
    "    def n_items(self):\n",
    "        \"Return length of product_ids list.\"\n",
    "        return len(self.pids)\n",
    "\n",
    "    @property\n",
    "    def meta(self):\n",
    "        \"Return the index file filtered for the given product_ids.\"\n",
    "        return self.edrindex[self.edrindex.PRODUCT_ID.isin(self.pids)]\n",
    "\n",
    "    @property\n",
    "    def image_times(self):\n",
    "        \"Return the image observation times.\"\n",
    "        return self.meta.IMAGE_TIME\n",
    "\n",
    "    def get_corrupted(self):\n",
    "        \"Return the product_ids where the PDS index file has an 'ERROR' flag for the `DATA_QUALITY_DESC` field.\"\n",
    "        return [pid for pid in self.pids if CTX(pid).data_quality == \"ERROR\"]\n",
    "\n",
    "    def filter_error(self):\n",
    "        \"Filter the product_ids for the error flag from the PDS index.\"\n",
    "        self.product_ids = [\n",
    "            pid for pid in self.pids if CTX(pid).data_quality != \"ERROR\"\n",
    "        ]\n",
    "\n",
    "    @property\n",
    "    def volumes_in_pids(self):\n",
    "        return self.edrindex[\n",
    "            self.edrindex.PRODUCT_ID.isin(self.product_ids)\n",
    "        ].VOLUME_ID.unique()\n",
    "\n",
    "    @property\n",
    "    def count_per_volume(self):\n",
    "        g = self.edrindex.groupby(\"VOLUME_ID\")\n",
    "        return g.size()[self.volumes_in_pids]\n",
    "\n",
    "    def sample(self, n):\n",
    "        \"Return random sample of product_ids, size `n`.\"\n",
    "        return list(pd.Series(self.product_ids).sample(n))\n",
    "\n",
    "    def __str__(self):\n",
    "        s = f\"# of product IDs: {self.n_items}\\n\"\n",
    "        s += \"Volumes contained in list of product_ids:\\n\"\n",
    "        s += f\"{self.volumes_in_pids}\\n\"\n",
    "        return s\n",
    "\n",
    "    def __repr__(self):\n",
    "        return self.__str__()"
   ]
  },
  {
   "cell_type": "markdown",
   "id": "8ef13d3c-74e4-4672-bc87-5d7cd9c856fa",
   "metadata": {},
   "source": [
    "The `CTXCollection` class offers a few class methods for a wider range of finding CTX product_ids from the index file:"
   ]
  },
  {
   "cell_type": "code",
   "execution_count": 64,
   "id": "207ee5c3-185f-4f6c-b78d-5a431ca32c26",
   "metadata": {},
   "outputs": [
    {
     "data": {
      "text/markdown": [
       "---\n",
       "\n",
       "[source](https://github.com/michaelaye/nbplanetary/blob/master/planetarypy/ctx.py#L387){target=\"_blank\" style=\"float:right; font-size:smaller\"}\n",
       "\n",
       "### CTXCollection.by_volume\n",
       "\n",
       ">      CTXCollection.by_volume (vol_id, **kwargs)\n",
       "\n",
       "*Create a CTXCollection from the PDS volume number.*"
      ],
      "text/plain": [
       "---\n",
       "\n",
       "[source](https://github.com/michaelaye/nbplanetary/blob/master/planetarypy/ctx.py#L387){target=\"_blank\" style=\"float:right; font-size:smaller\"}\n",
       "\n",
       "### CTXCollection.by_volume\n",
       "\n",
       ">      CTXCollection.by_volume (vol_id, **kwargs)\n",
       "\n",
       "*Create a CTXCollection from the PDS volume number.*"
      ]
     },
     "execution_count": 64,
     "metadata": {},
     "output_type": "execute_result"
    }
   ],
   "source": [
    "show_doc(CTXCollection.by_volume)"
   ]
  },
  {
   "cell_type": "code",
   "execution_count": 65,
   "id": "ebeea16a-4869-4ef8-8971-b4c54a063468",
   "metadata": {},
   "outputs": [
    {
     "data": {
      "text/plain": [
       "30"
      ]
     },
     "execution_count": 65,
     "metadata": {},
     "output_type": "execute_result"
    }
   ],
   "source": [
    "CTXCollection.by_volume(4114).n_items"
   ]
  },
  {
   "cell_type": "code",
   "execution_count": 66,
   "id": "ba848627-66d4-4727-a6df-97485ec683a6",
   "metadata": {},
   "outputs": [
    {
     "data": {
      "text/plain": [
       "19"
      ]
     },
     "execution_count": 66,
     "metadata": {},
     "output_type": "execute_result"
    }
   ],
   "source": [
    "CTXCollection.by_volume(4114, full_width=True).n_items"
   ]
  },
  {
   "cell_type": "code",
   "execution_count": 67,
   "id": "4f9d8e6d-2b4f-4b6f-91b5-e06e777f2e80",
   "metadata": {},
   "outputs": [
    {
     "data": {
      "text/plain": [
       "19"
      ]
     },
     "execution_count": 67,
     "metadata": {},
     "output_type": "execute_result"
    }
   ],
   "source": [
    "CTXCollection.by_volume(4114, full_width=True, filter_error=True).n_items"
   ]
  },
  {
   "cell_type": "code",
   "execution_count": 68,
   "id": "6cfd97f2-9ff6-4f21-9131-6efb8827dd9c",
   "metadata": {},
   "outputs": [
    {
     "data": {
      "text/plain": [
       "30"
      ]
     },
     "execution_count": 68,
     "metadata": {},
     "output_type": "execute_result"
    }
   ],
   "source": [
    "CTXCollection.by_volume(4114, full_width=False, filter_error=True).n_items"
   ]
  },
  {
   "cell_type": "code",
   "execution_count": 69,
   "id": "8f876639-b4f6-478f-8baa-5503cd544a0a",
   "metadata": {},
   "outputs": [
    {
     "data": {
      "text/markdown": [
       "---\n",
       "\n",
       "[source](https://github.com/michaelaye/nbplanetary/blob/master/planetarypy/ctx.py#L396){target=\"_blank\" style=\"float:right; font-size:smaller\"}\n",
       "\n",
       "### CTXCollection.by_month\n",
       "\n",
       ">      CTXCollection.by_month (month_letters, nth_volume=None, **kwargs)\n",
       "\n",
       "*Create a CTXCollection based on the first 3 letters of the product_id (a.k.a. \"month\")*"
      ],
      "text/plain": [
       "---\n",
       "\n",
       "[source](https://github.com/michaelaye/nbplanetary/blob/master/planetarypy/ctx.py#L396){target=\"_blank\" style=\"float:right; font-size:smaller\"}\n",
       "\n",
       "### CTXCollection.by_month\n",
       "\n",
       ">      CTXCollection.by_month (month_letters, nth_volume=None, **kwargs)\n",
       "\n",
       "*Create a CTXCollection based on the first 3 letters of the product_id (a.k.a. \"month\")*"
      ]
     },
     "execution_count": 69,
     "metadata": {},
     "output_type": "execute_result"
    }
   ],
   "source": [
    "show_doc(CTXCollection.by_month)"
   ]
  },
  {
   "cell_type": "code",
   "execution_count": 70,
   "id": "1bb71017-8eb8-474b-af43-b0c4f72a5c50",
   "metadata": {},
   "outputs": [
    {
     "data": {
      "text/plain": [
       "304"
      ]
     },
     "execution_count": 70,
     "metadata": {},
     "output_type": "execute_result"
    }
   ],
   "source": [
    "CTXCollection.by_month(\"J18\", filter_error=True, full_width=True).n_items"
   ]
  },
  {
   "cell_type": "code",
   "execution_count": 71,
   "id": "ba4a9649-9246-471d-b219-b64c745acd30",
   "metadata": {},
   "outputs": [
    {
     "data": {
      "text/markdown": [
       "---\n",
       "\n",
       "[source](https://github.com/michaelaye/nbplanetary/blob/master/planetarypy/ctx.py#L409){target=\"_blank\" style=\"float:right; font-size:smaller\"}\n",
       "\n",
       "### CTXCollection.volume_from_pid\n",
       "\n",
       ">      CTXCollection.volume_from_pid (pid, **kwargs)\n",
       "\n",
       "*Get a CTXCollection of the volume for a given image (product_id).*"
      ],
      "text/plain": [
       "---\n",
       "\n",
       "[source](https://github.com/michaelaye/nbplanetary/blob/master/planetarypy/ctx.py#L409){target=\"_blank\" style=\"float:right; font-size:smaller\"}\n",
       "\n",
       "### CTXCollection.volume_from_pid\n",
       "\n",
       ">      CTXCollection.volume_from_pid (pid, **kwargs)\n",
       "\n",
       "*Get a CTXCollection of the volume for a given image (product_id).*"
      ]
     },
     "execution_count": 71,
     "metadata": {},
     "output_type": "execute_result"
    }
   ],
   "source": [
    "show_doc(CTXCollection.volume_from_pid)"
   ]
  },
  {
   "cell_type": "markdown",
   "id": "0b60eb2d-7e0b-4ccf-a337-0d61be361936",
   "metadata": {},
   "source": [
    "We define an example list of `product_id`s:"
   ]
  },
  {
   "cell_type": "code",
   "execution_count": 72,
   "id": "fd709736-157c-4375-b08d-d139da699986",
   "metadata": {},
   "outputs": [
    {
     "data": {
      "text/plain": [
       "136286    U12_075730_1229_XN_57S226W\n",
       "22759     B11_013783_1919_XN_11N021W\n",
       "51718     D05_029090_0936_XN_86S261W\n",
       "Name: PRODUCT_ID, dtype: string"
      ]
     },
     "execution_count": 72,
     "metadata": {},
     "output_type": "execute_result"
    }
   ],
   "source": [
    "ids = get_edr_index().sample(3, random_state=41).PRODUCT_ID\n",
    "ids"
   ]
  },
  {
   "cell_type": "code",
   "execution_count": 73,
   "id": "1ec8d485-e957-4f10-8737-dd1caf0fd85b",
   "metadata": {},
   "outputs": [
    {
     "data": {
      "text/plain": [
       "20"
      ]
     },
     "execution_count": 73,
     "metadata": {},
     "output_type": "execute_result"
    }
   ],
   "source": [
    "CTXCollection.volume_from_pid(ids.values[0]).n_items  # getting the whole volume here"
   ]
  },
  {
   "cell_type": "code",
   "execution_count": 74,
   "id": "a379b990-2739-4387-99f4-55134c1614e5",
   "metadata": {},
   "outputs": [],
   "source": [
    "coll = CTXCollection(ids)"
   ]
  },
  {
   "cell_type": "code",
   "execution_count": 75,
   "id": "296d7c7e-77c7-4d80-91a8-6b7de2c0a8b7",
   "metadata": {},
   "outputs": [
    {
     "data": {
      "text/plain": [
       "[('B11_013783_1919_XN_11N021W', False),\n",
       " ('D05_029090_0936_XN_86S261W', False),\n",
       " ('U12_075730_1229_XN_57S226W', False)]"
      ]
     },
     "execution_count": 75,
     "metadata": {},
     "output_type": "execute_result"
    }
   ],
   "source": [
    "coll.edr_exist_check()"
   ]
  },
  {
   "cell_type": "code",
   "execution_count": 76,
   "id": "81d5d7c0-489a-4e71-bdde-24eda599ca9e",
   "metadata": {},
   "outputs": [
    {
     "data": {
      "text/plain": [
       "[URL('https://pds-imaging.jpl.nasa.gov/data/mro/mars_reconnaissance_orbiter/ctx/mrox_0845/data/B11_013783_1919_XN_11N021W.IMG'),\n",
       " URL('https://pds-imaging.jpl.nasa.gov/data/mro/mars_reconnaissance_orbiter/ctx/mrox_1752/data/D05_029090_0936_XN_86S261W.IMG'),\n",
       " URL('https://pds-imaging.jpl.nasa.gov/data/mro/mars_reconnaissance_orbiter/ctx/mrox_4376/data/U12_075730_1229_XN_57S226W.IMG')]"
      ]
     },
     "execution_count": 76,
     "metadata": {},
     "output_type": "execute_result"
    }
   ],
   "source": [
    "coll.get_urls()"
   ]
  },
  {
   "cell_type": "markdown",
   "id": "ea3103a0-b853-46c7-b4b1-a59230f62068",
   "metadata": {},
   "source": [
    "The next command launches a parallel download:"
   ]
  },
  {
   "cell_type": "code",
   "execution_count": 77,
   "id": "9df5c8a1-b3e7-4f59-98df-cd99640d65d7",
   "metadata": {},
   "outputs": [
    {
     "name": "stdout",
     "output_type": "stream",
     "text": [
      "Downloading collection...\n"
     ]
    },
    {
     "data": {
      "application/vnd.jupyter.widget-view+json": {
       "model_id": "222ae1c7ba034321b7381c21108318ba",
       "version_major": 2,
       "version_minor": 0
      },
      "text/plain": [
       "0it [00:00, ?it/s]"
      ]
     },
     "metadata": {},
     "output_type": "display_data"
    }
   ],
   "source": [
    "coll.download_collection(overwrite=False)"
   ]
  },
  {
   "cell_type": "markdown",
   "id": "d7b74a48-c216-4be8-a33e-42a23ad562a1",
   "metadata": {},
   "source": [
    "This is performing the ISIS import and calibration in parallel:"
   ]
  },
  {
   "cell_type": "code",
   "execution_count": null,
   "id": "a79b1f34-a54c-4cfd-add2-b26ea5374e55",
   "metadata": {},
   "outputs": [],
   "source": [
    "coll.calibrate_collection()"
   ]
  },
  {
   "cell_type": "code",
   "execution_count": null,
   "id": "2a0d3fce-3a72-4e6f-94f4-564749458a97",
   "metadata": {},
   "outputs": [
    {
     "data": {
      "text/plain": [
       "[('G02_018931_1907_XI_10N166W', False),\n",
       " ('G16_024548_2195_XI_39N161W', False),\n",
       " ('G20_026104_2617_XN_81N181W', False)]"
      ]
     },
     "execution_count": null,
     "metadata": {},
     "output_type": "execute_result"
    }
   ],
   "source": [
    "coll.calib_exist_check()"
   ]
  },
  {
   "cell_type": "code",
   "execution_count": null,
   "id": "07e646d0-24c3-4bcf-86c1-e168319ee3ac",
   "metadata": {},
   "outputs": [],
   "source": [
    "coll = CTXCollection.by_volume(4114)"
   ]
  },
  {
   "cell_type": "code",
   "execution_count": null,
   "id": "364b9095-0d9c-4416-a3e2-ccf79eecb728",
   "metadata": {},
   "outputs": [
    {
     "data": {
      "text/plain": [
       "<StringArray>\n",
       "['N20_069979_1676_XI_12S177W', 'N20_069980_1676_XI_12S205W',\n",
       " 'N20_069981_1919_XI_11N234W', 'N20_069982_1380_XI_42S255W',\n",
       " 'N20_069982_1820_XI_02N261W', 'N20_069982_2287_XN_48N269W',\n",
       " 'N20_069983_1442_XI_35S283W', 'N20_069984_1686_XI_11S313W',\n",
       " 'N20_069984_2097_XI_29N319W', 'N20_069985_2064_XI_26N345W',\n",
       " 'N20_069986_2025_XI_22N012W', 'N20_069987_2243_XN_44N042W',\n",
       " 'N20_069991_1451_XI_34S142W', 'N20_069991_1940_XI_14N149W',\n",
       " 'N20_069992_1761_XI_03S173W', 'N20_069993_1724_XI_07S200W',\n",
       " 'N20_069994_1753_XI_04S227W', 'N20_069995_1633_XI_16S254W',\n",
       " 'N20_069995_2028_XI_22N258W', 'N20_069996_2085_XN_28N285W',\n",
       " 'N20_069997_1479_XI_32S306W', 'N20_069999_1558_XI_24S003W',\n",
       " 'N20_070004_1931_XI_13N144W', 'N20_070006_1430_XI_37S191W',\n",
       " 'N20_070007_1793_XI_00S223W', 'N20_070009_2018_XN_21N282W',\n",
       " 'N20_070010_1466_XI_33S301W', 'N20_070011_1507_XI_29S328W',\n",
       " 'N20_070011_2252_XI_45N338W', 'N20_070012_1824_XN_02N001W']\n",
       "Length: 30, dtype: string"
      ]
     },
     "execution_count": null,
     "metadata": {},
     "output_type": "execute_result"
    }
   ],
   "source": [
    "coll.product_ids"
   ]
  },
  {
   "cell_type": "code",
   "execution_count": null,
   "id": "509fcd0f-4d65-41f7-92c8-478e1f6ac0fe",
   "metadata": {},
   "outputs": [
    {
     "data": {
      "text/markdown": [
       "---\n",
       "\n",
       "[source](https://github.com/michaelaye/nbplanetary/blob/master/planetarypy/ctx.py#L506){target=\"_blank\" style=\"float:right; font-size:smaller\"}\n",
       "\n",
       "### CTXCollection.get_corrupted\n",
       "\n",
       ">      CTXCollection.get_corrupted ()\n",
       "\n",
       "Return the product_ids where the PDS index file has an 'ERROR' flag for the `DATA_QUALITY_DESC` field."
      ],
      "text/plain": [
       "---\n",
       "\n",
       "[source](https://github.com/michaelaye/nbplanetary/blob/master/planetarypy/ctx.py#L506){target=\"_blank\" style=\"float:right; font-size:smaller\"}\n",
       "\n",
       "### CTXCollection.get_corrupted\n",
       "\n",
       ">      CTXCollection.get_corrupted ()\n",
       "\n",
       "Return the product_ids where the PDS index file has an 'ERROR' flag for the `DATA_QUALITY_DESC` field."
      ]
     },
     "execution_count": null,
     "metadata": {},
     "output_type": "execute_result"
    }
   ],
   "source": [
    "show_doc(CTXCollection.get_corrupted)"
   ]
  },
  {
   "cell_type": "code",
   "execution_count": null,
   "id": "0114893e-077d-4fb3-9a7c-f37635d126fc",
   "metadata": {},
   "outputs": [
    {
     "data": {
      "text/plain": [
       "['N20_069991_1451_XI_34S142W',\n",
       " 'N20_069992_1761_XI_03S173W',\n",
       " 'N20_069993_1724_XI_07S200W',\n",
       " 'N20_069994_1753_XI_04S227W',\n",
       " 'N20_069997_1479_XI_32S306W',\n",
       " 'N20_070010_1466_XI_33S301W',\n",
       " 'N20_070012_1824_XN_02N001W']"
      ]
     },
     "execution_count": null,
     "metadata": {},
     "output_type": "execute_result"
    }
   ],
   "source": [
    "coll.get_corrupted()"
   ]
  },
  {
   "cell_type": "code",
   "execution_count": null,
   "id": "6e98b9c8-eab6-4761-8052-66286f74f723",
   "metadata": {},
   "outputs": [
    {
     "data": {
      "text/markdown": [
       "---\n",
       "\n",
       "[source](https://github.com/michaelaye/nbplanetary/blob/master/planetarypy/ctx.py#L492){target=\"_blank\" style=\"float:right; font-size:smaller\"}\n",
       "\n",
       "### CTXCollection.n_items\n",
       "\n",
       ">      CTXCollection.n_items ()\n",
       "\n",
       "Return length of product_ids list."
      ],
      "text/plain": [
       "---\n",
       "\n",
       "[source](https://github.com/michaelaye/nbplanetary/blob/master/planetarypy/ctx.py#L492){target=\"_blank\" style=\"float:right; font-size:smaller\"}\n",
       "\n",
       "### CTXCollection.n_items\n",
       "\n",
       ">      CTXCollection.n_items ()\n",
       "\n",
       "Return length of product_ids list."
      ]
     },
     "execution_count": null,
     "metadata": {},
     "output_type": "execute_result"
    }
   ],
   "source": [
    "show_doc(CTXCollection.n_items)"
   ]
  },
  {
   "cell_type": "code",
   "execution_count": null,
   "id": "fd66197b-c5e9-4860-b564-841ccca3299e",
   "metadata": {},
   "outputs": [
    {
     "data": {
      "text/plain": [
       "30"
      ]
     },
     "execution_count": null,
     "metadata": {},
     "output_type": "execute_result"
    }
   ],
   "source": [
    "coll.n_items"
   ]
  },
  {
   "cell_type": "code",
   "execution_count": null,
   "id": "f566cca3-031b-4aad-be5f-0e0e3fc9952f",
   "metadata": {},
   "outputs": [
    {
     "data": {
      "text/markdown": [
       "---\n",
       "\n",
       "[source](https://github.com/michaelaye/nbplanetary/blob/master/planetarypy/ctx.py#L523){target=\"_blank\" style=\"float:right; font-size:smaller\"}\n",
       "\n",
       "### CTXCollection.sample\n",
       "\n",
       ">      CTXCollection.sample (n)\n",
       "\n",
       "Return random sample of product_ids, size `n`."
      ],
      "text/plain": [
       "---\n",
       "\n",
       "[source](https://github.com/michaelaye/nbplanetary/blob/master/planetarypy/ctx.py#L523){target=\"_blank\" style=\"float:right; font-size:smaller\"}\n",
       "\n",
       "### CTXCollection.sample\n",
       "\n",
       ">      CTXCollection.sample (n)\n",
       "\n",
       "Return random sample of product_ids, size `n`."
      ]
     },
     "execution_count": null,
     "metadata": {},
     "output_type": "execute_result"
    }
   ],
   "source": [
    "show_doc(CTXCollection.sample)"
   ]
  },
  {
   "cell_type": "code",
   "execution_count": null,
   "id": "2a0321ce-e05c-4315-91de-79007db44940",
   "metadata": {},
   "outputs": [
    {
     "data": {
      "text/plain": [
       "['N20_070006_1430_XI_37S191W',\n",
       " 'N20_069999_1558_XI_24S003W',\n",
       " 'N20_069986_2025_XI_22N012W',\n",
       " 'N20_069983_1442_XI_35S283W']"
      ]
     },
     "execution_count": null,
     "metadata": {},
     "output_type": "execute_result"
    }
   ],
   "source": [
    "coll.sample(4)"
   ]
  },
  {
   "cell_type": "code",
   "execution_count": null,
   "id": "6437802e-a708-4660-891b-3d01be76a549",
   "metadata": {},
   "outputs": [
    {
     "data": {
      "text/markdown": [
       "---\n",
       "\n",
       "[source](https://github.com/michaelaye/nbplanetary/blob/master/planetarypy/ctx.py#L497){target=\"_blank\" style=\"float:right; font-size:smaller\"}\n",
       "\n",
       "### CTXCollection.meta\n",
       "\n",
       ">      CTXCollection.meta ()\n",
       "\n",
       "Return the index file filtered for the given product_ids."
      ],
      "text/plain": [
       "---\n",
       "\n",
       "[source](https://github.com/michaelaye/nbplanetary/blob/master/planetarypy/ctx.py#L497){target=\"_blank\" style=\"float:right; font-size:smaller\"}\n",
       "\n",
       "### CTXCollection.meta\n",
       "\n",
       ">      CTXCollection.meta ()\n",
       "\n",
       "Return the index file filtered for the given product_ids."
      ]
     },
     "execution_count": null,
     "metadata": {},
     "output_type": "execute_result"
    }
   ],
   "source": [
    "show_doc(CTXCollection.meta)"
   ]
  },
  {
   "cell_type": "code",
   "execution_count": null,
   "id": "e0ab8807-0456-47c6-89b4-0ea2029b93be",
   "metadata": {},
   "outputs": [
    {
     "data": {
      "text/html": [
       "<div>\n",
       "<style scoped>\n",
       "    .dataframe tbody tr th:only-of-type {\n",
       "        vertical-align: middle;\n",
       "    }\n",
       "\n",
       "    .dataframe tbody tr th {\n",
       "        vertical-align: top;\n",
       "    }\n",
       "\n",
       "    .dataframe thead th {\n",
       "        text-align: right;\n",
       "    }\n",
       "</style>\n",
       "<table border=\"1\" class=\"dataframe\">\n",
       "  <thead>\n",
       "    <tr style=\"text-align: right;\">\n",
       "      <th></th>\n",
       "      <th>VOLUME_ID</th>\n",
       "      <th>FILE_SPECIFICATION_NAME</th>\n",
       "      <th>ORIGINAL_PRODUCT_ID</th>\n",
       "      <th>PRODUCT_ID</th>\n",
       "      <th>IMAGE_TIME</th>\n",
       "      <th>INSTRUMENT_ID</th>\n",
       "      <th>INSTRUMENT_MODE_ID</th>\n",
       "      <th>LINE_SAMPLES</th>\n",
       "      <th>LINES</th>\n",
       "      <th>SPATIAL_SUMMING</th>\n",
       "      <th>SCALED_PIXEL_WIDTH</th>\n",
       "      <th>PIXEL_ASPECT_RATIO</th>\n",
       "      <th>EMISSION_ANGLE</th>\n",
       "      <th>INCIDENCE_ANGLE</th>\n",
       "      <th>PHASE_ANGLE</th>\n",
       "      <th>CENTER_LONGITUDE</th>\n",
       "      <th>CENTER_LATITUDE</th>\n",
       "      <th>UPPER_LEFT_LONGITUDE</th>\n",
       "      <th>UPPER_LEFT_LATITUDE</th>\n",
       "      <th>UPPER_RIGHT_LONGITUDE</th>\n",
       "      <th>UPPER_RIGHT_LATITUDE</th>\n",
       "      <th>LOWER_LEFT_LONGITUDE</th>\n",
       "      <th>LOWER_LEFT_LATITUDE</th>\n",
       "      <th>LOWER_RIGHT_LONGITUDE</th>\n",
       "      <th>LOWER_RIGHT_LATITUDE</th>\n",
       "      <th>MISSION_PHASE_NAME</th>\n",
       "      <th>TARGET_NAME</th>\n",
       "      <th>SPACECRAFT_CLOCK_START_COUNT</th>\n",
       "      <th>FOCAL_PLANE_TEMPERATURE</th>\n",
       "      <th>LINE_EXPOSURE_DURATION</th>\n",
       "      <th>OFFSET_MODE_ID</th>\n",
       "      <th>SAMPLE_FIRST_PIXEL</th>\n",
       "      <th>SCALED_IMAGE_WIDTH</th>\n",
       "      <th>SCALED_IMAGE_HEIGHT</th>\n",
       "      <th>SPACECRAFT_ALTITUDE</th>\n",
       "      <th>TARGET_CENTER_DISTANCE</th>\n",
       "      <th>SLANT_DISTANCE</th>\n",
       "      <th>USAGE_NOTE</th>\n",
       "      <th>NORTH_AZIMUTH</th>\n",
       "      <th>SUB_SOLAR_AZIMUTH</th>\n",
       "      <th>SUB_SOLAR_LONGITUDE</th>\n",
       "      <th>SUB_SOLAR_LATITUDE</th>\n",
       "      <th>SUB_SPACECRAFT_LONGITUDE</th>\n",
       "      <th>SUB_SPACECRAFT_LATITUDE</th>\n",
       "      <th>SOLAR_DISTANCE</th>\n",
       "      <th>SOLAR_LONGITUDE</th>\n",
       "      <th>LOCAL_TIME</th>\n",
       "      <th>IMAGE_SKEW_ANGLE</th>\n",
       "      <th>RATIONALE_DESC</th>\n",
       "      <th>DATA_QUALITY_DESC</th>\n",
       "      <th>ORBIT_NUMBER</th>\n",
       "      <th>short_pid</th>\n",
       "      <th>month_col</th>\n",
       "    </tr>\n",
       "  </thead>\n",
       "  <tbody>\n",
       "    <tr>\n",
       "      <th>127546</th>\n",
       "      <td>MROX_4114</td>\n",
       "      <td>DATA/N20_069979_1676_XI_12S177W.IMG</td>\n",
       "      <td>4A_04_1165000100</td>\n",
       "      <td>N20_069979_1676_XI_12S177W</td>\n",
       "      <td>2021-07-01 02:22:53.651</td>\n",
       "      <td>CTX</td>\n",
       "      <td>ITL</td>\n",
       "      <td>5056</td>\n",
       "      <td>43008</td>\n",
       "      <td>1</td>\n",
       "      <td>5.3</td>\n",
       "      <td>1.14</td>\n",
       "      <td>5.3</td>\n",
       "      <td>65.18</td>\n",
       "      <td>61.08</td>\n",
       "      <td>177.4</td>\n",
       "      <td>-12.53</td>\n",
       "      <td>177.37</td>\n",
       "      <td>-14.74</td>\n",
       "      <td>176.91</td>\n",
       "      <td>-14.69</td>\n",
       "      <td>177.89</td>\n",
       "      <td>-10.37</td>\n",
       "      <td>177.43</td>\n",
       "      <td>-10.32</td>\n",
       "      <td>ESP</td>\n",
       "      <td>MARS</td>\n",
       "      <td>1309573428:228</td>\n",
       "      <td>291.3</td>\n",
       "      <td>1.877</td>\n",
       "      <td>196/188/183</td>\n",
       "      <td>0</td>\n",
       "      <td>26.53</td>\n",
       "      <td>260.74</td>\n",
       "      <td>262.71</td>\n",
       "      <td>3657.97</td>\n",
       "      <td>263.76</td>\n",
       "      <td>N</td>\n",
       "      <td>276.79</td>\n",
       "      <td>219.82</td>\n",
       "      <td>233.3</td>\n",
       "      <td>23.12</td>\n",
       "      <td>177.78</td>\n",
       "      <td>-12.56</td>\n",
       "      <td>249116269.6</td>\n",
       "      <td>65.97</td>\n",
       "      <td>15.72</td>\n",
       "      <td>90.2</td>\n",
       "      <td>Northern Terra Sirenum</td>\n",
       "      <td>OK</td>\n",
       "      <td>69979</td>\n",
       "      <td>N20_069979_1676</td>\n",
       "      <td>N20</td>\n",
       "    </tr>\n",
       "    <tr>\n",
       "      <th>127547</th>\n",
       "      <td>MROX_4114</td>\n",
       "      <td>DATA/N20_069980_1676_XI_12S205W.IMG</td>\n",
       "      <td>4A_04_1165000200</td>\n",
       "      <td>N20_069980_1676_XI_12S205W</td>\n",
       "      <td>2021-07-01 04:15:32.600</td>\n",
       "      <td>CTX</td>\n",
       "      <td>ITL</td>\n",
       "      <td>5056</td>\n",
       "      <td>18432</td>\n",
       "      <td>1</td>\n",
       "      <td>5.26</td>\n",
       "      <td>1.15</td>\n",
       "      <td>2.48</td>\n",
       "      <td>64.99</td>\n",
       "      <td>63.03</td>\n",
       "      <td>204.93</td>\n",
       "      <td>-12.5</td>\n",
       "      <td>205.04</td>\n",
       "      <td>-13.46</td>\n",
       "      <td>204.59</td>\n",
       "      <td>-13.41</td>\n",
       "      <td>205.26</td>\n",
       "      <td>-11.59</td>\n",
       "      <td>204.81</td>\n",
       "      <td>-11.53</td>\n",
       "      <td>ESP</td>\n",
       "      <td>MARS</td>\n",
       "      <td>1309580187:215</td>\n",
       "      <td>290.9</td>\n",
       "      <td>1.877</td>\n",
       "      <td>196/188/183</td>\n",
       "      <td>0</td>\n",
       "      <td>26.34</td>\n",
       "      <td>111.73</td>\n",
       "      <td>262.54</td>\n",
       "      <td>3657.8</td>\n",
       "      <td>262.77</td>\n",
       "      <td>N</td>\n",
       "      <td>276.75</td>\n",
       "      <td>219.87</td>\n",
       "      <td>260.62</td>\n",
       "      <td>23.13</td>\n",
       "      <td>205.11</td>\n",
       "      <td>-12.51</td>\n",
       "      <td>249117636.2</td>\n",
       "      <td>66.0</td>\n",
       "      <td>15.71</td>\n",
       "      <td>90.1</td>\n",
       "      <td>Valleys in Terra Cimmeria</td>\n",
       "      <td>OK</td>\n",
       "      <td>69980</td>\n",
       "      <td>N20_069980_1676</td>\n",
       "      <td>N20</td>\n",
       "    </tr>\n",
       "    <tr>\n",
       "      <th>127548</th>\n",
       "      <td>MROX_4114</td>\n",
       "      <td>DATA/N20_069981_1919_XI_11N234W.IMG</td>\n",
       "      <td>4A_04_1165000300</td>\n",
       "      <td>N20_069981_1919_XI_11N234W</td>\n",
       "      <td>2021-07-01 06:14:46.674</td>\n",
       "      <td>CTX</td>\n",
       "      <td>ITL</td>\n",
       "      <td>5056</td>\n",
       "      <td>52224</td>\n",
       "      <td>1</td>\n",
       "      <td>5.62</td>\n",
       "      <td>1.07</td>\n",
       "      <td>8.13</td>\n",
       "      <td>53.43</td>\n",
       "      <td>46.2</td>\n",
       "      <td>234.64</td>\n",
       "      <td>11.91</td>\n",
       "      <td>234.58</td>\n",
       "      <td>9.25</td>\n",
       "      <td>234.1</td>\n",
       "      <td>9.3</td>\n",
       "      <td>235.2</td>\n",
       "      <td>14.52</td>\n",
       "      <td>234.71</td>\n",
       "      <td>14.57</td>\n",
       "      <td>ESP</td>\n",
       "      <td>MARS</td>\n",
       "      <td>1309587341:234</td>\n",
       "      <td>291.1</td>\n",
       "      <td>1.877</td>\n",
       "      <td>196/188/183</td>\n",
       "      <td>0</td>\n",
       "      <td>28.12</td>\n",
       "      <td>314.36</td>\n",
       "      <td>275.31</td>\n",
       "      <td>3670.67</td>\n",
       "      <td>277.89</td>\n",
       "      <td>N</td>\n",
       "      <td>276.65</td>\n",
       "      <td>206.74</td>\n",
       "      <td>289.76</td>\n",
       "      <td>23.14</td>\n",
       "      <td>235.27</td>\n",
       "      <td>11.85</td>\n",
       "      <td>249118514.0</td>\n",
       "      <td>66.04</td>\n",
       "      <td>15.66</td>\n",
       "      <td>90.0</td>\n",
       "      <td>Nepenthes Planum region</td>\n",
       "      <td>OK</td>\n",
       "      <td>69981</td>\n",
       "      <td>N20_069981_1919</td>\n",
       "      <td>N20</td>\n",
       "    </tr>\n",
       "    <tr>\n",
       "      <th>127549</th>\n",
       "      <td>MROX_4114</td>\n",
       "      <td>DATA/N20_069982_1380_XI_42S255W.IMG</td>\n",
       "      <td>4A_04_1165000400</td>\n",
       "      <td>N20_069982_1380_XI_42S255W</td>\n",
       "      <td>2021-07-01 07:50:56.614</td>\n",
       "      <td>CTX</td>\n",
       "      <td>ITL</td>\n",
       "      <td>2528</td>\n",
       "      <td>7168</td>\n",
       "      <td>2</td>\n",
       "      <td>10.25</td>\n",
       "      <td>1.19</td>\n",
       "      <td>4.87</td>\n",
       "      <td>83.98</td>\n",
       "      <td>80.5</td>\n",
       "      <td>255.35</td>\n",
       "      <td>-42.07</td>\n",
       "      <td>255.52</td>\n",
       "      <td>-42.83</td>\n",
       "      <td>254.94</td>\n",
       "      <td>-42.77</td>\n",
       "      <td>255.75</td>\n",
       "      <td>-41.37</td>\n",
       "      <td>255.18</td>\n",
       "      <td>-41.32</td>\n",
       "      <td>ESP</td>\n",
       "      <td>MARS</td>\n",
       "      <td>1309593111:219</td>\n",
       "      <td>291.2</td>\n",
       "      <td>1.884</td>\n",
       "      <td>196/188/183</td>\n",
       "      <td>0</td>\n",
       "      <td>25.65</td>\n",
       "      <td>87.09</td>\n",
       "      <td>254.99</td>\n",
       "      <td>3642.26</td>\n",
       "      <td>255.85</td>\n",
       "      <td>N</td>\n",
       "      <td>276.84</td>\n",
       "      <td>225.48</td>\n",
       "      <td>313.02</td>\n",
       "      <td>23.14</td>\n",
       "      <td>255.8</td>\n",
       "      <td>-42.1</td>\n",
       "      <td>249121323.6</td>\n",
       "      <td>66.07</td>\n",
       "      <td>15.84</td>\n",
       "      <td>90.1</td>\n",
       "      <td>Apron in the Hellas Montes region</td>\n",
       "      <td>OK</td>\n",
       "      <td>69982</td>\n",
       "      <td>N20_069982_1380</td>\n",
       "      <td>N20</td>\n",
       "    </tr>\n",
       "    <tr>\n",
       "      <th>127550</th>\n",
       "      <td>MROX_4114</td>\n",
       "      <td>DATA/N20_069982_1820_XI_02N261W.IMG</td>\n",
       "      <td>4A_04_1165000500</td>\n",
       "      <td>N20_069982_1820_XI_02N261W</td>\n",
       "      <td>2021-07-01 08:03:55.615</td>\n",
       "      <td>CTX</td>\n",
       "      <td>ITL</td>\n",
       "      <td>5056</td>\n",
       "      <td>52224</td>\n",
       "      <td>1</td>\n",
       "      <td>5.42</td>\n",
       "      <td>1.11</td>\n",
       "      <td>5.11</td>\n",
       "      <td>57.47</td>\n",
       "      <td>53.17</td>\n",
       "      <td>261.02</td>\n",
       "      <td>2.02</td>\n",
       "      <td>260.94</td>\n",
       "      <td>-0.66</td>\n",
       "      <td>260.49</td>\n",
       "      <td>-0.6</td>\n",
       "      <td>261.57</td>\n",
       "      <td>4.63</td>\n",
       "      <td>261.11</td>\n",
       "      <td>4.69</td>\n",
       "      <td>ESP</td>\n",
       "      <td>MARS</td>\n",
       "      <td>1309593890:219</td>\n",
       "      <td>291.0</td>\n",
       "      <td>1.877</td>\n",
       "      <td>196/188/183</td>\n",
       "      <td>0</td>\n",
       "      <td>27.13</td>\n",
       "      <td>315.79</td>\n",
       "      <td>268.72</td>\n",
       "      <td>3664.89</td>\n",
       "      <td>269.71</td>\n",
       "      <td>N</td>\n",
       "      <td>276.84</td>\n",
       "      <td>213.19</td>\n",
       "      <td>316.33</td>\n",
       "      <td>23.14</td>\n",
       "      <td>261.4</td>\n",
       "      <td>1.98</td>\n",
       "      <td>249120029.2</td>\n",
       "      <td>66.07</td>\n",
       "      <td>15.67</td>\n",
       "      <td>90.1</td>\n",
       "      <td>Tyrrhena Terra</td>\n",
       "      <td>OK</td>\n",
       "      <td>69982</td>\n",
       "      <td>N20_069982_1820</td>\n",
       "      <td>N20</td>\n",
       "    </tr>\n",
       "  </tbody>\n",
       "</table>\n",
       "</div>"
      ],
      "text/plain": [
       "        VOLUME_ID              FILE_SPECIFICATION_NAME ORIGINAL_PRODUCT_ID  \\\n",
       "127546  MROX_4114  DATA/N20_069979_1676_XI_12S177W.IMG    4A_04_1165000100   \n",
       "127547  MROX_4114  DATA/N20_069980_1676_XI_12S205W.IMG    4A_04_1165000200   \n",
       "127548  MROX_4114  DATA/N20_069981_1919_XI_11N234W.IMG    4A_04_1165000300   \n",
       "127549  MROX_4114  DATA/N20_069982_1380_XI_42S255W.IMG    4A_04_1165000400   \n",
       "127550  MROX_4114  DATA/N20_069982_1820_XI_02N261W.IMG    4A_04_1165000500   \n",
       "\n",
       "                        PRODUCT_ID              IMAGE_TIME INSTRUMENT_ID  \\\n",
       "127546  N20_069979_1676_XI_12S177W 2021-07-01 02:22:53.651           CTX   \n",
       "127547  N20_069980_1676_XI_12S205W 2021-07-01 04:15:32.600           CTX   \n",
       "127548  N20_069981_1919_XI_11N234W 2021-07-01 06:14:46.674           CTX   \n",
       "127549  N20_069982_1380_XI_42S255W 2021-07-01 07:50:56.614           CTX   \n",
       "127550  N20_069982_1820_XI_02N261W 2021-07-01 08:03:55.615           CTX   \n",
       "\n",
       "       INSTRUMENT_MODE_ID  LINE_SAMPLES  LINES  SPATIAL_SUMMING  \\\n",
       "127546                ITL          5056  43008                1   \n",
       "127547                ITL          5056  18432                1   \n",
       "127548                ITL          5056  52224                1   \n",
       "127549                ITL          2528   7168                2   \n",
       "127550                ITL          5056  52224                1   \n",
       "\n",
       "        SCALED_PIXEL_WIDTH  PIXEL_ASPECT_RATIO  EMISSION_ANGLE  \\\n",
       "127546                 5.3                1.14             5.3   \n",
       "127547                5.26                1.15            2.48   \n",
       "127548                5.62                1.07            8.13   \n",
       "127549               10.25                1.19            4.87   \n",
       "127550                5.42                1.11            5.11   \n",
       "\n",
       "        INCIDENCE_ANGLE  PHASE_ANGLE  CENTER_LONGITUDE  CENTER_LATITUDE  \\\n",
       "127546            65.18        61.08             177.4           -12.53   \n",
       "127547            64.99        63.03            204.93            -12.5   \n",
       "127548            53.43         46.2            234.64            11.91   \n",
       "127549            83.98         80.5            255.35           -42.07   \n",
       "127550            57.47        53.17            261.02             2.02   \n",
       "\n",
       "        UPPER_LEFT_LONGITUDE  UPPER_LEFT_LATITUDE  UPPER_RIGHT_LONGITUDE  \\\n",
       "127546                177.37               -14.74                 176.91   \n",
       "127547                205.04               -13.46                 204.59   \n",
       "127548                234.58                 9.25                  234.1   \n",
       "127549                255.52               -42.83                 254.94   \n",
       "127550                260.94                -0.66                 260.49   \n",
       "\n",
       "        UPPER_RIGHT_LATITUDE  LOWER_LEFT_LONGITUDE  LOWER_LEFT_LATITUDE  \\\n",
       "127546                -14.69                177.89               -10.37   \n",
       "127547                -13.41                205.26               -11.59   \n",
       "127548                   9.3                 235.2                14.52   \n",
       "127549                -42.77                255.75               -41.37   \n",
       "127550                  -0.6                261.57                 4.63   \n",
       "\n",
       "        LOWER_RIGHT_LONGITUDE  LOWER_RIGHT_LATITUDE MISSION_PHASE_NAME  \\\n",
       "127546                 177.43                -10.32                ESP   \n",
       "127547                 204.81                -11.53                ESP   \n",
       "127548                 234.71                 14.57                ESP   \n",
       "127549                 255.18                -41.32                ESP   \n",
       "127550                 261.11                  4.69                ESP   \n",
       "\n",
       "       TARGET_NAME SPACECRAFT_CLOCK_START_COUNT  FOCAL_PLANE_TEMPERATURE  \\\n",
       "127546        MARS               1309573428:228                    291.3   \n",
       "127547        MARS               1309580187:215                    290.9   \n",
       "127548        MARS               1309587341:234                    291.1   \n",
       "127549        MARS               1309593111:219                    291.2   \n",
       "127550        MARS               1309593890:219                    291.0   \n",
       "\n",
       "        LINE_EXPOSURE_DURATION OFFSET_MODE_ID  SAMPLE_FIRST_PIXEL  \\\n",
       "127546                   1.877    196/188/183                   0   \n",
       "127547                   1.877    196/188/183                   0   \n",
       "127548                   1.877    196/188/183                   0   \n",
       "127549                   1.884    196/188/183                   0   \n",
       "127550                   1.877    196/188/183                   0   \n",
       "\n",
       "        SCALED_IMAGE_WIDTH  SCALED_IMAGE_HEIGHT  SPACECRAFT_ALTITUDE  \\\n",
       "127546               26.53               260.74               262.71   \n",
       "127547               26.34               111.73               262.54   \n",
       "127548               28.12               314.36               275.31   \n",
       "127549               25.65                87.09               254.99   \n",
       "127550               27.13               315.79               268.72   \n",
       "\n",
       "        TARGET_CENTER_DISTANCE  SLANT_DISTANCE USAGE_NOTE  NORTH_AZIMUTH  \\\n",
       "127546                 3657.97          263.76          N         276.79   \n",
       "127547                  3657.8          262.77          N         276.75   \n",
       "127548                 3670.67          277.89          N         276.65   \n",
       "127549                 3642.26          255.85          N         276.84   \n",
       "127550                 3664.89          269.71          N         276.84   \n",
       "\n",
       "        SUB_SOLAR_AZIMUTH  SUB_SOLAR_LONGITUDE  SUB_SOLAR_LATITUDE  \\\n",
       "127546             219.82                233.3               23.12   \n",
       "127547             219.87               260.62               23.13   \n",
       "127548             206.74               289.76               23.14   \n",
       "127549             225.48               313.02               23.14   \n",
       "127550             213.19               316.33               23.14   \n",
       "\n",
       "        SUB_SPACECRAFT_LONGITUDE  SUB_SPACECRAFT_LATITUDE  SOLAR_DISTANCE  \\\n",
       "127546                    177.78                   -12.56     249116269.6   \n",
       "127547                    205.11                   -12.51     249117636.2   \n",
       "127548                    235.27                    11.85     249118514.0   \n",
       "127549                     255.8                    -42.1     249121323.6   \n",
       "127550                     261.4                     1.98     249120029.2   \n",
       "\n",
       "        SOLAR_LONGITUDE  LOCAL_TIME  IMAGE_SKEW_ANGLE  \\\n",
       "127546            65.97       15.72              90.2   \n",
       "127547             66.0       15.71              90.1   \n",
       "127548            66.04       15.66              90.0   \n",
       "127549            66.07       15.84              90.1   \n",
       "127550            66.07       15.67              90.1   \n",
       "\n",
       "                           RATIONALE_DESC DATA_QUALITY_DESC  ORBIT_NUMBER  \\\n",
       "127546             Northern Terra Sirenum                OK         69979   \n",
       "127547          Valleys in Terra Cimmeria                OK         69980   \n",
       "127548            Nepenthes Planum region                OK         69981   \n",
       "127549  Apron in the Hellas Montes region                OK         69982   \n",
       "127550                     Tyrrhena Terra                OK         69982   \n",
       "\n",
       "              short_pid month_col  \n",
       "127546  N20_069979_1676       N20  \n",
       "127547  N20_069980_1676       N20  \n",
       "127548  N20_069981_1919       N20  \n",
       "127549  N20_069982_1380       N20  \n",
       "127550  N20_069982_1820       N20  "
      ]
     },
     "execution_count": null,
     "metadata": {},
     "output_type": "execute_result"
    }
   ],
   "source": [
    "coll.meta.head()"
   ]
  },
  {
   "cell_type": "code",
   "execution_count": null,
   "id": "3d185a58-bfc5-4cff-addc-0fd35097697f",
   "metadata": {},
   "outputs": [
    {
     "data": {
      "text/markdown": [
       "---\n",
       "\n",
       "[source](https://github.com/michaelaye/nbplanetary/blob/master/planetarypy/ctx.py#L502){target=\"_blank\" style=\"float:right; font-size:smaller\"}\n",
       "\n",
       "### CTXCollection.image_times\n",
       "\n",
       ">      CTXCollection.image_times ()\n",
       "\n",
       "Return the image observation times."
      ],
      "text/plain": [
       "---\n",
       "\n",
       "[source](https://github.com/michaelaye/nbplanetary/blob/master/planetarypy/ctx.py#L502){target=\"_blank\" style=\"float:right; font-size:smaller\"}\n",
       "\n",
       "### CTXCollection.image_times\n",
       "\n",
       ">      CTXCollection.image_times ()\n",
       "\n",
       "Return the image observation times."
      ]
     },
     "execution_count": null,
     "metadata": {},
     "output_type": "execute_result"
    }
   ],
   "source": [
    "show_doc(CTXCollection.image_times)"
   ]
  },
  {
   "cell_type": "code",
   "execution_count": null,
   "id": "09c435c9-2c3e-4a2d-8c5a-23c442ba34cd",
   "metadata": {},
   "outputs": [
    {
     "data": {
      "text/plain": [
       "127546   2021-07-01 02:22:53.651\n",
       "127547   2021-07-01 04:15:32.600\n",
       "127548   2021-07-01 06:14:46.674\n",
       "127549   2021-07-01 07:50:56.614\n",
       "127550   2021-07-01 08:03:55.615\n",
       "127551   2021-07-01 08:19:18.963\n",
       "127552   2021-07-01 09:44:54.631\n",
       "127553   2021-07-01 11:44:29.607\n",
       "127554   2021-07-01 11:57:15.646\n",
       "127555   2021-07-01 13:48:19.595\n",
       "127556   2021-07-01 15:39:04.638\n",
       "127557   2021-07-01 17:38:53.212\n",
       "127558   2021-07-02 00:42:16.641\n",
       "127559   2021-07-02 00:57:36.688\n",
       "127560   2021-07-02 02:44:15.621\n",
       "127561   2021-07-02 04:35:30.668\n",
       "127562   2021-07-02 06:28:38.621\n",
       "127563   2021-07-02 08:16:50.660\n",
       "127564   2021-07-02 08:29:27.601\n",
       "127565   2021-07-02 10:23:41.558\n",
       "127566   2021-07-02 11:56:54.648\n",
       "127567   2021-07-02 15:43:37.659\n",
       "127568   2021-07-03 01:16:03.651\n",
       "127569   2021-07-03 04:45:28.607\n",
       "127570   2021-07-03 06:48:35.596\n",
       "127571   2021-07-03 10:40:22.119\n",
       "127572   2021-07-03 12:14:51.615\n",
       "127573   2021-07-03 14:08:48.673\n",
       "127574   2021-07-03 14:31:39.582\n",
       "127575   2021-07-03 16:10:56.454\n",
       "Name: IMAGE_TIME, dtype: datetime64[ns]"
      ]
     },
     "execution_count": null,
     "metadata": {},
     "output_type": "execute_result"
    }
   ],
   "source": [
    "coll.image_times"
   ]
  },
  {
   "cell_type": "markdown",
   "id": "cac9b775-8cd8-47c3-a3ce-b9bba9324eef",
   "metadata": {},
   "source": [
    "Also cool: `pandas` can do time-average:"
   ]
  },
  {
   "cell_type": "code",
   "execution_count": null,
   "id": "cf9bbd45-2feb-4a65-a94f-e423fe0fd0ce",
   "metadata": {},
   "outputs": [
    {
     "data": {
      "text/plain": [
       "Timestamp('2021-07-02 05:45:11.936933376')"
      ]
     },
     "execution_count": null,
     "metadata": {},
     "output_type": "execute_result"
    }
   ],
   "source": [
    "coll.image_times.mean()"
   ]
  },
  {
   "cell_type": "code",
   "execution_count": null,
   "id": "7fc4fb74-5e70-4f5a-a006-195d301b08b0",
   "metadata": {},
   "outputs": [
    {
     "data": {
      "text/markdown": [
       "---\n",
       "\n",
       "[source](https://github.com/michaelaye/nbplanetary/blob/master/planetarypy/ctx.py#L483){target=\"_blank\" style=\"float:right; font-size:smaller\"}\n",
       "\n",
       "### CTXCollection.get_ctx_n\n",
       "\n",
       ">      CTXCollection.get_ctx_n (n)\n",
       "\n",
       "Get CTX object for n-th product_id"
      ],
      "text/plain": [
       "---\n",
       "\n",
       "[source](https://github.com/michaelaye/nbplanetary/blob/master/planetarypy/ctx.py#L483){target=\"_blank\" style=\"float:right; font-size:smaller\"}\n",
       "\n",
       "### CTXCollection.get_ctx_n\n",
       "\n",
       ">      CTXCollection.get_ctx_n (n)\n",
       "\n",
       "Get CTX object for n-th product_id"
      ]
     },
     "execution_count": null,
     "metadata": {},
     "output_type": "execute_result"
    }
   ],
   "source": [
    "show_doc(CTXCollection.get_ctx_n)"
   ]
  },
  {
   "cell_type": "code",
   "execution_count": null,
   "id": "8a1aee6b-1157-457c-99ec-953334deb171",
   "metadata": {},
   "outputs": [
    {
     "data": {
      "text/plain": [
       "PRODUCT_ID: N20_069981_1919_XI_11N234W\n",
       "URL: https://pds-imaging.jpl.nasa.gov/data/mro/mars_reconnaissance_orbiter/ctx/mrox_4114/data/N20_069981_1919_XI_11N234W.IMG\n",
       "source_path: /remote/trove/geo/planet/Mars/CTX/pds/mrox_4114/N20_069981_1919_XI_11N234W.IMG\n",
       "Shape: (52224, 5056)"
      ]
     },
     "execution_count": null,
     "metadata": {},
     "output_type": "execute_result"
    }
   ],
   "source": [
    "coll.get_ctx_n(2)"
   ]
  },
  {
   "cell_type": "code",
   "execution_count": null,
   "id": "ab6cf794-c792-4869-9120-7aebb41708d4",
   "metadata": {},
   "outputs": [
    {
     "data": {
      "text/markdown": [
       "---\n",
       "\n",
       "[source](https://github.com/michaelaye/nbplanetary/blob/master/planetarypy/ctx.py#L487){target=\"_blank\" style=\"float:right; font-size:smaller\"}\n",
       "\n",
       "### CTXCollection.get_pid_n\n",
       "\n",
       ">      CTXCollection.get_pid_n (n)\n",
       "\n",
       "Get pid for n-th entry in product_ids."
      ],
      "text/plain": [
       "---\n",
       "\n",
       "[source](https://github.com/michaelaye/nbplanetary/blob/master/planetarypy/ctx.py#L487){target=\"_blank\" style=\"float:right; font-size:smaller\"}\n",
       "\n",
       "### CTXCollection.get_pid_n\n",
       "\n",
       ">      CTXCollection.get_pid_n (n)\n",
       "\n",
       "Get pid for n-th entry in product_ids."
      ]
     },
     "execution_count": null,
     "metadata": {},
     "output_type": "execute_result"
    }
   ],
   "source": [
    "show_doc(CTXCollection.get_pid_n)"
   ]
  },
  {
   "cell_type": "code",
   "execution_count": null,
   "id": "ba678696-c80b-4f7f-a9f1-0a11086979c5",
   "metadata": {},
   "outputs": [
    {
     "data": {
      "text/plain": [
       "'N20_069981_1919_XI_11N234W'"
      ]
     },
     "execution_count": null,
     "metadata": {},
     "output_type": "execute_result"
    }
   ],
   "source": [
    "coll.get_pid_n(2)"
   ]
  },
  {
   "cell_type": "code",
   "execution_count": null,
   "id": "2ad71cac-baea-48b0-9ff9-79fa6f42bc79",
   "metadata": {},
   "outputs": [],
   "source": [
    "coll = CTXCollection.by_month(\"N21\")"
   ]
  },
  {
   "cell_type": "code",
   "execution_count": null,
   "id": "249289cd-5728-41b8-a1d7-0f0ecbda86f9",
   "metadata": {},
   "outputs": [
    {
     "data": {
      "text/plain": [
       "342"
      ]
     },
     "execution_count": null,
     "metadata": {},
     "output_type": "execute_result"
    }
   ],
   "source": [
    "len(coll.product_ids)"
   ]
  },
  {
   "cell_type": "code",
   "execution_count": null,
   "id": "284cee71-4268-4821-ac95-3b1f4e92b262",
   "metadata": {},
   "outputs": [
    {
     "data": {
      "text/plain": [
       "# of product IDs: 342\n",
       "Volumes contained in list of product_ids:\n",
       "<StringArray>\n",
       "['MROX_4126', 'MROX_4127', 'MROX_4128', 'MROX_4129', 'MROX_4130', 'MROX_4131',\n",
       " 'MROX_4132', 'MROX_4133']\n",
       "Length: 8, dtype: string"
      ]
     },
     "execution_count": null,
     "metadata": {},
     "output_type": "execute_result"
    }
   ],
   "source": [
    "coll"
   ]
  },
  {
   "cell_type": "markdown",
   "id": "ddc14486-fc80-4511-a57e-8adc8812f025",
   "metadata": {},
   "source": [
    "## Command line interfaces"
   ]
  },
  {
   "cell_type": "code",
   "execution_count": null,
   "id": "ba541896-8f6d-4318-867f-e4b76136ff4e",
   "metadata": {},
   "outputs": [],
   "source": [
    "# | export\n",
    "@call_parse\n",
    "def ctx_calib(\n",
    "    pid: str,  # CTX product_id\n",
    "    source: str = \"\",  # path to where EDRs are stored if not from plpy\n",
    "    proc_root: str = \"\",  # path to where processed data is to be stored\n",
    "    overwrite: bool = False,  # overwrite processed data\n",
    "):\n",
    "    ctx = CTX(pid, source_dir=source, proc_root=proc_root)\n",
    "    ctx.calib_pipeline(overwrite=overwrite)\n",
    "    print(\"Produced\\n\", ctx.cal_path)"
   ]
  },
  {
   "cell_type": "code",
   "execution_count": null,
   "id": "4ec65cba-b151-43c0-a431-d2ee229ce3d3",
   "metadata": {},
   "outputs": [],
   "source": [
    "ctx_calib(pid, overwrite=True)"
   ]
  },
  {
   "cell_type": "code",
   "execution_count": null,
   "id": "4c307968-1cda-4076-8dff-9d5336f8a372",
   "metadata": {},
   "outputs": [],
   "source": [
    "from nbdev import nbdev_export\n",
    "\n",
    "nbdev_export()"
   ]
  },
  {
   "cell_type": "code",
   "execution_count": null,
   "id": "1b005cf5-5aa9-43a3-8742-0a7eb890721c",
   "metadata": {},
   "outputs": [],
   "source": []
  }
 ],
 "metadata": {
  "kernelspec": {
   "display_name": "python3",
   "language": "python",
   "name": "python3"
  }
 },
 "nbformat": 4,
 "nbformat_minor": 5
}
