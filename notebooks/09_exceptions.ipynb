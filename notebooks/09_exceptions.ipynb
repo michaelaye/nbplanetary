{
 "cells": [
  {
   "cell_type": "code",
   "execution_count": 1,
   "id": "625f92a2-cace-482e-851e-ff644e6f6cda",
   "metadata": {},
   "outputs": [],
   "source": [
    "#| default_exp exceptions"
   ]
  },
  {
   "cell_type": "markdown",
   "id": "f9b4f307-a8a5-460a-80a6-60a74df9749c",
   "metadata": {},
   "source": [
    "# Package exceptions\n",
    "> Specialized exceptions that provide better feed-back"
   ]
  },
  {
   "cell_type": "code",
   "execution_count": 2,
   "id": "898b4392-e0fe-4dbf-8e77-91829fe4db55",
   "metadata": {},
   "outputs": [],
   "source": [
    "#| export\n",
    "class Error(Exception):\n",
    "    \"\"\"Base class for exceptions in this module.\"\"\"\n",
    "\n",
    "    pass\n",
    "\n",
    "\n",
    "class SomethingNotSetError(Error):\n",
    "    \"\"\"Exception raised for errors in the input of transformations.\n",
    "\n",
    "    Attributes:\n",
    "        where -- where is something missing\n",
    "        what     -- what is missing\n",
    "    \"\"\"\n",
    "\n",
    "    def __init__(self, where, what):\n",
    "        self.where = where\n",
    "        self.what = what\n",
    "\n",
    "    def __str__(self):\n",
    "        return \"{0} not set in {1}\".format(self.what, self.where)\n",
    "\n",
    "\n",
    "class ProjectionNotSetError(SomethingNotSetError):\n",
    "    what = \"Projection\"\n",
    "\n",
    "\n",
    "class GeoTransformNotSetError(SomethingNotSetError):\n",
    "    what = \"GeoTransform\"\n",
    "\n",
    "\n",
    "class KMASpiceError(Exception):\n",
    "    \"\"\"Base class for exceptions in this module.\"\"\"\n",
    "\n",
    "    pass\n",
    "\n",
    "\n",
    "class SPointNotSetError(KMASpiceError):\n",
    "    def __str__(self):\n",
    "        return \"\"\"You are trying to use a method that requires that the surface\n",
    "point is defined. The class member is <spoint>. It can be set using the method\n",
    "'set_spoint_by'. This operation had no effect.\"\"\"\n",
    "\n",
    "\n",
    "class ObserverNotSetError(KMASpiceError):\n",
    "    def __str__(self):\n",
    "        return \"\"\"The method you called requires an observer to be set.\n",
    "                  This operation had no effect.\"\"\""
   ]
  }
 ],
 "metadata": {
  "kernelspec": {
   "display_name": "Python [conda env:py310] *",
   "language": "python",
   "name": "conda-env-py310-py"
  },
  "language_info": {
   "codemirror_mode": {
    "name": "ipython",
    "version": 3
   },
   "file_extension": ".py",
   "mimetype": "text/x-python",
   "name": "python",
   "nbconvert_exporter": "python",
   "pygments_lexer": "ipython3",
   "version": "3.10.6"
  }
 },
 "nbformat": 4,
 "nbformat_minor": 5
}
