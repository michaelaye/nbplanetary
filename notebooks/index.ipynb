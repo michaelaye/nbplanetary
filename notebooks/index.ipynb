{
 "cells": [
  {
   "cell_type": "markdown",
   "metadata": {},
   "source": [
    "# PlanetaryPy\n",
    "> Beta release: This will become (part of) the core package of the [PlanetaryPy](https://planetarypy.org/) organisation."
   ]
  },
  {
   "cell_type": "markdown",
   "metadata": {},
   "source": [
    "Potential logo:![image.png](images/epilup_with_python_logo_with_axis.png)"
   ]
  },
  {
   "cell_type": "markdown",
   "metadata": {},
   "source": [
    "## Install\n",
    "\n",
    "```bash\n",
    "pip install planetarypy\n",
    "```\n",
    "\n",
    "This will pull in these other dependencies and their dependencies:\n",
    "\n",
    "`tomlkit pandas pvl numpy python-dateutil tqdm lxml yarl hirise-tools kalasiris`\n"
   ]
  },
  {
   "cell_type": "markdown",
   "metadata": {},
   "source": [
    "## Suggested standard abbreviations: \n",
    "* Inside these docs the package will be called `PLPY` for brevity.\n",
    "* A standard Python import could be: `plp` or `plpy`\n",
    "  * because the last `p` in `plp` can be pronounced out, we consider these equivalent for human conversation and pronounce these \"plippy\"."
   ]
  },
  {
   "cell_type": "markdown",
   "metadata": {},
   "source": [
    "## General scope\n",
    "\n",
    "First and foremost this package should provide support in working with planetary science data.\n",
    "\n",
    "With `working` we mean:\n",
    "\n",
    "* locating\n",
    "* retrieving\n",
    "* reading\n",
    "* further processing\n",
    "\n",
    "of data.\n",
    "\n",
    "### Locating\n",
    "This library manages, via its `PDS tools`, multiple PDS3 index files per instrument that can be used for identifying data of interest.\n",
    "These index files are automatically downloaded and converted to the very performant (and cloud-ready) [parquet](https://pandas.pydata.org/pandas-docs/stable/reference/api/pandas.read_parquet.html) file format.\n",
    "> Parquet is able to store advanced datatypes like nan-capable integer and full datetime objects, as opposed to HDF5.\n",
    "\n",
    "### Retrieving\n",
    "\n",
    "The interface to getting data is via a path-retrieving function based on a PDS product-id.\n",
    "If that product-id is available locally, the path will be returned.\n",
    "If it is not, it will previously be downloaded, stored in a systematic fashion organized by mission and instrument, and then the local path will be returned.\n",
    "\n",
    "### Reading\n",
    "For now, the library only returns the path to the object and the user needs to sort out the reading process.\n",
    "A recently funded NASA project `Planetary Data Reader` will be integrated here, so that basic reading into memory can be provided.\n",
    "\n",
    "As such, we anticipate two classes of reading support:\n",
    "1. basic reading into numpy and/or xarray\n",
    "1. added reader functionality like basic plots and basic geospatial processing, as supported by interested parties\n",
    "\n",
    "There will exist larger other packages that focus on working with a given instrument's data, in which case that package could become an affiliated package with the `planetarypy` GitHub organization, if so desired.\n",
    "\n",
    "### Further processing\n",
    "In the future, additional frequently used procedures will be added to this library, e.g.\n",
    "* frequently used GDAL/rasterio procedures\n",
    "* frequently used SPICE operations\n",
    "  * like surface illumination on a given body"
   ]
  },
  {
   "cell_type": "markdown",
   "metadata": {},
   "source": [
    "## PDS tools\n",
    "\n",
    "Look at the `Apps` docs to see what `pds.apps` exist for easily getting PDS indexes.\n",
    "The `find_index` app is specifically useful when you don't know what index files exist.\n",
    "\n",
    "So far, the following indexes are supported (but not necessarily all tested within PLPY):\n",
    "\n",
    "* Cassini\n",
    "  * ISS (all)\n",
    "  * UVIS (all)\n",
    "* MRO\n",
    "  * CTX\n",
    "      EDR\n",
    "  * HiRISE\n",
    "    * EDR, RDR, DTM\n",
    "      * EDR index has a bug (as delivered by the team, reported), where I need to activate an existing fix for it.\n",
    "* LRO\n",
    "  * Diviner (DLRE)\n",
    "    * EDR, RDR\n",
    "  * LOLA\n",
    "    * EDR, RDR\n",
    "    \n",
    "### More indexes\n",
    "More indexes of other instruments can be easily added by following the existing structure of what has been copied into your config at `~/.planetarypy_config.toml`.\n",
    "\n",
    "Please consider submitting a pull request for adding further PDS index files into the config file at its source: https://github.com/michaelaye/nbplanetary/blob/master/planetarypy/data/planetarypy_config.toml"
   ]
  },
  {
   "cell_type": "markdown",
   "metadata": {},
   "source": [
    "## Utils\n",
    "Find something in `Utils` for working with NASA timestamps and a well working URL download function `url_retrieve`, among other stuff.\n",
    "\n",
    "## Experiment/Instrument Specific\n",
    "\n",
    "So far, `planetarypy` supports CTX EDR and HiRISE RGB.NOMAP data.\n",
    "Look at the `CTX` and `HiRISE` pages for descriptions of classes for working with these data."
   ]
  },
  {
   "cell_type": "markdown",
   "metadata": {},
   "source": [
    "## Bug reports\n",
    "\n",
    "Please submit bug reports at https://github.com/michaelaye/nbplanetary/issues"
   ]
  },
  {
   "cell_type": "markdown",
   "metadata": {},
   "source": [
    "## How to use\n",
    "\n",
    "### Indexes\n",
    "\n",
    "See [PDS apps](02c_pds.apps.ipynb) for more details."
   ]
  },
  {
   "cell_type": "code",
   "execution_count": null,
   "metadata": {},
   "outputs": [],
   "source": [
    "from planetarypy.pds.apps import get_index"
   ]
  },
  {
   "cell_type": "code",
   "execution_count": null,
   "metadata": {},
   "outputs": [
    {
     "name": "stdout",
     "output_type": "stream",
     "text": [
      "Stored index is up-to-date.\n"
     ]
    },
    {
     "data": {
      "text/html": [
       "<div>\n",
       "<style scoped>\n",
       "    .dataframe tbody tr th:only-of-type {\n",
       "        vertical-align: middle;\n",
       "    }\n",
       "\n",
       "    .dataframe tbody tr th {\n",
       "        vertical-align: top;\n",
       "    }\n",
       "\n",
       "    .dataframe thead th {\n",
       "        text-align: right;\n",
       "    }\n",
       "</style>\n",
       "<table border=\"1\" class=\"dataframe\">\n",
       "  <thead>\n",
       "    <tr style=\"text-align: right;\">\n",
       "      <th></th>\n",
       "      <th>VOLUME_ID</th>\n",
       "      <th>FILE_SPECIFICATION_NAME</th>\n",
       "      <th>ORIGINAL_PRODUCT_ID</th>\n",
       "      <th>PRODUCT_ID</th>\n",
       "      <th>IMAGE_TIME</th>\n",
       "      <th>INSTRUMENT_ID</th>\n",
       "      <th>INSTRUMENT_MODE_ID</th>\n",
       "      <th>LINE_SAMPLES</th>\n",
       "      <th>LINES</th>\n",
       "      <th>SPATIAL_SUMMING</th>\n",
       "      <th>...</th>\n",
       "      <th>SUB_SOLAR_LATITUDE</th>\n",
       "      <th>SUB_SPACECRAFT_LONGITUDE</th>\n",
       "      <th>SUB_SPACECRAFT_LATITUDE</th>\n",
       "      <th>SOLAR_DISTANCE</th>\n",
       "      <th>SOLAR_LONGITUDE</th>\n",
       "      <th>LOCAL_TIME</th>\n",
       "      <th>IMAGE_SKEW_ANGLE</th>\n",
       "      <th>RATIONALE_DESC</th>\n",
       "      <th>DATA_QUALITY_DESC</th>\n",
       "      <th>ORBIT_NUMBER</th>\n",
       "    </tr>\n",
       "  </thead>\n",
       "  <tbody>\n",
       "    <tr>\n",
       "      <th>26491</th>\n",
       "      <td>MROX_0964</td>\n",
       "      <td>DATA/B17_016473_1740_XN_06S018W.IMG</td>\n",
       "      <td>4A_04_1050062800</td>\n",
       "      <td>B17_016473_1740_XN_06S018W</td>\n",
       "      <td>2010-01-31 02:01:44.947</td>\n",
       "      <td>CTX</td>\n",
       "      <td>NIFL</td>\n",
       "      <td>5056</td>\n",
       "      <td>52224</td>\n",
       "      <td>1</td>\n",
       "      <td>...</td>\n",
       "      <td>17.77</td>\n",
       "      <td>16.8</td>\n",
       "      <td>-5.91</td>\n",
       "      <td>246673937.3</td>\n",
       "      <td>45.19</td>\n",
       "      <td>14.83</td>\n",
       "      <td>89.6</td>\n",
       "      <td>Ride-along with HiRISE</td>\n",
       "      <td>OK</td>\n",
       "      <td>16473</td>\n",
       "    </tr>\n",
       "    <tr>\n",
       "      <th>63218</th>\n",
       "      <td>MROX_2077</td>\n",
       "      <td>DATA/F01_036289_1668_XN_13S296W.IMG</td>\n",
       "      <td>4A_04_10B603B000</td>\n",
       "      <td>F01_036289_1668_XN_13S296W</td>\n",
       "      <td>2014-04-24 04:14:02.581</td>\n",
       "      <td>CTX</td>\n",
       "      <td>NIFL</td>\n",
       "      <td>5056</td>\n",
       "      <td>9216</td>\n",
       "      <td>1</td>\n",
       "      <td>...</td>\n",
       "      <td>21.67</td>\n",
       "      <td>296.3</td>\n",
       "      <td>-13.17</td>\n",
       "      <td>240471585.2</td>\n",
       "      <td>120.81</td>\n",
       "      <td>15.5</td>\n",
       "      <td>90.2</td>\n",
       "      <td>Ride-along with HiRISE</td>\n",
       "      <td>OK</td>\n",
       "      <td>36289</td>\n",
       "    </tr>\n",
       "    <tr>\n",
       "      <th>108231</th>\n",
       "      <td>MROX_3472</td>\n",
       "      <td>DATA/K15_059422_2018_XN_21N035W.IMG</td>\n",
       "      <td>4A_04_112C030F00</td>\n",
       "      <td>K15_059422_2018_XN_21N035W</td>\n",
       "      <td>2019-03-31 15:54:32.383</td>\n",
       "      <td>CTX</td>\n",
       "      <td>NIFL</td>\n",
       "      <td>5056</td>\n",
       "      <td>7168</td>\n",
       "      <td>1</td>\n",
       "      <td>...</td>\n",
       "      <td>1.75</td>\n",
       "      <td>34.46</td>\n",
       "      <td>21.99</td>\n",
       "      <td>234469987.0</td>\n",
       "      <td>4.06</td>\n",
       "      <td>14.08</td>\n",
       "      <td>90.1</td>\n",
       "      <td>Ride-along with HiRISE</td>\n",
       "      <td>OK</td>\n",
       "      <td>59422</td>\n",
       "    </tr>\n",
       "    <tr>\n",
       "      <th>70723</th>\n",
       "      <td>MROX_2321</td>\n",
       "      <td>DATA/F09_039344_1423_XN_37S165W.IMG</td>\n",
       "      <td>4A_04_10C6018D00</td>\n",
       "      <td>F09_039344_1423_XN_37S165W</td>\n",
       "      <td>2014-12-18 04:29:08.464</td>\n",
       "      <td>CTX</td>\n",
       "      <td>NIFL</td>\n",
       "      <td>3776</td>\n",
       "      <td>8192</td>\n",
       "      <td>1</td>\n",
       "      <td>...</td>\n",
       "      <td>-24.5</td>\n",
       "      <td>165.27</td>\n",
       "      <td>-37.76</td>\n",
       "      <td>206661098.9</td>\n",
       "      <td>254.74</td>\n",
       "      <td>15.34</td>\n",
       "      <td>90.1</td>\n",
       "      <td>Terra Sirenum</td>\n",
       "      <td>OK</td>\n",
       "      <td>39344</td>\n",
       "    </tr>\n",
       "    <tr>\n",
       "      <th>28889</th>\n",
       "      <td>MROX_1056</td>\n",
       "      <td>DATA/B19_017097_1318_XN_48S126W.IMG</td>\n",
       "      <td>4A_04_1054040700</td>\n",
       "      <td>B19_017097_1318_XN_48S126W</td>\n",
       "      <td>2010-03-20 16:44:39.958</td>\n",
       "      <td>CTX</td>\n",
       "      <td>NIFL</td>\n",
       "      <td>5056</td>\n",
       "      <td>52224</td>\n",
       "      <td>1</td>\n",
       "      <td>...</td>\n",
       "      <td>23.24</td>\n",
       "      <td>126.77</td>\n",
       "      <td>-48.24</td>\n",
       "      <td>249141981.2</td>\n",
       "      <td>66.58</td>\n",
       "      <td>15.32</td>\n",
       "      <td>90.4</td>\n",
       "      <td>Terra Sirenum</td>\n",
       "      <td>OK</td>\n",
       "      <td>17097</td>\n",
       "    </tr>\n",
       "  </tbody>\n",
       "</table>\n",
       "<p>5 rows × 51 columns</p>\n",
       "</div>"
      ],
      "text/plain": [
       "        VOLUME_ID              FILE_SPECIFICATION_NAME ORIGINAL_PRODUCT_ID  \\\n",
       "26491   MROX_0964  DATA/B17_016473_1740_XN_06S018W.IMG    4A_04_1050062800   \n",
       "63218   MROX_2077  DATA/F01_036289_1668_XN_13S296W.IMG    4A_04_10B603B000   \n",
       "108231  MROX_3472  DATA/K15_059422_2018_XN_21N035W.IMG    4A_04_112C030F00   \n",
       "70723   MROX_2321  DATA/F09_039344_1423_XN_37S165W.IMG    4A_04_10C6018D00   \n",
       "28889   MROX_1056  DATA/B19_017097_1318_XN_48S126W.IMG    4A_04_1054040700   \n",
       "\n",
       "                        PRODUCT_ID              IMAGE_TIME INSTRUMENT_ID  \\\n",
       "26491   B17_016473_1740_XN_06S018W 2010-01-31 02:01:44.947           CTX   \n",
       "63218   F01_036289_1668_XN_13S296W 2014-04-24 04:14:02.581           CTX   \n",
       "108231  K15_059422_2018_XN_21N035W 2019-03-31 15:54:32.383           CTX   \n",
       "70723   F09_039344_1423_XN_37S165W 2014-12-18 04:29:08.464           CTX   \n",
       "28889   B19_017097_1318_XN_48S126W 2010-03-20 16:44:39.958           CTX   \n",
       "\n",
       "       INSTRUMENT_MODE_ID  LINE_SAMPLES  LINES  SPATIAL_SUMMING  ...  \\\n",
       "26491                NIFL          5056  52224                1  ...   \n",
       "63218                NIFL          5056   9216                1  ...   \n",
       "108231               NIFL          5056   7168                1  ...   \n",
       "70723                NIFL          3776   8192                1  ...   \n",
       "28889                NIFL          5056  52224                1  ...   \n",
       "\n",
       "        SUB_SOLAR_LATITUDE  SUB_SPACECRAFT_LONGITUDE  SUB_SPACECRAFT_LATITUDE  \\\n",
       "26491                17.77                      16.8                    -5.91   \n",
       "63218                21.67                     296.3                   -13.17   \n",
       "108231                1.75                     34.46                    21.99   \n",
       "70723                -24.5                    165.27                   -37.76   \n",
       "28889                23.24                    126.77                   -48.24   \n",
       "\n",
       "        SOLAR_DISTANCE  SOLAR_LONGITUDE  LOCAL_TIME  IMAGE_SKEW_ANGLE  \\\n",
       "26491      246673937.3            45.19       14.83              89.6   \n",
       "63218      240471585.2           120.81        15.5              90.2   \n",
       "108231     234469987.0             4.06       14.08              90.1   \n",
       "70723      206661098.9           254.74       15.34              90.1   \n",
       "28889      249141981.2            66.58       15.32              90.4   \n",
       "\n",
       "                RATIONALE_DESC  DATA_QUALITY_DESC  ORBIT_NUMBER  \n",
       "26491   Ride-along with HiRISE                 OK         16473  \n",
       "63218   Ride-along with HiRISE                 OK         36289  \n",
       "108231  Ride-along with HiRISE                 OK         59422  \n",
       "70723            Terra Sirenum                 OK         39344  \n",
       "28889            Terra Sirenum                 OK         17097  \n",
       "\n",
       "[5 rows x 51 columns]"
      ]
     },
     "execution_count": null,
     "metadata": {},
     "output_type": "execute_result"
    }
   ],
   "source": [
    "ctrindex = get_index(\"mro.ctx\", \"edr\")\n",
    "ctrindex.sample(5, random_state=42)  # setting random_state to always get same files for docs"
   ]
  },
  {
   "cell_type": "code",
   "execution_count": null,
   "metadata": {},
   "outputs": [
    {
     "name": "stdout",
     "output_type": "stream",
     "text": [
      "Stored index is up-to-date.\n"
     ]
    },
    {
     "data": {
      "text/html": [
       "<div>\n",
       "<style scoped>\n",
       "    .dataframe tbody tr th:only-of-type {\n",
       "        vertical-align: middle;\n",
       "    }\n",
       "\n",
       "    .dataframe tbody tr th {\n",
       "        vertical-align: top;\n",
       "    }\n",
       "\n",
       "    .dataframe thead th {\n",
       "        text-align: right;\n",
       "    }\n",
       "</style>\n",
       "<table border=\"1\" class=\"dataframe\">\n",
       "  <thead>\n",
       "    <tr style=\"text-align: right;\">\n",
       "      <th></th>\n",
       "      <th>VOLUME_ID</th>\n",
       "      <th>FILE_NAME_SPECIFICATION</th>\n",
       "      <th>INSTRUMENT_HOST_ID</th>\n",
       "      <th>INSTRUMENT_ID</th>\n",
       "      <th>OBSERVATION_ID</th>\n",
       "      <th>PRODUCT_ID</th>\n",
       "      <th>PRODUCT_VERSION_ID</th>\n",
       "      <th>TARGET_NAME</th>\n",
       "      <th>ORBIT_NUMBER</th>\n",
       "      <th>MISSION_PHASE_NAME</th>\n",
       "      <th>...</th>\n",
       "      <th>LINE_PROJECTION_OFFSET</th>\n",
       "      <th>SAMPLE_PROJECTION_OFFSET</th>\n",
       "      <th>CORNER1_LATITUDE</th>\n",
       "      <th>CORNER1_LONGITUDE</th>\n",
       "      <th>CORNER2_LATITUDE</th>\n",
       "      <th>CORNER2_LONGITUDE</th>\n",
       "      <th>CORNER3_LATITUDE</th>\n",
       "      <th>CORNER3_LONGITUDE</th>\n",
       "      <th>CORNER4_LATITUDE</th>\n",
       "      <th>CORNER4_LONGITUDE</th>\n",
       "    </tr>\n",
       "  </thead>\n",
       "  <tbody>\n",
       "    <tr>\n",
       "      <th>68663</th>\n",
       "      <td>MROHR_0001</td>\n",
       "      <td>RDR/ESP/ORB_036800_036899/ESP_036809_2640/ESP_...</td>\n",
       "      <td>MRO</td>\n",
       "      <td>HIRISE</td>\n",
       "      <td>ESP_036809_2640</td>\n",
       "      <td>ESP_036809_2640_COLOR</td>\n",
       "      <td>1</td>\n",
       "      <td>MARS</td>\n",
       "      <td>36809</td>\n",
       "      <td>Extended Science Phase</td>\n",
       "      <td>...</td>\n",
       "      <td>801810.0</td>\n",
       "      <td>1260530.0</td>\n",
       "      <td>83.6808</td>\n",
       "      <td>237.701</td>\n",
       "      <td>83.6727</td>\n",
       "      <td>237.516</td>\n",
       "      <td>83.9234</td>\n",
       "      <td>236.565</td>\n",
       "      <td>83.9318</td>\n",
       "      <td>236.757</td>\n",
       "    </tr>\n",
       "    <tr>\n",
       "      <th>56127</th>\n",
       "      <td>MROHR_0001</td>\n",
       "      <td>RDR/ESP/ORB_030800_030899/ESP_030831_1335/ESP_...</td>\n",
       "      <td>MRO</td>\n",
       "      <td>HIRISE</td>\n",
       "      <td>ESP_030831_1335</td>\n",
       "      <td>ESP_030831_1335_RED</td>\n",
       "      <td>1</td>\n",
       "      <td>MARS</td>\n",
       "      <td>30831</td>\n",
       "      <td>Extended Science Phase</td>\n",
       "      <td>...</td>\n",
       "      <td>-5451830.0</td>\n",
       "      <td>11875900.0</td>\n",
       "      <td>-46.3981</td>\n",
       "      <td>38.0734</td>\n",
       "      <td>-46.406</td>\n",
       "      <td>37.9435</td>\n",
       "      <td>-46.1322</td>\n",
       "      <td>37.9086</td>\n",
       "      <td>-46.1242</td>\n",
       "      <td>38.0378</td>\n",
       "    </tr>\n",
       "    <tr>\n",
       "      <th>18294</th>\n",
       "      <td>MROHR_0001</td>\n",
       "      <td>RDR/ESP/ORB_011400_011499/ESP_011400_1680/ESP_...</td>\n",
       "      <td>MRO</td>\n",
       "      <td>HIRISE</td>\n",
       "      <td>ESP_011400_1680</td>\n",
       "      <td>ESP_011400_1680_COLOR</td>\n",
       "      <td>2</td>\n",
       "      <td>MARS</td>\n",
       "      <td>11400</td>\n",
       "      <td>Extended Science Phase</td>\n",
       "      <td>...</td>\n",
       "      <td>-1402640.0</td>\n",
       "      <td>-7165880.0</td>\n",
       "      <td>-12.0828</td>\n",
       "      <td>241.439</td>\n",
       "      <td>-12.0848</td>\n",
       "      <td>241.421</td>\n",
       "      <td>-11.8342</td>\n",
       "      <td>241.39</td>\n",
       "      <td>-11.8321</td>\n",
       "      <td>241.407</td>\n",
       "    </tr>\n",
       "    <tr>\n",
       "      <th>96217</th>\n",
       "      <td>MROHR_0001</td>\n",
       "      <td>RDR/ESP/ORB_049600_049699/ESP_049673_1000/ESP_...</td>\n",
       "      <td>MRO</td>\n",
       "      <td>HIRISE</td>\n",
       "      <td>ESP_049673_1000</td>\n",
       "      <td>ESP_049673_1000_COLOR</td>\n",
       "      <td>1</td>\n",
       "      <td>MARS</td>\n",
       "      <td>49673</td>\n",
       "      <td>Extended Science Phase</td>\n",
       "      <td>...</td>\n",
       "      <td>-247898.5</td>\n",
       "      <td>-2325763.5</td>\n",
       "      <td>-80.0898</td>\n",
       "      <td>96.4902</td>\n",
       "      <td>-80.0948</td>\n",
       "      <td>96.3953</td>\n",
       "      <td>-79.8123</td>\n",
       "      <td>95.909</td>\n",
       "      <td>-79.8074</td>\n",
       "      <td>96.0015</td>\n",
       "    </tr>\n",
       "    <tr>\n",
       "      <th>30823</th>\n",
       "      <td>MROHR_0001</td>\n",
       "      <td>RDR/ESP/ORB_018300_018399/ESP_018301_2505/ESP_...</td>\n",
       "      <td>MRO</td>\n",
       "      <td>HIRISE</td>\n",
       "      <td>ESP_018301_2505</td>\n",
       "      <td>ESP_018301_2505_COLOR</td>\n",
       "      <td>1</td>\n",
       "      <td>MARS</td>\n",
       "      <td>18301</td>\n",
       "      <td>Extended Science Phase</td>\n",
       "      <td>...</td>\n",
       "      <td>1078760.0</td>\n",
       "      <td>-4561720.0</td>\n",
       "      <td>70.0663</td>\n",
       "      <td>103.136</td>\n",
       "      <td>70.0631</td>\n",
       "      <td>103.073</td>\n",
       "      <td>70.3287</td>\n",
       "      <td>102.954</td>\n",
       "      <td>70.332</td>\n",
       "      <td>103.018</td>\n",
       "    </tr>\n",
       "  </tbody>\n",
       "</table>\n",
       "<p>5 rows × 54 columns</p>\n",
       "</div>"
      ],
      "text/plain": [
       "        VOLUME_ID                            FILE_NAME_SPECIFICATION  \\\n",
       "68663  MROHR_0001  RDR/ESP/ORB_036800_036899/ESP_036809_2640/ESP_...   \n",
       "56127  MROHR_0001  RDR/ESP/ORB_030800_030899/ESP_030831_1335/ESP_...   \n",
       "18294  MROHR_0001  RDR/ESP/ORB_011400_011499/ESP_011400_1680/ESP_...   \n",
       "96217  MROHR_0001  RDR/ESP/ORB_049600_049699/ESP_049673_1000/ESP_...   \n",
       "30823  MROHR_0001  RDR/ESP/ORB_018300_018399/ESP_018301_2505/ESP_...   \n",
       "\n",
       "      INSTRUMENT_HOST_ID INSTRUMENT_ID   OBSERVATION_ID  \\\n",
       "68663                MRO        HIRISE  ESP_036809_2640   \n",
       "56127                MRO        HIRISE  ESP_030831_1335   \n",
       "18294                MRO        HIRISE  ESP_011400_1680   \n",
       "96217                MRO        HIRISE  ESP_049673_1000   \n",
       "30823                MRO        HIRISE  ESP_018301_2505   \n",
       "\n",
       "                  PRODUCT_ID  PRODUCT_VERSION_ID TARGET_NAME  ORBIT_NUMBER  \\\n",
       "68663  ESP_036809_2640_COLOR                   1        MARS         36809   \n",
       "56127    ESP_030831_1335_RED                   1        MARS         30831   \n",
       "18294  ESP_011400_1680_COLOR                   2        MARS         11400   \n",
       "96217  ESP_049673_1000_COLOR                   1        MARS         49673   \n",
       "30823  ESP_018301_2505_COLOR                   1        MARS         18301   \n",
       "\n",
       "           MISSION_PHASE_NAME  ... LINE_PROJECTION_OFFSET  \\\n",
       "68663  Extended Science Phase  ...               801810.0   \n",
       "56127  Extended Science Phase  ...             -5451830.0   \n",
       "18294  Extended Science Phase  ...             -1402640.0   \n",
       "96217  Extended Science Phase  ...              -247898.5   \n",
       "30823  Extended Science Phase  ...              1078760.0   \n",
       "\n",
       "      SAMPLE_PROJECTION_OFFSET CORNER1_LATITUDE CORNER1_LONGITUDE  \\\n",
       "68663                1260530.0          83.6808           237.701   \n",
       "56127               11875900.0         -46.3981           38.0734   \n",
       "18294               -7165880.0         -12.0828           241.439   \n",
       "96217               -2325763.5         -80.0898           96.4902   \n",
       "30823               -4561720.0          70.0663           103.136   \n",
       "\n",
       "      CORNER2_LATITUDE CORNER2_LONGITUDE CORNER3_LATITUDE  CORNER3_LONGITUDE  \\\n",
       "68663          83.6727           237.516          83.9234            236.565   \n",
       "56127          -46.406           37.9435         -46.1322            37.9086   \n",
       "18294         -12.0848           241.421         -11.8342             241.39   \n",
       "96217         -80.0948           96.3953         -79.8123             95.909   \n",
       "30823          70.0631           103.073          70.3287            102.954   \n",
       "\n",
       "       CORNER4_LATITUDE  CORNER4_LONGITUDE  \n",
       "68663           83.9318            236.757  \n",
       "56127          -46.1242            38.0378  \n",
       "18294          -11.8321            241.407  \n",
       "96217          -79.8074            96.0015  \n",
       "30823            70.332            103.018  \n",
       "\n",
       "[5 rows x 54 columns]"
      ]
     },
     "execution_count": null,
     "metadata": {},
     "output_type": "execute_result"
    }
   ],
   "source": [
    "hirise_rdr = get_index(\"mro.hirise\", \"rdr\")\n",
    "hirise_rdr.sample(5, random_state=42)"
   ]
  },
  {
   "cell_type": "markdown",
   "metadata": {},
   "source": [
    "## Instrument tools\n",
    "\n",
    "### CTX"
   ]
  },
  {
   "cell_type": "code",
   "execution_count": null,
   "metadata": {},
   "outputs": [],
   "source": [
    "from planetarypy.ctx import CTXEDR"
   ]
  },
  {
   "cell_type": "code",
   "execution_count": null,
   "metadata": {},
   "outputs": [
    {
     "data": {
      "text/plain": [
       "'B09_013187_1492_XN_30S303W'"
      ]
     },
     "execution_count": null,
     "metadata": {},
     "output_type": "execute_result"
    }
   ],
   "source": [
    "pid = ctrindex.sample().squeeze().PRODUCT_ID\n",
    "pid"
   ]
  },
  {
   "cell_type": "code",
   "execution_count": null,
   "metadata": {},
   "outputs": [],
   "source": [
    "ctxedr = CTXEDR(pid)"
   ]
  },
  {
   "cell_type": "code",
   "execution_count": null,
   "metadata": {},
   "outputs": [
    {
     "data": {
      "text/plain": [
       "Path('/home/maye/big_drive/planetary_data/missions/mro/ctx/edr/B09_013187_1492_XN_30S303W/B09_013187_1492_XN_30S303W.IMG')"
      ]
     },
     "execution_count": null,
     "metadata": {},
     "output_type": "execute_result"
    }
   ],
   "source": [
    "ctxedr.local_path"
   ]
  },
  {
   "cell_type": "code",
   "execution_count": null,
   "metadata": {},
   "outputs": [
    {
     "data": {
      "text/plain": [
       "PRODUCT_ID: B09_013187_1492_XN_30S303W\n",
       "URL: https://pds-imaging.jpl.nasa.gov/data/mro/mars_reconnaissance_orbiter/ctx/mrox_0817/data/B09_013187_1492_XN_30S303W.IMG\n",
       "Local: /home/maye/big_drive/planetary_data/missions/mro/ctx/edr/B09_013187_1492_XN_30S303W/B09_013187_1492_XN_30S303W.IMG\n",
       "Not downloaded yet."
      ]
     },
     "execution_count": null,
     "metadata": {},
     "output_type": "execute_result"
    }
   ],
   "source": [
    "ctxedr"
   ]
  },
  {
   "cell_type": "code",
   "execution_count": null,
   "metadata": {},
   "outputs": [
    {
     "data": {
      "application/vnd.jupyter.widget-view+json": {
       "model_id": "d436b655d1d64ff2a0bbbc2bf0708eae",
       "version_major": 2,
       "version_minor": 0
      },
      "text/plain": [
       "B09_013187_1492_XN_30S303W.IMG\n",
       ":   0%|          | 0/36246464 [00:00<?, ?it/s]"
      ]
     },
     "metadata": {},
     "output_type": "display_data"
    }
   ],
   "source": [
    "ctxedr.download()"
   ]
  },
  {
   "cell_type": "code",
   "execution_count": null,
   "metadata": {},
   "outputs": [
    {
     "data": {
      "text/plain": [
       "PRODUCT_ID: B09_013187_1492_XN_30S303W\n",
       "URL: https://pds-imaging.jpl.nasa.gov/data/mro/mars_reconnaissance_orbiter/ctx/mrox_0817/data/B09_013187_1492_XN_30S303W.IMG\n",
       "Local: /home/maye/big_drive/planetary_data/missions/mro/ctx/edr/B09_013187_1492_XN_30S303W/B09_013187_1492_XN_30S303W.IMG\n",
       "Shape: (1, 7168, 5056)"
      ]
     },
     "execution_count": null,
     "metadata": {},
     "output_type": "execute_result"
    }
   ],
   "source": [
    "ctxedr"
   ]
  },
  {
   "cell_type": "code",
   "execution_count": null,
   "metadata": {},
   "outputs": [],
   "source": []
  }
 ],
 "metadata": {
  "kernelspec": {
   "display_name": "Python 3 (ipykernel)",
   "language": "python",
   "name": "python3"
  }
 },
 "nbformat": 4,
 "nbformat_minor": 4
}
