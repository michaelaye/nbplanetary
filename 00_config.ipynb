{
 "cells": [
  {
   "cell_type": "code",
   "execution_count": null,
   "metadata": {},
   "outputs": [],
   "source": [
    "# default_exp config"
   ]
  },
  {
   "cell_type": "markdown",
   "metadata": {},
   "source": [
    "# Config\n",
    "\n",
    "> This module manages configuration of the package."
   ]
  },
  {
   "cell_type": "code",
   "execution_count": null,
   "metadata": {},
   "outputs": [],
   "source": [
    "# hide\n",
    "from nbdev.showdoc import show_doc"
   ]
  },
  {
   "cell_type": "code",
   "execution_count": null,
   "metadata": {},
   "outputs": [],
   "source": [
    "# export\n",
    "import os\n",
    "import toml\n",
    "from pathlib import Path"
   ]
  },
  {
   "cell_type": "code",
   "execution_count": null,
   "metadata": {},
   "outputs": [],
   "source": [
    "# export\n",
    "class Config:\n",
    "    \"\"\"Manage config stuff.\n",
    "\n",
    "    Attributes\n",
    "    -------\n",
    "    path: pathlib.Path\n",
    "\n",
    "    The key, value pairs found in the config file become attributes of the\n",
    "    class instance after initialization.\n",
    "    At minimum, there should be the `archive_path` attribute for storing data\n",
    "    for this package.\n",
    "    \"\"\"\n",
    "    # This enables a config path location override using env PYCISS_CONFIG\n",
    "    path = Path(os.getenv(\"PLANETARYPY_CONFIG\", Path.home() / '.planetarypy.toml'))\n",
    "\n",
    "    def __init__(self, other_config=None):\n",
    "        \"Switch to other config file location with `other_config`.\"\n",
    "        if other_config is not None:\n",
    "            self.path = Path(other_config)\n",
    "        self.get_config()\n",
    "\n",
    "    def get_config(self):\n",
    "        \"\"\"Read the configfile and store config dict.\n",
    "\n",
    "        If found, load config via `toml` and set each found (key, value) pair as \n",
    "        (attribute, value) pair in the `config` object.\n",
    "\n",
    "        At a minimum, `planetarypy` needs a `data_archive` path.\n",
    "        \"\"\"\n",
    "        p = self.path\n",
    "        if not p.exists():\n",
    "            self.not_found()\n",
    "        else:\n",
    "            with open(p) as f:\n",
    "                self.d = toml.load(f)\n",
    "                if not self.d:\n",
    "                    self.not_found()\n",
    "                # all found key.value pairs become attributes\n",
    "                for k, v in self.d.items():\n",
    "                    setattr(self, k, v)\n",
    "\n",
    "    @property\n",
    "    def data_archive_path(self):\n",
    "        return Path(self.data_archive)\n",
    "\n",
    "    def not_found(self):\n",
    "        \"\"\"Use input to ask user for the archive_path.\n",
    "\n",
    "        The path will be stored in the config file `Class.path` (either default or as given\n",
    "        during init.)\n",
    "        \"\"\"\n",
    "        path = input(\"Provide path where all downloaded and created data will be stored:\")\n",
    "        d = {}\n",
    "        d[\"archive_path\"] = path\n",
    "        self.archive_path = path\n",
    "        with self.path.open(\"w\") as f:\n",
    "            toml.dump(d, f)"
   ]
  },
  {
   "cell_type": "markdown",
   "metadata": {},
   "source": [
    "## The Config() object\n",
    "\n",
    "The `config` module instantiates a `config` object from the Config class.\n",
    "Its attributes can be used to access several aspects relevant to the configuration of `planetarypy`.\n",
    "Using an object approach enables easy growth and nesting over time.\n",
    "\n",
    "> Note: Any cell that starts with an `# export` becomes part of the library. Any other cells become automatically part of tests"
   ]
  },
  {
   "cell_type": "code",
   "execution_count": null,
   "metadata": {},
   "outputs": [],
   "source": [
    "# exports\n",
    "config = Config()"
   ]
  },
  {
   "cell_type": "code",
   "execution_count": null,
   "metadata": {},
   "outputs": [
    {
     "data": {
      "text/markdown": [
       "<h4 id=\"Config.get_config\" class=\"doc_header\"><code>Config.get_config</code><a href=\"__main__.py#L23\" class=\"source_link\" style=\"float:right\">[source]</a></h4>\n",
       "\n",
       "> <code>Config.get_config</code>()\n",
       "\n",
       "```\n",
       "Read the configfile and store config dict.\n",
       "\n",
       "If found, load config via `toml` and set each found (key, value) pair as \n",
       "(attribute, value) pair in the `config` object.\n",
       "\n",
       "At a minimum, `planetarypy` needs a `data_archive` path.\n",
       "```"
      ],
      "text/plain": [
       "<IPython.core.display.Markdown object>"
      ]
     },
     "metadata": {},
     "output_type": "display_data"
    }
   ],
   "source": [
    "show_doc(Config.get_config)"
   ]
  },
  {
   "cell_type": "code",
   "execution_count": null,
   "metadata": {},
   "outputs": [
    {
     "data": {
      "text/plain": [
       "'/home/maye/big_drive/planetary_data/planetarypy'"
      ]
     },
     "execution_count": null,
     "metadata": {},
     "output_type": "execute_result"
    }
   ],
   "source": [
    "config.data_archive"
   ]
  },
  {
   "cell_type": "code",
   "execution_count": null,
   "metadata": {},
   "outputs": [
    {
     "data": {
      "text/plain": [
       "Path('/home/maye/big_drive/planetary_data/planetarypy')"
      ]
     },
     "execution_count": null,
     "metadata": {},
     "output_type": "execute_result"
    }
   ],
   "source": [
    "config.data_archive_path"
   ]
  },
  {
   "cell_type": "code",
   "execution_count": null,
   "metadata": {},
   "outputs": [
    {
     "data": {
      "text/plain": [
       "{'data_archive': '/home/maye/big_drive/planetary_data/planetarypy'}"
      ]
     },
     "execution_count": null,
     "metadata": {},
     "output_type": "execute_result"
    }
   ],
   "source": [
    "config.d"
   ]
  },
  {
   "cell_type": "code",
   "execution_count": null,
   "metadata": {},
   "outputs": [],
   "source": []
  }
 ],
 "metadata": {
  "kernelspec": {
   "display_name": "Python 3",
   "language": "python",
   "name": "python3"
  }
 },
 "nbformat": 4,
 "nbformat_minor": 4
}
