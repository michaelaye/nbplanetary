{
 "cells": [
  {
   "cell_type": "code",
   "execution_count": null,
   "id": "latest-oakland",
   "metadata": {},
   "outputs": [],
   "source": [
    "# default_exp pds.indexes"
   ]
  },
  {
   "cell_type": "markdown",
   "id": "suited-swedish",
   "metadata": {},
   "source": [
    "# PDS Indexes\n",
    "\n",
    "> Support tools to work with PDS index files. "
   ]
  },
  {
   "cell_type": "code",
   "execution_count": null,
   "id": "nervous-hunter",
   "metadata": {},
   "outputs": [],
   "source": [
    "# hide\n",
    "from nbdev.showdoc import show_doc"
   ]
  },
  {
   "cell_type": "code",
   "execution_count": null,
   "id": "commercial-pension",
   "metadata": {},
   "outputs": [],
   "source": [
    "# export\n",
    "import logging\n",
    "from datetime import datetime\n",
    "from pathlib import Path\n",
    "from urllib.parse import urlsplit, urlunsplit\n",
    "from urllib.request import URLError\n",
    "\n",
    "import tomlkit as toml\n",
    "from dateutil import parser\n",
    "\n",
    "import pandas as pd\n",
    "from planetarypy import utils\n",
    "from planetarypy.config import config\n",
    "from planetarypy.pds.ctx_index import CTXIndex\n",
    "from planetarypy.pds.lroc_index import LROCIndex\n",
    "from planetarypy.pds.utils import IndexLabel\n",
    "\n",
    "logger = logging.getLogger(__name__)\n",
    "\n",
    "storage_root = Path(config.storage_root)"
   ]
  },
  {
   "cell_type": "code",
   "execution_count": null,
   "id": "3bfb2fdb-fa60-4ab1-80a0-e847d0d95a74",
   "metadata": {},
   "outputs": [],
   "source": [
    "# export\n",
    "dynamic_urls = {\"mro.ctx\": CTXIndex, \"lro.lroc\": LROCIndex}"
   ]
  },
  {
   "cell_type": "code",
   "execution_count": null,
   "id": "e9b88439-9188-415d-a18e-5ba50e78c0a9",
   "metadata": {},
   "outputs": [],
   "source": [
    "# hide\n",
    "# TODO: HiRISE EDR CumIndex needs to run fixer from pds.utils"
   ]
  },
  {
   "cell_type": "code",
   "execution_count": null,
   "id": "welcome-humanitarian",
   "metadata": {},
   "outputs": [
    {
     "data": {
      "text/plain": [
       "Path('/home/maye/big_drive/planetary_data')"
      ]
     },
     "execution_count": null,
     "metadata": {},
     "output_type": "execute_result"
    }
   ],
   "source": [
    "# hide\n",
    "storage_root"
   ]
  },
  {
   "cell_type": "code",
   "execution_count": null,
   "id": "developed-entertainment",
   "metadata": {},
   "outputs": [],
   "source": [
    "# export\n",
    "class Index:\n",
    "    \"\"\"Index manager class.\n",
    "\n",
    "    This class manages one index, identified by a dotted key, e.g. cassini.iss.ring_summary\n",
    "    \"\"\"\n",
    "\n",
    "    def __init__(\n",
    "        self,\n",
    "        key: str,  # Nested (dotted) key, e.g. cassini.iss.ring_summary\n",
    "        url: str = None,  # URL to index. If not given, will be read from config object.\n",
    "    ):\n",
    "        self.key = self.parse_key(key)\n",
    "        self.set_url(url)\n",
    "        try:\n",
    "            self.timestamp = parser.parse(config.get_value(self.key)[\"timestamp\"])\n",
    "        except toml.exceptions.NonExistentKey:\n",
    "            if self.local_label_path.exists():\n",
    "                self.timestamp = datetime.fromtimestamp(\n",
    "                    self.local_label_path.stat().st_mtime\n",
    "                )\n",
    "                self.update_timestamp()\n",
    "            else:\n",
    "                self.timestamp = None\n",
    "        self.new_timestamp = None  # filled by needs_download()\n",
    "\n",
    "    def parse_key(\n",
    "        self,\n",
    "        key: str,  # dotted key\n",
    "    ):\n",
    "        \"\"\"Take care of different ways how the key could be structured.\n",
    "\n",
    "        This involves adding the sub-key `indexes` for the config file structure,\n",
    "        which is something the user of this class should not need to know.\n",
    "        \"\"\"\n",
    "        tmp = key if key.startswith(\"missions\") else \"missions.\" + key\n",
    "        subs = tmp.split(\".\")\n",
    "        if subs[3] != \"indexes\":\n",
    "            subs.insert(3, \"indexes\")\n",
    "        return \".\".join(subs)\n",
    "\n",
    "    def set_url(self, url):  # URL to index.\n",
    "        \"Set URL from having it dynamically determined (for non-static index URLs).\"\n",
    "        self.url = config.get_value(self.key)[\"url\"] if url is None else url\n",
    "        if not self.url:  # empty ''\n",
    "            self.url = dynamic_urls[self.instrument_key]().latest_index_label_url\n",
    "\n",
    "    @property\n",
    "    def isotimestamp(self):\n",
    "        return self.timestamp.isoformat()\n",
    "\n",
    "    @property\n",
    "    def needs_download(self):\n",
    "        \"\"\"Determine if the index needs to be downloaded.\n",
    "\n",
    "        Download shall happen when\n",
    "        (1) no local timestamp was stored or\n",
    "        (2) when the remote timestamp is newer.\n",
    "\n",
    "        Parameters\n",
    "        ----------\n",
    "        index : indices.Index (namedtuple)\n",
    "            Index holding the timestamp attribute read from the config file\n",
    "\n",
    "        Returns\n",
    "        -------\n",
    "        bool\n",
    "            Boolean indicating if download shall happen.\n",
    "        \"\"\"\n",
    "        try:\n",
    "            self.remote_timestamp = utils.get_remote_timestamp(self.url)\n",
    "        except URLError:\n",
    "            return None\n",
    "        if self.timestamp:\n",
    "            if self.remote_timestamp > self.timestamp:\n",
    "                return True\n",
    "            else:\n",
    "                return False\n",
    "        else:\n",
    "            # also return True when the timestamp is not valid\n",
    "            return True\n",
    "\n",
    "    @property\n",
    "    def key_tokens(self):\n",
    "        return self.key.split(\".\")\n",
    "\n",
    "    @property\n",
    "    def mission(self):\n",
    "        return self.key_tokens[1]\n",
    "\n",
    "    @property\n",
    "    def mission_key(self):\n",
    "        return \".\".join(self.key_tokens[1:2])\n",
    "\n",
    "    @property\n",
    "    def instrument(self):\n",
    "        return self.key_tokens[2]\n",
    "\n",
    "    @property\n",
    "    def instrument_key(self):\n",
    "        return \".\".join(self.key_tokens[1:3])\n",
    "\n",
    "    @property\n",
    "    def index_name(self):\n",
    "        \"str: Examples: EDR, RDR, moon_summary\"\n",
    "        return self.key_tokens[3]\n",
    "\n",
    "    @property\n",
    "    def label_filename(self):\n",
    "        return Path(self.url.split(\"/\")[-1])\n",
    "\n",
    "    @property\n",
    "    def isupper(self):\n",
    "        return self.label_filename.suffix.isupper()\n",
    "\n",
    "    @property\n",
    "    def table_filename(self):\n",
    "        new_suffix = \".TAB\" if self.isupper else \".tab\"\n",
    "        return self.label_filename.with_suffix(new_suffix)\n",
    "\n",
    "    @property\n",
    "    def label_path(self):\n",
    "        return Path(urlsplit(self.url).path)\n",
    "\n",
    "    @property\n",
    "    def table_path(self):\n",
    "        return self.label_path.with_name(self.table_filename.name)\n",
    "\n",
    "    @property\n",
    "    def table_url(self):\n",
    "        tokens = urlsplit(self.url)\n",
    "        return urlunsplit(\n",
    "            tokens._replace(\n",
    "                path=str(self.label_path.with_name(self.table_filename.name))\n",
    "            )\n",
    "        )\n",
    "\n",
    "    @property\n",
    "    def local_dir(self):\n",
    "        p = storage_root / str(self.key).replace(\".\", \"/\")\n",
    "        p.mkdir(parents=True, exist_ok=True)\n",
    "        return p\n",
    "\n",
    "    @property\n",
    "    def local_table_path(self):\n",
    "        return self.local_dir / self.table_filename\n",
    "\n",
    "    @property\n",
    "    def local_label_path(self):\n",
    "        return self.local_dir / self.label_filename\n",
    "\n",
    "    @property\n",
    "    def local_hdf_path(self):\n",
    "        return self.local_table_path.with_suffix(\".hdf\")\n",
    "\n",
    "    @property\n",
    "    def local_parq_path(self):\n",
    "        return self.local_table_path.with_suffix(\".parq\")\n",
    "\n",
    "    @property\n",
    "    def df(self):\n",
    "        return pd.read_hdf(self.local_hdf_path)\n",
    "    \n",
    "    @property\n",
    "    def parquet(self):\n",
    "        return pd.read_parquet(self.local_parq_path)\n",
    "\n",
    "    def download(\n",
    "        self,\n",
    "        convert_to_hdf: bool = False,  # Switch to enable conversion to HDF\n",
    "        convert_to_parquet: bool = True,  # Switch to enable conversion to parquet\n",
    "        force_update: bool = False,  # Switch to enable a fresh download and conversion\n",
    "    ):\n",
    "        \"\"\"Wrapping URLs for downloading PDS indices and their label files.\"\"\"\n",
    "        # check timestamp\n",
    "        ret = self.needs_download\n",
    "        if ret is None:\n",
    "            print(\"Could not check for any index updates, maybe server is offline?\")\n",
    "            return\n",
    "        if not ret and not force_update:\n",
    "            print(\"Stored index is up-to-date.\")\n",
    "            return\n",
    "        label_url = self.url\n",
    "        logger.info(\"Downloading %s.\" % label_url)\n",
    "        utils.url_retrieve(label_url, self.local_label_path)\n",
    "        logger.info(\"Downloading %s.\", self.table_url)\n",
    "        utils.url_retrieve(self.table_url, self.local_table_path)\n",
    "        print(f\"Downloaded {self.local_label_path} and {self.local_table_path}\")\n",
    "        self.timestamp = self.remote_timestamp\n",
    "        self.update_timestamp()\n",
    "\n",
    "        if convert_to_hdf is True:\n",
    "            try:\n",
    "                self.convert_to_hdf()\n",
    "                self.convert_to_parqet()\n",
    "                print(f\"Converted to pandas HDF:\\n{self.local_hdf_path}\")\n",
    "            except:  # any conversion error simpy leads to HDF marked as missing\n",
    "                self.set_hdf_available(False)\n",
    "            else:\n",
    "                self.set_hdf_available(True)\n",
    "\n",
    "    def set_hdf_available(self, status):\n",
    "        config.set_value(f\"{self.key}.hdf_available\", status)\n",
    "\n",
    "    def update_timestamp(self):\n",
    "        # Note: the config object writes itself out after setting any value\n",
    "        config.set_value(f\"{self.key}.timestamp\", self.isotimestamp)\n",
    "\n",
    "    def read_index_data(self):\n",
    "        label = IndexLabel(self.local_label_path)\n",
    "        df = label.read_index_data()\n",
    "        return df\n",
    "\n",
    "    def convert_to_hdf(self):\n",
    "        df = self.read_index_data()\n",
    "        df.to_hdf(self.local_hdf_path, \"df\")\n",
    "\n",
    "    def convert_to_parquet(self):\n",
    "        df = self.read_index_data()\n",
    "        df = df.convert_dtypes()\n",
    "        df.to_parquet(self.local_parq_path)\n",
    "\n",
    "    def __str__(self):\n",
    "        s = f\"Key: {self.key}\\n\"\n",
    "        s += f\"URL: {self.url}\\n\"\n",
    "        s += f\"Timestamp: {self.timestamp}\\n\"\n",
    "        return s\n",
    "\n",
    "    def __repr__(self):\n",
    "        return self.__str__()"
   ]
  },
  {
   "cell_type": "code",
   "execution_count": null,
   "id": "865aff5d-e3eb-4e6a-8952-8992f7b70800",
   "metadata": {},
   "outputs": [
    {
     "data": {
      "text/markdown": [
       "<h4 id=\"Index.parse_key\" class=\"doc_header\"><code>Index.parse_key</code><a href=\"__main__.py#L27\" class=\"source_link\" style=\"float:right\">[source]</a></h4>\n",
       "\n",
       "> <code>Index.parse_key</code>(**`key`**:`str`)\n",
       "\n",
       "Take care of different ways how the key could be structured.\n",
       "\n",
       "This involves adding the sub-key `indexes` for the config file structure,\n",
       "which is something the user of this class should not need to know.\n",
       "\n",
       "**Parameters:**\n",
       "\n",
       "\n",
       " - **`key`** : *`<class 'str'>`*\t<p>dotted key</p>\n",
       "\n"
      ],
      "text/plain": [
       "<IPython.core.display.Markdown object>"
      ]
     },
     "metadata": {},
     "output_type": "display_data"
    }
   ],
   "source": [
    "show_doc(Index.parse_key)"
   ]
  },
  {
   "cell_type": "code",
   "execution_count": null,
   "id": "74b468af-9fb1-46e6-ae49-7769af8ed57b",
   "metadata": {},
   "outputs": [
    {
     "data": {
      "text/markdown": [
       "<h4 id=\"Index.download\" class=\"doc_header\"><code>Index.download</code><a href=\"__main__.py#L161\" class=\"source_link\" style=\"float:right\">[source]</a></h4>\n",
       "\n",
       "> <code>Index.download</code>(**`convert_to_hdf`**:`bool`=*`True`*, **`convert_to_parquet`**:`bool`=*`True`*, **`force_update`**:`bool`=*`False`*)\n",
       "\n",
       "Wrapping URLs for downloading PDS indices and their label files.\n",
       "\n",
       "**Parameters:**\n",
       "\n",
       "\n",
       " - **`convert_to_hdf`** : *`<class 'bool'>`*, *optional*\t<p>Switch to enable conversion to HDF</p>\n",
       "\n",
       "\n",
       " - **`convert_to_parquet`** : *`<class 'bool'>`*, *optional*\t<p>Switch to enable conversion to parquet</p>\n",
       "\n",
       "\n",
       " - **`force_update`** : *`<class 'bool'>`*, *optional*\t<p>Switch to enable a fresh download and conversion</p>\n",
       "\n"
      ],
      "text/plain": [
       "<IPython.core.display.Markdown object>"
      ]
     },
     "metadata": {},
     "output_type": "display_data"
    }
   ],
   "source": [
    "show_doc(Index.download)"
   ]
  },
  {
   "cell_type": "code",
   "execution_count": null,
   "id": "4de51298-40f3-475d-9bdf-24d6a110c82e",
   "metadata": {},
   "outputs": [],
   "source": [
    "key = \"missions.cassini.iss.indexes.moon_summary\""
   ]
  },
  {
   "cell_type": "code",
   "execution_count": null,
   "id": "238e9b89-c0f9-4548-a641-e1a070454f1f",
   "metadata": {},
   "outputs": [],
   "source": [
    "index = Index(key)"
   ]
  },
  {
   "cell_type": "code",
   "execution_count": null,
   "id": "88c67a63-9101-4730-8fd9-1eb6d9cea224",
   "metadata": {},
   "outputs": [
    {
     "data": {
      "text/plain": [
       "Key: missions.cassini.iss.indexes.moon_summary\n",
       "URL: https://pds-rings.seti.org/holdings/metadata/COISS_2xxx/COISS_2999/COISS_2999_moon_summary.lbl\n",
       "Timestamp: 2021-07-23 22:11:38.904571"
      ]
     },
     "execution_count": null,
     "metadata": {},
     "output_type": "execute_result"
    }
   ],
   "source": [
    "index"
   ]
  },
  {
   "cell_type": "markdown",
   "id": "c12850bc-4ed0-4c20-9ae4-adf7601a5c58",
   "metadata": {},
   "source": [
    "The `key` can be provided\n",
    "* with or without the leading 'mssions'\n",
    "* with or without the internal `indexes` level of the config file"
   ]
  },
  {
   "cell_type": "code",
   "execution_count": null,
   "id": "07986946-87c9-4352-bca4-0e92b3bf488f",
   "metadata": {},
   "outputs": [
    {
     "data": {
      "text/plain": [
       "Key: missions.cassini.iss.indexes.moon_summary\n",
       "URL: https://pds-rings.seti.org/holdings/metadata/COISS_2xxx/COISS_2999/COISS_2999_moon_summary.lbl\n",
       "Timestamp: 2021-07-23 22:11:38.904571"
      ]
     },
     "execution_count": null,
     "metadata": {},
     "output_type": "execute_result"
    }
   ],
   "source": [
    "Index(\"cassini.iss.indexes.moon_summary\")"
   ]
  },
  {
   "cell_type": "code",
   "execution_count": null,
   "id": "f5e2861b-30c0-42c7-a29e-77f50a9485dd",
   "metadata": {},
   "outputs": [
    {
     "data": {
      "text/plain": [
       "Key: missions.cassini.iss.indexes.moon_summary\n",
       "URL: https://pds-rings.seti.org/holdings/metadata/COISS_2xxx/COISS_2999/COISS_2999_moon_summary.lbl\n",
       "Timestamp: 2021-07-23 22:11:38.904571"
      ]
     },
     "execution_count": null,
     "metadata": {},
     "output_type": "execute_result"
    }
   ],
   "source": [
    "Index(\"cassini.iss.moon_summary\")"
   ]
  },
  {
   "cell_type": "code",
   "execution_count": null,
   "id": "2d0b24ef-2578-4eee-84ef-6b155dc1464b",
   "metadata": {},
   "outputs": [
    {
     "data": {
      "text/plain": [
       "'2021-07-23T22:11:38.904571'"
      ]
     },
     "execution_count": null,
     "metadata": {},
     "output_type": "execute_result"
    }
   ],
   "source": [
    "index.isotimestamp"
   ]
  },
  {
   "cell_type": "code",
   "execution_count": null,
   "id": "9a1391e9-59d1-4f6d-a4eb-9e5c20f7fcd8",
   "metadata": {},
   "outputs": [
    {
     "data": {
      "text/plain": [
       "'cassini'"
      ]
     },
     "execution_count": null,
     "metadata": {},
     "output_type": "execute_result"
    }
   ],
   "source": [
    "index.mission_key"
   ]
  },
  {
   "cell_type": "code",
   "execution_count": null,
   "id": "2eea1a5a-f0da-4bc7-8e95-f4bffa8ecd3f",
   "metadata": {},
   "outputs": [
    {
     "data": {
      "text/plain": [
       "Path('/home/maye/big_drive/planetary_data/missions/cassini/iss/indexes/moon_summary')"
      ]
     },
     "execution_count": null,
     "metadata": {},
     "output_type": "execute_result"
    }
   ],
   "source": [
    "index.local_dir"
   ]
  },
  {
   "cell_type": "code",
   "execution_count": null,
   "id": "62ccdfbe-3894-4f3a-9e40-e1300aeb171d",
   "metadata": {},
   "outputs": [
    {
     "data": {
      "text/plain": [
       "False"
      ]
     },
     "execution_count": null,
     "metadata": {},
     "output_type": "execute_result"
    }
   ],
   "source": [
    "index.needs_download"
   ]
  },
  {
   "cell_type": "code",
   "execution_count": null,
   "id": "974f6ca8-3acd-4b9e-bd70-7a8efd88483f",
   "metadata": {},
   "outputs": [
    {
     "name": "stdout",
     "output_type": "stream",
     "text": [
      "Stored index is up-to-date.\n"
     ]
    }
   ],
   "source": [
    "index.download()"
   ]
  },
  {
   "cell_type": "code",
   "execution_count": null,
   "id": "assured-liquid",
   "metadata": {},
   "outputs": [
    {
     "name": "stdout",
     "output_type": "stream",
     "text": [
      "Done.\n"
     ]
    }
   ],
   "source": [
    "index.convert_to_hdf()"
   ]
  },
  {
   "cell_type": "code",
   "execution_count": null,
   "id": "d2d1594d-45ab-43c4-b339-87ee4ae5ea2e",
   "metadata": {},
   "outputs": [
    {
     "name": "stdout",
     "output_type": "stream",
     "text": [
      "Done.\n"
     ]
    }
   ],
   "source": [
    "index.convert_to_parquet()"
   ]
  },
  {
   "cell_type": "code",
   "execution_count": null,
   "id": "amber-breach",
   "metadata": {},
   "outputs": [
    {
     "name": "stdout",
     "output_type": "stream",
     "text": [
      "<class 'pandas.core.frame.DataFrame'>\n",
      "Int64Index: 385719 entries, 0 to 385718\n",
      "Data columns (total 35 columns):\n",
      " #   Column                                Non-Null Count   Dtype  \n",
      "---  ------                                --------------   -----  \n",
      " 0   VOLUME_ID                             385719 non-null  object \n",
      " 1   FILE_SPECIFICATION_NAME               385719 non-null  object \n",
      " 2   OPUS_ID                               385719 non-null  object \n",
      " 3   TARGET_NAME                           385719 non-null  object \n",
      " 4   MINIMUM_PLANETOCENTRIC_LATITUDE       385719 non-null  float64\n",
      " 5   MAXIMUM_PLANETOCENTRIC_LATITUDE       385719 non-null  float64\n",
      " 6   MINIMUM_PLANETOGRAPHIC_LATITUDE       385719 non-null  float64\n",
      " 7   MAXIMUM_PLANETOGRAPHIC_LATITUDE       385719 non-null  float64\n",
      " 8   MINIMUM_IAU_LONGITUDE                 385719 non-null  float64\n",
      " 9   MAXIMUM_IAU_LONGITUDE                 385719 non-null  float64\n",
      " 10  MINIMUM_LOCAL_HOUR_ANGLE              385719 non-null  float64\n",
      " 11  MAXIMUM_LOCAL_HOUR_ANGLE              385719 non-null  float64\n",
      " 12  MINIMUM_LONGITUDE_WRT_OBSERVER        385719 non-null  float64\n",
      " 13  MAXIMUM_LONGITUDE_WRT_OBSERVER        385719 non-null  float64\n",
      " 14  MINIMUM_FINEST_SURFACE_RESOLUTION     385719 non-null  float64\n",
      " 15  MAXIMUM_FINEST_SURFACE_RESOLUTION     385719 non-null  float64\n",
      " 16  MINIMUM_COARSEST_SURFACE_RESOLUTION   385719 non-null  float64\n",
      " 17  MAXIMUM_COARSEST_SURFACE_RESOLUTION   385719 non-null  float64\n",
      " 18  MINIMUM_SURFACE_DISTANCE              385719 non-null  float64\n",
      " 19  MAXIMUM_SURFACE_DISTANCE              385719 non-null  float64\n",
      " 20  MINIMUM_PHASE_ANGLE                   385719 non-null  float64\n",
      " 21  MAXIMUM_PHASE_ANGLE                   385719 non-null  float64\n",
      " 22  MINIMUM_INCIDENCE_ANGLE               385719 non-null  float64\n",
      " 23  MAXIMUM_INCIDENCE_ANGLE               385719 non-null  float64\n",
      " 24  MINIMUM_EMISSION_ANGLE                385719 non-null  float64\n",
      " 25  MAXIMUM_EMISSION_ANGLE                385719 non-null  float64\n",
      " 26  SUB_SOLAR_PLANETOCENTRIC_LATITUDE     385719 non-null  float64\n",
      " 27  SUB_SOLAR_PLANETOGRAPHIC_LATITUDE     385719 non-null  float64\n",
      " 28  SUB_OBSERVER_PLANETOCENTRIC_LATITUDE  385719 non-null  float64\n",
      " 29  SUB_OBSERVER_PLANETOGRAPHIC_LATITUDE  385719 non-null  float64\n",
      " 30  SUB_SOLAR_IAU_LONGITUDE               385719 non-null  float64\n",
      " 31  SUB_OBSERVER_IAU_LONGITUDE            385719 non-null  float64\n",
      " 32  CENTER_RESOLUTION                     385719 non-null  float64\n",
      " 33  CENTER_DISTANCE                       385719 non-null  float64\n",
      " 34  CENTER_PHASE_ANGLE                    385719 non-null  float64\n",
      "dtypes: float64(31), object(4)\n",
      "memory usage: 105.9+ MB\n"
     ]
    }
   ],
   "source": [
    "index.df.info()"
   ]
  },
  {
   "cell_type": "code",
   "execution_count": null,
   "id": "985e0cae-ee60-4c39-936a-852b398d43ce",
   "metadata": {},
   "outputs": [
    {
     "data": {
      "text/plain": [
       "['missions', 'cassini']"
      ]
     },
     "execution_count": null,
     "metadata": {},
     "output_type": "execute_result"
    }
   ],
   "source": [
    "index.key_tokens[:2]"
   ]
  },
  {
   "cell_type": "code",
   "execution_count": null,
   "id": "c64ab9ec-e2bc-4fbc-942d-6631bfb867b2",
   "metadata": {},
   "outputs": [
    {
     "data": {
      "text/plain": [
       "'cassini.iss'"
      ]
     },
     "execution_count": null,
     "metadata": {},
     "output_type": "execute_result"
    }
   ],
   "source": [
    "index.instrument_key"
   ]
  },
  {
   "cell_type": "code",
   "execution_count": null,
   "id": "c19ba3ef-b980-41f8-91d9-3a93393e3531",
   "metadata": {},
   "outputs": [
    {
     "data": {
      "text/plain": [
       "{'indexes': {'index': {'url': 'https://pds-rings.seti.org/holdings/metadata/COISS_2xxx/COISS_2999/COISS_2999_index.lbl'}, 'inventory': {'url': 'https://pds-rings.seti.org/holdings/metadata/COISS_2xxx/COISS_2999/COISS_2999_inventory.lbl'}, 'moon_summary': {'url': 'https://pds-rings.seti.org/holdings/metadata/COISS_2xxx/COISS_2999/COISS_2999_moon_summary.lbl', 'timestamp': '2021-07-23T22:11:38.904571'}, 'ring_summary': {'url': 'https://pds-rings.seti.org/holdings/metadata/COISS_2xxx/COISS_2999/COISS_2999_ring_summary.lbl'}, 'saturn_summary': {'url': 'https://pds-rings.seti.org/holdings/metadata/COISS_2xxx/COISS_2999/COISS_2999_saturn_summary.lbl'}}}"
      ]
     },
     "execution_count": null,
     "metadata": {},
     "output_type": "execute_result"
    }
   ],
   "source": [
    "config.get_value(index.instrument_key)"
   ]
  },
  {
   "cell_type": "code",
   "execution_count": null,
   "id": "d49c597c-0607-4fa4-85e5-34058e3f21a3",
   "metadata": {},
   "outputs": [],
   "source": [
    "index = Index(\"mro.ctx.edr\")"
   ]
  },
  {
   "cell_type": "code",
   "execution_count": null,
   "id": "b71eb366-3234-4a9d-a4c4-220af0c0dfc9",
   "metadata": {},
   "outputs": [
    {
     "data": {
      "text/plain": [
       "Key: missions.mro.ctx.indexes.edr\n",
       "URL: https://pds-imaging.jpl.nasa.gov/data/mro/mars_reconnaissance_orbiter/ctx/mrox_4044/index/cumindex.lbl\n",
       "Timestamp: 2021-07-21 19:55:32.014076"
      ]
     },
     "execution_count": null,
     "metadata": {},
     "output_type": "execute_result"
    }
   ],
   "source": [
    "index"
   ]
  },
  {
   "cell_type": "code",
   "execution_count": null,
   "id": "a568dc1f-3160-4e2e-872e-fd1cad803db1",
   "metadata": {},
   "outputs": [
    {
     "name": "stdout",
     "output_type": "stream",
     "text": [
      "Stored index is up-to-date.\n"
     ]
    }
   ],
   "source": [
    "index.download()"
   ]
  }
 ],
 "metadata": {
  "kernelspec": {
   "display_name": "Python [conda env:py38]",
   "language": "python",
   "name": "python3"
  }
 },
 "nbformat": 4,
 "nbformat_minor": 5
}
