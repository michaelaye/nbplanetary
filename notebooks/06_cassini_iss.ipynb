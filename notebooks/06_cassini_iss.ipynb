{
 "cells": [
  {
   "cell_type": "code",
   "execution_count": null,
   "id": "26dad463-de33-48ea-b0be-b1ffa687f8ab",
   "metadata": {},
   "outputs": [],
   "source": [
    "#default_exp ciss"
   ]
  },
  {
   "cell_type": "markdown",
   "id": "732d1146-bbcc-4100-9c8d-002662c1f64f",
   "metadata": {},
   "source": [
    "# Cassini ISS\n",
    "> Data getters for Cassini ISS image data"
   ]
  },
  {
   "cell_type": "code",
   "execution_count": null,
   "id": "9a9b7fff-1102-4749-aeaf-a06d8ba07e23",
   "metadata": {},
   "outputs": [],
   "source": [
    "#export\n",
    "from planetarypy.pds.opusapi import OPUS\n",
    "from planetarypy.utils import url_retrieve, have_internet\n",
    "from planetarypy.config import config\n",
    "from fastcore.utils import Path\n",
    "from yarl import URL"
   ]
  },
  {
   "cell_type": "code",
   "execution_count": null,
   "id": "017a8c3a-7cfc-4f77-a54a-bf57f0d26317",
   "metadata": {},
   "outputs": [],
   "source": [
    "# export\n",
    "storage_root = config.storage_root / \"missions/cassini/iss\"\n",
    "opus_keys = [\n",
    "    \"coiss_raw\",\n",
    "    \"coiss_calib\",\n",
    "    \"coiss_thumb\",\n",
    "    \"coiss_medium\",\n",
    "    \"coiss_full\",\n",
    "    \"rms_index\",\n",
    "    \"inventory\",\n",
    "    \"planet_geometry\",\n",
    "    \"ring_geometry\",\n",
    "    \"browse_thumb\",\n",
    "    \"browse_small\",\n",
    "    \"browse_medium\",\n",
    "    \"browse_full\",\n",
    "]"
   ]
  },
  {
   "cell_type": "code",
   "execution_count": null,
   "id": "521464ea-13f1-4faa-96d1-162f693a401e",
   "metadata": {},
   "outputs": [
    {
     "data": {
      "text/plain": [
       "Path('/home/maye/big_drive/planetary_data/cassini/iss')"
      ]
     },
     "execution_count": null,
     "metadata": {},
     "output_type": "execute_result"
    }
   ],
   "source": [
    "storage_root"
   ]
  },
  {
   "cell_type": "code",
   "execution_count": null,
   "id": "acb2a693-0fba-4079-9939-d74d1289e82a",
   "metadata": {},
   "outputs": [],
   "source": [
    "# export\n",
    "\n",
    "\n",
    "class ISSOpus:\n",
    "    def __init__(self, pid):\n",
    "        self.pid = pid\n",
    "        if have_internet():\n",
    "            self.query_pid(pid)\n",
    "\n",
    "    def query_pid(self, pid):\n",
    "        opus = OPUS()\n",
    "        self.query_result = opus.query_image_id(pid)[0]\n",
    "        self.id = self.query_result[0]\n",
    "        self.dict = self.query_result[1]\n",
    "        for k, v in self.dict.items():\n",
    "            if isinstance(v, list) and len(v) == 1:\n",
    "                setattr(self, k, v[0])\n",
    "            else:\n",
    "                setattr(self, k, v)\n",
    "\n",
    "    @property\n",
    "    def raw_data_url(self):\n",
    "        return URL(self.coiss_raw[0])\n",
    "\n",
    "    @property\n",
    "    def raw_label_url(self):\n",
    "        return URL(self.coiss_raw[1])\n",
    "\n",
    "    @property\n",
    "    def raw_prefix_fmt_url(self):\n",
    "        return URL(self.coiss_raw[2])\n",
    "\n",
    "    @property\n",
    "    def raw_tlmtab_url(self):\n",
    "        return URL(self.coiss_raw[3])\n",
    "\n",
    "    @property\n",
    "    def calib_data_url(self):\n",
    "        return URL(self.coiss_calib[0])\n",
    "\n",
    "    @property\n",
    "    def calib_label_url(self):\n",
    "        return URL(self.coiss_calib[1])\n",
    "\n",
    "    @property\n",
    "    def volume(self):\n",
    "        return self.raw_data_url.parts[4]\n",
    "\n",
    "    @property\n",
    "    def local_folder(self):\n",
    "        return storage_root / self.pid.upper()\n",
    "\n",
    "    @property\n",
    "    def local_data_path(self):\n",
    "        return self.local_folder / self.raw_data_url.name\n",
    "\n",
    "    @property\n",
    "    def local_calib_path(self):\n",
    "        return self.local_folder / self.calib_data_url.name\n",
    "\n",
    "    @property\n",
    "    def local_label_path(self):\n",
    "        return self.local_data_path.with_suffix(\".LBL\")\n",
    "\n",
    "    @property\n",
    "    def local_calib_label_path(self):\n",
    "        return self.local_calib_path.with_suffix(\".LBL\")\n",
    "    \n",
    "    def download_raw(self, overwrite=False):\n",
    "        self.local_data_path.parent.mkdir(parents=True, exist_ok=True)\n",
    "        if self.local_data_path.exists() and not overwrite:\n",
    "            print(\"File exists. Use `overwrite=True` to download fresh.\")\n",
    "            return\n",
    "        url_retrieve(self.raw_data_url, self.local_data_path)\n",
    "        url_retrieve(self.raw_label_url, self.local_label_path)\n",
    "\n",
    "    def download_calib(self):\n",
    "        self.local_calib_path.parent.mkdir(parents=True, exist_ok=True)\n",
    "        url_retrieve(self.calib_data_url, self.local_calib_path)\n",
    "        \n",
    "    def __repr__(self):\n",
    "        s = f\"Product ID:\\n{self.id}\\n\\n\"\n",
    "        for k, v in self.query_result[1].items():\n",
    "            s += f\"Key: {k},\\nValue(s):\\n{v}\\n\\n\"\n",
    "        return s"
   ]
  },
  {
   "cell_type": "code",
   "execution_count": null,
   "id": "3bf01b00-4bde-4abe-b0d5-06acb036645c",
   "metadata": {},
   "outputs": [],
   "source": [
    "id = \"N1874681996\"\n",
    "# id = \"N1878581142\""
   ]
  },
  {
   "cell_type": "code",
   "execution_count": null,
   "id": "262f9924-e5d9-4b9a-9896-51084a617cee",
   "metadata": {},
   "outputs": [
    {
     "data": {
      "text/plain": [
       "[Path('/home/maye/big_drive/planetary_data/cassini/iss/COISS_2113/data/1874658411_1874843972/N1874681996_1_CALIB.IMG'),\n",
       " Path('/home/maye/big_drive/planetary_data/cassini/iss/COISS_2113/data/1874658411_1874843972/N1874681996_1.LBL'),\n",
       " Path('/home/maye/big_drive/planetary_data/cassini/iss/COISS_2113/data/1874658411_1874843972/N1874681996_1.IMG')]"
      ]
     },
     "execution_count": null,
     "metadata": {},
     "output_type": "execute_result"
    }
   ],
   "source": [
    "list(storage_root.rglob(f\"{id}*\"))"
   ]
  },
  {
   "cell_type": "code",
   "execution_count": null,
   "id": "af395a34-e93c-4d29-b978-08eec058e17b",
   "metadata": {},
   "outputs": [
    {
     "name": "stdout",
     "output_type": "stream",
     "text": [
      "Found 1 obsids.\n"
     ]
    }
   ],
   "source": [
    "iss = ISSOpus(id)"
   ]
  },
  {
   "cell_type": "code",
   "execution_count": null,
   "id": "1726a00e-23f7-4c2c-954e-e71cdc5d9fa6",
   "metadata": {},
   "outputs": [
    {
     "data": {
      "text/plain": [
       "Path('/home/maye/big_drive/planetary_data/cassini/iss/N1874681996')"
      ]
     },
     "execution_count": null,
     "metadata": {},
     "output_type": "execute_result"
    }
   ],
   "source": [
    "iss.local_folder"
   ]
  },
  {
   "cell_type": "code",
   "execution_count": null,
   "id": "c8988b62-f4d9-40e8-bb49-da559bd84a83",
   "metadata": {},
   "outputs": [
    {
     "data": {
      "text/plain": [
       "URL('https://opus.pds-rings.seti.org/holdings/volumes/COISS_2xxx/COISS_2113/data/1874658411_1874843972/N1874681996_1.IMG')"
      ]
     },
     "execution_count": null,
     "metadata": {},
     "output_type": "execute_result"
    }
   ],
   "source": [
    "iss.raw_data_url"
   ]
  },
  {
   "cell_type": "code",
   "execution_count": null,
   "id": "3fda63e8-a85f-48a7-9ea7-375151145191",
   "metadata": {},
   "outputs": [
    {
     "data": {
      "application/vnd.jupyter.widget-view+json": {
       "model_id": "906b7753dca447fa95d857b889b5473e",
       "version_major": 2,
       "version_minor": 0
      },
      "text/plain": [
       "N1874681996_1_CALIB.IMG\n",
       ":   0%|          | 0/4202496 [00:00<?, ?it/s]"
      ]
     },
     "metadata": {},
     "output_type": "display_data"
    }
   ],
   "source": [
    "iss.download_calib()"
   ]
  },
  {
   "cell_type": "code",
   "execution_count": null,
   "id": "80cdaf30-105d-4dbc-8c87-b29beb68e951",
   "metadata": {},
   "outputs": [
    {
     "data": {
      "text/plain": [
       "PosixPath('/home/maye/big_drive/planetary_data')"
      ]
     },
     "execution_count": null,
     "metadata": {},
     "output_type": "execute_result"
    }
   ],
   "source": [
    "config.storage_root."
   ]
  },
  {
   "cell_type": "code",
   "execution_count": null,
   "id": "fe5e1fe9-eb0c-4f6f-849c-125a5d70e83e",
   "metadata": {},
   "outputs": [
    {
     "data": {
      "text/plain": [
       "dict_keys(['coiss_raw', 'coiss_calib', 'coiss_thumb', 'coiss_medium', 'coiss_full', 'rms_index', 'inventory', 'planet_geometry', 'ring_geometry', 'browse_thumb', 'browse_small', 'browse_medium', 'browse_full'])"
      ]
     },
     "execution_count": null,
     "metadata": {},
     "output_type": "execute_result"
    }
   ],
   "source": [
    "iss.dict.keys()"
   ]
  },
  {
   "cell_type": "code",
   "execution_count": null,
   "id": "599c9eab-f95c-41c8-855f-e6c9356f05b1",
   "metadata": {},
   "outputs": [
    {
     "data": {
      "text/plain": [
       "PosixPath('/home/maye/big_drive/planetary_data/cassini/iss/COISS_2113/data/1874658411_1874843972/N1874681996_1_CALIB.IMG')"
      ]
     },
     "execution_count": null,
     "metadata": {},
     "output_type": "execute_result"
    }
   ],
   "source": [
    "iss.local_calib_path"
   ]
  },
  {
   "cell_type": "code",
   "execution_count": null,
   "id": "e57f2403-2d26-4766-af3c-dde6f0da32b8",
   "metadata": {},
   "outputs": [
    {
     "data": {
      "text/plain": [
       "URL('https://opus.pds-rings.seti.org/holdings/calibrated/COISS_2xxx/COISS_2113/data/1874658411_1874843972/N1874681996_1_CALIB.IMG')"
      ]
     },
     "execution_count": null,
     "metadata": {},
     "output_type": "execute_result"
    }
   ],
   "source": [
    "iss.calib_data_url"
   ]
  },
  {
   "cell_type": "code",
   "execution_count": null,
   "id": "24bdc459-08f2-41c6-9be3-2b7c08cf3e69",
   "metadata": {},
   "outputs": [
    {
     "data": {
      "text/plain": [
       "'COISS_2113'"
      ]
     },
     "execution_count": null,
     "metadata": {},
     "output_type": "execute_result"
    }
   ],
   "source": [
    "iss.volume"
   ]
  },
  {
   "cell_type": "code",
   "execution_count": null,
   "id": "30be44c4-7e31-4ced-b738-c59ce740a156",
   "metadata": {},
   "outputs": [
    {
     "ename": "AttributeError",
     "evalue": "'ISSOpus' object has no attribute 'coiss_raw'",
     "output_type": "error",
     "traceback": [
      "\u001b[0;31m---------------------------------------------------------------------------\u001b[0m",
      "\u001b[0;31mAttributeError\u001b[0m                            Traceback (most recent call last)",
      "\u001b[0;32m/tmp/ipykernel_45383/94770367.py\u001b[0m in \u001b[0;36m<module>\u001b[0;34m\u001b[0m\n\u001b[0;32m----> 1\u001b[0;31m \u001b[0miss\u001b[0m\u001b[0;34m.\u001b[0m\u001b[0mlocal_folder\u001b[0m\u001b[0;34m\u001b[0m\u001b[0;34m\u001b[0m\u001b[0m\n\u001b[0m",
      "\u001b[0;32m/tmp/ipykernel_45383/1239594365.py\u001b[0m in \u001b[0;36mlocal_folder\u001b[0;34m(self)\u001b[0m\n\u001b[1;32m     45\u001b[0m     \u001b[0;34m@\u001b[0m\u001b[0mproperty\u001b[0m\u001b[0;34m\u001b[0m\u001b[0;34m\u001b[0m\u001b[0m\n\u001b[1;32m     46\u001b[0m     \u001b[0;32mdef\u001b[0m \u001b[0mlocal_folder\u001b[0m\u001b[0;34m(\u001b[0m\u001b[0mself\u001b[0m\u001b[0;34m)\u001b[0m\u001b[0;34m:\u001b[0m\u001b[0;34m\u001b[0m\u001b[0;34m\u001b[0m\u001b[0m\n\u001b[0;32m---> 47\u001b[0;31m         \u001b[0;32mreturn\u001b[0m \u001b[0mstorage_root\u001b[0m \u001b[0;34m/\u001b[0m \u001b[0;34m\"/\"\u001b[0m\u001b[0;34m.\u001b[0m\u001b[0mjoin\u001b[0m\u001b[0;34m(\u001b[0m\u001b[0mself\u001b[0m\u001b[0;34m.\u001b[0m\u001b[0mraw_data_url\u001b[0m\u001b[0;34m.\u001b[0m\u001b[0mparts\u001b[0m\u001b[0;34m[\u001b[0m\u001b[0;36m4\u001b[0m\u001b[0;34m:\u001b[0m\u001b[0;36m7\u001b[0m\u001b[0;34m]\u001b[0m\u001b[0;34m)\u001b[0m\u001b[0;34m\u001b[0m\u001b[0;34m\u001b[0m\u001b[0m\n\u001b[0m\u001b[1;32m     48\u001b[0m \u001b[0;34m\u001b[0m\u001b[0m\n\u001b[1;32m     49\u001b[0m     \u001b[0;34m@\u001b[0m\u001b[0mproperty\u001b[0m\u001b[0;34m\u001b[0m\u001b[0;34m\u001b[0m\u001b[0m\n",
      "\u001b[0;32m/tmp/ipykernel_45383/1239594365.py\u001b[0m in \u001b[0;36mraw_data_url\u001b[0;34m(self)\u001b[0m\n\u001b[1;32m     21\u001b[0m     \u001b[0;34m@\u001b[0m\u001b[0mproperty\u001b[0m\u001b[0;34m\u001b[0m\u001b[0;34m\u001b[0m\u001b[0m\n\u001b[1;32m     22\u001b[0m     \u001b[0;32mdef\u001b[0m \u001b[0mraw_data_url\u001b[0m\u001b[0;34m(\u001b[0m\u001b[0mself\u001b[0m\u001b[0;34m)\u001b[0m\u001b[0;34m:\u001b[0m\u001b[0;34m\u001b[0m\u001b[0;34m\u001b[0m\u001b[0m\n\u001b[0;32m---> 23\u001b[0;31m         \u001b[0;32mreturn\u001b[0m \u001b[0mURL\u001b[0m\u001b[0;34m(\u001b[0m\u001b[0mself\u001b[0m\u001b[0;34m.\u001b[0m\u001b[0mcoiss_raw\u001b[0m\u001b[0;34m[\u001b[0m\u001b[0;36m0\u001b[0m\u001b[0;34m]\u001b[0m\u001b[0;34m)\u001b[0m\u001b[0;34m\u001b[0m\u001b[0;34m\u001b[0m\u001b[0m\n\u001b[0m\u001b[1;32m     24\u001b[0m \u001b[0;34m\u001b[0m\u001b[0m\n\u001b[1;32m     25\u001b[0m     \u001b[0;34m@\u001b[0m\u001b[0mproperty\u001b[0m\u001b[0;34m\u001b[0m\u001b[0;34m\u001b[0m\u001b[0m\n",
      "\u001b[0;31mAttributeError\u001b[0m: 'ISSOpus' object has no attribute 'coiss_raw'"
     ]
    }
   ],
   "source": [
    "iss.local_folder"
   ]
  },
  {
   "cell_type": "code",
   "execution_count": null,
   "id": "d18fac75-edd7-42d1-9eea-7b2fb6cf7df6",
   "metadata": {},
   "outputs": [],
   "source": [
    "def get_raw_data_path(product_id):\n",
    "    iss = ISSOpus(product_id)\n",
    "    return iss.local_calib_path"
   ]
  },
  {
   "cell_type": "code",
   "execution_count": null,
   "id": "937af35a-0361-4f97-9203-2b7fac39c04f",
   "metadata": {},
   "outputs": [
    {
     "data": {
      "text/plain": [
       "'N1874681996'"
      ]
     },
     "execution_count": null,
     "metadata": {},
     "output_type": "execute_result"
    }
   ],
   "source": [
    "id"
   ]
  },
  {
   "cell_type": "code",
   "execution_count": null,
   "id": "485e362d-5cf6-4e9a-9183-5e5cde479994",
   "metadata": {},
   "outputs": [
    {
     "data": {
      "text/plain": [
       "[]"
      ]
     },
     "execution_count": null,
     "metadata": {},
     "output_type": "execute_result"
    }
   ],
   "source": [
    "list(storage_root.glob(f\"**/{id}\"))"
   ]
  },
  {
   "cell_type": "code",
   "execution_count": null,
   "id": "419e5268-ea05-42a2-8853-2f3440d58001",
   "metadata": {},
   "outputs": [
    {
     "data": {
      "text/plain": [
       "Path('/home/maye/big_drive/planetary_data/cassini/iss')"
      ]
     },
     "execution_count": null,
     "metadata": {},
     "output_type": "execute_result"
    }
   ],
   "source": [
    "storage_root"
   ]
  },
  {
   "cell_type": "code",
   "execution_count": null,
   "id": "8ff290b2-c270-45c4-b542-65d824857ac0",
   "metadata": {},
   "outputs": [
    {
     "name": "stdout",
     "output_type": "stream",
     "text": [
      "\u001b[0m\u001b[01;34mCOISS_2113\u001b[0m/  \u001b[01;34mCOISS_2115\u001b[0m/\n"
     ]
    }
   ],
   "source": [
    "!ls {storage_root}"
   ]
  },
  {
   "cell_type": "code",
   "execution_count": null,
   "id": "c62a481e-2443-4317-b31e-89226b82fcfa",
   "metadata": {},
   "outputs": [
    {
     "name": "stdout",
     "output_type": "stream",
     "text": [
      "Found 1 obsids.\n"
     ]
    },
    {
     "data": {
      "text/plain": [
       "Path('/home/maye/big_drive/planetary_data/cassini/iss/COISS_2113/data/1874658411_1874843972/N1874681996_1_CALIB.IMG')"
      ]
     },
     "execution_count": null,
     "metadata": {},
     "output_type": "execute_result"
    }
   ],
   "source": [
    "get_raw_data_path(id)"
   ]
  },
  {
   "cell_type": "code",
   "execution_count": null,
   "id": "cf444766-6a33-4fbe-b373-d612320f74f9",
   "metadata": {},
   "outputs": [
    {
     "ename": "AttributeError",
     "evalue": "'ISSOpus' object has no attribute 'dict'",
     "output_type": "error",
     "traceback": [
      "\u001b[0;31m---------------------------------------------------------------------------\u001b[0m",
      "\u001b[0;31mAttributeError\u001b[0m                            Traceback (most recent call last)",
      "\u001b[0;32m/tmp/ipykernel_45383/3892993518.py\u001b[0m in \u001b[0;36m<module>\u001b[0;34m\u001b[0m\n\u001b[0;32m----> 1\u001b[0;31m \u001b[0miss\u001b[0m\u001b[0;34m.\u001b[0m\u001b[0mdict\u001b[0m\u001b[0;34m\u001b[0m\u001b[0;34m\u001b[0m\u001b[0m\n\u001b[0m",
      "\u001b[0;31mAttributeError\u001b[0m: 'ISSOpus' object has no attribute 'dict'"
     ]
    }
   ],
   "source": [
    "iss.dict"
   ]
  },
  {
   "cell_type": "code",
   "execution_count": null,
   "id": "bb539708-37f2-4855-9330-cf887cf3e441",
   "metadata": {},
   "outputs": [],
   "source": []
  }
 ],
 "metadata": {
  "kernelspec": {
   "display_name": "Python [conda env:py39] *",
   "language": "python",
   "name": "conda-env-py39-py"
  }
 },
 "nbformat": 4,
 "nbformat_minor": 5
}
