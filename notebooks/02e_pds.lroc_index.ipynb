{
 "cells": [
  {
   "cell_type": "code",
   "execution_count": null,
   "id": "d42c66c2-9133-4789-aa24-db779ef51ebf",
   "metadata": {},
   "outputs": [],
   "source": [
    "#| default_exp pds.lroc_index"
   ]
  },
  {
   "cell_type": "markdown",
   "id": "42d06a12-10ff-4b69-bf28-dca56ae4df95",
   "metadata": {},
   "source": [
    "# LROC Index\n",
    "> LROC Index is not at a fixed URL, so need to determine dynamically."
   ]
  },
  {
   "cell_type": "code",
   "execution_count": null,
   "id": "b9cdad61-f102-4563-989e-19d85ca8be20",
   "metadata": {},
   "outputs": [],
   "source": [
    "#| export\n",
    "import warnings\n",
    "from nbdev.showdoc import *"
   ]
  },
  {
   "cell_type": "code",
   "execution_count": null,
   "id": "83128ca9-ccb1-4b51-a24c-7126cf49f68a",
   "metadata": {},
   "outputs": [],
   "source": [
    "#| export\n",
    "class LROCIndex:\n",
    "    def __init__(self):\n",
    "        warnings.warn(\"LROCIndex not implemented yet.\")"
   ]
  },
  {
   "cell_type": "code",
   "execution_count": null,
   "id": "f62b80fe-25f1-4b6f-a6d3-eb8f71187727",
   "metadata": {},
   "outputs": [],
   "source": []
  }
 ],
 "metadata": {
  "kernelspec": {
   "display_name": "Python [conda env:py38]",
   "language": "python",
   "name": "conda-env-py38-py"
  }
 },
 "nbformat": 4,
 "nbformat_minor": 5
}
