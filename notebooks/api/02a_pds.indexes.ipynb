{
 "cells": [
  {
   "cell_type": "code",
   "execution_count": null,
   "id": "latest-oakland",
   "metadata": {},
   "outputs": [],
   "source": [
    "#| default_exp pds.indexes"
   ]
  },
  {
   "cell_type": "markdown",
   "id": "suited-swedish",
   "metadata": {},
   "source": [
    "# PDS Indexes\n",
    "\n",
    "> Support tools to work with PDS index files. "
   ]
  },
  {
   "cell_type": "code",
   "execution_count": null,
   "id": "nervous-hunter",
   "metadata": {},
   "outputs": [],
   "source": [
    "#| hide\n",
    "from nbdev.showdoc import show_doc"
   ]
  },
  {
   "cell_type": "code",
   "execution_count": null,
   "id": "commercial-pension",
   "metadata": {},
   "outputs": [],
   "source": [
    "#| export\n",
    "import logging\n",
    "from datetime import datetime\n",
    "from urllib.parse import urlsplit, urlunsplit\n",
    "from urllib.request import URLError\n",
    "\n",
    "import tomlkit as toml\n",
    "from dateutil import parser\n",
    "from dateutil.parser import ParserError\n",
    "from yarl import URL\n",
    "\n",
    "import pandas as pd\n",
    "from fastcore.basics import patch  # better monkeypatcher\n",
    "from fastcore.xtras import Path  # improved pathlib.Path\n",
    "from planetarypy import utils\n",
    "from planetarypy.config import config\n",
    "from planetarypy.pds.ctx_index import CTXIndex\n",
    "from planetarypy.pds.lroc_index import LROCIndex\n",
    "from planetarypy.pds.utils import IndexLabel, fix_hirise_edrcumindex\n",
    "\n",
    "logger = logging.getLogger(__name__)\n",
    "\n",
    "storage_root = Path(config.storage_root)"
   ]
  },
  {
   "cell_type": "code",
   "execution_count": null,
   "id": "3bfb2fdb-fa60-4ab1-80a0-e847d0d95a74",
   "metadata": {},
   "outputs": [],
   "source": [
    "#| export\n",
    "dynamic_urls = {\"mro.ctx\": CTXIndex, \"lro.lroc\": LROCIndex}"
   ]
  },
  {
   "cell_type": "code",
   "execution_count": null,
   "id": "welcome-humanitarian",
   "metadata": {},
   "outputs": [
    {
     "data": {
      "text/plain": [
       "Path('/home/ayek72/mnt/slowdata/planetarypy')"
      ]
     },
     "execution_count": null,
     "metadata": {},
     "output_type": "execute_result"
    }
   ],
   "source": [
    "#| hide\n",
    "storage_root"
   ]
  },
  {
   "cell_type": "code",
   "execution_count": null,
   "id": "developed-entertainment",
   "metadata": {},
   "outputs": [],
   "source": [
    "#| export\n",
    "class Index:\n",
    "    \"\"\"Index manager class.\n",
    "\n",
    "    This class manages one index, identified by a dotted key, e.g. `cassini.iss.ring_summary`\n",
    "    \"\"\"\n",
    "\n",
    "    def __init__(\n",
    "        self,\n",
    "        key: str,  # Nested (dotted) key, e.g. cassini.iss.ring_summary\n",
    "        url: str = None,  # URL to index. If not given, will be read from config object.\n",
    "        check_update: bool = True,  # switch if dynamic URLS will be derived upon start\n",
    "    ):\n",
    "        self.key = self.parse_key(key)\n",
    "        self.check_update = check_update\n",
    "\n",
    "        self.set_url(url)\n",
    "        try:\n",
    "            self.timestamp = parser.parse(config.get_value(self.key)[\"timestamp\"])\n",
    "        except (toml.exceptions.NonExistentKey, ParserError):\n",
    "            if self.local_label_path.exists():\n",
    "                self.timestamp = datetime.fromtimestamp(\n",
    "                    self.local_label_path.stat().st_mtime\n",
    "                )\n",
    "                self.update_timestamp()\n",
    "            else:\n",
    "                self.timestamp = None\n",
    "        self._remote_timestamp = None\n",
    "\n",
    "    def set_url(self, url):  # URL to index.\n",
    "        \"\"\"Set URL from having it dynamically determined (for non-static index URLs).\"\"\"\n",
    "        self.url = config.get_value(self.key)[\"url\"] if url is None else url\n",
    "        if not self.url and self.check_update:  # empty ''\n",
    "            self.url = dynamic_urls[self.instrument_key]().latest_index_label_url\n",
    "            \n",
    "\n",
    "    @property\n",
    "    def isotimestamp(self):\n",
    "        return self.timestamp.isoformat()\n",
    "\n",
    "    @property\n",
    "    def remote_timestamp(self):\n",
    "        if self._remote_timestamp:\n",
    "            return self._remote_timestamp  # save the internet traffic if already checked before\n",
    "        try:\n",
    "            self._remote_timestamp = utils.get_remote_timestamp(self.url)\n",
    "        except URLError:\n",
    "            print(\"Warning: Could not get the remote timestamp for update check.\")\n",
    "        return self._remote_timestamp\n",
    "        \n",
    "    @property\n",
    "    def key_tokens(self):\n",
    "        return self.key.split(\".\")\n",
    "\n",
    "    @property\n",
    "    def mission(self):\n",
    "        return self.key_tokens[1]\n",
    "\n",
    "    @property\n",
    "    def mission_key(self):\n",
    "        return \".\".join(self.key_tokens[1:2])\n",
    "\n",
    "    @property\n",
    "    def instrument(self):\n",
    "        return self.key_tokens[2]\n",
    "\n",
    "    @property\n",
    "    def instrument_key(self):\n",
    "        return \".\".join(self.key_tokens[1:3])\n",
    "\n",
    "    @property\n",
    "    def index_name(self):\n",
    "        \"\"\"str: Examples: EDR, RDR, moon_summary\"\"\"\n",
    "        return self.key_tokens[3]\n",
    "\n",
    "    @property\n",
    "    def label_filename(self):\n",
    "        if self.url:\n",
    "            return Path(self.url.split(\"/\")[-1])\n",
    "        else:\n",
    "            return Path.ls(self.local_dir, file_exts=[\".lbl\", \".LBL\"])[0]\n",
    "\n",
    "    @property\n",
    "    def isupper(self):\n",
    "        return self.label_filename.suffix.isupper()\n",
    "\n",
    "    @property\n",
    "    def tab_extension(self):\n",
    "        return \".TAB\" if self.isupper else \".tab\"\n",
    "        \n",
    "    @property\n",
    "    def table_filename(self):\n",
    "        return self.label_filename.with_suffix(self.tab_extension)\n",
    "\n",
    "    @property\n",
    "    def table_url(self):\n",
    "        if self.url:\n",
    "            return str(URL(self.url).with_suffix(self.tab_extension))\n",
    "        else:\n",
    "            return ''\n",
    "\n",
    "    @property\n",
    "    def local_dir(self):\n",
    "        p = storage_root / str(self.key).replace(\".\", \"/\")\n",
    "        p.mkdir(parents=True, exist_ok=True)\n",
    "        return p\n",
    "\n",
    "    @property\n",
    "    def local_table_path(self):\n",
    "        return self.local_dir / self.table_filename\n",
    "\n",
    "    @property\n",
    "    def local_label_path(self):\n",
    "        return self.local_dir / self.label_filename\n",
    "\n",
    "    @property\n",
    "    def local_parq_path(self):\n",
    "        return self.local_table_path.with_suffix(\".parq\")\n",
    "\n",
    "    @property\n",
    "    def parquet(self):\n",
    "        return pd.read_parquet(self.local_parq_path)\n",
    "\n",
    "    def update_timestamp(self):\n",
    "        # Note: the config object writes itself out after setting any value\n",
    "        config.set_value(f\"{self.key}.timestamp\", self.isotimestamp)\n",
    "\n",
    "    @property\n",
    "    def label(self):\n",
    "        return IndexLabel(self.local_label_path)\n",
    "\n",
    "    def read_index_data(self, convert_times=True):\n",
    "        df = self.label.read_index_data(convert_times=convert_times)\n",
    "        return df\n",
    "\n",
    "    def convert_to_parquet(self):\n",
    "        df = self.read_index_data()\n",
    "        df = df.convert_dtypes()\n",
    "        df.to_parquet(self.local_parq_path)\n",
    "\n",
    "    def __str__(self):\n",
    "        s = f\"Key: {self.key}\\n\"\n",
    "        s += f\"URL: {self.url}\\n\"\n",
    "        s += f\"Timestamp: {self.timestamp}\\n\"\n",
    "        return s\n",
    "\n",
    "    def __repr__(self):\n",
    "        return self.__str__()"
   ]
  },
  {
   "cell_type": "code",
   "execution_count": null,
   "id": "865aff5d-e3eb-4e6a-8952-8992f7b70800",
   "metadata": {},
   "outputs": [],
   "source": [
    "#| export\n",
    "@patch\n",
    "def parse_key(\n",
    "    self:Index,\n",
    "    key: str,  # dotted key\n",
    "):\n",
    "    \"\"\"Take care of different ways how the key could be structured.\n",
    "\n",
    "    This involves adding the sub-key `indexes` for the config file structure,\n",
    "    which is something the user of this class should not need to know.\n",
    "    \"\"\"\n",
    "    tmp = key if key.startswith(\"missions\") else \"missions.\" + key\n",
    "    subs = tmp.split(\".\")\n",
    "    if subs[3] != \"indexes\":\n",
    "        subs.insert(3, \"indexes\")\n",
    "    return \".\".join(subs)\n"
   ]
  },
  {
   "cell_type": "code",
   "execution_count": null,
   "id": "74b468af-9fb1-46e6-ae49-7769af8ed57b",
   "metadata": {},
   "outputs": [],
   "source": [
    "#| export\n",
    "@patch\n",
    "def download(self:Index):\n",
    "    \"\"\"Wrapping URLs for downloading PDS indices and their label files.\"\"\"\n",
    "    # check timestamp\n",
    "    label_url = self.url\n",
    "    logger.info(\"Downloading %s.\" % label_url)\n",
    "    utils.url_retrieve(label_url, self.local_label_path)\n",
    "    logger.info(\"Downloading %s.\", self.table_url)\n",
    "    utils.url_retrieve(self.table_url, self.local_table_path)\n",
    "    print(f\"Downloaded {self.local_label_path} and {self.local_table_path}\")\n",
    "    if (\n",
    "        self.key == \"missions.mro.hirise.indexes.edr\"\n",
    "    ):  # HiRISE EDR index is broken on the PDS. Team knows.\n",
    "        print(\"Fixing broken EDR index...\")\n",
    "        fix_hirise_edrcumindex(\n",
    "            self.local_table_path, self.local_table_path.with_name(\"temp.tab\")\n",
    "        )\n",
    "        self.local_table_path.with_name(\"temp.tab\").rename(self.local_table_path)\n",
    "    self.timestamp = self.remote_timestamp\n",
    "    self.update_timestamp()\n",
    "    self.convert_to_parquet()"
   ]
  },
  {
   "cell_type": "code",
   "execution_count": null,
   "id": "329db7ae-b55a-4b0c-b59a-f7755726b5a1",
   "metadata": {},
   "outputs": [],
   "source": [
    "#| export\n",
    "@patch(as_prop=True)\n",
    "def update_available(\n",
    "        self: Index) -> bool:  # Boolean indicating if there's a new index\n",
    "    \"Property indicating if the index needs to be downloaded.\"\n",
    "    if not self.timestamp:\n",
    "        return True  # never downloaded\n",
    "    return True if self.remote_timestamp > self.timestamp else False"
   ]
  },
  {
   "cell_type": "code",
   "execution_count": null,
   "id": "4de51298-40f3-475d-9bdf-24d6a110c82e",
   "metadata": {},
   "outputs": [],
   "source": [
    "key = \"missions.cassini.iss.indexes.moon_summary\""
   ]
  },
  {
   "cell_type": "code",
   "execution_count": null,
   "id": "238e9b89-c0f9-4548-a641-e1a070454f1f",
   "metadata": {},
   "outputs": [
    {
     "data": {
      "text/plain": [
       "Key: missions.cassini.iss.indexes.moon_summary\n",
       "URL: https://pds-rings.seti.org/holdings/metadata/COISS_2xxx/COISS_2999/COISS_2999_moon_summary.lbl\n",
       "Timestamp: 2019-06-08 16:28:22"
      ]
     },
     "execution_count": null,
     "metadata": {},
     "output_type": "execute_result"
    }
   ],
   "source": [
    "index = Index(key, check_update=False)\n",
    "index"
   ]
  },
  {
   "cell_type": "code",
   "execution_count": null,
   "id": "88c67a63-9101-4730-8fd9-1eb6d9cea224",
   "metadata": {},
   "outputs": [
    {
     "data": {
      "text/plain": [
       "Key: missions.cassini.iss.indexes.moon_summary\n",
       "URL: https://pds-rings.seti.org/holdings/metadata/COISS_2xxx/COISS_2999/COISS_2999_moon_summary.lbl\n",
       "Timestamp: 2019-06-08 16:28:22"
      ]
     },
     "execution_count": null,
     "metadata": {},
     "output_type": "execute_result"
    }
   ],
   "source": [
    "index"
   ]
  },
  {
   "cell_type": "code",
   "execution_count": null,
   "id": "e32c42b6",
   "metadata": {},
   "outputs": [
    {
     "data": {
      "text/plain": [
       "'missions.cassini.iss.indexes.moon_summary'"
      ]
     },
     "execution_count": null,
     "metadata": {},
     "output_type": "execute_result"
    }
   ],
   "source": [
    "index.key"
   ]
  },
  {
   "cell_type": "code",
   "execution_count": null,
   "id": "d74b39d0-77ab-4211-91d7-55e0b8401cf7",
   "metadata": {},
   "outputs": [
    {
     "data": {
      "text/plain": [
       "Path('COISS_2999_moon_summary.lbl')"
      ]
     },
     "execution_count": null,
     "metadata": {},
     "output_type": "execute_result"
    }
   ],
   "source": [
    "index.label_filename"
   ]
  },
  {
   "cell_type": "code",
   "execution_count": null,
   "id": "c6c19b7d-cd25-4cc1-90be-feb15a09205d",
   "metadata": {},
   "outputs": [
    {
     "data": {
      "text/plain": [
       "'https://pds-rings.seti.org/holdings/metadata/COISS_2xxx/COISS_2999/COISS_2999_moon_summary.lbl'"
      ]
     },
     "execution_count": null,
     "metadata": {},
     "output_type": "execute_result"
    }
   ],
   "source": [
    "index.url"
   ]
  },
  {
   "cell_type": "code",
   "execution_count": null,
   "id": "199f3227-a6c6-4468-9549-71c03340c50f",
   "metadata": {},
   "outputs": [
    {
     "data": {
      "text/plain": [
       "Path('/home/ayek72/mnt/slowdata/planetarypy/missions/cassini/iss/indexes/moon_summary')"
      ]
     },
     "execution_count": null,
     "metadata": {},
     "output_type": "execute_result"
    }
   ],
   "source": [
    "index.local_dir"
   ]
  },
  {
   "cell_type": "code",
   "execution_count": null,
   "id": "93bc7608-b959-439d-86d0-9b12d6ff1752",
   "metadata": {},
   "outputs": [],
   "source": [
    "if index.check_update and index.update_available:\n",
    "    index.download()"
   ]
  },
  {
   "cell_type": "markdown",
   "id": "c12850bc-4ed0-4c20-9ae4-adf7601a5c58",
   "metadata": {},
   "source": [
    "The `key` can be provided\n",
    "* with or without the leading 'missions'\n",
    "* with or without the internal `indexes` level of the config file"
   ]
  },
  {
   "cell_type": "code",
   "execution_count": null,
   "id": "f5e2861b-30c0-42c7-a29e-77f50a9485dd",
   "metadata": {},
   "outputs": [
    {
     "data": {
      "text/plain": [
       "Key: missions.cassini.iss.indexes.moon_summary\n",
       "URL: https://pds-rings.seti.org/holdings/metadata/COISS_2xxx/COISS_2999/COISS_2999_moon_summary.lbl\n",
       "Timestamp: 2019-06-08 16:28:22"
      ]
     },
     "execution_count": null,
     "metadata": {},
     "output_type": "execute_result"
    }
   ],
   "source": [
    "Index(\"cassini.iss.moon_summary\")"
   ]
  },
  {
   "cell_type": "code",
   "execution_count": null,
   "id": "3f667f7d-d923-4661-ac84-dabae036c400",
   "metadata": {},
   "outputs": [
    {
     "data": {
      "text/plain": [
       "Key: missions.cassini.iss.indexes.moon_summary\n",
       "URL: https://pds-rings.seti.org/holdings/metadata/COISS_2xxx/COISS_2999/COISS_2999_moon_summary.lbl\n",
       "Timestamp: 2019-06-08 16:28:22"
      ]
     },
     "execution_count": null,
     "metadata": {},
     "output_type": "execute_result"
    }
   ],
   "source": [
    "Index(\"cassini.iss.indexes.moon_summary\")"
   ]
  },
  {
   "cell_type": "code",
   "execution_count": null,
   "id": "2d0b24ef-2578-4eee-84ef-6b155dc1464b",
   "metadata": {},
   "outputs": [
    {
     "data": {
      "text/plain": [
       "'2019-06-08T16:28:22'"
      ]
     },
     "execution_count": null,
     "metadata": {},
     "output_type": "execute_result"
    }
   ],
   "source": [
    "index.isotimestamp"
   ]
  },
  {
   "cell_type": "code",
   "execution_count": null,
   "id": "9a1391e9-59d1-4f6d-a4eb-9e5c20f7fcd8",
   "metadata": {},
   "outputs": [
    {
     "data": {
      "text/plain": [
       "'cassini'"
      ]
     },
     "execution_count": null,
     "metadata": {},
     "output_type": "execute_result"
    }
   ],
   "source": [
    "index.mission_key"
   ]
  },
  {
   "cell_type": "code",
   "execution_count": null,
   "id": "2eea1a5a-f0da-4bc7-8e95-f4bffa8ecd3f",
   "metadata": {},
   "outputs": [
    {
     "data": {
      "text/plain": [
       "Path('/home/ayek72/mnt/slowdata/planetarypy/missions/cassini/iss/indexes/moon_summary')"
      ]
     },
     "execution_count": null,
     "metadata": {},
     "output_type": "execute_result"
    }
   ],
   "source": [
    "index.local_dir"
   ]
  },
  {
   "cell_type": "code",
   "execution_count": null,
   "id": "974f6ca8-3acd-4b9e-bd70-7a8efd88483f",
   "metadata": {},
   "outputs": [
    {
     "data": {
      "application/vnd.jupyter.widget-view+json": {
       "model_id": "e1ab5de7a540493ebeb922ff4aac20d6",
       "version_major": 2,
       "version_minor": 0
      },
      "text/plain": [
       "COISS_2999_moon_summary.lbl:   0%|          | 0/4316 [00:00<?, ?it/s]"
      ]
     },
     "metadata": {},
     "output_type": "display_data"
    },
    {
     "data": {
      "application/vnd.jupyter.widget-view+json": {
       "model_id": "c60f0a98999b4d3f97f509f06bf4bd60",
       "version_major": 2,
       "version_minor": 0
      },
      "text/plain": [
       "COISS_2999_moon_summary.tab: 0it [00:00, ?it/s]"
      ]
     },
     "metadata": {},
     "output_type": "display_data"
    },
    {
     "name": "stdout",
     "output_type": "stream",
     "text": [
      "Downloaded /home/ayek72/mnt/slowdata/planetarypy/missions/cassini/iss/indexes/moon_summary/COISS_2999_moon_summary.lbl and /home/ayek72/mnt/slowdata/planetarypy/missions/cassini/iss/indexes/moon_summary/COISS_2999_moon_summary.tab\n",
      "Done.\n"
     ]
    }
   ],
   "source": [
    "index.download()"
   ]
  },
  {
   "cell_type": "code",
   "execution_count": null,
   "id": "985e0cae-ee60-4c39-936a-852b398d43ce",
   "metadata": {},
   "outputs": [
    {
     "data": {
      "text/plain": [
       "['missions', 'cassini']"
      ]
     },
     "execution_count": null,
     "metadata": {},
     "output_type": "execute_result"
    }
   ],
   "source": [
    "index.key_tokens[:2]"
   ]
  },
  {
   "cell_type": "code",
   "execution_count": null,
   "id": "c64ab9ec-e2bc-4fbc-942d-6631bfb867b2",
   "metadata": {},
   "outputs": [
    {
     "data": {
      "text/plain": [
       "'cassini.iss'"
      ]
     },
     "execution_count": null,
     "metadata": {},
     "output_type": "execute_result"
    }
   ],
   "source": [
    "index.instrument_key"
   ]
  },
  {
   "cell_type": "code",
   "execution_count": null,
   "id": "c19ba3ef-b980-41f8-91d9-3a93393e3531",
   "metadata": {},
   "outputs": [
    {
     "data": {
      "text/plain": [
       "{'indexes': {'index': {'url': 'https://pds-rings.seti.org/holdings/metadata/COISS_2xxx/COISS_2999/COISS_2999_index.lbl', 'timestamp': '2021-02-21T15:55:27'}, 'inventory': {'url': 'https://pds-rings.seti.org/holdings/metadata/COISS_2xxx/COISS_2999/COISS_2999_inventory.lbl'}, 'moon_summary': {'url': 'https://pds-rings.seti.org/holdings/metadata/COISS_2xxx/COISS_2999/COISS_2999_moon_summary.lbl', 'timestamp': '2019-06-08T16:28:22'}, 'ring_summary': {'url': 'https://pds-rings.seti.org/holdings/metadata/COISS_2xxx/COISS_2999/COISS_2999_ring_summary.lbl', 'timestamp': '2022-08-08T11:54:51.140376'}, 'saturn_summary': {'url': 'https://pds-rings.seti.org/holdings/metadata/COISS_2xxx/COISS_2999/COISS_2999_saturn_summary.lbl', 'timestamp': '2022-12-21T18:10:29.248055'}}}"
      ]
     },
     "execution_count": null,
     "metadata": {},
     "output_type": "execute_result"
    }
   ],
   "source": [
    "config.get_value(index.instrument_key)"
   ]
  },
  {
   "cell_type": "code",
   "execution_count": null,
   "id": "bda48c0a-bccf-4361-b90e-76fa67b8ab35",
   "metadata": {},
   "outputs": [],
   "source": [
    "index = Index('mro.ctx.edr', check_update=False)"
   ]
  },
  {
   "cell_type": "code",
   "execution_count": null,
   "id": "c97ae38e-8db8-4093-84bf-df734ca5cec1",
   "metadata": {},
   "outputs": [
    {
     "data": {
      "text/plain": [
       "''"
      ]
     },
     "execution_count": null,
     "metadata": {},
     "output_type": "execute_result"
    }
   ],
   "source": [
    "index.url"
   ]
  },
  {
   "cell_type": "code",
   "execution_count": null,
   "id": "88a277c7-684a-479c-ba58-b61a5ff6ee60",
   "metadata": {},
   "outputs": [
    {
     "data": {
      "text/plain": [
       "Path('/home/ayek72/mnt/slowdata/planetarypy/missions/mro/ctx/indexes/edr/cumindex.lbl')"
      ]
     },
     "execution_count": null,
     "metadata": {},
     "output_type": "execute_result"
    }
   ],
   "source": [
    "index.label_filename"
   ]
  },
  {
   "cell_type": "code",
   "execution_count": null,
   "id": "05d1d669-d130-4c20-a2b6-ce0fcf728d20",
   "metadata": {},
   "outputs": [
    {
     "data": {
      "text/plain": [
       "[Path('/home/ayek72/mnt/slowdata/planetarypy/missions/mro/ctx/indexes/edr/cumindex.lbl')]"
      ]
     },
     "execution_count": null,
     "metadata": {},
     "output_type": "execute_result"
    }
   ],
   "source": [
    "list(index.local_dir.glob(\"*.[lL][bB][lL]\"))"
   ]
  },
  {
   "cell_type": "code",
   "execution_count": null,
   "id": "3704548e-a435-4204-a0c6-6662e5a1c7a5",
   "metadata": {},
   "outputs": [],
   "source": [
    "#| hide\n",
    "from nbdev import nbdev_export\n",
    "nbdev_export()"
   ]
  },
  {
   "cell_type": "code",
   "execution_count": null,
   "id": "4c3cbb36-d2f2-4020-9f8a-a2048e6c9289",
   "metadata": {},
   "outputs": [],
   "source": []
  },
  {
   "cell_type": "code",
   "execution_count": null,
   "id": "dd97de08-6e1a-4f5c-a209-92baa052ad96",
   "metadata": {},
   "outputs": [],
   "source": []
  }
 ],
 "metadata": {
  "kernelspec": {
   "display_name": "conda-env-py39-py",
   "language": "python",
   "name": "conda-env-py39-py"
  }
 },
 "nbformat": 4,
 "nbformat_minor": 5
}
