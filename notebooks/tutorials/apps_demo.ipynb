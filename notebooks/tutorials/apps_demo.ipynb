{
 "cells": [
  {
   "cell_type": "markdown",
   "id": "c1480ec7-0023-417d-992b-86602442f7c5",
   "metadata": {},
   "source": [
    "# PlanetaryPy Demo"
   ]
  },
  {
   "cell_type": "markdown",
   "id": "b9f06666-4fd2-4db9-b062-f56c1d0f674e",
   "metadata": {},
   "source": [
    "## Time and Network utils"
   ]
  },
  {
   "cell_type": "markdown",
   "id": "be106f3c-8961-4502-93ff-c8a7825762ae",
   "metadata": {},
   "source": [
    "### Times"
   ]
  },
  {
   "cell_type": "code",
   "execution_count": null,
   "id": "d9656930-688f-44e1-aa5a-651d766a8707",
   "metadata": {},
   "outputs": [],
   "source": [
    "from planetarypy import utils"
   ]
  },
  {
   "cell_type": "markdown",
   "id": "d6789c95-19fc-45e8-a983-5ad9af6e664a",
   "metadata": {},
   "source": [
    "> Do you remember that the string conversion code for \"day-of-year\" is `%j` ?\n",
    "\n",
    "> Do we want newcomers search for that in Python docs?"
   ]
  },
  {
   "cell_type": "code",
   "execution_count": null,
   "id": "30a9251f-345d-4860-aebd-a6f656310416",
   "metadata": {},
   "outputs": [],
   "source": [
    "times = [\"2002-137\", \"2005-234T13:00:00.123\"]"
   ]
  },
  {
   "cell_type": "code",
   "execution_count": null,
   "id": "b3d32170-888b-40bb-890e-350b74631092",
   "metadata": {},
   "outputs": [
    {
     "data": {
      "text/plain": [
       "['2002-05-17', '2005-08-22T13:00:00.123000']"
      ]
     },
     "execution_count": null,
     "metadata": {},
     "output_type": "execute_result"
    }
   ],
   "source": [
    "isotimes = [utils.nasa_time_to_iso(t) for t in times]\n",
    "isotimes"
   ]
  },
  {
   "cell_type": "code",
   "execution_count": null,
   "id": "23696995-0a8d-4c33-82bc-7971e70c67b8",
   "metadata": {},
   "outputs": [
    {
     "data": {
      "text/plain": [
       "['2002-137', '2005-234T13:00:00.123000']"
      ]
     },
     "execution_count": null,
     "metadata": {},
     "output_type": "execute_result"
    }
   ],
   "source": [
    "[utils.iso_to_nasa_time(t) for t in isotimes]"
   ]
  },
  {
   "cell_type": "markdown",
   "id": "7df249e7-829b-41eb-b347-91531b8ba8ac",
   "metadata": {},
   "source": [
    "### Network"
   ]
  },
  {
   "cell_type": "code",
   "execution_count": null,
   "id": "0919fed2-43b8-4d6c-b958-f5d154059d12",
   "metadata": {},
   "outputs": [
    {
     "data": {
      "text/plain": [
       "True"
      ]
     },
     "execution_count": null,
     "metadata": {},
     "output_type": "execute_result"
    }
   ],
   "source": [
    "utils.check_url_exists(\"https://michaelaye.github.io\")"
   ]
  },
  {
   "cell_type": "code",
   "execution_count": null,
   "id": "dcc45c35-c75b-423c-9c47-5e67af9fdede",
   "metadata": {},
   "outputs": [
    {
     "name": "stdout",
     "output_type": "stream",
     "text": [
      "\u001b[0;31mSignature:\u001b[0m \u001b[0mutils\u001b[0m\u001b[0;34m.\u001b[0m\u001b[0mcheck_url_exists\u001b[0m\u001b[0;34m(\u001b[0m\u001b[0murl\u001b[0m\u001b[0;34m)\u001b[0m\u001b[0;34m\u001b[0m\u001b[0;34m\u001b[0m\u001b[0m\n",
      "\u001b[0;31mDocstring:\u001b[0m <no docstring>\n",
      "\u001b[0;31mFile:\u001b[0m      ~/Dropbox/src/nbplanetary/planetarypy/utils.py\n",
      "\u001b[0;31mType:\u001b[0m      function"
     ]
    }
   ],
   "source": [
    "utils.check_url_exists?"
   ]
  },
  {
   "cell_type": "code",
   "execution_count": null,
   "id": "c8349adb-e31f-4712-b2ee-802f6439712e",
   "metadata": {},
   "outputs": [
    {
     "data": {
      "text/plain": [
       "True"
      ]
     },
     "execution_count": null,
     "metadata": {},
     "output_type": "execute_result"
    }
   ],
   "source": [
    "utils.have_internet()"
   ]
  },
  {
   "cell_type": "code",
   "execution_count": null,
   "id": "873fce26-28fe-44bc-8134-5d0eddd13bf8",
   "metadata": {},
   "outputs": [
    {
     "data": {
      "application/vnd.jupyter.widget-view+json": {
       "model_id": "99b51aab26e849d792c79d22021259dd",
       "version_major": 2,
       "version_minor": 0
      },
      "text/plain": [
       "talk_slides.pdf:   0%|          | 0/2568619 [00:00<?, ?it/s]"
      ]
     },
     "metadata": {},
     "output_type": "display_data"
    }
   ],
   "source": [
    "utils.url_retrieve(\n",
    "    \"https://michaelaye.github.io/talks/2021-conda-workshop-kharkiv/conda_talk_Kharkiv_conference.pdf\",\n",
    "    \"talk_slides.pdf\",\n",
    ")"
   ]
  },
  {
   "cell_type": "markdown",
   "id": "5f56d610-2fb3-401a-9cfc-b5eb67b48e00",
   "metadata": {},
   "source": [
    "## PDS Indexes"
   ]
  },
  {
   "cell_type": "code",
   "execution_count": null,
   "id": "b062420f-aa1d-4499-a4aa-3d4312a00e4f",
   "metadata": {},
   "outputs": [],
   "source": [
    "from planetarypy.pds.apps import find_indexes, get_index, find_instruments"
   ]
  },
  {
   "cell_type": "code",
   "execution_count": null,
   "id": "c4fd44ad-6469-454d-9930-86a44cf3b9e5",
   "metadata": {},
   "outputs": [
    {
     "name": "stdout",
     "output_type": "stream",
     "text": [
      "\u001b[0;31mSignature:\u001b[0m \u001b[0mfind_indexes\u001b[0m\u001b[0;34m(\u001b[0m\u001b[0minstrument\u001b[0m\u001b[0;34m:\u001b[0m \u001b[0mstr\u001b[0m\u001b[0;34m)\u001b[0m \u001b[0;34m->\u001b[0m \u001b[0mlist\u001b[0m\u001b[0;34m\u001b[0m\u001b[0;34m\u001b[0m\u001b[0m\n",
      "\u001b[0;31mDocstring:\u001b[0m Find existing indexes for an instrument.\n",
      "\u001b[0;31mFile:\u001b[0m      ~/Dropbox/src/nbplanetary/planetarypy/pds/apps.py\n",
      "\u001b[0;31mType:\u001b[0m      function"
     ]
    }
   ],
   "source": [
    "find_indexes?"
   ]
  },
  {
   "cell_type": "code",
   "execution_count": null,
   "id": "c76f244c-132f-4dbb-b608-28251d233bce",
   "metadata": {},
   "outputs": [
    {
     "data": {
      "text/plain": [
       "['index',\n",
       " 'moon_summary',\n",
       " 'ring_summary',\n",
       " 'saturn_summary',\n",
       " 'supplemental_index',\n",
       " 'versions']"
      ]
     },
     "execution_count": null,
     "metadata": {},
     "output_type": "execute_result"
    }
   ],
   "source": [
    "find_indexes(\"cassini.uvis\")"
   ]
  },
  {
   "cell_type": "code",
   "execution_count": null,
   "id": "6596d99e-770d-4038-b2b4-d2cf6bf266ce",
   "metadata": {},
   "outputs": [
    {
     "data": {
      "text/plain": [
       "['edr']"
      ]
     },
     "execution_count": null,
     "metadata": {},
     "output_type": "execute_result"
    }
   ],
   "source": [
    "find_indexes(\"go.ssi\")  # Galileo orbiter SSImager"
   ]
  },
  {
   "cell_type": "code",
   "execution_count": null,
   "id": "042f3b98-c7c4-43f3-8b5a-641365e3c157",
   "metadata": {},
   "outputs": [
    {
     "name": "stdout",
     "output_type": "stream",
     "text": [
      "\u001b[0;31mSignature:\u001b[0m\n",
      "\u001b[0mget_index\u001b[0m\u001b[0;34m(\u001b[0m\u001b[0;34m\u001b[0m\n",
      "\u001b[0;34m\u001b[0m    \u001b[0minstr\u001b[0m\u001b[0;34m:\u001b[0m \u001b[0mstr\u001b[0m\u001b[0;34m,\u001b[0m\u001b[0;34m\u001b[0m\n",
      "\u001b[0;34m\u001b[0m    \u001b[0mindex_name\u001b[0m\u001b[0;34m:\u001b[0m \u001b[0mstr\u001b[0m \u001b[0;34m=\u001b[0m \u001b[0;34m''\u001b[0m\u001b[0;34m,\u001b[0m\u001b[0;34m\u001b[0m\n",
      "\u001b[0;34m\u001b[0m    \u001b[0mrefresh\u001b[0m\u001b[0;34m:\u001b[0m \u001b[0mbool\u001b[0m \u001b[0;34m=\u001b[0m \u001b[0;32mTrue\u001b[0m\u001b[0;34m,\u001b[0m\u001b[0;34m\u001b[0m\n",
      "\u001b[0;34m\u001b[0m    \u001b[0mforce\u001b[0m\u001b[0;34m:\u001b[0m \u001b[0mbool\u001b[0m \u001b[0;34m=\u001b[0m \u001b[0;32mFalse\u001b[0m\u001b[0;34m,\u001b[0m\u001b[0;34m\u001b[0m\n",
      "\u001b[0;34m\u001b[0m\u001b[0;34m)\u001b[0m \u001b[0;34m->\u001b[0m \u001b[0mpandas\u001b[0m\u001b[0;34m.\u001b[0m\u001b[0mcore\u001b[0m\u001b[0;34m.\u001b[0m\u001b[0mframe\u001b[0m\u001b[0;34m.\u001b[0m\u001b[0mDataFrame\u001b[0m\u001b[0;34m\u001b[0m\u001b[0;34m\u001b[0m\u001b[0m\n",
      "\u001b[0;31mDocstring:\u001b[0m Example: get_index(\"cassini.iss\", \"index\")\n",
      "\u001b[0;31mFile:\u001b[0m      ~/Dropbox/src/nbplanetary/planetarypy/pds/apps.py\n",
      "\u001b[0;31mType:\u001b[0m      function"
     ]
    }
   ],
   "source": [
    "get_index?"
   ]
  },
  {
   "cell_type": "code",
   "execution_count": null,
   "id": "ef62b256",
   "metadata": {},
   "outputs": [],
   "source": [
    "df = get_index(\"cassini.uvis.moon_summary\")"
   ]
  },
  {
   "cell_type": "code",
   "execution_count": null,
   "id": "8a3c8d61",
   "metadata": {},
   "outputs": [
    {
     "data": {
      "text/plain": [
       "Index(['VOLUME_ID', 'FILE_SPECIFICATION_NAME', 'RING_OBSERVATION_ID',\n",
       "       'TARGET_NAME', 'MINIMUM_PLANETOCENTRIC_LATITUDE',\n",
       "       'MAXIMUM_PLANETOCENTRIC_LATITUDE', 'MINIMUM_PLANETOGRAPHIC_LATITUDE',\n",
       "       'MAXIMUM_PLANETOGRAPHIC_LATITUDE', 'MINIMUM_IAU_LONGITUDE',\n",
       "       'MAXIMUM_IAU_LONGITUDE', 'MINIMUM_LOCAL_HOUR_ANGLE',\n",
       "       'MAXIMUM_LOCAL_HOUR_ANGLE', 'MINIMUM_LONGITUDE_WRT_OBSERVER',\n",
       "       'MAXIMUM_LONGITUDE_WRT_OBSERVER', 'MINIMUM_FINEST_SURFACE_RESOLUTION',\n",
       "       'MAXIMUM_FINEST_SURFACE_RESOLUTION',\n",
       "       'MINIMUM_COARSEST_SURFACE_RESOLUTION',\n",
       "       'MAXIMUM_COARSEST_SURFACE_RESOLUTION', 'MINIMUM_SURFACE_DISTANCE',\n",
       "       'MAXIMUM_SURFACE_DISTANCE', 'MINIMUM_PHASE_ANGLE',\n",
       "       'MAXIMUM_PHASE_ANGLE', 'MINIMUM_INCIDENCE_ANGLE',\n",
       "       'MAXIMUM_INCIDENCE_ANGLE', 'MINIMUM_EMISSION_ANGLE',\n",
       "       'MAXIMUM_EMISSION_ANGLE', 'SUB_SOLAR_PLANETOCENTRIC_LATITUDE',\n",
       "       'SUB_SOLAR_PLANETOGRAPHIC_LATITUDE',\n",
       "       'SUB_OBSERVER_PLANETOCENTRIC_LATITUDE',\n",
       "       'SUB_OBSERVER_PLANETOGRAPHIC_LATITUDE', 'SUB_SOLAR_IAU_LONGITUDE',\n",
       "       'SUB_OBSERVER_IAU_LONGITUDE', 'CENTER_RESOLUTION', 'CENTER_DISTANCE',\n",
       "       'CENTER_PHASE_ANGLE'],\n",
       "      dtype='object')"
      ]
     },
     "execution_count": null,
     "metadata": {},
     "output_type": "execute_result"
    }
   ],
   "source": [
    "df.columns"
   ]
  },
  {
   "cell_type": "code",
   "execution_count": null,
   "id": "11b60ee2-8da6-44cd-b791-85567a5be8f6",
   "metadata": {},
   "outputs": [
    {
     "data": {
      "application/vnd.jupyter.widget-view+json": {
       "model_id": "0f7f91cf46254cb0a4c8d7de913a2687",
       "version_major": 2,
       "version_minor": 0
      },
      "text/plain": [
       "COUVIS_0999_ring_summary.lbl:   0%|          | 0/5979 [00:00<?, ?it/s]"
      ]
     },
     "metadata": {},
     "output_type": "display_data"
    },
    {
     "data": {
      "application/vnd.jupyter.widget-view+json": {
       "model_id": "f9cd31cac259487ca746cfd4eddf1faa",
       "version_major": 2,
       "version_minor": 0
      },
      "text/plain": [
       "COUVIS_0999_ring_summary.tab: 0it [00:00, ?it/s]"
      ]
     },
     "metadata": {},
     "output_type": "display_data"
    },
    {
     "name": "stdout",
     "output_type": "stream",
     "text": [
      "Downloaded /Users/maye/planetarypy_data/missions/cassini/uvis/indexes/ring_summary/COUVIS_0999_ring_summary.lbl and /Users/maye/planetarypy_data/missions/cassini/uvis/indexes/ring_summary/COUVIS_0999_ring_summary.tab\n",
      "Reading index to memory for conversion to parquet. Will take up lots of memory for a bit.\n"
     ]
    },
    {
     "data": {
      "application/vnd.jupyter.widget-view+json": {
       "model_id": "6974577fc39f4efc9dc8a721f1cdc7ec",
       "version_major": 2,
       "version_minor": 0
      },
      "text/plain": [
       "Loading index in chunks:   0%|          | 0/33 [00:00<?, ?it/s]"
      ]
     },
     "metadata": {},
     "output_type": "display_data"
    },
    {
     "name": "stdout",
     "output_type": "stream",
     "text": [
      "Convert time strings to datetime objects.\n"
     ]
    },
    {
     "name": "stderr",
     "output_type": "stream",
     "text": [
      "/Users/maye/miniforge3/envs/py312/lib/python3.12/site-packages/pandas/core/dtypes/cast.py:1057: RuntimeWarning: invalid value encountered in cast\n",
      "  if (arr.astype(int) == arr).all():\n",
      "/Users/maye/miniforge3/envs/py312/lib/python3.12/site-packages/pandas/core/dtypes/cast.py:1081: RuntimeWarning: invalid value encountered in cast\n",
      "  if (arr.astype(int) == arr).all():\n"
     ]
    },
    {
     "name": "stdout",
     "output_type": "stream",
     "text": [
      "Storing into parquet.\n",
      "Finished. Enjoy your freshly baked PDS Index. :\n"
     ]
    },
    {
     "data": {
      "text/html": [
       "<div>\n",
       "<style scoped>\n",
       "    .dataframe tbody tr th:only-of-type {\n",
       "        vertical-align: middle;\n",
       "    }\n",
       "\n",
       "    .dataframe tbody tr th {\n",
       "        vertical-align: top;\n",
       "    }\n",
       "\n",
       "    .dataframe thead th {\n",
       "        text-align: right;\n",
       "    }\n",
       "</style>\n",
       "<table border=\"1\" class=\"dataframe\">\n",
       "  <thead>\n",
       "    <tr style=\"text-align: right;\">\n",
       "      <th></th>\n",
       "      <th>VOLUME_ID</th>\n",
       "      <th>FILE_SPECIFICATION_NAME</th>\n",
       "      <th>RING_OBSERVATION_ID</th>\n",
       "      <th>MINIMUM_RIGHT_ASCENSION</th>\n",
       "      <th>MAXIMUM_RIGHT_ASCENSION</th>\n",
       "      <th>MINIMUM_DECLINATION</th>\n",
       "      <th>MAXIMUM_DECLINATION</th>\n",
       "      <th>MINIMUM_RING_RADIUS</th>\n",
       "      <th>MAXIMUM_RING_RADIUS</th>\n",
       "      <th>FINEST_RING_INTERCEPT_RESOLUTION</th>\n",
       "      <th>...</th>\n",
       "      <th>RING_CENTER_DISTANCE</th>\n",
       "      <th>SUB_SOLAR_RING_LONGITUDE</th>\n",
       "      <th>SUB_OBSERVER_RING_LONGITUDE</th>\n",
       "      <th>RING_CENTER_PHASE_ANGLE</th>\n",
       "      <th>RING_CENTER_INCIDENCE_ANGLE</th>\n",
       "      <th>RING_CENTER_NORTH_BASED_INCIDENCE_ANGLE</th>\n",
       "      <th>RING_CENTER_EMISSION_ANGLE</th>\n",
       "      <th>RING_CENTER_NORTH_BASED_EMISSION_ANGLE</th>\n",
       "      <th>SOLAR_RING_OPENING_ANGLE</th>\n",
       "      <th>OBSERVER_RING_OPENING_ANGLE</th>\n",
       "    </tr>\n",
       "  </thead>\n",
       "  <tbody>\n",
       "    <tr>\n",
       "      <th>0</th>\n",
       "      <td>COUVIS_0006</td>\n",
       "      <td>DATA/D2004_002/EUV2004_002_12_16.LBL</td>\n",
       "      <td>S/CO/UVIS/2004-002T12-16/EUV</td>\n",
       "      <td>34.154493</td>\n",
       "      <td>37.815141</td>\n",
       "      <td>9.679762</td>\n",
       "      <td>9.712415</td>\n",
       "      <td>1074925.366</td>\n",
       "      <td>3066570.289</td>\n",
       "      <td>87709.0</td>\n",
       "      <td>...</td>\n",
       "      <td>86724352.465</td>\n",
       "      <td>283.109</td>\n",
       "      <td>215.938</td>\n",
       "      <td>62.786</td>\n",
       "      <td>64.404</td>\n",
       "      <td>115.596</td>\n",
       "      <td>73.661</td>\n",
       "      <td>106.339</td>\n",
       "      <td>-25.596</td>\n",
       "      <td>-16.34</td>\n",
       "    </tr>\n",
       "    <tr>\n",
       "      <th>1</th>\n",
       "      <td>COUVIS_0006</td>\n",
       "      <td>DATA/D2004_002/EUV2004_002_12_32.LBL</td>\n",
       "      <td>S/CO/UVIS/2004-002T12-32/EUV</td>\n",
       "      <td>34.155557</td>\n",
       "      <td>37.817313</td>\n",
       "      <td>9.78073</td>\n",
       "      <td>9.81348</td>\n",
       "      <td>521741.812</td>\n",
       "      <td>2900680.924</td>\n",
       "      <td>87173.0</td>\n",
       "      <td>...</td>\n",
       "      <td>86719417.82</td>\n",
       "      <td>283.109</td>\n",
       "      <td>215.938</td>\n",
       "      <td>62.787</td>\n",
       "      <td>64.404</td>\n",
       "      <td>115.596</td>\n",
       "      <td>73.661</td>\n",
       "      <td>106.339</td>\n",
       "      <td>-25.596</td>\n",
       "      <td>-16.34</td>\n",
       "    </tr>\n",
       "    <tr>\n",
       "      <th>2</th>\n",
       "      <td>COUVIS_0006</td>\n",
       "      <td>DATA/D2004_002/EUV2004_002_12_47.LBL</td>\n",
       "      <td>S/CO/UVIS/2004-002T12-47/EUV</td>\n",
       "      <td>34.154107</td>\n",
       "      <td>37.816935</td>\n",
       "      <td>9.877249</td>\n",
       "      <td>9.909878</td>\n",
       "      <td>64757.681</td>\n",
       "      <td>2839690.546</td>\n",
       "      <td>86667.0</td>\n",
       "      <td>...</td>\n",
       "      <td>86714483.175</td>\n",
       "      <td>283.11</td>\n",
       "      <td>215.938</td>\n",
       "      <td>62.787</td>\n",
       "      <td>64.404</td>\n",
       "      <td>115.596</td>\n",
       "      <td>73.661</td>\n",
       "      <td>106.339</td>\n",
       "      <td>-25.596</td>\n",
       "      <td>-16.34</td>\n",
       "    </tr>\n",
       "    <tr>\n",
       "      <th>3</th>\n",
       "      <td>COUVIS_0006</td>\n",
       "      <td>DATA/D2004_002/EUV2004_002_13_03.LBL</td>\n",
       "      <td>S/CO/UVIS/2004-002T13-03/EUV</td>\n",
       "      <td>34.155193</td>\n",
       "      <td>37.819152</td>\n",
       "      <td>9.978176</td>\n",
       "      <td>10.010898</td>\n",
       "      <td>541745.355</td>\n",
       "      <td>2872984.474</td>\n",
       "      <td>86145.0</td>\n",
       "      <td>...</td>\n",
       "      <td>86709548.529</td>\n",
       "      <td>283.11</td>\n",
       "      <td>215.938</td>\n",
       "      <td>62.787</td>\n",
       "      <td>64.404</td>\n",
       "      <td>115.596</td>\n",
       "      <td>73.661</td>\n",
       "      <td>106.339</td>\n",
       "      <td>-25.596</td>\n",
       "      <td>-16.34</td>\n",
       "    </tr>\n",
       "    <tr>\n",
       "      <th>4</th>\n",
       "      <td>COUVIS_0006</td>\n",
       "      <td>DATA/D2004_002/EUV2004_002_13_18.LBL</td>\n",
       "      <td>S/CO/UVIS/2004-002T13-18/EUV</td>\n",
       "      <td>34.157243</td>\n",
       "      <td>37.822332</td>\n",
       "      <td>10.077845</td>\n",
       "      <td>10.110536</td>\n",
       "      <td>1068459.125</td>\n",
       "      <td>2999016.495</td>\n",
       "      <td>85635.0</td>\n",
       "      <td>...</td>\n",
       "      <td>86704613.884</td>\n",
       "      <td>283.111</td>\n",
       "      <td>215.938</td>\n",
       "      <td>62.788</td>\n",
       "      <td>64.404</td>\n",
       "      <td>115.596</td>\n",
       "      <td>73.661</td>\n",
       "      <td>106.339</td>\n",
       "      <td>-25.596</td>\n",
       "      <td>-16.34</td>\n",
       "    </tr>\n",
       "    <tr>\n",
       "      <th>...</th>\n",
       "      <td>...</td>\n",
       "      <td>...</td>\n",
       "      <td>...</td>\n",
       "      <td>...</td>\n",
       "      <td>...</td>\n",
       "      <td>...</td>\n",
       "      <td>...</td>\n",
       "      <td>...</td>\n",
       "      <td>...</td>\n",
       "      <td>...</td>\n",
       "      <td>...</td>\n",
       "      <td>...</td>\n",
       "      <td>...</td>\n",
       "      <td>...</td>\n",
       "      <td>...</td>\n",
       "      <td>...</td>\n",
       "      <td>...</td>\n",
       "      <td>...</td>\n",
       "      <td>...</td>\n",
       "      <td>...</td>\n",
       "      <td>...</td>\n",
       "    </tr>\n",
       "    <tr>\n",
       "      <th>167406</th>\n",
       "      <td>COUVIS_0060</td>\n",
       "      <td>DATA/D2017_258/FUV2017_258_04_31.LBL</td>\n",
       "      <td>S/CO/UVIS/2017-258T04-31/FUV</td>\n",
       "      <td>355.156267</td>\n",
       "      <td>93.92438</td>\n",
       "      <td>-69.312846</td>\n",
       "      <td>-14.507954</td>\n",
       "      <td>126726.883</td>\n",
       "      <td>1083278.078</td>\n",
       "      <td>246.61634</td>\n",
       "      <td>...</td>\n",
       "      <td>263974.558</td>\n",
       "      <td>178.948</td>\n",
       "      <td>26.856</td>\n",
       "      <td>99.681</td>\n",
       "      <td>63.319</td>\n",
       "      <td>63.319</td>\n",
       "      <td>40.359</td>\n",
       "      <td>40.359</td>\n",
       "      <td>26.681</td>\n",
       "      <td>49.641</td>\n",
       "    </tr>\n",
       "    <tr>\n",
       "      <th>167407</th>\n",
       "      <td>COUVIS_0060</td>\n",
       "      <td>DATA/D2017_258/FUV2017_258_07_00.LBL</td>\n",
       "      <td>S/CO/UVIS/2017-258T07-00/FUV</td>\n",
       "      <td>82.692823</td>\n",
       "      <td>82.747154</td>\n",
       "      <td>-4.328498</td>\n",
       "      <td>-4.268149</td>\n",
       "      <td>-999.0</td>\n",
       "      <td>-999.0</td>\n",
       "      <td>-999.0</td>\n",
       "      <td>...</td>\n",
       "      <td>251887.753</td>\n",
       "      <td>178.949</td>\n",
       "      <td>26.661</td>\n",
       "      <td>99.192</td>\n",
       "      <td>63.319</td>\n",
       "      <td>63.319</td>\n",
       "      <td>39.696</td>\n",
       "      <td>39.696</td>\n",
       "      <td>26.681</td>\n",
       "      <td>50.304</td>\n",
       "    </tr>\n",
       "    <tr>\n",
       "      <th>167408</th>\n",
       "      <td>COUVIS_0060</td>\n",
       "      <td>DATA/D2017_258/FUV2017_258_07_15.LBL</td>\n",
       "      <td>S/CO/UVIS/2017-258T07-15/FUV</td>\n",
       "      <td>54.358671</td>\n",
       "      <td>76.196366</td>\n",
       "      <td>-4.007282</td>\n",
       "      <td>13.298744</td>\n",
       "      <td>-999.0</td>\n",
       "      <td>-999.0</td>\n",
       "      <td>-999.0</td>\n",
       "      <td>...</td>\n",
       "      <td>157806.504</td>\n",
       "      <td>178.951</td>\n",
       "      <td>68.04</td>\n",
       "      <td>76.009</td>\n",
       "      <td>63.319</td>\n",
       "      <td>63.319</td>\n",
       "      <td>34.946</td>\n",
       "      <td>34.946</td>\n",
       "      <td>26.681</td>\n",
       "      <td>55.054</td>\n",
       "    </tr>\n",
       "    <tr>\n",
       "      <th>167409</th>\n",
       "      <td>COUVIS_0060</td>\n",
       "      <td>DATA/D2017_258/HDAC2017_258_02_14.LBL</td>\n",
       "      <td>S/CO/UVIS/2017-258T02-14/HDAC</td>\n",
       "      <td>129.674881</td>\n",
       "      <td>143.379042</td>\n",
       "      <td>-58.332263</td>\n",
       "      <td>-48.522644</td>\n",
       "      <td>204871.745</td>\n",
       "      <td>219390.536</td>\n",
       "      <td>17773.0</td>\n",
       "      <td>...</td>\n",
       "      <td>447586.578</td>\n",
       "      <td>178.942</td>\n",
       "      <td>9.923</td>\n",
       "      <td>115.559</td>\n",
       "      <td>63.319</td>\n",
       "      <td>63.319</td>\n",
       "      <td>53.073</td>\n",
       "      <td>53.073</td>\n",
       "      <td>26.681</td>\n",
       "      <td>36.927</td>\n",
       "    </tr>\n",
       "    <tr>\n",
       "      <th>167410</th>\n",
       "      <td>COUVIS_0060</td>\n",
       "      <td>DATA/D2017_258/HDAC2017_258_02_15.LBL</td>\n",
       "      <td>S/CO/UVIS/2017-258T02-15/HDAC</td>\n",
       "      <td>92.532639</td>\n",
       "      <td>116.78171</td>\n",
       "      <td>-67.582806</td>\n",
       "      <td>-63.392218</td>\n",
       "      <td>98954.702</td>\n",
       "      <td>230819.677</td>\n",
       "      <td>12312.0</td>\n",
       "      <td>...</td>\n",
       "      <td>357220.013</td>\n",
       "      <td>178.945</td>\n",
       "      <td>15.877</td>\n",
       "      <td>109.156</td>\n",
       "      <td>63.319</td>\n",
       "      <td>63.319</td>\n",
       "      <td>47.62</td>\n",
       "      <td>47.62</td>\n",
       "      <td>26.681</td>\n",
       "      <td>42.38</td>\n",
       "    </tr>\n",
       "  </tbody>\n",
       "</table>\n",
       "<p>167411 rows × 59 columns</p>\n",
       "</div>"
      ],
      "text/plain": [
       "          VOLUME_ID                   FILE_SPECIFICATION_NAME  \\\n",
       "0       COUVIS_0006  DATA/D2004_002/EUV2004_002_12_16.LBL       \n",
       "1       COUVIS_0006  DATA/D2004_002/EUV2004_002_12_32.LBL       \n",
       "2       COUVIS_0006  DATA/D2004_002/EUV2004_002_12_47.LBL       \n",
       "3       COUVIS_0006  DATA/D2004_002/EUV2004_002_13_03.LBL       \n",
       "4       COUVIS_0006  DATA/D2004_002/EUV2004_002_13_18.LBL       \n",
       "...             ...                                       ...   \n",
       "167406  COUVIS_0060  DATA/D2017_258/FUV2017_258_04_31.LBL       \n",
       "167407  COUVIS_0060  DATA/D2017_258/FUV2017_258_07_00.LBL       \n",
       "167408  COUVIS_0060  DATA/D2017_258/FUV2017_258_07_15.LBL       \n",
       "167409  COUVIS_0060  DATA/D2017_258/HDAC2017_258_02_14.LBL      \n",
       "167410  COUVIS_0060  DATA/D2017_258/HDAC2017_258_02_15.LBL      \n",
       "\n",
       "                     RING_OBSERVATION_ID  MINIMUM_RIGHT_ASCENSION  \\\n",
       "0       S/CO/UVIS/2004-002T12-16/EUV                    34.154493   \n",
       "1       S/CO/UVIS/2004-002T12-32/EUV                    34.155557   \n",
       "2       S/CO/UVIS/2004-002T12-47/EUV                    34.154107   \n",
       "3       S/CO/UVIS/2004-002T13-03/EUV                    34.155193   \n",
       "4       S/CO/UVIS/2004-002T13-18/EUV                    34.157243   \n",
       "...                                  ...                      ...   \n",
       "167406  S/CO/UVIS/2017-258T04-31/FUV                   355.156267   \n",
       "167407  S/CO/UVIS/2017-258T07-00/FUV                    82.692823   \n",
       "167408  S/CO/UVIS/2017-258T07-15/FUV                    54.358671   \n",
       "167409  S/CO/UVIS/2017-258T02-14/HDAC                  129.674881   \n",
       "167410  S/CO/UVIS/2017-258T02-15/HDAC                   92.532639   \n",
       "\n",
       "        MAXIMUM_RIGHT_ASCENSION  MINIMUM_DECLINATION  MAXIMUM_DECLINATION  \\\n",
       "0                     37.815141             9.679762             9.712415   \n",
       "1                     37.817313              9.78073              9.81348   \n",
       "2                     37.816935             9.877249             9.909878   \n",
       "3                     37.819152             9.978176            10.010898   \n",
       "4                     37.822332            10.077845            10.110536   \n",
       "...                         ...                  ...                  ...   \n",
       "167406                 93.92438           -69.312846           -14.507954   \n",
       "167407                82.747154            -4.328498            -4.268149   \n",
       "167408                76.196366            -4.007282            13.298744   \n",
       "167409               143.379042           -58.332263           -48.522644   \n",
       "167410                116.78171           -67.582806           -63.392218   \n",
       "\n",
       "        MINIMUM_RING_RADIUS  MAXIMUM_RING_RADIUS  \\\n",
       "0               1074925.366          3066570.289   \n",
       "1                521741.812          2900680.924   \n",
       "2                 64757.681          2839690.546   \n",
       "3                541745.355          2872984.474   \n",
       "4               1068459.125          2999016.495   \n",
       "...                     ...                  ...   \n",
       "167406           126726.883          1083278.078   \n",
       "167407               -999.0               -999.0   \n",
       "167408               -999.0               -999.0   \n",
       "167409           204871.745           219390.536   \n",
       "167410            98954.702           230819.677   \n",
       "\n",
       "        FINEST_RING_INTERCEPT_RESOLUTION  ...  RING_CENTER_DISTANCE  \\\n",
       "0                                87709.0  ...          86724352.465   \n",
       "1                                87173.0  ...           86719417.82   \n",
       "2                                86667.0  ...          86714483.175   \n",
       "3                                86145.0  ...          86709548.529   \n",
       "4                                85635.0  ...          86704613.884   \n",
       "...                                  ...  ...                   ...   \n",
       "167406                         246.61634  ...            263974.558   \n",
       "167407                            -999.0  ...            251887.753   \n",
       "167408                            -999.0  ...            157806.504   \n",
       "167409                           17773.0  ...            447586.578   \n",
       "167410                           12312.0  ...            357220.013   \n",
       "\n",
       "        SUB_SOLAR_RING_LONGITUDE  SUB_OBSERVER_RING_LONGITUDE  \\\n",
       "0                        283.109                      215.938   \n",
       "1                        283.109                      215.938   \n",
       "2                         283.11                      215.938   \n",
       "3                         283.11                      215.938   \n",
       "4                        283.111                      215.938   \n",
       "...                          ...                          ...   \n",
       "167406                   178.948                       26.856   \n",
       "167407                   178.949                       26.661   \n",
       "167408                   178.951                        68.04   \n",
       "167409                   178.942                        9.923   \n",
       "167410                   178.945                       15.877   \n",
       "\n",
       "        RING_CENTER_PHASE_ANGLE  RING_CENTER_INCIDENCE_ANGLE  \\\n",
       "0                        62.786                       64.404   \n",
       "1                        62.787                       64.404   \n",
       "2                        62.787                       64.404   \n",
       "3                        62.787                       64.404   \n",
       "4                        62.788                       64.404   \n",
       "...                         ...                          ...   \n",
       "167406                   99.681                       63.319   \n",
       "167407                   99.192                       63.319   \n",
       "167408                   76.009                       63.319   \n",
       "167409                  115.559                       63.319   \n",
       "167410                  109.156                       63.319   \n",
       "\n",
       "        RING_CENTER_NORTH_BASED_INCIDENCE_ANGLE  RING_CENTER_EMISSION_ANGLE  \\\n",
       "0                                       115.596                      73.661   \n",
       "1                                       115.596                      73.661   \n",
       "2                                       115.596                      73.661   \n",
       "3                                       115.596                      73.661   \n",
       "4                                       115.596                      73.661   \n",
       "...                                         ...                         ...   \n",
       "167406                                   63.319                      40.359   \n",
       "167407                                   63.319                      39.696   \n",
       "167408                                   63.319                      34.946   \n",
       "167409                                   63.319                      53.073   \n",
       "167410                                   63.319                       47.62   \n",
       "\n",
       "        RING_CENTER_NORTH_BASED_EMISSION_ANGLE  SOLAR_RING_OPENING_ANGLE  \\\n",
       "0                                      106.339                   -25.596   \n",
       "1                                      106.339                   -25.596   \n",
       "2                                      106.339                   -25.596   \n",
       "3                                      106.339                   -25.596   \n",
       "4                                      106.339                   -25.596   \n",
       "...                                        ...                       ...   \n",
       "167406                                  40.359                    26.681   \n",
       "167407                                  39.696                    26.681   \n",
       "167408                                  34.946                    26.681   \n",
       "167409                                  53.073                    26.681   \n",
       "167410                                   47.62                    26.681   \n",
       "\n",
       "        OBSERVER_RING_OPENING_ANGLE  \n",
       "0                            -16.34  \n",
       "1                            -16.34  \n",
       "2                            -16.34  \n",
       "3                            -16.34  \n",
       "4                            -16.34  \n",
       "...                             ...  \n",
       "167406                       49.641  \n",
       "167407                       50.304  \n",
       "167408                       55.054  \n",
       "167409                       36.927  \n",
       "167410                        42.38  \n",
       "\n",
       "[167411 rows x 59 columns]"
      ]
     },
     "execution_count": null,
     "metadata": {},
     "output_type": "execute_result"
    }
   ],
   "source": [
    "get_index(\"cassini.uvis.ring_summary\")"
   ]
  },
  {
   "cell_type": "code",
   "execution_count": null,
   "id": "6440d57e-4b50-436f-9280-9eaa3b9824b1",
   "metadata": {},
   "outputs": [
    {
     "data": {
      "application/vnd.jupyter.widget-view+json": {
       "model_id": "d9653d531dee4e0993d98189e010410e",
       "version_major": 2,
       "version_minor": 0
      },
      "text/plain": [
       "GO_0999_index.lbl:   0%|          | 0/3586 [00:00<?, ?it/s]"
      ]
     },
     "metadata": {},
     "output_type": "display_data"
    },
    {
     "data": {
      "application/vnd.jupyter.widget-view+json": {
       "model_id": "2fcd2ec52bb34ad3bc95043cff009f56",
       "version_major": 2,
       "version_minor": 0
      },
      "text/plain": [
       "GO_0999_index.tab: 0it [00:00, ?it/s]"
      ]
     },
     "metadata": {},
     "output_type": "display_data"
    },
    {
     "name": "stdout",
     "output_type": "stream",
     "text": [
      "Downloaded /Users/maye/planetarypy_data/missions/go/ssi/indexes/edr/GO_0999_index.lbl and /Users/maye/planetarypy_data/missions/go/ssi/indexes/edr/GO_0999_index.tab\n",
      "Reading index to memory for conversion to parquet. Will take up lots of memory for a bit.\n"
     ]
    },
    {
     "data": {
      "application/vnd.jupyter.widget-view+json": {
       "model_id": "a14153f4249b49c0949465f7c6360c3b",
       "version_major": 2,
       "version_minor": 0
      },
      "text/plain": [
       "Loading index in chunks:   0%|          | 0/2 [00:00<?, ?it/s]"
      ]
     },
     "metadata": {},
     "output_type": "display_data"
    },
    {
     "name": "stderr",
     "output_type": "stream",
     "text": [
      "/Users/maye/Dropbox/src/nbplanetary/planetarypy/pds/utils.py:96: UserWarning: Could not infer format, so each element will be parsed individually, falling back to `dateutil`. To ensure parsing is consistent and as-expected, please specify a format.\n",
      "  df[column] = pd.to_datetime(df[column])\n",
      "/Users/maye/Dropbox/src/nbplanetary/planetarypy/pds/utils.py:96: UserWarning: Could not infer format, so each element will be parsed individually, falling back to `dateutil`. To ensure parsing is consistent and as-expected, please specify a format.\n",
      "  df[column] = pd.to_datetime(df[column])\n",
      "/Users/maye/Dropbox/src/nbplanetary/planetarypy/pds/utils.py:96: UserWarning: Could not infer format, so each element will be parsed individually, falling back to `dateutil`. To ensure parsing is consistent and as-expected, please specify a format.\n",
      "  df[column] = pd.to_datetime(df[column])\n"
     ]
    },
    {
     "name": "stdout",
     "output_type": "stream",
     "text": [
      "Convert time strings to datetime objects.\n",
      "Storing into parquet.\n"
     ]
    },
    {
     "ename": "ArrowTypeError",
     "evalue": "(\"Expected bytes, got a 'float' object\", 'Conversion failed for column LIGHT_SOURCE_LATITUDE with type object')",
     "output_type": "error",
     "traceback": [
      "\u001b[0;31m---------------------------------------------------------------------------\u001b[0m",
      "\u001b[0;31mArrowTypeError\u001b[0m                            Traceback (most recent call last)",
      "Cell \u001b[0;32mIn[22], line 1\u001b[0m\n\u001b[0;32m----> 1\u001b[0m \u001b[43mget_index\u001b[49m\u001b[43m(\u001b[49m\u001b[38;5;124;43m\"\u001b[39;49m\u001b[38;5;124;43mgo.ssi.edr\u001b[39;49m\u001b[38;5;124;43m\"\u001b[39;49m\u001b[43m)\u001b[49m\n",
      "File \u001b[0;32m~/Dropbox/src/nbplanetary/planetarypy/pds/apps.py:37\u001b[0m, in \u001b[0;36mget_index\u001b[0;34m(instr, index_name, refresh, force)\u001b[0m\n\u001b[1;32m     35\u001b[0m     index \u001b[38;5;241m=\u001b[39m Index(instr \u001b[38;5;241m+\u001b[39m \u001b[38;5;124m\"\u001b[39m\u001b[38;5;124m.indexes.\u001b[39m\u001b[38;5;124m\"\u001b[39m \u001b[38;5;241m+\u001b[39m index_name, check_update\u001b[38;5;241m=\u001b[39mrefresh)\n\u001b[1;32m     36\u001b[0m \u001b[38;5;28;01mif\u001b[39;00m \u001b[38;5;129;01mnot\u001b[39;00m index\u001b[38;5;241m.\u001b[39mlocal_table_path\u001b[38;5;241m.\u001b[39mexists() \u001b[38;5;129;01mor\u001b[39;00m force:\n\u001b[0;32m---> 37\u001b[0m     \u001b[43mindex\u001b[49m\u001b[38;5;241;43m.\u001b[39;49m\u001b[43mdownload\u001b[49m\u001b[43m(\u001b[49m\u001b[43m)\u001b[49m\n\u001b[1;32m     38\u001b[0m \u001b[38;5;28;01melif\u001b[39;00m refresh \u001b[38;5;129;01mand\u001b[39;00m index\u001b[38;5;241m.\u001b[39mupdate_available:\n\u001b[1;32m     39\u001b[0m     index\u001b[38;5;241m.\u001b[39mdownload()\n",
      "File \u001b[0;32m~/Dropbox/src/nbplanetary/planetarypy/pds/indexes.py:229\u001b[0m, in \u001b[0;36mdownload\u001b[0;34m(self, convert_to_parquet)\u001b[0m\n\u001b[1;32m    227\u001b[0m \u001b[38;5;28mself\u001b[39m\u001b[38;5;241m.\u001b[39mupdate_timestamp()\n\u001b[1;32m    228\u001b[0m \u001b[38;5;28;01mif\u001b[39;00m convert_to_parquet:\n\u001b[0;32m--> 229\u001b[0m     \u001b[38;5;28;43mself\u001b[39;49m\u001b[38;5;241;43m.\u001b[39;49m\u001b[43mconvert_to_parquet\u001b[49m\u001b[43m(\u001b[49m\u001b[43m)\u001b[49m\n",
      "File \u001b[0;32m~/Dropbox/src/nbplanetary/planetarypy/pds/indexes.py:175\u001b[0m, in \u001b[0;36mIndex.convert_to_parquet\u001b[0;34m(self)\u001b[0m\n\u001b[1;32m    173\u001b[0m df \u001b[38;5;241m=\u001b[39m df\u001b[38;5;241m.\u001b[39mconvert_dtypes()\n\u001b[1;32m    174\u001b[0m \u001b[38;5;28mprint\u001b[39m(\u001b[38;5;124m\"\u001b[39m\u001b[38;5;124mStoring into parquet.\u001b[39m\u001b[38;5;124m\"\u001b[39m)\n\u001b[0;32m--> 175\u001b[0m \u001b[43mdf\u001b[49m\u001b[38;5;241;43m.\u001b[39;49m\u001b[43mto_parquet\u001b[49m\u001b[43m(\u001b[49m\u001b[38;5;28;43mself\u001b[39;49m\u001b[38;5;241;43m.\u001b[39;49m\u001b[43mlocal_parq_path\u001b[49m\u001b[43m)\u001b[49m\n\u001b[1;32m    176\u001b[0m \u001b[38;5;28mprint\u001b[39m(\u001b[38;5;124m\"\u001b[39m\u001b[38;5;124mFinished. Enjoy your freshly baked PDS Index. :\u001b[39m\u001b[38;5;124m\"\u001b[39m)\n",
      "File \u001b[0;32m~/miniforge3/envs/py312/lib/python3.12/site-packages/pandas/util/_decorators.py:333\u001b[0m, in \u001b[0;36mdeprecate_nonkeyword_arguments.<locals>.decorate.<locals>.wrapper\u001b[0;34m(*args, **kwargs)\u001b[0m\n\u001b[1;32m    327\u001b[0m \u001b[38;5;28;01mif\u001b[39;00m \u001b[38;5;28mlen\u001b[39m(args) \u001b[38;5;241m>\u001b[39m num_allow_args:\n\u001b[1;32m    328\u001b[0m     warnings\u001b[38;5;241m.\u001b[39mwarn(\n\u001b[1;32m    329\u001b[0m         msg\u001b[38;5;241m.\u001b[39mformat(arguments\u001b[38;5;241m=\u001b[39m_format_argument_list(allow_args)),\n\u001b[1;32m    330\u001b[0m         \u001b[38;5;167;01mFutureWarning\u001b[39;00m,\n\u001b[1;32m    331\u001b[0m         stacklevel\u001b[38;5;241m=\u001b[39mfind_stack_level(),\n\u001b[1;32m    332\u001b[0m     )\n\u001b[0;32m--> 333\u001b[0m \u001b[38;5;28;01mreturn\u001b[39;00m \u001b[43mfunc\u001b[49m\u001b[43m(\u001b[49m\u001b[38;5;241;43m*\u001b[39;49m\u001b[43margs\u001b[49m\u001b[43m,\u001b[49m\u001b[43m \u001b[49m\u001b[38;5;241;43m*\u001b[39;49m\u001b[38;5;241;43m*\u001b[39;49m\u001b[43mkwargs\u001b[49m\u001b[43m)\u001b[49m\n",
      "File \u001b[0;32m~/miniforge3/envs/py312/lib/python3.12/site-packages/pandas/core/frame.py:3113\u001b[0m, in \u001b[0;36mDataFrame.to_parquet\u001b[0;34m(self, path, engine, compression, index, partition_cols, storage_options, **kwargs)\u001b[0m\n\u001b[1;32m   3032\u001b[0m \u001b[38;5;250m\u001b[39m\u001b[38;5;124;03m\"\"\"\u001b[39;00m\n\u001b[1;32m   3033\u001b[0m \u001b[38;5;124;03mWrite a DataFrame to the binary parquet format.\u001b[39;00m\n\u001b[1;32m   3034\u001b[0m \n\u001b[0;32m   (...)\u001b[0m\n\u001b[1;32m   3109\u001b[0m \u001b[38;5;124;03m>>> content = f.read()\u001b[39;00m\n\u001b[1;32m   3110\u001b[0m \u001b[38;5;124;03m\"\"\"\u001b[39;00m\n\u001b[1;32m   3111\u001b[0m \u001b[38;5;28;01mfrom\u001b[39;00m \u001b[38;5;21;01mpandas\u001b[39;00m\u001b[38;5;21;01m.\u001b[39;00m\u001b[38;5;21;01mio\u001b[39;00m\u001b[38;5;21;01m.\u001b[39;00m\u001b[38;5;21;01mparquet\u001b[39;00m \u001b[38;5;28;01mimport\u001b[39;00m to_parquet\n\u001b[0;32m-> 3113\u001b[0m \u001b[38;5;28;01mreturn\u001b[39;00m \u001b[43mto_parquet\u001b[49m\u001b[43m(\u001b[49m\n\u001b[1;32m   3114\u001b[0m \u001b[43m    \u001b[49m\u001b[38;5;28;43mself\u001b[39;49m\u001b[43m,\u001b[49m\n\u001b[1;32m   3115\u001b[0m \u001b[43m    \u001b[49m\u001b[43mpath\u001b[49m\u001b[43m,\u001b[49m\n\u001b[1;32m   3116\u001b[0m \u001b[43m    \u001b[49m\u001b[43mengine\u001b[49m\u001b[43m,\u001b[49m\n\u001b[1;32m   3117\u001b[0m \u001b[43m    \u001b[49m\u001b[43mcompression\u001b[49m\u001b[38;5;241;43m=\u001b[39;49m\u001b[43mcompression\u001b[49m\u001b[43m,\u001b[49m\n\u001b[1;32m   3118\u001b[0m \u001b[43m    \u001b[49m\u001b[43mindex\u001b[49m\u001b[38;5;241;43m=\u001b[39;49m\u001b[43mindex\u001b[49m\u001b[43m,\u001b[49m\n\u001b[1;32m   3119\u001b[0m \u001b[43m    \u001b[49m\u001b[43mpartition_cols\u001b[49m\u001b[38;5;241;43m=\u001b[39;49m\u001b[43mpartition_cols\u001b[49m\u001b[43m,\u001b[49m\n\u001b[1;32m   3120\u001b[0m \u001b[43m    \u001b[49m\u001b[43mstorage_options\u001b[49m\u001b[38;5;241;43m=\u001b[39;49m\u001b[43mstorage_options\u001b[49m\u001b[43m,\u001b[49m\n\u001b[1;32m   3121\u001b[0m \u001b[43m    \u001b[49m\u001b[38;5;241;43m*\u001b[39;49m\u001b[38;5;241;43m*\u001b[39;49m\u001b[43mkwargs\u001b[49m\u001b[43m,\u001b[49m\n\u001b[1;32m   3122\u001b[0m \u001b[43m\u001b[49m\u001b[43m)\u001b[49m\n",
      "File \u001b[0;32m~/miniforge3/envs/py312/lib/python3.12/site-packages/pandas/io/parquet.py:480\u001b[0m, in \u001b[0;36mto_parquet\u001b[0;34m(df, path, engine, compression, index, storage_options, partition_cols, filesystem, **kwargs)\u001b[0m\n\u001b[1;32m    476\u001b[0m impl \u001b[38;5;241m=\u001b[39m get_engine(engine)\n\u001b[1;32m    478\u001b[0m path_or_buf: FilePath \u001b[38;5;241m|\u001b[39m WriteBuffer[\u001b[38;5;28mbytes\u001b[39m] \u001b[38;5;241m=\u001b[39m io\u001b[38;5;241m.\u001b[39mBytesIO() \u001b[38;5;28;01mif\u001b[39;00m path \u001b[38;5;129;01mis\u001b[39;00m \u001b[38;5;28;01mNone\u001b[39;00m \u001b[38;5;28;01melse\u001b[39;00m path\n\u001b[0;32m--> 480\u001b[0m \u001b[43mimpl\u001b[49m\u001b[38;5;241;43m.\u001b[39;49m\u001b[43mwrite\u001b[49m\u001b[43m(\u001b[49m\n\u001b[1;32m    481\u001b[0m \u001b[43m    \u001b[49m\u001b[43mdf\u001b[49m\u001b[43m,\u001b[49m\n\u001b[1;32m    482\u001b[0m \u001b[43m    \u001b[49m\u001b[43mpath_or_buf\u001b[49m\u001b[43m,\u001b[49m\n\u001b[1;32m    483\u001b[0m \u001b[43m    \u001b[49m\u001b[43mcompression\u001b[49m\u001b[38;5;241;43m=\u001b[39;49m\u001b[43mcompression\u001b[49m\u001b[43m,\u001b[49m\n\u001b[1;32m    484\u001b[0m \u001b[43m    \u001b[49m\u001b[43mindex\u001b[49m\u001b[38;5;241;43m=\u001b[39;49m\u001b[43mindex\u001b[49m\u001b[43m,\u001b[49m\n\u001b[1;32m    485\u001b[0m \u001b[43m    \u001b[49m\u001b[43mpartition_cols\u001b[49m\u001b[38;5;241;43m=\u001b[39;49m\u001b[43mpartition_cols\u001b[49m\u001b[43m,\u001b[49m\n\u001b[1;32m    486\u001b[0m \u001b[43m    \u001b[49m\u001b[43mstorage_options\u001b[49m\u001b[38;5;241;43m=\u001b[39;49m\u001b[43mstorage_options\u001b[49m\u001b[43m,\u001b[49m\n\u001b[1;32m    487\u001b[0m \u001b[43m    \u001b[49m\u001b[43mfilesystem\u001b[49m\u001b[38;5;241;43m=\u001b[39;49m\u001b[43mfilesystem\u001b[49m\u001b[43m,\u001b[49m\n\u001b[1;32m    488\u001b[0m \u001b[43m    \u001b[49m\u001b[38;5;241;43m*\u001b[39;49m\u001b[38;5;241;43m*\u001b[39;49m\u001b[43mkwargs\u001b[49m\u001b[43m,\u001b[49m\n\u001b[1;32m    489\u001b[0m \u001b[43m\u001b[49m\u001b[43m)\u001b[49m\n\u001b[1;32m    491\u001b[0m \u001b[38;5;28;01mif\u001b[39;00m path \u001b[38;5;129;01mis\u001b[39;00m \u001b[38;5;28;01mNone\u001b[39;00m:\n\u001b[1;32m    492\u001b[0m     \u001b[38;5;28;01massert\u001b[39;00m \u001b[38;5;28misinstance\u001b[39m(path_or_buf, io\u001b[38;5;241m.\u001b[39mBytesIO)\n",
      "File \u001b[0;32m~/miniforge3/envs/py312/lib/python3.12/site-packages/pandas/io/parquet.py:190\u001b[0m, in \u001b[0;36mPyArrowImpl.write\u001b[0;34m(self, df, path, compression, index, storage_options, partition_cols, filesystem, **kwargs)\u001b[0m\n\u001b[1;32m    187\u001b[0m \u001b[38;5;28;01mif\u001b[39;00m index \u001b[38;5;129;01mis\u001b[39;00m \u001b[38;5;129;01mnot\u001b[39;00m \u001b[38;5;28;01mNone\u001b[39;00m:\n\u001b[1;32m    188\u001b[0m     from_pandas_kwargs[\u001b[38;5;124m\"\u001b[39m\u001b[38;5;124mpreserve_index\u001b[39m\u001b[38;5;124m\"\u001b[39m] \u001b[38;5;241m=\u001b[39m index\n\u001b[0;32m--> 190\u001b[0m table \u001b[38;5;241m=\u001b[39m \u001b[38;5;28;43mself\u001b[39;49m\u001b[38;5;241;43m.\u001b[39;49m\u001b[43mapi\u001b[49m\u001b[38;5;241;43m.\u001b[39;49m\u001b[43mTable\u001b[49m\u001b[38;5;241;43m.\u001b[39;49m\u001b[43mfrom_pandas\u001b[49m\u001b[43m(\u001b[49m\u001b[43mdf\u001b[49m\u001b[43m,\u001b[49m\u001b[43m \u001b[49m\u001b[38;5;241;43m*\u001b[39;49m\u001b[38;5;241;43m*\u001b[39;49m\u001b[43mfrom_pandas_kwargs\u001b[49m\u001b[43m)\u001b[49m\n\u001b[1;32m    192\u001b[0m \u001b[38;5;28;01mif\u001b[39;00m df\u001b[38;5;241m.\u001b[39mattrs:\n\u001b[1;32m    193\u001b[0m     df_metadata \u001b[38;5;241m=\u001b[39m {\u001b[38;5;124m\"\u001b[39m\u001b[38;5;124mPANDAS_ATTRS\u001b[39m\u001b[38;5;124m\"\u001b[39m: json\u001b[38;5;241m.\u001b[39mdumps(df\u001b[38;5;241m.\u001b[39mattrs)}\n",
      "File \u001b[0;32m~/miniforge3/envs/py312/lib/python3.12/site-packages/pyarrow/table.pxi:4623\u001b[0m, in \u001b[0;36mpyarrow.lib.Table.from_pandas\u001b[0;34m()\u001b[0m\n",
      "File \u001b[0;32m~/miniforge3/envs/py312/lib/python3.12/site-packages/pyarrow/pandas_compat.py:629\u001b[0m, in \u001b[0;36mdataframe_to_arrays\u001b[0;34m(df, schema, preserve_index, nthreads, columns, safe)\u001b[0m\n\u001b[1;32m    627\u001b[0m     \u001b[38;5;28;01mfor\u001b[39;00m i, maybe_fut \u001b[38;5;129;01min\u001b[39;00m \u001b[38;5;28menumerate\u001b[39m(arrays):\n\u001b[1;32m    628\u001b[0m         \u001b[38;5;28;01mif\u001b[39;00m \u001b[38;5;28misinstance\u001b[39m(maybe_fut, futures\u001b[38;5;241m.\u001b[39mFuture):\n\u001b[0;32m--> 629\u001b[0m             arrays[i] \u001b[38;5;241m=\u001b[39m \u001b[43mmaybe_fut\u001b[49m\u001b[38;5;241;43m.\u001b[39;49m\u001b[43mresult\u001b[49m\u001b[43m(\u001b[49m\u001b[43m)\u001b[49m\n\u001b[1;32m    631\u001b[0m types \u001b[38;5;241m=\u001b[39m [x\u001b[38;5;241m.\u001b[39mtype \u001b[38;5;28;01mfor\u001b[39;00m x \u001b[38;5;129;01min\u001b[39;00m arrays]\n\u001b[1;32m    633\u001b[0m \u001b[38;5;28;01mif\u001b[39;00m schema \u001b[38;5;129;01mis\u001b[39;00m \u001b[38;5;28;01mNone\u001b[39;00m:\n",
      "File \u001b[0;32m~/miniforge3/envs/py312/lib/python3.12/concurrent/futures/_base.py:449\u001b[0m, in \u001b[0;36mFuture.result\u001b[0;34m(self, timeout)\u001b[0m\n\u001b[1;32m    447\u001b[0m     \u001b[38;5;28;01mraise\u001b[39;00m CancelledError()\n\u001b[1;32m    448\u001b[0m \u001b[38;5;28;01melif\u001b[39;00m \u001b[38;5;28mself\u001b[39m\u001b[38;5;241m.\u001b[39m_state \u001b[38;5;241m==\u001b[39m FINISHED:\n\u001b[0;32m--> 449\u001b[0m     \u001b[38;5;28;01mreturn\u001b[39;00m \u001b[38;5;28;43mself\u001b[39;49m\u001b[38;5;241;43m.\u001b[39;49m\u001b[43m__get_result\u001b[49m\u001b[43m(\u001b[49m\u001b[43m)\u001b[49m\n\u001b[1;32m    451\u001b[0m \u001b[38;5;28mself\u001b[39m\u001b[38;5;241m.\u001b[39m_condition\u001b[38;5;241m.\u001b[39mwait(timeout)\n\u001b[1;32m    453\u001b[0m \u001b[38;5;28;01mif\u001b[39;00m \u001b[38;5;28mself\u001b[39m\u001b[38;5;241m.\u001b[39m_state \u001b[38;5;129;01min\u001b[39;00m [CANCELLED, CANCELLED_AND_NOTIFIED]:\n",
      "File \u001b[0;32m~/miniforge3/envs/py312/lib/python3.12/concurrent/futures/_base.py:401\u001b[0m, in \u001b[0;36mFuture.__get_result\u001b[0;34m(self)\u001b[0m\n\u001b[1;32m    399\u001b[0m \u001b[38;5;28;01mif\u001b[39;00m \u001b[38;5;28mself\u001b[39m\u001b[38;5;241m.\u001b[39m_exception:\n\u001b[1;32m    400\u001b[0m     \u001b[38;5;28;01mtry\u001b[39;00m:\n\u001b[0;32m--> 401\u001b[0m         \u001b[38;5;28;01mraise\u001b[39;00m \u001b[38;5;28mself\u001b[39m\u001b[38;5;241m.\u001b[39m_exception\n\u001b[1;32m    402\u001b[0m     \u001b[38;5;28;01mfinally\u001b[39;00m:\n\u001b[1;32m    403\u001b[0m         \u001b[38;5;66;03m# Break a reference cycle with the exception in self._exception\u001b[39;00m\n\u001b[1;32m    404\u001b[0m         \u001b[38;5;28mself\u001b[39m \u001b[38;5;241m=\u001b[39m \u001b[38;5;28;01mNone\u001b[39;00m\n",
      "File \u001b[0;32m~/miniforge3/envs/py312/lib/python3.12/concurrent/futures/thread.py:58\u001b[0m, in \u001b[0;36m_WorkItem.run\u001b[0;34m(self)\u001b[0m\n\u001b[1;32m     55\u001b[0m     \u001b[38;5;28;01mreturn\u001b[39;00m\n\u001b[1;32m     57\u001b[0m \u001b[38;5;28;01mtry\u001b[39;00m:\n\u001b[0;32m---> 58\u001b[0m     result \u001b[38;5;241m=\u001b[39m \u001b[38;5;28;43mself\u001b[39;49m\u001b[38;5;241;43m.\u001b[39;49m\u001b[43mfn\u001b[49m\u001b[43m(\u001b[49m\u001b[38;5;241;43m*\u001b[39;49m\u001b[38;5;28;43mself\u001b[39;49m\u001b[38;5;241;43m.\u001b[39;49m\u001b[43margs\u001b[49m\u001b[43m,\u001b[49m\u001b[43m \u001b[49m\u001b[38;5;241;43m*\u001b[39;49m\u001b[38;5;241;43m*\u001b[39;49m\u001b[38;5;28;43mself\u001b[39;49m\u001b[38;5;241;43m.\u001b[39;49m\u001b[43mkwargs\u001b[49m\u001b[43m)\u001b[49m\n\u001b[1;32m     59\u001b[0m \u001b[38;5;28;01mexcept\u001b[39;00m \u001b[38;5;167;01mBaseException\u001b[39;00m \u001b[38;5;28;01mas\u001b[39;00m exc:\n\u001b[1;32m     60\u001b[0m     \u001b[38;5;28mself\u001b[39m\u001b[38;5;241m.\u001b[39mfuture\u001b[38;5;241m.\u001b[39mset_exception(exc)\n",
      "File \u001b[0;32m~/miniforge3/envs/py312/lib/python3.12/site-packages/pyarrow/pandas_compat.py:603\u001b[0m, in \u001b[0;36mdataframe_to_arrays.<locals>.convert_column\u001b[0;34m(col, field)\u001b[0m\n\u001b[1;32m    598\u001b[0m \u001b[38;5;28;01mexcept\u001b[39;00m (pa\u001b[38;5;241m.\u001b[39mArrowInvalid,\n\u001b[1;32m    599\u001b[0m         pa\u001b[38;5;241m.\u001b[39mArrowNotImplementedError,\n\u001b[1;32m    600\u001b[0m         pa\u001b[38;5;241m.\u001b[39mArrowTypeError) \u001b[38;5;28;01mas\u001b[39;00m e:\n\u001b[1;32m    601\u001b[0m     e\u001b[38;5;241m.\u001b[39margs \u001b[38;5;241m+\u001b[39m\u001b[38;5;241m=\u001b[39m (\u001b[38;5;124m\"\u001b[39m\u001b[38;5;124mConversion failed for column \u001b[39m\u001b[38;5;132;01m{!s}\u001b[39;00m\u001b[38;5;124m with type \u001b[39m\u001b[38;5;132;01m{!s}\u001b[39;00m\u001b[38;5;124m\"\u001b[39m\n\u001b[1;32m    602\u001b[0m                \u001b[38;5;241m.\u001b[39mformat(col\u001b[38;5;241m.\u001b[39mname, col\u001b[38;5;241m.\u001b[39mdtype),)\n\u001b[0;32m--> 603\u001b[0m     \u001b[38;5;28;01mraise\u001b[39;00m e\n\u001b[1;32m    604\u001b[0m \u001b[38;5;28;01mif\u001b[39;00m \u001b[38;5;129;01mnot\u001b[39;00m field_nullable \u001b[38;5;129;01mand\u001b[39;00m result\u001b[38;5;241m.\u001b[39mnull_count \u001b[38;5;241m>\u001b[39m \u001b[38;5;241m0\u001b[39m:\n\u001b[1;32m    605\u001b[0m     \u001b[38;5;28;01mraise\u001b[39;00m \u001b[38;5;167;01mValueError\u001b[39;00m(\u001b[38;5;124m\"\u001b[39m\u001b[38;5;124mField \u001b[39m\u001b[38;5;132;01m{}\u001b[39;00m\u001b[38;5;124m was non-nullable but pandas column \u001b[39m\u001b[38;5;124m\"\u001b[39m\n\u001b[1;32m    606\u001b[0m                      \u001b[38;5;124m\"\u001b[39m\u001b[38;5;124mhad \u001b[39m\u001b[38;5;132;01m{}\u001b[39;00m\u001b[38;5;124m null values\u001b[39m\u001b[38;5;124m\"\u001b[39m\u001b[38;5;241m.\u001b[39mformat(\u001b[38;5;28mstr\u001b[39m(field),\n\u001b[1;32m    607\u001b[0m                                                  result\u001b[38;5;241m.\u001b[39mnull_count))\n",
      "File \u001b[0;32m~/miniforge3/envs/py312/lib/python3.12/site-packages/pyarrow/pandas_compat.py:597\u001b[0m, in \u001b[0;36mdataframe_to_arrays.<locals>.convert_column\u001b[0;34m(col, field)\u001b[0m\n\u001b[1;32m    594\u001b[0m     type_ \u001b[38;5;241m=\u001b[39m field\u001b[38;5;241m.\u001b[39mtype\n\u001b[1;32m    596\u001b[0m \u001b[38;5;28;01mtry\u001b[39;00m:\n\u001b[0;32m--> 597\u001b[0m     result \u001b[38;5;241m=\u001b[39m \u001b[43mpa\u001b[49m\u001b[38;5;241;43m.\u001b[39;49m\u001b[43marray\u001b[49m\u001b[43m(\u001b[49m\u001b[43mcol\u001b[49m\u001b[43m,\u001b[49m\u001b[43m \u001b[49m\u001b[38;5;28;43mtype\u001b[39;49m\u001b[38;5;241;43m=\u001b[39;49m\u001b[43mtype_\u001b[49m\u001b[43m,\u001b[49m\u001b[43m \u001b[49m\u001b[43mfrom_pandas\u001b[49m\u001b[38;5;241;43m=\u001b[39;49m\u001b[38;5;28;43;01mTrue\u001b[39;49;00m\u001b[43m,\u001b[49m\u001b[43m \u001b[49m\u001b[43msafe\u001b[49m\u001b[38;5;241;43m=\u001b[39;49m\u001b[43msafe\u001b[49m\u001b[43m)\u001b[49m\n\u001b[1;32m    598\u001b[0m \u001b[38;5;28;01mexcept\u001b[39;00m (pa\u001b[38;5;241m.\u001b[39mArrowInvalid,\n\u001b[1;32m    599\u001b[0m         pa\u001b[38;5;241m.\u001b[39mArrowNotImplementedError,\n\u001b[1;32m    600\u001b[0m         pa\u001b[38;5;241m.\u001b[39mArrowTypeError) \u001b[38;5;28;01mas\u001b[39;00m e:\n\u001b[1;32m    601\u001b[0m     e\u001b[38;5;241m.\u001b[39margs \u001b[38;5;241m+\u001b[39m\u001b[38;5;241m=\u001b[39m (\u001b[38;5;124m\"\u001b[39m\u001b[38;5;124mConversion failed for column \u001b[39m\u001b[38;5;132;01m{!s}\u001b[39;00m\u001b[38;5;124m with type \u001b[39m\u001b[38;5;132;01m{!s}\u001b[39;00m\u001b[38;5;124m\"\u001b[39m\n\u001b[1;32m    602\u001b[0m                \u001b[38;5;241m.\u001b[39mformat(col\u001b[38;5;241m.\u001b[39mname, col\u001b[38;5;241m.\u001b[39mdtype),)\n",
      "File \u001b[0;32m~/miniforge3/envs/py312/lib/python3.12/site-packages/pyarrow/array.pxi:358\u001b[0m, in \u001b[0;36mpyarrow.lib.array\u001b[0;34m()\u001b[0m\n",
      "File \u001b[0;32m~/miniforge3/envs/py312/lib/python3.12/site-packages/pyarrow/array.pxi:85\u001b[0m, in \u001b[0;36mpyarrow.lib._ndarray_to_array\u001b[0;34m()\u001b[0m\n",
      "File \u001b[0;32m~/miniforge3/envs/py312/lib/python3.12/site-packages/pyarrow/error.pxi:92\u001b[0m, in \u001b[0;36mpyarrow.lib.check_status\u001b[0;34m()\u001b[0m\n",
      "\u001b[0;31mArrowTypeError\u001b[0m: (\"Expected bytes, got a 'float' object\", 'Conversion failed for column LIGHT_SOURCE_LATITUDE with type object')"
     ]
    }
   ],
   "source": [
    "get_index(\"go.ssi.edr\")"
   ]
  },
  {
   "cell_type": "code",
   "execution_count": null,
   "id": "34bdf8ed-e644-4fd4-8292-709fc3466d74",
   "metadata": {},
   "outputs": [
    {
     "data": {
      "text/plain": [
       "['index', 'inventory', 'moon_summary', 'ring_summary', 'saturn_summary']"
      ]
     },
     "execution_count": null,
     "metadata": {},
     "output_type": "execute_result"
    }
   ],
   "source": [
    "find_indexes(\"cassini.iss\")"
   ]
  },
  {
   "cell_type": "code",
   "execution_count": null,
   "id": "6acbe6db-5a65-4c36-932b-ca756567f254",
   "metadata": {},
   "outputs": [
    {
     "data": {
      "application/vnd.jupyter.widget-view+json": {
       "model_id": "69ad20e81c9f4656bc12a399e8c3910a",
       "version_major": 2,
       "version_minor": 0
      },
      "text/plain": [
       "COISS_2999_saturn_summary.lbl:   0%|          | 0/4214 [00:00<?, ?it/s]"
      ]
     },
     "metadata": {},
     "output_type": "display_data"
    },
    {
     "data": {
      "application/vnd.jupyter.widget-view+json": {
       "model_id": "fad4c91f607548e793569fc7854671f1",
       "version_major": 2,
       "version_minor": 0
      },
      "text/plain": [
       "COISS_2999_saturn_summary.tab: 0it [00:00, ?it/s]"
      ]
     },
     "metadata": {},
     "output_type": "display_data"
    },
    {
     "name": "stdout",
     "output_type": "stream",
     "text": [
      "Downloaded /Users/maye/planetarypy_data/missions/cassini/iss/indexes/saturn_summary/COISS_2999_saturn_summary.lbl and /Users/maye/planetarypy_data/missions/cassini/iss/indexes/saturn_summary/COISS_2999_saturn_summary.tab\n",
      "Reading index to memory for conversion to parquet. Will take up lots of memory for a bit.\n"
     ]
    },
    {
     "data": {
      "application/vnd.jupyter.widget-view+json": {
       "model_id": "059c27b8ecaa46a190ec9c7bcafe99a0",
       "version_major": 2,
       "version_minor": 0
      },
      "text/plain": [
       "Loading index in chunks:   0%|          | 0/81 [00:00<?, ?it/s]"
      ]
     },
     "metadata": {},
     "output_type": "display_data"
    },
    {
     "name": "stdout",
     "output_type": "stream",
     "text": [
      "Convert time strings to datetime objects.\n",
      "Storing into parquet.\n",
      "Finished. Enjoy your freshly baked PDS Index. :\n"
     ]
    },
    {
     "data": {
      "text/html": [
       "<div>\n",
       "<style scoped>\n",
       "    .dataframe tbody tr th:only-of-type {\n",
       "        vertical-align: middle;\n",
       "    }\n",
       "\n",
       "    .dataframe tbody tr th {\n",
       "        vertical-align: top;\n",
       "    }\n",
       "\n",
       "    .dataframe thead th {\n",
       "        text-align: right;\n",
       "    }\n",
       "</style>\n",
       "<table border=\"1\" class=\"dataframe\">\n",
       "  <thead>\n",
       "    <tr style=\"text-align: right;\">\n",
       "      <th></th>\n",
       "      <th>VOLUME_ID</th>\n",
       "      <th>FILE_SPECIFICATION_NAME</th>\n",
       "      <th>OPUS_ID</th>\n",
       "      <th>TARGET_NAME</th>\n",
       "      <th>MINIMUM_PLANETOCENTRIC_LATITUDE</th>\n",
       "      <th>MAXIMUM_PLANETOCENTRIC_LATITUDE</th>\n",
       "      <th>MINIMUM_PLANETOGRAPHIC_LATITUDE</th>\n",
       "      <th>MAXIMUM_PLANETOGRAPHIC_LATITUDE</th>\n",
       "      <th>MINIMUM_IAU_LONGITUDE</th>\n",
       "      <th>MAXIMUM_IAU_LONGITUDE</th>\n",
       "      <th>...</th>\n",
       "      <th>MAXIMUM_EMISSION_ANGLE</th>\n",
       "      <th>SUB_SOLAR_PLANETOCENTRIC_LATITUDE</th>\n",
       "      <th>SUB_SOLAR_PLANETOGRAPHIC_LATITUDE</th>\n",
       "      <th>SUB_OBSERVER_PLANETOCENTRIC_LATITUDE</th>\n",
       "      <th>SUB_OBSERVER_PLANETOGRAPHIC_LATITUDE</th>\n",
       "      <th>SUB_SOLAR_IAU_LONGITUDE</th>\n",
       "      <th>SUB_OBSERVER_IAU_LONGITUDE</th>\n",
       "      <th>CENTER_RESOLUTION</th>\n",
       "      <th>CENTER_DISTANCE</th>\n",
       "      <th>CENTER_PHASE_ANGLE</th>\n",
       "    </tr>\n",
       "  </thead>\n",
       "  <tbody>\n",
       "    <tr>\n",
       "      <th>0</th>\n",
       "      <td>COISS_2001</td>\n",
       "      <td>data/1454725799_1455008789/N1454725799_1.LBL</td>\n",
       "      <td>co-iss-n1454725799</td>\n",
       "      <td>SATURN</td>\n",
       "      <td>-999.0</td>\n",
       "      <td>-999.0</td>\n",
       "      <td>-999.0</td>\n",
       "      <td>-999.0</td>\n",
       "      <td>-999.0</td>\n",
       "      <td>-999.0</td>\n",
       "      <td>...</td>\n",
       "      <td>-999.0</td>\n",
       "      <td>-25.411</td>\n",
       "      <td>-30.279</td>\n",
       "      <td>-16.324</td>\n",
       "      <td>-19.796</td>\n",
       "      <td>107.986</td>\n",
       "      <td>176.558</td>\n",
       "      <td>424.67606</td>\n",
       "      <td>70874998.947</td>\n",
       "      <td>64.07</td>\n",
       "    </tr>\n",
       "    <tr>\n",
       "      <th>1</th>\n",
       "      <td>COISS_2001</td>\n",
       "      <td>data/1454725799_1455008789/N1454726579_1.LBL</td>\n",
       "      <td>co-iss-n1454726579</td>\n",
       "      <td>SATURN</td>\n",
       "      <td>-999.0</td>\n",
       "      <td>-999.0</td>\n",
       "      <td>-999.0</td>\n",
       "      <td>-999.0</td>\n",
       "      <td>-999.0</td>\n",
       "      <td>-999.0</td>\n",
       "      <td>...</td>\n",
       "      <td>-999.0</td>\n",
       "      <td>-25.411</td>\n",
       "      <td>-30.279</td>\n",
       "      <td>-16.324</td>\n",
       "      <td>-19.796</td>\n",
       "      <td>115.305</td>\n",
       "      <td>183.877</td>\n",
       "      <td>424.65121</td>\n",
       "      <td>70870851.371</td>\n",
       "      <td>64.07</td>\n",
       "    </tr>\n",
       "    <tr>\n",
       "      <th>2</th>\n",
       "      <td>COISS_2001</td>\n",
       "      <td>data/1454725799_1455008789/N1454727359_1.LBL</td>\n",
       "      <td>co-iss-n1454727359</td>\n",
       "      <td>SATURN</td>\n",
       "      <td>-999.0</td>\n",
       "      <td>-999.0</td>\n",
       "      <td>-999.0</td>\n",
       "      <td>-999.0</td>\n",
       "      <td>-999.0</td>\n",
       "      <td>-999.0</td>\n",
       "      <td>...</td>\n",
       "      <td>-999.0</td>\n",
       "      <td>-25.411</td>\n",
       "      <td>-30.279</td>\n",
       "      <td>-16.324</td>\n",
       "      <td>-19.796</td>\n",
       "      <td>122.625</td>\n",
       "      <td>191.197</td>\n",
       "      <td>424.62635</td>\n",
       "      <td>70866703.094</td>\n",
       "      <td>64.071</td>\n",
       "    </tr>\n",
       "    <tr>\n",
       "      <th>3</th>\n",
       "      <td>COISS_2001</td>\n",
       "      <td>data/1454725799_1455008789/N1454728139_1.LBL</td>\n",
       "      <td>co-iss-n1454728139</td>\n",
       "      <td>SATURN</td>\n",
       "      <td>-999.0</td>\n",
       "      <td>-999.0</td>\n",
       "      <td>-999.0</td>\n",
       "      <td>-999.0</td>\n",
       "      <td>-999.0</td>\n",
       "      <td>-999.0</td>\n",
       "      <td>...</td>\n",
       "      <td>-999.0</td>\n",
       "      <td>-25.411</td>\n",
       "      <td>-30.279</td>\n",
       "      <td>-16.324</td>\n",
       "      <td>-19.796</td>\n",
       "      <td>129.94</td>\n",
       "      <td>198.513</td>\n",
       "      <td>424.60151</td>\n",
       "      <td>70862557.207</td>\n",
       "      <td>64.071</td>\n",
       "    </tr>\n",
       "    <tr>\n",
       "      <th>4</th>\n",
       "      <td>COISS_2001</td>\n",
       "      <td>data/1454725799_1455008789/N1454728919_1.LBL</td>\n",
       "      <td>co-iss-n1454728919</td>\n",
       "      <td>SATURN</td>\n",
       "      <td>-999.0</td>\n",
       "      <td>-999.0</td>\n",
       "      <td>-999.0</td>\n",
       "      <td>-999.0</td>\n",
       "      <td>-999.0</td>\n",
       "      <td>-999.0</td>\n",
       "      <td>...</td>\n",
       "      <td>-999.0</td>\n",
       "      <td>-25.411</td>\n",
       "      <td>-30.279</td>\n",
       "      <td>-16.324</td>\n",
       "      <td>-19.796</td>\n",
       "      <td>137.264</td>\n",
       "      <td>205.837</td>\n",
       "      <td>424.57664</td>\n",
       "      <td>70858406.794</td>\n",
       "      <td>64.071</td>\n",
       "    </tr>\n",
       "    <tr>\n",
       "      <th>...</th>\n",
       "      <td>...</td>\n",
       "      <td>...</td>\n",
       "      <td>...</td>\n",
       "      <td>...</td>\n",
       "      <td>...</td>\n",
       "      <td>...</td>\n",
       "      <td>...</td>\n",
       "      <td>...</td>\n",
       "      <td>...</td>\n",
       "      <td>...</td>\n",
       "      <td>...</td>\n",
       "      <td>...</td>\n",
       "      <td>...</td>\n",
       "      <td>...</td>\n",
       "      <td>...</td>\n",
       "      <td>...</td>\n",
       "      <td>...</td>\n",
       "      <td>...</td>\n",
       "      <td>...</td>\n",
       "      <td>...</td>\n",
       "      <td>...</td>\n",
       "    </tr>\n",
       "    <tr>\n",
       "      <th>405116</th>\n",
       "      <td>COISS_2116</td>\n",
       "      <td>data/1884113741_1884114531/W1884114471_1.LBL</td>\n",
       "      <td>co-iss-w1884114471</td>\n",
       "      <td>SATURN</td>\n",
       "      <td>-999.0</td>\n",
       "      <td>-999.0</td>\n",
       "      <td>-999.0</td>\n",
       "      <td>-999.0</td>\n",
       "      <td>-999.0</td>\n",
       "      <td>-999.0</td>\n",
       "      <td>...</td>\n",
       "      <td>51.97</td>\n",
       "      <td>26.682</td>\n",
       "      <td>31.701</td>\n",
       "      <td>29.262</td>\n",
       "      <td>34.552</td>\n",
       "      <td>263.715</td>\n",
       "      <td>79.081</td>\n",
       "      <td>75.81817</td>\n",
       "      <td>634269.821</td>\n",
       "      <td>123.878</td>\n",
       "    </tr>\n",
       "    <tr>\n",
       "      <th>405117</th>\n",
       "      <td>COISS_2116</td>\n",
       "      <td>data/1884113741_1884114531/N1884114501_1.LBL</td>\n",
       "      <td>co-iss-n1884114501</td>\n",
       "      <td>SATURN</td>\n",
       "      <td>-999.0</td>\n",
       "      <td>-999.0</td>\n",
       "      <td>-999.0</td>\n",
       "      <td>-999.0</td>\n",
       "      <td>-999.0</td>\n",
       "      <td>-999.0</td>\n",
       "      <td>...</td>\n",
       "      <td>30.558</td>\n",
       "      <td>26.682</td>\n",
       "      <td>31.701</td>\n",
       "      <td>29.269</td>\n",
       "      <td>34.56</td>\n",
       "      <td>263.996</td>\n",
       "      <td>79.357</td>\n",
       "      <td>7.59837</td>\n",
       "      <td>634053.296</td>\n",
       "      <td>123.87</td>\n",
       "    </tr>\n",
       "    <tr>\n",
       "      <th>405118</th>\n",
       "      <td>COISS_2116</td>\n",
       "      <td>data/1884113741_1884114531/W1884114501_1.LBL</td>\n",
       "      <td>co-iss-w1884114501</td>\n",
       "      <td>SATURN</td>\n",
       "      <td>-999.0</td>\n",
       "      <td>-999.0</td>\n",
       "      <td>-999.0</td>\n",
       "      <td>-999.0</td>\n",
       "      <td>-999.0</td>\n",
       "      <td>-999.0</td>\n",
       "      <td>...</td>\n",
       "      <td>52.192</td>\n",
       "      <td>26.682</td>\n",
       "      <td>31.701</td>\n",
       "      <td>29.27</td>\n",
       "      <td>34.56</td>\n",
       "      <td>264.004</td>\n",
       "      <td>79.364</td>\n",
       "      <td>75.79162</td>\n",
       "      <td>634047.739</td>\n",
       "      <td>123.87</td>\n",
       "    </tr>\n",
       "    <tr>\n",
       "      <th>405119</th>\n",
       "      <td>COISS_2116</td>\n",
       "      <td>data/1884113741_1884114531/N1884114531_1.LBL</td>\n",
       "      <td>co-iss-n1884114531</td>\n",
       "      <td>SATURN</td>\n",
       "      <td>-999.0</td>\n",
       "      <td>-999.0</td>\n",
       "      <td>-999.0</td>\n",
       "      <td>-999.0</td>\n",
       "      <td>-999.0</td>\n",
       "      <td>-999.0</td>\n",
       "      <td>...</td>\n",
       "      <td>30.665</td>\n",
       "      <td>26.682</td>\n",
       "      <td>31.701</td>\n",
       "      <td>29.277</td>\n",
       "      <td>34.568</td>\n",
       "      <td>264.278</td>\n",
       "      <td>79.633</td>\n",
       "      <td>7.59578</td>\n",
       "      <td>633836.731</td>\n",
       "      <td>123.863</td>\n",
       "    </tr>\n",
       "    <tr>\n",
       "      <th>405120</th>\n",
       "      <td>COISS_2116</td>\n",
       "      <td>data/1884113741_1884114531/W1884114531_2.LBL</td>\n",
       "      <td>co-iss-w1884114531</td>\n",
       "      <td>SATURN</td>\n",
       "      <td>-999.0</td>\n",
       "      <td>-999.0</td>\n",
       "      <td>-999.0</td>\n",
       "      <td>-999.0</td>\n",
       "      <td>-999.0</td>\n",
       "      <td>-999.0</td>\n",
       "      <td>...</td>\n",
       "      <td>52.474</td>\n",
       "      <td>26.682</td>\n",
       "      <td>31.701</td>\n",
       "      <td>29.277</td>\n",
       "      <td>34.568</td>\n",
       "      <td>264.286</td>\n",
       "      <td>79.641</td>\n",
       "      <td>75.76561</td>\n",
       "      <td>633830.161</td>\n",
       "      <td>123.862</td>\n",
       "    </tr>\n",
       "  </tbody>\n",
       "</table>\n",
       "<p>405121 rows × 35 columns</p>\n",
       "</div>"
      ],
      "text/plain": [
       "         VOLUME_ID                        FILE_SPECIFICATION_NAME  \\\n",
       "0       COISS_2001  data/1454725799_1455008789/N1454725799_1.LBL    \n",
       "1       COISS_2001  data/1454725799_1455008789/N1454726579_1.LBL    \n",
       "2       COISS_2001  data/1454725799_1455008789/N1454727359_1.LBL    \n",
       "3       COISS_2001  data/1454725799_1455008789/N1454728139_1.LBL    \n",
       "4       COISS_2001  data/1454725799_1455008789/N1454728919_1.LBL    \n",
       "...            ...                                            ...   \n",
       "405116  COISS_2116  data/1884113741_1884114531/W1884114471_1.LBL    \n",
       "405117  COISS_2116  data/1884113741_1884114531/N1884114501_1.LBL    \n",
       "405118  COISS_2116  data/1884113741_1884114531/W1884114501_1.LBL    \n",
       "405119  COISS_2116  data/1884113741_1884114531/N1884114531_1.LBL    \n",
       "405120  COISS_2116  data/1884113741_1884114531/W1884114531_2.LBL    \n",
       "\n",
       "                          OPUS_ID TARGET_NAME  \\\n",
       "0       co-iss-n1454725799         SATURN       \n",
       "1       co-iss-n1454726579         SATURN       \n",
       "2       co-iss-n1454727359         SATURN       \n",
       "3       co-iss-n1454728139         SATURN       \n",
       "4       co-iss-n1454728919         SATURN       \n",
       "...                           ...         ...   \n",
       "405116  co-iss-w1884114471         SATURN       \n",
       "405117  co-iss-n1884114501         SATURN       \n",
       "405118  co-iss-w1884114501         SATURN       \n",
       "405119  co-iss-n1884114531         SATURN       \n",
       "405120  co-iss-w1884114531         SATURN       \n",
       "\n",
       "        MINIMUM_PLANETOCENTRIC_LATITUDE  MAXIMUM_PLANETOCENTRIC_LATITUDE  \\\n",
       "0                                -999.0                           -999.0   \n",
       "1                                -999.0                           -999.0   \n",
       "2                                -999.0                           -999.0   \n",
       "3                                -999.0                           -999.0   \n",
       "4                                -999.0                           -999.0   \n",
       "...                                 ...                              ...   \n",
       "405116                           -999.0                           -999.0   \n",
       "405117                           -999.0                           -999.0   \n",
       "405118                           -999.0                           -999.0   \n",
       "405119                           -999.0                           -999.0   \n",
       "405120                           -999.0                           -999.0   \n",
       "\n",
       "        MINIMUM_PLANETOGRAPHIC_LATITUDE  MAXIMUM_PLANETOGRAPHIC_LATITUDE  \\\n",
       "0                                -999.0                           -999.0   \n",
       "1                                -999.0                           -999.0   \n",
       "2                                -999.0                           -999.0   \n",
       "3                                -999.0                           -999.0   \n",
       "4                                -999.0                           -999.0   \n",
       "...                                 ...                              ...   \n",
       "405116                           -999.0                           -999.0   \n",
       "405117                           -999.0                           -999.0   \n",
       "405118                           -999.0                           -999.0   \n",
       "405119                           -999.0                           -999.0   \n",
       "405120                           -999.0                           -999.0   \n",
       "\n",
       "        MINIMUM_IAU_LONGITUDE  MAXIMUM_IAU_LONGITUDE  ...  \\\n",
       "0                      -999.0                 -999.0  ...   \n",
       "1                      -999.0                 -999.0  ...   \n",
       "2                      -999.0                 -999.0  ...   \n",
       "3                      -999.0                 -999.0  ...   \n",
       "4                      -999.0                 -999.0  ...   \n",
       "...                       ...                    ...  ...   \n",
       "405116                 -999.0                 -999.0  ...   \n",
       "405117                 -999.0                 -999.0  ...   \n",
       "405118                 -999.0                 -999.0  ...   \n",
       "405119                 -999.0                 -999.0  ...   \n",
       "405120                 -999.0                 -999.0  ...   \n",
       "\n",
       "        MAXIMUM_EMISSION_ANGLE  SUB_SOLAR_PLANETOCENTRIC_LATITUDE  \\\n",
       "0                       -999.0                            -25.411   \n",
       "1                       -999.0                            -25.411   \n",
       "2                       -999.0                            -25.411   \n",
       "3                       -999.0                            -25.411   \n",
       "4                       -999.0                            -25.411   \n",
       "...                        ...                                ...   \n",
       "405116                   51.97                             26.682   \n",
       "405117                  30.558                             26.682   \n",
       "405118                  52.192                             26.682   \n",
       "405119                  30.665                             26.682   \n",
       "405120                  52.474                             26.682   \n",
       "\n",
       "        SUB_SOLAR_PLANETOGRAPHIC_LATITUDE  \\\n",
       "0                                 -30.279   \n",
       "1                                 -30.279   \n",
       "2                                 -30.279   \n",
       "3                                 -30.279   \n",
       "4                                 -30.279   \n",
       "...                                   ...   \n",
       "405116                             31.701   \n",
       "405117                             31.701   \n",
       "405118                             31.701   \n",
       "405119                             31.701   \n",
       "405120                             31.701   \n",
       "\n",
       "        SUB_OBSERVER_PLANETOCENTRIC_LATITUDE  \\\n",
       "0                                    -16.324   \n",
       "1                                    -16.324   \n",
       "2                                    -16.324   \n",
       "3                                    -16.324   \n",
       "4                                    -16.324   \n",
       "...                                      ...   \n",
       "405116                                29.262   \n",
       "405117                                29.269   \n",
       "405118                                 29.27   \n",
       "405119                                29.277   \n",
       "405120                                29.277   \n",
       "\n",
       "        SUB_OBSERVER_PLANETOGRAPHIC_LATITUDE  SUB_SOLAR_IAU_LONGITUDE  \\\n",
       "0                                    -19.796                  107.986   \n",
       "1                                    -19.796                  115.305   \n",
       "2                                    -19.796                  122.625   \n",
       "3                                    -19.796                   129.94   \n",
       "4                                    -19.796                  137.264   \n",
       "...                                      ...                      ...   \n",
       "405116                                34.552                  263.715   \n",
       "405117                                 34.56                  263.996   \n",
       "405118                                 34.56                  264.004   \n",
       "405119                                34.568                  264.278   \n",
       "405120                                34.568                  264.286   \n",
       "\n",
       "        SUB_OBSERVER_IAU_LONGITUDE  CENTER_RESOLUTION  CENTER_DISTANCE  \\\n",
       "0                          176.558          424.67606     70874998.947   \n",
       "1                          183.877          424.65121     70870851.371   \n",
       "2                          191.197          424.62635     70866703.094   \n",
       "3                          198.513          424.60151     70862557.207   \n",
       "4                          205.837          424.57664     70858406.794   \n",
       "...                            ...                ...              ...   \n",
       "405116                      79.081           75.81817       634269.821   \n",
       "405117                      79.357            7.59837       634053.296   \n",
       "405118                      79.364           75.79162       634047.739   \n",
       "405119                      79.633            7.59578       633836.731   \n",
       "405120                      79.641           75.76561       633830.161   \n",
       "\n",
       "        CENTER_PHASE_ANGLE  \n",
       "0                    64.07  \n",
       "1                    64.07  \n",
       "2                   64.071  \n",
       "3                   64.071  \n",
       "4                   64.071  \n",
       "...                    ...  \n",
       "405116             123.878  \n",
       "405117              123.87  \n",
       "405118              123.87  \n",
       "405119             123.863  \n",
       "405120             123.862  \n",
       "\n",
       "[405121 rows x 35 columns]"
      ]
     },
     "execution_count": null,
     "metadata": {},
     "output_type": "execute_result"
    }
   ],
   "source": [
    "get_index(\"cassini.iss.saturn_summary\")"
   ]
  },
  {
   "cell_type": "code",
   "execution_count": null,
   "id": "37d4b47e-7bc1-4040-a5c2-b1493453d400",
   "metadata": {},
   "outputs": [
    {
     "data": {
      "text/plain": [
       "['edr']"
      ]
     },
     "execution_count": null,
     "metadata": {},
     "output_type": "execute_result"
    }
   ],
   "source": [
    "find_indexes(\"mro.ctx\")"
   ]
  },
  {
   "cell_type": "code",
   "execution_count": null,
   "id": "1a6f02ab-b176-4e7d-ac1f-2422664c0241",
   "metadata": {},
   "outputs": [
    {
     "data": {
      "text/html": [
       "<div>\n",
       "<style scoped>\n",
       "    .dataframe tbody tr th:only-of-type {\n",
       "        vertical-align: middle;\n",
       "    }\n",
       "\n",
       "    .dataframe tbody tr th {\n",
       "        vertical-align: top;\n",
       "    }\n",
       "\n",
       "    .dataframe thead th {\n",
       "        text-align: right;\n",
       "    }\n",
       "</style>\n",
       "<table border=\"1\" class=\"dataframe\">\n",
       "  <thead>\n",
       "    <tr style=\"text-align: right;\">\n",
       "      <th></th>\n",
       "      <th>VOLUME_ID</th>\n",
       "      <th>FILE_SPECIFICATION_NAME</th>\n",
       "      <th>ORIGINAL_PRODUCT_ID</th>\n",
       "      <th>PRODUCT_ID</th>\n",
       "      <th>IMAGE_TIME</th>\n",
       "      <th>INSTRUMENT_ID</th>\n",
       "      <th>INSTRUMENT_MODE_ID</th>\n",
       "      <th>LINE_SAMPLES</th>\n",
       "      <th>LINES</th>\n",
       "      <th>SPATIAL_SUMMING</th>\n",
       "      <th>...</th>\n",
       "      <th>SUB_SOLAR_LATITUDE</th>\n",
       "      <th>SUB_SPACECRAFT_LONGITUDE</th>\n",
       "      <th>SUB_SPACECRAFT_LATITUDE</th>\n",
       "      <th>SOLAR_DISTANCE</th>\n",
       "      <th>SOLAR_LONGITUDE</th>\n",
       "      <th>LOCAL_TIME</th>\n",
       "      <th>IMAGE_SKEW_ANGLE</th>\n",
       "      <th>RATIONALE_DESC</th>\n",
       "      <th>DATA_QUALITY_DESC</th>\n",
       "      <th>ORBIT_NUMBER</th>\n",
       "    </tr>\n",
       "  </thead>\n",
       "  <tbody>\n",
       "    <tr>\n",
       "      <th>0</th>\n",
       "      <td>MROX_0001</td>\n",
       "      <td>DATA/CRU_000001_9999_XN_99N999W.IMG</td>\n",
       "      <td>4A_04_0001000400</td>\n",
       "      <td>CRU_000001_9999_XN_99N999W</td>\n",
       "      <td>2005-08-30 15:40:21.549</td>\n",
       "      <td>CTX</td>\n",
       "      <td>NIFL</td>\n",
       "      <td>5056</td>\n",
       "      <td>1024</td>\n",
       "      <td>1</td>\n",
       "      <td>...</td>\n",
       "      <td>0.0</td>\n",
       "      <td>0.0</td>\n",
       "      <td>0.0</td>\n",
       "      <td>0.0</td>\n",
       "      <td>278.89</td>\n",
       "      <td>10.16</td>\n",
       "      <td>0.0</td>\n",
       "      <td>Instrument checkout image of space            ...</td>\n",
       "      <td>OK</td>\n",
       "      <td>-4242</td>\n",
       "    </tr>\n",
       "    <tr>\n",
       "      <th>1</th>\n",
       "      <td>MROX_0001</td>\n",
       "      <td>DATA/CRU_000002_9999_XN_99N999W.IMG</td>\n",
       "      <td>4A_04_0001000500</td>\n",
       "      <td>CRU_000002_9999_XN_99N999W</td>\n",
       "      <td>2005-09-08 15:59:45.313</td>\n",
       "      <td>CTX</td>\n",
       "      <td>NIFL</td>\n",
       "      <td>5056</td>\n",
       "      <td>15360</td>\n",
       "      <td>1</td>\n",
       "      <td>...</td>\n",
       "      <td>0.0</td>\n",
       "      <td>0.0</td>\n",
       "      <td>0.0</td>\n",
       "      <td>0.0</td>\n",
       "      <td>284.48</td>\n",
       "      <td>4.6</td>\n",
       "      <td>0.0</td>\n",
       "      <td>Calibration image of the Moon                 ...</td>\n",
       "      <td>OK</td>\n",
       "      <td>-4126</td>\n",
       "    </tr>\n",
       "    <tr>\n",
       "      <th>2</th>\n",
       "      <td>MROX_0001</td>\n",
       "      <td>DATA/CRU_000003_9999_XN_99N999W.IMG</td>\n",
       "      <td>4A_04_0001000600</td>\n",
       "      <td>CRU_000003_9999_XN_99N999W</td>\n",
       "      <td>2005-09-08 16:03:37.927</td>\n",
       "      <td>CTX</td>\n",
       "      <td>NIFL</td>\n",
       "      <td>5056</td>\n",
       "      <td>2048</td>\n",
       "      <td>1</td>\n",
       "      <td>...</td>\n",
       "      <td>0.0</td>\n",
       "      <td>0.0</td>\n",
       "      <td>0.0</td>\n",
       "      <td>0.0</td>\n",
       "      <td>284.48</td>\n",
       "      <td>4.66</td>\n",
       "      <td>0.0</td>\n",
       "      <td>Calibration image of Omega Centauri (globular ...</td>\n",
       "      <td>OK</td>\n",
       "      <td>-4126</td>\n",
       "    </tr>\n",
       "    <tr>\n",
       "      <th>3</th>\n",
       "      <td>MROX_0001</td>\n",
       "      <td>DATA/CRU_000004_9999_XN_99N999W.IMG</td>\n",
       "      <td>4A_04_0001000700</td>\n",
       "      <td>CRU_000004_9999_XN_99N999W</td>\n",
       "      <td>2005-09-08 16:08:23.841</td>\n",
       "      <td>CTX</td>\n",
       "      <td>NIFL</td>\n",
       "      <td>5056</td>\n",
       "      <td>2048</td>\n",
       "      <td>1</td>\n",
       "      <td>...</td>\n",
       "      <td>0.0</td>\n",
       "      <td>0.0</td>\n",
       "      <td>0.0</td>\n",
       "      <td>0.0</td>\n",
       "      <td>284.48</td>\n",
       "      <td>4.74</td>\n",
       "      <td>0.0</td>\n",
       "      <td>Calibration image of Omega Centauri (globular ...</td>\n",
       "      <td>OK</td>\n",
       "      <td>-4126</td>\n",
       "    </tr>\n",
       "    <tr>\n",
       "      <th>4</th>\n",
       "      <td>MROX_0001</td>\n",
       "      <td>DATA/CRU_000005_9999_XN_99N999W.IMG</td>\n",
       "      <td>4A_04_0001000800</td>\n",
       "      <td>CRU_000005_9999_XN_99N999W</td>\n",
       "      <td>2005-09-08 16:11:18.649</td>\n",
       "      <td>CTX</td>\n",
       "      <td>NIFL</td>\n",
       "      <td>5056</td>\n",
       "      <td>21504</td>\n",
       "      <td>1</td>\n",
       "      <td>...</td>\n",
       "      <td>0.0</td>\n",
       "      <td>0.0</td>\n",
       "      <td>0.0</td>\n",
       "      <td>0.0</td>\n",
       "      <td>284.48</td>\n",
       "      <td>4.79</td>\n",
       "      <td>0.0</td>\n",
       "      <td>Calibration image of the Moon                 ...</td>\n",
       "      <td>OK</td>\n",
       "      <td>-4126</td>\n",
       "    </tr>\n",
       "    <tr>\n",
       "      <th>...</th>\n",
       "      <td>...</td>\n",
       "      <td>...</td>\n",
       "      <td>...</td>\n",
       "      <td>...</td>\n",
       "      <td>...</td>\n",
       "      <td>...</td>\n",
       "      <td>...</td>\n",
       "      <td>...</td>\n",
       "      <td>...</td>\n",
       "      <td>...</td>\n",
       "      <td>...</td>\n",
       "      <td>...</td>\n",
       "      <td>...</td>\n",
       "      <td>...</td>\n",
       "      <td>...</td>\n",
       "      <td>...</td>\n",
       "      <td>...</td>\n",
       "      <td>...</td>\n",
       "      <td>...</td>\n",
       "      <td>...</td>\n",
       "      <td>...</td>\n",
       "    </tr>\n",
       "    <tr>\n",
       "      <th>149377</th>\n",
       "      <td>MROX_4896</td>\n",
       "      <td>DATA/V06_082476_1989_XI_18N075W.IMG</td>\n",
       "      <td>4A_04_11A3017300</td>\n",
       "      <td>V06_082476_1989_XI_18N075W</td>\n",
       "      <td>2024-02-29 20:23:08.773</td>\n",
       "      <td>CTX</td>\n",
       "      <td>ITL</td>\n",
       "      <td>5056</td>\n",
       "      <td>26624</td>\n",
       "      <td>1</td>\n",
       "      <td>...</td>\n",
       "      <td>-11.78</td>\n",
       "      <td>75.58</td>\n",
       "      <td>18.91</td>\n",
       "      <td>211484456.2</td>\n",
       "      <td>208.3</td>\n",
       "      <td>15.81</td>\n",
       "      <td>90.0</td>\n",
       "      <td>Sacra Sulci                                   ...</td>\n",
       "      <td>OK</td>\n",
       "      <td>82476</td>\n",
       "    </tr>\n",
       "    <tr>\n",
       "      <th>149378</th>\n",
       "      <td>MROX_4896</td>\n",
       "      <td>DATA/V06_082477_1528_XI_27S096W.IMG</td>\n",
       "      <td>4A_04_11A3017400</td>\n",
       "      <td>V06_082477_1528_XI_27S096W</td>\n",
       "      <td>2024-02-29 22:01:18.785</td>\n",
       "      <td>CTX</td>\n",
       "      <td>ITL</td>\n",
       "      <td>5056</td>\n",
       "      <td>12288</td>\n",
       "      <td>1</td>\n",
       "      <td>...</td>\n",
       "      <td>-11.8</td>\n",
       "      <td>97.13</td>\n",
       "      <td>-27.34</td>\n",
       "      <td>211475111.8</td>\n",
       "      <td>208.34</td>\n",
       "      <td>15.99</td>\n",
       "      <td>90.1</td>\n",
       "      <td>Solis Planum                                  ...</td>\n",
       "      <td>OK</td>\n",
       "      <td>82477</td>\n",
       "    </tr>\n",
       "    <tr>\n",
       "      <th>149379</th>\n",
       "      <td>MROX_4896</td>\n",
       "      <td>DATA/V06_082477_2146_XI_34N106W.IMG</td>\n",
       "      <td>4A_04_11A3017500</td>\n",
       "      <td>V06_082477_2146_XI_34N106W</td>\n",
       "      <td>2024-02-29 22:20:17.746</td>\n",
       "      <td>CTX</td>\n",
       "      <td>ITL</td>\n",
       "      <td>5056</td>\n",
       "      <td>27648</td>\n",
       "      <td>1</td>\n",
       "      <td>...</td>\n",
       "      <td>-11.8</td>\n",
       "      <td>105.04</td>\n",
       "      <td>34.77</td>\n",
       "      <td>211473941.2</td>\n",
       "      <td>208.35</td>\n",
       "      <td>15.64</td>\n",
       "      <td>90.0</td>\n",
       "      <td>Tantalus Fossae                               ...</td>\n",
       "      <td>OK</td>\n",
       "      <td>82477</td>\n",
       "    </tr>\n",
       "    <tr>\n",
       "      <th>149380</th>\n",
       "      <td>MROX_4896</td>\n",
       "      <td>DATA/V06_082478_1143_XN_65S116W.IMG</td>\n",
       "      <td>4A_04_11A2017600</td>\n",
       "      <td>V06_082478_1143_XN_65S116W</td>\n",
       "      <td>2024-02-29 23:41:14.902</td>\n",
       "      <td>CTX</td>\n",
       "      <td>NIFL</td>\n",
       "      <td>3776</td>\n",
       "      <td>36864</td>\n",
       "      <td>1</td>\n",
       "      <td>...</td>\n",
       "      <td>-11.81</td>\n",
       "      <td>116.96</td>\n",
       "      <td>-65.81</td>\n",
       "      <td>211466434.6</td>\n",
       "      <td>208.39</td>\n",
       "      <td>16.23</td>\n",
       "      <td>90.3</td>\n",
       "      <td>Southern highlands                            ...</td>\n",
       "      <td>OK</td>\n",
       "      <td>82478</td>\n",
       "    </tr>\n",
       "    <tr>\n",
       "      <th>149381</th>\n",
       "      <td>MROX_4896</td>\n",
       "      <td>DATA/V06_082478_1342_XN_45S121W.IMG</td>\n",
       "      <td>4A_04_11A2017700</td>\n",
       "      <td>V06_082478_1342_XN_45S121W</td>\n",
       "      <td>2024-02-29 23:47:51.324</td>\n",
       "      <td>CTX</td>\n",
       "      <td>NIFL</td>\n",
       "      <td>3776</td>\n",
       "      <td>8192</td>\n",
       "      <td>1</td>\n",
       "      <td>...</td>\n",
       "      <td>-11.81</td>\n",
       "      <td>121.66</td>\n",
       "      <td>-45.91</td>\n",
       "      <td>211465455.7</td>\n",
       "      <td>208.39</td>\n",
       "      <td>16.01</td>\n",
       "      <td>90.1</td>\n",
       "      <td>Crater in Terra Sirenum                       ...</td>\n",
       "      <td>OK</td>\n",
       "      <td>82478</td>\n",
       "    </tr>\n",
       "  </tbody>\n",
       "</table>\n",
       "<p>149382 rows × 51 columns</p>\n",
       "</div>"
      ],
      "text/plain": [
       "        VOLUME_ID              FILE_SPECIFICATION_NAME ORIGINAL_PRODUCT_ID  \\\n",
       "0       MROX_0001  DATA/CRU_000001_9999_XN_99N999W.IMG    4A_04_0001000400   \n",
       "1       MROX_0001  DATA/CRU_000002_9999_XN_99N999W.IMG    4A_04_0001000500   \n",
       "2       MROX_0001  DATA/CRU_000003_9999_XN_99N999W.IMG    4A_04_0001000600   \n",
       "3       MROX_0001  DATA/CRU_000004_9999_XN_99N999W.IMG    4A_04_0001000700   \n",
       "4       MROX_0001  DATA/CRU_000005_9999_XN_99N999W.IMG    4A_04_0001000800   \n",
       "...           ...                                  ...                 ...   \n",
       "149377  MROX_4896  DATA/V06_082476_1989_XI_18N075W.IMG    4A_04_11A3017300   \n",
       "149378  MROX_4896  DATA/V06_082477_1528_XI_27S096W.IMG    4A_04_11A3017400   \n",
       "149379  MROX_4896  DATA/V06_082477_2146_XI_34N106W.IMG    4A_04_11A3017500   \n",
       "149380  MROX_4896  DATA/V06_082478_1143_XN_65S116W.IMG    4A_04_11A2017600   \n",
       "149381  MROX_4896  DATA/V06_082478_1342_XN_45S121W.IMG    4A_04_11A2017700   \n",
       "\n",
       "                        PRODUCT_ID              IMAGE_TIME INSTRUMENT_ID  \\\n",
       "0       CRU_000001_9999_XN_99N999W 2005-08-30 15:40:21.549        CTX      \n",
       "1       CRU_000002_9999_XN_99N999W 2005-09-08 15:59:45.313        CTX      \n",
       "2       CRU_000003_9999_XN_99N999W 2005-09-08 16:03:37.927        CTX      \n",
       "3       CRU_000004_9999_XN_99N999W 2005-09-08 16:08:23.841        CTX      \n",
       "4       CRU_000005_9999_XN_99N999W 2005-09-08 16:11:18.649        CTX      \n",
       "...                            ...                     ...           ...   \n",
       "149377  V06_082476_1989_XI_18N075W 2024-02-29 20:23:08.773        CTX      \n",
       "149378  V06_082477_1528_XI_27S096W 2024-02-29 22:01:18.785        CTX      \n",
       "149379  V06_082477_2146_XI_34N106W 2024-02-29 22:20:17.746        CTX      \n",
       "149380  V06_082478_1143_XN_65S116W 2024-02-29 23:41:14.902        CTX      \n",
       "149381  V06_082478_1342_XN_45S121W 2024-02-29 23:47:51.324        CTX      \n",
       "\n",
       "       INSTRUMENT_MODE_ID  LINE_SAMPLES  LINES  SPATIAL_SUMMING  ...  \\\n",
       "0                   NIFL           5056   1024                1  ...   \n",
       "1                   NIFL           5056  15360                1  ...   \n",
       "2                   NIFL           5056   2048                1  ...   \n",
       "3                   NIFL           5056   2048                1  ...   \n",
       "4                   NIFL           5056  21504                1  ...   \n",
       "...                   ...           ...    ...              ...  ...   \n",
       "149377              ITL            5056  26624                1  ...   \n",
       "149378              ITL            5056  12288                1  ...   \n",
       "149379              ITL            5056  27648                1  ...   \n",
       "149380              NIFL           3776  36864                1  ...   \n",
       "149381              NIFL           3776   8192                1  ...   \n",
       "\n",
       "        SUB_SOLAR_LATITUDE  SUB_SPACECRAFT_LONGITUDE  SUB_SPACECRAFT_LATITUDE  \\\n",
       "0                      0.0                       0.0                      0.0   \n",
       "1                      0.0                       0.0                      0.0   \n",
       "2                      0.0                       0.0                      0.0   \n",
       "3                      0.0                       0.0                      0.0   \n",
       "4                      0.0                       0.0                      0.0   \n",
       "...                    ...                       ...                      ...   \n",
       "149377              -11.78                     75.58                    18.91   \n",
       "149378               -11.8                     97.13                   -27.34   \n",
       "149379               -11.8                    105.04                    34.77   \n",
       "149380              -11.81                    116.96                   -65.81   \n",
       "149381              -11.81                    121.66                   -45.91   \n",
       "\n",
       "        SOLAR_DISTANCE  SOLAR_LONGITUDE  LOCAL_TIME  IMAGE_SKEW_ANGLE  \\\n",
       "0                  0.0           278.89       10.16               0.0   \n",
       "1                  0.0           284.48         4.6               0.0   \n",
       "2                  0.0           284.48        4.66               0.0   \n",
       "3                  0.0           284.48        4.74               0.0   \n",
       "4                  0.0           284.48        4.79               0.0   \n",
       "...                ...              ...         ...               ...   \n",
       "149377     211484456.2            208.3       15.81              90.0   \n",
       "149378     211475111.8           208.34       15.99              90.1   \n",
       "149379     211473941.2           208.35       15.64              90.0   \n",
       "149380     211466434.6           208.39       16.23              90.3   \n",
       "149381     211465455.7           208.39       16.01              90.1   \n",
       "\n",
       "                                           RATIONALE_DESC  DATA_QUALITY_DESC  \\\n",
       "0       Instrument checkout image of space            ...             OK       \n",
       "1       Calibration image of the Moon                 ...             OK       \n",
       "2       Calibration image of Omega Centauri (globular ...             OK       \n",
       "3       Calibration image of Omega Centauri (globular ...             OK       \n",
       "4       Calibration image of the Moon                 ...             OK       \n",
       "...                                                   ...                ...   \n",
       "149377  Sacra Sulci                                   ...             OK       \n",
       "149378  Solis Planum                                  ...             OK       \n",
       "149379  Tantalus Fossae                               ...             OK       \n",
       "149380  Southern highlands                            ...             OK       \n",
       "149381  Crater in Terra Sirenum                       ...             OK       \n",
       "\n",
       "        ORBIT_NUMBER  \n",
       "0              -4242  \n",
       "1              -4126  \n",
       "2              -4126  \n",
       "3              -4126  \n",
       "4              -4126  \n",
       "...              ...  \n",
       "149377         82476  \n",
       "149378         82477  \n",
       "149379         82477  \n",
       "149380         82478  \n",
       "149381         82478  \n",
       "\n",
       "[149382 rows x 51 columns]"
      ]
     },
     "execution_count": null,
     "metadata": {},
     "output_type": "execute_result"
    }
   ],
   "source": [
    "get_index(\"mro.ctx\", \"edr\", refresh=False)"
   ]
  },
  {
   "cell_type": "code",
   "execution_count": null,
   "id": "bbacf058-e9dd-44f6-9764-70cf2e1345b5",
   "metadata": {},
   "outputs": [
    {
     "data": {
      "text/plain": [
       "['iss', 'uvis']"
      ]
     },
     "execution_count": null,
     "metadata": {},
     "output_type": "execute_result"
    }
   ],
   "source": [
    "find_instruments(\"cassini\")"
   ]
  },
  {
   "cell_type": "code",
   "execution_count": null,
   "id": "a1c3cdb7-7f9d-4ed4-af7a-4fa0fc333671",
   "metadata": {},
   "outputs": [
    {
     "data": {
      "text/plain": [
       "['hirise', 'ctx']"
      ]
     },
     "execution_count": null,
     "metadata": {},
     "output_type": "execute_result"
    }
   ],
   "source": [
    "find_instruments(\"mro\")"
   ]
  },
  {
   "cell_type": "code",
   "execution_count": null,
   "id": "d0f698b0-3d0f-4495-84f1-da36eb0001d8",
   "metadata": {},
   "outputs": [
    {
     "data": {
      "text/plain": [
       "['diviner', 'lola', 'lroc']"
      ]
     },
     "execution_count": null,
     "metadata": {},
     "output_type": "execute_result"
    }
   ],
   "source": [
    "find_instruments(\"lro\")"
   ]
  },
  {
   "cell_type": "markdown",
   "id": "64d5661a-6d13-46fb-8435-5c4fa224f17e",
   "metadata": {},
   "source": [
    "## Instrument data"
   ]
  },
  {
   "cell_type": "code",
   "execution_count": null,
   "id": "d367f8b7-42f8-4764-8cff-63e287c19132",
   "metadata": {},
   "outputs": [],
   "source": [
    "from planetarypy.uvis import DataManager"
   ]
  },
  {
   "cell_type": "code",
   "execution_count": null,
   "id": "a896cd25-d7cc-4875-8581-6efb2bfb3d8f",
   "metadata": {},
   "outputs": [
    {
     "name": "stdout",
     "output_type": "stream",
     "text": [
      "Reading index to memory for conversion to parquet. Will take up lots of memory for a bit.\n"
     ]
    },
    {
     "data": {
      "application/vnd.jupyter.widget-view+json": {
       "model_id": "8f7bb336259843caa9ef067acf46e7ea",
       "version_major": 2,
       "version_minor": 0
      },
      "text/plain": [
       "Loading index in chunks:   0%|          | 0/40 [00:00<?, ?it/s]"
      ]
     },
     "metadata": {},
     "output_type": "display_data"
    },
    {
     "ename": "ParserError",
     "evalue": "Error tokenizing data. C error: Expected 28 fields in line 5, saw 58\n",
     "output_type": "error",
     "traceback": [
      "\u001b[0;31m---------------------------------------------------------------------------\u001b[0m",
      "\u001b[0;31mParserError\u001b[0m                               Traceback (most recent call last)",
      "Cell \u001b[0;32mIn[31], line 1\u001b[0m\n\u001b[0;32m----> 1\u001b[0m index \u001b[38;5;241m=\u001b[39m \u001b[43mget_index\u001b[49m\u001b[43m(\u001b[49m\u001b[38;5;124;43m\"\u001b[39;49m\u001b[38;5;124;43mcassini.uvis.index\u001b[39;49m\u001b[38;5;124;43m\"\u001b[39;49m\u001b[43m)\u001b[49m\n",
      "File \u001b[0;32m~/Dropbox/src/nbplanetary/planetarypy/pds/apps.py:42\u001b[0m, in \u001b[0;36mget_index\u001b[0;34m(instr, index_name, refresh, force)\u001b[0m\n\u001b[1;32m     40\u001b[0m     \u001b[38;5;28mprint\u001b[39m(\u001b[38;5;124m\"\u001b[39m\u001b[38;5;124mAn updated index is available. Downloading...\u001b[39m\u001b[38;5;124m\"\u001b[39m)\n\u001b[1;32m     41\u001b[0m \u001b[38;5;28;01mif\u001b[39;00m \u001b[38;5;129;01mnot\u001b[39;00m index\u001b[38;5;241m.\u001b[39mlocal_parq_path\u001b[38;5;241m.\u001b[39mexists():\n\u001b[0;32m---> 42\u001b[0m     \u001b[43mindex\u001b[49m\u001b[38;5;241;43m.\u001b[39;49m\u001b[43mconvert_to_parquet\u001b[49m\u001b[43m(\u001b[49m\u001b[43m)\u001b[49m\n\u001b[1;32m     43\u001b[0m \u001b[38;5;28;01mreturn\u001b[39;00m index\u001b[38;5;241m.\u001b[39mparquet\n",
      "File \u001b[0;32m~/Dropbox/src/nbplanetary/planetarypy/pds/indexes.py:172\u001b[0m, in \u001b[0;36mIndex.convert_to_parquet\u001b[0;34m(self)\u001b[0m\n\u001b[1;32m    170\u001b[0m \u001b[38;5;28;01mdef\u001b[39;00m \u001b[38;5;21mconvert_to_parquet\u001b[39m(\u001b[38;5;28mself\u001b[39m):\n\u001b[1;32m    171\u001b[0m     \u001b[38;5;28mprint\u001b[39m(\u001b[38;5;124m\"\u001b[39m\u001b[38;5;124mReading index to memory for conversion to parquet. Will take up lots of memory for a bit.\u001b[39m\u001b[38;5;124m\"\u001b[39m)\n\u001b[0;32m--> 172\u001b[0m     df \u001b[38;5;241m=\u001b[39m \u001b[38;5;28;43mself\u001b[39;49m\u001b[38;5;241;43m.\u001b[39;49m\u001b[43mread_index_data\u001b[49m\u001b[43m(\u001b[49m\u001b[43m)\u001b[49m\n\u001b[1;32m    173\u001b[0m     df \u001b[38;5;241m=\u001b[39m df\u001b[38;5;241m.\u001b[39mconvert_dtypes()\n\u001b[1;32m    174\u001b[0m     \u001b[38;5;28mprint\u001b[39m(\u001b[38;5;124m\"\u001b[39m\u001b[38;5;124mStoring into parquet.\u001b[39m\u001b[38;5;124m\"\u001b[39m)\n",
      "File \u001b[0;32m~/Dropbox/src/nbplanetary/planetarypy/pds/indexes.py:167\u001b[0m, in \u001b[0;36mIndex.read_index_data\u001b[0;34m(self, do_convert_times)\u001b[0m\n\u001b[1;32m    166\u001b[0m \u001b[38;5;28;01mdef\u001b[39;00m \u001b[38;5;21mread_index_data\u001b[39m(\u001b[38;5;28mself\u001b[39m, do_convert_times\u001b[38;5;241m=\u001b[39m\u001b[38;5;28;01mTrue\u001b[39;00m):\n\u001b[0;32m--> 167\u001b[0m     df \u001b[38;5;241m=\u001b[39m \u001b[38;5;28;43mself\u001b[39;49m\u001b[38;5;241;43m.\u001b[39;49m\u001b[43mlabel\u001b[49m\u001b[38;5;241;43m.\u001b[39;49m\u001b[43mread_index_data\u001b[49m\u001b[43m(\u001b[49m\u001b[43mdo_convert_times\u001b[49m\u001b[38;5;241;43m=\u001b[39;49m\u001b[43mdo_convert_times\u001b[49m\u001b[43m)\u001b[49m\n\u001b[1;32m    168\u001b[0m     \u001b[38;5;28;01mreturn\u001b[39;00m df\n",
      "File \u001b[0;32m~/Dropbox/src/nbplanetary/planetarypy/pds/utils.py:88\u001b[0m, in \u001b[0;36mIndexLabel.read_index_data\u001b[0;34m(self, do_convert_times)\u001b[0m\n\u001b[1;32m     87\u001b[0m \u001b[38;5;28;01mdef\u001b[39;00m \u001b[38;5;21mread_index_data\u001b[39m(\u001b[38;5;28mself\u001b[39m, do_convert_times\u001b[38;5;241m=\u001b[39m\u001b[38;5;28;01mTrue\u001b[39;00m):\n\u001b[0;32m---> 88\u001b[0m     \u001b[38;5;28;01mreturn\u001b[39;00m \u001b[43mindex_to_df\u001b[49m\u001b[43m(\u001b[49m\u001b[38;5;28;43mself\u001b[39;49m\u001b[38;5;241;43m.\u001b[39;49m\u001b[43mindex_path\u001b[49m\u001b[43m,\u001b[49m\u001b[43m \u001b[49m\u001b[38;5;28;43mself\u001b[39;49m\u001b[43m,\u001b[49m\u001b[43m \u001b[49m\u001b[43mdo_convert_times\u001b[49m\u001b[38;5;241;43m=\u001b[39;49m\u001b[43mdo_convert_times\u001b[49m\u001b[43m)\u001b[49m\n",
      "File \u001b[0;32m~/Dropbox/src/nbplanetary/planetarypy/pds/utils.py:127\u001b[0m, in \u001b[0;36mindex_to_df\u001b[0;34m(indexpath, label, do_convert_times)\u001b[0m\n\u001b[1;32m    122\u001b[0m     num_lines \u001b[38;5;241m=\u001b[39m \u001b[38;5;28msum\u001b[39m(\u001b[38;5;241m1\u001b[39m \u001b[38;5;28;01mfor\u001b[39;00m _ \u001b[38;5;129;01min\u001b[39;00m f)\n\u001b[1;32m    123\u001b[0m chunksize \u001b[38;5;241m=\u001b[39m \u001b[38;5;241m5000\u001b[39m\n\u001b[1;32m    124\u001b[0m df \u001b[38;5;241m=\u001b[39m pd\u001b[38;5;241m.\u001b[39mconcat(\n\u001b[1;32m    125\u001b[0m     [\n\u001b[1;32m    126\u001b[0m         chunk\n\u001b[0;32m--> 127\u001b[0m         \u001b[38;5;28;01mfor\u001b[39;00m chunk \u001b[38;5;129;01min\u001b[39;00m tqdm(\n\u001b[1;32m    128\u001b[0m             pd\u001b[38;5;241m.\u001b[39mread_csv(\n\u001b[1;32m    129\u001b[0m                 indexpath, header\u001b[38;5;241m=\u001b[39m\u001b[38;5;28;01mNone\u001b[39;00m, names\u001b[38;5;241m=\u001b[39mlabel\u001b[38;5;241m.\u001b[39mcolnames, chunksize\u001b[38;5;241m=\u001b[39mchunksize\n\u001b[1;32m    130\u001b[0m             ),\n\u001b[1;32m    131\u001b[0m             total\u001b[38;5;241m=\u001b[39m\u001b[38;5;28mint\u001b[39m(num_lines \u001b[38;5;241m/\u001b[39m chunksize),\n\u001b[1;32m    132\u001b[0m             desc\u001b[38;5;241m=\u001b[39m\u001b[38;5;124m\"\u001b[39m\u001b[38;5;124mLoading index in chunks\u001b[39m\u001b[38;5;124m\"\u001b[39m,\n\u001b[1;32m    133\u001b[0m         )\n\u001b[1;32m    134\u001b[0m     ]\n\u001b[1;32m    135\u001b[0m )\n\u001b[1;32m    136\u001b[0m \u001b[38;5;28;01mif\u001b[39;00m do_convert_times:\n\u001b[1;32m    137\u001b[0m     df \u001b[38;5;241m=\u001b[39m convert_times(df)\n",
      "File \u001b[0;32m~/miniforge3/envs/py312/lib/python3.12/site-packages/tqdm/notebook.py:250\u001b[0m, in \u001b[0;36mtqdm_notebook.__iter__\u001b[0;34m(self)\u001b[0m\n\u001b[1;32m    248\u001b[0m \u001b[38;5;28;01mtry\u001b[39;00m:\n\u001b[1;32m    249\u001b[0m     it \u001b[38;5;241m=\u001b[39m \u001b[38;5;28msuper\u001b[39m()\u001b[38;5;241m.\u001b[39m\u001b[38;5;21m__iter__\u001b[39m()\n\u001b[0;32m--> 250\u001b[0m \u001b[43m    \u001b[49m\u001b[38;5;28;43;01mfor\u001b[39;49;00m\u001b[43m \u001b[49m\u001b[43mobj\u001b[49m\u001b[43m \u001b[49m\u001b[38;5;129;43;01min\u001b[39;49;00m\u001b[43m \u001b[49m\u001b[43mit\u001b[49m\u001b[43m:\u001b[49m\n\u001b[1;32m    251\u001b[0m \u001b[43m        \u001b[49m\u001b[38;5;66;43;03m# return super(tqdm...) will not catch exception\u001b[39;49;00m\n\u001b[1;32m    252\u001b[0m \u001b[43m        \u001b[49m\u001b[38;5;28;43;01myield\u001b[39;49;00m\u001b[43m \u001b[49m\u001b[43mobj\u001b[49m\n\u001b[1;32m    253\u001b[0m \u001b[38;5;66;03m# NB: except ... [ as ...] breaks IPython async KeyboardInterrupt\u001b[39;00m\n",
      "File \u001b[0;32m~/miniforge3/envs/py312/lib/python3.12/site-packages/tqdm/std.py:1181\u001b[0m, in \u001b[0;36mtqdm.__iter__\u001b[0;34m(self)\u001b[0m\n\u001b[1;32m   1178\u001b[0m time \u001b[38;5;241m=\u001b[39m \u001b[38;5;28mself\u001b[39m\u001b[38;5;241m.\u001b[39m_time\n\u001b[1;32m   1180\u001b[0m \u001b[38;5;28;01mtry\u001b[39;00m:\n\u001b[0;32m-> 1181\u001b[0m \u001b[43m    \u001b[49m\u001b[38;5;28;43;01mfor\u001b[39;49;00m\u001b[43m \u001b[49m\u001b[43mobj\u001b[49m\u001b[43m \u001b[49m\u001b[38;5;129;43;01min\u001b[39;49;00m\u001b[43m \u001b[49m\u001b[43miterable\u001b[49m\u001b[43m:\u001b[49m\n\u001b[1;32m   1182\u001b[0m \u001b[43m        \u001b[49m\u001b[38;5;28;43;01myield\u001b[39;49;00m\u001b[43m \u001b[49m\u001b[43mobj\u001b[49m\n\u001b[1;32m   1183\u001b[0m \u001b[43m        \u001b[49m\u001b[38;5;66;43;03m# Update and possibly print the progressbar.\u001b[39;49;00m\n\u001b[1;32m   1184\u001b[0m \u001b[43m        \u001b[49m\u001b[38;5;66;43;03m# Note: does not call self.update(1) for speed optimisation.\u001b[39;49;00m\n",
      "File \u001b[0;32m~/miniforge3/envs/py312/lib/python3.12/site-packages/pandas/io/parsers/readers.py:1843\u001b[0m, in \u001b[0;36mTextFileReader.__next__\u001b[0;34m(self)\u001b[0m\n\u001b[1;32m   1841\u001b[0m \u001b[38;5;28;01mdef\u001b[39;00m \u001b[38;5;21m__next__\u001b[39m(\u001b[38;5;28mself\u001b[39m) \u001b[38;5;241m-\u001b[39m\u001b[38;5;241m>\u001b[39m DataFrame:\n\u001b[1;32m   1842\u001b[0m     \u001b[38;5;28;01mtry\u001b[39;00m:\n\u001b[0;32m-> 1843\u001b[0m         \u001b[38;5;28;01mreturn\u001b[39;00m \u001b[38;5;28;43mself\u001b[39;49m\u001b[38;5;241;43m.\u001b[39;49m\u001b[43mget_chunk\u001b[49m\u001b[43m(\u001b[49m\u001b[43m)\u001b[49m\n\u001b[1;32m   1844\u001b[0m     \u001b[38;5;28;01mexcept\u001b[39;00m \u001b[38;5;167;01mStopIteration\u001b[39;00m:\n\u001b[1;32m   1845\u001b[0m         \u001b[38;5;28mself\u001b[39m\u001b[38;5;241m.\u001b[39mclose()\n",
      "File \u001b[0;32m~/miniforge3/envs/py312/lib/python3.12/site-packages/pandas/io/parsers/readers.py:1985\u001b[0m, in \u001b[0;36mTextFileReader.get_chunk\u001b[0;34m(self, size)\u001b[0m\n\u001b[1;32m   1983\u001b[0m         \u001b[38;5;28;01mraise\u001b[39;00m \u001b[38;5;167;01mStopIteration\u001b[39;00m\n\u001b[1;32m   1984\u001b[0m     size \u001b[38;5;241m=\u001b[39m \u001b[38;5;28mmin\u001b[39m(size, \u001b[38;5;28mself\u001b[39m\u001b[38;5;241m.\u001b[39mnrows \u001b[38;5;241m-\u001b[39m \u001b[38;5;28mself\u001b[39m\u001b[38;5;241m.\u001b[39m_currow)\n\u001b[0;32m-> 1985\u001b[0m \u001b[38;5;28;01mreturn\u001b[39;00m \u001b[38;5;28;43mself\u001b[39;49m\u001b[38;5;241;43m.\u001b[39;49m\u001b[43mread\u001b[49m\u001b[43m(\u001b[49m\u001b[43mnrows\u001b[49m\u001b[38;5;241;43m=\u001b[39;49m\u001b[43msize\u001b[49m\u001b[43m)\u001b[49m\n",
      "File \u001b[0;32m~/miniforge3/envs/py312/lib/python3.12/site-packages/pandas/io/parsers/readers.py:1923\u001b[0m, in \u001b[0;36mTextFileReader.read\u001b[0;34m(self, nrows)\u001b[0m\n\u001b[1;32m   1916\u001b[0m nrows \u001b[38;5;241m=\u001b[39m validate_integer(\u001b[38;5;124m\"\u001b[39m\u001b[38;5;124mnrows\u001b[39m\u001b[38;5;124m\"\u001b[39m, nrows)\n\u001b[1;32m   1917\u001b[0m \u001b[38;5;28;01mtry\u001b[39;00m:\n\u001b[1;32m   1918\u001b[0m     \u001b[38;5;66;03m# error: \"ParserBase\" has no attribute \"read\"\u001b[39;00m\n\u001b[1;32m   1919\u001b[0m     (\n\u001b[1;32m   1920\u001b[0m         index,\n\u001b[1;32m   1921\u001b[0m         columns,\n\u001b[1;32m   1922\u001b[0m         col_dict,\n\u001b[0;32m-> 1923\u001b[0m     ) \u001b[38;5;241m=\u001b[39m \u001b[38;5;28;43mself\u001b[39;49m\u001b[38;5;241;43m.\u001b[39;49m\u001b[43m_engine\u001b[49m\u001b[38;5;241;43m.\u001b[39;49m\u001b[43mread\u001b[49m\u001b[43m(\u001b[49m\u001b[43m  \u001b[49m\u001b[38;5;66;43;03m# type: ignore[attr-defined]\u001b[39;49;00m\n\u001b[1;32m   1924\u001b[0m \u001b[43m        \u001b[49m\u001b[43mnrows\u001b[49m\n\u001b[1;32m   1925\u001b[0m \u001b[43m    \u001b[49m\u001b[43m)\u001b[49m\n\u001b[1;32m   1926\u001b[0m \u001b[38;5;28;01mexcept\u001b[39;00m \u001b[38;5;167;01mException\u001b[39;00m:\n\u001b[1;32m   1927\u001b[0m     \u001b[38;5;28mself\u001b[39m\u001b[38;5;241m.\u001b[39mclose()\n",
      "File \u001b[0;32m~/miniforge3/envs/py312/lib/python3.12/site-packages/pandas/io/parsers/c_parser_wrapper.py:234\u001b[0m, in \u001b[0;36mCParserWrapper.read\u001b[0;34m(self, nrows)\u001b[0m\n\u001b[1;32m    232\u001b[0m \u001b[38;5;28;01mtry\u001b[39;00m:\n\u001b[1;32m    233\u001b[0m     \u001b[38;5;28;01mif\u001b[39;00m \u001b[38;5;28mself\u001b[39m\u001b[38;5;241m.\u001b[39mlow_memory:\n\u001b[0;32m--> 234\u001b[0m         chunks \u001b[38;5;241m=\u001b[39m \u001b[38;5;28;43mself\u001b[39;49m\u001b[38;5;241;43m.\u001b[39;49m\u001b[43m_reader\u001b[49m\u001b[38;5;241;43m.\u001b[39;49m\u001b[43mread_low_memory\u001b[49m\u001b[43m(\u001b[49m\u001b[43mnrows\u001b[49m\u001b[43m)\u001b[49m\n\u001b[1;32m    235\u001b[0m         \u001b[38;5;66;03m# destructive to chunks\u001b[39;00m\n\u001b[1;32m    236\u001b[0m         data \u001b[38;5;241m=\u001b[39m _concatenate_chunks(chunks)\n",
      "File \u001b[0;32mparsers.pyx:850\u001b[0m, in \u001b[0;36mpandas._libs.parsers.TextReader.read_low_memory\u001b[0;34m()\u001b[0m\n",
      "File \u001b[0;32mparsers.pyx:905\u001b[0m, in \u001b[0;36mpandas._libs.parsers.TextReader._read_rows\u001b[0;34m()\u001b[0m\n",
      "File \u001b[0;32mparsers.pyx:874\u001b[0m, in \u001b[0;36mpandas._libs.parsers.TextReader._tokenize_rows\u001b[0;34m()\u001b[0m\n",
      "File \u001b[0;32mparsers.pyx:891\u001b[0m, in \u001b[0;36mpandas._libs.parsers.TextReader._check_tokenize_status\u001b[0;34m()\u001b[0m\n",
      "File \u001b[0;32mparsers.pyx:2061\u001b[0m, in \u001b[0;36mpandas._libs.parsers.raise_parser_error\u001b[0;34m()\u001b[0m\n",
      "\u001b[0;31mParserError\u001b[0m: Error tokenizing data. C error: Expected 28 fields in line 5, saw 58\n"
     ]
    }
   ],
   "source": [
    "index = get_index(\"cassini.uvis.index\")"
   ]
  },
  {
   "cell_type": "code",
   "execution_count": null,
   "id": "300454f5-cc67-4646-a5e5-7f26ea452dc7",
   "metadata": {},
   "outputs": [
    {
     "data": {
      "text/html": [
       "<div>\n",
       "<style scoped>\n",
       "    .dataframe tbody tr th:only-of-type {\n",
       "        vertical-align: middle;\n",
       "    }\n",
       "\n",
       "    .dataframe tbody tr th {\n",
       "        vertical-align: top;\n",
       "    }\n",
       "\n",
       "    .dataframe thead th {\n",
       "        text-align: right;\n",
       "    }\n",
       "</style>\n",
       "<table border=\"1\" class=\"dataframe\">\n",
       "  <thead>\n",
       "    <tr style=\"text-align: right;\">\n",
       "      <th></th>\n",
       "      <th>FILE_NAME</th>\n",
       "      <th>OBSERVATION_TYPE</th>\n",
       "      <th>START_TIME</th>\n",
       "      <th>STOP_TIME</th>\n",
       "      <th>TARGET_NAME</th>\n",
       "      <th>DATA_SET_ID</th>\n",
       "      <th>SPACECRAFT_CLOCK_START_COUNT</th>\n",
       "      <th>SPACECRAFT_CLOCK_STOP_COUNT</th>\n",
       "      <th>INTEGRATION_DURATION</th>\n",
       "      <th>COMPRESSION_TYPE</th>\n",
       "      <th>...</th>\n",
       "      <th>SUB_SOLAR_LONGITUDE</th>\n",
       "      <th>SUB_SPACECRAFT_LATITUDE</th>\n",
       "      <th>SUB_SPACECRAFT_LONGITUDE</th>\n",
       "      <th>PHASE_ANGLE</th>\n",
       "      <th>EMISSION_ANGLE</th>\n",
       "      <th>SOLAR_INCIDENCE_ANGLE</th>\n",
       "      <th>CENTRAL_BODY_DISTANCE</th>\n",
       "      <th>DWELL_TIME</th>\n",
       "      <th>H_LEVEL</th>\n",
       "      <th>D_LEVEL</th>\n",
       "    </tr>\n",
       "  </thead>\n",
       "  <tbody>\n",
       "    <tr>\n",
       "      <th>203240</th>\n",
       "      <td>/COUVIS_0060/DATA/D2017_258/FUV2017_258_04_31.LBL</td>\n",
       "      <td>&lt;NA&gt;</td>\n",
       "      <td>2017-09-15 04:31:53.005</td>\n",
       "      <td>2017-09-15 09:04:56.755</td>\n",
       "      <td>SOLAR WIND</td>\n",
       "      <td>CO-S-UVIS-2-CUBE-V1.4</td>\n",
       "      <td>1/1884145299.160</td>\n",
       "      <td>UNK</td>\n",
       "      <td>8191.875</td>\n",
       "      <td>SQRT_9</td>\n",
       "      <td>...</td>\n",
       "      <td>-999.0</td>\n",
       "      <td>-999.0</td>\n",
       "      <td>-999.0</td>\n",
       "      <td>-999.0</td>\n",
       "      <td>-999.0</td>\n",
       "      <td>-999</td>\n",
       "      <td>-999.0</td>\n",
       "      <td>-999</td>\n",
       "      <td>&lt;NA&gt;</td>\n",
       "      <td>&lt;NA&gt;</td>\n",
       "    </tr>\n",
       "    <tr>\n",
       "      <th>203241</th>\n",
       "      <td>/COUVIS_0060/DATA/D2017_258/FUV2017_258_07_00.LBL</td>\n",
       "      <td>&lt;NA&gt;</td>\n",
       "      <td>2017-09-15 07:00:27.697</td>\n",
       "      <td>2017-09-15 07:13:40.447</td>\n",
       "      <td>SOLAR WIND</td>\n",
       "      <td>CO-S-UVIS-2-SPEC-V1.4</td>\n",
       "      <td>1/1884154214.096</td>\n",
       "      <td>UNK</td>\n",
       "      <td>2.625</td>\n",
       "      <td>SQRT_9</td>\n",
       "      <td>...</td>\n",
       "      <td>-999.0</td>\n",
       "      <td>-999.0</td>\n",
       "      <td>-999.0</td>\n",
       "      <td>-999.0</td>\n",
       "      <td>-999.0</td>\n",
       "      <td>-999</td>\n",
       "      <td>-999.0</td>\n",
       "      <td>-999</td>\n",
       "      <td>&lt;NA&gt;</td>\n",
       "      <td>&lt;NA&gt;</td>\n",
       "    </tr>\n",
       "    <tr>\n",
       "      <th>203242</th>\n",
       "      <td>/COUVIS_0060/DATA/D2017_258/FUV2017_258_07_15.LBL</td>\n",
       "      <td>&lt;NA&gt;</td>\n",
       "      <td>2017-09-15 07:15:04.442</td>\n",
       "      <td>2017-09-15 10:31:51.692</td>\n",
       "      <td>SOLAR WIND</td>\n",
       "      <td>CO-S-UVIS-2-SPEC-V1.4</td>\n",
       "      <td>1/1884155091.032</td>\n",
       "      <td>UNK</td>\n",
       "      <td>2.625</td>\n",
       "      <td>SQRT_9</td>\n",
       "      <td>...</td>\n",
       "      <td>-999.0</td>\n",
       "      <td>-999.0</td>\n",
       "      <td>-999.0</td>\n",
       "      <td>-999.0</td>\n",
       "      <td>-999.0</td>\n",
       "      <td>-999</td>\n",
       "      <td>-999.0</td>\n",
       "      <td>-999</td>\n",
       "      <td>&lt;NA&gt;</td>\n",
       "      <td>&lt;NA&gt;</td>\n",
       "    </tr>\n",
       "    <tr>\n",
       "      <th>203243</th>\n",
       "      <td>/COUVIS_0060/DATA/D2017_258/HDAC2017_258_02_14...</td>\n",
       "      <td>&lt;NA&gt;</td>\n",
       "      <td>2017-09-15 02:14:02.433</td>\n",
       "      <td>2017-09-15 02:14:06.433</td>\n",
       "      <td>SOLAR WIND</td>\n",
       "      <td>CO-S-UVIS-2-SSB-V1.4</td>\n",
       "      <td>1/1884137029.000</td>\n",
       "      <td>UNK</td>\n",
       "      <td>-999.0</td>\n",
       "      <td>NONE</td>\n",
       "      <td>...</td>\n",
       "      <td>-999.0</td>\n",
       "      <td>-999.0</td>\n",
       "      <td>-999.0</td>\n",
       "      <td>-999.0</td>\n",
       "      <td>-999.0</td>\n",
       "      <td>-999</td>\n",
       "      <td>-999.0</td>\n",
       "      <td>1</td>\n",
       "      <td>(0, 0, 0, 0, 0, 0, 0, 0, 0, 0, 0, 0, 0, 0, 0, 0)</td>\n",
       "      <td>(0, 0, 0, 0, 0, 0, 0, 0, 0, 0, 0, 0, 0, 0, 0, 0)</td>\n",
       "    </tr>\n",
       "    <tr>\n",
       "      <th>203244</th>\n",
       "      <td>/COUVIS_0060/DATA/D2017_258/HDAC2017_258_02_15...</td>\n",
       "      <td>&lt;NA&gt;</td>\n",
       "      <td>2017-09-15 02:15:25.058</td>\n",
       "      <td>2017-09-15 02:17:33.058</td>\n",
       "      <td>SOLAR WIND</td>\n",
       "      <td>CO-S-UVIS-2-SSB-V1.4</td>\n",
       "      <td>1/1884137111.160</td>\n",
       "      <td>UNK</td>\n",
       "      <td>-999.0</td>\n",
       "      <td>NONE</td>\n",
       "      <td>...</td>\n",
       "      <td>-999.0</td>\n",
       "      <td>-999.0</td>\n",
       "      <td>-999.0</td>\n",
       "      <td>-999.0</td>\n",
       "      <td>-999.0</td>\n",
       "      <td>-999</td>\n",
       "      <td>-999.0</td>\n",
       "      <td>32</td>\n",
       "      <td>(0, 0, 0, 0, 0, 0, 0, 0, 0, 0, 0, 0, 0, 0, 0, 0)</td>\n",
       "      <td>(0, 0, 0, 0, 0, 0, 0, 0, 0, 0, 0, 0, 0, 0, 0, 0)</td>\n",
       "    </tr>\n",
       "  </tbody>\n",
       "</table>\n",
       "<p>5 rows × 28 columns</p>\n",
       "</div>"
      ],
      "text/plain": [
       "                                                FILE_NAME OBSERVATION_TYPE  \\\n",
       "203240  /COUVIS_0060/DATA/D2017_258/FUV2017_258_04_31.LBL             <NA>   \n",
       "203241  /COUVIS_0060/DATA/D2017_258/FUV2017_258_07_00.LBL             <NA>   \n",
       "203242  /COUVIS_0060/DATA/D2017_258/FUV2017_258_07_15.LBL             <NA>   \n",
       "203243  /COUVIS_0060/DATA/D2017_258/HDAC2017_258_02_14...             <NA>   \n",
       "203244  /COUVIS_0060/DATA/D2017_258/HDAC2017_258_02_15...             <NA>   \n",
       "\n",
       "                    START_TIME               STOP_TIME TARGET_NAME  \\\n",
       "203240 2017-09-15 04:31:53.005 2017-09-15 09:04:56.755  SOLAR WIND   \n",
       "203241 2017-09-15 07:00:27.697 2017-09-15 07:13:40.447  SOLAR WIND   \n",
       "203242 2017-09-15 07:15:04.442 2017-09-15 10:31:51.692  SOLAR WIND   \n",
       "203243 2017-09-15 02:14:02.433 2017-09-15 02:14:06.433  SOLAR WIND   \n",
       "203244 2017-09-15 02:15:25.058 2017-09-15 02:17:33.058  SOLAR WIND   \n",
       "\n",
       "                  DATA_SET_ID SPACECRAFT_CLOCK_START_COUNT  \\\n",
       "203240  CO-S-UVIS-2-CUBE-V1.4             1/1884145299.160   \n",
       "203241  CO-S-UVIS-2-SPEC-V1.4             1/1884154214.096   \n",
       "203242  CO-S-UVIS-2-SPEC-V1.4             1/1884155091.032   \n",
       "203243   CO-S-UVIS-2-SSB-V1.4             1/1884137029.000   \n",
       "203244   CO-S-UVIS-2-SSB-V1.4             1/1884137111.160   \n",
       "\n",
       "       SPACECRAFT_CLOCK_STOP_COUNT  INTEGRATION_DURATION COMPRESSION_TYPE  \\\n",
       "203240                         UNK              8191.875           SQRT_9   \n",
       "203241                         UNK                 2.625           SQRT_9   \n",
       "203242                         UNK                 2.625           SQRT_9   \n",
       "203243                         UNK                -999.0             NONE   \n",
       "203244                         UNK                -999.0             NONE   \n",
       "\n",
       "        ... SUB_SOLAR_LONGITUDE SUB_SPACECRAFT_LATITUDE  \\\n",
       "203240  ...              -999.0                  -999.0   \n",
       "203241  ...              -999.0                  -999.0   \n",
       "203242  ...              -999.0                  -999.0   \n",
       "203243  ...              -999.0                  -999.0   \n",
       "203244  ...              -999.0                  -999.0   \n",
       "\n",
       "       SUB_SPACECRAFT_LONGITUDE PHASE_ANGLE  EMISSION_ANGLE  \\\n",
       "203240                   -999.0      -999.0          -999.0   \n",
       "203241                   -999.0      -999.0          -999.0   \n",
       "203242                   -999.0      -999.0          -999.0   \n",
       "203243                   -999.0      -999.0          -999.0   \n",
       "203244                   -999.0      -999.0          -999.0   \n",
       "\n",
       "        SOLAR_INCIDENCE_ANGLE  CENTRAL_BODY_DISTANCE  DWELL_TIME  \\\n",
       "203240                   -999                 -999.0        -999   \n",
       "203241                   -999                 -999.0        -999   \n",
       "203242                   -999                 -999.0        -999   \n",
       "203243                   -999                 -999.0           1   \n",
       "203244                   -999                 -999.0          32   \n",
       "\n",
       "                                                 H_LEVEL  \\\n",
       "203240                                              <NA>   \n",
       "203241                                              <NA>   \n",
       "203242                                              <NA>   \n",
       "203243  (0, 0, 0, 0, 0, 0, 0, 0, 0, 0, 0, 0, 0, 0, 0, 0)   \n",
       "203244  (0, 0, 0, 0, 0, 0, 0, 0, 0, 0, 0, 0, 0, 0, 0, 0)   \n",
       "\n",
       "                                                 D_LEVEL  \n",
       "203240                                              <NA>  \n",
       "203241                                              <NA>  \n",
       "203242                                              <NA>  \n",
       "203243  (0, 0, 0, 0, 0, 0, 0, 0, 0, 0, 0, 0, 0, 0, 0, 0)  \n",
       "203244  (0, 0, 0, 0, 0, 0, 0, 0, 0, 0, 0, 0, 0, 0, 0, 0)  \n",
       "\n",
       "[5 rows x 28 columns]"
      ]
     },
     "execution_count": null,
     "metadata": {},
     "output_type": "execute_result"
    }
   ],
   "source": [
    "index.tail()"
   ]
  },
  {
   "cell_type": "code",
   "execution_count": null,
   "id": "b8b14495-16b5-4f65-9de2-2e3bf743f07c",
   "metadata": {},
   "outputs": [],
   "source": [
    "dm = DataManager(\"EUV2017_258_07_00\")"
   ]
  },
  {
   "cell_type": "code",
   "execution_count": null,
   "id": "e4a46392-ecaf-4e4b-83b7-dd1f84986597",
   "metadata": {},
   "outputs": [
    {
     "data": {
      "text/plain": [
       "Path('/home/ayek72/mnt/slowdata/planetarypy/missions/cassini/uvis/EUV2017_258_07_00/EUV2017_258_07_00_CAL_3.LBL')"
      ]
     },
     "execution_count": null,
     "metadata": {},
     "output_type": "execute_result"
    }
   ],
   "source": [
    "dm.calib_label_path"
   ]
  },
  {
   "cell_type": "code",
   "execution_count": null,
   "id": "8c9a1608-a53c-4738-833c-e3aa18d92d92",
   "metadata": {},
   "outputs": [
    {
     "data": {
      "text/plain": [
       "Path('/home/ayek72/mnt/slowdata/planetarypy/missions/cassini/uvis/EUV2017_258_07_00/EUV2017_258_07_00.DAT')"
      ]
     },
     "execution_count": null,
     "metadata": {},
     "output_type": "execute_result"
    }
   ],
   "source": [
    "dm.raw_data_path"
   ]
  },
  {
   "cell_type": "code",
   "execution_count": null,
   "id": "c647722a-f9d3-4e5f-9f27-2eac3fa621d6",
   "metadata": {},
   "outputs": [
    {
     "data": {
      "text/plain": [
       "Path('/home/ayek72/mnt/slowdata/planetarypy/missions/cassini/uvis/EUV2017_258_07_00/EUV2017_258_07_00.LBL')"
      ]
     },
     "execution_count": null,
     "metadata": {},
     "output_type": "execute_result"
    }
   ],
   "source": [
    "dm.raw_label_path"
   ]
  },
  {
   "cell_type": "code",
   "execution_count": null,
   "id": "8f6d7dd5-27c2-4462-b705-4cca1244458c",
   "metadata": {},
   "outputs": [
    {
     "data": {
      "application/javascript": "(function(root) {\n  function now() {\n    return new Date();\n  }\n\n  var force = true;\n  var py_version = '3.2.2'.replace('rc', '-rc.').replace('.dev', '-dev.');\n  var is_dev = py_version.indexOf(\"+\") !== -1 || py_version.indexOf(\"-\") !== -1;\n  var reloading = false;\n  var Bokeh = root.Bokeh;\n  var bokeh_loaded = Bokeh != null && (Bokeh.version === py_version || (Bokeh.versions !== undefined && Bokeh.versions.has(py_version)));\n\n  if (typeof (root._bokeh_timeout) === \"undefined\" || force) {\n    root._bokeh_timeout = Date.now() + 5000;\n    root._bokeh_failed_load = false;\n  }\n\n  function run_callbacks() {\n    try {\n      root._bokeh_onload_callbacks.forEach(function(callback) {\n        if (callback != null)\n          callback();\n      });\n    } finally {\n      delete root._bokeh_onload_callbacks;\n    }\n    console.debug(\"Bokeh: all callbacks have finished\");\n  }\n\n  function load_libs(css_urls, js_urls, js_modules, js_exports, callback) {\n    if (css_urls == null) css_urls = [];\n    if (js_urls == null) js_urls = [];\n    if (js_modules == null) js_modules = [];\n    if (js_exports == null) js_exports = {};\n\n    root._bokeh_onload_callbacks.push(callback);\n\n    if (root._bokeh_is_loading > 0) {\n      console.debug(\"Bokeh: BokehJS is being loaded, scheduling callback at\", now());\n      return null;\n    }\n    if (js_urls.length === 0 && js_modules.length === 0 && Object.keys(js_exports).length === 0) {\n      run_callbacks();\n      return null;\n    }\n    if (!reloading) {\n      console.debug(\"Bokeh: BokehJS not loaded, scheduling load and callback at\", now());\n    }\n\n    function on_load() {\n      root._bokeh_is_loading--;\n      if (root._bokeh_is_loading === 0) {\n        console.debug(\"Bokeh: all BokehJS libraries/stylesheets loaded\");\n        run_callbacks()\n      }\n    }\n    window._bokeh_on_load = on_load\n\n    function on_error() {\n      console.error(\"failed to load \" + url);\n    }\n\n    var skip = [];\n    if (window.requirejs) {\n      window.requirejs.config({'packages': {}, 'paths': {'jspanel': 'https://cdn.jsdelivr.net/npm/jspanel4@4.12.0/dist/jspanel', 'jspanel-modal': 'https://cdn.jsdelivr.net/npm/jspanel4@4.12.0/dist/extensions/modal/jspanel.modal', 'jspanel-tooltip': 'https://cdn.jsdelivr.net/npm/jspanel4@4.12.0/dist/extensions/tooltip/jspanel.tooltip', 'jspanel-hint': 'https://cdn.jsdelivr.net/npm/jspanel4@4.12.0/dist/extensions/hint/jspanel.hint', 'jspanel-layout': 'https://cdn.jsdelivr.net/npm/jspanel4@4.12.0/dist/extensions/layout/jspanel.layout', 'jspanel-contextmenu': 'https://cdn.jsdelivr.net/npm/jspanel4@4.12.0/dist/extensions/contextmenu/jspanel.contextmenu', 'jspanel-dock': 'https://cdn.jsdelivr.net/npm/jspanel4@4.12.0/dist/extensions/dock/jspanel.dock', 'gridstack': 'https://cdn.jsdelivr.net/npm/gridstack@7.2.3/dist/gridstack-all', 'notyf': 'https://cdn.jsdelivr.net/npm/notyf@3/notyf.min'}, 'shim': {'jspanel': {'exports': 'jsPanel'}, 'gridstack': {'exports': 'GridStack'}}});\n      require([\"jspanel\"], function(jsPanel) {\n\twindow.jsPanel = jsPanel\n\ton_load()\n      })\n      require([\"jspanel-modal\"], function() {\n\ton_load()\n      })\n      require([\"jspanel-tooltip\"], function() {\n\ton_load()\n      })\n      require([\"jspanel-hint\"], function() {\n\ton_load()\n      })\n      require([\"jspanel-layout\"], function() {\n\ton_load()\n      })\n      require([\"jspanel-contextmenu\"], function() {\n\ton_load()\n      })\n      require([\"jspanel-dock\"], function() {\n\ton_load()\n      })\n      require([\"gridstack\"], function(GridStack) {\n\twindow.GridStack = GridStack\n\ton_load()\n      })\n      require([\"notyf\"], function() {\n\ton_load()\n      })\n      root._bokeh_is_loading = css_urls.length + 9;\n    } else {\n      root._bokeh_is_loading = css_urls.length + js_urls.length + js_modules.length + Object.keys(js_exports).length;\n    }\n\n    var existing_stylesheets = []\n    var links = document.getElementsByTagName('link')\n    for (var i = 0; i < links.length; i++) {\n      var link = links[i]\n      if (link.href != null) {\n\texisting_stylesheets.push(link.href)\n      }\n    }\n    for (var i = 0; i < css_urls.length; i++) {\n      var url = css_urls[i];\n      if (existing_stylesheets.indexOf(url) !== -1) {\n\ton_load()\n\tcontinue;\n      }\n      const element = document.createElement(\"link\");\n      element.onload = on_load;\n      element.onerror = on_error;\n      element.rel = \"stylesheet\";\n      element.type = \"text/css\";\n      element.href = url;\n      console.debug(\"Bokeh: injecting link tag for BokehJS stylesheet: \", url);\n      document.body.appendChild(element);\n    }    if (((window['jsPanel'] !== undefined) && (!(window['jsPanel'] instanceof HTMLElement))) || window.requirejs) {\n      var urls = ['https://cdn.holoviz.org/panel/1.2.3/dist/bundled/floatpanel/jspanel4@4.12.0/dist/jspanel.js', 'https://cdn.holoviz.org/panel/1.2.3/dist/bundled/floatpanel/jspanel4@4.12.0/dist/extensions/modal/jspanel.modal.js', 'https://cdn.holoviz.org/panel/1.2.3/dist/bundled/floatpanel/jspanel4@4.12.0/dist/extensions/tooltip/jspanel.tooltip.js', 'https://cdn.holoviz.org/panel/1.2.3/dist/bundled/floatpanel/jspanel4@4.12.0/dist/extensions/hint/jspanel.hint.js', 'https://cdn.holoviz.org/panel/1.2.3/dist/bundled/floatpanel/jspanel4@4.12.0/dist/extensions/layout/jspanel.layout.js', 'https://cdn.holoviz.org/panel/1.2.3/dist/bundled/floatpanel/jspanel4@4.12.0/dist/extensions/contextmenu/jspanel.contextmenu.js', 'https://cdn.holoviz.org/panel/1.2.3/dist/bundled/floatpanel/jspanel4@4.12.0/dist/extensions/dock/jspanel.dock.js'];\n      for (var i = 0; i < urls.length; i++) {\n        skip.push(urls[i])\n      }\n    }    if (((window['GridStack'] !== undefined) && (!(window['GridStack'] instanceof HTMLElement))) || window.requirejs) {\n      var urls = ['https://cdn.holoviz.org/panel/1.2.3/dist/bundled/gridstack/gridstack@7.2.3/dist/gridstack-all.js'];\n      for (var i = 0; i < urls.length; i++) {\n        skip.push(urls[i])\n      }\n    }    if (((window['Notyf'] !== undefined) && (!(window['Notyf'] instanceof HTMLElement))) || window.requirejs) {\n      var urls = ['https://cdn.holoviz.org/panel/1.2.3/dist/bundled/notificationarea/notyf@3/notyf.min.js'];\n      for (var i = 0; i < urls.length; i++) {\n        skip.push(urls[i])\n      }\n    }    var existing_scripts = []\n    var scripts = document.getElementsByTagName('script')\n    for (var i = 0; i < scripts.length; i++) {\n      var script = scripts[i]\n      if (script.src != null) {\n\texisting_scripts.push(script.src)\n      }\n    }\n    for (var i = 0; i < js_urls.length; i++) {\n      var url = js_urls[i];\n      if (skip.indexOf(url) !== -1 || existing_scripts.indexOf(url) !== -1) {\n\tif (!window.requirejs) {\n\t  on_load();\n\t}\n\tcontinue;\n      }\n      var element = document.createElement('script');\n      element.onload = on_load;\n      element.onerror = on_error;\n      element.async = false;\n      element.src = url;\n      console.debug(\"Bokeh: injecting script tag for BokehJS library: \", url);\n      document.head.appendChild(element);\n    }\n    for (var i = 0; i < js_modules.length; i++) {\n      var url = js_modules[i];\n      if (skip.indexOf(url) !== -1 || existing_scripts.indexOf(url) !== -1) {\n\tif (!window.requirejs) {\n\t  on_load();\n\t}\n\tcontinue;\n      }\n      var element = document.createElement('script');\n      element.onload = on_load;\n      element.onerror = on_error;\n      element.async = false;\n      element.src = url;\n      element.type = \"module\";\n      console.debug(\"Bokeh: injecting script tag for BokehJS library: \", url);\n      document.head.appendChild(element);\n    }\n    for (const name in js_exports) {\n      var url = js_exports[name];\n      if (skip.indexOf(url) >= 0 || root[name] != null) {\n\tif (!window.requirejs) {\n\t  on_load();\n\t}\n\tcontinue;\n      }\n      var element = document.createElement('script');\n      element.onerror = on_error;\n      element.async = false;\n      element.type = \"module\";\n      console.debug(\"Bokeh: injecting script tag for BokehJS library: \", url);\n      element.textContent = `\n      import ${name} from \"${url}\"\n      window.${name} = ${name}\n      window._bokeh_on_load()\n      `\n      document.head.appendChild(element);\n    }\n    if (!js_urls.length && !js_modules.length) {\n      on_load()\n    }\n  };\n\n  function inject_raw_css(css) {\n    const element = document.createElement(\"style\");\n    element.appendChild(document.createTextNode(css));\n    document.body.appendChild(element);\n  }\n\n  var js_urls = [\"https://cdn.bokeh.org/bokeh/release/bokeh-3.2.2.min.js\", \"https://cdn.bokeh.org/bokeh/release/bokeh-gl-3.2.2.min.js\", \"https://cdn.bokeh.org/bokeh/release/bokeh-widgets-3.2.2.min.js\", \"https://cdn.bokeh.org/bokeh/release/bokeh-tables-3.2.2.min.js\", \"https://cdn.holoviz.org/panel/1.2.3/dist/panel.min.js\"];\n  var js_modules = [];\n  var js_exports = {};\n  var css_urls = [];\n  var inline_js = [    function(Bokeh) {\n      Bokeh.set_log_level(\"info\");\n    },\nfunction(Bokeh) {} // ensure no trailing comma for IE\n  ];\n\n  function run_inline_js() {\n    if ((root.Bokeh !== undefined) || (force === true)) {\n      for (var i = 0; i < inline_js.length; i++) {\n        inline_js[i].call(root, root.Bokeh);\n      }\n      // Cache old bokeh versions\n      if (Bokeh != undefined && !reloading) {\n\tvar NewBokeh = root.Bokeh;\n\tif (Bokeh.versions === undefined) {\n\t  Bokeh.versions = new Map();\n\t}\n\tif (NewBokeh.version !== Bokeh.version) {\n\t  Bokeh.versions.set(NewBokeh.version, NewBokeh)\n\t}\n\troot.Bokeh = Bokeh;\n      }} else if (Date.now() < root._bokeh_timeout) {\n      setTimeout(run_inline_js, 100);\n    } else if (!root._bokeh_failed_load) {\n      console.log(\"Bokeh: BokehJS failed to load within specified timeout.\");\n      root._bokeh_failed_load = true;\n    }\n    root._bokeh_is_initializing = false\n  }\n\n  function load_or_wait() {\n    // Implement a backoff loop that tries to ensure we do not load multiple\n    // versions of Bokeh and its dependencies at the same time.\n    // In recent versions we use the root._bokeh_is_initializing flag\n    // to determine whether there is an ongoing attempt to initialize\n    // bokeh, however for backward compatibility we also try to ensure\n    // that we do not start loading a newer (Panel>=1.0 and Bokeh>3) version\n    // before older versions are fully initialized.\n    if (root._bokeh_is_initializing && Date.now() > root._bokeh_timeout) {\n      root._bokeh_is_initializing = false;\n      root._bokeh_onload_callbacks = undefined;\n      console.log(\"Bokeh: BokehJS was loaded multiple times but one version failed to initialize.\");\n      load_or_wait();\n    } else if (root._bokeh_is_initializing || (typeof root._bokeh_is_initializing === \"undefined\" && root._bokeh_onload_callbacks !== undefined)) {\n      setTimeout(load_or_wait, 100);\n    } else {\n      Bokeh = root.Bokeh;\n      bokeh_loaded = Bokeh != null && (Bokeh.version === py_version || (Bokeh.versions !== undefined && Bokeh.versions.has(py_version)));\n      root._bokeh_is_initializing = true\n      root._bokeh_onload_callbacks = []\n      if (!reloading && (!bokeh_loaded || is_dev)) {\n\troot.Bokeh = undefined;\n      }\n      load_libs(css_urls, js_urls, js_modules, js_exports, function() {\n\tconsole.debug(\"Bokeh: BokehJS plotting callback run at\", now());\n\trun_inline_js();\n      });\n    }\n  }\n  // Give older versions of the autoload script a head-start to ensure\n  // they initialize before we start loading newer version.\n  setTimeout(load_or_wait, 100)\n}(window));",
      "application/vnd.holoviews_load.v0+json": ""
     },
     "metadata": {},
     "output_type": "display_data"
    },
    {
     "data": {
      "application/javascript": "\nif ((window.PyViz === undefined) || (window.PyViz instanceof HTMLElement)) {\n  window.PyViz = {comms: {}, comm_status:{}, kernels:{}, receivers: {}, plot_index: []}\n}\n\n\n    function JupyterCommManager() {\n    }\n\n    JupyterCommManager.prototype.register_target = function(plot_id, comm_id, msg_handler) {\n      if (window.comm_manager || ((window.Jupyter !== undefined) && (Jupyter.notebook.kernel != null))) {\n        var comm_manager = window.comm_manager || Jupyter.notebook.kernel.comm_manager;\n        comm_manager.register_target(comm_id, function(comm) {\n          comm.on_msg(msg_handler);\n        });\n      } else if ((plot_id in window.PyViz.kernels) && (window.PyViz.kernels[plot_id])) {\n        window.PyViz.kernels[plot_id].registerCommTarget(comm_id, function(comm) {\n          comm.onMsg = msg_handler;\n        });\n      } else if (typeof google != 'undefined' && google.colab.kernel != null) {\n        google.colab.kernel.comms.registerTarget(comm_id, (comm) => {\n          var messages = comm.messages[Symbol.asyncIterator]();\n          function processIteratorResult(result) {\n            var message = result.value;\n            console.log(message)\n            var content = {data: message.data, comm_id};\n            var buffers = []\n            for (var buffer of message.buffers || []) {\n              buffers.push(new DataView(buffer))\n            }\n            var metadata = message.metadata || {};\n            var msg = {content, buffers, metadata}\n            msg_handler(msg);\n            return messages.next().then(processIteratorResult);\n          }\n          return messages.next().then(processIteratorResult);\n        })\n      }\n    }\n\n    JupyterCommManager.prototype.get_client_comm = function(plot_id, comm_id, msg_handler) {\n      if (comm_id in window.PyViz.comms) {\n        return window.PyViz.comms[comm_id];\n      } else if (window.comm_manager || ((window.Jupyter !== undefined) && (Jupyter.notebook.kernel != null))) {\n        var comm_manager = window.comm_manager || Jupyter.notebook.kernel.comm_manager;\n        var comm = comm_manager.new_comm(comm_id, {}, {}, {}, comm_id);\n        if (msg_handler) {\n          comm.on_msg(msg_handler);\n        }\n      } else if ((plot_id in window.PyViz.kernels) && (window.PyViz.kernels[plot_id])) {\n        var comm = window.PyViz.kernels[plot_id].connectToComm(comm_id);\n        comm.open();\n        if (msg_handler) {\n          comm.onMsg = msg_handler;\n        }\n      } else if (typeof google != 'undefined' && google.colab.kernel != null) {\n        var comm_promise = google.colab.kernel.comms.open(comm_id)\n        comm_promise.then((comm) => {\n          window.PyViz.comms[comm_id] = comm;\n          if (msg_handler) {\n            var messages = comm.messages[Symbol.asyncIterator]();\n            function processIteratorResult(result) {\n              var message = result.value;\n              var content = {data: message.data};\n              var metadata = message.metadata || {comm_id};\n              var msg = {content, metadata}\n              msg_handler(msg);\n              return messages.next().then(processIteratorResult);\n            }\n            return messages.next().then(processIteratorResult);\n          }\n        }) \n        var sendClosure = (data, metadata, buffers, disposeOnDone) => {\n          return comm_promise.then((comm) => {\n            comm.send(data, metadata, buffers, disposeOnDone);\n          });\n        };\n        var comm = {\n          send: sendClosure\n        };\n      }\n      window.PyViz.comms[comm_id] = comm;\n      return comm;\n    }\n    window.PyViz.comm_manager = new JupyterCommManager();\n    \n\n\nvar JS_MIME_TYPE = 'application/javascript';\nvar HTML_MIME_TYPE = 'text/html';\nvar EXEC_MIME_TYPE = 'application/vnd.holoviews_exec.v0+json';\nvar CLASS_NAME = 'output';\n\n/**\n * Render data to the DOM node\n */\nfunction render(props, node) {\n  var div = document.createElement(\"div\");\n  var script = document.createElement(\"script\");\n  node.appendChild(div);\n  node.appendChild(script);\n}\n\n/**\n * Handle when a new output is added\n */\nfunction handle_add_output(event, handle) {\n  var output_area = handle.output_area;\n  var output = handle.output;\n  if ((output.data == undefined) || (!output.data.hasOwnProperty(EXEC_MIME_TYPE))) {\n    return\n  }\n  var id = output.metadata[EXEC_MIME_TYPE][\"id\"];\n  var toinsert = output_area.element.find(\".\" + CLASS_NAME.split(' ')[0]);\n  if (id !== undefined) {\n    var nchildren = toinsert.length;\n    var html_node = toinsert[nchildren-1].children[0];\n    html_node.innerHTML = output.data[HTML_MIME_TYPE];\n    var scripts = [];\n    var nodelist = html_node.querySelectorAll(\"script\");\n    for (var i in nodelist) {\n      if (nodelist.hasOwnProperty(i)) {\n        scripts.push(nodelist[i])\n      }\n    }\n\n    scripts.forEach( function (oldScript) {\n      var newScript = document.createElement(\"script\");\n      var attrs = [];\n      var nodemap = oldScript.attributes;\n      for (var j in nodemap) {\n        if (nodemap.hasOwnProperty(j)) {\n          attrs.push(nodemap[j])\n        }\n      }\n      attrs.forEach(function(attr) { newScript.setAttribute(attr.name, attr.value) });\n      newScript.appendChild(document.createTextNode(oldScript.innerHTML));\n      oldScript.parentNode.replaceChild(newScript, oldScript);\n    });\n    if (JS_MIME_TYPE in output.data) {\n      toinsert[nchildren-1].children[1].textContent = output.data[JS_MIME_TYPE];\n    }\n    output_area._hv_plot_id = id;\n    if ((window.Bokeh !== undefined) && (id in Bokeh.index)) {\n      window.PyViz.plot_index[id] = Bokeh.index[id];\n    } else {\n      window.PyViz.plot_index[id] = null;\n    }\n  } else if (output.metadata[EXEC_MIME_TYPE][\"server_id\"] !== undefined) {\n    var bk_div = document.createElement(\"div\");\n    bk_div.innerHTML = output.data[HTML_MIME_TYPE];\n    var script_attrs = bk_div.children[0].attributes;\n    for (var i = 0; i < script_attrs.length; i++) {\n      toinsert[toinsert.length - 1].childNodes[1].setAttribute(script_attrs[i].name, script_attrs[i].value);\n    }\n    // store reference to server id on output_area\n    output_area._bokeh_server_id = output.metadata[EXEC_MIME_TYPE][\"server_id\"];\n  }\n}\n\n/**\n * Handle when an output is cleared or removed\n */\nfunction handle_clear_output(event, handle) {\n  var id = handle.cell.output_area._hv_plot_id;\n  var server_id = handle.cell.output_area._bokeh_server_id;\n  if (((id === undefined) || !(id in PyViz.plot_index)) && (server_id !== undefined)) { return; }\n  var comm = window.PyViz.comm_manager.get_client_comm(\"hv-extension-comm\", \"hv-extension-comm\", function () {});\n  if (server_id !== null) {\n    comm.send({event_type: 'server_delete', 'id': server_id});\n    return;\n  } else if (comm !== null) {\n    comm.send({event_type: 'delete', 'id': id});\n  }\n  delete PyViz.plot_index[id];\n  if ((window.Bokeh !== undefined) & (id in window.Bokeh.index)) {\n    var doc = window.Bokeh.index[id].model.document\n    doc.clear();\n    const i = window.Bokeh.documents.indexOf(doc);\n    if (i > -1) {\n      window.Bokeh.documents.splice(i, 1);\n    }\n  }\n}\n\n/**\n * Handle kernel restart event\n */\nfunction handle_kernel_cleanup(event, handle) {\n  delete PyViz.comms[\"hv-extension-comm\"];\n  window.PyViz.plot_index = {}\n}\n\n/**\n * Handle update_display_data messages\n */\nfunction handle_update_output(event, handle) {\n  handle_clear_output(event, {cell: {output_area: handle.output_area}})\n  handle_add_output(event, handle)\n}\n\nfunction register_renderer(events, OutputArea) {\n  function append_mime(data, metadata, element) {\n    // create a DOM node to render to\n    var toinsert = this.create_output_subarea(\n    metadata,\n    CLASS_NAME,\n    EXEC_MIME_TYPE\n    );\n    this.keyboard_manager.register_events(toinsert);\n    // Render to node\n    var props = {data: data, metadata: metadata[EXEC_MIME_TYPE]};\n    render(props, toinsert[0]);\n    element.append(toinsert);\n    return toinsert\n  }\n\n  events.on('output_added.OutputArea', handle_add_output);\n  events.on('output_updated.OutputArea', handle_update_output);\n  events.on('clear_output.CodeCell', handle_clear_output);\n  events.on('delete.Cell', handle_clear_output);\n  events.on('kernel_ready.Kernel', handle_kernel_cleanup);\n\n  OutputArea.prototype.register_mime_type(EXEC_MIME_TYPE, append_mime, {\n    safe: true,\n    index: 0\n  });\n}\n\nif (window.Jupyter !== undefined) {\n  try {\n    var events = require('base/js/events');\n    var OutputArea = require('notebook/js/outputarea').OutputArea;\n    if (OutputArea.prototype.mime_types().indexOf(EXEC_MIME_TYPE) == -1) {\n      register_renderer(events, OutputArea);\n    }\n  } catch(err) {\n  }\n}\n",
      "application/vnd.holoviews_load.v0+json": ""
     },
     "metadata": {},
     "output_type": "display_data"
    },
    {
     "data": {
      "text/html": [
       "<style>*[data-root-id],\n",
       "*[data-root-id] > * {\n",
       "  box-sizing: border-box;\n",
       "  font-family: var(--jp-ui-font-family);\n",
       "  font-size: var(--jp-ui-font-size1);\n",
       "  color: var(--vscode-editor-foreground, var(--jp-ui-font-color1));\n",
       "}\n",
       "\n",
       "/* Override VSCode background color */\n",
       ".cell-output-ipywidget-background:has(\n",
       "    > .cell-output-ipywidget-background > .lm-Widget > *[data-root-id]\n",
       "  ),\n",
       ".cell-output-ipywidget-background:has(> .lm-Widget > *[data-root-id]) {\n",
       "  background-color: transparent !important;\n",
       "}\n",
       "</style>"
      ]
     },
     "metadata": {},
     "output_type": "display_data"
    }
   ],
   "source": [
    "from planetarypy.hirise import ProductPathfinder"
   ]
  },
  {
   "cell_type": "code",
   "execution_count": null,
   "id": "347708b3-e39b-454e-ade0-edb1cd9240c5",
   "metadata": {},
   "outputs": [],
   "source": [
    "ppf = ProductPathfinder(\"PSP_003092_0985_RED\")"
   ]
  },
  {
   "cell_type": "code",
   "execution_count": null,
   "id": "15a42d9c-fd92-41f6-b4ec-528e0e3ada5a",
   "metadata": {},
   "outputs": [
    {
     "data": {
      "text/plain": [
       "Path('/home/ayek72/mnt/slowdata/planetarypy/missions/mro/hirise/PSP_003092_0985/PSP_003092_0985_RED.LBL')"
      ]
     },
     "execution_count": null,
     "metadata": {},
     "output_type": "execute_result"
    }
   ],
   "source": [
    "ppf.local_label_path"
   ]
  },
  {
   "cell_type": "code",
   "execution_count": null,
   "id": "7c8f3163-c176-4ff6-9cda-70a7bad9eb56",
   "metadata": {},
   "outputs": [
    {
     "data": {
      "text/plain": [
       "Path('EXTRAS/RDR/PSP/ORB_003000_003099/PSP_003092_0985/PSP_003092_0985_RED.abrowse.jpg')"
      ]
     },
     "execution_count": null,
     "metadata": {},
     "output_type": "execute_result"
    }
   ],
   "source": [
    "ppf.abrowse_path"
   ]
  },
  {
   "cell_type": "code",
   "execution_count": null,
   "id": "eb972402-277f-46c8-82a4-8ea170e22e07",
   "metadata": {},
   "outputs": [
    {
     "data": {
      "text/plain": [
       "'https://uahirise.org/PSP_003092_0985'"
      ]
     },
     "execution_count": null,
     "metadata": {},
     "output_type": "execute_result"
    }
   ],
   "source": [
    "ppf.homepage"
   ]
  },
  {
   "cell_type": "code",
   "execution_count": null,
   "id": "c9db9caf-80c0-40c4-83d8-9aa829d126c4",
   "metadata": {},
   "outputs": [
    {
     "data": {
      "text/plain": [
       "URL('https://hirise-pds.lpl.arizona.edu/PDS/EXTRAS/RDR/PSP/ORB_003000_003099/PSP_003092_0985/PSP_003092_0985_RED.NOMAP.JP2')"
      ]
     },
     "execution_count": null,
     "metadata": {},
     "output_type": "execute_result"
    }
   ],
   "source": [
    "ppf.nomap_jp2_url"
   ]
  },
  {
   "cell_type": "code",
   "execution_count": null,
   "id": "160c0dc1-6dbe-48dc-885e-ebdd58251568",
   "metadata": {},
   "outputs": [],
   "source": [
    "from planetarypy.hirise import RGB_NOMAP"
   ]
  },
  {
   "cell_type": "code",
   "execution_count": null,
   "id": "0c700e0e-e8ed-4fb7-b5a9-759f6258c841",
   "metadata": {},
   "outputs": [],
   "source": [
    "rgb = RGB_NOMAP(\"PSP_003092_0985\")"
   ]
  },
  {
   "cell_type": "code",
   "execution_count": null,
   "id": "44610ac2-88fb-46e7-ab29-4624889130af",
   "metadata": {},
   "outputs": [
    {
     "data": {
      "text/plain": [
       "Path('/home/ayek72/mnt/slowdata/planetarypy/missions/mro/hirise/PSP_003092_0985/PSP_003092_0985_RGB.NOMAP.JP2')"
      ]
     },
     "execution_count": null,
     "metadata": {},
     "output_type": "execute_result"
    }
   ],
   "source": [
    "rgb.local_path"
   ]
  }
 ],
 "metadata": {
  "kernelspec": {
   "display_name": "python3",
   "language": "python",
   "name": "python3"
  }
 },
 "nbformat": 4,
 "nbformat_minor": 5
}
