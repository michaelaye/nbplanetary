{
 "cells": [
  {
   "cell_type": "code",
   "execution_count": 1,
   "id": "d42c66c2-9133-4789-aa24-db779ef51ebf",
   "metadata": {},
   "outputs": [],
   "source": [
    "#| default_exp pds.lroc_index"
   ]
  },
  {
   "cell_type": "markdown",
   "id": "42d06a12-10ff-4b69-bf28-dca56ae4df95",
   "metadata": {},
   "source": [
    "# LROC Index\n",
    "> LROC Index is not at a fixed URL, so need to determine dynamically."
   ]
  },
  {
   "cell_type": "code",
   "execution_count": 2,
   "id": "b9cdad61-f102-4563-989e-19d85ca8be20",
   "metadata": {},
   "outputs": [],
   "source": [
    "#| export\n",
    "import warnings\n",
    "from nbdev.showdoc import *"
   ]
  },
  {
   "cell_type": "code",
   "execution_count": 3,
   "id": "83128ca9-ccb1-4b51-a24c-7126cf49f68a",
   "metadata": {},
   "outputs": [],
   "source": [
    "#| export\n",
    "class LROCIndex:\n",
    "    def __init__(self):\n",
    "        warnings.warn(\"LROCIndex not implemented yet.\")"
   ]
  }
 ],
 "metadata": {
  "kernelspec": {
   "display_name": "Python [conda env:py310] *",
   "language": "python",
   "name": "conda-env-py310-py"
  },
  "language_info": {
   "codemirror_mode": {
    "name": "ipython",
    "version": 3
   },
   "file_extension": ".py",
   "mimetype": "text/x-python",
   "name": "python",
   "nbconvert_exporter": "python",
   "pygments_lexer": "ipython3",
   "version": "3.10.6"
  }
 },
 "nbformat": 4,
 "nbformat_minor": 5
}
