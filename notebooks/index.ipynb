{
 "cells": [
  {
   "cell_type": "code",
   "execution_count": null,
   "metadata": {},
   "outputs": [],
   "source": [
    "#hide\n",
    "from planetarypy.config import *"
   ]
  },
  {
   "cell_type": "markdown",
   "metadata": {},
   "source": [
    "# PlanetaryPy\n",
    "\n",
    "> This will become (part of) the core package of the [PlanetaryPy](https://planetarypy.org/) organisation.\n",
    "\n",
    "This is an alpha release for testing."
   ]
  },
  {
   "cell_type": "markdown",
   "metadata": {},
   "source": [
    "## Current focus\n",
    "\n",
    "* Enable finding PDS data by downloading and managing PDS3 index files\n",
    "  * Conversion of these index files to `pandas.DataFrames` for search and filtering\n",
    "* Downloading and local management of PDS3 data as identified via the index files or directly via data/product IDs."
   ]
  },
  {
   "cell_type": "markdown",
   "metadata": {},
   "source": [
    "## Install"
   ]
  },
  {
   "cell_type": "markdown",
   "metadata": {},
   "source": [
    "`pip install planetarypy`"
   ]
  }
 ],
 "metadata": {
  "kernelspec": {
   "display_name": "Python 3 (ipykernel)",
   "language": "python",
   "name": "python3"
  }
 },
 "nbformat": 4,
 "nbformat_minor": 4
}
