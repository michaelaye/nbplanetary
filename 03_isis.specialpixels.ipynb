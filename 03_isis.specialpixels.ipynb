{
 "cells": [
  {
   "cell_type": "code",
   "execution_count": null,
   "id": "average-packet",
   "metadata": {},
   "outputs": [],
   "source": [
    "#default_exp isis.specialpixels"
   ]
  },
  {
   "cell_type": "markdown",
   "id": "strong-governor",
   "metadata": {},
   "source": [
    "# Constants for Isis Special Pixels\n",
    "\n",
    "```\n",
    "    Min:  The minimum valid value for a pixel.\n",
    "    Null: Pixel has no data available.\n",
    "    Lis:  Pixel was lower bound saturated on the instrument.\n",
    "    His:  Pixel was higher bound saturated on the instrument.\n",
    "    Lrs:  Pixel was lower bound saturated during a computation.\n",
    "    Hrs:  Pixel was higher bound saturated during a computation.\n",
    "    Max:  The maximum valid value for a pixel.\n",
    "```"
   ]
  },
  {
   "cell_type": "code",
   "execution_count": null,
   "id": "irish-clearing",
   "metadata": {},
   "outputs": [
    {
     "name": "stderr",
     "output_type": "stream",
     "text": [
      "<ipython-input-3-5f67e66d38ec>:8: DeprecationWarning: The binary mode of fromstring is deprecated, as it behaves surprisingly on unicode inputs. Use frombuffer instead\n",
      "  return numpy.fromstring(num, dtype=dtype)[0]\n"
     ]
    }
   ],
   "source": [
    "#export\n",
    "import numpy\n",
    "\n",
    "__all__ = ['SPECIAL_PIXELS']\n",
    "\n",
    "\n",
    "def _make_num(num, dtype):\n",
    "    return numpy.fromstring(num, dtype=dtype)[0]\n",
    "\n",
    "\n",
    "SPECIAL_PIXELS = {\n",
    "\n",
    "    'UnsignedByte': {\n",
    "        'Min': 1,\n",
    "        'Null': 0,\n",
    "        'Lrs': 0,\n",
    "        'Lis': 0,\n",
    "        'His': 255,\n",
    "        'Hrs': 255,\n",
    "        'Max': 254\n",
    "    },\n",
    "\n",
    "    'UnsignedWord': {\n",
    "        'Min': 3,\n",
    "        'Null': 0,\n",
    "        'Lrs': 1,\n",
    "        'Lis': 2,\n",
    "        'His': 65534,\n",
    "        'Hrs': 65535,\n",
    "        'Max': 65522\n",
    "    },\n",
    "\n",
    "    'SignedWord': {\n",
    "        'Min': -32752,\n",
    "        'Null': -32768,\n",
    "        'Lrs': -32767,\n",
    "        'Lis': -32766,\n",
    "        'His': -32765,\n",
    "        'Hrs': -32764,\n",
    "        'Max': 32767\n",
    "    },\n",
    "\n",
    "    'SignedInteger': {\n",
    "        'Min': -8388614,\n",
    "        'Null': -8388613,\n",
    "        'Lrs': -8388612,\n",
    "        'Lis': -8388611,\n",
    "        'His': -8388610,\n",
    "        'Hrs': -8388609,\n",
    "        'Max': 2147483647\n",
    "    },\n",
    "\n",
    "    'Real': {\n",
    "        'Min': _make_num(b'\\xFF\\x7F\\xFF\\xFA', '>f4'),\n",
    "        'Null': _make_num(b'\\xFF\\x7F\\xFF\\xFB', '>f4'),\n",
    "        'Lrs': _make_num(b'\\xFF\\x7F\\xFF\\xFC', '>f4'),\n",
    "        'Lis': _make_num(b'\\xFF\\x7F\\xFF\\xFD', '>f4'),\n",
    "        'His': _make_num(b'\\xFF\\x7F\\xFF\\xFE', '>f4'),\n",
    "        'Hrs': _make_num(b'\\xFF\\x7F\\xFF\\xFF', '>f4'),\n",
    "        'Max': numpy.finfo('f4').max\n",
    "    },\n",
    "\n",
    "    'Double': {\n",
    "        'Min': _make_num(b'\\xFF\\xEF\\xFF\\xFF\\xFF\\xFF\\xFF\\xFA', '>f8'),\n",
    "        'Null': _make_num(b'\\xFF\\xEF\\xFF\\xFF\\xFF\\xFF\\xFF\\xFB', '>f8'),\n",
    "        'Lrs': _make_num(b'\\xFF\\xEF\\xFF\\xFF\\xFF\\xFF\\xFF\\xFC', '>f8'),\n",
    "        'Lis': _make_num(b'\\xFF\\xEF\\xFF\\xFF\\xFF\\xFF\\xFF\\xFD', '>f8'),\n",
    "        'His': _make_num(b'\\xFF\\xEF\\xFF\\xFF\\xFF\\xFF\\xFF\\xFE', '>f8'),\n",
    "        'Hrs': _make_num(b'\\xFF\\xEF\\xFF\\xFF\\xFF\\xFF\\xFF\\xFF', '>f8'),\n",
    "        'Max': numpy.finfo('f8').max\n",
    "    }\n",
    "}"
   ]
  },
  {
   "cell_type": "code",
   "execution_count": null,
   "id": "objective-fiber",
   "metadata": {},
   "outputs": [],
   "source": []
  }
 ],
 "metadata": {
  "kernelspec": {
   "display_name": "Python 3",
   "language": "python",
   "name": "python3"
  }
 },
 "nbformat": 4,
 "nbformat_minor": 5
}
