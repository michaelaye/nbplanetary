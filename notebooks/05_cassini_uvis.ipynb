{
 "cells": [
  {
   "cell_type": "code",
   "execution_count": null,
   "id": "2529bbfd-1138-4a5b-a015-11bd4d098fc9",
   "metadata": {},
   "outputs": [],
   "source": [
    "#default_exp uvis"
   ]
  },
  {
   "cell_type": "code",
   "execution_count": null,
   "id": "86b61451-d6b0-46b7-b39b-aab215c8a2fd",
   "metadata": {},
   "outputs": [],
   "source": [
    "#export\n",
    "from planetarypy.pds.opusapi import OPUS\n",
    "from planetarypy.utils import url_retrieve, have_internet\n",
    "from planetarypy.config import config\n",
    "from yarl import URL\n",
    "import tomlkit\n",
    "from fastcore.utils import Path"
   ]
  },
  {
   "cell_type": "code",
   "execution_count": null,
   "id": "e751db46-a622-4904-a217-28f399f69446",
   "metadata": {},
   "outputs": [
    {
     "data": {
      "text/plain": [
       "Path('/home/maye/big_drive/planetary_data/cassini/uvis')"
      ]
     },
     "execution_count": null,
     "metadata": {},
     "output_type": "execute_result"
    }
   ],
   "source": [
    "#export\n",
    "storage_root = config.storage_root / \"cassini/uvis\"\n",
    "storage_root"
   ]
  },
  {
   "cell_type": "code",
   "execution_count": null,
   "id": "a6546380-8c9a-4bc3-b464-6ebe6d204aa2",
   "metadata": {},
   "outputs": [],
   "source": [
    "#export \n",
    "def get_user_guide():\n",
    "    url = URL(\"https://pds-rings.seti.org/cassini/uvis/1-UVIS_Users_Guide_-2018-Jan%2015-For%20PDS-REV-2018-07-06.pdf\")\n",
    "    local_path = storage_root / \"uvis_user_guide.pdf\"\n",
    "    if not local_path.exists():\n",
    "        url_retrieve(url, storage_root / \"uvis_user_guide.pdf\")\n",
    "    return local_path"
   ]
  },
  {
   "cell_type": "code",
   "execution_count": null,
   "id": "e2f6197f-9876-4b26-ae1b-6df78519f6bc",
   "metadata": {},
   "outputs": [
    {
     "data": {
      "application/vnd.jupyter.widget-view+json": {
       "model_id": "5e12a2c60a9a477db820b7abf0a122a0",
       "version_major": 2,
       "version_minor": 0
      },
      "text/plain": [
       "uvis_user_guide.pdf\n",
       ":   0%|          | 0/19934688 [00:00<?, ?it/s]"
      ]
     },
     "metadata": {},
     "output_type": "display_data"
    },
    {
     "data": {
      "text/plain": [
       "Path('/home/maye/big_drive/planetary_data/cassini/uvis/uvis_user_guide.pdf')"
      ]
     },
     "execution_count": null,
     "metadata": {},
     "output_type": "execute_result"
    }
   ],
   "source": [
    "get_user_guide()"
   ]
  },
  {
   "cell_type": "code",
   "execution_count": null,
   "id": "571a3213-7690-476b-9cf5-84f5faefe827",
   "metadata": {},
   "outputs": [],
   "source": [
    "# export\n",
    "class DataManager:\n",
    "    def __init__(self, pid):\n",
    "        self.pid = pid\n",
    "        if not self.raw_data_path.exists():\n",
    "            self.download()\n",
    "\n",
    "    def query_pid(self, pid):\n",
    "        opus = OPUS()\n",
    "        self.query_result = opus.query_image_id(pid)[0]\n",
    "        self.opus_id = self.query_result[0]\n",
    "        self.dict = self.query_result[1]\n",
    "\n",
    "    @property\n",
    "    def pds_id(self):\n",
    "        return self.pid[:17]\n",
    "\n",
    "    @property\n",
    "    def folder(self):\n",
    "        #         return storage_root / \"/\".join(self.raw_data_url.parts[4:7])\n",
    "        return storage_root / self.pds_id\n",
    "\n",
    "    @property\n",
    "    def raw_data_url(self):\n",
    "        return URL(self.dict[\"couvis_raw\"][0])\n",
    "\n",
    "    @property\n",
    "    def raw_label_url(self):\n",
    "        return URL(self.dict[\"couvis_raw\"][1])\n",
    "\n",
    "    @property\n",
    "    def raw_data_path(self):\n",
    "        return self.folder / (self.pds_id + \".DAT\")\n",
    "\n",
    "    @property\n",
    "    def raw_label_path(self):\n",
    "        return self.raw_data_path.with_suffix(\".LBL\")\n",
    "\n",
    "    @property\n",
    "    def calib_corr_path(self):\n",
    "        return self.raw_data_path.with_name(self.raw_data_path.stem + \"_CAL_3.DAT\")\n",
    "\n",
    "    @property\n",
    "    def original_pid_file(self):\n",
    "        return self.folder / \"original_pid.txt\"\n",
    "\n",
    "    @property\n",
    "    def results_file(self):\n",
    "        return self.folder / \"urls.toml\"\n",
    "\n",
    "    def download(self, overwrite=False):\n",
    "        if self.raw_data_path.exists() and not overwrite:\n",
    "            print(\"Local files exists. Use `overwrite=True` to download fresh.\")\n",
    "            return\n",
    "        self.query_pid(self.pds_id)\n",
    "        self.original_pid_file.mk_write(self.pid)\n",
    "        self.results_file.mk_write(tomlkit.dumps(self.dict))\n",
    "        self.raw_data_path.parent.mkdir(parents=True, exist_ok=True)\n",
    "        for key in [\"couvis_raw\", \"couvis_calib_corr\"]:\n",
    "            for url in self.dict[key]:\n",
    "                url_retrieve(url, self.folder / URL(url).name)\n",
    "\n",
    "    def __repr__(self):\n",
    "        s = f\"Product ID:\\n{self.id}\\n\\n\"\n",
    "        for k, v in self.query_result[1].items():\n",
    "            s += f\"Key: {k},\\nValue(s):\\n{v}\\n\\n\"\n",
    "        return s"
   ]
  },
  {
   "cell_type": "code",
   "execution_count": null,
   "id": "4ce981f2-2d58-446f-8b8d-69d4c9e79595",
   "metadata": {},
   "outputs": [],
   "source": [
    "pid = \"EUV2002_198_03_26_54_UVIS_C33ST_SPICARAST002_PRIME\""
   ]
  },
  {
   "cell_type": "code",
   "execution_count": null,
   "id": "04fc37bd-3568-4414-865c-9830ec56ab6a",
   "metadata": {},
   "outputs": [],
   "source": [
    "pid = \"EUV2005_172_03_35\""
   ]
  },
  {
   "cell_type": "code",
   "execution_count": null,
   "id": "506928b7-a8f3-4038-bea3-49fc7e495422",
   "metadata": {},
   "outputs": [
    {
     "name": "stdout",
     "output_type": "stream",
     "text": [
      "Found 1 obsids.\n"
     ]
    },
    {
     "data": {
      "application/vnd.jupyter.widget-view+json": {
       "model_id": "7f1a17d11efe4090839dbf30326c664f",
       "version_major": 2,
       "version_minor": 0
      },
      "text/plain": [
       "EUV2005_172_03_35.DAT\n",
       ":   0%|          | 0/21495808 [00:00<?, ?it/s]"
      ]
     },
     "metadata": {},
     "output_type": "display_data"
    },
    {
     "data": {
      "application/vnd.jupyter.widget-view+json": {
       "model_id": "9558cde232384f7999a27717bf3b119c",
       "version_major": 2,
       "version_minor": 0
      },
      "text/plain": [
       "EUV2005_172_03_35.LBL\n",
       ":   0%|          | 0/4839 [00:00<?, ?it/s]"
      ]
     },
     "metadata": {},
     "output_type": "display_data"
    },
    {
     "data": {
      "application/vnd.jupyter.widget-view+json": {
       "model_id": "f4097c7207bf4d5ebc364a7033323874",
       "version_major": 2,
       "version_minor": 0
      },
      "text/plain": [
       "EUV2005_172_03_35_CAL_3.DAT\n",
       ":   0%|          | 0/262144 [00:00<?, ?it/s]"
      ]
     },
     "metadata": {},
     "output_type": "display_data"
    },
    {
     "data": {
      "application/vnd.jupyter.widget-view+json": {
       "model_id": "e1a95ffea4e64dd1938812597ce90850",
       "version_major": 2,
       "version_minor": 0
      },
      "text/plain": [
       "EUV2005_172_03_35_CAL_3.LBL\n",
       ":   0%|          | 0/13772 [00:00<?, ?it/s]"
      ]
     },
     "metadata": {},
     "output_type": "display_data"
    }
   ],
   "source": [
    "dm = DataManager(pid)"
   ]
  },
  {
   "cell_type": "code",
   "execution_count": null,
   "id": "97dc30ec-440f-4f2c-8782-2e5b7e425259",
   "metadata": {},
   "outputs": [
    {
     "data": {
      "text/plain": [
       "False"
      ]
     },
     "execution_count": null,
     "metadata": {},
     "output_type": "execute_result"
    }
   ],
   "source": [
    "dm.raw_data_path.exists()"
   ]
  },
  {
   "cell_type": "code",
   "execution_count": null,
   "id": "b1a97ac0-0ae5-4cd7-af05-781760ba8524",
   "metadata": {},
   "outputs": [],
   "source": [
    "assert dm.pid == pid"
   ]
  },
  {
   "cell_type": "markdown",
   "id": "45d11d2f-c037-4230-8fd3-24eb9f37e004",
   "metadata": {},
   "source": [
    "PDS data is only stored under the first 17 characters of any UVIS-internal product id."
   ]
  },
  {
   "cell_type": "code",
   "execution_count": null,
   "id": "300d9b27-9663-4fe4-81eb-9db1cd6a758d",
   "metadata": {},
   "outputs": [],
   "source": [
    "assert dm.pds_id == pid[:17]"
   ]
  },
  {
   "cell_type": "markdown",
   "id": "a1d67418-5adc-43e8-b28c-8e685da51f2f",
   "metadata": {},
   "source": [
    "The originally used product ID `pid` will be stored under `original_pid.txt` in the data folder:"
   ]
  },
  {
   "cell_type": "code",
   "execution_count": null,
   "id": "1b88b0de-c92f-465e-ba9a-2e657e1d4128",
   "metadata": {},
   "outputs": [
    {
     "data": {
      "text/plain": [
       "Path('/home/maye/big_drive/planetary_data/cassini/uvis/EUV2002_198_03_26/original_pid.txt')"
      ]
     },
     "execution_count": null,
     "metadata": {},
     "output_type": "execute_result"
    }
   ],
   "source": [
    "dm.original_pid_file"
   ]
  },
  {
   "cell_type": "markdown",
   "id": "6446b874-e9cb-4f5a-988e-5e91a8ae9bd8",
   "metadata": {},
   "source": [
    "Also the OPUS result file will be stored as a TOML file:"
   ]
  },
  {
   "cell_type": "code",
   "execution_count": null,
   "id": "cd09e899-e16f-45c9-8f0d-e575d0bb3a41",
   "metadata": {},
   "outputs": [
    {
     "data": {
      "text/plain": [
       "Path('/home/maye/big_drive/planetary_data/cassini/uvis/EUV2002_198_03_26/urls.toml')"
      ]
     },
     "execution_count": null,
     "metadata": {},
     "output_type": "execute_result"
    }
   ],
   "source": [
    "dm.results_file"
   ]
  },
  {
   "cell_type": "code",
   "execution_count": null,
   "id": "aa7e689c-08af-4767-bb22-cdace395718e",
   "metadata": {},
   "outputs": [
    {
     "name": "stdout",
     "output_type": "stream",
     "text": [
      "Local files exists. Use `overwrite=True` to download fresh.\n"
     ]
    }
   ],
   "source": [
    "dm.download(overwrite=False)"
   ]
  },
  {
   "cell_type": "code",
   "execution_count": null,
   "id": "6756270b-9873-4809-947f-b64fd8600b1a",
   "metadata": {},
   "outputs": [
    {
     "data": {
      "text/plain": [
       "Path('/home/maye/big_drive/planetary_data/cassini/uvis/EUV2002_198_03_26/EUV2002_198_03_26.DAT')"
      ]
     },
     "execution_count": null,
     "metadata": {},
     "output_type": "execute_result"
    }
   ],
   "source": [
    "dm.raw_data_path"
   ]
  },
  {
   "cell_type": "code",
   "execution_count": null,
   "id": "cca38f5f-cb84-4a29-acdf-d8c9a24b3a47",
   "metadata": {},
   "outputs": [
    {
     "data": {
      "text/plain": [
       "Path('/home/maye/big_drive/planetary_data/cassini/uvis/EUV2002_198_03_26/EUV2002_198_03_26_CAL_3.DAT')"
      ]
     },
     "execution_count": null,
     "metadata": {},
     "output_type": "execute_result"
    }
   ],
   "source": [
    "dm.calib_corr_path"
   ]
  },
  {
   "cell_type": "code",
   "execution_count": null,
   "id": "6e615bd2-e59b-4361-808a-8a9e4f340aaa",
   "metadata": {},
   "outputs": [],
   "source": [
    "#export\n",
    "def get_data_path(pid):\n",
    "    dm = DataManager(pid)\n",
    "    return dm.raw_data_path\n",
    "\n",
    "def get_label_path(pid):\n",
    "    dm = DataManager(pid)\n",
    "    return dm.raw_label_path"
   ]
  },
  {
   "cell_type": "code",
   "execution_count": null,
   "id": "c861c34b-4aeb-4fb7-a0f5-c3acd1751f4d",
   "metadata": {},
   "outputs": [
    {
     "data": {
      "text/plain": [
       "Path('/home/maye/big_drive/planetary_data/cassini/uvis/EUV2002_198_03_26/EUV2002_198_03_26.DAT')"
      ]
     },
     "execution_count": null,
     "metadata": {},
     "output_type": "execute_result"
    }
   ],
   "source": [
    "get_data_path(pid)"
   ]
  },
  {
   "cell_type": "code",
   "execution_count": null,
   "id": "c788dca2-cefb-41b8-8a50-8b6e324287ae",
   "metadata": {},
   "outputs": [
    {
     "data": {
      "text/plain": [
       "Path('/home/maye/big_drive/planetary_data/cassini/uvis/EUV2002_198_03_26/EUV2002_198_03_26.LBL')"
      ]
     },
     "execution_count": null,
     "metadata": {},
     "output_type": "execute_result"
    }
   ],
   "source": [
    "get_label_path(pid)"
   ]
  },
  {
   "cell_type": "code",
   "execution_count": null,
   "id": "b13055ae-0dfa-4891-8dab-39b23c65b63a",
   "metadata": {},
   "outputs": [],
   "source": []
  }
 ],
 "metadata": {
  "kernelspec": {
   "display_name": "Python [conda env:py38]",
   "language": "python",
   "name": "conda-env-py38-py"
  }
 },
 "nbformat": 4,
 "nbformat_minor": 5
}
