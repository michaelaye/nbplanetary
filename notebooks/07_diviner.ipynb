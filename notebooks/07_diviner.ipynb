{
 "cells": [
  {
   "cell_type": "code",
   "execution_count": null,
   "id": "d6681ca9-e612-4773-9c40-ec89dbd6d32d",
   "metadata": {},
   "outputs": [],
   "source": [
    "#| default_exp diviner"
   ]
  },
  {
   "cell_type": "markdown",
   "id": "be962232-8775-4b7a-b65c-5c803d557f34",
   "metadata": {},
   "source": [
    "# Diviner\n",
    "> Tools to work with Diviner PDS data"
   ]
  },
  {
   "cell_type": "code",
   "execution_count": null,
   "id": "b0b7e83b-9e8b-4cda-9834-07bedd411535",
   "metadata": {},
   "outputs": [],
   "source": [
    "#| hide\n",
    "from nbdev.showdoc import show_doc"
   ]
  },
  {
   "cell_type": "code",
   "execution_count": null,
   "id": "ff389e93-67b0-4cfb-8a43-57e6bc61265e",
   "metadata": {},
   "outputs": [],
   "source": [
    "#| export\n",
    "\n",
    "import socket\n",
    "from pathlib import Path\n",
    "\n",
    "import hvplot.xarray  # noqa\n",
    "import pandas as pd\n",
    "from planetarypy.config import config\n",
    "from planetarypy.utils import url_retrieve\n",
    "from yarl import URL"
   ]
  },
  {
   "cell_type": "code",
   "execution_count": null,
   "id": "fd693f52-0079-4903-b971-c9172756136b",
   "metadata": {},
   "outputs": [],
   "source": [
    "#| export\n",
    "hostname = socket.gethostname()\n",
    "if hostname.startswith(\"luna\") and hostname.endswith(\"diviner.ucla.edu\"):\n",
    "    storage_root = Path(\"/q/marks/feidata/DIV:opsL1A/data\")\n",
    "else:\n",
    "    storage_root = config.storage_root / \"missions/lro/diviner\""
   ]
  },
  {
   "cell_type": "code",
   "execution_count": null,
   "id": "1e496e9d-c3c8-4f72-9eca-49a674f13de7",
   "metadata": {},
   "outputs": [],
   "source": [
    "class DataManager:\n",
    "    def __init__(self, tstr):\n",
    "        self.tstr = tstr\n",
    "\n",
    "    @property\n",
    "    def year(self):\n",
    "        return self.tstr[:4]\n",
    "\n",
    "    @property\n",
    "    def yearmonth(self):\n",
    "        return self.tstr[:6]\n",
    "\n",
    "    @property\n",
    "    def yearmonthday(self):\n",
    "        return self.tstr[:8]\n",
    "\n",
    "    @property\n",
    "    def volume(self):\n",
    "        if int(self.year) <= 2016:\n",
    "            vol = 1\n",
    "        else:\n",
    "            vol = 2\n",
    "        return vol\n",
    "\n",
    "    @property\n",
    "    def base_url(self):\n",
    "        return URL(\n",
    "            f\"https://pds-geosciences.wustl.edu/lro/lro-l-dlre-2-edr-v1/lrodlr_{str(self.volume).zfill(4)}/data/\"\n",
    "        )\n",
    "\n",
    "    @property\n",
    "    def url(self):\n",
    "        return self.base_url / str(\n",
    "            Path(self.year, self.yearmonth, self.yearmonthday, f\"{self.tstr}_edr.tab\")\n",
    "        )\n",
    "\n",
    "    @property\n",
    "    def local_path(self):\n",
    "        end = self.url.parts[-4:]\n",
    "        return storage_root / Path(*end)\n",
    "\n",
    "    def download(self, overwrite=False):\n",
    "        if self.local_path.exists() and not overwrite:\n",
    "            print(\"File exists. Use `overwrite=True` to get a fresh copy.\")\n",
    "            return\n",
    "        self.local_path.parent.mkdir(parents=True, exist_ok=True)\n",
    "        url_retrieve(self.url, self.local_path)"
   ]
  },
  {
   "cell_type": "code",
   "execution_count": null,
   "id": "3aef2a15-f6a4-4112-bc5b-c418391ad43f",
   "metadata": {},
   "outputs": [],
   "source": [
    "dm = DataManager(\"2010010110\")"
   ]
  },
  {
   "cell_type": "code",
   "execution_count": null,
   "id": "7f149bf0-5329-44a8-9106-bdd892a2c101",
   "metadata": {},
   "outputs": [
    {
     "data": {
      "text/plain": [
       "Path('/home/maye/big_drive/planetary_data/missions/lro/diviner/2010/201001/20100101/2010010110_edr.tab')"
      ]
     },
     "execution_count": null,
     "metadata": {},
     "output_type": "execute_result"
    }
   ],
   "source": [
    "dm.local_path"
   ]
  },
  {
   "cell_type": "code",
   "execution_count": null,
   "id": "fd8bce10-0cad-4519-8dfa-20e63527d40b",
   "metadata": {},
   "outputs": [],
   "source": [
    "headerstring = (\n",
    "    \"Q, DATE, UTC, SCLK, SOUNDING, FROM_PKT, PKT_COUNT, SAFING, SAFED, FREEZING, FROZEN, ROLLING, DUMPING, MOVING, TEMP_FAULT,   SC_TIME_SECS,   SC_TIME_SUBS, TICKS_PKT_START, TICKS_AT_SC_TIME, OST_INDEX, EST_INDEX, SST_INDEX, LAST_AZ_CMD, LAST_EL_CMD, FPA_TEMP, FPB_TEMP, BAFFLE_A_TEMP, BAFFLE_B_TEMP, BB_1_TEMP, OBA_1_TEMP, ERROR_TIME, ERROR_ID,  ERROR_DETAIL , ERROR_COUNT, COMMANDS_RECEIVED, COMMANDS_EXECUTED, COMMANDS_REJECTED,    LAST_COMMAND_REC ,      CMD,  REQ_ID , LAST_TIME_COMMAND, LAST_EQX_PREDICTION, HYBRID_TEMP, FPA_TEMP_CYC, FPB_TEMP_CYC, BAFFLE_A_TEMP_CYC, BAFFLE_B_TEMP_CYC, OBA_1_TEMP_CYC, OBA_2_TEMP, BB_1_TEMP_CYC, BB_2_TEMP, SOLAR_TARGET_TEMP, YOKE_TEMP, EL_ACTUATOR_TEMP, AZ_ACTUATOR_TEMP,  MIN_15V, PLU_15V, SOLAR_BASE_TEMP, PLU_5V, \"\n",
    "    \"A1_01, A1_02, A1_03, A1_04, A1_05, A1_06, A1_07, A1_08, A1_09, A1_10, A1_11, A1_12, A1_13, A1_14, A1_15, A1_16, A1_17, A1_18, A1_19, A1_20, A1_21, A2_01, A2_02, A2_03, A2_04, A2_05, A2_06, A2_07, A2_08, A2_09, A2_10, A2_11, A2_12, A2_13, A2_14, A2_15, A2_16, A2_17, A2_18, A2_19, A2_20, A2_21, A3_01, A3_02, A3_03, A3_04, A3_05, A3_06, A3_07, A3_08, A3_09, A3_10, A3_11, A3_12, A3_13, A3_14, A3_15, A3_16, A3_17, A3_18, A3_19, A3_20, A3_21, A4_01, A4_02, A4_03, A4_04, A4_05, A4_06, A4_07, A4_08, A4_09, A4_10, A4_11, A4_12, A4_13, A4_14, A4_15, A4_16, A4_17, A4_18, A4_19, A4_20, A4_21, A5_01, A5_02, A5_03, A5_04, A5_05, A5_06, A5_07, A5_08, A5_09, A5_10, A5_11, A5_12, A5_13, A5_14, A5_15, A5_16, A5_17, A5_18, A5_19, A5_20, A5_21, A6_01, A6_02, A6_03, A6_04, A6_05, A6_06, A6_07, A6_08, A6_09, A6_10, A6_11, A6_12, A6_13, A6_14, A6_15, A6_16, A6_17, A6_18, A6_19, A6_20, A6_21, B1_01, B1_02, B1_03, B1_04, B1_05, B1_06, B1_07, B1_08, B1_09, B1_10, B1_11, B1_12, B1_13, B1_14, B1_15, B1_16, B1_17, B1_18, B1_19, B1_20, B1_21, B2_01, B2_02, B2_03, B2_04, B2_05, B2_06, B2_07, B2_08, B2_09, B2_10, B2_11, B2_12, B2_13, B2_14, B2_15, B2_16, B2_17, B2_18, B2_19, B2_20, B2_21, B3_01, B3_02, B3_03, B3_04, B3_05, B3_06, B3_07, B3_08, B3_09, B3_10, B3_11, B3_12, B3_13, B3_14, B3_15, B3_16, B3_17, B3_18, B3_19, B3_20, B3_21\"\n",
    ")\n",
    "\n",
    "\n",
    "def parse_header_line(line):\n",
    "    \"\"\"Parse header lines.\n",
    "\n",
    "    >>> s = ' a   b  c    '\n",
    "    >>> parse_header_line(s)\n",
    "    ['a', 'b', 'c']\n",
    "    >>> s = '  a, b  ,   c '\n",
    "    >>> parse_header_line(s)\n",
    "    ['a', 'b', 'c']\n",
    "    \"\"\"\n",
    "    line = line.strip(\"#\")\n",
    "    if \",\" in line:\n",
    "        newline = line.split(\",\")\n",
    "    else:\n",
    "        newline = line.split()\n",
    "    return [i.strip().lower() for i in newline]\n",
    "\n",
    "\n",
    "class L1AHeader:\n",
    "    # beware: parse_header_line converts to lower case!\n",
    "    columns = parse_header_line(headerstring)\n",
    "\n",
    "    tel1cols = [\n",
    "        \"a{0}_{1}\".format(i, str(j).zfill(2)) for i in range(1, 7) for j in range(1, 22)\n",
    "    ]\n",
    "    tel2cols = [\n",
    "        \"b{0}_{1}\".format(i, str(j).zfill(2)) for i in range(1, 4) for j in range(1, 22)\n",
    "    ]\n",
    "\n",
    "    datacols = tel1cols + tel2cols\n",
    "\n",
    "    metadatacols = list(set(columns) - set(datacols))\n",
    "    metadatacols.sort()\n",
    "\n",
    "\n",
    "def read_l1a_data(fname, nrows=None):\n",
    "    df = pd.io.parsers.read_csv(\n",
    "        fname,\n",
    "        names=L1AHeader.columns,\n",
    "        na_values=\"-9999\",\n",
    "        skiprows=8,\n",
    "        skipinitialspace=True,\n",
    "    )\n",
    "    return df\n",
    "    return parse_times(df)"
   ]
  },
  {
   "cell_type": "code",
   "execution_count": null,
   "id": "e3ad3f6f-4ed2-4763-9f00-9eb6f739d05e",
   "metadata": {},
   "outputs": [],
   "source": [
    "dm = DataManager(\"2010010110\")"
   ]
  },
  {
   "cell_type": "code",
   "execution_count": null,
   "id": "c385b9cd-5cb7-4de1-9015-64cdbb71fffe",
   "metadata": {},
   "outputs": [
    {
     "name": "stdout",
     "output_type": "stream",
     "text": [
      "File exists. Use `overwrite=True` to get a fresh copy.\n"
     ]
    }
   ],
   "source": [
    "dm.download()"
   ]
  },
  {
   "cell_type": "code",
   "execution_count": null,
   "id": "56c5e4a3-714a-4518-a3c8-fb021695c859",
   "metadata": {},
   "outputs": [
    {
     "data": {
      "text/plain": [
       "1"
      ]
     },
     "execution_count": null,
     "metadata": {},
     "output_type": "execute_result"
    }
   ],
   "source": [
    "dm.volume"
   ]
  },
  {
   "cell_type": "code",
   "execution_count": null,
   "id": "fd5c8d11-3f58-46d8-bbc0-99e7e6de2a3d",
   "metadata": {},
   "outputs": [
    {
     "data": {
      "text/plain": [
       "URL('https://pds-geosciences.wustl.edu/lro/lro-l-dlre-2-edr-v1/lrodlr_0001/data/2010/201001/20100101/2010010110_edr.tab')"
      ]
     },
     "execution_count": null,
     "metadata": {},
     "output_type": "execute_result"
    }
   ],
   "source": [
    "dm.url"
   ]
  },
  {
   "cell_type": "code",
   "execution_count": null,
   "id": "95a512fc-892c-4236-b6ec-750844a8ae8e",
   "metadata": {},
   "outputs": [
    {
     "data": {
      "text/html": [
       "<div>\n",
       "<style scoped>\n",
       "    .dataframe tbody tr th:only-of-type {\n",
       "        vertical-align: middle;\n",
       "    }\n",
       "\n",
       "    .dataframe tbody tr th {\n",
       "        vertical-align: top;\n",
       "    }\n",
       "\n",
       "    .dataframe thead th {\n",
       "        text-align: right;\n",
       "    }\n",
       "</style>\n",
       "<table border=\"1\" class=\"dataframe\">\n",
       "  <thead>\n",
       "    <tr style=\"text-align: right;\">\n",
       "      <th></th>\n",
       "      <th>Q</th>\n",
       "      <th>DATE</th>\n",
       "      <th>UTC</th>\n",
       "      <th>SCLK</th>\n",
       "      <th>SOUNDING</th>\n",
       "      <th>FROM_PKT</th>\n",
       "      <th>PKT_COUNT</th>\n",
       "      <th>SAFING</th>\n",
       "      <th>SAFED</th>\n",
       "      <th>FREEZING</th>\n",
       "      <th>...</th>\n",
       "      <th>B3_12</th>\n",
       "      <th>B3_13</th>\n",
       "      <th>B3_14</th>\n",
       "      <th>B3_15</th>\n",
       "      <th>B3_16</th>\n",
       "      <th>B3_17</th>\n",
       "      <th>B3_18</th>\n",
       "      <th>B3_19</th>\n",
       "      <th>B3_20</th>\n",
       "      <th>B3_21</th>\n",
       "    </tr>\n",
       "  </thead>\n",
       "  <tbody>\n",
       "    <tr>\n",
       "      <th>0</th>\n",
       "      <td>0</td>\n",
       "      <td>01-Jan-2010</td>\n",
       "      <td>10:00:00.886</td>\n",
       "      <td>2.840328e+08</td>\n",
       "      <td>1</td>\n",
       "      <td>5787</td>\n",
       "      <td>NaN</td>\n",
       "      <td>NaN</td>\n",
       "      <td>NaN</td>\n",
       "      <td>NaN</td>\n",
       "      <td>...</td>\n",
       "      <td>27534</td>\n",
       "      <td>27555</td>\n",
       "      <td>27562</td>\n",
       "      <td>27523</td>\n",
       "      <td>27544</td>\n",
       "      <td>27551</td>\n",
       "      <td>27524</td>\n",
       "      <td>27542</td>\n",
       "      <td>27574</td>\n",
       "      <td>27552</td>\n",
       "    </tr>\n",
       "    <tr>\n",
       "      <th>1</th>\n",
       "      <td>0</td>\n",
       "      <td>01-Jan-2010</td>\n",
       "      <td>10:00:01.014</td>\n",
       "      <td>2.840328e+08</td>\n",
       "      <td>2</td>\n",
       "      <td>5787</td>\n",
       "      <td>NaN</td>\n",
       "      <td>NaN</td>\n",
       "      <td>NaN</td>\n",
       "      <td>NaN</td>\n",
       "      <td>...</td>\n",
       "      <td>27534</td>\n",
       "      <td>27559</td>\n",
       "      <td>27560</td>\n",
       "      <td>27515</td>\n",
       "      <td>27544</td>\n",
       "      <td>27549</td>\n",
       "      <td>27525</td>\n",
       "      <td>27543</td>\n",
       "      <td>27573</td>\n",
       "      <td>27555</td>\n",
       "    </tr>\n",
       "    <tr>\n",
       "      <th>2</th>\n",
       "      <td>0</td>\n",
       "      <td>01-Jan-2010</td>\n",
       "      <td>10:00:01.142</td>\n",
       "      <td>2.840328e+08</td>\n",
       "      <td>3</td>\n",
       "      <td>5788</td>\n",
       "      <td>NaN</td>\n",
       "      <td>NaN</td>\n",
       "      <td>NaN</td>\n",
       "      <td>NaN</td>\n",
       "      <td>...</td>\n",
       "      <td>27535</td>\n",
       "      <td>27558</td>\n",
       "      <td>27554</td>\n",
       "      <td>27523</td>\n",
       "      <td>27542</td>\n",
       "      <td>27548</td>\n",
       "      <td>27529</td>\n",
       "      <td>27542</td>\n",
       "      <td>27574</td>\n",
       "      <td>27556</td>\n",
       "    </tr>\n",
       "    <tr>\n",
       "      <th>3</th>\n",
       "      <td>0</td>\n",
       "      <td>01-Jan-2010</td>\n",
       "      <td>10:00:01.270</td>\n",
       "      <td>2.840328e+08</td>\n",
       "      <td>4</td>\n",
       "      <td>5788</td>\n",
       "      <td>NaN</td>\n",
       "      <td>NaN</td>\n",
       "      <td>NaN</td>\n",
       "      <td>NaN</td>\n",
       "      <td>...</td>\n",
       "      <td>27536</td>\n",
       "      <td>27558</td>\n",
       "      <td>27553</td>\n",
       "      <td>27514</td>\n",
       "      <td>27545</td>\n",
       "      <td>27555</td>\n",
       "      <td>27526</td>\n",
       "      <td>27545</td>\n",
       "      <td>27576</td>\n",
       "      <td>27551</td>\n",
       "    </tr>\n",
       "    <tr>\n",
       "      <th>4</th>\n",
       "      <td>0</td>\n",
       "      <td>01-Jan-2010</td>\n",
       "      <td>10:00:01.398</td>\n",
       "      <td>2.840328e+08</td>\n",
       "      <td>5</td>\n",
       "      <td>5789</td>\n",
       "      <td>NaN</td>\n",
       "      <td>NaN</td>\n",
       "      <td>NaN</td>\n",
       "      <td>NaN</td>\n",
       "      <td>...</td>\n",
       "      <td>27536</td>\n",
       "      <td>27558</td>\n",
       "      <td>27556</td>\n",
       "      <td>27515</td>\n",
       "      <td>27548</td>\n",
       "      <td>27551</td>\n",
       "      <td>27529</td>\n",
       "      <td>27542</td>\n",
       "      <td>27576</td>\n",
       "      <td>27550</td>\n",
       "    </tr>\n",
       "  </tbody>\n",
       "</table>\n",
       "<p>5 rows × 283 columns</p>\n",
       "</div>"
      ],
      "text/plain": [
       "   Q DATE         UTC                    SCLK  SOUNDING  FROM_PKT  PKT_COUNT  \\\n",
       "0  0  01-Jan-2010  10:00:00.886  2.840328e+08         1      5787        NaN   \n",
       "1  0  01-Jan-2010  10:00:01.014  2.840328e+08         2      5787        NaN   \n",
       "2  0  01-Jan-2010  10:00:01.142  2.840328e+08         3      5788        NaN   \n",
       "3  0  01-Jan-2010  10:00:01.270  2.840328e+08         4      5788        NaN   \n",
       "4  0  01-Jan-2010  10:00:01.398  2.840328e+08         5      5789        NaN   \n",
       "\n",
       "   SAFING  SAFED  FREEZING  ...  B3_12  B3_13  B3_14  B3_15  B3_16  B3_17  \\\n",
       "0     NaN    NaN       NaN  ...  27534  27555  27562  27523  27544  27551   \n",
       "1     NaN    NaN       NaN  ...  27534  27559  27560  27515  27544  27549   \n",
       "2     NaN    NaN       NaN  ...  27535  27558  27554  27523  27542  27548   \n",
       "3     NaN    NaN       NaN  ...  27536  27558  27553  27514  27545  27555   \n",
       "4     NaN    NaN       NaN  ...  27536  27558  27556  27515  27548  27551   \n",
       "\n",
       "   B3_18  B3_19  B3_20  B3_21  \n",
       "0  27524  27542  27574  27552  \n",
       "1  27525  27543  27573  27555  \n",
       "2  27529  27542  27574  27556  \n",
       "3  27526  27545  27576  27551  \n",
       "4  27529  27542  27576  27550  \n",
       "\n",
       "[5 rows x 283 columns]"
      ]
     },
     "execution_count": null,
     "metadata": {},
     "output_type": "execute_result"
    }
   ],
   "source": [
    "df = pd.read_csv(\n",
    "    dm.local_path,\n",
    "    comment=\"#\",\n",
    "    # names=L1AHeader.columns,\n",
    "    na_values=\"-9999\",\n",
    "    skipinitialspace=True,\n",
    ")\n",
    "df.head()"
   ]
  },
  {
   "cell_type": "code",
   "execution_count": null,
   "id": "36311f10-afb4-4792-8db3-5e51f6d26a17",
   "metadata": {},
   "outputs": [],
   "source": [
    "pd.set_option(\"display.max_columns\", 200)"
   ]
  },
  {
   "cell_type": "code",
   "execution_count": null,
   "id": "6b7faee1-55c7-49ef-aa3f-a11e50f6db72",
   "metadata": {},
   "outputs": [
    {
     "data": {
      "text/plain": [
       "RangeIndex(start=0, stop=28128, step=1)"
      ]
     },
     "execution_count": null,
     "metadata": {},
     "output_type": "execute_result"
    }
   ],
   "source": [
    "df.index"
   ]
  },
  {
   "cell_type": "code",
   "execution_count": null,
   "id": "8a1e3d8f-80c5-477a-9404-b6a5ef83c0c2",
   "metadata": {},
   "outputs": [
    {
     "data": {
      "text/plain": [
       "Path('/home/maye/big_drive/planetary_data/missions/lro/diviner/2010/201001/20100101/2010010110_edr.tab')"
      ]
     },
     "execution_count": null,
     "metadata": {},
     "output_type": "execute_result"
    }
   ],
   "source": [
    "dm.local_path"
   ]
  },
  {
   "cell_type": "code",
   "execution_count": null,
   "id": "19fca71f-4d92-48fd-8d0e-c1f568da47c3",
   "metadata": {},
   "outputs": [],
   "source": [
    "#| export\n",
    "def get_data_path(tstr):\n",
    "    dm = DataManager(tstr)\n",
    "    if not dm.local_path.exists():\n",
    "        dm.download()\n",
    "    return dm.local_path"
   ]
  },
  {
   "cell_type": "code",
   "execution_count": null,
   "id": "d68b850b-1bef-4605-b4a2-102773122e24",
   "metadata": {},
   "outputs": [
    {
     "data": {
      "text/plain": [
       "Path('/home/maye/big_drive/planetary_data/missions/lro/diviner/2017/201701/20170101/2017010110_edr.tab')"
      ]
     },
     "execution_count": null,
     "metadata": {},
     "output_type": "execute_result"
    }
   ],
   "source": [
    "get_data_path(\"2017010110\")"
   ]
  },
  {
   "cell_type": "code",
   "execution_count": null,
   "id": "ae50a580-0626-4c9a-b0f1-bf3efc608ca3",
   "metadata": {},
   "outputs": [],
   "source": []
  }
 ],
 "metadata": {
  "kernelspec": {
   "display_name": "Python [conda env:py38] *",
   "language": "python",
   "name": "conda-env-py38-py"
  }
 },
 "nbformat": 4,
 "nbformat_minor": 5
}
